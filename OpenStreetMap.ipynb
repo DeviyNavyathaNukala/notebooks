{
 "metadata": {
  "name": "",
  "signature": "sha256:40317666eb494d64c86e39168847c08797de6b117d7b3e5e80d7d86872bcc998"
 },
 "nbformat": 3,
 "nbformat_minor": 0,
 "worksheets": [
  {
   "cells": [
    {
     "cell_type": "code",
     "collapsed": false,
     "input": [
      "import requests as rq"
     ],
     "language": "python",
     "metadata": {},
     "outputs": [],
     "prompt_number": 1
    },
    {
     "cell_type": "code",
     "collapsed": false,
     "input": [
      "osm = rq.get('http://overpass-api.de/api/map?bbox=9.02485,56.12864,9.02747,56.12994')"
     ],
     "language": "python",
     "metadata": {},
     "outputs": [],
     "prompt_number": 2
    },
    {
     "cell_type": "code",
     "collapsed": false,
     "input": [
      "from lxml import etree"
     ],
     "language": "python",
     "metadata": {},
     "outputs": [],
     "prompt_number": 3
    },
    {
     "cell_type": "code",
     "collapsed": false,
     "input": [
      "root = etree.fromstring(osm.content)"
     ],
     "language": "python",
     "metadata": {},
     "outputs": [],
     "prompt_number": 4
    },
    {
     "cell_type": "code",
     "collapsed": false,
     "input": [
      "nodes_on_roads = root.xpath('way/nd[@ref]')\n",
      "nodes = [root.xpath('node[@id={}]'.format(x.attrib['ref']))[0] for x in nodes_on_roads]\n",
      "pos = [(x.attrib['lat'],x.attrib['lon']) for x in nodes]\n",
      "nodes_on_roads[0].attrib\n",
      "len(nodes_on_roads)"
     ],
     "language": "python",
     "metadata": {},
     "outputs": [
      {
       "metadata": {},
       "output_type": "pyout",
       "prompt_number": 14,
       "text": [
        "105"
       ]
      }
     ],
     "prompt_number": 14
    },
    {
     "cell_type": "code",
     "collapsed": true,
     "input": [
      "from math import atan2\n",
      "from pandas import DataFrame\n",
      "import datetime\n",
      "\n",
      "def rad(angle):\n",
      "    return angle/180*pi\n",
      "\n",
      "def haversine(*args):\n",
      "\t# a = sin\u00b2(\u0394\u03c6/2) + cos(\u03c61).cos(\u03c62).sin\u00b2(\u0394\u03bb/2)\n",
      "    # c = 2.atan2(\u221aa, \u221a(1\u2212a))\n",
      "    # d = R.c\n",
      "    # d er i kilometer?\n",
      "    R = 6371 #km\n",
      "    lat, lon, lat1, lon1 = map(rad, args)\n",
      "    dlat = lat1 - lat\n",
      "    dlon = lon1 - lon\n",
      "    a = sin(dlat/2)**2 + cos(lat)*cos(lat1)*sin(dlon/2)**2\n",
      "    c = 2*atan2(sqrt(a),sqrt(1-a))\n",
      "    d = R*c\n",
      "    return d"
     ],
     "language": "python",
     "metadata": {},
     "outputs": [],
     "prompt_number": 12
    },
    {
     "cell_type": "markdown",
     "metadata": {},
     "source": [
      "$f \\le 0$\n",
      "\n",
      "$g \\le 0$\n",
      "\n",
      "$f \\le y*M$\n",
      "\n",
      "$g \\le (1-y)*M$"
     ]
    },
    {
     "cell_type": "markdown",
     "metadata": {},
     "source": [
      "$\\sum\\limits_{i=0}^{N}{x_i} \\ge 1$\n",
      "$\\sum\\limits_{i=0}^{N}{x_i} \\le 1$\n",
      "$\\sum\\limits_{i=0}^{N}{x_i} = 1$"
     ]
    },
    {
     "cell_type": "code",
     "collapsed": false,
     "input": [],
     "language": "python",
     "metadata": {},
     "outputs": [],
     "prompt_number": 14
    },
    {
     "cell_type": "code",
     "collapsed": false,
     "input": [],
     "language": "python",
     "metadata": {},
     "outputs": []
    }
   ],
   "metadata": {}
  }
 ]
}