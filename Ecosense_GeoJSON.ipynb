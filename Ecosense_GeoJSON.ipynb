{
 "cells": [
  {
   "cell_type": "code",
   "execution_count": 46,
   "metadata": {
    "collapsed": true,
    "deletable": true,
    "editable": true
   },
   "outputs": [],
   "source": [
    "import IPython\n",
    "import json\n",
    "from ipyleaflet import GeoJSON,Map,CircleMarker,Circle,Marker\n",
    "\n",
    "def geojson(data):\n",
    "  bundle = {}\n",
    "  bundle['application/geo+json'] = data\n",
    "  IPython.display.display(bundle, raw=True)"
   ]
  },
  {
   "cell_type": "code",
   "execution_count": 6,
   "metadata": {
    "collapsed": true,
    "deletable": true,
    "editable": true
   },
   "outputs": [],
   "source": [
    "data = {\"type\":\"FeatureCollection\",\"features\":[{\"type\":\"Feature\",\"properties\":{},\"geometry\":{\"type\":\"Point\",\"coordinates\":[-77.02827,38.91427]}}]}\n",
    "template = '{\"type\":\"Feature\",\"properties\":{\"color\":\"#990000\", \"weight\": 1, \"fillColor\":\"#990000\", \"fillOpacity\":0.5},\"geometry\":{\"type\":\"Point\",\"coordinates\":[%s,%s]}}'\n",
    "workdir = '/Users/alehmann/Documents/Documents/HIH/phd_application/papers/IMWUT2017/data/'"
   ]
  },
  {
   "cell_type": "code",
   "execution_count": 7,
   "metadata": {
    "collapsed": true,
    "deletable": true,
    "editable": true
   },
   "outputs": [],
   "source": [
    "with open(workdir+'Herning_1_O.json') as f:\n",
    "    dat = f.read()\n",
    "    dat = '\\n'.join(dat.split('\\n')[2:])\n",
    "    dat = dat[::-1].replace(',','',1)\n",
    "    dat = dat[::-1]\n",
    "    js_dat = json.loads(dat)"
   ]
  },
  {
   "cell_type": "code",
   "execution_count": 73,
   "metadata": {
    "collapsed": false,
    "deletable": true,
    "editable": true
   },
   "outputs": [],
   "source": [
    "points = []\n",
    "points_ = []\n",
    "N = 1000\n",
    "for res in js_dat['results'][N:2*N]:\n",
    "    temp_ = Circle(location=[float(x) for x in res['_id'].split(',')], radius=30, weight=2,\n",
    "                  color='#F00', opacity=1.0, fill_opacity=1.0,\n",
    "                  fill_color='#0F0')\n",
    "    temp = template%tuple(res['_id'].split(',')[::-1])\n",
    "    points_.append(temp_)\n",
    "    points.append(json.loads(temp))\n",
    "data[\"features\"] = points"
   ]
  },
  {
   "cell_type": "code",
   "execution_count": 5,
   "metadata": {
    "collapsed": false,
    "deletable": true,
    "editable": true
   },
   "outputs": [
    {
     "data": {
      "application/geo+json": {
       "features": [
        {
         "geometry": {
          "coordinates": [
           -8.6606,
           50.4365
          ],
          "type": "Point"
         },
         "properties": {
          "color": "#990000",
          "fillColor": "#990000",
          "fillOpacity": 0.5,
          "weight": 1
         },
         "type": "Feature"
        },
        {
         "geometry": {
          "coordinates": [
           -0.2297,
           51.4926
          ],
          "type": "Point"
         },
         "properties": {
          "color": "#990000",
          "fillColor": "#990000",
          "fillOpacity": 0.5,
          "weight": 1
         },
         "type": "Feature"
        },
        {
         "geometry": {
          "coordinates": [
           9.553,
           54.528
          ],
          "type": "Point"
         },
         "properties": {
          "color": "#990000",
          "fillColor": "#990000",
          "fillOpacity": 0.5,
          "weight": 1
         },
         "type": "Feature"
        },
        {
         "geometry": {
          "coordinates": [
           9.3482,
           55.7379
          ],
          "type": "Point"
         },
         "properties": {
          "color": "#990000",
          "fillColor": "#990000",
          "fillOpacity": 0.5,
          "weight": 1
         },
         "type": "Feature"
        },
        {
         "geometry": {
          "coordinates": [
           9.1494,
           55.7694
          ],
          "type": "Point"
         },
         "properties": {
          "color": "#990000",
          "fillColor": "#990000",
          "fillOpacity": 0.5,
          "weight": 1
         },
         "type": "Feature"
        },
        {
         "geometry": {
          "coordinates": [
           9.5672,
           55.7701
          ],
          "type": "Point"
         },
         "properties": {
          "color": "#990000",
          "fillColor": "#990000",
          "fillOpacity": 0.5,
          "weight": 1
         },
         "type": "Feature"
        },
        {
         "geometry": {
          "coordinates": [
           9.1589,
           55.7745
          ],
          "type": "Point"
         },
         "properties": {
          "color": "#990000",
          "fillColor": "#990000",
          "fillOpacity": 0.5,
          "weight": 1
         },
         "type": "Feature"
        },
        {
         "geometry": {
          "coordinates": [
           9.2488,
           55.8253
          ],
          "type": "Point"
         },
         "properties": {
          "color": "#990000",
          "fillColor": "#990000",
          "fillOpacity": 0.5,
          "weight": 1
         },
         "type": "Feature"
        },
        {
         "geometry": {
          "coordinates": [
           9.2536,
           55.8266
          ],
          "type": "Point"
         },
         "properties": {
          "color": "#990000",
          "fillColor": "#990000",
          "fillOpacity": 0.5,
          "weight": 1
         },
         "type": "Feature"
        },
        {
         "geometry": {
          "coordinates": [
           9.5165,
           55.8309
          ],
          "type": "Point"
         },
         "properties": {
          "color": "#990000",
          "fillColor": "#990000",
          "fillOpacity": 0.5,
          "weight": 1
         },
         "type": "Feature"
        },
        {
         "geometry": {
          "coordinates": [
           9.4887,
           55.8322
          ],
          "type": "Point"
         },
         "properties": {
          "color": "#990000",
          "fillColor": "#990000",
          "fillOpacity": 0.5,
          "weight": 1
         },
         "type": "Feature"
        },
        {
         "geometry": {
          "coordinates": [
           9.3109,
           55.8331
          ],
          "type": "Point"
         },
         "properties": {
          "color": "#990000",
          "fillColor": "#990000",
          "fillOpacity": 0.5,
          "weight": 1
         },
         "type": "Feature"
        },
        {
         "geometry": {
          "coordinates": [
           8.7558,
           55.8561
          ],
          "type": "Point"
         },
         "properties": {
          "color": "#990000",
          "fillColor": "#990000",
          "fillOpacity": 0.5,
          "weight": 1
         },
         "type": "Feature"
        },
        {
         "geometry": {
          "coordinates": [
           9.2603,
           55.858
          ],
          "type": "Point"
         },
         "properties": {
          "color": "#990000",
          "fillColor": "#990000",
          "fillOpacity": 0.5,
          "weight": 1
         },
         "type": "Feature"
        },
        {
         "geometry": {
          "coordinates": [
           8.7669,
           55.863
          ],
          "type": "Point"
         },
         "properties": {
          "color": "#990000",
          "fillColor": "#990000",
          "fillOpacity": 0.5,
          "weight": 1
         },
         "type": "Feature"
        },
        {
         "geometry": {
          "coordinates": [
           9.2415,
           55.8715
          ],
          "type": "Point"
         },
         "properties": {
          "color": "#990000",
          "fillColor": "#990000",
          "fillOpacity": 0.5,
          "weight": 1
         },
         "type": "Feature"
        },
        {
         "geometry": {
          "coordinates": [
           8.7869,
           55.8797
          ],
          "type": "Point"
         },
         "properties": {
          "color": "#990000",
          "fillColor": "#990000",
          "fillOpacity": 0.5,
          "weight": 1
         },
         "type": "Feature"
        },
        {
         "geometry": {
          "coordinates": [
           9.2178,
           55.8911
          ],
          "type": "Point"
         },
         "properties": {
          "color": "#990000",
          "fillColor": "#990000",
          "fillOpacity": 0.5,
          "weight": 1
         },
         "type": "Feature"
        },
        {
         "geometry": {
          "coordinates": [
           9.217,
           55.8934
          ],
          "type": "Point"
         },
         "properties": {
          "color": "#990000",
          "fillColor": "#990000",
          "fillOpacity": 0.5,
          "weight": 1
         },
         "type": "Feature"
        },
        {
         "geometry": {
          "coordinates": [
           9.167,
           55.9232
          ],
          "type": "Point"
         },
         "properties": {
          "color": "#990000",
          "fillColor": "#990000",
          "fillOpacity": 0.5,
          "weight": 1
         },
         "type": "Feature"
        },
        {
         "geometry": {
          "coordinates": [
           8.7946,
           55.9249
          ],
          "type": "Point"
         },
         "properties": {
          "color": "#990000",
          "fillColor": "#990000",
          "fillOpacity": 0.5,
          "weight": 1
         },
         "type": "Feature"
        },
        {
         "geometry": {
          "coordinates": [
           9.1636,
           55.9291
          ],
          "type": "Point"
         },
         "properties": {
          "color": "#990000",
          "fillColor": "#990000",
          "fillOpacity": 0.5,
          "weight": 1
         },
         "type": "Feature"
        },
        {
         "geometry": {
          "coordinates": [
           9.1633,
           55.9296
          ],
          "type": "Point"
         },
         "properties": {
          "color": "#990000",
          "fillColor": "#990000",
          "fillOpacity": 0.5,
          "weight": 1
         },
         "type": "Feature"
        },
        {
         "geometry": {
          "coordinates": [
           8.788,
           55.9297
          ],
          "type": "Point"
         },
         "properties": {
          "color": "#990000",
          "fillColor": "#990000",
          "fillOpacity": 0.5,
          "weight": 1
         },
         "type": "Feature"
        },
        {
         "geometry": {
          "coordinates": [
           8.8049,
           55.9314
          ],
          "type": "Point"
         },
         "properties": {
          "color": "#990000",
          "fillColor": "#990000",
          "fillOpacity": 0.5,
          "weight": 1
         },
         "type": "Feature"
        },
        {
         "geometry": {
          "coordinates": [
           8.8019,
           55.9322
          ],
          "type": "Point"
         },
         "properties": {
          "color": "#990000",
          "fillColor": "#990000",
          "fillOpacity": 0.5,
          "weight": 1
         },
         "type": "Feature"
        },
        {
         "geometry": {
          "coordinates": [
           9.162,
           55.9352
          ],
          "type": "Point"
         },
         "properties": {
          "color": "#990000",
          "fillColor": "#990000",
          "fillOpacity": 0.5,
          "weight": 1
         },
         "type": "Feature"
        },
        {
         "geometry": {
          "coordinates": [
           9.1603,
           55.9381
          ],
          "type": "Point"
         },
         "properties": {
          "color": "#990000",
          "fillColor": "#990000",
          "fillOpacity": 0.5,
          "weight": 1
         },
         "type": "Feature"
        },
        {
         "geometry": {
          "coordinates": [
           8.7898,
           55.9385
          ],
          "type": "Point"
         },
         "properties": {
          "color": "#990000",
          "fillColor": "#990000",
          "fillOpacity": 0.5,
          "weight": 1
         },
         "type": "Feature"
        },
        {
         "geometry": {
          "coordinates": [
           9.1187,
           55.9393
          ],
          "type": "Point"
         },
         "properties": {
          "color": "#990000",
          "fillColor": "#990000",
          "fillOpacity": 0.5,
          "weight": 1
         },
         "type": "Feature"
        },
        {
         "geometry": {
          "coordinates": [
           9.1604,
           55.9393
          ],
          "type": "Point"
         },
         "properties": {
          "color": "#990000",
          "fillColor": "#990000",
          "fillOpacity": 0.5,
          "weight": 1
         },
         "type": "Feature"
        },
        {
         "geometry": {
          "coordinates": [
           9.1187,
           55.9394
          ],
          "type": "Point"
         },
         "properties": {
          "color": "#990000",
          "fillColor": "#990000",
          "fillOpacity": 0.5,
          "weight": 1
         },
         "type": "Feature"
        },
        {
         "geometry": {
          "coordinates": [
           8.7808,
           55.9414
          ],
          "type": "Point"
         },
         "properties": {
          "color": "#990000",
          "fillColor": "#990000",
          "fillOpacity": 0.5,
          "weight": 1
         },
         "type": "Feature"
        },
        {
         "geometry": {
          "coordinates": [
           9.1365,
           55.9422
          ],
          "type": "Point"
         },
         "properties": {
          "color": "#990000",
          "fillColor": "#990000",
          "fillOpacity": 0.5,
          "weight": 1
         },
         "type": "Feature"
        },
        {
         "geometry": {
          "coordinates": [
           9.1384,
           55.9429
          ],
          "type": "Point"
         },
         "properties": {
          "color": "#990000",
          "fillColor": "#990000",
          "fillOpacity": 0.5,
          "weight": 1
         },
         "type": "Feature"
        },
        {
         "geometry": {
          "coordinates": [
           9.1257,
           55.9433
          ],
          "type": "Point"
         },
         "properties": {
          "color": "#990000",
          "fillColor": "#990000",
          "fillOpacity": 0.5,
          "weight": 1
         },
         "type": "Feature"
        },
        {
         "geometry": {
          "coordinates": [
           9.125,
           55.9448
          ],
          "type": "Point"
         },
         "properties": {
          "color": "#990000",
          "fillColor": "#990000",
          "fillOpacity": 0.5,
          "weight": 1
         },
         "type": "Feature"
        },
        {
         "geometry": {
          "coordinates": [
           9.1609,
           55.946
          ],
          "type": "Point"
         },
         "properties": {
          "color": "#990000",
          "fillColor": "#990000",
          "fillOpacity": 0.5,
          "weight": 1
         },
         "type": "Feature"
        },
        {
         "geometry": {
          "coordinates": [
           9.1445,
           55.9466
          ],
          "type": "Point"
         },
         "properties": {
          "color": "#990000",
          "fillColor": "#990000",
          "fillOpacity": 0.5,
          "weight": 1
         },
         "type": "Feature"
        },
        {
         "geometry": {
          "coordinates": [
           9.1552,
           55.9472
          ],
          "type": "Point"
         },
         "properties": {
          "color": "#990000",
          "fillColor": "#990000",
          "fillOpacity": 0.5,
          "weight": 1
         },
         "type": "Feature"
        },
        {
         "geometry": {
          "coordinates": [
           8.8,
           55.9473
          ],
          "type": "Point"
         },
         "properties": {
          "color": "#990000",
          "fillColor": "#990000",
          "fillOpacity": 0.5,
          "weight": 1
         },
         "type": "Feature"
        },
        {
         "geometry": {
          "coordinates": [
           9.1496,
           55.9478
          ],
          "type": "Point"
         },
         "properties": {
          "color": "#990000",
          "fillColor": "#990000",
          "fillOpacity": 0.5,
          "weight": 1
         },
         "type": "Feature"
        },
        {
         "geometry": {
          "coordinates": [
           9.1532,
           55.9484
          ],
          "type": "Point"
         },
         "properties": {
          "color": "#990000",
          "fillColor": "#990000",
          "fillOpacity": 0.5,
          "weight": 1
         },
         "type": "Feature"
        },
        {
         "geometry": {
          "coordinates": [
           8.809,
           55.949
          ],
          "type": "Point"
         },
         "properties": {
          "color": "#990000",
          "fillColor": "#990000",
          "fillOpacity": 0.5,
          "weight": 1
         },
         "type": "Feature"
        },
        {
         "geometry": {
          "coordinates": [
           9.1404,
           55.9508
          ],
          "type": "Point"
         },
         "properties": {
          "color": "#990000",
          "fillColor": "#990000",
          "fillOpacity": 0.5,
          "weight": 1
         },
         "type": "Feature"
        },
        {
         "geometry": {
          "coordinates": [
           8.7975,
           55.951
          ],
          "type": "Point"
         },
         "properties": {
          "color": "#990000",
          "fillColor": "#990000",
          "fillOpacity": 0.5,
          "weight": 1
         },
         "type": "Feature"
        },
        {
         "geometry": {
          "coordinates": [
           9.1468,
           55.9526
          ],
          "type": "Point"
         },
         "properties": {
          "color": "#990000",
          "fillColor": "#990000",
          "fillOpacity": 0.5,
          "weight": 1
         },
         "type": "Feature"
        },
        {
         "geometry": {
          "coordinates": [
           8.799,
           55.9527
          ],
          "type": "Point"
         },
         "properties": {
          "color": "#990000",
          "fillColor": "#990000",
          "fillOpacity": 0.5,
          "weight": 1
         },
         "type": "Feature"
        },
        {
         "geometry": {
          "coordinates": [
           9.0795,
           55.9529
          ],
          "type": "Point"
         },
         "properties": {
          "color": "#990000",
          "fillColor": "#990000",
          "fillOpacity": 0.5,
          "weight": 1
         },
         "type": "Feature"
        },
        {
         "geometry": {
          "coordinates": [
           9.1011,
           55.953
          ],
          "type": "Point"
         },
         "properties": {
          "color": "#990000",
          "fillColor": "#990000",
          "fillOpacity": 0.5,
          "weight": 1
         },
         "type": "Feature"
        },
        {
         "geometry": {
          "coordinates": [
           9.114,
           55.9532
          ],
          "type": "Point"
         },
         "properties": {
          "color": "#990000",
          "fillColor": "#990000",
          "fillOpacity": 0.5,
          "weight": 1
         },
         "type": "Feature"
        },
        {
         "geometry": {
          "coordinates": [
           9.1015,
           55.9555
          ],
          "type": "Point"
         },
         "properties": {
          "color": "#990000",
          "fillColor": "#990000",
          "fillOpacity": 0.5,
          "weight": 1
         },
         "type": "Feature"
        },
        {
         "geometry": {
          "coordinates": [
           9.1231,
           55.9558
          ],
          "type": "Point"
         },
         "properties": {
          "color": "#990000",
          "fillColor": "#990000",
          "fillOpacity": 0.5,
          "weight": 1
         },
         "type": "Feature"
        },
        {
         "geometry": {
          "coordinates": [
           9.1377,
           55.956
          ],
          "type": "Point"
         },
         "properties": {
          "color": "#990000",
          "fillColor": "#990000",
          "fillOpacity": 0.5,
          "weight": 1
         },
         "type": "Feature"
        },
        {
         "geometry": {
          "coordinates": [
           9.1221,
           55.9562
          ],
          "type": "Point"
         },
         "properties": {
          "color": "#990000",
          "fillColor": "#990000",
          "fillOpacity": 0.5,
          "weight": 1
         },
         "type": "Feature"
        },
        {
         "geometry": {
          "coordinates": [
           9.1174,
           55.9564
          ],
          "type": "Point"
         },
         "properties": {
          "color": "#990000",
          "fillColor": "#990000",
          "fillOpacity": 0.5,
          "weight": 1
         },
         "type": "Feature"
        },
        {
         "geometry": {
          "coordinates": [
           9.1205,
           55.9564
          ],
          "type": "Point"
         },
         "properties": {
          "color": "#990000",
          "fillColor": "#990000",
          "fillOpacity": 0.5,
          "weight": 1
         },
         "type": "Feature"
        },
        {
         "geometry": {
          "coordinates": [
           9.1341,
           55.9569
          ],
          "type": "Point"
         },
         "properties": {
          "color": "#990000",
          "fillColor": "#990000",
          "fillOpacity": 0.5,
          "weight": 1
         },
         "type": "Feature"
        },
        {
         "geometry": {
          "coordinates": [
           9.1065,
           55.9584
          ],
          "type": "Point"
         },
         "properties": {
          "color": "#990000",
          "fillColor": "#990000",
          "fillOpacity": 0.5,
          "weight": 1
         },
         "type": "Feature"
        },
        {
         "geometry": {
          "coordinates": [
           9.1244,
           55.9585
          ],
          "type": "Point"
         },
         "properties": {
          "color": "#990000",
          "fillColor": "#990000",
          "fillOpacity": 0.5,
          "weight": 1
         },
         "type": "Feature"
        },
        {
         "geometry": {
          "coordinates": [
           9.1197,
           55.9589
          ],
          "type": "Point"
         },
         "properties": {
          "color": "#990000",
          "fillColor": "#990000",
          "fillOpacity": 0.5,
          "weight": 1
         },
         "type": "Feature"
        },
        {
         "geometry": {
          "coordinates": [
           9.121,
           55.9589
          ],
          "type": "Point"
         },
         "properties": {
          "color": "#990000",
          "fillColor": "#990000",
          "fillOpacity": 0.5,
          "weight": 1
         },
         "type": "Feature"
        },
        {
         "geometry": {
          "coordinates": [
           9.1135,
           55.96
          ],
          "type": "Point"
         },
         "properties": {
          "color": "#990000",
          "fillColor": "#990000",
          "fillOpacity": 0.5,
          "weight": 1
         },
         "type": "Feature"
        },
        {
         "geometry": {
          "coordinates": [
           9.1049,
           55.9612
          ],
          "type": "Point"
         },
         "properties": {
          "color": "#990000",
          "fillColor": "#990000",
          "fillOpacity": 0.5,
          "weight": 1
         },
         "type": "Feature"
        },
        {
         "geometry": {
          "coordinates": [
           9.1088,
           55.9615
          ],
          "type": "Point"
         },
         "properties": {
          "color": "#990000",
          "fillColor": "#990000",
          "fillOpacity": 0.5,
          "weight": 1
         },
         "type": "Feature"
        },
        {
         "geometry": {
          "coordinates": [
           9.104,
           55.9616
          ],
          "type": "Point"
         },
         "properties": {
          "color": "#990000",
          "fillColor": "#990000",
          "fillOpacity": 0.5,
          "weight": 1
         },
         "type": "Feature"
        },
        {
         "geometry": {
          "coordinates": [
           9.1073,
           55.962
          ],
          "type": "Point"
         },
         "properties": {
          "color": "#990000",
          "fillColor": "#990000",
          "fillOpacity": 0.5,
          "weight": 1
         },
         "type": "Feature"
        },
        {
         "geometry": {
          "coordinates": [
           9.1044,
           55.9632
          ],
          "type": "Point"
         },
         "properties": {
          "color": "#990000",
          "fillColor": "#990000",
          "fillOpacity": 0.5,
          "weight": 1
         },
         "type": "Feature"
        },
        {
         "geometry": {
          "coordinates": [
           9.1028,
           55.9641
          ],
          "type": "Point"
         },
         "properties": {
          "color": "#990000",
          "fillColor": "#990000",
          "fillOpacity": 0.5,
          "weight": 1
         },
         "type": "Feature"
        },
        {
         "geometry": {
          "coordinates": [
           9.1025,
           55.9643
          ],
          "type": "Point"
         },
         "properties": {
          "color": "#990000",
          "fillColor": "#990000",
          "fillOpacity": 0.5,
          "weight": 1
         },
         "type": "Feature"
        },
        {
         "geometry": {
          "coordinates": [
           9.1025,
           55.9644
          ],
          "type": "Point"
         },
         "properties": {
          "color": "#990000",
          "fillColor": "#990000",
          "fillOpacity": 0.5,
          "weight": 1
         },
         "type": "Feature"
        },
        {
         "geometry": {
          "coordinates": [
           9.103,
           55.9645
          ],
          "type": "Point"
         },
         "properties": {
          "color": "#990000",
          "fillColor": "#990000",
          "fillOpacity": 0.5,
          "weight": 1
         },
         "type": "Feature"
        },
        {
         "geometry": {
          "coordinates": [
           9.1061,
           55.9647
          ],
          "type": "Point"
         },
         "properties": {
          "color": "#990000",
          "fillColor": "#990000",
          "fillOpacity": 0.5,
          "weight": 1
         },
         "type": "Feature"
        },
        {
         "geometry": {
          "coordinates": [
           8.8114,
           55.965
          ],
          "type": "Point"
         },
         "properties": {
          "color": "#990000",
          "fillColor": "#990000",
          "fillOpacity": 0.5,
          "weight": 1
         },
         "type": "Feature"
        },
        {
         "geometry": {
          "coordinates": [
           9.0987,
           55.9652
          ],
          "type": "Point"
         },
         "properties": {
          "color": "#990000",
          "fillColor": "#990000",
          "fillOpacity": 0.5,
          "weight": 1
         },
         "type": "Feature"
        },
        {
         "geometry": {
          "coordinates": [
           9.0986,
           55.9663
          ],
          "type": "Point"
         },
         "properties": {
          "color": "#990000",
          "fillColor": "#990000",
          "fillOpacity": 0.5,
          "weight": 1
         },
         "type": "Feature"
        },
        {
         "geometry": {
          "coordinates": [
           9.0981,
           55.9668
          ],
          "type": "Point"
         },
         "properties": {
          "color": "#990000",
          "fillColor": "#990000",
          "fillOpacity": 0.5,
          "weight": 1
         },
         "type": "Feature"
        },
        {
         "geometry": {
          "coordinates": [
           9.0973,
           55.9671
          ],
          "type": "Point"
         },
         "properties": {
          "color": "#990000",
          "fillColor": "#990000",
          "fillOpacity": 0.5,
          "weight": 1
         },
         "type": "Feature"
        },
        {
         "geometry": {
          "coordinates": [
           9.0971,
           55.9673
          ],
          "type": "Point"
         },
         "properties": {
          "color": "#990000",
          "fillColor": "#990000",
          "fillOpacity": 0.5,
          "weight": 1
         },
         "type": "Feature"
        },
        {
         "geometry": {
          "coordinates": [
           9.0944,
           55.9679
          ],
          "type": "Point"
         },
         "properties": {
          "color": "#990000",
          "fillColor": "#990000",
          "fillOpacity": 0.5,
          "weight": 1
         },
         "type": "Feature"
        },
        {
         "geometry": {
          "coordinates": [
           9.0948,
           55.9679
          ],
          "type": "Point"
         },
         "properties": {
          "color": "#990000",
          "fillColor": "#990000",
          "fillOpacity": 0.5,
          "weight": 1
         },
         "type": "Feature"
        },
        {
         "geometry": {
          "coordinates": [
           9.096,
           55.9679
          ],
          "type": "Point"
         },
         "properties": {
          "color": "#990000",
          "fillColor": "#990000",
          "fillOpacity": 0.5,
          "weight": 1
         },
         "type": "Feature"
        },
        {
         "geometry": {
          "coordinates": [
           9.0944,
           55.9686
          ],
          "type": "Point"
         },
         "properties": {
          "color": "#990000",
          "fillColor": "#990000",
          "fillOpacity": 0.5,
          "weight": 1
         },
         "type": "Feature"
        },
        {
         "geometry": {
          "coordinates": [
           9.0932,
           55.9695
          ],
          "type": "Point"
         },
         "properties": {
          "color": "#990000",
          "fillColor": "#990000",
          "fillOpacity": 0.5,
          "weight": 1
         },
         "type": "Feature"
        },
        {
         "geometry": {
          "coordinates": [
           9.0929,
           55.9696
          ],
          "type": "Point"
         },
         "properties": {
          "color": "#990000",
          "fillColor": "#990000",
          "fillOpacity": 0.5,
          "weight": 1
         },
         "type": "Feature"
        },
        {
         "geometry": {
          "coordinates": [
           9.0926,
           55.9699
          ],
          "type": "Point"
         },
         "properties": {
          "color": "#990000",
          "fillColor": "#990000",
          "fillOpacity": 0.5,
          "weight": 1
         },
         "type": "Feature"
        },
        {
         "geometry": {
          "coordinates": [
           8.9204,
           55.9703
          ],
          "type": "Point"
         },
         "properties": {
          "color": "#990000",
          "fillColor": "#990000",
          "fillOpacity": 0.5,
          "weight": 1
         },
         "type": "Feature"
        },
        {
         "geometry": {
          "coordinates": [
           9.0896,
           55.9714
          ],
          "type": "Point"
         },
         "properties": {
          "color": "#990000",
          "fillColor": "#990000",
          "fillOpacity": 0.5,
          "weight": 1
         },
         "type": "Feature"
        },
        {
         "geometry": {
          "coordinates": [
           9.0892,
           55.9716
          ],
          "type": "Point"
         },
         "properties": {
          "color": "#990000",
          "fillColor": "#990000",
          "fillOpacity": 0.5,
          "weight": 1
         },
         "type": "Feature"
        },
        {
         "geometry": {
          "coordinates": [
           9.0886,
           55.9718
          ],
          "type": "Point"
         },
         "properties": {
          "color": "#990000",
          "fillColor": "#990000",
          "fillOpacity": 0.5,
          "weight": 1
         },
         "type": "Feature"
        },
        {
         "geometry": {
          "coordinates": [
           8.8986,
           55.9728
          ],
          "type": "Point"
         },
         "properties": {
          "color": "#990000",
          "fillColor": "#990000",
          "fillOpacity": 0.5,
          "weight": 1
         },
         "type": "Feature"
        },
        {
         "geometry": {
          "coordinates": [
           9.1129,
           55.9738
          ],
          "type": "Point"
         },
         "properties": {
          "color": "#990000",
          "fillColor": "#990000",
          "fillOpacity": 0.5,
          "weight": 1
         },
         "type": "Feature"
        },
        {
         "geometry": {
          "coordinates": [
           9.083,
           55.9744
          ],
          "type": "Point"
         },
         "properties": {
          "color": "#990000",
          "fillColor": "#990000",
          "fillOpacity": 0.5,
          "weight": 1
         },
         "type": "Feature"
        },
        {
         "geometry": {
          "coordinates": [
           8.8991,
           55.9752
          ],
          "type": "Point"
         },
         "properties": {
          "color": "#990000",
          "fillColor": "#990000",
          "fillOpacity": 0.5,
          "weight": 1
         },
         "type": "Feature"
        },
        {
         "geometry": {
          "coordinates": [
           9.08,
           55.9755
          ],
          "type": "Point"
         },
         "properties": {
          "color": "#990000",
          "fillColor": "#990000",
          "fillOpacity": 0.5,
          "weight": 1
         },
         "type": "Feature"
        },
        {
         "geometry": {
          "coordinates": [
           9.0802,
           55.9755
          ],
          "type": "Point"
         },
         "properties": {
          "color": "#990000",
          "fillColor": "#990000",
          "fillOpacity": 0.5,
          "weight": 1
         },
         "type": "Feature"
        },
        {
         "geometry": {
          "coordinates": [
           9.0793,
           55.9757
          ],
          "type": "Point"
         },
         "properties": {
          "color": "#990000",
          "fillColor": "#990000",
          "fillOpacity": 0.5,
          "weight": 1
         },
         "type": "Feature"
        },
        {
         "geometry": {
          "coordinates": [
           9.0754,
           55.977
          ],
          "type": "Point"
         },
         "properties": {
          "color": "#990000",
          "fillColor": "#990000",
          "fillOpacity": 0.5,
          "weight": 1
         },
         "type": "Feature"
        },
        {
         "geometry": {
          "coordinates": [
           9.0753,
           55.9773
          ],
          "type": "Point"
         },
         "properties": {
          "color": "#990000",
          "fillColor": "#990000",
          "fillOpacity": 0.5,
          "weight": 1
         },
         "type": "Feature"
        },
        {
         "geometry": {
          "coordinates": [
           9.0739,
           55.9778
          ],
          "type": "Point"
         },
         "properties": {
          "color": "#990000",
          "fillColor": "#990000",
          "fillOpacity": 0.5,
          "weight": 1
         },
         "type": "Feature"
        },
        {
         "geometry": {
          "coordinates": [
           8.8979,
           55.9779
          ],
          "type": "Point"
         },
         "properties": {
          "color": "#990000",
          "fillColor": "#990000",
          "fillOpacity": 0.5,
          "weight": 1
         },
         "type": "Feature"
        },
        {
         "geometry": {
          "coordinates": [
           9.0696,
           55.9795
          ],
          "type": "Point"
         },
         "properties": {
          "color": "#990000",
          "fillColor": "#990000",
          "fillOpacity": 0.5,
          "weight": 1
         },
         "type": "Feature"
        },
        {
         "geometry": {
          "coordinates": [
           8.8951,
           55.9807
          ],
          "type": "Point"
         },
         "properties": {
          "color": "#990000",
          "fillColor": "#990000",
          "fillOpacity": 0.5,
          "weight": 1
         },
         "type": "Feature"
        },
        {
         "geometry": {
          "coordinates": [
           9.0659,
           55.9811
          ],
          "type": "Point"
         },
         "properties": {
          "color": "#990000",
          "fillColor": "#990000",
          "fillOpacity": 0.5,
          "weight": 1
         },
         "type": "Feature"
        },
        {
         "geometry": {
          "coordinates": [
           8.8332,
           55.9815
          ],
          "type": "Point"
         },
         "properties": {
          "color": "#990000",
          "fillColor": "#990000",
          "fillOpacity": 0.5,
          "weight": 1
         },
         "type": "Feature"
        },
        {
         "geometry": {
          "coordinates": [
           9.0648,
           55.9816
          ],
          "type": "Point"
         },
         "properties": {
          "color": "#990000",
          "fillColor": "#990000",
          "fillOpacity": 0.5,
          "weight": 1
         },
         "type": "Feature"
        },
        {
         "geometry": {
          "coordinates": [
           9.0649,
           55.9817
          ],
          "type": "Point"
         },
         "properties": {
          "color": "#990000",
          "fillColor": "#990000",
          "fillOpacity": 0.5,
          "weight": 1
         },
         "type": "Feature"
        },
        {
         "geometry": {
          "coordinates": [
           8.834,
           55.9819
          ],
          "type": "Point"
         },
         "properties": {
          "color": "#990000",
          "fillColor": "#990000",
          "fillOpacity": 0.5,
          "weight": 1
         },
         "type": "Feature"
        },
        {
         "geometry": {
          "coordinates": [
           9.063,
           55.9826
          ],
          "type": "Point"
         },
         "properties": {
          "color": "#990000",
          "fillColor": "#990000",
          "fillOpacity": 0.5,
          "weight": 1
         },
         "type": "Feature"
        },
        {
         "geometry": {
          "coordinates": [
           9.0603,
           55.9841
          ],
          "type": "Point"
         },
         "properties": {
          "color": "#990000",
          "fillColor": "#990000",
          "fillOpacity": 0.5,
          "weight": 1
         },
         "type": "Feature"
        },
        {
         "geometry": {
          "coordinates": [
           8.8801,
           55.9858
          ],
          "type": "Point"
         },
         "properties": {
          "color": "#990000",
          "fillColor": "#990000",
          "fillOpacity": 0.5,
          "weight": 1
         },
         "type": "Feature"
        },
        {
         "geometry": {
          "coordinates": [
           9.057,
           55.9865
          ],
          "type": "Point"
         },
         "properties": {
          "color": "#990000",
          "fillColor": "#990000",
          "fillOpacity": 0.5,
          "weight": 1
         },
         "type": "Feature"
        },
        {
         "geometry": {
          "coordinates": [
           9.0605,
           55.9865
          ],
          "type": "Point"
         },
         "properties": {
          "color": "#990000",
          "fillColor": "#990000",
          "fillOpacity": 0.5,
          "weight": 1
         },
         "type": "Feature"
        },
        {
         "geometry": {
          "coordinates": [
           9.0563,
           55.9867
          ],
          "type": "Point"
         },
         "properties": {
          "color": "#990000",
          "fillColor": "#990000",
          "fillOpacity": 0.5,
          "weight": 1
         },
         "type": "Feature"
        },
        {
         "geometry": {
          "coordinates": [
           9.0506,
           55.9868
          ],
          "type": "Point"
         },
         "properties": {
          "color": "#990000",
          "fillColor": "#990000",
          "fillOpacity": 0.5,
          "weight": 1
         },
         "type": "Feature"
        },
        {
         "geometry": {
          "coordinates": [
           9.0547,
           55.988
          ],
          "type": "Point"
         },
         "properties": {
          "color": "#990000",
          "fillColor": "#990000",
          "fillOpacity": 0.5,
          "weight": 1
         },
         "type": "Feature"
        },
        {
         "geometry": {
          "coordinates": [
           9.0531,
           55.9894
          ],
          "type": "Point"
         },
         "properties": {
          "color": "#990000",
          "fillColor": "#990000",
          "fillOpacity": 0.5,
          "weight": 1
         },
         "type": "Feature"
        },
        {
         "geometry": {
          "coordinates": [
           9.0524,
           55.99
          ],
          "type": "Point"
         },
         "properties": {
          "color": "#990000",
          "fillColor": "#990000",
          "fillOpacity": 0.5,
          "weight": 1
         },
         "type": "Feature"
        },
        {
         "geometry": {
          "coordinates": [
           9.0506,
           55.9916
          ],
          "type": "Point"
         },
         "properties": {
          "color": "#990000",
          "fillColor": "#990000",
          "fillOpacity": 0.5,
          "weight": 1
         },
         "type": "Feature"
        },
        {
         "geometry": {
          "coordinates": [
           9.0504,
           55.992
          ],
          "type": "Point"
         },
         "properties": {
          "color": "#990000",
          "fillColor": "#990000",
          "fillOpacity": 0.5,
          "weight": 1
         },
         "type": "Feature"
        },
        {
         "geometry": {
          "coordinates": [
           9.0499,
           55.9929
          ],
          "type": "Point"
         },
         "properties": {
          "color": "#990000",
          "fillColor": "#990000",
          "fillOpacity": 0.5,
          "weight": 1
         },
         "type": "Feature"
        },
        {
         "geometry": {
          "coordinates": [
           9.0494,
           55.9931
          ],
          "type": "Point"
         },
         "properties": {
          "color": "#990000",
          "fillColor": "#990000",
          "fillOpacity": 0.5,
          "weight": 1
         },
         "type": "Feature"
        },
        {
         "geometry": {
          "coordinates": [
           9.0483,
           55.9945
          ],
          "type": "Point"
         },
         "properties": {
          "color": "#990000",
          "fillColor": "#990000",
          "fillOpacity": 0.5,
          "weight": 1
         },
         "type": "Feature"
        },
        {
         "geometry": {
          "coordinates": [
           9.0481,
           55.995
          ],
          "type": "Point"
         },
         "properties": {
          "color": "#990000",
          "fillColor": "#990000",
          "fillOpacity": 0.5,
          "weight": 1
         },
         "type": "Feature"
        },
        {
         "geometry": {
          "coordinates": [
           9.0477,
           55.9952
          ],
          "type": "Point"
         },
         "properties": {
          "color": "#990000",
          "fillColor": "#990000",
          "fillOpacity": 0.5,
          "weight": 1
         },
         "type": "Feature"
        },
        {
         "geometry": {
          "coordinates": [
           9.0454,
           55.9981
          ],
          "type": "Point"
         },
         "properties": {
          "color": "#990000",
          "fillColor": "#990000",
          "fillOpacity": 0.5,
          "weight": 1
         },
         "type": "Feature"
        },
        {
         "geometry": {
          "coordinates": [
           9.0451,
           55.9989
          ],
          "type": "Point"
         },
         "properties": {
          "color": "#990000",
          "fillColor": "#990000",
          "fillOpacity": 0.5,
          "weight": 1
         },
         "type": "Feature"
        },
        {
         "geometry": {
          "coordinates": [
           8.9505,
           55.9991
          ],
          "type": "Point"
         },
         "properties": {
          "color": "#990000",
          "fillColor": "#990000",
          "fillOpacity": 0.5,
          "weight": 1
         },
         "type": "Feature"
        },
        {
         "geometry": {
          "coordinates": [
           8.8671,
           56
          ],
          "type": "Point"
         },
         "properties": {
          "color": "#990000",
          "fillColor": "#990000",
          "fillOpacity": 0.5,
          "weight": 1
         },
         "type": "Feature"
        },
        {
         "geometry": {
          "coordinates": [
           8.8444,
           56.0014
          ],
          "type": "Point"
         },
         "properties": {
          "color": "#990000",
          "fillColor": "#990000",
          "fillOpacity": 0.5,
          "weight": 1
         },
         "type": "Feature"
        },
        {
         "geometry": {
          "coordinates": [
           9.0427,
           56.0017
          ],
          "type": "Point"
         },
         "properties": {
          "color": "#990000",
          "fillColor": "#990000",
          "fillOpacity": 0.5,
          "weight": 1
         },
         "type": "Feature"
        },
        {
         "geometry": {
          "coordinates": [
           9.0407,
           56.0037
          ],
          "type": "Point"
         },
         "properties": {
          "color": "#990000",
          "fillColor": "#990000",
          "fillOpacity": 0.5,
          "weight": 1
         },
         "type": "Feature"
        },
        {
         "geometry": {
          "coordinates": [
           9.0386,
           56.0058
          ],
          "type": "Point"
         },
         "properties": {
          "color": "#990000",
          "fillColor": "#990000",
          "fillOpacity": 0.5,
          "weight": 1
         },
         "type": "Feature"
        },
        {
         "geometry": {
          "coordinates": [
           9.1245,
           56.0066
          ],
          "type": "Point"
         },
         "properties": {
          "color": "#990000",
          "fillColor": "#990000",
          "fillOpacity": 0.5,
          "weight": 1
         },
         "type": "Feature"
        },
        {
         "geometry": {
          "coordinates": [
           8.8472,
           56.0067
          ],
          "type": "Point"
         },
         "properties": {
          "color": "#990000",
          "fillColor": "#990000",
          "fillOpacity": 0.5,
          "weight": 1
         },
         "type": "Feature"
        },
        {
         "geometry": {
          "coordinates": [
           9.0372,
           56.0068
          ],
          "type": "Point"
         },
         "properties": {
          "color": "#990000",
          "fillColor": "#990000",
          "fillOpacity": 0.5,
          "weight": 1
         },
         "type": "Feature"
        },
        {
         "geometry": {
          "coordinates": [
           9.069,
           56.0071
          ],
          "type": "Point"
         },
         "properties": {
          "color": "#990000",
          "fillColor": "#990000",
          "fillOpacity": 0.5,
          "weight": 1
         },
         "type": "Feature"
        },
        {
         "geometry": {
          "coordinates": [
           9.0366,
           56.0072
          ],
          "type": "Point"
         },
         "properties": {
          "color": "#990000",
          "fillColor": "#990000",
          "fillOpacity": 0.5,
          "weight": 1
         },
         "type": "Feature"
        },
        {
         "geometry": {
          "coordinates": [
           9.0364,
           56.0074
          ],
          "type": "Point"
         },
         "properties": {
          "color": "#990000",
          "fillColor": "#990000",
          "fillOpacity": 0.5,
          "weight": 1
         },
         "type": "Feature"
        },
        {
         "geometry": {
          "coordinates": [
           9.0355,
           56.008
          ],
          "type": "Point"
         },
         "properties": {
          "color": "#990000",
          "fillColor": "#990000",
          "fillOpacity": 0.5,
          "weight": 1
         },
         "type": "Feature"
        },
        {
         "geometry": {
          "coordinates": [
           9.0351,
           56.0083
          ],
          "type": "Point"
         },
         "properties": {
          "color": "#990000",
          "fillColor": "#990000",
          "fillOpacity": 0.5,
          "weight": 1
         },
         "type": "Feature"
        },
        {
         "geometry": {
          "coordinates": [
           9.0335,
           56.0094
          ],
          "type": "Point"
         },
         "properties": {
          "color": "#990000",
          "fillColor": "#990000",
          "fillOpacity": 0.5,
          "weight": 1
         },
         "type": "Feature"
        },
        {
         "geometry": {
          "coordinates": [
           9.0337,
           56.0096
          ],
          "type": "Point"
         },
         "properties": {
          "color": "#990000",
          "fillColor": "#990000",
          "fillOpacity": 0.5,
          "weight": 1
         },
         "type": "Feature"
        },
        {
         "geometry": {
          "coordinates": [
           9.0336,
           56.0097
          ],
          "type": "Point"
         },
         "properties": {
          "color": "#990000",
          "fillColor": "#990000",
          "fillOpacity": 0.5,
          "weight": 1
         },
         "type": "Feature"
        },
        {
         "geometry": {
          "coordinates": [
           9.0323,
           56.0102
          ],
          "type": "Point"
         },
         "properties": {
          "color": "#990000",
          "fillColor": "#990000",
          "fillOpacity": 0.5,
          "weight": 1
         },
         "type": "Feature"
        },
        {
         "geometry": {
          "coordinates": [
           9.0321,
           56.0103
          ],
          "type": "Point"
         },
         "properties": {
          "color": "#990000",
          "fillColor": "#990000",
          "fillOpacity": 0.5,
          "weight": 1
         },
         "type": "Feature"
        },
        {
         "geometry": {
          "coordinates": [
           9.0311,
           56.0108
          ],
          "type": "Point"
         },
         "properties": {
          "color": "#990000",
          "fillColor": "#990000",
          "fillOpacity": 0.5,
          "weight": 1
         },
         "type": "Feature"
        },
        {
         "geometry": {
          "coordinates": [
           8.9809,
           56.011
          ],
          "type": "Point"
         },
         "properties": {
          "color": "#990000",
          "fillColor": "#990000",
          "fillOpacity": 0.5,
          "weight": 1
         },
         "type": "Feature"
        },
        {
         "geometry": {
          "coordinates": [
           8.851,
           56.0112
          ],
          "type": "Point"
         },
         "properties": {
          "color": "#990000",
          "fillColor": "#990000",
          "fillOpacity": 0.5,
          "weight": 1
         },
         "type": "Feature"
        },
        {
         "geometry": {
          "coordinates": [
           9.0334,
           56.0113
          ],
          "type": "Point"
         },
         "properties": {
          "color": "#990000",
          "fillColor": "#990000",
          "fillOpacity": 0.5,
          "weight": 1
         },
         "type": "Feature"
        },
        {
         "geometry": {
          "coordinates": [
           8.8499,
           56.0114
          ],
          "type": "Point"
         },
         "properties": {
          "color": "#990000",
          "fillColor": "#990000",
          "fillOpacity": 0.5,
          "weight": 1
         },
         "type": "Feature"
        },
        {
         "geometry": {
          "coordinates": [
           9.0416,
           56.0114
          ],
          "type": "Point"
         },
         "properties": {
          "color": "#990000",
          "fillColor": "#990000",
          "fillOpacity": 0.5,
          "weight": 1
         },
         "type": "Feature"
        },
        {
         "geometry": {
          "coordinates": [
           9.0293,
           56.0118
          ],
          "type": "Point"
         },
         "properties": {
          "color": "#990000",
          "fillColor": "#990000",
          "fillOpacity": 0.5,
          "weight": 1
         },
         "type": "Feature"
        },
        {
         "geometry": {
          "coordinates": [
           9.0292,
           56.0119
          ],
          "type": "Point"
         },
         "properties": {
          "color": "#990000",
          "fillColor": "#990000",
          "fillOpacity": 0.5,
          "weight": 1
         },
         "type": "Feature"
        },
        {
         "geometry": {
          "coordinates": [
           9.0288,
           56.0121
          ],
          "type": "Point"
         },
         "properties": {
          "color": "#990000",
          "fillColor": "#990000",
          "fillOpacity": 0.5,
          "weight": 1
         },
         "type": "Feature"
        },
        {
         "geometry": {
          "coordinates": [
           8.8503,
           56.0125
          ],
          "type": "Point"
         },
         "properties": {
          "color": "#990000",
          "fillColor": "#990000",
          "fillOpacity": 0.5,
          "weight": 1
         },
         "type": "Feature"
        },
        {
         "geometry": {
          "coordinates": [
           9.0277,
           56.0127
          ],
          "type": "Point"
         },
         "properties": {
          "color": "#990000",
          "fillColor": "#990000",
          "fillOpacity": 0.5,
          "weight": 1
         },
         "type": "Feature"
        },
        {
         "geometry": {
          "coordinates": [
           8.9864,
           56.0128
          ],
          "type": "Point"
         },
         "properties": {
          "color": "#990000",
          "fillColor": "#990000",
          "fillOpacity": 0.5,
          "weight": 1
         },
         "type": "Feature"
        },
        {
         "geometry": {
          "coordinates": [
           9.029,
           56.0128
          ],
          "type": "Point"
         },
         "properties": {
          "color": "#990000",
          "fillColor": "#990000",
          "fillOpacity": 0.5,
          "weight": 1
         },
         "type": "Feature"
        },
        {
         "geometry": {
          "coordinates": [
           8.8498,
           56.013
          ],
          "type": "Point"
         },
         "properties": {
          "color": "#990000",
          "fillColor": "#990000",
          "fillOpacity": 0.5,
          "weight": 1
         },
         "type": "Feature"
        },
        {
         "geometry": {
          "coordinates": [
           9.0266,
           56.0133
          ],
          "type": "Point"
         },
         "properties": {
          "color": "#990000",
          "fillColor": "#990000",
          "fillOpacity": 0.5,
          "weight": 1
         },
         "type": "Feature"
        },
        {
         "geometry": {
          "coordinates": [
           8.8498,
           56.0134
          ],
          "type": "Point"
         },
         "properties": {
          "color": "#990000",
          "fillColor": "#990000",
          "fillOpacity": 0.5,
          "weight": 1
         },
         "type": "Feature"
        },
        {
         "geometry": {
          "coordinates": [
           8.85,
           56.0136
          ],
          "type": "Point"
         },
         "properties": {
          "color": "#990000",
          "fillColor": "#990000",
          "fillOpacity": 0.5,
          "weight": 1
         },
         "type": "Feature"
        },
        {
         "geometry": {
          "coordinates": [
           8.9985,
           56.0143
          ],
          "type": "Point"
         },
         "properties": {
          "color": "#990000",
          "fillColor": "#990000",
          "fillOpacity": 0.5,
          "weight": 1
         },
         "type": "Feature"
        },
        {
         "geometry": {
          "coordinates": [
           8.8503,
           56.0148
          ],
          "type": "Point"
         },
         "properties": {
          "color": "#990000",
          "fillColor": "#990000",
          "fillOpacity": 0.5,
          "weight": 1
         },
         "type": "Feature"
        },
        {
         "geometry": {
          "coordinates": [
           9.1209,
           56.015
          ],
          "type": "Point"
         },
         "properties": {
          "color": "#990000",
          "fillColor": "#990000",
          "fillOpacity": 0.5,
          "weight": 1
         },
         "type": "Feature"
        },
        {
         "geometry": {
          "coordinates": [
           9.0229,
           56.0153
          ],
          "type": "Point"
         },
         "properties": {
          "color": "#990000",
          "fillColor": "#990000",
          "fillOpacity": 0.5,
          "weight": 1
         },
         "type": "Feature"
        },
        {
         "geometry": {
          "coordinates": [
           9.0298,
           56.0157
          ],
          "type": "Point"
         },
         "properties": {
          "color": "#990000",
          "fillColor": "#990000",
          "fillOpacity": 0.5,
          "weight": 1
         },
         "type": "Feature"
        },
        {
         "geometry": {
          "coordinates": [
           8.8506,
           56.0159
          ],
          "type": "Point"
         },
         "properties": {
          "color": "#990000",
          "fillColor": "#990000",
          "fillOpacity": 0.5,
          "weight": 1
         },
         "type": "Feature"
        },
        {
         "geometry": {
          "coordinates": [
           9.0209,
           56.0162
          ],
          "type": "Point"
         },
         "properties": {
          "color": "#990000",
          "fillColor": "#990000",
          "fillOpacity": 0.5,
          "weight": 1
         },
         "type": "Feature"
        },
        {
         "geometry": {
          "coordinates": [
           9.0209,
           56.0163
          ],
          "type": "Point"
         },
         "properties": {
          "color": "#990000",
          "fillColor": "#990000",
          "fillOpacity": 0.5,
          "weight": 1
         },
         "type": "Feature"
        },
        {
         "geometry": {
          "coordinates": [
           9.026,
           56.0169
          ],
          "type": "Point"
         },
         "properties": {
          "color": "#990000",
          "fillColor": "#990000",
          "fillOpacity": 0.5,
          "weight": 1
         },
         "type": "Feature"
        },
        {
         "geometry": {
          "coordinates": [
           8.8508,
           56.017
          ],
          "type": "Point"
         },
         "properties": {
          "color": "#990000",
          "fillColor": "#990000",
          "fillOpacity": 0.5,
          "weight": 1
         },
         "type": "Feature"
        },
        {
         "geometry": {
          "coordinates": [
           8.851,
           56.0171
          ],
          "type": "Point"
         },
         "properties": {
          "color": "#990000",
          "fillColor": "#990000",
          "fillOpacity": 0.5,
          "weight": 1
         },
         "type": "Feature"
        },
        {
         "geometry": {
          "coordinates": [
           9.0183,
           56.0177
          ],
          "type": "Point"
         },
         "properties": {
          "color": "#990000",
          "fillColor": "#990000",
          "fillOpacity": 0.5,
          "weight": 1
         },
         "type": "Feature"
        },
        {
         "geometry": {
          "coordinates": [
           8.994,
           56.0183
          ],
          "type": "Point"
         },
         "properties": {
          "color": "#990000",
          "fillColor": "#990000",
          "fillOpacity": 0.5,
          "weight": 1
         },
         "type": "Feature"
        },
        {
         "geometry": {
          "coordinates": [
           8.5659,
           56.0188
          ],
          "type": "Point"
         },
         "properties": {
          "color": "#990000",
          "fillColor": "#990000",
          "fillOpacity": 0.5,
          "weight": 1
         },
         "type": "Feature"
        },
        {
         "geometry": {
          "coordinates": [
           9.0157,
           56.0198
          ],
          "type": "Point"
         },
         "properties": {
          "color": "#990000",
          "fillColor": "#990000",
          "fillOpacity": 0.5,
          "weight": 1
         },
         "type": "Feature"
        },
        {
         "geometry": {
          "coordinates": [
           9.0138,
           56.0212
          ],
          "type": "Point"
         },
         "properties": {
          "color": "#990000",
          "fillColor": "#990000",
          "fillOpacity": 0.5,
          "weight": 1
         },
         "type": "Feature"
        },
        {
         "geometry": {
          "coordinates": [
           8.852,
           56.0221
          ],
          "type": "Point"
         },
         "properties": {
          "color": "#990000",
          "fillColor": "#990000",
          "fillOpacity": 0.5,
          "weight": 1
         },
         "type": "Feature"
        },
        {
         "geometry": {
          "coordinates": [
           8.8521,
           56.0229
          ],
          "type": "Point"
         },
         "properties": {
          "color": "#990000",
          "fillColor": "#990000",
          "fillOpacity": 0.5,
          "weight": 1
         },
         "type": "Feature"
        },
        {
         "geometry": {
          "coordinates": [
           9.0113,
           56.0233
          ],
          "type": "Point"
         },
         "properties": {
          "color": "#990000",
          "fillColor": "#990000",
          "fillOpacity": 0.5,
          "weight": 1
         },
         "type": "Feature"
        },
        {
         "geometry": {
          "coordinates": [
           9.0116,
           56.0236
          ],
          "type": "Point"
         },
         "properties": {
          "color": "#990000",
          "fillColor": "#990000",
          "fillOpacity": 0.5,
          "weight": 1
         },
         "type": "Feature"
        },
        {
         "geometry": {
          "coordinates": [
           9.0098,
           56.0252
          ],
          "type": "Point"
         },
         "properties": {
          "color": "#990000",
          "fillColor": "#990000",
          "fillOpacity": 0.5,
          "weight": 1
         },
         "type": "Feature"
        },
        {
         "geometry": {
          "coordinates": [
           8.8531,
           56.026
          ],
          "type": "Point"
         },
         "properties": {
          "color": "#990000",
          "fillColor": "#990000",
          "fillOpacity": 0.5,
          "weight": 1
         },
         "type": "Feature"
        },
        {
         "geometry": {
          "coordinates": [
           8.8538,
           56.0269
          ],
          "type": "Point"
         },
         "properties": {
          "color": "#990000",
          "fillColor": "#990000",
          "fillOpacity": 0.5,
          "weight": 1
         },
         "type": "Feature"
        },
        {
         "geometry": {
          "coordinates": [
           9.0072,
           56.0287
          ],
          "type": "Point"
         },
         "properties": {
          "color": "#990000",
          "fillColor": "#990000",
          "fillOpacity": 0.5,
          "weight": 1
         },
         "type": "Feature"
        },
        {
         "geometry": {
          "coordinates": [
           9.0068,
           56.0297
          ],
          "type": "Point"
         },
         "properties": {
          "color": "#990000",
          "fillColor": "#990000",
          "fillOpacity": 0.5,
          "weight": 1
         },
         "type": "Feature"
        },
        {
         "geometry": {
          "coordinates": [
           9.0064,
           56.0307
          ],
          "type": "Point"
         },
         "properties": {
          "color": "#990000",
          "fillColor": "#990000",
          "fillOpacity": 0.5,
          "weight": 1
         },
         "type": "Feature"
        },
        {
         "geometry": {
          "coordinates": [
           9.0061,
           56.0312
          ],
          "type": "Point"
         },
         "properties": {
          "color": "#990000",
          "fillColor": "#990000",
          "fillOpacity": 0.5,
          "weight": 1
         },
         "type": "Feature"
        },
        {
         "geometry": {
          "coordinates": [
           8.86,
           56.0315
          ],
          "type": "Point"
         },
         "properties": {
          "color": "#990000",
          "fillColor": "#990000",
          "fillOpacity": 0.5,
          "weight": 1
         },
         "type": "Feature"
        },
        {
         "geometry": {
          "coordinates": [
           9.0053,
           56.0318
          ],
          "type": "Point"
         },
         "properties": {
          "color": "#990000",
          "fillColor": "#990000",
          "fillOpacity": 0.5,
          "weight": 1
         },
         "type": "Feature"
        },
        {
         "geometry": {
          "coordinates": [
           9.0061,
           56.0318
          ],
          "type": "Point"
         },
         "properties": {
          "color": "#990000",
          "fillColor": "#990000",
          "fillOpacity": 0.5,
          "weight": 1
         },
         "type": "Feature"
        },
        {
         "geometry": {
          "coordinates": [
           9.0056,
           56.0323
          ],
          "type": "Point"
         },
         "properties": {
          "color": "#990000",
          "fillColor": "#990000",
          "fillOpacity": 0.5,
          "weight": 1
         },
         "type": "Feature"
        },
        {
         "geometry": {
          "coordinates": [
           8.8495,
           56.0324
          ],
          "type": "Point"
         },
         "properties": {
          "color": "#990000",
          "fillColor": "#990000",
          "fillOpacity": 0.5,
          "weight": 1
         },
         "type": "Feature"
        },
        {
         "geometry": {
          "coordinates": [
           9.0048,
           56.0342
          ],
          "type": "Point"
         },
         "properties": {
          "color": "#990000",
          "fillColor": "#990000",
          "fillOpacity": 0.5,
          "weight": 1
         },
         "type": "Feature"
        },
        {
         "geometry": {
          "coordinates": [
           9.0047,
           56.0346
          ],
          "type": "Point"
         },
         "properties": {
          "color": "#990000",
          "fillColor": "#990000",
          "fillOpacity": 0.5,
          "weight": 1
         },
         "type": "Feature"
        },
        {
         "geometry": {
          "coordinates": [
           9.0048,
           56.0347
          ],
          "type": "Point"
         },
         "properties": {
          "color": "#990000",
          "fillColor": "#990000",
          "fillOpacity": 0.5,
          "weight": 1
         },
         "type": "Feature"
        },
        {
         "geometry": {
          "coordinates": [
           8.8647,
           56.0348
          ],
          "type": "Point"
         },
         "properties": {
          "color": "#990000",
          "fillColor": "#990000",
          "fillOpacity": 0.5,
          "weight": 1
         },
         "type": "Feature"
        },
        {
         "geometry": {
          "coordinates": [
           9.0045,
           56.0348
          ],
          "type": "Point"
         },
         "properties": {
          "color": "#990000",
          "fillColor": "#990000",
          "fillOpacity": 0.5,
          "weight": 1
         },
         "type": "Feature"
        },
        {
         "geometry": {
          "coordinates": [
           8.8649,
           56.0352
          ],
          "type": "Point"
         },
         "properties": {
          "color": "#990000",
          "fillColor": "#990000",
          "fillOpacity": 0.5,
          "weight": 1
         },
         "type": "Feature"
        },
        {
         "geometry": {
          "coordinates": [
           9.0045,
           56.0353
          ],
          "type": "Point"
         },
         "properties": {
          "color": "#990000",
          "fillColor": "#990000",
          "fillOpacity": 0.5,
          "weight": 1
         },
         "type": "Feature"
        },
        {
         "geometry": {
          "coordinates": [
           8.8655,
           56.0358
          ],
          "type": "Point"
         },
         "properties": {
          "color": "#990000",
          "fillColor": "#990000",
          "fillOpacity": 0.5,
          "weight": 1
         },
         "type": "Feature"
        },
        {
         "geometry": {
          "coordinates": [
           8.8662,
           56.0363
          ],
          "type": "Point"
         },
         "properties": {
          "color": "#990000",
          "fillColor": "#990000",
          "fillOpacity": 0.5,
          "weight": 1
         },
         "type": "Feature"
        },
        {
         "geometry": {
          "coordinates": [
           9.0043,
           56.0363
          ],
          "type": "Point"
         },
         "properties": {
          "color": "#990000",
          "fillColor": "#990000",
          "fillOpacity": 0.5,
          "weight": 1
         },
         "type": "Feature"
        },
        {
         "geometry": {
          "coordinates": [
           8.8656,
           56.0364
          ],
          "type": "Point"
         },
         "properties": {
          "color": "#990000",
          "fillColor": "#990000",
          "fillOpacity": 0.5,
          "weight": 1
         },
         "type": "Feature"
        },
        {
         "geometry": {
          "coordinates": [
           8.8659,
           56.0364
          ],
          "type": "Point"
         },
         "properties": {
          "color": "#990000",
          "fillColor": "#990000",
          "fillOpacity": 0.5,
          "weight": 1
         },
         "type": "Feature"
        },
        {
         "geometry": {
          "coordinates": [
           9.0035,
           56.0376
          ],
          "type": "Point"
         },
         "properties": {
          "color": "#990000",
          "fillColor": "#990000",
          "fillOpacity": 0.5,
          "weight": 1
         },
         "type": "Feature"
        },
        {
         "geometry": {
          "coordinates": [
           8.8694,
           56.038
          ],
          "type": "Point"
         },
         "properties": {
          "color": "#990000",
          "fillColor": "#990000",
          "fillOpacity": 0.5,
          "weight": 1
         },
         "type": "Feature"
        },
        {
         "geometry": {
          "coordinates": [
           8.9998,
           56.0383
          ],
          "type": "Point"
         },
         "properties": {
          "color": "#990000",
          "fillColor": "#990000",
          "fillOpacity": 0.5,
          "weight": 1
         },
         "type": "Feature"
        },
        {
         "geometry": {
          "coordinates": [
           8.8599,
           56.0384
          ],
          "type": "Point"
         },
         "properties": {
          "color": "#990000",
          "fillColor": "#990000",
          "fillOpacity": 0.5,
          "weight": 1
         },
         "type": "Feature"
        },
        {
         "geometry": {
          "coordinates": [
           8.8589,
           56.0385
          ],
          "type": "Point"
         },
         "properties": {
          "color": "#990000",
          "fillColor": "#990000",
          "fillOpacity": 0.5,
          "weight": 1
         },
         "type": "Feature"
        },
        {
         "geometry": {
          "coordinates": [
           8.8705,
           56.039
          ],
          "type": "Point"
         },
         "properties": {
          "color": "#990000",
          "fillColor": "#990000",
          "fillOpacity": 0.5,
          "weight": 1
         },
         "type": "Feature"
        },
        {
         "geometry": {
          "coordinates": [
           9.0044,
           56.0399
          ],
          "type": "Point"
         },
         "properties": {
          "color": "#990000",
          "fillColor": "#990000",
          "fillOpacity": 0.5,
          "weight": 1
         },
         "type": "Feature"
        },
        {
         "geometry": {
          "coordinates": [
           9.0042,
           56.04
          ],
          "type": "Point"
         },
         "properties": {
          "color": "#990000",
          "fillColor": "#990000",
          "fillOpacity": 0.5,
          "weight": 1
         },
         "type": "Feature"
        },
        {
         "geometry": {
          "coordinates": [
           9.0045,
           56.04
          ],
          "type": "Point"
         },
         "properties": {
          "color": "#990000",
          "fillColor": "#990000",
          "fillOpacity": 0.5,
          "weight": 1
         },
         "type": "Feature"
        },
        {
         "geometry": {
          "coordinates": [
           8.8708,
           56.0402
          ],
          "type": "Point"
         },
         "properties": {
          "color": "#990000",
          "fillColor": "#990000",
          "fillOpacity": 0.5,
          "weight": 1
         },
         "type": "Feature"
        },
        {
         "geometry": {
          "coordinates": [
           8.8722,
           56.0402
          ],
          "type": "Point"
         },
         "properties": {
          "color": "#990000",
          "fillColor": "#990000",
          "fillOpacity": 0.5,
          "weight": 1
         },
         "type": "Feature"
        },
        {
         "geometry": {
          "coordinates": [
           9.0027,
           56.0404
          ],
          "type": "Point"
         },
         "properties": {
          "color": "#990000",
          "fillColor": "#990000",
          "fillOpacity": 0.5,
          "weight": 1
         },
         "type": "Feature"
        },
        {
         "geometry": {
          "coordinates": [
           9.0027,
           56.0407
          ],
          "type": "Point"
         },
         "properties": {
          "color": "#990000",
          "fillColor": "#990000",
          "fillOpacity": 0.5,
          "weight": 1
         },
         "type": "Feature"
        },
        {
         "geometry": {
          "coordinates": [
           9.9661,
           56.0409
          ],
          "type": "Point"
         },
         "properties": {
          "color": "#990000",
          "fillColor": "#990000",
          "fillOpacity": 0.5,
          "weight": 1
         },
         "type": "Feature"
        },
        {
         "geometry": {
          "coordinates": [
           8.8735,
           56.041
          ],
          "type": "Point"
         },
         "properties": {
          "color": "#990000",
          "fillColor": "#990000",
          "fillOpacity": 0.5,
          "weight": 1
         },
         "type": "Feature"
        },
        {
         "geometry": {
          "coordinates": [
           8.9349,
           56.0413
          ],
          "type": "Point"
         },
         "properties": {
          "color": "#990000",
          "fillColor": "#990000",
          "fillOpacity": 0.5,
          "weight": 1
         },
         "type": "Feature"
        },
        {
         "geometry": {
          "coordinates": [
           8.8736,
           56.0414
          ],
          "type": "Point"
         },
         "properties": {
          "color": "#990000",
          "fillColor": "#990000",
          "fillOpacity": 0.5,
          "weight": 1
         },
         "type": "Feature"
        },
        {
         "geometry": {
          "coordinates": [
           8.875,
           56.0422
          ],
          "type": "Point"
         },
         "properties": {
          "color": "#990000",
          "fillColor": "#990000",
          "fillOpacity": 0.5,
          "weight": 1
         },
         "type": "Feature"
        },
        {
         "geometry": {
          "coordinates": [
           9.002,
           56.0424
          ],
          "type": "Point"
         },
         "properties": {
          "color": "#990000",
          "fillColor": "#990000",
          "fillOpacity": 0.5,
          "weight": 1
         },
         "type": "Feature"
        },
        {
         "geometry": {
          "coordinates": [
           9.0018,
           56.0434
          ],
          "type": "Point"
         },
         "properties": {
          "color": "#990000",
          "fillColor": "#990000",
          "fillOpacity": 0.5,
          "weight": 1
         },
         "type": "Feature"
        },
        {
         "geometry": {
          "coordinates": [
           9.0019,
           56.0435
          ],
          "type": "Point"
         },
         "properties": {
          "color": "#990000",
          "fillColor": "#990000",
          "fillOpacity": 0.5,
          "weight": 1
         },
         "type": "Feature"
        },
        {
         "geometry": {
          "coordinates": [
           8.8775,
           56.0446
          ],
          "type": "Point"
         },
         "properties": {
          "color": "#990000",
          "fillColor": "#990000",
          "fillOpacity": 0.5,
          "weight": 1
         },
         "type": "Feature"
        },
        {
         "geometry": {
          "coordinates": [
           9.0016,
           56.0449
          ],
          "type": "Point"
         },
         "properties": {
          "color": "#990000",
          "fillColor": "#990000",
          "fillOpacity": 0.5,
          "weight": 1
         },
         "type": "Feature"
        },
        {
         "geometry": {
          "coordinates": [
           9.0017,
           56.0452
          ],
          "type": "Point"
         },
         "properties": {
          "color": "#990000",
          "fillColor": "#990000",
          "fillOpacity": 0.5,
          "weight": 1
         },
         "type": "Feature"
        },
        {
         "geometry": {
          "coordinates": [
           8.8785,
           56.0453
          ],
          "type": "Point"
         },
         "properties": {
          "color": "#990000",
          "fillColor": "#990000",
          "fillOpacity": 0.5,
          "weight": 1
         },
         "type": "Feature"
        },
        {
         "geometry": {
          "coordinates": [
           8.8786,
           56.0454
          ],
          "type": "Point"
         },
         "properties": {
          "color": "#990000",
          "fillColor": "#990000",
          "fillOpacity": 0.5,
          "weight": 1
         },
         "type": "Feature"
        },
        {
         "geometry": {
          "coordinates": [
           9.0012,
           56.0459
          ],
          "type": "Point"
         },
         "properties": {
          "color": "#990000",
          "fillColor": "#990000",
          "fillOpacity": 0.5,
          "weight": 1
         },
         "type": "Feature"
        },
        {
         "geometry": {
          "coordinates": [
           8.8794,
           56.0461
          ],
          "type": "Point"
         },
         "properties": {
          "color": "#990000",
          "fillColor": "#990000",
          "fillOpacity": 0.5,
          "weight": 1
         },
         "type": "Feature"
        },
        {
         "geometry": {
          "coordinates": [
           8.8808,
           56.0474
          ],
          "type": "Point"
         },
         "properties": {
          "color": "#990000",
          "fillColor": "#990000",
          "fillOpacity": 0.5,
          "weight": 1
         },
         "type": "Feature"
        },
        {
         "geometry": {
          "coordinates": [
           8.8812,
           56.0477
          ],
          "type": "Point"
         },
         "properties": {
          "color": "#990000",
          "fillColor": "#990000",
          "fillOpacity": 0.5,
          "weight": 1
         },
         "type": "Feature"
        },
        {
         "geometry": {
          "coordinates": [
           9.0006,
           56.0478
          ],
          "type": "Point"
         },
         "properties": {
          "color": "#990000",
          "fillColor": "#990000",
          "fillOpacity": 0.5,
          "weight": 1
         },
         "type": "Feature"
        },
        {
         "geometry": {
          "coordinates": [
           8.8017,
           56.0481
          ],
          "type": "Point"
         },
         "properties": {
          "color": "#990000",
          "fillColor": "#990000",
          "fillOpacity": 0.5,
          "weight": 1
         },
         "type": "Feature"
        },
        {
         "geometry": {
          "coordinates": [
           9.0006,
           56.0483
          ],
          "type": "Point"
         },
         "properties": {
          "color": "#990000",
          "fillColor": "#990000",
          "fillOpacity": 0.5,
          "weight": 1
         },
         "type": "Feature"
        },
        {
         "geometry": {
          "coordinates": [
           8.8821,
           56.0486
          ],
          "type": "Point"
         },
         "properties": {
          "color": "#990000",
          "fillColor": "#990000",
          "fillOpacity": 0.5,
          "weight": 1
         },
         "type": "Feature"
        },
        {
         "geometry": {
          "coordinates": [
           9.0004,
           56.0487
          ],
          "type": "Point"
         },
         "properties": {
          "color": "#990000",
          "fillColor": "#990000",
          "fillOpacity": 0.5,
          "weight": 1
         },
         "type": "Feature"
        },
        {
         "geometry": {
          "coordinates": [
           8.8746,
           56.0494
          ],
          "type": "Point"
         },
         "properties": {
          "color": "#990000",
          "fillColor": "#990000",
          "fillOpacity": 0.5,
          "weight": 1
         },
         "type": "Feature"
        },
        {
         "geometry": {
          "coordinates": [
           9.0005,
           56.0494
          ],
          "type": "Point"
         },
         "properties": {
          "color": "#990000",
          "fillColor": "#990000",
          "fillOpacity": 0.5,
          "weight": 1
         },
         "type": "Feature"
        },
        {
         "geometry": {
          "coordinates": [
           8.8832,
           56.0496
          ],
          "type": "Point"
         },
         "properties": {
          "color": "#990000",
          "fillColor": "#990000",
          "fillOpacity": 0.5,
          "weight": 1
         },
         "type": "Feature"
        },
        {
         "geometry": {
          "coordinates": [
           9.0003,
           56.0496
          ],
          "type": "Point"
         },
         "properties": {
          "color": "#990000",
          "fillColor": "#990000",
          "fillOpacity": 0.5,
          "weight": 1
         },
         "type": "Feature"
        },
        {
         "geometry": {
          "coordinates": [
           8.8835,
           56.0498
          ],
          "type": "Point"
         },
         "properties": {
          "color": "#990000",
          "fillColor": "#990000",
          "fillOpacity": 0.5,
          "weight": 1
         },
         "type": "Feature"
        },
        {
         "geometry": {
          "coordinates": [
           8.85,
           56.0503
          ],
          "type": "Point"
         },
         "properties": {
          "color": "#990000",
          "fillColor": "#990000",
          "fillOpacity": 0.5,
          "weight": 1
         },
         "type": "Feature"
        },
        {
         "geometry": {
          "coordinates": [
           9,
           56.0505
          ],
          "type": "Point"
         },
         "properties": {
          "color": "#990000",
          "fillColor": "#990000",
          "fillOpacity": 0.5,
          "weight": 1
         },
         "type": "Feature"
        },
        {
         "geometry": {
          "coordinates": [
           8.9998,
           56.0508
          ],
          "type": "Point"
         },
         "properties": {
          "color": "#990000",
          "fillColor": "#990000",
          "fillOpacity": 0.5,
          "weight": 1
         },
         "type": "Feature"
        },
        {
         "geometry": {
          "coordinates": [
           8.8848,
           56.0509
          ],
          "type": "Point"
         },
         "properties": {
          "color": "#990000",
          "fillColor": "#990000",
          "fillOpacity": 0.5,
          "weight": 1
         },
         "type": "Feature"
        },
        {
         "geometry": {
          "coordinates": [
           8.8767,
           56.051
          ],
          "type": "Point"
         },
         "properties": {
          "color": "#990000",
          "fillColor": "#990000",
          "fillOpacity": 0.5,
          "weight": 1
         },
         "type": "Feature"
        },
        {
         "geometry": {
          "coordinates": [
           8.8768,
           56.051
          ],
          "type": "Point"
         },
         "properties": {
          "color": "#990000",
          "fillColor": "#990000",
          "fillOpacity": 0.5,
          "weight": 1
         },
         "type": "Feature"
        },
        {
         "geometry": {
          "coordinates": [
           8.8852,
           56.0513
          ],
          "type": "Point"
         },
         "properties": {
          "color": "#990000",
          "fillColor": "#990000",
          "fillOpacity": 0.5,
          "weight": 1
         },
         "type": "Feature"
        },
        {
         "geometry": {
          "coordinates": [
           8.9996,
           56.0519
          ],
          "type": "Point"
         },
         "properties": {
          "color": "#990000",
          "fillColor": "#990000",
          "fillOpacity": 0.5,
          "weight": 1
         },
         "type": "Feature"
        },
        {
         "geometry": {
          "coordinates": [
           8.9998,
           56.052
          ],
          "type": "Point"
         },
         "properties": {
          "color": "#990000",
          "fillColor": "#990000",
          "fillOpacity": 0.5,
          "weight": 1
         },
         "type": "Feature"
        },
        {
         "geometry": {
          "coordinates": [
           8.9996,
           56.0523
          ],
          "type": "Point"
         },
         "properties": {
          "color": "#990000",
          "fillColor": "#990000",
          "fillOpacity": 0.5,
          "weight": 1
         },
         "type": "Feature"
        },
        {
         "geometry": {
          "coordinates": [
           8.8864,
           56.0525
          ],
          "type": "Point"
         },
         "properties": {
          "color": "#990000",
          "fillColor": "#990000",
          "fillOpacity": 0.5,
          "weight": 1
         },
         "type": "Feature"
        },
        {
         "geometry": {
          "coordinates": [
           8.8867,
           56.0526
          ],
          "type": "Point"
         },
         "properties": {
          "color": "#990000",
          "fillColor": "#990000",
          "fillOpacity": 0.5,
          "weight": 1
         },
         "type": "Feature"
        },
        {
         "geometry": {
          "coordinates": [
           8.9995,
           56.0528
          ],
          "type": "Point"
         },
         "properties": {
          "color": "#990000",
          "fillColor": "#990000",
          "fillOpacity": 0.5,
          "weight": 1
         },
         "type": "Feature"
        },
        {
         "geometry": {
          "coordinates": [
           8.9995,
           56.053
          ],
          "type": "Point"
         },
         "properties": {
          "color": "#990000",
          "fillColor": "#990000",
          "fillOpacity": 0.5,
          "weight": 1
         },
         "type": "Feature"
        },
        {
         "geometry": {
          "coordinates": [
           8.9994,
           56.0532
          ],
          "type": "Point"
         },
         "properties": {
          "color": "#990000",
          "fillColor": "#990000",
          "fillOpacity": 0.5,
          "weight": 1
         },
         "type": "Feature"
        },
        {
         "geometry": {
          "coordinates": [
           8.9994,
           56.0533
          ],
          "type": "Point"
         },
         "properties": {
          "color": "#990000",
          "fillColor": "#990000",
          "fillOpacity": 0.5,
          "weight": 1
         },
         "type": "Feature"
        },
        {
         "geometry": {
          "coordinates": [
           8.9995,
           56.0533
          ],
          "type": "Point"
         },
         "properties": {
          "color": "#990000",
          "fillColor": "#990000",
          "fillOpacity": 0.5,
          "weight": 1
         },
         "type": "Feature"
        },
        {
         "geometry": {
          "coordinates": [
           8.9994,
           56.0536
          ],
          "type": "Point"
         },
         "properties": {
          "color": "#990000",
          "fillColor": "#990000",
          "fillOpacity": 0.5,
          "weight": 1
         },
         "type": "Feature"
        },
        {
         "geometry": {
          "coordinates": [
           8.888,
           56.0539
          ],
          "type": "Point"
         },
         "properties": {
          "color": "#990000",
          "fillColor": "#990000",
          "fillOpacity": 0.5,
          "weight": 1
         },
         "type": "Feature"
        },
        {
         "geometry": {
          "coordinates": [
           8.8888,
           56.0547
          ],
          "type": "Point"
         },
         "properties": {
          "color": "#990000",
          "fillColor": "#990000",
          "fillOpacity": 0.5,
          "weight": 1
         },
         "type": "Feature"
        },
        {
         "geometry": {
          "coordinates": [
           9.1144,
           56.0551
          ],
          "type": "Point"
         },
         "properties": {
          "color": "#990000",
          "fillColor": "#990000",
          "fillOpacity": 0.5,
          "weight": 1
         },
         "type": "Feature"
        },
        {
         "geometry": {
          "coordinates": [
           8.999,
           56.0553
          ],
          "type": "Point"
         },
         "properties": {
          "color": "#990000",
          "fillColor": "#990000",
          "fillOpacity": 0.5,
          "weight": 1
         },
         "type": "Feature"
        },
        {
         "geometry": {
          "coordinates": [
           8.8899,
           56.0556
          ],
          "type": "Point"
         },
         "properties": {
          "color": "#990000",
          "fillColor": "#990000",
          "fillOpacity": 0.5,
          "weight": 1
         },
         "type": "Feature"
        },
        {
         "geometry": {
          "coordinates": [
           8.89,
           56.0557
          ],
          "type": "Point"
         },
         "properties": {
          "color": "#990000",
          "fillColor": "#990000",
          "fillOpacity": 0.5,
          "weight": 1
         },
         "type": "Feature"
        },
        {
         "geometry": {
          "coordinates": [
           8.8902,
           56.0559
          ],
          "type": "Point"
         },
         "properties": {
          "color": "#990000",
          "fillColor": "#990000",
          "fillOpacity": 0.5,
          "weight": 1
         },
         "type": "Feature"
        },
        {
         "geometry": {
          "coordinates": [
           8.9966,
           56.0561
          ],
          "type": "Point"
         },
         "properties": {
          "color": "#990000",
          "fillColor": "#990000",
          "fillOpacity": 0.5,
          "weight": 1
         },
         "type": "Feature"
        },
        {
         "geometry": {
          "coordinates": [
           8.8907,
           56.0563
          ],
          "type": "Point"
         },
         "properties": {
          "color": "#990000",
          "fillColor": "#990000",
          "fillOpacity": 0.5,
          "weight": 1
         },
         "type": "Feature"
        },
        {
         "geometry": {
          "coordinates": [
           8.8482,
           56.0565
          ],
          "type": "Point"
         },
         "properties": {
          "color": "#990000",
          "fillColor": "#990000",
          "fillOpacity": 0.5,
          "weight": 1
         },
         "type": "Feature"
        },
        {
         "geometry": {
          "coordinates": [
           8.8911,
           56.0567
          ],
          "type": "Point"
         },
         "properties": {
          "color": "#990000",
          "fillColor": "#990000",
          "fillOpacity": 0.5,
          "weight": 1
         },
         "type": "Feature"
        },
        {
         "geometry": {
          "coordinates": [
           8.9214,
           56.0574
          ],
          "type": "Point"
         },
         "properties": {
          "color": "#990000",
          "fillColor": "#990000",
          "fillOpacity": 0.5,
          "weight": 1
         },
         "type": "Feature"
        },
        {
         "geometry": {
          "coordinates": [
           8.9986,
           56.0576
          ],
          "type": "Point"
         },
         "properties": {
          "color": "#990000",
          "fillColor": "#990000",
          "fillOpacity": 0.5,
          "weight": 1
         },
         "type": "Feature"
        },
        {
         "geometry": {
          "coordinates": [
           8.9986,
           56.0578
          ],
          "type": "Point"
         },
         "properties": {
          "color": "#990000",
          "fillColor": "#990000",
          "fillOpacity": 0.5,
          "weight": 1
         },
         "type": "Feature"
        },
        {
         "geometry": {
          "coordinates": [
           8.9986,
           56.0583
          ],
          "type": "Point"
         },
         "properties": {
          "color": "#990000",
          "fillColor": "#990000",
          "fillOpacity": 0.5,
          "weight": 1
         },
         "type": "Feature"
        },
        {
         "geometry": {
          "coordinates": [
           8.9984,
           56.0585
          ],
          "type": "Point"
         },
         "properties": {
          "color": "#990000",
          "fillColor": "#990000",
          "fillOpacity": 0.5,
          "weight": 1
         },
         "type": "Feature"
        },
        {
         "geometry": {
          "coordinates": [
           8.6476,
           56.0587
          ],
          "type": "Point"
         },
         "properties": {
          "color": "#990000",
          "fillColor": "#990000",
          "fillOpacity": 0.5,
          "weight": 1
         },
         "type": "Feature"
        },
        {
         "geometry": {
          "coordinates": [
           8.8932,
           56.0587
          ],
          "type": "Point"
         },
         "properties": {
          "color": "#990000",
          "fillColor": "#990000",
          "fillOpacity": 0.5,
          "weight": 1
         },
         "type": "Feature"
        },
        {
         "geometry": {
          "coordinates": [
           8.9984,
           56.0589
          ],
          "type": "Point"
         },
         "properties": {
          "color": "#990000",
          "fillColor": "#990000",
          "fillOpacity": 0.5,
          "weight": 1
         },
         "type": "Feature"
        },
        {
         "geometry": {
          "coordinates": [
           8.8936,
           56.059
          ],
          "type": "Point"
         },
         "properties": {
          "color": "#990000",
          "fillColor": "#990000",
          "fillOpacity": 0.5,
          "weight": 1
         },
         "type": "Feature"
        },
        {
         "geometry": {
          "coordinates": [
           8.9983,
           56.0595
          ],
          "type": "Point"
         },
         "properties": {
          "color": "#990000",
          "fillColor": "#990000",
          "fillOpacity": 0.5,
          "weight": 1
         },
         "type": "Feature"
        },
        {
         "geometry": {
          "coordinates": [
           8.9984,
           56.0596
          ],
          "type": "Point"
         },
         "properties": {
          "color": "#990000",
          "fillColor": "#990000",
          "fillOpacity": 0.5,
          "weight": 1
         },
         "type": "Feature"
        },
        {
         "geometry": {
          "coordinates": [
           8.9983,
           56.0597
          ],
          "type": "Point"
         },
         "properties": {
          "color": "#990000",
          "fillColor": "#990000",
          "fillOpacity": 0.5,
          "weight": 1
         },
         "type": "Feature"
        },
        {
         "geometry": {
          "coordinates": [
           8.8526,
           56.0607
          ],
          "type": "Point"
         },
         "properties": {
          "color": "#990000",
          "fillColor": "#990000",
          "fillOpacity": 0.5,
          "weight": 1
         },
         "type": "Feature"
        },
        {
         "geometry": {
          "coordinates": [
           8.9981,
           56.0612
          ],
          "type": "Point"
         },
         "properties": {
          "color": "#990000",
          "fillColor": "#990000",
          "fillOpacity": 0.5,
          "weight": 1
         },
         "type": "Feature"
        },
        {
         "geometry": {
          "coordinates": [
           9.007,
           56.0612
          ],
          "type": "Point"
         },
         "properties": {
          "color": "#990000",
          "fillColor": "#990000",
          "fillOpacity": 0.5,
          "weight": 1
         },
         "type": "Feature"
        },
        {
         "geometry": {
          "coordinates": [
           8.9979,
           56.0619
          ],
          "type": "Point"
         },
         "properties": {
          "color": "#990000",
          "fillColor": "#990000",
          "fillOpacity": 0.5,
          "weight": 1
         },
         "type": "Feature"
        },
        {
         "geometry": {
          "coordinates": [
           8.9978,
           56.062
          ],
          "type": "Point"
         },
         "properties": {
          "color": "#990000",
          "fillColor": "#990000",
          "fillOpacity": 0.5,
          "weight": 1
         },
         "type": "Feature"
        },
        {
         "geometry": {
          "coordinates": [
           8.998,
           56.062
          ],
          "type": "Point"
         },
         "properties": {
          "color": "#990000",
          "fillColor": "#990000",
          "fillOpacity": 0.5,
          "weight": 1
         },
         "type": "Feature"
        },
        {
         "geometry": {
          "coordinates": [
           9.0847,
           56.0621
          ],
          "type": "Point"
         },
         "properties": {
          "color": "#990000",
          "fillColor": "#990000",
          "fillOpacity": 0.5,
          "weight": 1
         },
         "type": "Feature"
        },
        {
         "geometry": {
          "coordinates": [
           8.897,
           56.0622
          ],
          "type": "Point"
         },
         "properties": {
          "color": "#990000",
          "fillColor": "#990000",
          "fillOpacity": 0.5,
          "weight": 1
         },
         "type": "Feature"
        },
        {
         "geometry": {
          "coordinates": [
           8.9978,
           56.0624
          ],
          "type": "Point"
         },
         "properties": {
          "color": "#990000",
          "fillColor": "#990000",
          "fillOpacity": 0.5,
          "weight": 1
         },
         "type": "Feature"
        },
        {
         "geometry": {
          "coordinates": [
           8.998,
           56.0624
          ],
          "type": "Point"
         },
         "properties": {
          "color": "#990000",
          "fillColor": "#990000",
          "fillOpacity": 0.5,
          "weight": 1
         },
         "type": "Feature"
        },
        {
         "geometry": {
          "coordinates": [
           8.9979,
           56.0625
          ],
          "type": "Point"
         },
         "properties": {
          "color": "#990000",
          "fillColor": "#990000",
          "fillOpacity": 0.5,
          "weight": 1
         },
         "type": "Feature"
        },
        {
         "geometry": {
          "coordinates": [
           8.9978,
           56.0628
          ],
          "type": "Point"
         },
         "properties": {
          "color": "#990000",
          "fillColor": "#990000",
          "fillOpacity": 0.5,
          "weight": 1
         },
         "type": "Feature"
        },
        {
         "geometry": {
          "coordinates": [
           8.9979,
           56.0628
          ],
          "type": "Point"
         },
         "properties": {
          "color": "#990000",
          "fillColor": "#990000",
          "fillOpacity": 0.5,
          "weight": 1
         },
         "type": "Feature"
        },
        {
         "geometry": {
          "coordinates": [
           9.0733,
           56.0632
          ],
          "type": "Point"
         },
         "properties": {
          "color": "#990000",
          "fillColor": "#990000",
          "fillOpacity": 0.5,
          "weight": 1
         },
         "type": "Feature"
        },
        {
         "geometry": {
          "coordinates": [
           9.0709,
           56.0633
          ],
          "type": "Point"
         },
         "properties": {
          "color": "#990000",
          "fillColor": "#990000",
          "fillOpacity": 0.5,
          "weight": 1
         },
         "type": "Feature"
        },
        {
         "geometry": {
          "coordinates": [
           9.081,
           56.0635
          ],
          "type": "Point"
         },
         "properties": {
          "color": "#990000",
          "fillColor": "#990000",
          "fillOpacity": 0.5,
          "weight": 1
         },
         "type": "Feature"
        },
        {
         "geometry": {
          "coordinates": [
           9.0807,
           56.0636
          ],
          "type": "Point"
         },
         "properties": {
          "color": "#990000",
          "fillColor": "#990000",
          "fillOpacity": 0.5,
          "weight": 1
         },
         "type": "Feature"
        },
        {
         "geometry": {
          "coordinates": [
           8.9917,
           56.0637
          ],
          "type": "Point"
         },
         "properties": {
          "color": "#990000",
          "fillColor": "#990000",
          "fillOpacity": 0.5,
          "weight": 1
         },
         "type": "Feature"
        },
        {
         "geometry": {
          "coordinates": [
           9.0621,
           56.0637
          ],
          "type": "Point"
         },
         "properties": {
          "color": "#990000",
          "fillColor": "#990000",
          "fillOpacity": 0.5,
          "weight": 1
         },
         "type": "Feature"
        },
        {
         "geometry": {
          "coordinates": [
           8.9944,
           56.0638
          ],
          "type": "Point"
         },
         "properties": {
          "color": "#990000",
          "fillColor": "#990000",
          "fillOpacity": 0.5,
          "weight": 1
         },
         "type": "Feature"
        },
        {
         "geometry": {
          "coordinates": [
           8.8988,
           56.064
          ],
          "type": "Point"
         },
         "properties": {
          "color": "#990000",
          "fillColor": "#990000",
          "fillOpacity": 0.5,
          "weight": 1
         },
         "type": "Feature"
        },
        {
         "geometry": {
          "coordinates": [
           8.9978,
           56.064
          ],
          "type": "Point"
         },
         "properties": {
          "color": "#990000",
          "fillColor": "#990000",
          "fillOpacity": 0.5,
          "weight": 1
         },
         "type": "Feature"
        },
        {
         "geometry": {
          "coordinates": [
           8.8992,
           56.0642
          ],
          "type": "Point"
         },
         "properties": {
          "color": "#990000",
          "fillColor": "#990000",
          "fillOpacity": 0.5,
          "weight": 1
         },
         "type": "Feature"
        },
        {
         "geometry": {
          "coordinates": [
           8.9975,
           56.0643
          ],
          "type": "Point"
         },
         "properties": {
          "color": "#990000",
          "fillColor": "#990000",
          "fillOpacity": 0.5,
          "weight": 1
         },
         "type": "Feature"
        },
        {
         "geometry": {
          "coordinates": [
           8.8993,
           56.0644
          ],
          "type": "Point"
         },
         "properties": {
          "color": "#990000",
          "fillColor": "#990000",
          "fillOpacity": 0.5,
          "weight": 1
         },
         "type": "Feature"
        },
        {
         "geometry": {
          "coordinates": [
           8.9976,
           56.0648
          ],
          "type": "Point"
         },
         "properties": {
          "color": "#990000",
          "fillColor": "#990000",
          "fillOpacity": 0.5,
          "weight": 1
         },
         "type": "Feature"
        },
        {
         "geometry": {
          "coordinates": [
           8.9004,
           56.0651
          ],
          "type": "Point"
         },
         "properties": {
          "color": "#990000",
          "fillColor": "#990000",
          "fillOpacity": 0.5,
          "weight": 1
         },
         "type": "Feature"
        },
        {
         "geometry": {
          "coordinates": [
           8.9978,
           56.0653
          ],
          "type": "Point"
         },
         "properties": {
          "color": "#990000",
          "fillColor": "#990000",
          "fillOpacity": 0.5,
          "weight": 1
         },
         "type": "Feature"
        },
        {
         "geometry": {
          "coordinates": [
           8.9976,
           56.0657
          ],
          "type": "Point"
         },
         "properties": {
          "color": "#990000",
          "fillColor": "#990000",
          "fillOpacity": 0.5,
          "weight": 1
         },
         "type": "Feature"
        },
        {
         "geometry": {
          "coordinates": [
           8.9009,
           56.0658
          ],
          "type": "Point"
         },
         "properties": {
          "color": "#990000",
          "fillColor": "#990000",
          "fillOpacity": 0.5,
          "weight": 1
         },
         "type": "Feature"
        },
        {
         "geometry": {
          "coordinates": [
           8.9976,
           56.0658
          ],
          "type": "Point"
         },
         "properties": {
          "color": "#990000",
          "fillColor": "#990000",
          "fillOpacity": 0.5,
          "weight": 1
         },
         "type": "Feature"
        },
        {
         "geometry": {
          "coordinates": [
           8.9974,
           56.0659
          ],
          "type": "Point"
         },
         "properties": {
          "color": "#990000",
          "fillColor": "#990000",
          "fillOpacity": 0.5,
          "weight": 1
         },
         "type": "Feature"
        },
        {
         "geometry": {
          "coordinates": [
           9.044,
           56.066
          ],
          "type": "Point"
         },
         "properties": {
          "color": "#990000",
          "fillColor": "#990000",
          "fillOpacity": 0.5,
          "weight": 1
         },
         "type": "Feature"
        },
        {
         "geometry": {
          "coordinates": [
           9.0845,
           56.0661
          ],
          "type": "Point"
         },
         "properties": {
          "color": "#990000",
          "fillColor": "#990000",
          "fillOpacity": 0.5,
          "weight": 1
         },
         "type": "Feature"
        },
        {
         "geometry": {
          "coordinates": [
           8.6001,
           56.0663
          ],
          "type": "Point"
         },
         "properties": {
          "color": "#990000",
          "fillColor": "#990000",
          "fillOpacity": 0.5,
          "weight": 1
         },
         "type": "Feature"
        },
        {
         "geometry": {
          "coordinates": [
           9.2637,
           56.0664
          ],
          "type": "Point"
         },
         "properties": {
          "color": "#990000",
          "fillColor": "#990000",
          "fillOpacity": 0.5,
          "weight": 1
         },
         "type": "Feature"
        },
        {
         "geometry": {
          "coordinates": [
           8.9016,
           56.0666
          ],
          "type": "Point"
         },
         "properties": {
          "color": "#990000",
          "fillColor": "#990000",
          "fillOpacity": 0.5,
          "weight": 1
         },
         "type": "Feature"
        },
        {
         "geometry": {
          "coordinates": [
           8.9018,
           56.0666
          ],
          "type": "Point"
         },
         "properties": {
          "color": "#990000",
          "fillColor": "#990000",
          "fillOpacity": 0.5,
          "weight": 1
         },
         "type": "Feature"
        },
        {
         "geometry": {
          "coordinates": [
           8.9013,
           56.0668
          ],
          "type": "Point"
         },
         "properties": {
          "color": "#990000",
          "fillColor": "#990000",
          "fillOpacity": 0.5,
          "weight": 1
         },
         "type": "Feature"
        },
        {
         "geometry": {
          "coordinates": [
           8.9022,
           56.0669
          ],
          "type": "Point"
         },
         "properties": {
          "color": "#990000",
          "fillColor": "#990000",
          "fillOpacity": 0.5,
          "weight": 1
         },
         "type": "Feature"
        },
        {
         "geometry": {
          "coordinates": [
           8.9023,
           56.067
          ],
          "type": "Point"
         },
         "properties": {
          "color": "#990000",
          "fillColor": "#990000",
          "fillOpacity": 0.5,
          "weight": 1
         },
         "type": "Feature"
        },
        {
         "geometry": {
          "coordinates": [
           8.9026,
           56.0672
          ],
          "type": "Point"
         },
         "properties": {
          "color": "#990000",
          "fillColor": "#990000",
          "fillOpacity": 0.5,
          "weight": 1
         },
         "type": "Feature"
        },
        {
         "geometry": {
          "coordinates": [
           9.0383,
           56.0673
          ],
          "type": "Point"
         },
         "properties": {
          "color": "#990000",
          "fillColor": "#990000",
          "fillOpacity": 0.5,
          "weight": 1
         },
         "type": "Feature"
        },
        {
         "geometry": {
          "coordinates": [
           8.6049,
           56.0674
          ],
          "type": "Point"
         },
         "properties": {
          "color": "#990000",
          "fillColor": "#990000",
          "fillOpacity": 0.5,
          "weight": 1
         },
         "type": "Feature"
        },
        {
         "geometry": {
          "coordinates": [
           8.9973,
           56.0675
          ],
          "type": "Point"
         },
         "properties": {
          "color": "#990000",
          "fillColor": "#990000",
          "fillOpacity": 0.5,
          "weight": 1
         },
         "type": "Feature"
        },
        {
         "geometry": {
          "coordinates": [
           8.9974,
           56.0675
          ],
          "type": "Point"
         },
         "properties": {
          "color": "#990000",
          "fillColor": "#990000",
          "fillOpacity": 0.5,
          "weight": 1
         },
         "type": "Feature"
        },
        {
         "geometry": {
          "coordinates": [
           8.9973,
           56.0677
          ],
          "type": "Point"
         },
         "properties": {
          "color": "#990000",
          "fillColor": "#990000",
          "fillOpacity": 0.5,
          "weight": 1
         },
         "type": "Feature"
        },
        {
         "geometry": {
          "coordinates": [
           9.035,
           56.0681
          ],
          "type": "Point"
         },
         "properties": {
          "color": "#990000",
          "fillColor": "#990000",
          "fillOpacity": 0.5,
          "weight": 1
         },
         "type": "Feature"
        },
        {
         "geometry": {
          "coordinates": [
           8.9154,
           56.0683
          ],
          "type": "Point"
         },
         "properties": {
          "color": "#990000",
          "fillColor": "#990000",
          "fillOpacity": 0.5,
          "weight": 1
         },
         "type": "Feature"
        },
        {
         "geometry": {
          "coordinates": [
           8.9971,
           56.0683
          ],
          "type": "Point"
         },
         "properties": {
          "color": "#990000",
          "fillColor": "#990000",
          "fillOpacity": 0.5,
          "weight": 1
         },
         "type": "Feature"
        },
        {
         "geometry": {
          "coordinates": [
           8.9974,
           56.0686
          ],
          "type": "Point"
         },
         "properties": {
          "color": "#990000",
          "fillColor": "#990000",
          "fillOpacity": 0.5,
          "weight": 1
         },
         "type": "Feature"
        },
        {
         "geometry": {
          "coordinates": [
           8.9972,
           56.0691
          ],
          "type": "Point"
         },
         "properties": {
          "color": "#990000",
          "fillColor": "#990000",
          "fillOpacity": 0.5,
          "weight": 1
         },
         "type": "Feature"
        },
        {
         "geometry": {
          "coordinates": [
           8.9024,
           56.0693
          ],
          "type": "Point"
         },
         "properties": {
          "color": "#990000",
          "fillColor": "#990000",
          "fillOpacity": 0.5,
          "weight": 1
         },
         "type": "Feature"
        },
        {
         "geometry": {
          "coordinates": [
           9.0226,
           56.0695
          ],
          "type": "Point"
         },
         "properties": {
          "color": "#990000",
          "fillColor": "#990000",
          "fillOpacity": 0.5,
          "weight": 1
         },
         "type": "Feature"
        },
        {
         "geometry": {
          "coordinates": [
           8.9971,
           56.0696
          ],
          "type": "Point"
         },
         "properties": {
          "color": "#990000",
          "fillColor": "#990000",
          "fillOpacity": 0.5,
          "weight": 1
         },
         "type": "Feature"
        },
        {
         "geometry": {
          "coordinates": [
           8.8849,
           56.0697
          ],
          "type": "Point"
         },
         "properties": {
          "color": "#990000",
          "fillColor": "#990000",
          "fillOpacity": 0.5,
          "weight": 1
         },
         "type": "Feature"
        },
        {
         "geometry": {
          "coordinates": [
           8.9972,
           56.0699
          ],
          "type": "Point"
         },
         "properties": {
          "color": "#990000",
          "fillColor": "#990000",
          "fillOpacity": 0.5,
          "weight": 1
         },
         "type": "Feature"
        },
        {
         "geometry": {
          "coordinates": [
           8.8854,
           56.07
          ],
          "type": "Point"
         },
         "properties": {
          "color": "#990000",
          "fillColor": "#990000",
          "fillOpacity": 0.5,
          "weight": 1
         },
         "type": "Feature"
        },
        {
         "geometry": {
          "coordinates": [
           8.8194,
           56.071
          ],
          "type": "Point"
         },
         "properties": {
          "color": "#990000",
          "fillColor": "#990000",
          "fillOpacity": 0.5,
          "weight": 1
         },
         "type": "Feature"
        },
        {
         "geometry": {
          "coordinates": [
           9.0129,
           56.0716
          ],
          "type": "Point"
         },
         "properties": {
          "color": "#990000",
          "fillColor": "#990000",
          "fillOpacity": 0.5,
          "weight": 1
         },
         "type": "Feature"
        },
        {
         "geometry": {
          "coordinates": [
           9.015,
           56.0716
          ],
          "type": "Point"
         },
         "properties": {
          "color": "#990000",
          "fillColor": "#990000",
          "fillOpacity": 0.5,
          "weight": 1
         },
         "type": "Feature"
        },
        {
         "geometry": {
          "coordinates": [
           8.6196,
           56.072
          ],
          "type": "Point"
         },
         "properties": {
          "color": "#990000",
          "fillColor": "#990000",
          "fillOpacity": 0.5,
          "weight": 1
         },
         "type": "Feature"
        },
        {
         "geometry": {
          "coordinates": [
           8.9969,
           56.0722
          ],
          "type": "Point"
         },
         "properties": {
          "color": "#990000",
          "fillColor": "#990000",
          "fillOpacity": 0.5,
          "weight": 1
         },
         "type": "Feature"
        },
        {
         "geometry": {
          "coordinates": [
           8.9084,
           56.0725
          ],
          "type": "Point"
         },
         "properties": {
          "color": "#990000",
          "fillColor": "#990000",
          "fillOpacity": 0.5,
          "weight": 1
         },
         "type": "Feature"
        },
        {
         "geometry": {
          "coordinates": [
           8.9084,
           56.0726
          ],
          "type": "Point"
         },
         "properties": {
          "color": "#990000",
          "fillColor": "#990000",
          "fillOpacity": 0.5,
          "weight": 1
         },
         "type": "Feature"
        },
        {
         "geometry": {
          "coordinates": [
           8.997,
           56.0728
          ],
          "type": "Point"
         },
         "properties": {
          "color": "#990000",
          "fillColor": "#990000",
          "fillOpacity": 0.5,
          "weight": 1
         },
         "type": "Feature"
        },
        {
         "geometry": {
          "coordinates": [
           8.9971,
           56.073
          ],
          "type": "Point"
         },
         "properties": {
          "color": "#990000",
          "fillColor": "#990000",
          "fillOpacity": 0.5,
          "weight": 1
         },
         "type": "Feature"
        },
        {
         "geometry": {
          "coordinates": [
           8.909,
           56.0731
          ],
          "type": "Point"
         },
         "properties": {
          "color": "#990000",
          "fillColor": "#990000",
          "fillOpacity": 0.5,
          "weight": 1
         },
         "type": "Feature"
        },
        {
         "geometry": {
          "coordinates": [
           8.9092,
           56.0733
          ],
          "type": "Point"
         },
         "properties": {
          "color": "#990000",
          "fillColor": "#990000",
          "fillOpacity": 0.5,
          "weight": 1
         },
         "type": "Feature"
        },
        {
         "geometry": {
          "coordinates": [
           8.8905,
           56.0734
          ],
          "type": "Point"
         },
         "properties": {
          "color": "#990000",
          "fillColor": "#990000",
          "fillOpacity": 0.5,
          "weight": 1
         },
         "type": "Feature"
        },
        {
         "geometry": {
          "coordinates": [
           8.9091,
           56.0735
          ],
          "type": "Point"
         },
         "properties": {
          "color": "#990000",
          "fillColor": "#990000",
          "fillOpacity": 0.5,
          "weight": 1
         },
         "type": "Feature"
        },
        {
         "geometry": {
          "coordinates": [
           9.0315,
           56.0738
          ],
          "type": "Point"
         },
         "properties": {
          "color": "#990000",
          "fillColor": "#990000",
          "fillOpacity": 0.5,
          "weight": 1
         },
         "type": "Feature"
        },
        {
         "geometry": {
          "coordinates": [
           8.8134,
           56.0742
          ],
          "type": "Point"
         },
         "properties": {
          "color": "#990000",
          "fillColor": "#990000",
          "fillOpacity": 0.5,
          "weight": 1
         },
         "type": "Feature"
        },
        {
         "geometry": {
          "coordinates": [
           8.8135,
           56.0743
          ],
          "type": "Point"
         },
         "properties": {
          "color": "#990000",
          "fillColor": "#990000",
          "fillOpacity": 0.5,
          "weight": 1
         },
         "type": "Feature"
        },
        {
         "geometry": {
          "coordinates": [
           8.9106,
           56.0747
          ],
          "type": "Point"
         },
         "properties": {
          "color": "#990000",
          "fillColor": "#990000",
          "fillOpacity": 0.5,
          "weight": 1
         },
         "type": "Feature"
        },
        {
         "geometry": {
          "coordinates": [
           8.9142,
           56.0748
          ],
          "type": "Point"
         },
         "properties": {
          "color": "#990000",
          "fillColor": "#990000",
          "fillOpacity": 0.5,
          "weight": 1
         },
         "type": "Feature"
        },
        {
         "geometry": {
          "coordinates": [
           8.9862,
           56.0756
          ],
          "type": "Point"
         },
         "properties": {
          "color": "#990000",
          "fillColor": "#990000",
          "fillOpacity": 0.5,
          "weight": 1
         },
         "type": "Feature"
        },
        {
         "geometry": {
          "coordinates": [
           8.9163,
           56.0758
          ],
          "type": "Point"
         },
         "properties": {
          "color": "#990000",
          "fillColor": "#990000",
          "fillOpacity": 0.5,
          "weight": 1
         },
         "type": "Feature"
        },
        {
         "geometry": {
          "coordinates": [
           8.9972,
           56.0759
          ],
          "type": "Point"
         },
         "properties": {
          "color": "#990000",
          "fillColor": "#990000",
          "fillOpacity": 0.5,
          "weight": 1
         },
         "type": "Feature"
        },
        {
         "geometry": {
          "coordinates": [
           8.997,
           56.076
          ],
          "type": "Point"
         },
         "properties": {
          "color": "#990000",
          "fillColor": "#990000",
          "fillOpacity": 0.5,
          "weight": 1
         },
         "type": "Feature"
        },
        {
         "geometry": {
          "coordinates": [
           8.997,
           56.0761
          ],
          "type": "Point"
         },
         "properties": {
          "color": "#990000",
          "fillColor": "#990000",
          "fillOpacity": 0.5,
          "weight": 1
         },
         "type": "Feature"
        },
        {
         "geometry": {
          "coordinates": [
           8.9972,
           56.0763
          ],
          "type": "Point"
         },
         "properties": {
          "color": "#990000",
          "fillColor": "#990000",
          "fillOpacity": 0.5,
          "weight": 1
         },
         "type": "Feature"
        },
        {
         "geometry": {
          "coordinates": [
           8.7809,
           56.0764
          ],
          "type": "Point"
         },
         "properties": {
          "color": "#990000",
          "fillColor": "#990000",
          "fillOpacity": 0.5,
          "weight": 1
         },
         "type": "Feature"
        },
        {
         "geometry": {
          "coordinates": [
           8.9123,
           56.0765
          ],
          "type": "Point"
         },
         "properties": {
          "color": "#990000",
          "fillColor": "#990000",
          "fillOpacity": 0.5,
          "weight": 1
         },
         "type": "Feature"
        },
        {
         "geometry": {
          "coordinates": [
           8.9972,
           56.0768
          ],
          "type": "Point"
         },
         "properties": {
          "color": "#990000",
          "fillColor": "#990000",
          "fillOpacity": 0.5,
          "weight": 1
         },
         "type": "Feature"
        },
        {
         "geometry": {
          "coordinates": [
           8.9131,
           56.0769
          ],
          "type": "Point"
         },
         "properties": {
          "color": "#990000",
          "fillColor": "#990000",
          "fillOpacity": 0.5,
          "weight": 1
         },
         "type": "Feature"
        },
        {
         "geometry": {
          "coordinates": [
           8.9777,
           56.0783
          ],
          "type": "Point"
         },
         "properties": {
          "color": "#990000",
          "fillColor": "#990000",
          "fillOpacity": 0.5,
          "weight": 1
         },
         "type": "Feature"
        },
        {
         "geometry": {
          "coordinates": [
           8.9974,
           56.0784
          ],
          "type": "Point"
         },
         "properties": {
          "color": "#990000",
          "fillColor": "#990000",
          "fillOpacity": 0.5,
          "weight": 1
         },
         "type": "Feature"
        },
        {
         "geometry": {
          "coordinates": [
           8.9136,
           56.0799
          ],
          "type": "Point"
         },
         "properties": {
          "color": "#990000",
          "fillColor": "#990000",
          "fillOpacity": 0.5,
          "weight": 1
         },
         "type": "Feature"
        },
        {
         "geometry": {
          "coordinates": [
           8.9157,
           56.0799
          ],
          "type": "Point"
         },
         "properties": {
          "color": "#990000",
          "fillColor": "#990000",
          "fillOpacity": 0.5,
          "weight": 1
         },
         "type": "Feature"
        },
        {
         "geometry": {
          "coordinates": [
           8.916,
           56.0803
          ],
          "type": "Point"
         },
         "properties": {
          "color": "#990000",
          "fillColor": "#990000",
          "fillOpacity": 0.5,
          "weight": 1
         },
         "type": "Feature"
        },
        {
         "geometry": {
          "coordinates": [
           8.9161,
           56.0803
          ],
          "type": "Point"
         },
         "properties": {
          "color": "#990000",
          "fillColor": "#990000",
          "fillOpacity": 0.5,
          "weight": 1
         },
         "type": "Feature"
        },
        {
         "geometry": {
          "coordinates": [
           8.9976,
           56.0804
          ],
          "type": "Point"
         },
         "properties": {
          "color": "#990000",
          "fillColor": "#990000",
          "fillOpacity": 0.5,
          "weight": 1
         },
         "type": "Feature"
        },
        {
         "geometry": {
          "coordinates": [
           8.9163,
           56.0805
          ],
          "type": "Point"
         },
         "properties": {
          "color": "#990000",
          "fillColor": "#990000",
          "fillOpacity": 0.5,
          "weight": 1
         },
         "type": "Feature"
        },
        {
         "geometry": {
          "coordinates": [
           8.9965,
           56.0813
          ],
          "type": "Point"
         },
         "properties": {
          "color": "#990000",
          "fillColor": "#990000",
          "fillOpacity": 0.5,
          "weight": 1
         },
         "type": "Feature"
        },
        {
         "geometry": {
          "coordinates": [
           8.9175,
           56.0818
          ],
          "type": "Point"
         },
         "properties": {
          "color": "#990000",
          "fillColor": "#990000",
          "fillOpacity": 0.5,
          "weight": 1
         },
         "type": "Feature"
        },
        {
         "geometry": {
          "coordinates": [
           8.998,
           56.0818
          ],
          "type": "Point"
         },
         "properties": {
          "color": "#990000",
          "fillColor": "#990000",
          "fillOpacity": 0.5,
          "weight": 1
         },
         "type": "Feature"
        },
        {
         "geometry": {
          "coordinates": [
           8.9174,
           56.082
          ],
          "type": "Point"
         },
         "properties": {
          "color": "#990000",
          "fillColor": "#990000",
          "fillOpacity": 0.5,
          "weight": 1
         },
         "type": "Feature"
        },
        {
         "geometry": {
          "coordinates": [
           8.9823,
           56.0823
          ],
          "type": "Point"
         },
         "properties": {
          "color": "#990000",
          "fillColor": "#990000",
          "fillOpacity": 0.5,
          "weight": 1
         },
         "type": "Feature"
        },
        {
         "geometry": {
          "coordinates": [
           8.7537,
           56.0824
          ],
          "type": "Point"
         },
         "properties": {
          "color": "#990000",
          "fillColor": "#990000",
          "fillOpacity": 0.5,
          "weight": 1
         },
         "type": "Feature"
        },
        {
         "geometry": {
          "coordinates": [
           8.9901,
           56.0825
          ],
          "type": "Point"
         },
         "properties": {
          "color": "#990000",
          "fillColor": "#990000",
          "fillOpacity": 0.5,
          "weight": 1
         },
         "type": "Feature"
        },
        {
         "geometry": {
          "coordinates": [
           8.918,
           56.0826
          ],
          "type": "Point"
         },
         "properties": {
          "color": "#990000",
          "fillColor": "#990000",
          "fillOpacity": 0.5,
          "weight": 1
         },
         "type": "Feature"
        },
        {
         "geometry": {
          "coordinates": [
           8.9848,
           56.0827
          ],
          "type": "Point"
         },
         "properties": {
          "color": "#990000",
          "fillColor": "#990000",
          "fillOpacity": 0.5,
          "weight": 1
         },
         "type": "Feature"
        },
        {
         "geometry": {
          "coordinates": [
           8.9856,
           56.0828
          ],
          "type": "Point"
         },
         "properties": {
          "color": "#990000",
          "fillColor": "#990000",
          "fillOpacity": 0.5,
          "weight": 1
         },
         "type": "Feature"
        },
        {
         "geometry": {
          "coordinates": [
           8.9983,
           56.0828
          ],
          "type": "Point"
         },
         "properties": {
          "color": "#990000",
          "fillColor": "#990000",
          "fillOpacity": 0.5,
          "weight": 1
         },
         "type": "Feature"
        },
        {
         "geometry": {
          "coordinates": [
           8.9848,
           56.0829
          ],
          "type": "Point"
         },
         "properties": {
          "color": "#990000",
          "fillColor": "#990000",
          "fillOpacity": 0.5,
          "weight": 1
         },
         "type": "Feature"
        },
        {
         "geometry": {
          "coordinates": [
           9.0875,
           56.0829
          ],
          "type": "Point"
         },
         "properties": {
          "color": "#990000",
          "fillColor": "#990000",
          "fillOpacity": 0.5,
          "weight": 1
         },
         "type": "Feature"
        },
        {
         "geometry": {
          "coordinates": [
           8.9848,
           56.083
          ],
          "type": "Point"
         },
         "properties": {
          "color": "#990000",
          "fillColor": "#990000",
          "fillOpacity": 0.5,
          "weight": 1
         },
         "type": "Feature"
        },
        {
         "geometry": {
          "coordinates": [
           8.9983,
           56.083
          ],
          "type": "Point"
         },
         "properties": {
          "color": "#990000",
          "fillColor": "#990000",
          "fillOpacity": 0.5,
          "weight": 1
         },
         "type": "Feature"
        },
        {
         "geometry": {
          "coordinates": [
           8.4187,
           56.0831
          ],
          "type": "Point"
         },
         "properties": {
          "color": "#990000",
          "fillColor": "#990000",
          "fillOpacity": 0.5,
          "weight": 1
         },
         "type": "Feature"
        },
        {
         "geometry": {
          "coordinates": [
           8.9129,
           56.0831
          ],
          "type": "Point"
         },
         "properties": {
          "color": "#990000",
          "fillColor": "#990000",
          "fillOpacity": 0.5,
          "weight": 1
         },
         "type": "Feature"
        },
        {
         "geometry": {
          "coordinates": [
           8.9807,
           56.0831
          ],
          "type": "Point"
         },
         "properties": {
          "color": "#990000",
          "fillColor": "#990000",
          "fillOpacity": 0.5,
          "weight": 1
         },
         "type": "Feature"
        },
        {
         "geometry": {
          "coordinates": [
           8.9822,
           56.0832
          ],
          "type": "Point"
         },
         "properties": {
          "color": "#990000",
          "fillColor": "#990000",
          "fillOpacity": 0.5,
          "weight": 1
         },
         "type": "Feature"
        },
        {
         "geometry": {
          "coordinates": [
           8.8436,
           56.0835
          ],
          "type": "Point"
         },
         "properties": {
          "color": "#990000",
          "fillColor": "#990000",
          "fillOpacity": 0.5,
          "weight": 1
         },
         "type": "Feature"
        },
        {
         "geometry": {
          "coordinates": [
           8.8803,
           56.0837
          ],
          "type": "Point"
         },
         "properties": {
          "color": "#990000",
          "fillColor": "#990000",
          "fillOpacity": 0.5,
          "weight": 1
         },
         "type": "Feature"
        },
        {
         "geometry": {
          "coordinates": [
           8.9986,
           56.0837
          ],
          "type": "Point"
         },
         "properties": {
          "color": "#990000",
          "fillColor": "#990000",
          "fillOpacity": 0.5,
          "weight": 1
         },
         "type": "Feature"
        },
        {
         "geometry": {
          "coordinates": [
           8.9985,
           56.0839
          ],
          "type": "Point"
         },
         "properties": {
          "color": "#990000",
          "fillColor": "#990000",
          "fillOpacity": 0.5,
          "weight": 1
         },
         "type": "Feature"
        },
        {
         "geometry": {
          "coordinates": [
           9.0029,
           56.0839
          ],
          "type": "Point"
         },
         "properties": {
          "color": "#990000",
          "fillColor": "#990000",
          "fillOpacity": 0.5,
          "weight": 1
         },
         "type": "Feature"
        },
        {
         "geometry": {
          "coordinates": [
           8.9194,
           56.084
          ],
          "type": "Point"
         },
         "properties": {
          "color": "#990000",
          "fillColor": "#990000",
          "fillOpacity": 0.5,
          "weight": 1
         },
         "type": "Feature"
        },
        {
         "geometry": {
          "coordinates": [
           8.9162,
           56.0841
          ],
          "type": "Point"
         },
         "properties": {
          "color": "#990000",
          "fillColor": "#990000",
          "fillOpacity": 0.5,
          "weight": 1
         },
         "type": "Feature"
        },
        {
         "geometry": {
          "coordinates": [
           8.9972,
           56.0842
          ],
          "type": "Point"
         },
         "properties": {
          "color": "#990000",
          "fillColor": "#990000",
          "fillOpacity": 0.5,
          "weight": 1
         },
         "type": "Feature"
        },
        {
         "geometry": {
          "coordinates": [
           8.9749,
           56.0848
          ],
          "type": "Point"
         },
         "properties": {
          "color": "#990000",
          "fillColor": "#990000",
          "fillOpacity": 0.5,
          "weight": 1
         },
         "type": "Feature"
        },
        {
         "geometry": {
          "coordinates": [
           8.9847,
           56.0849
          ],
          "type": "Point"
         },
         "properties": {
          "color": "#990000",
          "fillColor": "#990000",
          "fillOpacity": 0.5,
          "weight": 1
         },
         "type": "Feature"
        },
        {
         "geometry": {
          "coordinates": [
           8.9201,
           56.0852
          ],
          "type": "Point"
         },
         "properties": {
          "color": "#990000",
          "fillColor": "#990000",
          "fillOpacity": 0.5,
          "weight": 1
         },
         "type": "Feature"
        },
        {
         "geometry": {
          "coordinates": [
           8.9203,
           56.0854
          ],
          "type": "Point"
         },
         "properties": {
          "color": "#990000",
          "fillColor": "#990000",
          "fillOpacity": 0.5,
          "weight": 1
         },
         "type": "Feature"
        },
        {
         "geometry": {
          "coordinates": [
           8.9781,
           56.0855
          ],
          "type": "Point"
         },
         "properties": {
          "color": "#990000",
          "fillColor": "#990000",
          "fillOpacity": 0.5,
          "weight": 1
         },
         "type": "Feature"
        },
        {
         "geometry": {
          "coordinates": [
           8.9814,
           56.0855
          ],
          "type": "Point"
         },
         "properties": {
          "color": "#990000",
          "fillColor": "#990000",
          "fillOpacity": 0.5,
          "weight": 1
         },
         "type": "Feature"
        },
        {
         "geometry": {
          "coordinates": [
           8.9993,
           56.0858
          ],
          "type": "Point"
         },
         "properties": {
          "color": "#990000",
          "fillColor": "#990000",
          "fillOpacity": 0.5,
          "weight": 1
         },
         "type": "Feature"
        },
        {
         "geometry": {
          "coordinates": [
           8.7025,
           56.0864
          ],
          "type": "Point"
         },
         "properties": {
          "color": "#990000",
          "fillColor": "#990000",
          "fillOpacity": 0.5,
          "weight": 1
         },
         "type": "Feature"
        },
        {
         "geometry": {
          "coordinates": [
           8.9995,
           56.0864
          ],
          "type": "Point"
         },
         "properties": {
          "color": "#990000",
          "fillColor": "#990000",
          "fillOpacity": 0.5,
          "weight": 1
         },
         "type": "Feature"
        },
        {
         "geometry": {
          "coordinates": [
           8.8759,
           56.0867
          ],
          "type": "Point"
         },
         "properties": {
          "color": "#990000",
          "fillColor": "#990000",
          "fillOpacity": 0.5,
          "weight": 1
         },
         "type": "Feature"
        },
        {
         "geometry": {
          "coordinates": [
           8.9213,
           56.0869
          ],
          "type": "Point"
         },
         "properties": {
          "color": "#990000",
          "fillColor": "#990000",
          "fillOpacity": 0.5,
          "weight": 1
         },
         "type": "Feature"
        },
        {
         "geometry": {
          "coordinates": [
           9.0221,
           56.0869
          ],
          "type": "Point"
         },
         "properties": {
          "color": "#990000",
          "fillColor": "#990000",
          "fillOpacity": 0.5,
          "weight": 1
         },
         "type": "Feature"
        },
        {
         "geometry": {
          "coordinates": [
           9.0002,
           56.087
          ],
          "type": "Point"
         },
         "properties": {
          "color": "#990000",
          "fillColor": "#990000",
          "fillOpacity": 0.5,
          "weight": 1
         },
         "type": "Feature"
        },
        {
         "geometry": {
          "coordinates": [
           8.922,
           56.0876
          ],
          "type": "Point"
         },
         "properties": {
          "color": "#990000",
          "fillColor": "#990000",
          "fillOpacity": 0.5,
          "weight": 1
         },
         "type": "Feature"
        },
        {
         "geometry": {
          "coordinates": [
           8.9222,
           56.0876
          ],
          "type": "Point"
         },
         "properties": {
          "color": "#990000",
          "fillColor": "#990000",
          "fillOpacity": 0.5,
          "weight": 1
         },
         "type": "Feature"
        },
        {
         "geometry": {
          "coordinates": [
           9.0001,
           56.0878
          ],
          "type": "Point"
         },
         "properties": {
          "color": "#990000",
          "fillColor": "#990000",
          "fillOpacity": 0.5,
          "weight": 1
         },
         "type": "Feature"
        },
        {
         "geometry": {
          "coordinates": [
           8.9224,
           56.0879
          ],
          "type": "Point"
         },
         "properties": {
          "color": "#990000",
          "fillColor": "#990000",
          "fillOpacity": 0.5,
          "weight": 1
         },
         "type": "Feature"
        },
        {
         "geometry": {
          "coordinates": [
           9.0306,
           56.0879
          ],
          "type": "Point"
         },
         "properties": {
          "color": "#990000",
          "fillColor": "#990000",
          "fillOpacity": 0.5,
          "weight": 1
         },
         "type": "Feature"
        },
        {
         "geometry": {
          "coordinates": [
           8.944,
           56.0882
          ],
          "type": "Point"
         },
         "properties": {
          "color": "#990000",
          "fillColor": "#990000",
          "fillOpacity": 0.5,
          "weight": 1
         },
         "type": "Feature"
        },
        {
         "geometry": {
          "coordinates": [
           8.9066,
           56.0883
          ],
          "type": "Point"
         },
         "properties": {
          "color": "#990000",
          "fillColor": "#990000",
          "fillOpacity": 0.5,
          "weight": 1
         },
         "type": "Feature"
        },
        {
         "geometry": {
          "coordinates": [
           8.942,
           56.0883
          ],
          "type": "Point"
         },
         "properties": {
          "color": "#990000",
          "fillColor": "#990000",
          "fillOpacity": 0.5,
          "weight": 1
         },
         "type": "Feature"
        },
        {
         "geometry": {
          "coordinates": [
           8.9797,
           56.0883
          ],
          "type": "Point"
         },
         "properties": {
          "color": "#990000",
          "fillColor": "#990000",
          "fillOpacity": 0.5,
          "weight": 1
         },
         "type": "Feature"
        },
        {
         "geometry": {
          "coordinates": [
           8.923,
           56.0885
          ],
          "type": "Point"
         },
         "properties": {
          "color": "#990000",
          "fillColor": "#990000",
          "fillOpacity": 0.5,
          "weight": 1
         },
         "type": "Feature"
        },
        {
         "geometry": {
          "coordinates": [
           8.9043,
           56.0886
          ],
          "type": "Point"
         },
         "properties": {
          "color": "#990000",
          "fillColor": "#990000",
          "fillOpacity": 0.5,
          "weight": 1
         },
         "type": "Feature"
        },
        {
         "geometry": {
          "coordinates": [
           8.9462,
           56.0887
          ],
          "type": "Point"
         },
         "properties": {
          "color": "#990000",
          "fillColor": "#990000",
          "fillOpacity": 0.5,
          "weight": 1
         },
         "type": "Feature"
        },
        {
         "geometry": {
          "coordinates": [
           8.981,
           56.0887
          ],
          "type": "Point"
         },
         "properties": {
          "color": "#990000",
          "fillColor": "#990000",
          "fillOpacity": 0.5,
          "weight": 1
         },
         "type": "Feature"
        },
        {
         "geometry": {
          "coordinates": [
           8.6252,
           56.0888
          ],
          "type": "Point"
         },
         "properties": {
          "color": "#990000",
          "fillColor": "#990000",
          "fillOpacity": 0.5,
          "weight": 1
         },
         "type": "Feature"
        },
        {
         "geometry": {
          "coordinates": [
           8.9069,
           56.0893
          ],
          "type": "Point"
         },
         "properties": {
          "color": "#990000",
          "fillColor": "#990000",
          "fillOpacity": 0.5,
          "weight": 1
         },
         "type": "Feature"
        },
        {
         "geometry": {
          "coordinates": [
           8.9075,
           56.0893
          ],
          "type": "Point"
         },
         "properties": {
          "color": "#990000",
          "fillColor": "#990000",
          "fillOpacity": 0.5,
          "weight": 1
         },
         "type": "Feature"
        },
        {
         "geometry": {
          "coordinates": [
           8.9008,
           56.0894
          ],
          "type": "Point"
         },
         "properties": {
          "color": "#990000",
          "fillColor": "#990000",
          "fillOpacity": 0.5,
          "weight": 1
         },
         "type": "Feature"
        },
        {
         "geometry": {
          "coordinates": [
           8.9047,
           56.0894
          ],
          "type": "Point"
         },
         "properties": {
          "color": "#990000",
          "fillColor": "#990000",
          "fillOpacity": 0.5,
          "weight": 1
         },
         "type": "Feature"
        },
        {
         "geometry": {
          "coordinates": [
           8.9049,
           56.0894
          ],
          "type": "Point"
         },
         "properties": {
          "color": "#990000",
          "fillColor": "#990000",
          "fillOpacity": 0.5,
          "weight": 1
         },
         "type": "Feature"
        },
        {
         "geometry": {
          "coordinates": [
           8.9074,
           56.0894
          ],
          "type": "Point"
         },
         "properties": {
          "color": "#990000",
          "fillColor": "#990000",
          "fillOpacity": 0.5,
          "weight": 1
         },
         "type": "Feature"
        },
        {
         "geometry": {
          "coordinates": [
           8.9075,
           56.0894
          ],
          "type": "Point"
         },
         "properties": {
          "color": "#990000",
          "fillColor": "#990000",
          "fillOpacity": 0.5,
          "weight": 1
         },
         "type": "Feature"
        },
        {
         "geometry": {
          "coordinates": [
           8.9084,
           56.0894
          ],
          "type": "Point"
         },
         "properties": {
          "color": "#990000",
          "fillColor": "#990000",
          "fillOpacity": 0.5,
          "weight": 1
         },
         "type": "Feature"
        },
        {
         "geometry": {
          "coordinates": [
           8.9539,
           56.0894
          ],
          "type": "Point"
         },
         "properties": {
          "color": "#990000",
          "fillColor": "#990000",
          "fillOpacity": 0.5,
          "weight": 1
         },
         "type": "Feature"
        },
        {
         "geometry": {
          "coordinates": [
           9.0005,
           56.0894
          ],
          "type": "Point"
         },
         "properties": {
          "color": "#990000",
          "fillColor": "#990000",
          "fillOpacity": 0.5,
          "weight": 1
         },
         "type": "Feature"
        },
        {
         "geometry": {
          "coordinates": [
           8.8498,
           56.0898
          ],
          "type": "Point"
         },
         "properties": {
          "color": "#990000",
          "fillColor": "#990000",
          "fillOpacity": 0.5,
          "weight": 1
         },
         "type": "Feature"
        },
        {
         "geometry": {
          "coordinates": [
           8.9525,
           56.0898
          ],
          "type": "Point"
         },
         "properties": {
          "color": "#990000",
          "fillColor": "#990000",
          "fillOpacity": 0.5,
          "weight": 1
         },
         "type": "Feature"
        },
        {
         "geometry": {
          "coordinates": [
           8.9127,
           56.0899
          ],
          "type": "Point"
         },
         "properties": {
          "color": "#990000",
          "fillColor": "#990000",
          "fillOpacity": 0.5,
          "weight": 1
         },
         "type": "Feature"
        },
        {
         "geometry": {
          "coordinates": [
           8.953,
           56.0899
          ],
          "type": "Point"
         },
         "properties": {
          "color": "#990000",
          "fillColor": "#990000",
          "fillOpacity": 0.5,
          "weight": 1
         },
         "type": "Feature"
        },
        {
         "geometry": {
          "coordinates": [
           8.9128,
           56.09
          ],
          "type": "Point"
         },
         "properties": {
          "color": "#990000",
          "fillColor": "#990000",
          "fillOpacity": 0.5,
          "weight": 1
         },
         "type": "Feature"
        },
        {
         "geometry": {
          "coordinates": [
           8.9129,
           56.09
          ],
          "type": "Point"
         },
         "properties": {
          "color": "#990000",
          "fillColor": "#990000",
          "fillOpacity": 0.5,
          "weight": 1
         },
         "type": "Feature"
        },
        {
         "geometry": {
          "coordinates": [
           9.03,
           56.09
          ],
          "type": "Point"
         },
         "properties": {
          "color": "#990000",
          "fillColor": "#990000",
          "fillOpacity": 0.5,
          "weight": 1
         },
         "type": "Feature"
        },
        {
         "geometry": {
          "coordinates": [
           8.5869,
           56.0901
          ],
          "type": "Point"
         },
         "properties": {
          "color": "#990000",
          "fillColor": "#990000",
          "fillOpacity": 0.5,
          "weight": 1
         },
         "type": "Feature"
        },
        {
         "geometry": {
          "coordinates": [
           8.9125,
           56.0901
          ],
          "type": "Point"
         },
         "properties": {
          "color": "#990000",
          "fillColor": "#990000",
          "fillOpacity": 0.5,
          "weight": 1
         },
         "type": "Feature"
        },
        {
         "geometry": {
          "coordinates": [
           8.9128,
           56.0901
          ],
          "type": "Point"
         },
         "properties": {
          "color": "#990000",
          "fillColor": "#990000",
          "fillOpacity": 0.5,
          "weight": 1
         },
         "type": "Feature"
        },
        {
         "geometry": {
          "coordinates": [
           8.9129,
           56.0901
          ],
          "type": "Point"
         },
         "properties": {
          "color": "#990000",
          "fillColor": "#990000",
          "fillOpacity": 0.5,
          "weight": 1
         },
         "type": "Feature"
        },
        {
         "geometry": {
          "coordinates": [
           8.5876,
           56.0902
          ],
          "type": "Point"
         },
         "properties": {
          "color": "#990000",
          "fillColor": "#990000",
          "fillOpacity": 0.5,
          "weight": 1
         },
         "type": "Feature"
        },
        {
         "geometry": {
          "coordinates": [
           8.8716,
           56.0902
          ],
          "type": "Point"
         },
         "properties": {
          "color": "#990000",
          "fillColor": "#990000",
          "fillOpacity": 0.5,
          "weight": 1
         },
         "type": "Feature"
        },
        {
         "geometry": {
          "coordinates": [
           8.913,
           56.0902
          ],
          "type": "Point"
         },
         "properties": {
          "color": "#990000",
          "fillColor": "#990000",
          "fillOpacity": 0.5,
          "weight": 1
         },
         "type": "Feature"
        },
        {
         "geometry": {
          "coordinates": [
           8.9131,
           56.0902
          ],
          "type": "Point"
         },
         "properties": {
          "color": "#990000",
          "fillColor": "#990000",
          "fillOpacity": 0.5,
          "weight": 1
         },
         "type": "Feature"
        },
        {
         "geometry": {
          "coordinates": [
           8.9555,
           56.0902
          ],
          "type": "Point"
         },
         "properties": {
          "color": "#990000",
          "fillColor": "#990000",
          "fillOpacity": 0.5,
          "weight": 1
         },
         "type": "Feature"
        },
        {
         "geometry": {
          "coordinates": [
           8.9579,
           56.0902
          ],
          "type": "Point"
         },
         "properties": {
          "color": "#990000",
          "fillColor": "#990000",
          "fillOpacity": 0.5,
          "weight": 1
         },
         "type": "Feature"
        },
        {
         "geometry": {
          "coordinates": [
           8.961,
           56.0902
          ],
          "type": "Point"
         },
         "properties": {
          "color": "#990000",
          "fillColor": "#990000",
          "fillOpacity": 0.5,
          "weight": 1
         },
         "type": "Feature"
        },
        {
         "geometry": {
          "coordinates": [
           8.9243,
           56.0903
          ],
          "type": "Point"
         },
         "properties": {
          "color": "#990000",
          "fillColor": "#990000",
          "fillOpacity": 0.5,
          "weight": 1
         },
         "type": "Feature"
        },
        {
         "geometry": {
          "coordinates": [
           8.9596,
           56.0903
          ],
          "type": "Point"
         },
         "properties": {
          "color": "#990000",
          "fillColor": "#990000",
          "fillOpacity": 0.5,
          "weight": 1
         },
         "type": "Feature"
        },
        {
         "geometry": {
          "coordinates": [
           8.9123,
           56.0904
          ],
          "type": "Point"
         },
         "properties": {
          "color": "#990000",
          "fillColor": "#990000",
          "fillOpacity": 0.5,
          "weight": 1
         },
         "type": "Feature"
        },
        {
         "geometry": {
          "coordinates": [
           8.9589,
           56.0905
          ],
          "type": "Point"
         },
         "properties": {
          "color": "#990000",
          "fillColor": "#990000",
          "fillOpacity": 0.5,
          "weight": 1
         },
         "type": "Feature"
        },
        {
         "geometry": {
          "coordinates": [
           9.1088,
           56.0906
          ],
          "type": "Point"
         },
         "properties": {
          "color": "#990000",
          "fillColor": "#990000",
          "fillOpacity": 0.5,
          "weight": 1
         },
         "type": "Feature"
        },
        {
         "geometry": {
          "coordinates": [
           8.9292,
           56.0907
          ],
          "type": "Point"
         },
         "properties": {
          "color": "#990000",
          "fillColor": "#990000",
          "fillOpacity": 0.5,
          "weight": 1
         },
         "type": "Feature"
        },
        {
         "geometry": {
          "coordinates": [
           8.925,
           56.0908
          ],
          "type": "Point"
         },
         "properties": {
          "color": "#990000",
          "fillColor": "#990000",
          "fillOpacity": 0.5,
          "weight": 1
         },
         "type": "Feature"
        },
        {
         "geometry": {
          "coordinates": [
           8.9622,
           56.0908
          ],
          "type": "Point"
         },
         "properties": {
          "color": "#990000",
          "fillColor": "#990000",
          "fillOpacity": 0.5,
          "weight": 1
         },
         "type": "Feature"
        },
        {
         "geometry": {
          "coordinates": [
           8.8932,
           56.0909
          ],
          "type": "Point"
         },
         "properties": {
          "color": "#990000",
          "fillColor": "#990000",
          "fillOpacity": 0.5,
          "weight": 1
         },
         "type": "Feature"
        },
        {
         "geometry": {
          "coordinates": [
           8.9102,
           56.0909
          ],
          "type": "Point"
         },
         "properties": {
          "color": "#990000",
          "fillColor": "#990000",
          "fillOpacity": 0.5,
          "weight": 1
         },
         "type": "Feature"
        },
        {
         "geometry": {
          "coordinates": [
           8.9115,
           56.0909
          ],
          "type": "Point"
         },
         "properties": {
          "color": "#990000",
          "fillColor": "#990000",
          "fillOpacity": 0.5,
          "weight": 1
         },
         "type": "Feature"
        },
        {
         "geometry": {
          "coordinates": [
           8.9247,
           56.0909
          ],
          "type": "Point"
         },
         "properties": {
          "color": "#990000",
          "fillColor": "#990000",
          "fillOpacity": 0.5,
          "weight": 1
         },
         "type": "Feature"
        },
        {
         "geometry": {
          "coordinates": [
           8.9251,
           56.0909
          ],
          "type": "Point"
         },
         "properties": {
          "color": "#990000",
          "fillColor": "#990000",
          "fillOpacity": 0.5,
          "weight": 1
         },
         "type": "Feature"
        },
        {
         "geometry": {
          "coordinates": [
           8.9623,
           56.091
          ],
          "type": "Point"
         },
         "properties": {
          "color": "#990000",
          "fillColor": "#990000",
          "fillOpacity": 0.5,
          "weight": 1
         },
         "type": "Feature"
        },
        {
         "geometry": {
          "coordinates": [
           8.7047,
           56.0911
          ],
          "type": "Point"
         },
         "properties": {
          "color": "#990000",
          "fillColor": "#990000",
          "fillOpacity": 0.5,
          "weight": 1
         },
         "type": "Feature"
        },
        {
         "geometry": {
          "coordinates": [
           8.9112,
           56.0911
          ],
          "type": "Point"
         },
         "properties": {
          "color": "#990000",
          "fillColor": "#990000",
          "fillOpacity": 0.5,
          "weight": 1
         },
         "type": "Feature"
        },
        {
         "geometry": {
          "coordinates": [
           8.9117,
           56.0911
          ],
          "type": "Point"
         },
         "properties": {
          "color": "#990000",
          "fillColor": "#990000",
          "fillOpacity": 0.5,
          "weight": 1
         },
         "type": "Feature"
        },
        {
         "geometry": {
          "coordinates": [
           8.9245,
           56.0911
          ],
          "type": "Point"
         },
         "properties": {
          "color": "#990000",
          "fillColor": "#990000",
          "fillOpacity": 0.5,
          "weight": 1
         },
         "type": "Feature"
        },
        {
         "geometry": {
          "coordinates": [
           8.9247,
           56.0911
          ],
          "type": "Point"
         },
         "properties": {
          "color": "#990000",
          "fillColor": "#990000",
          "fillOpacity": 0.5,
          "weight": 1
         },
         "type": "Feature"
        },
        {
         "geometry": {
          "coordinates": [
           8.9255,
           56.0911
          ],
          "type": "Point"
         },
         "properties": {
          "color": "#990000",
          "fillColor": "#990000",
          "fillOpacity": 0.5,
          "weight": 1
         },
         "type": "Feature"
        },
        {
         "geometry": {
          "coordinates": [
           8.9123,
           56.0912
          ],
          "type": "Point"
         },
         "properties": {
          "color": "#990000",
          "fillColor": "#990000",
          "fillOpacity": 0.5,
          "weight": 1
         },
         "type": "Feature"
        },
        {
         "geometry": {
          "coordinates": [
           8.9218,
           56.0912
          ],
          "type": "Point"
         },
         "properties": {
          "color": "#990000",
          "fillColor": "#990000",
          "fillOpacity": 0.5,
          "weight": 1
         },
         "type": "Feature"
        },
        {
         "geometry": {
          "coordinates": [
           8.9234,
           56.0912
          ],
          "type": "Point"
         },
         "properties": {
          "color": "#990000",
          "fillColor": "#990000",
          "fillOpacity": 0.5,
          "weight": 1
         },
         "type": "Feature"
        },
        {
         "geometry": {
          "coordinates": [
           9.0018,
           56.0912
          ],
          "type": "Point"
         },
         "properties": {
          "color": "#990000",
          "fillColor": "#990000",
          "fillOpacity": 0.5,
          "weight": 1
         },
         "type": "Feature"
        },
        {
         "geometry": {
          "coordinates": [
           8.9095,
           56.0913
          ],
          "type": "Point"
         },
         "properties": {
          "color": "#990000",
          "fillColor": "#990000",
          "fillOpacity": 0.5,
          "weight": 1
         },
         "type": "Feature"
        },
        {
         "geometry": {
          "coordinates": [
           8.9117,
           56.0913
          ],
          "type": "Point"
         },
         "properties": {
          "color": "#990000",
          "fillColor": "#990000",
          "fillOpacity": 0.5,
          "weight": 1
         },
         "type": "Feature"
        },
        {
         "geometry": {
          "coordinates": [
           8.9238,
           56.0913
          ],
          "type": "Point"
         },
         "properties": {
          "color": "#990000",
          "fillColor": "#990000",
          "fillOpacity": 0.5,
          "weight": 1
         },
         "type": "Feature"
        },
        {
         "geometry": {
          "coordinates": [
           8.9808,
           56.0913
          ],
          "type": "Point"
         },
         "properties": {
          "color": "#990000",
          "fillColor": "#990000",
          "fillOpacity": 0.5,
          "weight": 1
         },
         "type": "Feature"
        },
        {
         "geometry": {
          "coordinates": [
           8.6316,
           56.0914
          ],
          "type": "Point"
         },
         "properties": {
          "color": "#990000",
          "fillColor": "#990000",
          "fillOpacity": 0.5,
          "weight": 1
         },
         "type": "Feature"
        },
        {
         "geometry": {
          "coordinates": [
           8.9189,
           56.0914
          ],
          "type": "Point"
         },
         "properties": {
          "color": "#990000",
          "fillColor": "#990000",
          "fillOpacity": 0.5,
          "weight": 1
         },
         "type": "Feature"
        },
        {
         "geometry": {
          "coordinates": [
           8.9193,
           56.0914
          ],
          "type": "Point"
         },
         "properties": {
          "color": "#990000",
          "fillColor": "#990000",
          "fillOpacity": 0.5,
          "weight": 1
         },
         "type": "Feature"
        },
        {
         "geometry": {
          "coordinates": [
           8.9208,
           56.0914
          ],
          "type": "Point"
         },
         "properties": {
          "color": "#990000",
          "fillColor": "#990000",
          "fillOpacity": 0.5,
          "weight": 1
         },
         "type": "Feature"
        },
        {
         "geometry": {
          "coordinates": [
           8.9219,
           56.0914
          ],
          "type": "Point"
         },
         "properties": {
          "color": "#990000",
          "fillColor": "#990000",
          "fillOpacity": 0.5,
          "weight": 1
         },
         "type": "Feature"
        },
        {
         "geometry": {
          "coordinates": [
           8.923,
           56.0914
          ],
          "type": "Point"
         },
         "properties": {
          "color": "#990000",
          "fillColor": "#990000",
          "fillOpacity": 0.5,
          "weight": 1
         },
         "type": "Feature"
        },
        {
         "geometry": {
          "coordinates": [
           8.9247,
           56.0914
          ],
          "type": "Point"
         },
         "properties": {
          "color": "#990000",
          "fillColor": "#990000",
          "fillOpacity": 0.5,
          "weight": 1
         },
         "type": "Feature"
        },
        {
         "geometry": {
          "coordinates": [
           8.9664,
           56.0914
          ],
          "type": "Point"
         },
         "properties": {
          "color": "#990000",
          "fillColor": "#990000",
          "fillOpacity": 0.5,
          "weight": 1
         },
         "type": "Feature"
        },
        {
         "geometry": {
          "coordinates": [
           9.0589,
           56.0914
          ],
          "type": "Point"
         },
         "properties": {
          "color": "#990000",
          "fillColor": "#990000",
          "fillOpacity": 0.5,
          "weight": 1
         },
         "type": "Feature"
        },
        {
         "geometry": {
          "coordinates": [
           8.6376,
           56.0915
          ],
          "type": "Point"
         },
         "properties": {
          "color": "#990000",
          "fillColor": "#990000",
          "fillOpacity": 0.5,
          "weight": 1
         },
         "type": "Feature"
        },
        {
         "geometry": {
          "coordinates": [
           8.8918,
           56.0915
          ],
          "type": "Point"
         },
         "properties": {
          "color": "#990000",
          "fillColor": "#990000",
          "fillOpacity": 0.5,
          "weight": 1
         },
         "type": "Feature"
        },
        {
         "geometry": {
          "coordinates": [
           8.9099,
           56.0915
          ],
          "type": "Point"
         },
         "properties": {
          "color": "#990000",
          "fillColor": "#990000",
          "fillOpacity": 0.5,
          "weight": 1
         },
         "type": "Feature"
        },
        {
         "geometry": {
          "coordinates": [
           8.9118,
           56.0915
          ],
          "type": "Point"
         },
         "properties": {
          "color": "#990000",
          "fillColor": "#990000",
          "fillOpacity": 0.5,
          "weight": 1
         },
         "type": "Feature"
        },
        {
         "geometry": {
          "coordinates": [
           8.92,
           56.0915
          ],
          "type": "Point"
         },
         "properties": {
          "color": "#990000",
          "fillColor": "#990000",
          "fillOpacity": 0.5,
          "weight": 1
         },
         "type": "Feature"
        },
        {
         "geometry": {
          "coordinates": [
           8.9205,
           56.0915
          ],
          "type": "Point"
         },
         "properties": {
          "color": "#990000",
          "fillColor": "#990000",
          "fillOpacity": 0.5,
          "weight": 1
         },
         "type": "Feature"
        },
        {
         "geometry": {
          "coordinates": [
           8.9544,
           56.0915
          ],
          "type": "Point"
         },
         "properties": {
          "color": "#990000",
          "fillColor": "#990000",
          "fillOpacity": 0.5,
          "weight": 1
         },
         "type": "Feature"
        },
        {
         "geometry": {
          "coordinates": [
           8.9664,
           56.0915
          ],
          "type": "Point"
         },
         "properties": {
          "color": "#990000",
          "fillColor": "#990000",
          "fillOpacity": 0.5,
          "weight": 1
         },
         "type": "Feature"
        },
        {
         "geometry": {
          "coordinates": [
           9.0018,
           56.0915
          ],
          "type": "Point"
         },
         "properties": {
          "color": "#990000",
          "fillColor": "#990000",
          "fillOpacity": 0.5,
          "weight": 1
         },
         "type": "Feature"
        },
        {
         "geometry": {
          "coordinates": [
           8.891,
           56.0916
          ],
          "type": "Point"
         },
         "properties": {
          "color": "#990000",
          "fillColor": "#990000",
          "fillOpacity": 0.5,
          "weight": 1
         },
         "type": "Feature"
        },
        {
         "geometry": {
          "coordinates": [
           8.9103,
           56.0916
          ],
          "type": "Point"
         },
         "properties": {
          "color": "#990000",
          "fillColor": "#990000",
          "fillOpacity": 0.5,
          "weight": 1
         },
         "type": "Feature"
        },
        {
         "geometry": {
          "coordinates": [
           8.9107,
           56.0916
          ],
          "type": "Point"
         },
         "properties": {
          "color": "#990000",
          "fillColor": "#990000",
          "fillOpacity": 0.5,
          "weight": 1
         },
         "type": "Feature"
        },
        {
         "geometry": {
          "coordinates": [
           8.9149,
           56.0916
          ],
          "type": "Point"
         },
         "properties": {
          "color": "#990000",
          "fillColor": "#990000",
          "fillOpacity": 0.5,
          "weight": 1
         },
         "type": "Feature"
        },
        {
         "geometry": {
          "coordinates": [
           8.9254,
           56.0916
          ],
          "type": "Point"
         },
         "properties": {
          "color": "#990000",
          "fillColor": "#990000",
          "fillOpacity": 0.5,
          "weight": 1
         },
         "type": "Feature"
        },
        {
         "geometry": {
          "coordinates": [
           8.9266,
           56.0916
          ],
          "type": "Point"
         },
         "properties": {
          "color": "#990000",
          "fillColor": "#990000",
          "fillOpacity": 0.5,
          "weight": 1
         },
         "type": "Feature"
        },
        {
         "geometry": {
          "coordinates": [
           9.0018,
           56.0916
          ],
          "type": "Point"
         },
         "properties": {
          "color": "#990000",
          "fillColor": "#990000",
          "fillOpacity": 0.5,
          "weight": 1
         },
         "type": "Feature"
        },
        {
         "geometry": {
          "coordinates": [
           9.4658,
           56.0916
          ],
          "type": "Point"
         },
         "properties": {
          "color": "#990000",
          "fillColor": "#990000",
          "fillOpacity": 0.5,
          "weight": 1
         },
         "type": "Feature"
        },
        {
         "geometry": {
          "coordinates": [
           8.9094,
           56.0917
          ],
          "type": "Point"
         },
         "properties": {
          "color": "#990000",
          "fillColor": "#990000",
          "fillOpacity": 0.5,
          "weight": 1
         },
         "type": "Feature"
        },
        {
         "geometry": {
          "coordinates": [
           8.9139,
           56.0917
          ],
          "type": "Point"
         },
         "properties": {
          "color": "#990000",
          "fillColor": "#990000",
          "fillOpacity": 0.5,
          "weight": 1
         },
         "type": "Feature"
        },
        {
         "geometry": {
          "coordinates": [
           8.9149,
           56.0917
          ],
          "type": "Point"
         },
         "properties": {
          "color": "#990000",
          "fillColor": "#990000",
          "fillOpacity": 0.5,
          "weight": 1
         },
         "type": "Feature"
        },
        {
         "geometry": {
          "coordinates": [
           8.9261,
           56.0917
          ],
          "type": "Point"
         },
         "properties": {
          "color": "#990000",
          "fillColor": "#990000",
          "fillOpacity": 0.5,
          "weight": 1
         },
         "type": "Feature"
        },
        {
         "geometry": {
          "coordinates": [
           8.8883,
           56.0918
          ],
          "type": "Point"
         },
         "properties": {
          "color": "#990000",
          "fillColor": "#990000",
          "fillOpacity": 0.5,
          "weight": 1
         },
         "type": "Feature"
        },
        {
         "geometry": {
          "coordinates": [
           8.9097,
           56.0918
          ],
          "type": "Point"
         },
         "properties": {
          "color": "#990000",
          "fillColor": "#990000",
          "fillOpacity": 0.5,
          "weight": 1
         },
         "type": "Feature"
        },
        {
         "geometry": {
          "coordinates": [
           8.9105,
           56.0918
          ],
          "type": "Point"
         },
         "properties": {
          "color": "#990000",
          "fillColor": "#990000",
          "fillOpacity": 0.5,
          "weight": 1
         },
         "type": "Feature"
        },
        {
         "geometry": {
          "coordinates": [
           8.9114,
           56.0918
          ],
          "type": "Point"
         },
         "properties": {
          "color": "#990000",
          "fillColor": "#990000",
          "fillOpacity": 0.5,
          "weight": 1
         },
         "type": "Feature"
        },
        {
         "geometry": {
          "coordinates": [
           8.9119,
           56.0918
          ],
          "type": "Point"
         },
         "properties": {
          "color": "#990000",
          "fillColor": "#990000",
          "fillOpacity": 0.5,
          "weight": 1
         },
         "type": "Feature"
        },
        {
         "geometry": {
          "coordinates": [
           8.912,
           56.0918
          ],
          "type": "Point"
         },
         "properties": {
          "color": "#990000",
          "fillColor": "#990000",
          "fillOpacity": 0.5,
          "weight": 1
         },
         "type": "Feature"
        },
        {
         "geometry": {
          "coordinates": [
           8.923,
           56.0918
          ],
          "type": "Point"
         },
         "properties": {
          "color": "#990000",
          "fillColor": "#990000",
          "fillOpacity": 0.5,
          "weight": 1
         },
         "type": "Feature"
        },
        {
         "geometry": {
          "coordinates": [
           8.9801,
           56.0918
          ],
          "type": "Point"
         },
         "properties": {
          "color": "#990000",
          "fillColor": "#990000",
          "fillOpacity": 0.5,
          "weight": 1
         },
         "type": "Feature"
        },
        {
         "geometry": {
          "coordinates": [
           8.9086,
           56.0919
          ],
          "type": "Point"
         },
         "properties": {
          "color": "#990000",
          "fillColor": "#990000",
          "fillOpacity": 0.5,
          "weight": 1
         },
         "type": "Feature"
        },
        {
         "geometry": {
          "coordinates": [
           8.9109,
           56.0919
          ],
          "type": "Point"
         },
         "properties": {
          "color": "#990000",
          "fillColor": "#990000",
          "fillOpacity": 0.5,
          "weight": 1
         },
         "type": "Feature"
        },
        {
         "geometry": {
          "coordinates": [
           8.8936,
           56.092
          ],
          "type": "Point"
         },
         "properties": {
          "color": "#990000",
          "fillColor": "#990000",
          "fillOpacity": 0.5,
          "weight": 1
         },
         "type": "Feature"
        },
        {
         "geometry": {
          "coordinates": [
           8.894,
           56.092
          ],
          "type": "Point"
         },
         "properties": {
          "color": "#990000",
          "fillColor": "#990000",
          "fillOpacity": 0.5,
          "weight": 1
         },
         "type": "Feature"
        },
        {
         "geometry": {
          "coordinates": [
           8.9108,
           56.092
          ],
          "type": "Point"
         },
         "properties": {
          "color": "#990000",
          "fillColor": "#990000",
          "fillOpacity": 0.5,
          "weight": 1
         },
         "type": "Feature"
        },
        {
         "geometry": {
          "coordinates": [
           8.9113,
           56.092
          ],
          "type": "Point"
         },
         "properties": {
          "color": "#990000",
          "fillColor": "#990000",
          "fillOpacity": 0.5,
          "weight": 1
         },
         "type": "Feature"
        },
        {
         "geometry": {
          "coordinates": [
           8.9107,
           56.0921
          ],
          "type": "Point"
         },
         "properties": {
          "color": "#990000",
          "fillColor": "#990000",
          "fillOpacity": 0.5,
          "weight": 1
         },
         "type": "Feature"
        },
        {
         "geometry": {
          "coordinates": [
           8.9109,
           56.0921
          ],
          "type": "Point"
         },
         "properties": {
          "color": "#990000",
          "fillColor": "#990000",
          "fillOpacity": 0.5,
          "weight": 1
         },
         "type": "Feature"
        },
        {
         "geometry": {
          "coordinates": [
           8.9807,
           56.0921
          ],
          "type": "Point"
         },
         "properties": {
          "color": "#990000",
          "fillColor": "#990000",
          "fillOpacity": 0.5,
          "weight": 1
         },
         "type": "Feature"
        },
        {
         "geometry": {
          "coordinates": [
           8.8979,
           56.0922
          ],
          "type": "Point"
         },
         "properties": {
          "color": "#990000",
          "fillColor": "#990000",
          "fillOpacity": 0.5,
          "weight": 1
         },
         "type": "Feature"
        },
        {
         "geometry": {
          "coordinates": [
           8.9101,
           56.0922
          ],
          "type": "Point"
         },
         "properties": {
          "color": "#990000",
          "fillColor": "#990000",
          "fillOpacity": 0.5,
          "weight": 1
         },
         "type": "Feature"
        },
        {
         "geometry": {
          "coordinates": [
           8.9262,
           56.0923
          ],
          "type": "Point"
         },
         "properties": {
          "color": "#990000",
          "fillColor": "#990000",
          "fillOpacity": 0.5,
          "weight": 1
         },
         "type": "Feature"
        },
        {
         "geometry": {
          "coordinates": [
           8.9456,
           56.0923
          ],
          "type": "Point"
         },
         "properties": {
          "color": "#990000",
          "fillColor": "#990000",
          "fillOpacity": 0.5,
          "weight": 1
         },
         "type": "Feature"
        },
        {
         "geometry": {
          "coordinates": [
           8.9109,
           56.0926
          ],
          "type": "Point"
         },
         "properties": {
          "color": "#990000",
          "fillColor": "#990000",
          "fillOpacity": 0.5,
          "weight": 1
         },
         "type": "Feature"
        },
        {
         "geometry": {
          "coordinates": [
           9.4374,
           56.0926
          ],
          "type": "Point"
         },
         "properties": {
          "color": "#990000",
          "fillColor": "#990000",
          "fillOpacity": 0.5,
          "weight": 1
         },
         "type": "Feature"
        },
        {
         "geometry": {
          "coordinates": [
           8.649,
           56.0927
          ],
          "type": "Point"
         },
         "properties": {
          "color": "#990000",
          "fillColor": "#990000",
          "fillOpacity": 0.5,
          "weight": 1
         },
         "type": "Feature"
        },
        {
         "geometry": {
          "coordinates": [
           9.0025,
           56.0927
          ],
          "type": "Point"
         },
         "properties": {
          "color": "#990000",
          "fillColor": "#990000",
          "fillOpacity": 0.5,
          "weight": 1
         },
         "type": "Feature"
        },
        {
         "geometry": {
          "coordinates": [
           8.9072,
           56.0929
          ],
          "type": "Point"
         },
         "properties": {
          "color": "#990000",
          "fillColor": "#990000",
          "fillOpacity": 0.5,
          "weight": 1
         },
         "type": "Feature"
        },
        {
         "geometry": {
          "coordinates": [
           8.9111,
           56.0929
          ],
          "type": "Point"
         },
         "properties": {
          "color": "#990000",
          "fillColor": "#990000",
          "fillOpacity": 0.5,
          "weight": 1
         },
         "type": "Feature"
        },
        {
         "geometry": {
          "coordinates": [
           8.9137,
           56.0929
          ],
          "type": "Point"
         },
         "properties": {
          "color": "#990000",
          "fillColor": "#990000",
          "fillOpacity": 0.5,
          "weight": 1
         },
         "type": "Feature"
        },
        {
         "geometry": {
          "coordinates": [
           9.0093,
           56.0929
          ],
          "type": "Point"
         },
         "properties": {
          "color": "#990000",
          "fillColor": "#990000",
          "fillOpacity": 0.5,
          "weight": 1
         },
         "type": "Feature"
        },
        {
         "geometry": {
          "coordinates": [
           9.0404,
           56.0929
          ],
          "type": "Point"
         },
         "properties": {
          "color": "#990000",
          "fillColor": "#990000",
          "fillOpacity": 0.5,
          "weight": 1
         },
         "type": "Feature"
        },
        {
         "geometry": {
          "coordinates": [
           9.0286,
           56.093
          ],
          "type": "Point"
         },
         "properties": {
          "color": "#990000",
          "fillColor": "#990000",
          "fillOpacity": 0.5,
          "weight": 1
         },
         "type": "Feature"
        },
        {
         "geometry": {
          "coordinates": [
           8.9108,
           56.0931
          ],
          "type": "Point"
         },
         "properties": {
          "color": "#990000",
          "fillColor": "#990000",
          "fillOpacity": 0.5,
          "weight": 1
         },
         "type": "Feature"
        },
        {
         "geometry": {
          "coordinates": [
           8.974,
           56.0931
          ],
          "type": "Point"
         },
         "properties": {
          "color": "#990000",
          "fillColor": "#990000",
          "fillOpacity": 0.5,
          "weight": 1
         },
         "type": "Feature"
        },
        {
         "geometry": {
          "coordinates": [
           8.9804,
           56.0931
          ],
          "type": "Point"
         },
         "properties": {
          "color": "#990000",
          "fillColor": "#990000",
          "fillOpacity": 0.5,
          "weight": 1
         },
         "type": "Feature"
        },
        {
         "geometry": {
          "coordinates": [
           8.8893,
           56.0932
          ],
          "type": "Point"
         },
         "properties": {
          "color": "#990000",
          "fillColor": "#990000",
          "fillOpacity": 0.5,
          "weight": 1
         },
         "type": "Feature"
        },
        {
         "geometry": {
          "coordinates": [
           8.9401,
           56.0932
          ],
          "type": "Point"
         },
         "properties": {
          "color": "#990000",
          "fillColor": "#990000",
          "fillOpacity": 0.5,
          "weight": 1
         },
         "type": "Feature"
        },
        {
         "geometry": {
          "coordinates": [
           9.0831,
           56.0932
          ],
          "type": "Point"
         },
         "properties": {
          "color": "#990000",
          "fillColor": "#990000",
          "fillOpacity": 0.5,
          "weight": 1
         },
         "type": "Feature"
        },
        {
         "geometry": {
          "coordinates": [
           8.9807,
           56.0933
          ],
          "type": "Point"
         },
         "properties": {
          "color": "#990000",
          "fillColor": "#990000",
          "fillOpacity": 0.5,
          "weight": 1
         },
         "type": "Feature"
        },
        {
         "geometry": {
          "coordinates": [
           9.0028,
           56.0933
          ],
          "type": "Point"
         },
         "properties": {
          "color": "#990000",
          "fillColor": "#990000",
          "fillOpacity": 0.5,
          "weight": 1
         },
         "type": "Feature"
        },
        {
         "geometry": {
          "coordinates": [
           9.028,
           56.0933
          ],
          "type": "Point"
         },
         "properties": {
          "color": "#990000",
          "fillColor": "#990000",
          "fillOpacity": 0.5,
          "weight": 1
         },
         "type": "Feature"
        },
        {
         "geometry": {
          "coordinates": [
           8.8852,
           56.0934
          ],
          "type": "Point"
         },
         "properties": {
          "color": "#990000",
          "fillColor": "#990000",
          "fillOpacity": 0.5,
          "weight": 1
         },
         "type": "Feature"
        },
        {
         "geometry": {
          "coordinates": [
           8.8853,
           56.0934
          ],
          "type": "Point"
         },
         "properties": {
          "color": "#990000",
          "fillColor": "#990000",
          "fillOpacity": 0.5,
          "weight": 1
         },
         "type": "Feature"
        },
        {
         "geometry": {
          "coordinates": [
           8.9105,
           56.0934
          ],
          "type": "Point"
         },
         "properties": {
          "color": "#990000",
          "fillColor": "#990000",
          "fillOpacity": 0.5,
          "weight": 1
         },
         "type": "Feature"
        },
        {
         "geometry": {
          "coordinates": [
           8.8535,
           56.0935
          ],
          "type": "Point"
         },
         "properties": {
          "color": "#990000",
          "fillColor": "#990000",
          "fillOpacity": 0.5,
          "weight": 1
         },
         "type": "Feature"
        },
        {
         "geometry": {
          "coordinates": [
           8.9111,
           56.0935
          ],
          "type": "Point"
         },
         "properties": {
          "color": "#990000",
          "fillColor": "#990000",
          "fillOpacity": 0.5,
          "weight": 1
         },
         "type": "Feature"
        },
        {
         "geometry": {
          "coordinates": [
           8.883,
           56.0936
          ],
          "type": "Point"
         },
         "properties": {
          "color": "#990000",
          "fillColor": "#990000",
          "fillOpacity": 0.5,
          "weight": 1
         },
         "type": "Feature"
        },
        {
         "geometry": {
          "coordinates": [
           8.8849,
           56.0936
          ],
          "type": "Point"
         },
         "properties": {
          "color": "#990000",
          "fillColor": "#990000",
          "fillOpacity": 0.5,
          "weight": 1
         },
         "type": "Feature"
        },
        {
         "geometry": {
          "coordinates": [
           8.8824,
           56.0938
          ],
          "type": "Point"
         },
         "properties": {
          "color": "#990000",
          "fillColor": "#990000",
          "fillOpacity": 0.5,
          "weight": 1
         },
         "type": "Feature"
        },
        {
         "geometry": {
          "coordinates": [
           8.9227,
           56.0938
          ],
          "type": "Point"
         },
         "properties": {
          "color": "#990000",
          "fillColor": "#990000",
          "fillOpacity": 0.5,
          "weight": 1
         },
         "type": "Feature"
        },
        {
         "geometry": {
          "coordinates": [
           8.8812,
           56.0939
          ],
          "type": "Point"
         },
         "properties": {
          "color": "#990000",
          "fillColor": "#990000",
          "fillOpacity": 0.5,
          "weight": 1
         },
         "type": "Feature"
        },
        {
         "geometry": {
          "coordinates": [
           8.9274,
           56.0939
          ],
          "type": "Point"
         },
         "properties": {
          "color": "#990000",
          "fillColor": "#990000",
          "fillOpacity": 0.5,
          "weight": 1
         },
         "type": "Feature"
        },
        {
         "geometry": {
          "coordinates": [
           8.8777,
           56.094
          ],
          "type": "Point"
         },
         "properties": {
          "color": "#990000",
          "fillColor": "#990000",
          "fillOpacity": 0.5,
          "weight": 1
         },
         "type": "Feature"
        },
        {
         "geometry": {
          "coordinates": [
           8.88,
           56.094
          ],
          "type": "Point"
         },
         "properties": {
          "color": "#990000",
          "fillColor": "#990000",
          "fillOpacity": 0.5,
          "weight": 1
         },
         "type": "Feature"
        },
        {
         "geometry": {
          "coordinates": [
           8.8785,
           56.0941
          ],
          "type": "Point"
         },
         "properties": {
          "color": "#990000",
          "fillColor": "#990000",
          "fillOpacity": 0.5,
          "weight": 1
         },
         "type": "Feature"
        },
        {
         "geometry": {
          "coordinates": [
           8.879,
           56.0941
          ],
          "type": "Point"
         },
         "properties": {
          "color": "#990000",
          "fillColor": "#990000",
          "fillOpacity": 0.5,
          "weight": 1
         },
         "type": "Feature"
        },
        {
         "geometry": {
          "coordinates": [
           8.8784,
           56.0942
          ],
          "type": "Point"
         },
         "properties": {
          "color": "#990000",
          "fillColor": "#990000",
          "fillOpacity": 0.5,
          "weight": 1
         },
         "type": "Feature"
        },
        {
         "geometry": {
          "coordinates": [
           8.9358,
           56.0942
          ],
          "type": "Point"
         },
         "properties": {
          "color": "#990000",
          "fillColor": "#990000",
          "fillOpacity": 0.5,
          "weight": 1
         },
         "type": "Feature"
        },
        {
         "geometry": {
          "coordinates": [
           8.9754,
           56.0942
          ],
          "type": "Point"
         },
         "properties": {
          "color": "#990000",
          "fillColor": "#990000",
          "fillOpacity": 0.5,
          "weight": 1
         },
         "type": "Feature"
        },
        {
         "geometry": {
          "coordinates": [
           9.0034,
           56.0943
          ],
          "type": "Point"
         },
         "properties": {
          "color": "#990000",
          "fillColor": "#990000",
          "fillOpacity": 0.5,
          "weight": 1
         },
         "type": "Feature"
        },
        {
         "geometry": {
          "coordinates": [
           8.8762,
           56.0944
          ],
          "type": "Point"
         },
         "properties": {
          "color": "#990000",
          "fillColor": "#990000",
          "fillOpacity": 0.5,
          "weight": 1
         },
         "type": "Feature"
        },
        {
         "geometry": {
          "coordinates": [
           8.928,
           56.0945
          ],
          "type": "Point"
         },
         "properties": {
          "color": "#990000",
          "fillColor": "#990000",
          "fillOpacity": 0.5,
          "weight": 1
         },
         "type": "Feature"
        },
        {
         "geometry": {
          "coordinates": [
           8.9282,
           56.0945
          ],
          "type": "Point"
         },
         "properties": {
          "color": "#990000",
          "fillColor": "#990000",
          "fillOpacity": 0.5,
          "weight": 1
         },
         "type": "Feature"
        },
        {
         "geometry": {
          "coordinates": [
           8.9764,
           56.0945
          ],
          "type": "Point"
         },
         "properties": {
          "color": "#990000",
          "fillColor": "#990000",
          "fillOpacity": 0.5,
          "weight": 1
         },
         "type": "Feature"
        },
        {
         "geometry": {
          "coordinates": [
           8.8744,
           56.0946
          ],
          "type": "Point"
         },
         "properties": {
          "color": "#990000",
          "fillColor": "#990000",
          "fillOpacity": 0.5,
          "weight": 1
         },
         "type": "Feature"
        },
        {
         "geometry": {
          "coordinates": [
           8.9109,
           56.0946
          ],
          "type": "Point"
         },
         "properties": {
          "color": "#990000",
          "fillColor": "#990000",
          "fillOpacity": 0.5,
          "weight": 1
         },
         "type": "Feature"
        },
        {
         "geometry": {
          "coordinates": [
           8.9798,
           56.0946
          ],
          "type": "Point"
         },
         "properties": {
          "color": "#990000",
          "fillColor": "#990000",
          "fillOpacity": 0.5,
          "weight": 1
         },
         "type": "Feature"
        },
        {
         "geometry": {
          "coordinates": [
           8.8745,
           56.0948
          ],
          "type": "Point"
         },
         "properties": {
          "color": "#990000",
          "fillColor": "#990000",
          "fillOpacity": 0.5,
          "weight": 1
         },
         "type": "Feature"
        },
        {
         "geometry": {
          "coordinates": [
           8.9803,
           56.0948
          ],
          "type": "Point"
         },
         "properties": {
          "color": "#990000",
          "fillColor": "#990000",
          "fillOpacity": 0.5,
          "weight": 1
         },
         "type": "Feature"
        },
        {
         "geometry": {
          "coordinates": [
           8.874,
           56.0949
          ],
          "type": "Point"
         },
         "properties": {
          "color": "#990000",
          "fillColor": "#990000",
          "fillOpacity": 0.5,
          "weight": 1
         },
         "type": "Feature"
        },
        {
         "geometry": {
          "coordinates": [
           9.0038,
           56.0949
          ],
          "type": "Point"
         },
         "properties": {
          "color": "#990000",
          "fillColor": "#990000",
          "fillOpacity": 0.5,
          "weight": 1
         },
         "type": "Feature"
        },
        {
         "geometry": {
          "coordinates": [
           8.6487,
           56.095
          ],
          "type": "Point"
         },
         "properties": {
          "color": "#990000",
          "fillColor": "#990000",
          "fillOpacity": 0.5,
          "weight": 1
         },
         "type": "Feature"
        },
        {
         "geometry": {
          "coordinates": [
           8.9284,
           56.095
          ],
          "type": "Point"
         },
         "properties": {
          "color": "#990000",
          "fillColor": "#990000",
          "fillOpacity": 0.5,
          "weight": 1
         },
         "type": "Feature"
        },
        {
         "geometry": {
          "coordinates": [
           8.9646,
           56.095
          ],
          "type": "Point"
         },
         "properties": {
          "color": "#990000",
          "fillColor": "#990000",
          "fillOpacity": 0.5,
          "weight": 1
         },
         "type": "Feature"
        },
        {
         "geometry": {
          "coordinates": [
           8.9816,
           56.095
          ],
          "type": "Point"
         },
         "properties": {
          "color": "#990000",
          "fillColor": "#990000",
          "fillOpacity": 0.5,
          "weight": 1
         },
         "type": "Feature"
        },
        {
         "geometry": {
          "coordinates": [
           8.9439,
           56.0951
          ],
          "type": "Point"
         },
         "properties": {
          "color": "#990000",
          "fillColor": "#990000",
          "fillOpacity": 0.5,
          "weight": 1
         },
         "type": "Feature"
        },
        {
         "geometry": {
          "coordinates": [
           8.9824,
           56.0951
          ],
          "type": "Point"
         },
         "properties": {
          "color": "#990000",
          "fillColor": "#990000",
          "fillOpacity": 0.5,
          "weight": 1
         },
         "type": "Feature"
        },
        {
         "geometry": {
          "coordinates": [
           8.874,
           56.0952
          ],
          "type": "Point"
         },
         "properties": {
          "color": "#990000",
          "fillColor": "#990000",
          "fillOpacity": 0.5,
          "weight": 1
         },
         "type": "Feature"
        },
        {
         "geometry": {
          "coordinates": [
           8.9084,
           56.0952
          ],
          "type": "Point"
         },
         "properties": {
          "color": "#990000",
          "fillColor": "#990000",
          "fillOpacity": 0.5,
          "weight": 1
         },
         "type": "Feature"
        },
        {
         "geometry": {
          "coordinates": [
           8.9108,
           56.0952
          ],
          "type": "Point"
         },
         "properties": {
          "color": "#990000",
          "fillColor": "#990000",
          "fillOpacity": 0.5,
          "weight": 1
         },
         "type": "Feature"
        },
        {
         "geometry": {
          "coordinates": [
           8.9222,
           56.0952
          ],
          "type": "Point"
         },
         "properties": {
          "color": "#990000",
          "fillColor": "#990000",
          "fillOpacity": 0.5,
          "weight": 1
         },
         "type": "Feature"
        },
        {
         "geometry": {
          "coordinates": [
           8.9109,
           56.0954
          ],
          "type": "Point"
         },
         "properties": {
          "color": "#990000",
          "fillColor": "#990000",
          "fillOpacity": 0.5,
          "weight": 1
         },
         "type": "Feature"
        },
        {
         "geometry": {
          "coordinates": [
           8.9295,
           56.0954
          ],
          "type": "Point"
         },
         "properties": {
          "color": "#990000",
          "fillColor": "#990000",
          "fillOpacity": 0.5,
          "weight": 1
         },
         "type": "Feature"
        },
        {
         "geometry": {
          "coordinates": [
           8.8928,
           56.0955
          ],
          "type": "Point"
         },
         "properties": {
          "color": "#990000",
          "fillColor": "#990000",
          "fillOpacity": 0.5,
          "weight": 1
         },
         "type": "Feature"
        },
        {
         "geometry": {
          "coordinates": [
           8.9603,
           56.0955
          ],
          "type": "Point"
         },
         "properties": {
          "color": "#990000",
          "fillColor": "#990000",
          "fillOpacity": 0.5,
          "weight": 1
         },
         "type": "Feature"
        },
        {
         "geometry": {
          "coordinates": [
           8.8705,
           56.0956
          ],
          "type": "Point"
         },
         "properties": {
          "color": "#990000",
          "fillColor": "#990000",
          "fillOpacity": 0.5,
          "weight": 1
         },
         "type": "Feature"
        },
        {
         "geometry": {
          "coordinates": [
           8.6594,
           56.0958
          ],
          "type": "Point"
         },
         "properties": {
          "color": "#990000",
          "fillColor": "#990000",
          "fillOpacity": 0.5,
          "weight": 1
         },
         "type": "Feature"
        },
        {
         "geometry": {
          "coordinates": [
           8.9291,
           56.0958
          ],
          "type": "Point"
         },
         "properties": {
          "color": "#990000",
          "fillColor": "#990000",
          "fillOpacity": 0.5,
          "weight": 1
         },
         "type": "Feature"
        },
        {
         "geometry": {
          "coordinates": [
           8.8702,
           56.096
          ],
          "type": "Point"
         },
         "properties": {
          "color": "#990000",
          "fillColor": "#990000",
          "fillOpacity": 0.5,
          "weight": 1
         },
         "type": "Feature"
        },
        {
         "geometry": {
          "coordinates": [
           9.0029,
           56.096
          ],
          "type": "Point"
         },
         "properties": {
          "color": "#990000",
          "fillColor": "#990000",
          "fillOpacity": 0.5,
          "weight": 1
         },
         "type": "Feature"
        },
        {
         "geometry": {
          "coordinates": [
           9.0044,
           56.0961
          ],
          "type": "Point"
         },
         "properties": {
          "color": "#990000",
          "fillColor": "#990000",
          "fillOpacity": 0.5,
          "weight": 1
         },
         "type": "Feature"
        },
        {
         "geometry": {
          "coordinates": [
           8.605,
           56.0962
          ],
          "type": "Point"
         },
         "properties": {
          "color": "#990000",
          "fillColor": "#990000",
          "fillOpacity": 0.5,
          "weight": 1
         },
         "type": "Feature"
        },
        {
         "geometry": {
          "coordinates": [
           8.9126,
           56.0962
          ],
          "type": "Point"
         },
         "properties": {
          "color": "#990000",
          "fillColor": "#990000",
          "fillOpacity": 0.5,
          "weight": 1
         },
         "type": "Feature"
        },
        {
         "geometry": {
          "coordinates": [
           9.0045,
           56.0962
          ],
          "type": "Point"
         },
         "properties": {
          "color": "#990000",
          "fillColor": "#990000",
          "fillOpacity": 0.5,
          "weight": 1
         },
         "type": "Feature"
        },
        {
         "geometry": {
          "coordinates": [
           8.9625,
           56.0963
          ],
          "type": "Point"
         },
         "properties": {
          "color": "#990000",
          "fillColor": "#990000",
          "fillOpacity": 0.5,
          "weight": 1
         },
         "type": "Feature"
        },
        {
         "geometry": {
          "coordinates": [
           8.8944,
           56.0964
          ],
          "type": "Point"
         },
         "properties": {
          "color": "#990000",
          "fillColor": "#990000",
          "fillOpacity": 0.5,
          "weight": 1
         },
         "type": "Feature"
        },
        {
         "geometry": {
          "coordinates": [
           8.8945,
           56.0964
          ],
          "type": "Point"
         },
         "properties": {
          "color": "#990000",
          "fillColor": "#990000",
          "fillOpacity": 0.5,
          "weight": 1
         },
         "type": "Feature"
        },
        {
         "geometry": {
          "coordinates": [
           8.9297,
           56.0964
          ],
          "type": "Point"
         },
         "properties": {
          "color": "#990000",
          "fillColor": "#990000",
          "fillOpacity": 0.5,
          "weight": 1
         },
         "type": "Feature"
        },
        {
         "geometry": {
          "coordinates": [
           8.8573,
           56.0965
          ],
          "type": "Point"
         },
         "properties": {
          "color": "#990000",
          "fillColor": "#990000",
          "fillOpacity": 0.5,
          "weight": 1
         },
         "type": "Feature"
        },
        {
         "geometry": {
          "coordinates": [
           8.868,
           56.0965
          ],
          "type": "Point"
         },
         "properties": {
          "color": "#990000",
          "fillColor": "#990000",
          "fillOpacity": 0.5,
          "weight": 1
         },
         "type": "Feature"
        },
        {
         "geometry": {
          "coordinates": [
           8.8691,
           56.0965
          ],
          "type": "Point"
         },
         "properties": {
          "color": "#990000",
          "fillColor": "#990000",
          "fillOpacity": 0.5,
          "weight": 1
         },
         "type": "Feature"
        },
        {
         "geometry": {
          "coordinates": [
           8.93,
           56.0965
          ],
          "type": "Point"
         },
         "properties": {
          "color": "#990000",
          "fillColor": "#990000",
          "fillOpacity": 0.5,
          "weight": 1
         },
         "type": "Feature"
        },
        {
         "geometry": {
          "coordinates": [
           8.869,
           56.0966
          ],
          "type": "Point"
         },
         "properties": {
          "color": "#990000",
          "fillColor": "#990000",
          "fillOpacity": 0.5,
          "weight": 1
         },
         "type": "Feature"
        },
        {
         "geometry": {
          "coordinates": [
           8.8752,
           56.0966
          ],
          "type": "Point"
         },
         "properties": {
          "color": "#990000",
          "fillColor": "#990000",
          "fillOpacity": 0.5,
          "weight": 1
         },
         "type": "Feature"
        },
        {
         "geometry": {
          "coordinates": [
           8.9263,
           56.0966
          ],
          "type": "Point"
         },
         "properties": {
          "color": "#990000",
          "fillColor": "#990000",
          "fillOpacity": 0.5,
          "weight": 1
         },
         "type": "Feature"
        },
        {
         "geometry": {
          "coordinates": [
           8.9427,
           56.0966
          ],
          "type": "Point"
         },
         "properties": {
          "color": "#990000",
          "fillColor": "#990000",
          "fillOpacity": 0.5,
          "weight": 1
         },
         "type": "Feature"
        },
        {
         "geometry": {
          "coordinates": [
           8.9802,
           56.0966
          ],
          "type": "Point"
         },
         "properties": {
          "color": "#990000",
          "fillColor": "#990000",
          "fillOpacity": 0.5,
          "weight": 1
         },
         "type": "Feature"
        },
        {
         "geometry": {
          "coordinates": [
           8.8076,
           56.0967
          ],
          "type": "Point"
         },
         "properties": {
          "color": "#990000",
          "fillColor": "#990000",
          "fillOpacity": 0.5,
          "weight": 1
         },
         "type": "Feature"
        },
        {
         "geometry": {
          "coordinates": [
           8.868,
           56.0968
          ],
          "type": "Point"
         },
         "properties": {
          "color": "#990000",
          "fillColor": "#990000",
          "fillOpacity": 0.5,
          "weight": 1
         },
         "type": "Feature"
        },
        {
         "geometry": {
          "coordinates": [
           8.9803,
           56.0968
          ],
          "type": "Point"
         },
         "properties": {
          "color": "#990000",
          "fillColor": "#990000",
          "fillOpacity": 0.5,
          "weight": 1
         },
         "type": "Feature"
        },
        {
         "geometry": {
          "coordinates": [
           8.8579,
           56.0969
          ],
          "type": "Point"
         },
         "properties": {
          "color": "#990000",
          "fillColor": "#990000",
          "fillOpacity": 0.5,
          "weight": 1
         },
         "type": "Feature"
        },
        {
         "geometry": {
          "coordinates": [
           8.8682,
           56.0969
          ],
          "type": "Point"
         },
         "properties": {
          "color": "#990000",
          "fillColor": "#990000",
          "fillOpacity": 0.5,
          "weight": 1
         },
         "type": "Feature"
        },
        {
         "geometry": {
          "coordinates": [
           8.8594,
           56.097
          ],
          "type": "Point"
         },
         "properties": {
          "color": "#990000",
          "fillColor": "#990000",
          "fillOpacity": 0.5,
          "weight": 1
         },
         "type": "Feature"
        },
        {
         "geometry": {
          "coordinates": [
           8.8608,
           56.097
          ],
          "type": "Point"
         },
         "properties": {
          "color": "#990000",
          "fillColor": "#990000",
          "fillOpacity": 0.5,
          "weight": 1
         },
         "type": "Feature"
        },
        {
         "geometry": {
          "coordinates": [
           8.8659,
           56.097
          ],
          "type": "Point"
         },
         "properties": {
          "color": "#990000",
          "fillColor": "#990000",
          "fillOpacity": 0.5,
          "weight": 1
         },
         "type": "Feature"
        },
        {
         "geometry": {
          "coordinates": [
           8.8905,
           56.097
          ],
          "type": "Point"
         },
         "properties": {
          "color": "#990000",
          "fillColor": "#990000",
          "fillOpacity": 0.5,
          "weight": 1
         },
         "type": "Feature"
        },
        {
         "geometry": {
          "coordinates": [
           8.9632,
           56.097
          ],
          "type": "Point"
         },
         "properties": {
          "color": "#990000",
          "fillColor": "#990000",
          "fillOpacity": 0.5,
          "weight": 1
         },
         "type": "Feature"
        },
        {
         "geometry": {
          "coordinates": [
           9.0047,
           56.097
          ],
          "type": "Point"
         },
         "properties": {
          "color": "#990000",
          "fillColor": "#990000",
          "fillOpacity": 0.5,
          "weight": 1
         },
         "type": "Feature"
        },
        {
         "geometry": {
          "coordinates": [
           8.8648,
           56.0971
          ],
          "type": "Point"
         },
         "properties": {
          "color": "#990000",
          "fillColor": "#990000",
          "fillOpacity": 0.5,
          "weight": 1
         },
         "type": "Feature"
        },
        {
         "geometry": {
          "coordinates": [
           8.9302,
           56.0971
          ],
          "type": "Point"
         },
         "properties": {
          "color": "#990000",
          "fillColor": "#990000",
          "fillOpacity": 0.5,
          "weight": 1
         },
         "type": "Feature"
        },
        {
         "geometry": {
          "coordinates": [
           8.9798,
           56.0971
          ],
          "type": "Point"
         },
         "properties": {
          "color": "#990000",
          "fillColor": "#990000",
          "fillOpacity": 0.5,
          "weight": 1
         },
         "type": "Feature"
        },
        {
         "geometry": {
          "coordinates": [
           8.98,
           56.0971
          ],
          "type": "Point"
         },
         "properties": {
          "color": "#990000",
          "fillColor": "#990000",
          "fillOpacity": 0.5,
          "weight": 1
         },
         "type": "Feature"
        },
        {
         "geometry": {
          "coordinates": [
           9.0048,
           56.0971
          ],
          "type": "Point"
         },
         "properties": {
          "color": "#990000",
          "fillColor": "#990000",
          "fillOpacity": 0.5,
          "weight": 1
         },
         "type": "Feature"
        },
        {
         "geometry": {
          "coordinates": [
           8.6423,
           56.0972
          ],
          "type": "Point"
         },
         "properties": {
          "color": "#990000",
          "fillColor": "#990000",
          "fillOpacity": 0.5,
          "weight": 1
         },
         "type": "Feature"
        },
        {
         "geometry": {
          "coordinates": [
           8.9303,
           56.0972
          ],
          "type": "Point"
         },
         "properties": {
          "color": "#990000",
          "fillColor": "#990000",
          "fillOpacity": 0.5,
          "weight": 1
         },
         "type": "Feature"
        },
        {
         "geometry": {
          "coordinates": [
           9.0306,
           56.0972
          ],
          "type": "Point"
         },
         "properties": {
          "color": "#990000",
          "fillColor": "#990000",
          "fillOpacity": 0.5,
          "weight": 1
         },
         "type": "Feature"
        },
        {
         "geometry": {
          "coordinates": [
           8.8671,
           56.0973
          ],
          "type": "Point"
         },
         "properties": {
          "color": "#990000",
          "fillColor": "#990000",
          "fillOpacity": 0.5,
          "weight": 1
         },
         "type": "Feature"
        },
        {
         "geometry": {
          "coordinates": [
           9.0135,
           56.0973
          ],
          "type": "Point"
         },
         "properties": {
          "color": "#990000",
          "fillColor": "#990000",
          "fillOpacity": 0.5,
          "weight": 1
         },
         "type": "Feature"
        },
        {
         "geometry": {
          "coordinates": [
           8.8635,
           56.0974
          ],
          "type": "Point"
         },
         "properties": {
          "color": "#990000",
          "fillColor": "#990000",
          "fillOpacity": 0.5,
          "weight": 1
         },
         "type": "Feature"
        },
        {
         "geometry": {
          "coordinates": [
           8.8651,
           56.0975
          ],
          "type": "Point"
         },
         "properties": {
          "color": "#990000",
          "fillColor": "#990000",
          "fillOpacity": 0.5,
          "weight": 1
         },
         "type": "Feature"
        },
        {
         "geometry": {
          "coordinates": [
           8.9801,
           56.0975
          ],
          "type": "Point"
         },
         "properties": {
          "color": "#990000",
          "fillColor": "#990000",
          "fillOpacity": 0.5,
          "weight": 1
         },
         "type": "Feature"
        },
        {
         "geometry": {
          "coordinates": [
           8.9863,
           56.0975
          ],
          "type": "Point"
         },
         "properties": {
          "color": "#990000",
          "fillColor": "#990000",
          "fillOpacity": 0.5,
          "weight": 1
         },
         "type": "Feature"
        },
        {
         "geometry": {
          "coordinates": [
           8.8626,
           56.0976
          ],
          "type": "Point"
         },
         "properties": {
          "color": "#990000",
          "fillColor": "#990000",
          "fillOpacity": 0.5,
          "weight": 1
         },
         "type": "Feature"
        },
        {
         "geometry": {
          "coordinates": [
           8.9862,
           56.0976
          ],
          "type": "Point"
         },
         "properties": {
          "color": "#990000",
          "fillColor": "#990000",
          "fillOpacity": 0.5,
          "weight": 1
         },
         "type": "Feature"
        },
        {
         "geometry": {
          "coordinates": [
           8.9104,
           56.0978
          ],
          "type": "Point"
         },
         "properties": {
          "color": "#990000",
          "fillColor": "#990000",
          "fillOpacity": 0.5,
          "weight": 1
         },
         "type": "Feature"
        },
        {
         "geometry": {
          "coordinates": [
           9.0054,
           56.0978
          ],
          "type": "Point"
         },
         "properties": {
          "color": "#990000",
          "fillColor": "#990000",
          "fillOpacity": 0.5,
          "weight": 1
         },
         "type": "Feature"
        },
        {
         "geometry": {
          "coordinates": [
           9.0296,
           56.0978
          ],
          "type": "Point"
         },
         "properties": {
          "color": "#990000",
          "fillColor": "#990000",
          "fillOpacity": 0.5,
          "weight": 1
         },
         "type": "Feature"
        },
        {
         "geometry": {
          "coordinates": [
           8.9308,
           56.0979
          ],
          "type": "Point"
         },
         "properties": {
          "color": "#990000",
          "fillColor": "#990000",
          "fillOpacity": 0.5,
          "weight": 1
         },
         "type": "Feature"
        },
        {
         "geometry": {
          "coordinates": [
           8.9315,
           56.0979
          ],
          "type": "Point"
         },
         "properties": {
          "color": "#990000",
          "fillColor": "#990000",
          "fillOpacity": 0.5,
          "weight": 1
         },
         "type": "Feature"
        },
        {
         "geometry": {
          "coordinates": [
           9.0299,
           56.0979
          ],
          "type": "Point"
         },
         "properties": {
          "color": "#990000",
          "fillColor": "#990000",
          "fillOpacity": 0.5,
          "weight": 1
         },
         "type": "Feature"
        },
        {
         "geometry": {
          "coordinates": [
           8.8596,
           56.098
          ],
          "type": "Point"
         },
         "properties": {
          "color": "#990000",
          "fillColor": "#990000",
          "fillOpacity": 0.5,
          "weight": 1
         },
         "type": "Feature"
        },
        {
         "geometry": {
          "coordinates": [
           8.9299,
           56.0981
          ],
          "type": "Point"
         },
         "properties": {
          "color": "#990000",
          "fillColor": "#990000",
          "fillOpacity": 0.5,
          "weight": 1
         },
         "type": "Feature"
        },
        {
         "geometry": {
          "coordinates": [
           8.9529,
           56.0981
          ],
          "type": "Point"
         },
         "properties": {
          "color": "#990000",
          "fillColor": "#990000",
          "fillOpacity": 0.5,
          "weight": 1
         },
         "type": "Feature"
        },
        {
         "geometry": {
          "coordinates": [
           8.8586,
           56.0982
          ],
          "type": "Point"
         },
         "properties": {
          "color": "#990000",
          "fillColor": "#990000",
          "fillOpacity": 0.5,
          "weight": 1
         },
         "type": "Feature"
        },
        {
         "geometry": {
          "coordinates": [
           8.9801,
           56.0982
          ],
          "type": "Point"
         },
         "properties": {
          "color": "#990000",
          "fillColor": "#990000",
          "fillOpacity": 0.5,
          "weight": 1
         },
         "type": "Feature"
        },
        {
         "geometry": {
          "coordinates": [
           9.0295,
           56.0982
          ],
          "type": "Point"
         },
         "properties": {
          "color": "#990000",
          "fillColor": "#990000",
          "fillOpacity": 0.5,
          "weight": 1
         },
         "type": "Feature"
        },
        {
         "geometry": {
          "coordinates": [
           8.611,
           56.0983
          ],
          "type": "Point"
         },
         "properties": {
          "color": "#990000",
          "fillColor": "#990000",
          "fillOpacity": 0.5,
          "weight": 1
         },
         "type": "Feature"
        },
        {
         "geometry": {
          "coordinates": [
           8.8651,
           56.0983
          ],
          "type": "Point"
         },
         "properties": {
          "color": "#990000",
          "fillColor": "#990000",
          "fillOpacity": 0.5,
          "weight": 1
         },
         "type": "Feature"
        },
        {
         "geometry": {
          "coordinates": [
           9.0056,
           56.0983
          ],
          "type": "Point"
         },
         "properties": {
          "color": "#990000",
          "fillColor": "#990000",
          "fillOpacity": 0.5,
          "weight": 1
         },
         "type": "Feature"
        },
        {
         "geometry": {
          "coordinates": [
           9.0174,
           56.0984
          ],
          "type": "Point"
         },
         "properties": {
          "color": "#990000",
          "fillColor": "#990000",
          "fillOpacity": 0.5,
          "weight": 1
         },
         "type": "Feature"
        },
        {
         "geometry": {
          "coordinates": [
           8.9517,
           56.0985
          ],
          "type": "Point"
         },
         "properties": {
          "color": "#990000",
          "fillColor": "#990000",
          "fillOpacity": 0.5,
          "weight": 1
         },
         "type": "Feature"
        },
        {
         "geometry": {
          "coordinates": [
           8.9802,
           56.0985
          ],
          "type": "Point"
         },
         "properties": {
          "color": "#990000",
          "fillColor": "#990000",
          "fillOpacity": 0.5,
          "weight": 1
         },
         "type": "Feature"
        },
        {
         "geometry": {
          "coordinates": [
           9.0297,
           56.0985
          ],
          "type": "Point"
         },
         "properties": {
          "color": "#990000",
          "fillColor": "#990000",
          "fillOpacity": 0.5,
          "weight": 1
         },
         "type": "Feature"
        },
        {
         "geometry": {
          "coordinates": [
           8.9314,
           56.0986
          ],
          "type": "Point"
         },
         "properties": {
          "color": "#990000",
          "fillColor": "#990000",
          "fillOpacity": 0.5,
          "weight": 1
         },
         "type": "Feature"
        },
        {
         "geometry": {
          "coordinates": [
           9.0153,
           56.0986
          ],
          "type": "Point"
         },
         "properties": {
          "color": "#990000",
          "fillColor": "#990000",
          "fillOpacity": 0.5,
          "weight": 1
         },
         "type": "Feature"
        },
        {
         "geometry": {
          "coordinates": [
           9.0175,
           56.0986
          ],
          "type": "Point"
         },
         "properties": {
          "color": "#990000",
          "fillColor": "#990000",
          "fillOpacity": 0.5,
          "weight": 1
         },
         "type": "Feature"
        },
        {
         "geometry": {
          "coordinates": [
           8.6131,
           56.0987
          ],
          "type": "Point"
         },
         "properties": {
          "color": "#990000",
          "fillColor": "#990000",
          "fillOpacity": 0.5,
          "weight": 1
         },
         "type": "Feature"
        },
        {
         "geometry": {
          "coordinates": [
           8.6924,
           56.0987
          ],
          "type": "Point"
         },
         "properties": {
          "color": "#990000",
          "fillColor": "#990000",
          "fillOpacity": 0.5,
          "weight": 1
         },
         "type": "Feature"
        },
        {
         "geometry": {
          "coordinates": [
           8.9204,
           56.0987
          ],
          "type": "Point"
         },
         "properties": {
          "color": "#990000",
          "fillColor": "#990000",
          "fillOpacity": 0.5,
          "weight": 1
         },
         "type": "Feature"
        },
        {
         "geometry": {
          "coordinates": [
           9.0152,
           56.0987
          ],
          "type": "Point"
         },
         "properties": {
          "color": "#990000",
          "fillColor": "#990000",
          "fillOpacity": 0.5,
          "weight": 1
         },
         "type": "Feature"
        },
        {
         "geometry": {
          "coordinates": [
           8.9787,
           56.0988
          ],
          "type": "Point"
         },
         "properties": {
          "color": "#990000",
          "fillColor": "#990000",
          "fillOpacity": 0.5,
          "weight": 1
         },
         "type": "Feature"
        },
        {
         "geometry": {
          "coordinates": [
           9.0061,
           56.0988
          ],
          "type": "Point"
         },
         "properties": {
          "color": "#990000",
          "fillColor": "#990000",
          "fillOpacity": 0.5,
          "weight": 1
         },
         "type": "Feature"
        },
        {
         "geometry": {
          "coordinates": [
           9.0141,
           56.0988
          ],
          "type": "Point"
         },
         "properties": {
          "color": "#990000",
          "fillColor": "#990000",
          "fillOpacity": 0.5,
          "weight": 1
         },
         "type": "Feature"
        },
        {
         "geometry": {
          "coordinates": [
           8.8589,
           56.0989
          ],
          "type": "Point"
         },
         "properties": {
          "color": "#990000",
          "fillColor": "#990000",
          "fillOpacity": 0.5,
          "weight": 1
         },
         "type": "Feature"
        },
        {
         "geometry": {
          "coordinates": [
           8.9101,
           56.0989
          ],
          "type": "Point"
         },
         "properties": {
          "color": "#990000",
          "fillColor": "#990000",
          "fillOpacity": 0.5,
          "weight": 1
         },
         "type": "Feature"
        },
        {
         "geometry": {
          "coordinates": [
           8.9102,
           56.0989
          ],
          "type": "Point"
         },
         "properties": {
          "color": "#990000",
          "fillColor": "#990000",
          "fillOpacity": 0.5,
          "weight": 1
         },
         "type": "Feature"
        },
        {
         "geometry": {
          "coordinates": [
           8.9847,
           56.0989
          ],
          "type": "Point"
         },
         "properties": {
          "color": "#990000",
          "fillColor": "#990000",
          "fillOpacity": 0.5,
          "weight": 1
         },
         "type": "Feature"
        },
        {
         "geometry": {
          "coordinates": [
           8.8584,
           56.099
          ],
          "type": "Point"
         },
         "properties": {
          "color": "#990000",
          "fillColor": "#990000",
          "fillOpacity": 0.5,
          "weight": 1
         },
         "type": "Feature"
        },
        {
         "geometry": {
          "coordinates": [
           8.8586,
           56.099
          ],
          "type": "Point"
         },
         "properties": {
          "color": "#990000",
          "fillColor": "#990000",
          "fillOpacity": 0.5,
          "weight": 1
         },
         "type": "Feature"
        },
        {
         "geometry": {
          "coordinates": [
           8.9116,
           56.099
          ],
          "type": "Point"
         },
         "properties": {
          "color": "#990000",
          "fillColor": "#990000",
          "fillOpacity": 0.5,
          "weight": 1
         },
         "type": "Feature"
        },
        {
         "geometry": {
          "coordinates": [
           9.0062,
           56.099
          ],
          "type": "Point"
         },
         "properties": {
          "color": "#990000",
          "fillColor": "#990000",
          "fillOpacity": 0.5,
          "weight": 1
         },
         "type": "Feature"
        },
        {
         "geometry": {
          "coordinates": [
           9.0154,
           56.099
          ],
          "type": "Point"
         },
         "properties": {
          "color": "#990000",
          "fillColor": "#990000",
          "fillOpacity": 0.5,
          "weight": 1
         },
         "type": "Feature"
        },
        {
         "geometry": {
          "coordinates": [
           8.8586,
           56.0991
          ],
          "type": "Point"
         },
         "properties": {
          "color": "#990000",
          "fillColor": "#990000",
          "fillOpacity": 0.5,
          "weight": 1
         },
         "type": "Feature"
        },
        {
         "geometry": {
          "coordinates": [
           8.8587,
           56.0991
          ],
          "type": "Point"
         },
         "properties": {
          "color": "#990000",
          "fillColor": "#990000",
          "fillOpacity": 0.5,
          "weight": 1
         },
         "type": "Feature"
        },
        {
         "geometry": {
          "coordinates": [
           8.8588,
           56.0991
          ],
          "type": "Point"
         },
         "properties": {
          "color": "#990000",
          "fillColor": "#990000",
          "fillOpacity": 0.5,
          "weight": 1
         },
         "type": "Feature"
        },
        {
         "geometry": {
          "coordinates": [
           8.8596,
           56.0991
          ],
          "type": "Point"
         },
         "properties": {
          "color": "#990000",
          "fillColor": "#990000",
          "fillOpacity": 0.5,
          "weight": 1
         },
         "type": "Feature"
        },
        {
         "geometry": {
          "coordinates": [
           8.8606,
           56.0991
          ],
          "type": "Point"
         },
         "properties": {
          "color": "#990000",
          "fillColor": "#990000",
          "fillOpacity": 0.5,
          "weight": 1
         },
         "type": "Feature"
        },
        {
         "geometry": {
          "coordinates": [
           8.8636,
           56.0991
          ],
          "type": "Point"
         },
         "properties": {
          "color": "#990000",
          "fillColor": "#990000",
          "fillOpacity": 0.5,
          "weight": 1
         },
         "type": "Feature"
        },
        {
         "geometry": {
          "coordinates": [
           8.91,
           56.0991
          ],
          "type": "Point"
         },
         "properties": {
          "color": "#990000",
          "fillColor": "#990000",
          "fillOpacity": 0.5,
          "weight": 1
         },
         "type": "Feature"
        },
        {
         "geometry": {
          "coordinates": [
           9.0093,
           56.0991
          ],
          "type": "Point"
         },
         "properties": {
          "color": "#990000",
          "fillColor": "#990000",
          "fillOpacity": 0.5,
          "weight": 1
         },
         "type": "Feature"
        },
        {
         "geometry": {
          "coordinates": [
           9.0268,
           56.0991
          ],
          "type": "Point"
         },
         "properties": {
          "color": "#990000",
          "fillColor": "#990000",
          "fillOpacity": 0.5,
          "weight": 1
         },
         "type": "Feature"
        },
        {
         "geometry": {
          "coordinates": [
           8.8583,
           56.0992
          ],
          "type": "Point"
         },
         "properties": {
          "color": "#990000",
          "fillColor": "#990000",
          "fillOpacity": 0.5,
          "weight": 1
         },
         "type": "Feature"
        },
        {
         "geometry": {
          "coordinates": [
           8.8585,
           56.0992
          ],
          "type": "Point"
         },
         "properties": {
          "color": "#990000",
          "fillColor": "#990000",
          "fillOpacity": 0.5,
          "weight": 1
         },
         "type": "Feature"
        },
        {
         "geometry": {
          "coordinates": [
           8.8586,
           56.0992
          ],
          "type": "Point"
         },
         "properties": {
          "color": "#990000",
          "fillColor": "#990000",
          "fillOpacity": 0.5,
          "weight": 1
         },
         "type": "Feature"
        },
        {
         "geometry": {
          "coordinates": [
           8.8587,
           56.0992
          ],
          "type": "Point"
         },
         "properties": {
          "color": "#990000",
          "fillColor": "#990000",
          "fillOpacity": 0.5,
          "weight": 1
         },
         "type": "Feature"
        },
        {
         "geometry": {
          "coordinates": [
           8.8588,
           56.0992
          ],
          "type": "Point"
         },
         "properties": {
          "color": "#990000",
          "fillColor": "#990000",
          "fillOpacity": 0.5,
          "weight": 1
         },
         "type": "Feature"
        },
        {
         "geometry": {
          "coordinates": [
           8.8589,
           56.0992
          ],
          "type": "Point"
         },
         "properties": {
          "color": "#990000",
          "fillColor": "#990000",
          "fillOpacity": 0.5,
          "weight": 1
         },
         "type": "Feature"
        },
        {
         "geometry": {
          "coordinates": [
           8.859,
           56.0992
          ],
          "type": "Point"
         },
         "properties": {
          "color": "#990000",
          "fillColor": "#990000",
          "fillOpacity": 0.5,
          "weight": 1
         },
         "type": "Feature"
        },
        {
         "geometry": {
          "coordinates": [
           8.8591,
           56.0992
          ],
          "type": "Point"
         },
         "properties": {
          "color": "#990000",
          "fillColor": "#990000",
          "fillOpacity": 0.5,
          "weight": 1
         },
         "type": "Feature"
        },
        {
         "geometry": {
          "coordinates": [
           8.8595,
           56.0992
          ],
          "type": "Point"
         },
         "properties": {
          "color": "#990000",
          "fillColor": "#990000",
          "fillOpacity": 0.5,
          "weight": 1
         },
         "type": "Feature"
        },
        {
         "geometry": {
          "coordinates": [
           8.8586,
           56.0993
          ],
          "type": "Point"
         },
         "properties": {
          "color": "#990000",
          "fillColor": "#990000",
          "fillOpacity": 0.5,
          "weight": 1
         },
         "type": "Feature"
        },
        {
         "geometry": {
          "coordinates": [
           8.8587,
           56.0993
          ],
          "type": "Point"
         },
         "properties": {
          "color": "#990000",
          "fillColor": "#990000",
          "fillOpacity": 0.5,
          "weight": 1
         },
         "type": "Feature"
        },
        {
         "geometry": {
          "coordinates": [
           8.8588,
           56.0993
          ],
          "type": "Point"
         },
         "properties": {
          "color": "#990000",
          "fillColor": "#990000",
          "fillOpacity": 0.5,
          "weight": 1
         },
         "type": "Feature"
        },
        {
         "geometry": {
          "coordinates": [
           8.8589,
           56.0993
          ],
          "type": "Point"
         },
         "properties": {
          "color": "#990000",
          "fillColor": "#990000",
          "fillOpacity": 0.5,
          "weight": 1
         },
         "type": "Feature"
        },
        {
         "geometry": {
          "coordinates": [
           8.8592,
           56.0993
          ],
          "type": "Point"
         },
         "properties": {
          "color": "#990000",
          "fillColor": "#990000",
          "fillOpacity": 0.5,
          "weight": 1
         },
         "type": "Feature"
        },
        {
         "geometry": {
          "coordinates": [
           8.9319,
           56.0993
          ],
          "type": "Point"
         },
         "properties": {
          "color": "#990000",
          "fillColor": "#990000",
          "fillOpacity": 0.5,
          "weight": 1
         },
         "type": "Feature"
        },
        {
         "geometry": {
          "coordinates": [
           8.9808,
           56.0993
          ],
          "type": "Point"
         },
         "properties": {
          "color": "#990000",
          "fillColor": "#990000",
          "fillOpacity": 0.5,
          "weight": 1
         },
         "type": "Feature"
        },
        {
         "geometry": {
          "coordinates": [
           8.8583,
           56.0994
          ],
          "type": "Point"
         },
         "properties": {
          "color": "#990000",
          "fillColor": "#990000",
          "fillOpacity": 0.5,
          "weight": 1
         },
         "type": "Feature"
        },
        {
         "geometry": {
          "coordinates": [
           8.8586,
           56.0994
          ],
          "type": "Point"
         },
         "properties": {
          "color": "#990000",
          "fillColor": "#990000",
          "fillOpacity": 0.5,
          "weight": 1
         },
         "type": "Feature"
        },
        {
         "geometry": {
          "coordinates": [
           8.8587,
           56.0994
          ],
          "type": "Point"
         },
         "properties": {
          "color": "#990000",
          "fillColor": "#990000",
          "fillOpacity": 0.5,
          "weight": 1
         },
         "type": "Feature"
        },
        {
         "geometry": {
          "coordinates": [
           8.8588,
           56.0994
          ],
          "type": "Point"
         },
         "properties": {
          "color": "#990000",
          "fillColor": "#990000",
          "fillOpacity": 0.5,
          "weight": 1
         },
         "type": "Feature"
        },
        {
         "geometry": {
          "coordinates": [
           8.859,
           56.0994
          ],
          "type": "Point"
         },
         "properties": {
          "color": "#990000",
          "fillColor": "#990000",
          "fillOpacity": 0.5,
          "weight": 1
         },
         "type": "Feature"
        },
        {
         "geometry": {
          "coordinates": [
           8.9062,
           56.0994
          ],
          "type": "Point"
         },
         "properties": {
          "color": "#990000",
          "fillColor": "#990000",
          "fillOpacity": 0.5,
          "weight": 1
         },
         "type": "Feature"
        },
        {
         "geometry": {
          "coordinates": [
           8.9322,
           56.0994
          ],
          "type": "Point"
         },
         "properties": {
          "color": "#990000",
          "fillColor": "#990000",
          "fillOpacity": 0.5,
          "weight": 1
         },
         "type": "Feature"
        },
        {
         "geometry": {
          "coordinates": [
           8.934,
           56.0994
          ],
          "type": "Point"
         },
         "properties": {
          "color": "#990000",
          "fillColor": "#990000",
          "fillOpacity": 0.5,
          "weight": 1
         },
         "type": "Feature"
        },
        {
         "geometry": {
          "coordinates": [
           8.6972,
           56.0995
          ],
          "type": "Point"
         },
         "properties": {
          "color": "#990000",
          "fillColor": "#990000",
          "fillOpacity": 0.5,
          "weight": 1
         },
         "type": "Feature"
        },
        {
         "geometry": {
          "coordinates": [
           8.8587,
           56.0995
          ],
          "type": "Point"
         },
         "properties": {
          "color": "#990000",
          "fillColor": "#990000",
          "fillOpacity": 0.5,
          "weight": 1
         },
         "type": "Feature"
        },
        {
         "geometry": {
          "coordinates": [
           8.8589,
           56.0995
          ],
          "type": "Point"
         },
         "properties": {
          "color": "#990000",
          "fillColor": "#990000",
          "fillOpacity": 0.5,
          "weight": 1
         },
         "type": "Feature"
        },
        {
         "geometry": {
          "coordinates": [
           8.8645,
           56.0995
          ],
          "type": "Point"
         },
         "properties": {
          "color": "#990000",
          "fillColor": "#990000",
          "fillOpacity": 0.5,
          "weight": 1
         },
         "type": "Feature"
        },
        {
         "geometry": {
          "coordinates": [
           8.939,
           56.0995
          ],
          "type": "Point"
         },
         "properties": {
          "color": "#990000",
          "fillColor": "#990000",
          "fillOpacity": 0.5,
          "weight": 1
         },
         "type": "Feature"
        },
        {
         "geometry": {
          "coordinates": [
           8.9555,
           56.0995
          ],
          "type": "Point"
         },
         "properties": {
          "color": "#990000",
          "fillColor": "#990000",
          "fillOpacity": 0.5,
          "weight": 1
         },
         "type": "Feature"
        },
        {
         "geometry": {
          "coordinates": [
           8.9798,
           56.0995
          ],
          "type": "Point"
         },
         "properties": {
          "color": "#990000",
          "fillColor": "#990000",
          "fillOpacity": 0.5,
          "weight": 1
         },
         "type": "Feature"
        },
        {
         "geometry": {
          "coordinates": [
           9.0061,
           56.0995
          ],
          "type": "Point"
         },
         "properties": {
          "color": "#990000",
          "fillColor": "#990000",
          "fillOpacity": 0.5,
          "weight": 1
         },
         "type": "Feature"
        },
        {
         "geometry": {
          "coordinates": [
           9.0067,
           56.0995
          ],
          "type": "Point"
         },
         "properties": {
          "color": "#990000",
          "fillColor": "#990000",
          "fillOpacity": 0.5,
          "weight": 1
         },
         "type": "Feature"
        },
        {
         "geometry": {
          "coordinates": [
           8.9415,
           56.0996
          ],
          "type": "Point"
         },
         "properties": {
          "color": "#990000",
          "fillColor": "#990000",
          "fillOpacity": 0.5,
          "weight": 1
         },
         "type": "Feature"
        },
        {
         "geometry": {
          "coordinates": [
           8.98,
           56.0996
          ],
          "type": "Point"
         },
         "properties": {
          "color": "#990000",
          "fillColor": "#990000",
          "fillOpacity": 0.5,
          "weight": 1
         },
         "type": "Feature"
        },
        {
         "geometry": {
          "coordinates": [
           8.9802,
           56.0996
          ],
          "type": "Point"
         },
         "properties": {
          "color": "#990000",
          "fillColor": "#990000",
          "fillOpacity": 0.5,
          "weight": 1
         },
         "type": "Feature"
        },
        {
         "geometry": {
          "coordinates": [
           9.0255,
           56.0996
          ],
          "type": "Point"
         },
         "properties": {
          "color": "#990000",
          "fillColor": "#990000",
          "fillOpacity": 0.5,
          "weight": 1
         },
         "type": "Feature"
        },
        {
         "geometry": {
          "coordinates": [
           9.0275,
           56.0996
          ],
          "type": "Point"
         },
         "properties": {
          "color": "#990000",
          "fillColor": "#990000",
          "fillOpacity": 0.5,
          "weight": 1
         },
         "type": "Feature"
        },
        {
         "geometry": {
          "coordinates": [
           8.852,
           56.0997
          ],
          "type": "Point"
         },
         "properties": {
          "color": "#990000",
          "fillColor": "#990000",
          "fillOpacity": 0.5,
          "weight": 1
         },
         "type": "Feature"
        },
        {
         "geometry": {
          "coordinates": [
           8.9324,
           56.0997
          ],
          "type": "Point"
         },
         "properties": {
          "color": "#990000",
          "fillColor": "#990000",
          "fillOpacity": 0.5,
          "weight": 1
         },
         "type": "Feature"
        },
        {
         "geometry": {
          "coordinates": [
           8.9845,
           56.0997
          ],
          "type": "Point"
         },
         "properties": {
          "color": "#990000",
          "fillColor": "#990000",
          "fillOpacity": 0.5,
          "weight": 1
         },
         "type": "Feature"
        },
        {
         "geometry": {
          "coordinates": [
           9.0262,
           56.0997
          ],
          "type": "Point"
         },
         "properties": {
          "color": "#990000",
          "fillColor": "#990000",
          "fillOpacity": 0.5,
          "weight": 1
         },
         "type": "Feature"
        },
        {
         "geometry": {
          "coordinates": [
           8.8597,
           56.0998
          ],
          "type": "Point"
         },
         "properties": {
          "color": "#990000",
          "fillColor": "#990000",
          "fillOpacity": 0.5,
          "weight": 1
         },
         "type": "Feature"
        },
        {
         "geometry": {
          "coordinates": [
           8.9026,
           56.0998
          ],
          "type": "Point"
         },
         "properties": {
          "color": "#990000",
          "fillColor": "#990000",
          "fillOpacity": 0.5,
          "weight": 1
         },
         "type": "Feature"
        },
        {
         "geometry": {
          "coordinates": [
           8.9784,
           56.0998
          ],
          "type": "Point"
         },
         "properties": {
          "color": "#990000",
          "fillColor": "#990000",
          "fillOpacity": 0.5,
          "weight": 1
         },
         "type": "Feature"
        },
        {
         "geometry": {
          "coordinates": [
           8.9797,
           56.0998
          ],
          "type": "Point"
         },
         "properties": {
          "color": "#990000",
          "fillColor": "#990000",
          "fillOpacity": 0.5,
          "weight": 1
         },
         "type": "Feature"
        },
        {
         "geometry": {
          "coordinates": [
           8.8593,
           56.0999
          ],
          "type": "Point"
         },
         "properties": {
          "color": "#990000",
          "fillColor": "#990000",
          "fillOpacity": 0.5,
          "weight": 1
         },
         "type": "Feature"
        },
        {
         "geometry": {
          "coordinates": [
           8.9471,
           56.0999
          ],
          "type": "Point"
         },
         "properties": {
          "color": "#990000",
          "fillColor": "#990000",
          "fillOpacity": 0.5,
          "weight": 1
         },
         "type": "Feature"
        },
        {
         "geometry": {
          "coordinates": [
           8.9587,
           56.0999
          ],
          "type": "Point"
         },
         "properties": {
          "color": "#990000",
          "fillColor": "#990000",
          "fillOpacity": 0.5,
          "weight": 1
         },
         "type": "Feature"
        },
        {
         "geometry": {
          "coordinates": [
           8.9801,
           56.0999
          ],
          "type": "Point"
         },
         "properties": {
          "color": "#990000",
          "fillColor": "#990000",
          "fillOpacity": 0.5,
          "weight": 1
         },
         "type": "Feature"
        },
        {
         "geometry": {
          "coordinates": [
           8.8076,
           56.1
          ],
          "type": "Point"
         },
         "properties": {
          "color": "#990000",
          "fillColor": "#990000",
          "fillOpacity": 0.5,
          "weight": 1
         },
         "type": "Feature"
        },
        {
         "geometry": {
          "coordinates": [
           8.8589,
           56.1
          ],
          "type": "Point"
         },
         "properties": {
          "color": "#990000",
          "fillColor": "#990000",
          "fillOpacity": 0.5,
          "weight": 1
         },
         "type": "Feature"
        },
        {
         "geometry": {
          "coordinates": [
           8.8695,
           56.1
          ],
          "type": "Point"
         },
         "properties": {
          "color": "#990000",
          "fillColor": "#990000",
          "fillOpacity": 0.5,
          "weight": 1
         },
         "type": "Feature"
        },
        {
         "geometry": {
          "coordinates": [
           8.9326,
           56.1
          ],
          "type": "Point"
         },
         "properties": {
          "color": "#990000",
          "fillColor": "#990000",
          "fillOpacity": 0.5,
          "weight": 1
         },
         "type": "Feature"
        },
        {
         "geometry": {
          "coordinates": [
           8.9708,
           56.1
          ],
          "type": "Point"
         },
         "properties": {
          "color": "#990000",
          "fillColor": "#990000",
          "fillOpacity": 0.5,
          "weight": 1
         },
         "type": "Feature"
        },
        {
         "geometry": {
          "coordinates": [
           8.9806,
           56.1
          ],
          "type": "Point"
         },
         "properties": {
          "color": "#990000",
          "fillColor": "#990000",
          "fillOpacity": 0.5,
          "weight": 1
         },
         "type": "Feature"
        },
        {
         "geometry": {
          "coordinates": [
           8.8581,
           56.1001
          ],
          "type": "Point"
         },
         "properties": {
          "color": "#990000",
          "fillColor": "#990000",
          "fillOpacity": 0.5,
          "weight": 1
         },
         "type": "Feature"
        },
        {
         "geometry": {
          "coordinates": [
           8.8591,
           56.1001
          ],
          "type": "Point"
         },
         "properties": {
          "color": "#990000",
          "fillColor": "#990000",
          "fillOpacity": 0.5,
          "weight": 1
         },
         "type": "Feature"
        },
        {
         "geometry": {
          "coordinates": [
           8.9295,
           56.1001
          ],
          "type": "Point"
         },
         "properties": {
          "color": "#990000",
          "fillColor": "#990000",
          "fillOpacity": 0.5,
          "weight": 1
         },
         "type": "Feature"
        },
        {
         "geometry": {
          "coordinates": [
           8.9706,
           56.1002
          ],
          "type": "Point"
         },
         "properties": {
          "color": "#990000",
          "fillColor": "#990000",
          "fillOpacity": 0.5,
          "weight": 1
         },
         "type": "Feature"
        },
        {
         "geometry": {
          "coordinates": [
           8.8577,
           56.1003
          ],
          "type": "Point"
         },
         "properties": {
          "color": "#990000",
          "fillColor": "#990000",
          "fillOpacity": 0.5,
          "weight": 1
         },
         "type": "Feature"
        },
        {
         "geometry": {
          "coordinates": [
           8.9332,
           56.1003
          ],
          "type": "Point"
         },
         "properties": {
          "color": "#990000",
          "fillColor": "#990000",
          "fillOpacity": 0.5,
          "weight": 1
         },
         "type": "Feature"
        },
        {
         "geometry": {
          "coordinates": [
           8.9848,
           56.1003
          ],
          "type": "Point"
         },
         "properties": {
          "color": "#990000",
          "fillColor": "#990000",
          "fillOpacity": 0.5,
          "weight": 1
         },
         "type": "Feature"
        },
        {
         "geometry": {
          "coordinates": [
           8.985,
           56.1003
          ],
          "type": "Point"
         },
         "properties": {
          "color": "#990000",
          "fillColor": "#990000",
          "fillOpacity": 0.5,
          "weight": 1
         },
         "type": "Feature"
        },
        {
         "geometry": {
          "coordinates": [
           8.9698,
           56.1004
          ],
          "type": "Point"
         },
         "properties": {
          "color": "#990000",
          "fillColor": "#990000",
          "fillOpacity": 0.5,
          "weight": 1
         },
         "type": "Feature"
        },
        {
         "geometry": {
          "coordinates": [
           8.9848,
           56.1004
          ],
          "type": "Point"
         },
         "properties": {
          "color": "#990000",
          "fillColor": "#990000",
          "fillOpacity": 0.5,
          "weight": 1
         },
         "type": "Feature"
        },
        {
         "geometry": {
          "coordinates": [
           8.9849,
           56.1004
          ],
          "type": "Point"
         },
         "properties": {
          "color": "#990000",
          "fillColor": "#990000",
          "fillOpacity": 0.5,
          "weight": 1
         },
         "type": "Feature"
        },
        {
         "geometry": {
          "coordinates": [
           8.985,
           56.1004
          ],
          "type": "Point"
         },
         "properties": {
          "color": "#990000",
          "fillColor": "#990000",
          "fillOpacity": 0.5,
          "weight": 1
         },
         "type": "Feature"
        },
        {
         "geometry": {
          "coordinates": [
           8.9091,
           56.1005
          ],
          "type": "Point"
         },
         "properties": {
          "color": "#990000",
          "fillColor": "#990000",
          "fillOpacity": 0.5,
          "weight": 1
         },
         "type": "Feature"
        },
        {
         "geometry": {
          "coordinates": [
           8.9335,
           56.1005
          ],
          "type": "Point"
         },
         "properties": {
          "color": "#990000",
          "fillColor": "#990000",
          "fillOpacity": 0.5,
          "weight": 1
         },
         "type": "Feature"
        },
        {
         "geometry": {
          "coordinates": [
           8.9551,
           56.1005
          ],
          "type": "Point"
         },
         "properties": {
          "color": "#990000",
          "fillColor": "#990000",
          "fillOpacity": 0.5,
          "weight": 1
         },
         "type": "Feature"
        },
        {
         "geometry": {
          "coordinates": [
           8.985,
           56.1005
          ],
          "type": "Point"
         },
         "properties": {
          "color": "#990000",
          "fillColor": "#990000",
          "fillOpacity": 0.5,
          "weight": 1
         },
         "type": "Feature"
        },
        {
         "geometry": {
          "coordinates": [
           9.0071,
           56.1005
          ],
          "type": "Point"
         },
         "properties": {
          "color": "#990000",
          "fillColor": "#990000",
          "fillOpacity": 0.5,
          "weight": 1
         },
         "type": "Feature"
        },
        {
         "geometry": {
          "coordinates": [
           8.9327,
           56.1006
          ],
          "type": "Point"
         },
         "properties": {
          "color": "#990000",
          "fillColor": "#990000",
          "fillOpacity": 0.5,
          "weight": 1
         },
         "type": "Feature"
        },
        {
         "geometry": {
          "coordinates": [
           8.9846,
           56.1006
          ],
          "type": "Point"
         },
         "properties": {
          "color": "#990000",
          "fillColor": "#990000",
          "fillOpacity": 0.5,
          "weight": 1
         },
         "type": "Feature"
        },
        {
         "geometry": {
          "coordinates": [
           9.0066,
           56.1006
          ],
          "type": "Point"
         },
         "properties": {
          "color": "#990000",
          "fillColor": "#990000",
          "fillOpacity": 0.5,
          "weight": 1
         },
         "type": "Feature"
        },
        {
         "geometry": {
          "coordinates": [
           8.8607,
           56.1008
          ],
          "type": "Point"
         },
         "properties": {
          "color": "#990000",
          "fillColor": "#990000",
          "fillOpacity": 0.5,
          "weight": 1
         },
         "type": "Feature"
        },
        {
         "geometry": {
          "coordinates": [
           8.9175,
           56.1008
          ],
          "type": "Point"
         },
         "properties": {
          "color": "#990000",
          "fillColor": "#990000",
          "fillOpacity": 0.5,
          "weight": 1
         },
         "type": "Feature"
        },
        {
         "geometry": {
          "coordinates": [
           8.9337,
           56.1009
          ],
          "type": "Point"
         },
         "properties": {
          "color": "#990000",
          "fillColor": "#990000",
          "fillOpacity": 0.5,
          "weight": 1
         },
         "type": "Feature"
        },
        {
         "geometry": {
          "coordinates": [
           8.9527,
           56.1009
          ],
          "type": "Point"
         },
         "properties": {
          "color": "#990000",
          "fillColor": "#990000",
          "fillOpacity": 0.5,
          "weight": 1
         },
         "type": "Feature"
        },
        {
         "geometry": {
          "coordinates": [
           8.9682,
           56.1009
          ],
          "type": "Point"
         },
         "properties": {
          "color": "#990000",
          "fillColor": "#990000",
          "fillOpacity": 0.5,
          "weight": 1
         },
         "type": "Feature"
        },
        {
         "geometry": {
          "coordinates": [
           8.9761,
           56.1009
          ],
          "type": "Point"
         },
         "properties": {
          "color": "#990000",
          "fillColor": "#990000",
          "fillOpacity": 0.5,
          "weight": 1
         },
         "type": "Feature"
        },
        {
         "geometry": {
          "coordinates": [
           8.9781,
           56.1009
          ],
          "type": "Point"
         },
         "properties": {
          "color": "#990000",
          "fillColor": "#990000",
          "fillOpacity": 0.5,
          "weight": 1
         },
         "type": "Feature"
        },
        {
         "geometry": {
          "coordinates": [
           8.9815,
           56.1009
          ],
          "type": "Point"
         },
         "properties": {
          "color": "#990000",
          "fillColor": "#990000",
          "fillOpacity": 0.5,
          "weight": 1
         },
         "type": "Feature"
        },
        {
         "geometry": {
          "coordinates": [
           9.0067,
           56.1009
          ],
          "type": "Point"
         },
         "properties": {
          "color": "#990000",
          "fillColor": "#990000",
          "fillOpacity": 0.5,
          "weight": 1
         },
         "type": "Feature"
        },
        {
         "geometry": {
          "coordinates": [
           9.0068,
           56.1009
          ],
          "type": "Point"
         },
         "properties": {
          "color": "#990000",
          "fillColor": "#990000",
          "fillOpacity": 0.5,
          "weight": 1
         },
         "type": "Feature"
        },
        {
         "geometry": {
          "coordinates": [
           8.9336,
           56.101
          ],
          "type": "Point"
         },
         "properties": {
          "color": "#990000",
          "fillColor": "#990000",
          "fillOpacity": 0.5,
          "weight": 1
         },
         "type": "Feature"
        },
        {
         "geometry": {
          "coordinates": [
           8.9808,
           56.101
          ],
          "type": "Point"
         },
         "properties": {
          "color": "#990000",
          "fillColor": "#990000",
          "fillOpacity": 0.5,
          "weight": 1
         },
         "type": "Feature"
        },
        {
         "geometry": {
          "coordinates": [
           8.8582,
           56.1011
          ],
          "type": "Point"
         },
         "properties": {
          "color": "#990000",
          "fillColor": "#990000",
          "fillOpacity": 0.5,
          "weight": 1
         },
         "type": "Feature"
        },
        {
         "geometry": {
          "coordinates": [
           8.8653,
           56.1011
          ],
          "type": "Point"
         },
         "properties": {
          "color": "#990000",
          "fillColor": "#990000",
          "fillOpacity": 0.5,
          "weight": 1
         },
         "type": "Feature"
        },
        {
         "geometry": {
          "coordinates": [
           8.9336,
           56.1011
          ],
          "type": "Point"
         },
         "properties": {
          "color": "#990000",
          "fillColor": "#990000",
          "fillOpacity": 0.5,
          "weight": 1
         },
         "type": "Feature"
        },
        {
         "geometry": {
          "coordinates": [
           8.9493,
           56.1011
          ],
          "type": "Point"
         },
         "properties": {
          "color": "#990000",
          "fillColor": "#990000",
          "fillOpacity": 0.5,
          "weight": 1
         },
         "type": "Feature"
        },
        {
         "geometry": {
          "coordinates": [
           8.9805,
           56.1011
          ],
          "type": "Point"
         },
         "properties": {
          "color": "#990000",
          "fillColor": "#990000",
          "fillOpacity": 0.5,
          "weight": 1
         },
         "type": "Feature"
        },
        {
         "geometry": {
          "coordinates": [
           9.0071,
           56.1011
          ],
          "type": "Point"
         },
         "properties": {
          "color": "#990000",
          "fillColor": "#990000",
          "fillOpacity": 0.5,
          "weight": 1
         },
         "type": "Feature"
        },
        {
         "geometry": {
          "coordinates": [
           8.9112,
           56.1012
          ],
          "type": "Point"
         },
         "properties": {
          "color": "#990000",
          "fillColor": "#990000",
          "fillOpacity": 0.5,
          "weight": 1
         },
         "type": "Feature"
        },
        {
         "geometry": {
          "coordinates": [
           8.9337,
           56.1012
          ],
          "type": "Point"
         },
         "properties": {
          "color": "#990000",
          "fillColor": "#990000",
          "fillOpacity": 0.5,
          "weight": 1
         },
         "type": "Feature"
        },
        {
         "geometry": {
          "coordinates": [
           8.8949,
           56.1013
          ],
          "type": "Point"
         },
         "properties": {
          "color": "#990000",
          "fillColor": "#990000",
          "fillOpacity": 0.5,
          "weight": 1
         },
         "type": "Feature"
        },
        {
         "geometry": {
          "coordinates": [
           8.9304,
           56.1013
          ],
          "type": "Point"
         },
         "properties": {
          "color": "#990000",
          "fillColor": "#990000",
          "fillOpacity": 0.5,
          "weight": 1
         },
         "type": "Feature"
        },
        {
         "geometry": {
          "coordinates": [
           8.9713,
           56.1013
          ],
          "type": "Point"
         },
         "properties": {
          "color": "#990000",
          "fillColor": "#990000",
          "fillOpacity": 0.5,
          "weight": 1
         },
         "type": "Feature"
        },
        {
         "geometry": {
          "coordinates": [
           8.9803,
           56.1013
          ],
          "type": "Point"
         },
         "properties": {
          "color": "#990000",
          "fillColor": "#990000",
          "fillOpacity": 0.5,
          "weight": 1
         },
         "type": "Feature"
        },
        {
         "geometry": {
          "coordinates": [
           9.007,
           56.1013
          ],
          "type": "Point"
         },
         "properties": {
          "color": "#990000",
          "fillColor": "#990000",
          "fillOpacity": 0.5,
          "weight": 1
         },
         "type": "Feature"
        },
        {
         "geometry": {
          "coordinates": [
           9.0073,
           56.1013
          ],
          "type": "Point"
         },
         "properties": {
          "color": "#990000",
          "fillColor": "#990000",
          "fillOpacity": 0.5,
          "weight": 1
         },
         "type": "Feature"
        },
        {
         "geometry": {
          "coordinates": [
           8.8582,
           56.1014
          ],
          "type": "Point"
         },
         "properties": {
          "color": "#990000",
          "fillColor": "#990000",
          "fillOpacity": 0.5,
          "weight": 1
         },
         "type": "Feature"
        },
        {
         "geometry": {
          "coordinates": [
           8.9369,
           56.1014
          ],
          "type": "Point"
         },
         "properties": {
          "color": "#990000",
          "fillColor": "#990000",
          "fillOpacity": 0.5,
          "weight": 1
         },
         "type": "Feature"
        },
        {
         "geometry": {
          "coordinates": [
           8.9771,
           56.1014
          ],
          "type": "Point"
         },
         "properties": {
          "color": "#990000",
          "fillColor": "#990000",
          "fillOpacity": 0.5,
          "weight": 1
         },
         "type": "Feature"
        },
        {
         "geometry": {
          "coordinates": [
           8.8571,
           56.1015
          ],
          "type": "Point"
         },
         "properties": {
          "color": "#990000",
          "fillColor": "#990000",
          "fillOpacity": 0.5,
          "weight": 1
         },
         "type": "Feature"
        },
        {
         "geometry": {
          "coordinates": [
           8.909,
           56.1015
          ],
          "type": "Point"
         },
         "properties": {
          "color": "#990000",
          "fillColor": "#990000",
          "fillOpacity": 0.5,
          "weight": 1
         },
         "type": "Feature"
        },
        {
         "geometry": {
          "coordinates": [
           8.9799,
           56.1015
          ],
          "type": "Point"
         },
         "properties": {
          "color": "#990000",
          "fillColor": "#990000",
          "fillOpacity": 0.5,
          "weight": 1
         },
         "type": "Feature"
        },
        {
         "geometry": {
          "coordinates": [
           8.9816,
           56.1015
          ],
          "type": "Point"
         },
         "properties": {
          "color": "#990000",
          "fillColor": "#990000",
          "fillOpacity": 0.5,
          "weight": 1
         },
         "type": "Feature"
        },
        {
         "geometry": {
          "coordinates": [
           8.8615,
           56.1016
          ],
          "type": "Point"
         },
         "properties": {
          "color": "#990000",
          "fillColor": "#990000",
          "fillOpacity": 0.5,
          "weight": 1
         },
         "type": "Feature"
        },
        {
         "geometry": {
          "coordinates": [
           8.9596,
           56.1016
          ],
          "type": "Point"
         },
         "properties": {
          "color": "#990000",
          "fillColor": "#990000",
          "fillOpacity": 0.5,
          "weight": 1
         },
         "type": "Feature"
        },
        {
         "geometry": {
          "coordinates": [
           8.9796,
           56.1016
          ],
          "type": "Point"
         },
         "properties": {
          "color": "#990000",
          "fillColor": "#990000",
          "fillOpacity": 0.5,
          "weight": 1
         },
         "type": "Feature"
        },
        {
         "geometry": {
          "coordinates": [
           9.0071,
           56.1016
          ],
          "type": "Point"
         },
         "properties": {
          "color": "#990000",
          "fillColor": "#990000",
          "fillOpacity": 0.5,
          "weight": 1
         },
         "type": "Feature"
        },
        {
         "geometry": {
          "coordinates": [
           8.9342,
           56.1017
          ],
          "type": "Point"
         },
         "properties": {
          "color": "#990000",
          "fillColor": "#990000",
          "fillOpacity": 0.5,
          "weight": 1
         },
         "type": "Feature"
        },
        {
         "geometry": {
          "coordinates": [
           8.9085,
           56.1018
          ],
          "type": "Point"
         },
         "properties": {
          "color": "#990000",
          "fillColor": "#990000",
          "fillOpacity": 0.5,
          "weight": 1
         },
         "type": "Feature"
        },
        {
         "geometry": {
          "coordinates": [
           8.9342,
           56.1018
          ],
          "type": "Point"
         },
         "properties": {
          "color": "#990000",
          "fillColor": "#990000",
          "fillOpacity": 0.5,
          "weight": 1
         },
         "type": "Feature"
        },
        {
         "geometry": {
          "coordinates": [
           8.9576,
           56.1018
          ],
          "type": "Point"
         },
         "properties": {
          "color": "#990000",
          "fillColor": "#990000",
          "fillOpacity": 0.5,
          "weight": 1
         },
         "type": "Feature"
        },
        {
         "geometry": {
          "coordinates": [
           9.0045,
           56.1018
          ],
          "type": "Point"
         },
         "properties": {
          "color": "#990000",
          "fillColor": "#990000",
          "fillOpacity": 0.5,
          "weight": 1
         },
         "type": "Feature"
        },
        {
         "geometry": {
          "coordinates": [
           9.0074,
           56.1018
          ],
          "type": "Point"
         },
         "properties": {
          "color": "#990000",
          "fillColor": "#990000",
          "fillOpacity": 0.5,
          "weight": 1
         },
         "type": "Feature"
        },
        {
         "geometry": {
          "coordinates": [
           8.8584,
           56.1019
          ],
          "type": "Point"
         },
         "properties": {
          "color": "#990000",
          "fillColor": "#990000",
          "fillOpacity": 0.5,
          "weight": 1
         },
         "type": "Feature"
        },
        {
         "geometry": {
          "coordinates": [
           8.9093,
           56.1019
          ],
          "type": "Point"
         },
         "properties": {
          "color": "#990000",
          "fillColor": "#990000",
          "fillOpacity": 0.5,
          "weight": 1
         },
         "type": "Feature"
        },
        {
         "geometry": {
          "coordinates": [
           8.9472,
           56.1019
          ],
          "type": "Point"
         },
         "properties": {
          "color": "#990000",
          "fillColor": "#990000",
          "fillOpacity": 0.5,
          "weight": 1
         },
         "type": "Feature"
        },
        {
         "geometry": {
          "coordinates": [
           8.9798,
           56.1019
          ],
          "type": "Point"
         },
         "properties": {
          "color": "#990000",
          "fillColor": "#990000",
          "fillOpacity": 0.5,
          "weight": 1
         },
         "type": "Feature"
        },
        {
         "geometry": {
          "coordinates": [
           8.9805,
           56.1019
          ],
          "type": "Point"
         },
         "properties": {
          "color": "#990000",
          "fillColor": "#990000",
          "fillOpacity": 0.5,
          "weight": 1
         },
         "type": "Feature"
        },
        {
         "geometry": {
          "coordinates": [
           9.0075,
           56.1019
          ],
          "type": "Point"
         },
         "properties": {
          "color": "#990000",
          "fillColor": "#990000",
          "fillOpacity": 0.5,
          "weight": 1
         },
         "type": "Feature"
        },
        {
         "geometry": {
          "coordinates": [
           8.9094,
           56.102
          ],
          "type": "Point"
         },
         "properties": {
          "color": "#990000",
          "fillColor": "#990000",
          "fillOpacity": 0.5,
          "weight": 1
         },
         "type": "Feature"
        },
        {
         "geometry": {
          "coordinates": [
           8.9304,
           56.102
          ],
          "type": "Point"
         },
         "properties": {
          "color": "#990000",
          "fillColor": "#990000",
          "fillOpacity": 0.5,
          "weight": 1
         },
         "type": "Feature"
        },
        {
         "geometry": {
          "coordinates": [
           8.9578,
           56.102
          ],
          "type": "Point"
         },
         "properties": {
          "color": "#990000",
          "fillColor": "#990000",
          "fillOpacity": 0.5,
          "weight": 1
         },
         "type": "Feature"
        },
        {
         "geometry": {
          "coordinates": [
           8.9775,
           56.1021
          ],
          "type": "Point"
         },
         "properties": {
          "color": "#990000",
          "fillColor": "#990000",
          "fillOpacity": 0.5,
          "weight": 1
         },
         "type": "Feature"
        },
        {
         "geometry": {
          "coordinates": [
           8.9795,
           56.1021
          ],
          "type": "Point"
         },
         "properties": {
          "color": "#990000",
          "fillColor": "#990000",
          "fillOpacity": 0.5,
          "weight": 1
         },
         "type": "Feature"
        },
        {
         "geometry": {
          "coordinates": [
           8.9799,
           56.1021
          ],
          "type": "Point"
         },
         "properties": {
          "color": "#990000",
          "fillColor": "#990000",
          "fillOpacity": 0.5,
          "weight": 1
         },
         "type": "Feature"
        },
        {
         "geometry": {
          "coordinates": [
           8.9096,
           56.1022
          ],
          "type": "Point"
         },
         "properties": {
          "color": "#990000",
          "fillColor": "#990000",
          "fillOpacity": 0.5,
          "weight": 1
         },
         "type": "Feature"
        },
        {
         "geometry": {
          "coordinates": [
           8.9111,
           56.1022
          ],
          "type": "Point"
         },
         "properties": {
          "color": "#990000",
          "fillColor": "#990000",
          "fillOpacity": 0.5,
          "weight": 1
         },
         "type": "Feature"
        },
        {
         "geometry": {
          "coordinates": [
           8.9487,
           56.1022
          ],
          "type": "Point"
         },
         "properties": {
          "color": "#990000",
          "fillColor": "#990000",
          "fillOpacity": 0.5,
          "weight": 1
         },
         "type": "Feature"
        },
        {
         "geometry": {
          "coordinates": [
           8.9792,
           56.1022
          ],
          "type": "Point"
         },
         "properties": {
          "color": "#990000",
          "fillColor": "#990000",
          "fillOpacity": 0.5,
          "weight": 1
         },
         "type": "Feature"
        },
        {
         "geometry": {
          "coordinates": [
           8.9799,
           56.1022
          ],
          "type": "Point"
         },
         "properties": {
          "color": "#990000",
          "fillColor": "#990000",
          "fillOpacity": 0.5,
          "weight": 1
         },
         "type": "Feature"
        },
        {
         "geometry": {
          "coordinates": [
           9.0029,
           56.1022
          ],
          "type": "Point"
         },
         "properties": {
          "color": "#990000",
          "fillColor": "#990000",
          "fillOpacity": 0.5,
          "weight": 1
         },
         "type": "Feature"
        },
        {
         "geometry": {
          "coordinates": [
           8.8919,
           56.1023
          ],
          "type": "Point"
         },
         "properties": {
          "color": "#990000",
          "fillColor": "#990000",
          "fillOpacity": 0.5,
          "weight": 1
         },
         "type": "Feature"
        },
        {
         "geometry": {
          "coordinates": [
           8.9779,
           56.1023
          ],
          "type": "Point"
         },
         "properties": {
          "color": "#990000",
          "fillColor": "#990000",
          "fillOpacity": 0.5,
          "weight": 1
         },
         "type": "Feature"
        },
        {
         "geometry": {
          "coordinates": [
           8.9793,
           56.1023
          ],
          "type": "Point"
         },
         "properties": {
          "color": "#990000",
          "fillColor": "#990000",
          "fillOpacity": 0.5,
          "weight": 1
         },
         "type": "Feature"
        },
        {
         "geometry": {
          "coordinates": [
           8.9802,
           56.1023
          ],
          "type": "Point"
         },
         "properties": {
          "color": "#990000",
          "fillColor": "#990000",
          "fillOpacity": 0.5,
          "weight": 1
         },
         "type": "Feature"
        },
        {
         "geometry": {
          "coordinates": [
           8.9806,
           56.1023
          ],
          "type": "Point"
         },
         "properties": {
          "color": "#990000",
          "fillColor": "#990000",
          "fillOpacity": 0.5,
          "weight": 1
         },
         "type": "Feature"
        },
        {
         "geometry": {
          "coordinates": [
           8.9857,
           56.1023
          ],
          "type": "Point"
         },
         "properties": {
          "color": "#990000",
          "fillColor": "#990000",
          "fillOpacity": 0.5,
          "weight": 1
         },
         "type": "Feature"
        },
        {
         "geometry": {
          "coordinates": [
           8.9347,
           56.1024
          ],
          "type": "Point"
         },
         "properties": {
          "color": "#990000",
          "fillColor": "#990000",
          "fillOpacity": 0.5,
          "weight": 1
         },
         "type": "Feature"
        },
        {
         "geometry": {
          "coordinates": [
           8.9804,
           56.1024
          ],
          "type": "Point"
         },
         "properties": {
          "color": "#990000",
          "fillColor": "#990000",
          "fillOpacity": 0.5,
          "weight": 1
         },
         "type": "Feature"
        },
        {
         "geometry": {
          "coordinates": [
           8.9852,
           56.1024
          ],
          "type": "Point"
         },
         "properties": {
          "color": "#990000",
          "fillColor": "#990000",
          "fillOpacity": 0.5,
          "weight": 1
         },
         "type": "Feature"
        },
        {
         "geometry": {
          "coordinates": [
           8.9857,
           56.1024
          ],
          "type": "Point"
         },
         "properties": {
          "color": "#990000",
          "fillColor": "#990000",
          "fillOpacity": 0.5,
          "weight": 1
         },
         "type": "Feature"
        },
        {
         "geometry": {
          "coordinates": [
           8.8612,
           56.1025
          ],
          "type": "Point"
         },
         "properties": {
          "color": "#990000",
          "fillColor": "#990000",
          "fillOpacity": 0.5,
          "weight": 1
         },
         "type": "Feature"
        },
        {
         "geometry": {
          "coordinates": [
           8.9349,
           56.1025
          ],
          "type": "Point"
         },
         "properties": {
          "color": "#990000",
          "fillColor": "#990000",
          "fillOpacity": 0.5,
          "weight": 1
         },
         "type": "Feature"
        },
        {
         "geometry": {
          "coordinates": [
           8.9606,
           56.1025
          ],
          "type": "Point"
         },
         "properties": {
          "color": "#990000",
          "fillColor": "#990000",
          "fillOpacity": 0.5,
          "weight": 1
         },
         "type": "Feature"
        },
        {
         "geometry": {
          "coordinates": [
           8.9615,
           56.1025
          ],
          "type": "Point"
         },
         "properties": {
          "color": "#990000",
          "fillColor": "#990000",
          "fillOpacity": 0.5,
          "weight": 1
         },
         "type": "Feature"
        },
        {
         "geometry": {
          "coordinates": [
           8.9733,
           56.1025
          ],
          "type": "Point"
         },
         "properties": {
          "color": "#990000",
          "fillColor": "#990000",
          "fillOpacity": 0.5,
          "weight": 1
         },
         "type": "Feature"
        },
        {
         "geometry": {
          "coordinates": [
           8.9747,
           56.1025
          ],
          "type": "Point"
         },
         "properties": {
          "color": "#990000",
          "fillColor": "#990000",
          "fillOpacity": 0.5,
          "weight": 1
         },
         "type": "Feature"
        },
        {
         "geometry": {
          "coordinates": [
           8.9753,
           56.1025
          ],
          "type": "Point"
         },
         "properties": {
          "color": "#990000",
          "fillColor": "#990000",
          "fillOpacity": 0.5,
          "weight": 1
         },
         "type": "Feature"
        },
        {
         "geometry": {
          "coordinates": [
           8.9766,
           56.1025
          ],
          "type": "Point"
         },
         "properties": {
          "color": "#990000",
          "fillColor": "#990000",
          "fillOpacity": 0.5,
          "weight": 1
         },
         "type": "Feature"
        },
        {
         "geometry": {
          "coordinates": [
           8.8588,
           56.1026
          ],
          "type": "Point"
         },
         "properties": {
          "color": "#990000",
          "fillColor": "#990000",
          "fillOpacity": 0.5,
          "weight": 1
         },
         "type": "Feature"
        },
        {
         "geometry": {
          "coordinates": [
           8.8598,
           56.1026
          ],
          "type": "Point"
         },
         "properties": {
          "color": "#990000",
          "fillColor": "#990000",
          "fillOpacity": 0.5,
          "weight": 1
         },
         "type": "Feature"
        },
        {
         "geometry": {
          "coordinates": [
           8.9346,
           56.1026
          ],
          "type": "Point"
         },
         "properties": {
          "color": "#990000",
          "fillColor": "#990000",
          "fillOpacity": 0.5,
          "weight": 1
         },
         "type": "Feature"
        },
        {
         "geometry": {
          "coordinates": [
           8.9352,
           56.1026
          ],
          "type": "Point"
         },
         "properties": {
          "color": "#990000",
          "fillColor": "#990000",
          "fillOpacity": 0.5,
          "weight": 1
         },
         "type": "Feature"
        },
        {
         "geometry": {
          "coordinates": [
           8.9355,
           56.1026
          ],
          "type": "Point"
         },
         "properties": {
          "color": "#990000",
          "fillColor": "#990000",
          "fillOpacity": 0.5,
          "weight": 1
         },
         "type": "Feature"
        },
        {
         "geometry": {
          "coordinates": [
           8.9729,
           56.1026
          ],
          "type": "Point"
         },
         "properties": {
          "color": "#990000",
          "fillColor": "#990000",
          "fillOpacity": 0.5,
          "weight": 1
         },
         "type": "Feature"
        },
        {
         "geometry": {
          "coordinates": [
           8.973,
           56.1026
          ],
          "type": "Point"
         },
         "properties": {
          "color": "#990000",
          "fillColor": "#990000",
          "fillOpacity": 0.5,
          "weight": 1
         },
         "type": "Feature"
        },
        {
         "geometry": {
          "coordinates": [
           8.9731,
           56.1026
          ],
          "type": "Point"
         },
         "properties": {
          "color": "#990000",
          "fillColor": "#990000",
          "fillOpacity": 0.5,
          "weight": 1
         },
         "type": "Feature"
        },
        {
         "geometry": {
          "coordinates": [
           8.9738,
           56.1026
          ],
          "type": "Point"
         },
         "properties": {
          "color": "#990000",
          "fillColor": "#990000",
          "fillOpacity": 0.5,
          "weight": 1
         },
         "type": "Feature"
        },
        {
         "geometry": {
          "coordinates": [
           8.9743,
           56.1026
          ],
          "type": "Point"
         },
         "properties": {
          "color": "#990000",
          "fillColor": "#990000",
          "fillOpacity": 0.5,
          "weight": 1
         },
         "type": "Feature"
        },
        {
         "geometry": {
          "coordinates": [
           8.9744,
           56.1026
          ],
          "type": "Point"
         },
         "properties": {
          "color": "#990000",
          "fillColor": "#990000",
          "fillOpacity": 0.5,
          "weight": 1
         },
         "type": "Feature"
        },
        {
         "geometry": {
          "coordinates": [
           8.9796,
           56.1026
          ],
          "type": "Point"
         },
         "properties": {
          "color": "#990000",
          "fillColor": "#990000",
          "fillOpacity": 0.5,
          "weight": 1
         },
         "type": "Feature"
        },
        {
         "geometry": {
          "coordinates": [
           9.0078,
           56.1026
          ],
          "type": "Point"
         },
         "properties": {
          "color": "#990000",
          "fillColor": "#990000",
          "fillOpacity": 0.5,
          "weight": 1
         },
         "type": "Feature"
        },
        {
         "geometry": {
          "coordinates": [
           8.9354,
           56.1027
          ],
          "type": "Point"
         },
         "properties": {
          "color": "#990000",
          "fillColor": "#990000",
          "fillOpacity": 0.5,
          "weight": 1
         },
         "type": "Feature"
        },
        {
         "geometry": {
          "coordinates": [
           8.9727,
           56.1027
          ],
          "type": "Point"
         },
         "properties": {
          "color": "#990000",
          "fillColor": "#990000",
          "fillOpacity": 0.5,
          "weight": 1
         },
         "type": "Feature"
        },
        {
         "geometry": {
          "coordinates": [
           8.9728,
           56.1027
          ],
          "type": "Point"
         },
         "properties": {
          "color": "#990000",
          "fillColor": "#990000",
          "fillOpacity": 0.5,
          "weight": 1
         },
         "type": "Feature"
        },
        {
         "geometry": {
          "coordinates": [
           8.9729,
           56.1027
          ],
          "type": "Point"
         },
         "properties": {
          "color": "#990000",
          "fillColor": "#990000",
          "fillOpacity": 0.5,
          "weight": 1
         },
         "type": "Feature"
        },
        {
         "geometry": {
          "coordinates": [
           8.973,
           56.1027
          ],
          "type": "Point"
         },
         "properties": {
          "color": "#990000",
          "fillColor": "#990000",
          "fillOpacity": 0.5,
          "weight": 1
         },
         "type": "Feature"
        },
        {
         "geometry": {
          "coordinates": [
           8.9731,
           56.1027
          ],
          "type": "Point"
         },
         "properties": {
          "color": "#990000",
          "fillColor": "#990000",
          "fillOpacity": 0.5,
          "weight": 1
         },
         "type": "Feature"
        },
        {
         "geometry": {
          "coordinates": [
           8.9732,
           56.1027
          ],
          "type": "Point"
         },
         "properties": {
          "color": "#990000",
          "fillColor": "#990000",
          "fillOpacity": 0.5,
          "weight": 1
         },
         "type": "Feature"
        },
        {
         "geometry": {
          "coordinates": [
           8.9737,
           56.1027
          ],
          "type": "Point"
         },
         "properties": {
          "color": "#990000",
          "fillColor": "#990000",
          "fillOpacity": 0.5,
          "weight": 1
         },
         "type": "Feature"
        },
        {
         "geometry": {
          "coordinates": [
           8.9753,
           56.1027
          ],
          "type": "Point"
         },
         "properties": {
          "color": "#990000",
          "fillColor": "#990000",
          "fillOpacity": 0.5,
          "weight": 1
         },
         "type": "Feature"
        },
        {
         "geometry": {
          "coordinates": [
           8.9828,
           56.1027
          ],
          "type": "Point"
         },
         "properties": {
          "color": "#990000",
          "fillColor": "#990000",
          "fillOpacity": 0.5,
          "weight": 1
         },
         "type": "Feature"
        },
        {
         "geometry": {
          "coordinates": [
           8.8679,
           56.1028
          ],
          "type": "Point"
         },
         "properties": {
          "color": "#990000",
          "fillColor": "#990000",
          "fillOpacity": 0.5,
          "weight": 1
         },
         "type": "Feature"
        },
        {
         "geometry": {
          "coordinates": [
           8.9351,
           56.1028
          ],
          "type": "Point"
         },
         "properties": {
          "color": "#990000",
          "fillColor": "#990000",
          "fillOpacity": 0.5,
          "weight": 1
         },
         "type": "Feature"
        },
        {
         "geometry": {
          "coordinates": [
           8.9721,
           56.1028
          ],
          "type": "Point"
         },
         "properties": {
          "color": "#990000",
          "fillColor": "#990000",
          "fillOpacity": 0.5,
          "weight": 1
         },
         "type": "Feature"
        },
        {
         "geometry": {
          "coordinates": [
           8.9725,
           56.1028
          ],
          "type": "Point"
         },
         "properties": {
          "color": "#990000",
          "fillColor": "#990000",
          "fillOpacity": 0.5,
          "weight": 1
         },
         "type": "Feature"
        },
        {
         "geometry": {
          "coordinates": [
           8.9726,
           56.1028
          ],
          "type": "Point"
         },
         "properties": {
          "color": "#990000",
          "fillColor": "#990000",
          "fillOpacity": 0.5,
          "weight": 1
         },
         "type": "Feature"
        },
        {
         "geometry": {
          "coordinates": [
           8.9728,
           56.1028
          ],
          "type": "Point"
         },
         "properties": {
          "color": "#990000",
          "fillColor": "#990000",
          "fillOpacity": 0.5,
          "weight": 1
         },
         "type": "Feature"
        },
        {
         "geometry": {
          "coordinates": [
           8.973,
           56.1028
          ],
          "type": "Point"
         },
         "properties": {
          "color": "#990000",
          "fillColor": "#990000",
          "fillOpacity": 0.5,
          "weight": 1
         },
         "type": "Feature"
        },
        {
         "geometry": {
          "coordinates": [
           8.9731,
           56.1028
          ],
          "type": "Point"
         },
         "properties": {
          "color": "#990000",
          "fillColor": "#990000",
          "fillOpacity": 0.5,
          "weight": 1
         },
         "type": "Feature"
        },
        {
         "geometry": {
          "coordinates": [
           8.9733,
           56.1028
          ],
          "type": "Point"
         },
         "properties": {
          "color": "#990000",
          "fillColor": "#990000",
          "fillOpacity": 0.5,
          "weight": 1
         },
         "type": "Feature"
        },
        {
         "geometry": {
          "coordinates": [
           9.0014,
           56.1028
          ],
          "type": "Point"
         },
         "properties": {
          "color": "#990000",
          "fillColor": "#990000",
          "fillOpacity": 0.5,
          "weight": 1
         },
         "type": "Feature"
        },
        {
         "geometry": {
          "coordinates": [
           8.8651,
           56.1029
          ],
          "type": "Point"
         },
         "properties": {
          "color": "#990000",
          "fillColor": "#990000",
          "fillOpacity": 0.5,
          "weight": 1
         },
         "type": "Feature"
        },
        {
         "geometry": {
          "coordinates": [
           8.9095,
           56.1029
          ],
          "type": "Point"
         },
         "properties": {
          "color": "#990000",
          "fillColor": "#990000",
          "fillOpacity": 0.5,
          "weight": 1
         },
         "type": "Feature"
        },
        {
         "geometry": {
          "coordinates": [
           8.9351,
           56.1029
          ],
          "type": "Point"
         },
         "properties": {
          "color": "#990000",
          "fillColor": "#990000",
          "fillOpacity": 0.5,
          "weight": 1
         },
         "type": "Feature"
        },
        {
         "geometry": {
          "coordinates": [
           8.9451,
           56.1029
          ],
          "type": "Point"
         },
         "properties": {
          "color": "#990000",
          "fillColor": "#990000",
          "fillOpacity": 0.5,
          "weight": 1
         },
         "type": "Feature"
        },
        {
         "geometry": {
          "coordinates": [
           8.9702,
           56.1029
          ],
          "type": "Point"
         },
         "properties": {
          "color": "#990000",
          "fillColor": "#990000",
          "fillOpacity": 0.5,
          "weight": 1
         },
         "type": "Feature"
        },
        {
         "geometry": {
          "coordinates": [
           8.9729,
           56.1029
          ],
          "type": "Point"
         },
         "properties": {
          "color": "#990000",
          "fillColor": "#990000",
          "fillOpacity": 0.5,
          "weight": 1
         },
         "type": "Feature"
        },
        {
         "geometry": {
          "coordinates": [
           8.973,
           56.1029
          ],
          "type": "Point"
         },
         "properties": {
          "color": "#990000",
          "fillColor": "#990000",
          "fillOpacity": 0.5,
          "weight": 1
         },
         "type": "Feature"
        },
        {
         "geometry": {
          "coordinates": [
           8.9731,
           56.1029
          ],
          "type": "Point"
         },
         "properties": {
          "color": "#990000",
          "fillColor": "#990000",
          "fillOpacity": 0.5,
          "weight": 1
         },
         "type": "Feature"
        },
        {
         "geometry": {
          "coordinates": [
           8.9732,
           56.1029
          ],
          "type": "Point"
         },
         "properties": {
          "color": "#990000",
          "fillColor": "#990000",
          "fillOpacity": 0.5,
          "weight": 1
         },
         "type": "Feature"
        },
        {
         "geometry": {
          "coordinates": [
           8.9733,
           56.1029
          ],
          "type": "Point"
         },
         "properties": {
          "color": "#990000",
          "fillColor": "#990000",
          "fillOpacity": 0.5,
          "weight": 1
         },
         "type": "Feature"
        },
        {
         "geometry": {
          "coordinates": [
           8.9737,
           56.1029
          ],
          "type": "Point"
         },
         "properties": {
          "color": "#990000",
          "fillColor": "#990000",
          "fillOpacity": 0.5,
          "weight": 1
         },
         "type": "Feature"
        },
        {
         "geometry": {
          "coordinates": [
           8.9793,
           56.1029
          ],
          "type": "Point"
         },
         "properties": {
          "color": "#990000",
          "fillColor": "#990000",
          "fillOpacity": 0.5,
          "weight": 1
         },
         "type": "Feature"
        },
        {
         "geometry": {
          "coordinates": [
           8.9799,
           56.1029
          ],
          "type": "Point"
         },
         "properties": {
          "color": "#990000",
          "fillColor": "#990000",
          "fillOpacity": 0.5,
          "weight": 1
         },
         "type": "Feature"
        },
        {
         "geometry": {
          "coordinates": [
           9.0017,
           56.1029
          ],
          "type": "Point"
         },
         "properties": {
          "color": "#990000",
          "fillColor": "#990000",
          "fillOpacity": 0.5,
          "weight": 1
         },
         "type": "Feature"
        },
        {
         "geometry": {
          "coordinates": [
           8.8579,
           56.103
          ],
          "type": "Point"
         },
         "properties": {
          "color": "#990000",
          "fillColor": "#990000",
          "fillOpacity": 0.5,
          "weight": 1
         },
         "type": "Feature"
        },
        {
         "geometry": {
          "coordinates": [
           8.8663,
           56.103
          ],
          "type": "Point"
         },
         "properties": {
          "color": "#990000",
          "fillColor": "#990000",
          "fillOpacity": 0.5,
          "weight": 1
         },
         "type": "Feature"
        },
        {
         "geometry": {
          "coordinates": [
           8.8812,
           56.103
          ],
          "type": "Point"
         },
         "properties": {
          "color": "#990000",
          "fillColor": "#990000",
          "fillOpacity": 0.5,
          "weight": 1
         },
         "type": "Feature"
        },
        {
         "geometry": {
          "coordinates": [
           8.9338,
           56.103
          ],
          "type": "Point"
         },
         "properties": {
          "color": "#990000",
          "fillColor": "#990000",
          "fillOpacity": 0.5,
          "weight": 1
         },
         "type": "Feature"
        },
        {
         "geometry": {
          "coordinates": [
           8.9351,
           56.103
          ],
          "type": "Point"
         },
         "properties": {
          "color": "#990000",
          "fillColor": "#990000",
          "fillOpacity": 0.5,
          "weight": 1
         },
         "type": "Feature"
        },
        {
         "geometry": {
          "coordinates": [
           8.9697,
           56.103
          ],
          "type": "Point"
         },
         "properties": {
          "color": "#990000",
          "fillColor": "#990000",
          "fillOpacity": 0.5,
          "weight": 1
         },
         "type": "Feature"
        },
        {
         "geometry": {
          "coordinates": [
           8.9726,
           56.103
          ],
          "type": "Point"
         },
         "properties": {
          "color": "#990000",
          "fillColor": "#990000",
          "fillOpacity": 0.5,
          "weight": 1
         },
         "type": "Feature"
        },
        {
         "geometry": {
          "coordinates": [
           8.9782,
           56.103
          ],
          "type": "Point"
         },
         "properties": {
          "color": "#990000",
          "fillColor": "#990000",
          "fillOpacity": 0.5,
          "weight": 1
         },
         "type": "Feature"
        },
        {
         "geometry": {
          "coordinates": [
           9.0076,
           56.103
          ],
          "type": "Point"
         },
         "properties": {
          "color": "#990000",
          "fillColor": "#990000",
          "fillOpacity": 0.5,
          "weight": 1
         },
         "type": "Feature"
        },
        {
         "geometry": {
          "coordinates": [
           8.9702,
           56.1031
          ],
          "type": "Point"
         },
         "properties": {
          "color": "#990000",
          "fillColor": "#990000",
          "fillOpacity": 0.5,
          "weight": 1
         },
         "type": "Feature"
        },
        {
         "geometry": {
          "coordinates": [
           8.9704,
           56.1031
          ],
          "type": "Point"
         },
         "properties": {
          "color": "#990000",
          "fillColor": "#990000",
          "fillOpacity": 0.5,
          "weight": 1
         },
         "type": "Feature"
        },
        {
         "geometry": {
          "coordinates": [
           8.9705,
           56.1031
          ],
          "type": "Point"
         },
         "properties": {
          "color": "#990000",
          "fillColor": "#990000",
          "fillOpacity": 0.5,
          "weight": 1
         },
         "type": "Feature"
        },
        {
         "geometry": {
          "coordinates": [
           8.9712,
           56.1031
          ],
          "type": "Point"
         },
         "properties": {
          "color": "#990000",
          "fillColor": "#990000",
          "fillOpacity": 0.5,
          "weight": 1
         },
         "type": "Feature"
        },
        {
         "geometry": {
          "coordinates": [
           8.9722,
           56.1031
          ],
          "type": "Point"
         },
         "properties": {
          "color": "#990000",
          "fillColor": "#990000",
          "fillOpacity": 0.5,
          "weight": 1
         },
         "type": "Feature"
        },
        {
         "geometry": {
          "coordinates": [
           8.9742,
           56.1031
          ],
          "type": "Point"
         },
         "properties": {
          "color": "#990000",
          "fillColor": "#990000",
          "fillOpacity": 0.5,
          "weight": 1
         },
         "type": "Feature"
        },
        {
         "geometry": {
          "coordinates": [
           8.9783,
           56.1031
          ],
          "type": "Point"
         },
         "properties": {
          "color": "#990000",
          "fillColor": "#990000",
          "fillOpacity": 0.5,
          "weight": 1
         },
         "type": "Feature"
        },
        {
         "geometry": {
          "coordinates": [
           8.9655,
           56.1032
          ],
          "type": "Point"
         },
         "properties": {
          "color": "#990000",
          "fillColor": "#990000",
          "fillOpacity": 0.5,
          "weight": 1
         },
         "type": "Feature"
        },
        {
         "geometry": {
          "coordinates": [
           8.9703,
           56.1032
          ],
          "type": "Point"
         },
         "properties": {
          "color": "#990000",
          "fillColor": "#990000",
          "fillOpacity": 0.5,
          "weight": 1
         },
         "type": "Feature"
        },
        {
         "geometry": {
          "coordinates": [
           8.9704,
           56.1032
          ],
          "type": "Point"
         },
         "properties": {
          "color": "#990000",
          "fillColor": "#990000",
          "fillOpacity": 0.5,
          "weight": 1
         },
         "type": "Feature"
        },
        {
         "geometry": {
          "coordinates": [
           8.9705,
           56.1032
          ],
          "type": "Point"
         },
         "properties": {
          "color": "#990000",
          "fillColor": "#990000",
          "fillOpacity": 0.5,
          "weight": 1
         },
         "type": "Feature"
        },
        {
         "geometry": {
          "coordinates": [
           8.9733,
           56.1032
          ],
          "type": "Point"
         },
         "properties": {
          "color": "#990000",
          "fillColor": "#990000",
          "fillOpacity": 0.5,
          "weight": 1
         },
         "type": "Feature"
        },
        {
         "geometry": {
          "coordinates": [
           8.9734,
           56.1032
          ],
          "type": "Point"
         },
         "properties": {
          "color": "#990000",
          "fillColor": "#990000",
          "fillOpacity": 0.5,
          "weight": 1
         },
         "type": "Feature"
        },
        {
         "geometry": {
          "coordinates": [
           8.9735,
           56.1032
          ],
          "type": "Point"
         },
         "properties": {
          "color": "#990000",
          "fillColor": "#990000",
          "fillOpacity": 0.5,
          "weight": 1
         },
         "type": "Feature"
        },
        {
         "geometry": {
          "coordinates": [
           8.9736,
           56.1032
          ],
          "type": "Point"
         },
         "properties": {
          "color": "#990000",
          "fillColor": "#990000",
          "fillOpacity": 0.5,
          "weight": 1
         },
         "type": "Feature"
        },
        {
         "geometry": {
          "coordinates": [
           9.0079,
           56.1032
          ],
          "type": "Point"
         },
         "properties": {
          "color": "#990000",
          "fillColor": "#990000",
          "fillOpacity": 0.5,
          "weight": 1
         },
         "type": "Feature"
        },
        {
         "geometry": {
          "coordinates": [
           8.8645,
           56.1033
          ],
          "type": "Point"
         },
         "properties": {
          "color": "#990000",
          "fillColor": "#990000",
          "fillOpacity": 0.5,
          "weight": 1
         },
         "type": "Feature"
        },
        {
         "geometry": {
          "coordinates": [
           8.9366,
           56.1033
          ],
          "type": "Point"
         },
         "properties": {
          "color": "#990000",
          "fillColor": "#990000",
          "fillOpacity": 0.5,
          "weight": 1
         },
         "type": "Feature"
        },
        {
         "geometry": {
          "coordinates": [
           8.9704,
           56.1033
          ],
          "type": "Point"
         },
         "properties": {
          "color": "#990000",
          "fillColor": "#990000",
          "fillOpacity": 0.5,
          "weight": 1
         },
         "type": "Feature"
        },
        {
         "geometry": {
          "coordinates": [
           8.9723,
           56.1033
          ],
          "type": "Point"
         },
         "properties": {
          "color": "#990000",
          "fillColor": "#990000",
          "fillOpacity": 0.5,
          "weight": 1
         },
         "type": "Feature"
        },
        {
         "geometry": {
          "coordinates": [
           8.9825,
           56.1033
          ],
          "type": "Point"
         },
         "properties": {
          "color": "#990000",
          "fillColor": "#990000",
          "fillOpacity": 0.5,
          "weight": 1
         },
         "type": "Feature"
        },
        {
         "geometry": {
          "coordinates": [
           8.9357,
           56.1034
          ],
          "type": "Point"
         },
         "properties": {
          "color": "#990000",
          "fillColor": "#990000",
          "fillOpacity": 0.5,
          "weight": 1
         },
         "type": "Feature"
        },
        {
         "geometry": {
          "coordinates": [
           8.9784,
           56.1034
          ],
          "type": "Point"
         },
         "properties": {
          "color": "#990000",
          "fillColor": "#990000",
          "fillOpacity": 0.5,
          "weight": 1
         },
         "type": "Feature"
        },
        {
         "geometry": {
          "coordinates": [
           8.9793,
           56.1034
          ],
          "type": "Point"
         },
         "properties": {
          "color": "#990000",
          "fillColor": "#990000",
          "fillOpacity": 0.5,
          "weight": 1
         },
         "type": "Feature"
        },
        {
         "geometry": {
          "coordinates": [
           9.0077,
           56.1034
          ],
          "type": "Point"
         },
         "properties": {
          "color": "#990000",
          "fillColor": "#990000",
          "fillOpacity": 0.5,
          "weight": 1
         },
         "type": "Feature"
        },
        {
         "geometry": {
          "coordinates": [
           9.008,
           56.1034
          ],
          "type": "Point"
         },
         "properties": {
          "color": "#990000",
          "fillColor": "#990000",
          "fillOpacity": 0.5,
          "weight": 1
         },
         "type": "Feature"
        },
        {
         "geometry": {
          "coordinates": [
           9.0193,
           56.1034
          ],
          "type": "Point"
         },
         "properties": {
          "color": "#990000",
          "fillColor": "#990000",
          "fillOpacity": 0.5,
          "weight": 1
         },
         "type": "Feature"
        },
        {
         "geometry": {
          "coordinates": [
           8.8593,
           56.1035
          ],
          "type": "Point"
         },
         "properties": {
          "color": "#990000",
          "fillColor": "#990000",
          "fillOpacity": 0.5,
          "weight": 1
         },
         "type": "Feature"
        },
        {
         "geometry": {
          "coordinates": [
           8.9358,
           56.1035
          ],
          "type": "Point"
         },
         "properties": {
          "color": "#990000",
          "fillColor": "#990000",
          "fillOpacity": 0.5,
          "weight": 1
         },
         "type": "Feature"
        },
        {
         "geometry": {
          "coordinates": [
           8.9706,
           56.1035
          ],
          "type": "Point"
         },
         "properties": {
          "color": "#990000",
          "fillColor": "#990000",
          "fillOpacity": 0.5,
          "weight": 1
         },
         "type": "Feature"
        },
        {
         "geometry": {
          "coordinates": [
           8.9734,
           56.1035
          ],
          "type": "Point"
         },
         "properties": {
          "color": "#990000",
          "fillColor": "#990000",
          "fillOpacity": 0.5,
          "weight": 1
         },
         "type": "Feature"
        },
        {
         "geometry": {
          "coordinates": [
           8.9325,
           56.1036
          ],
          "type": "Point"
         },
         "properties": {
          "color": "#990000",
          "fillColor": "#990000",
          "fillOpacity": 0.5,
          "weight": 1
         },
         "type": "Feature"
        },
        {
         "geometry": {
          "coordinates": [
           8.9414,
           56.1037
          ],
          "type": "Point"
         },
         "properties": {
          "color": "#990000",
          "fillColor": "#990000",
          "fillOpacity": 0.5,
          "weight": 1
         },
         "type": "Feature"
        },
        {
         "geometry": {
          "coordinates": [
           8.9566,
           56.1037
          ],
          "type": "Point"
         },
         "properties": {
          "color": "#990000",
          "fillColor": "#990000",
          "fillOpacity": 0.5,
          "weight": 1
         },
         "type": "Feature"
        },
        {
         "geometry": {
          "coordinates": [
           8.97,
           56.1037
          ],
          "type": "Point"
         },
         "properties": {
          "color": "#990000",
          "fillColor": "#990000",
          "fillOpacity": 0.5,
          "weight": 1
         },
         "type": "Feature"
        },
        {
         "geometry": {
          "coordinates": [
           8.9768,
           56.1037
          ],
          "type": "Point"
         },
         "properties": {
          "color": "#990000",
          "fillColor": "#990000",
          "fillOpacity": 0.5,
          "weight": 1
         },
         "type": "Feature"
        },
        {
         "geometry": {
          "coordinates": [
           9.0079,
           56.1037
          ],
          "type": "Point"
         },
         "properties": {
          "color": "#990000",
          "fillColor": "#990000",
          "fillOpacity": 0.5,
          "weight": 1
         },
         "type": "Feature"
        },
        {
         "geometry": {
          "coordinates": [
           9.0185,
           56.1037
          ],
          "type": "Point"
         },
         "properties": {
          "color": "#990000",
          "fillColor": "#990000",
          "fillOpacity": 0.5,
          "weight": 1
         },
         "type": "Feature"
        },
        {
         "geometry": {
          "coordinates": [
           8.8082,
           56.1038
          ],
          "type": "Point"
         },
         "properties": {
          "color": "#990000",
          "fillColor": "#990000",
          "fillOpacity": 0.5,
          "weight": 1
         },
         "type": "Feature"
        },
        {
         "geometry": {
          "coordinates": [
           8.8589,
           56.1038
          ],
          "type": "Point"
         },
         "properties": {
          "color": "#990000",
          "fillColor": "#990000",
          "fillOpacity": 0.5,
          "weight": 1
         },
         "type": "Feature"
        },
        {
         "geometry": {
          "coordinates": [
           8.9774,
           56.1038
          ],
          "type": "Point"
         },
         "properties": {
          "color": "#990000",
          "fillColor": "#990000",
          "fillOpacity": 0.5,
          "weight": 1
         },
         "type": "Feature"
        },
        {
         "geometry": {
          "coordinates": [
           8.9778,
           56.1038
          ],
          "type": "Point"
         },
         "properties": {
          "color": "#990000",
          "fillColor": "#990000",
          "fillOpacity": 0.5,
          "weight": 1
         },
         "type": "Feature"
        },
        {
         "geometry": {
          "coordinates": [
           8.8581,
           56.1039
          ],
          "type": "Point"
         },
         "properties": {
          "color": "#990000",
          "fillColor": "#990000",
          "fillOpacity": 0.5,
          "weight": 1
         },
         "type": "Feature"
        },
        {
         "geometry": {
          "coordinates": [
           8.8593,
           56.1039
          ],
          "type": "Point"
         },
         "properties": {
          "color": "#990000",
          "fillColor": "#990000",
          "fillOpacity": 0.5,
          "weight": 1
         },
         "type": "Feature"
        },
        {
         "geometry": {
          "coordinates": [
           8.8601,
           56.1039
          ],
          "type": "Point"
         },
         "properties": {
          "color": "#990000",
          "fillColor": "#990000",
          "fillOpacity": 0.5,
          "weight": 1
         },
         "type": "Feature"
        },
        {
         "geometry": {
          "coordinates": [
           8.8854,
           56.1039
          ],
          "type": "Point"
         },
         "properties": {
          "color": "#990000",
          "fillColor": "#990000",
          "fillOpacity": 0.5,
          "weight": 1
         },
         "type": "Feature"
        },
        {
         "geometry": {
          "coordinates": [
           8.9092,
           56.1039
          ],
          "type": "Point"
         },
         "properties": {
          "color": "#990000",
          "fillColor": "#990000",
          "fillOpacity": 0.5,
          "weight": 1
         },
         "type": "Feature"
        },
        {
         "geometry": {
          "coordinates": [
           8.9121,
           56.1039
          ],
          "type": "Point"
         },
         "properties": {
          "color": "#990000",
          "fillColor": "#990000",
          "fillOpacity": 0.5,
          "weight": 1
         },
         "type": "Feature"
        },
        {
         "geometry": {
          "coordinates": [
           8.9677,
           56.1039
          ],
          "type": "Point"
         },
         "properties": {
          "color": "#990000",
          "fillColor": "#990000",
          "fillOpacity": 0.5,
          "weight": 1
         },
         "type": "Feature"
        },
        {
         "geometry": {
          "coordinates": [
           8.9745,
           56.1039
          ],
          "type": "Point"
         },
         "properties": {
          "color": "#990000",
          "fillColor": "#990000",
          "fillOpacity": 0.5,
          "weight": 1
         },
         "type": "Feature"
        },
        {
         "geometry": {
          "coordinates": [
           8.9493,
           56.104
          ],
          "type": "Point"
         },
         "properties": {
          "color": "#990000",
          "fillColor": "#990000",
          "fillOpacity": 0.5,
          "weight": 1
         },
         "type": "Feature"
        },
        {
         "geometry": {
          "coordinates": [
           8.9697,
           56.104
          ],
          "type": "Point"
         },
         "properties": {
          "color": "#990000",
          "fillColor": "#990000",
          "fillOpacity": 0.5,
          "weight": 1
         },
         "type": "Feature"
        },
        {
         "geometry": {
          "coordinates": [
           8.9714,
           56.104
          ],
          "type": "Point"
         },
         "properties": {
          "color": "#990000",
          "fillColor": "#990000",
          "fillOpacity": 0.5,
          "weight": 1
         },
         "type": "Feature"
        },
        {
         "geometry": {
          "coordinates": [
           8.9715,
           56.104
          ],
          "type": "Point"
         },
         "properties": {
          "color": "#990000",
          "fillColor": "#990000",
          "fillOpacity": 0.5,
          "weight": 1
         },
         "type": "Feature"
        },
        {
         "geometry": {
          "coordinates": [
           8.9733,
           56.104
          ],
          "type": "Point"
         },
         "properties": {
          "color": "#990000",
          "fillColor": "#990000",
          "fillOpacity": 0.5,
          "weight": 1
         },
         "type": "Feature"
        },
        {
         "geometry": {
          "coordinates": [
           8.9779,
           56.104
          ],
          "type": "Point"
         },
         "properties": {
          "color": "#990000",
          "fillColor": "#990000",
          "fillOpacity": 0.5,
          "weight": 1
         },
         "type": "Feature"
        },
        {
         "geometry": {
          "coordinates": [
           9.0576,
           56.104
          ],
          "type": "Point"
         },
         "properties": {
          "color": "#990000",
          "fillColor": "#990000",
          "fillOpacity": 0.5,
          "weight": 1
         },
         "type": "Feature"
        },
        {
         "geometry": {
          "coordinates": [
           8.9699,
           56.1041
          ],
          "type": "Point"
         },
         "properties": {
          "color": "#990000",
          "fillColor": "#990000",
          "fillOpacity": 0.5,
          "weight": 1
         },
         "type": "Feature"
        },
        {
         "geometry": {
          "coordinates": [
           8.9707,
           56.1041
          ],
          "type": "Point"
         },
         "properties": {
          "color": "#990000",
          "fillColor": "#990000",
          "fillOpacity": 0.5,
          "weight": 1
         },
         "type": "Feature"
        },
        {
         "geometry": {
          "coordinates": [
           8.9708,
           56.1041
          ],
          "type": "Point"
         },
         "properties": {
          "color": "#990000",
          "fillColor": "#990000",
          "fillOpacity": 0.5,
          "weight": 1
         },
         "type": "Feature"
        },
        {
         "geometry": {
          "coordinates": [
           8.9715,
           56.1041
          ],
          "type": "Point"
         },
         "properties": {
          "color": "#990000",
          "fillColor": "#990000",
          "fillOpacity": 0.5,
          "weight": 1
         },
         "type": "Feature"
        },
        {
         "geometry": {
          "coordinates": [
           8.9748,
           56.1041
          ],
          "type": "Point"
         },
         "properties": {
          "color": "#990000",
          "fillColor": "#990000",
          "fillOpacity": 0.5,
          "weight": 1
         },
         "type": "Feature"
        },
        {
         "geometry": {
          "coordinates": [
           8.9778,
           56.1041
          ],
          "type": "Point"
         },
         "properties": {
          "color": "#990000",
          "fillColor": "#990000",
          "fillOpacity": 0.5,
          "weight": 1
         },
         "type": "Feature"
        },
        {
         "geometry": {
          "coordinates": [
           8.9779,
           56.1041
          ],
          "type": "Point"
         },
         "properties": {
          "color": "#990000",
          "fillColor": "#990000",
          "fillOpacity": 0.5,
          "weight": 1
         },
         "type": "Feature"
        },
        {
         "geometry": {
          "coordinates": [
           8.9793,
           56.1041
          ],
          "type": "Point"
         },
         "properties": {
          "color": "#990000",
          "fillColor": "#990000",
          "fillOpacity": 0.5,
          "weight": 1
         },
         "type": "Feature"
        },
        {
         "geometry": {
          "coordinates": [
           8.9364,
           56.1042
          ],
          "type": "Point"
         },
         "properties": {
          "color": "#990000",
          "fillColor": "#990000",
          "fillOpacity": 0.5,
          "weight": 1
         },
         "type": "Feature"
        },
        {
         "geometry": {
          "coordinates": [
           8.97,
           56.1042
          ],
          "type": "Point"
         },
         "properties": {
          "color": "#990000",
          "fillColor": "#990000",
          "fillOpacity": 0.5,
          "weight": 1
         },
         "type": "Feature"
        },
        {
         "geometry": {
          "coordinates": [
           8.9779,
           56.1042
          ],
          "type": "Point"
         },
         "properties": {
          "color": "#990000",
          "fillColor": "#990000",
          "fillOpacity": 0.5,
          "weight": 1
         },
         "type": "Feature"
        },
        {
         "geometry": {
          "coordinates": [
           8.9791,
           56.1042
          ],
          "type": "Point"
         },
         "properties": {
          "color": "#990000",
          "fillColor": "#990000",
          "fillOpacity": 0.5,
          "weight": 1
         },
         "type": "Feature"
        },
        {
         "geometry": {
          "coordinates": [
           8.9796,
           56.1042
          ],
          "type": "Point"
         },
         "properties": {
          "color": "#990000",
          "fillColor": "#990000",
          "fillOpacity": 0.5,
          "weight": 1
         },
         "type": "Feature"
        },
        {
         "geometry": {
          "coordinates": [
           8.9804,
           56.1042
          ],
          "type": "Point"
         },
         "properties": {
          "color": "#990000",
          "fillColor": "#990000",
          "fillOpacity": 0.5,
          "weight": 1
         },
         "type": "Feature"
        },
        {
         "geometry": {
          "coordinates": [
           8.9807,
           56.1042
          ],
          "type": "Point"
         },
         "properties": {
          "color": "#990000",
          "fillColor": "#990000",
          "fillOpacity": 0.5,
          "weight": 1
         },
         "type": "Feature"
        },
        {
         "geometry": {
          "coordinates": [
           8.9967,
           56.1042
          ],
          "type": "Point"
         },
         "properties": {
          "color": "#990000",
          "fillColor": "#990000",
          "fillOpacity": 0.5,
          "weight": 1
         },
         "type": "Feature"
        },
        {
         "geometry": {
          "coordinates": [
           8.9437,
           56.1043
          ],
          "type": "Point"
         },
         "properties": {
          "color": "#990000",
          "fillColor": "#990000",
          "fillOpacity": 0.5,
          "weight": 1
         },
         "type": "Feature"
        },
        {
         "geometry": {
          "coordinates": [
           8.9544,
           56.1043
          ],
          "type": "Point"
         },
         "properties": {
          "color": "#990000",
          "fillColor": "#990000",
          "fillOpacity": 0.5,
          "weight": 1
         },
         "type": "Feature"
        },
        {
         "geometry": {
          "coordinates": [
           8.9752,
           56.1043
          ],
          "type": "Point"
         },
         "properties": {
          "color": "#990000",
          "fillColor": "#990000",
          "fillOpacity": 0.5,
          "weight": 1
         },
         "type": "Feature"
        },
        {
         "geometry": {
          "coordinates": [
           8.9767,
           56.1043
          ],
          "type": "Point"
         },
         "properties": {
          "color": "#990000",
          "fillColor": "#990000",
          "fillOpacity": 0.5,
          "weight": 1
         },
         "type": "Feature"
        },
        {
         "geometry": {
          "coordinates": [
           8.9779,
           56.1043
          ],
          "type": "Point"
         },
         "properties": {
          "color": "#990000",
          "fillColor": "#990000",
          "fillOpacity": 0.5,
          "weight": 1
         },
         "type": "Feature"
        },
        {
         "geometry": {
          "coordinates": [
           8.9794,
           56.1043
          ],
          "type": "Point"
         },
         "properties": {
          "color": "#990000",
          "fillColor": "#990000",
          "fillOpacity": 0.5,
          "weight": 1
         },
         "type": "Feature"
        },
        {
         "geometry": {
          "coordinates": [
           8.9795,
           56.1043
          ],
          "type": "Point"
         },
         "properties": {
          "color": "#990000",
          "fillColor": "#990000",
          "fillOpacity": 0.5,
          "weight": 1
         },
         "type": "Feature"
        },
        {
         "geometry": {
          "coordinates": [
           8.9804,
           56.1043
          ],
          "type": "Point"
         },
         "properties": {
          "color": "#990000",
          "fillColor": "#990000",
          "fillOpacity": 0.5,
          "weight": 1
         },
         "type": "Feature"
        },
        {
         "geometry": {
          "coordinates": [
           8.9805,
           56.1043
          ],
          "type": "Point"
         },
         "properties": {
          "color": "#990000",
          "fillColor": "#990000",
          "fillOpacity": 0.5,
          "weight": 1
         },
         "type": "Feature"
        },
        {
         "geometry": {
          "coordinates": [
           8.9806,
           56.1043
          ],
          "type": "Point"
         },
         "properties": {
          "color": "#990000",
          "fillColor": "#990000",
          "fillOpacity": 0.5,
          "weight": 1
         },
         "type": "Feature"
        },
        {
         "geometry": {
          "coordinates": [
           8.9807,
           56.1043
          ],
          "type": "Point"
         },
         "properties": {
          "color": "#990000",
          "fillColor": "#990000",
          "fillOpacity": 0.5,
          "weight": 1
         },
         "type": "Feature"
        },
        {
         "geometry": {
          "coordinates": [
           8.7266,
           56.1044
          ],
          "type": "Point"
         },
         "properties": {
          "color": "#990000",
          "fillColor": "#990000",
          "fillOpacity": 0.5,
          "weight": 1
         },
         "type": "Feature"
        },
        {
         "geometry": {
          "coordinates": [
           8.8585,
           56.1044
          ],
          "type": "Point"
         },
         "properties": {
          "color": "#990000",
          "fillColor": "#990000",
          "fillOpacity": 0.5,
          "weight": 1
         },
         "type": "Feature"
        },
        {
         "geometry": {
          "coordinates": [
           8.8817,
           56.1044
          ],
          "type": "Point"
         },
         "properties": {
          "color": "#990000",
          "fillColor": "#990000",
          "fillOpacity": 0.5,
          "weight": 1
         },
         "type": "Feature"
        }
       ],
       "type": "FeatureCollection"
      }
     },
     "metadata": {},
     "output_type": "display_data"
    }
   ],
   "source": [
    "geojson(data)"
   ]
  },
  {
   "cell_type": "code",
   "execution_count": 9,
   "metadata": {
    "collapsed": false,
    "deletable": true,
    "editable": true
   },
   "outputs": [
    {
     "name": "stdout",
     "output_type": "stream",
     "text": [
      "31390\n"
     ]
    }
   ],
   "source": [
    "center = [56.089312,9.992626]\n",
    "zoom = 10\n",
    "print (len(js_dat['results']))"
   ]
  },
  {
   "cell_type": "code",
   "execution_count": 62,
   "metadata": {
    "collapsed": false,
    "deletable": true,
    "editable": true
   },
   "outputs": [],
   "source": [
    "\n",
    "m = Map(center=center, zoom=zoom)\n",
    "\n"
   ]
  },
  {
   "cell_type": "code",
   "execution_count": 43,
   "metadata": {
    "collapsed": false,
    "deletable": true,
    "editable": true
   },
   "outputs": [],
   "source": [
    "g = GeoJSON(data=data)\n",
    "m.add_layer(g)\n"
   ]
  },
  {
   "cell_type": "code",
   "execution_count": 17,
   "metadata": {
    "collapsed": true,
    "deletable": true,
    "editable": true
   },
   "outputs": [],
   "source": [
    "import ipyleaflet as leaf"
   ]
  },
  {
   "cell_type": "code",
   "execution_count": 18,
   "metadata": {
    "collapsed": true,
    "deletable": true,
    "editable": true
   },
   "outputs": [],
   "source": [
    "leaf.CircleMarker()"
   ]
  },
  {
   "cell_type": "code",
   "execution_count": 35,
   "metadata": {
    "collapsed": false,
    "deletable": true,
    "editable": true
   },
   "outputs": [
    {
     "data": {
      "text/plain": [
       "{'features': [{'geometry': {'coordinates': [-8.6606, 50.4365],\n",
       "    'type': 'Point'},\n",
       "   'properties': {'color': '#990000',\n",
       "    'fillColor': '#990000',\n",
       "    'fillOpacity': 0.5,\n",
       "    'weight': 1},\n",
       "   'type': 'Feature'},\n",
       "  {'geometry': {'coordinates': [-0.2297, 51.4926], 'type': 'Point'},\n",
       "   'properties': {'color': '#990000',\n",
       "    'fillColor': '#990000',\n",
       "    'fillOpacity': 0.5,\n",
       "    'weight': 1},\n",
       "   'type': 'Feature'},\n",
       "  {'geometry': {'coordinates': [9.553, 54.528], 'type': 'Point'},\n",
       "   'properties': {'color': '#990000',\n",
       "    'fillColor': '#990000',\n",
       "    'fillOpacity': 0.5,\n",
       "    'weight': 1},\n",
       "   'type': 'Feature'},\n",
       "  {'geometry': {'coordinates': [9.3482, 55.7379], 'type': 'Point'},\n",
       "   'properties': {'color': '#990000',\n",
       "    'fillColor': '#990000',\n",
       "    'fillOpacity': 0.5,\n",
       "    'weight': 1},\n",
       "   'type': 'Feature'},\n",
       "  {'geometry': {'coordinates': [9.1494, 55.7694], 'type': 'Point'},\n",
       "   'properties': {'color': '#990000',\n",
       "    'fillColor': '#990000',\n",
       "    'fillOpacity': 0.5,\n",
       "    'weight': 1},\n",
       "   'type': 'Feature'},\n",
       "  {'geometry': {'coordinates': [9.5672, 55.7701], 'type': 'Point'},\n",
       "   'properties': {'color': '#990000',\n",
       "    'fillColor': '#990000',\n",
       "    'fillOpacity': 0.5,\n",
       "    'weight': 1},\n",
       "   'type': 'Feature'},\n",
       "  {'geometry': {'coordinates': [9.1589, 55.7745], 'type': 'Point'},\n",
       "   'properties': {'color': '#990000',\n",
       "    'fillColor': '#990000',\n",
       "    'fillOpacity': 0.5,\n",
       "    'weight': 1},\n",
       "   'type': 'Feature'},\n",
       "  {'geometry': {'coordinates': [9.2488, 55.8253], 'type': 'Point'},\n",
       "   'properties': {'color': '#990000',\n",
       "    'fillColor': '#990000',\n",
       "    'fillOpacity': 0.5,\n",
       "    'weight': 1},\n",
       "   'type': 'Feature'},\n",
       "  {'geometry': {'coordinates': [9.2536, 55.8266], 'type': 'Point'},\n",
       "   'properties': {'color': '#990000',\n",
       "    'fillColor': '#990000',\n",
       "    'fillOpacity': 0.5,\n",
       "    'weight': 1},\n",
       "   'type': 'Feature'},\n",
       "  {'geometry': {'coordinates': [9.5165, 55.8309], 'type': 'Point'},\n",
       "   'properties': {'color': '#990000',\n",
       "    'fillColor': '#990000',\n",
       "    'fillOpacity': 0.5,\n",
       "    'weight': 1},\n",
       "   'type': 'Feature'},\n",
       "  {'geometry': {'coordinates': [9.4887, 55.8322], 'type': 'Point'},\n",
       "   'properties': {'color': '#990000',\n",
       "    'fillColor': '#990000',\n",
       "    'fillOpacity': 0.5,\n",
       "    'weight': 1},\n",
       "   'type': 'Feature'},\n",
       "  {'geometry': {'coordinates': [9.3109, 55.8331], 'type': 'Point'},\n",
       "   'properties': {'color': '#990000',\n",
       "    'fillColor': '#990000',\n",
       "    'fillOpacity': 0.5,\n",
       "    'weight': 1},\n",
       "   'type': 'Feature'},\n",
       "  {'geometry': {'coordinates': [8.7558, 55.8561], 'type': 'Point'},\n",
       "   'properties': {'color': '#990000',\n",
       "    'fillColor': '#990000',\n",
       "    'fillOpacity': 0.5,\n",
       "    'weight': 1},\n",
       "   'type': 'Feature'},\n",
       "  {'geometry': {'coordinates': [9.2603, 55.858], 'type': 'Point'},\n",
       "   'properties': {'color': '#990000',\n",
       "    'fillColor': '#990000',\n",
       "    'fillOpacity': 0.5,\n",
       "    'weight': 1},\n",
       "   'type': 'Feature'},\n",
       "  {'geometry': {'coordinates': [8.7669, 55.863], 'type': 'Point'},\n",
       "   'properties': {'color': '#990000',\n",
       "    'fillColor': '#990000',\n",
       "    'fillOpacity': 0.5,\n",
       "    'weight': 1},\n",
       "   'type': 'Feature'},\n",
       "  {'geometry': {'coordinates': [9.2415, 55.8715], 'type': 'Point'},\n",
       "   'properties': {'color': '#990000',\n",
       "    'fillColor': '#990000',\n",
       "    'fillOpacity': 0.5,\n",
       "    'weight': 1},\n",
       "   'type': 'Feature'},\n",
       "  {'geometry': {'coordinates': [8.7869, 55.8797], 'type': 'Point'},\n",
       "   'properties': {'color': '#990000',\n",
       "    'fillColor': '#990000',\n",
       "    'fillOpacity': 0.5,\n",
       "    'weight': 1},\n",
       "   'type': 'Feature'},\n",
       "  {'geometry': {'coordinates': [9.2178, 55.8911], 'type': 'Point'},\n",
       "   'properties': {'color': '#990000',\n",
       "    'fillColor': '#990000',\n",
       "    'fillOpacity': 0.5,\n",
       "    'weight': 1},\n",
       "   'type': 'Feature'},\n",
       "  {'geometry': {'coordinates': [9.217, 55.8934], 'type': 'Point'},\n",
       "   'properties': {'color': '#990000',\n",
       "    'fillColor': '#990000',\n",
       "    'fillOpacity': 0.5,\n",
       "    'weight': 1},\n",
       "   'type': 'Feature'},\n",
       "  {'geometry': {'coordinates': [9.167, 55.9232], 'type': 'Point'},\n",
       "   'properties': {'color': '#990000',\n",
       "    'fillColor': '#990000',\n",
       "    'fillOpacity': 0.5,\n",
       "    'weight': 1},\n",
       "   'type': 'Feature'},\n",
       "  {'geometry': {'coordinates': [8.7946, 55.9249], 'type': 'Point'},\n",
       "   'properties': {'color': '#990000',\n",
       "    'fillColor': '#990000',\n",
       "    'fillOpacity': 0.5,\n",
       "    'weight': 1},\n",
       "   'type': 'Feature'},\n",
       "  {'geometry': {'coordinates': [9.1636, 55.9291], 'type': 'Point'},\n",
       "   'properties': {'color': '#990000',\n",
       "    'fillColor': '#990000',\n",
       "    'fillOpacity': 0.5,\n",
       "    'weight': 1},\n",
       "   'type': 'Feature'},\n",
       "  {'geometry': {'coordinates': [9.1633, 55.9296], 'type': 'Point'},\n",
       "   'properties': {'color': '#990000',\n",
       "    'fillColor': '#990000',\n",
       "    'fillOpacity': 0.5,\n",
       "    'weight': 1},\n",
       "   'type': 'Feature'},\n",
       "  {'geometry': {'coordinates': [8.788, 55.9297], 'type': 'Point'},\n",
       "   'properties': {'color': '#990000',\n",
       "    'fillColor': '#990000',\n",
       "    'fillOpacity': 0.5,\n",
       "    'weight': 1},\n",
       "   'type': 'Feature'},\n",
       "  {'geometry': {'coordinates': [8.8049, 55.9314], 'type': 'Point'},\n",
       "   'properties': {'color': '#990000',\n",
       "    'fillColor': '#990000',\n",
       "    'fillOpacity': 0.5,\n",
       "    'weight': 1},\n",
       "   'type': 'Feature'},\n",
       "  {'geometry': {'coordinates': [8.8019, 55.9322], 'type': 'Point'},\n",
       "   'properties': {'color': '#990000',\n",
       "    'fillColor': '#990000',\n",
       "    'fillOpacity': 0.5,\n",
       "    'weight': 1},\n",
       "   'type': 'Feature'},\n",
       "  {'geometry': {'coordinates': [9.162, 55.9352], 'type': 'Point'},\n",
       "   'properties': {'color': '#990000',\n",
       "    'fillColor': '#990000',\n",
       "    'fillOpacity': 0.5,\n",
       "    'weight': 1},\n",
       "   'type': 'Feature'},\n",
       "  {'geometry': {'coordinates': [9.1603, 55.9381], 'type': 'Point'},\n",
       "   'properties': {'color': '#990000',\n",
       "    'fillColor': '#990000',\n",
       "    'fillOpacity': 0.5,\n",
       "    'weight': 1},\n",
       "   'type': 'Feature'},\n",
       "  {'geometry': {'coordinates': [8.7898, 55.9385], 'type': 'Point'},\n",
       "   'properties': {'color': '#990000',\n",
       "    'fillColor': '#990000',\n",
       "    'fillOpacity': 0.5,\n",
       "    'weight': 1},\n",
       "   'type': 'Feature'},\n",
       "  {'geometry': {'coordinates': [9.1187, 55.9393], 'type': 'Point'},\n",
       "   'properties': {'color': '#990000',\n",
       "    'fillColor': '#990000',\n",
       "    'fillOpacity': 0.5,\n",
       "    'weight': 1},\n",
       "   'type': 'Feature'},\n",
       "  {'geometry': {'coordinates': [9.1604, 55.9393], 'type': 'Point'},\n",
       "   'properties': {'color': '#990000',\n",
       "    'fillColor': '#990000',\n",
       "    'fillOpacity': 0.5,\n",
       "    'weight': 1},\n",
       "   'type': 'Feature'},\n",
       "  {'geometry': {'coordinates': [9.1187, 55.9394], 'type': 'Point'},\n",
       "   'properties': {'color': '#990000',\n",
       "    'fillColor': '#990000',\n",
       "    'fillOpacity': 0.5,\n",
       "    'weight': 1},\n",
       "   'type': 'Feature'},\n",
       "  {'geometry': {'coordinates': [8.7808, 55.9414], 'type': 'Point'},\n",
       "   'properties': {'color': '#990000',\n",
       "    'fillColor': '#990000',\n",
       "    'fillOpacity': 0.5,\n",
       "    'weight': 1},\n",
       "   'type': 'Feature'},\n",
       "  {'geometry': {'coordinates': [9.1365, 55.9422], 'type': 'Point'},\n",
       "   'properties': {'color': '#990000',\n",
       "    'fillColor': '#990000',\n",
       "    'fillOpacity': 0.5,\n",
       "    'weight': 1},\n",
       "   'type': 'Feature'},\n",
       "  {'geometry': {'coordinates': [9.1384, 55.9429], 'type': 'Point'},\n",
       "   'properties': {'color': '#990000',\n",
       "    'fillColor': '#990000',\n",
       "    'fillOpacity': 0.5,\n",
       "    'weight': 1},\n",
       "   'type': 'Feature'},\n",
       "  {'geometry': {'coordinates': [9.1257, 55.9433], 'type': 'Point'},\n",
       "   'properties': {'color': '#990000',\n",
       "    'fillColor': '#990000',\n",
       "    'fillOpacity': 0.5,\n",
       "    'weight': 1},\n",
       "   'type': 'Feature'},\n",
       "  {'geometry': {'coordinates': [9.125, 55.9448], 'type': 'Point'},\n",
       "   'properties': {'color': '#990000',\n",
       "    'fillColor': '#990000',\n",
       "    'fillOpacity': 0.5,\n",
       "    'weight': 1},\n",
       "   'type': 'Feature'},\n",
       "  {'geometry': {'coordinates': [9.1609, 55.946], 'type': 'Point'},\n",
       "   'properties': {'color': '#990000',\n",
       "    'fillColor': '#990000',\n",
       "    'fillOpacity': 0.5,\n",
       "    'weight': 1},\n",
       "   'type': 'Feature'},\n",
       "  {'geometry': {'coordinates': [9.1445, 55.9466], 'type': 'Point'},\n",
       "   'properties': {'color': '#990000',\n",
       "    'fillColor': '#990000',\n",
       "    'fillOpacity': 0.5,\n",
       "    'weight': 1},\n",
       "   'type': 'Feature'},\n",
       "  {'geometry': {'coordinates': [9.1552, 55.9472], 'type': 'Point'},\n",
       "   'properties': {'color': '#990000',\n",
       "    'fillColor': '#990000',\n",
       "    'fillOpacity': 0.5,\n",
       "    'weight': 1},\n",
       "   'type': 'Feature'},\n",
       "  {'geometry': {'coordinates': [8.8, 55.9473], 'type': 'Point'},\n",
       "   'properties': {'color': '#990000',\n",
       "    'fillColor': '#990000',\n",
       "    'fillOpacity': 0.5,\n",
       "    'weight': 1},\n",
       "   'type': 'Feature'},\n",
       "  {'geometry': {'coordinates': [9.1496, 55.9478], 'type': 'Point'},\n",
       "   'properties': {'color': '#990000',\n",
       "    'fillColor': '#990000',\n",
       "    'fillOpacity': 0.5,\n",
       "    'weight': 1},\n",
       "   'type': 'Feature'},\n",
       "  {'geometry': {'coordinates': [9.1532, 55.9484], 'type': 'Point'},\n",
       "   'properties': {'color': '#990000',\n",
       "    'fillColor': '#990000',\n",
       "    'fillOpacity': 0.5,\n",
       "    'weight': 1},\n",
       "   'type': 'Feature'},\n",
       "  {'geometry': {'coordinates': [8.809, 55.949], 'type': 'Point'},\n",
       "   'properties': {'color': '#990000',\n",
       "    'fillColor': '#990000',\n",
       "    'fillOpacity': 0.5,\n",
       "    'weight': 1},\n",
       "   'type': 'Feature'},\n",
       "  {'geometry': {'coordinates': [9.1404, 55.9508], 'type': 'Point'},\n",
       "   'properties': {'color': '#990000',\n",
       "    'fillColor': '#990000',\n",
       "    'fillOpacity': 0.5,\n",
       "    'weight': 1},\n",
       "   'type': 'Feature'},\n",
       "  {'geometry': {'coordinates': [8.7975, 55.951], 'type': 'Point'},\n",
       "   'properties': {'color': '#990000',\n",
       "    'fillColor': '#990000',\n",
       "    'fillOpacity': 0.5,\n",
       "    'weight': 1},\n",
       "   'type': 'Feature'},\n",
       "  {'geometry': {'coordinates': [9.1468, 55.9526], 'type': 'Point'},\n",
       "   'properties': {'color': '#990000',\n",
       "    'fillColor': '#990000',\n",
       "    'fillOpacity': 0.5,\n",
       "    'weight': 1},\n",
       "   'type': 'Feature'},\n",
       "  {'geometry': {'coordinates': [8.799, 55.9527], 'type': 'Point'},\n",
       "   'properties': {'color': '#990000',\n",
       "    'fillColor': '#990000',\n",
       "    'fillOpacity': 0.5,\n",
       "    'weight': 1},\n",
       "   'type': 'Feature'},\n",
       "  {'geometry': {'coordinates': [9.0795, 55.9529], 'type': 'Point'},\n",
       "   'properties': {'color': '#990000',\n",
       "    'fillColor': '#990000',\n",
       "    'fillOpacity': 0.5,\n",
       "    'weight': 1},\n",
       "   'type': 'Feature'},\n",
       "  {'geometry': {'coordinates': [9.1011, 55.953], 'type': 'Point'},\n",
       "   'properties': {'color': '#990000',\n",
       "    'fillColor': '#990000',\n",
       "    'fillOpacity': 0.5,\n",
       "    'weight': 1},\n",
       "   'type': 'Feature'},\n",
       "  {'geometry': {'coordinates': [9.114, 55.9532], 'type': 'Point'},\n",
       "   'properties': {'color': '#990000',\n",
       "    'fillColor': '#990000',\n",
       "    'fillOpacity': 0.5,\n",
       "    'weight': 1},\n",
       "   'type': 'Feature'},\n",
       "  {'geometry': {'coordinates': [9.1015, 55.9555], 'type': 'Point'},\n",
       "   'properties': {'color': '#990000',\n",
       "    'fillColor': '#990000',\n",
       "    'fillOpacity': 0.5,\n",
       "    'weight': 1},\n",
       "   'type': 'Feature'},\n",
       "  {'geometry': {'coordinates': [9.1231, 55.9558], 'type': 'Point'},\n",
       "   'properties': {'color': '#990000',\n",
       "    'fillColor': '#990000',\n",
       "    'fillOpacity': 0.5,\n",
       "    'weight': 1},\n",
       "   'type': 'Feature'},\n",
       "  {'geometry': {'coordinates': [9.1377, 55.956], 'type': 'Point'},\n",
       "   'properties': {'color': '#990000',\n",
       "    'fillColor': '#990000',\n",
       "    'fillOpacity': 0.5,\n",
       "    'weight': 1},\n",
       "   'type': 'Feature'},\n",
       "  {'geometry': {'coordinates': [9.1221, 55.9562], 'type': 'Point'},\n",
       "   'properties': {'color': '#990000',\n",
       "    'fillColor': '#990000',\n",
       "    'fillOpacity': 0.5,\n",
       "    'weight': 1},\n",
       "   'type': 'Feature'},\n",
       "  {'geometry': {'coordinates': [9.1174, 55.9564], 'type': 'Point'},\n",
       "   'properties': {'color': '#990000',\n",
       "    'fillColor': '#990000',\n",
       "    'fillOpacity': 0.5,\n",
       "    'weight': 1},\n",
       "   'type': 'Feature'},\n",
       "  {'geometry': {'coordinates': [9.1205, 55.9564], 'type': 'Point'},\n",
       "   'properties': {'color': '#990000',\n",
       "    'fillColor': '#990000',\n",
       "    'fillOpacity': 0.5,\n",
       "    'weight': 1},\n",
       "   'type': 'Feature'},\n",
       "  {'geometry': {'coordinates': [9.1341, 55.9569], 'type': 'Point'},\n",
       "   'properties': {'color': '#990000',\n",
       "    'fillColor': '#990000',\n",
       "    'fillOpacity': 0.5,\n",
       "    'weight': 1},\n",
       "   'type': 'Feature'},\n",
       "  {'geometry': {'coordinates': [9.1065, 55.9584], 'type': 'Point'},\n",
       "   'properties': {'color': '#990000',\n",
       "    'fillColor': '#990000',\n",
       "    'fillOpacity': 0.5,\n",
       "    'weight': 1},\n",
       "   'type': 'Feature'},\n",
       "  {'geometry': {'coordinates': [9.1244, 55.9585], 'type': 'Point'},\n",
       "   'properties': {'color': '#990000',\n",
       "    'fillColor': '#990000',\n",
       "    'fillOpacity': 0.5,\n",
       "    'weight': 1},\n",
       "   'type': 'Feature'},\n",
       "  {'geometry': {'coordinates': [9.1197, 55.9589], 'type': 'Point'},\n",
       "   'properties': {'color': '#990000',\n",
       "    'fillColor': '#990000',\n",
       "    'fillOpacity': 0.5,\n",
       "    'weight': 1},\n",
       "   'type': 'Feature'},\n",
       "  {'geometry': {'coordinates': [9.121, 55.9589], 'type': 'Point'},\n",
       "   'properties': {'color': '#990000',\n",
       "    'fillColor': '#990000',\n",
       "    'fillOpacity': 0.5,\n",
       "    'weight': 1},\n",
       "   'type': 'Feature'},\n",
       "  {'geometry': {'coordinates': [9.1135, 55.96], 'type': 'Point'},\n",
       "   'properties': {'color': '#990000',\n",
       "    'fillColor': '#990000',\n",
       "    'fillOpacity': 0.5,\n",
       "    'weight': 1},\n",
       "   'type': 'Feature'},\n",
       "  {'geometry': {'coordinates': [9.1049, 55.9612], 'type': 'Point'},\n",
       "   'properties': {'color': '#990000',\n",
       "    'fillColor': '#990000',\n",
       "    'fillOpacity': 0.5,\n",
       "    'weight': 1},\n",
       "   'type': 'Feature'},\n",
       "  {'geometry': {'coordinates': [9.1088, 55.9615], 'type': 'Point'},\n",
       "   'properties': {'color': '#990000',\n",
       "    'fillColor': '#990000',\n",
       "    'fillOpacity': 0.5,\n",
       "    'weight': 1},\n",
       "   'type': 'Feature'},\n",
       "  {'geometry': {'coordinates': [9.104, 55.9616], 'type': 'Point'},\n",
       "   'properties': {'color': '#990000',\n",
       "    'fillColor': '#990000',\n",
       "    'fillOpacity': 0.5,\n",
       "    'weight': 1},\n",
       "   'type': 'Feature'},\n",
       "  {'geometry': {'coordinates': [9.1073, 55.962], 'type': 'Point'},\n",
       "   'properties': {'color': '#990000',\n",
       "    'fillColor': '#990000',\n",
       "    'fillOpacity': 0.5,\n",
       "    'weight': 1},\n",
       "   'type': 'Feature'},\n",
       "  {'geometry': {'coordinates': [9.1044, 55.9632], 'type': 'Point'},\n",
       "   'properties': {'color': '#990000',\n",
       "    'fillColor': '#990000',\n",
       "    'fillOpacity': 0.5,\n",
       "    'weight': 1},\n",
       "   'type': 'Feature'},\n",
       "  {'geometry': {'coordinates': [9.1028, 55.9641], 'type': 'Point'},\n",
       "   'properties': {'color': '#990000',\n",
       "    'fillColor': '#990000',\n",
       "    'fillOpacity': 0.5,\n",
       "    'weight': 1},\n",
       "   'type': 'Feature'},\n",
       "  {'geometry': {'coordinates': [9.1025, 55.9643], 'type': 'Point'},\n",
       "   'properties': {'color': '#990000',\n",
       "    'fillColor': '#990000',\n",
       "    'fillOpacity': 0.5,\n",
       "    'weight': 1},\n",
       "   'type': 'Feature'},\n",
       "  {'geometry': {'coordinates': [9.1025, 55.9644], 'type': 'Point'},\n",
       "   'properties': {'color': '#990000',\n",
       "    'fillColor': '#990000',\n",
       "    'fillOpacity': 0.5,\n",
       "    'weight': 1},\n",
       "   'type': 'Feature'},\n",
       "  {'geometry': {'coordinates': [9.103, 55.9645], 'type': 'Point'},\n",
       "   'properties': {'color': '#990000',\n",
       "    'fillColor': '#990000',\n",
       "    'fillOpacity': 0.5,\n",
       "    'weight': 1},\n",
       "   'type': 'Feature'},\n",
       "  {'geometry': {'coordinates': [9.1061, 55.9647], 'type': 'Point'},\n",
       "   'properties': {'color': '#990000',\n",
       "    'fillColor': '#990000',\n",
       "    'fillOpacity': 0.5,\n",
       "    'weight': 1},\n",
       "   'type': 'Feature'},\n",
       "  {'geometry': {'coordinates': [8.8114, 55.965], 'type': 'Point'},\n",
       "   'properties': {'color': '#990000',\n",
       "    'fillColor': '#990000',\n",
       "    'fillOpacity': 0.5,\n",
       "    'weight': 1},\n",
       "   'type': 'Feature'},\n",
       "  {'geometry': {'coordinates': [9.0987, 55.9652], 'type': 'Point'},\n",
       "   'properties': {'color': '#990000',\n",
       "    'fillColor': '#990000',\n",
       "    'fillOpacity': 0.5,\n",
       "    'weight': 1},\n",
       "   'type': 'Feature'},\n",
       "  {'geometry': {'coordinates': [9.0986, 55.9663], 'type': 'Point'},\n",
       "   'properties': {'color': '#990000',\n",
       "    'fillColor': '#990000',\n",
       "    'fillOpacity': 0.5,\n",
       "    'weight': 1},\n",
       "   'type': 'Feature'},\n",
       "  {'geometry': {'coordinates': [9.0981, 55.9668], 'type': 'Point'},\n",
       "   'properties': {'color': '#990000',\n",
       "    'fillColor': '#990000',\n",
       "    'fillOpacity': 0.5,\n",
       "    'weight': 1},\n",
       "   'type': 'Feature'},\n",
       "  {'geometry': {'coordinates': [9.0973, 55.9671], 'type': 'Point'},\n",
       "   'properties': {'color': '#990000',\n",
       "    'fillColor': '#990000',\n",
       "    'fillOpacity': 0.5,\n",
       "    'weight': 1},\n",
       "   'type': 'Feature'},\n",
       "  {'geometry': {'coordinates': [9.0971, 55.9673], 'type': 'Point'},\n",
       "   'properties': {'color': '#990000',\n",
       "    'fillColor': '#990000',\n",
       "    'fillOpacity': 0.5,\n",
       "    'weight': 1},\n",
       "   'type': 'Feature'},\n",
       "  {'geometry': {'coordinates': [9.0944, 55.9679], 'type': 'Point'},\n",
       "   'properties': {'color': '#990000',\n",
       "    'fillColor': '#990000',\n",
       "    'fillOpacity': 0.5,\n",
       "    'weight': 1},\n",
       "   'type': 'Feature'},\n",
       "  {'geometry': {'coordinates': [9.0948, 55.9679], 'type': 'Point'},\n",
       "   'properties': {'color': '#990000',\n",
       "    'fillColor': '#990000',\n",
       "    'fillOpacity': 0.5,\n",
       "    'weight': 1},\n",
       "   'type': 'Feature'},\n",
       "  {'geometry': {'coordinates': [9.096, 55.9679], 'type': 'Point'},\n",
       "   'properties': {'color': '#990000',\n",
       "    'fillColor': '#990000',\n",
       "    'fillOpacity': 0.5,\n",
       "    'weight': 1},\n",
       "   'type': 'Feature'},\n",
       "  {'geometry': {'coordinates': [9.0944, 55.9686], 'type': 'Point'},\n",
       "   'properties': {'color': '#990000',\n",
       "    'fillColor': '#990000',\n",
       "    'fillOpacity': 0.5,\n",
       "    'weight': 1},\n",
       "   'type': 'Feature'},\n",
       "  {'geometry': {'coordinates': [9.0932, 55.9695], 'type': 'Point'},\n",
       "   'properties': {'color': '#990000',\n",
       "    'fillColor': '#990000',\n",
       "    'fillOpacity': 0.5,\n",
       "    'weight': 1},\n",
       "   'type': 'Feature'},\n",
       "  {'geometry': {'coordinates': [9.0929, 55.9696], 'type': 'Point'},\n",
       "   'properties': {'color': '#990000',\n",
       "    'fillColor': '#990000',\n",
       "    'fillOpacity': 0.5,\n",
       "    'weight': 1},\n",
       "   'type': 'Feature'},\n",
       "  {'geometry': {'coordinates': [9.0926, 55.9699], 'type': 'Point'},\n",
       "   'properties': {'color': '#990000',\n",
       "    'fillColor': '#990000',\n",
       "    'fillOpacity': 0.5,\n",
       "    'weight': 1},\n",
       "   'type': 'Feature'},\n",
       "  {'geometry': {'coordinates': [8.9204, 55.9703], 'type': 'Point'},\n",
       "   'properties': {'color': '#990000',\n",
       "    'fillColor': '#990000',\n",
       "    'fillOpacity': 0.5,\n",
       "    'weight': 1},\n",
       "   'type': 'Feature'},\n",
       "  {'geometry': {'coordinates': [9.0896, 55.9714], 'type': 'Point'},\n",
       "   'properties': {'color': '#990000',\n",
       "    'fillColor': '#990000',\n",
       "    'fillOpacity': 0.5,\n",
       "    'weight': 1},\n",
       "   'type': 'Feature'},\n",
       "  {'geometry': {'coordinates': [9.0892, 55.9716], 'type': 'Point'},\n",
       "   'properties': {'color': '#990000',\n",
       "    'fillColor': '#990000',\n",
       "    'fillOpacity': 0.5,\n",
       "    'weight': 1},\n",
       "   'type': 'Feature'},\n",
       "  {'geometry': {'coordinates': [9.0886, 55.9718], 'type': 'Point'},\n",
       "   'properties': {'color': '#990000',\n",
       "    'fillColor': '#990000',\n",
       "    'fillOpacity': 0.5,\n",
       "    'weight': 1},\n",
       "   'type': 'Feature'},\n",
       "  {'geometry': {'coordinates': [8.8986, 55.9728], 'type': 'Point'},\n",
       "   'properties': {'color': '#990000',\n",
       "    'fillColor': '#990000',\n",
       "    'fillOpacity': 0.5,\n",
       "    'weight': 1},\n",
       "   'type': 'Feature'},\n",
       "  {'geometry': {'coordinates': [9.1129, 55.9738], 'type': 'Point'},\n",
       "   'properties': {'color': '#990000',\n",
       "    'fillColor': '#990000',\n",
       "    'fillOpacity': 0.5,\n",
       "    'weight': 1},\n",
       "   'type': 'Feature'},\n",
       "  {'geometry': {'coordinates': [9.083, 55.9744], 'type': 'Point'},\n",
       "   'properties': {'color': '#990000',\n",
       "    'fillColor': '#990000',\n",
       "    'fillOpacity': 0.5,\n",
       "    'weight': 1},\n",
       "   'type': 'Feature'},\n",
       "  {'geometry': {'coordinates': [8.8991, 55.9752], 'type': 'Point'},\n",
       "   'properties': {'color': '#990000',\n",
       "    'fillColor': '#990000',\n",
       "    'fillOpacity': 0.5,\n",
       "    'weight': 1},\n",
       "   'type': 'Feature'},\n",
       "  {'geometry': {'coordinates': [9.08, 55.9755], 'type': 'Point'},\n",
       "   'properties': {'color': '#990000',\n",
       "    'fillColor': '#990000',\n",
       "    'fillOpacity': 0.5,\n",
       "    'weight': 1},\n",
       "   'type': 'Feature'},\n",
       "  {'geometry': {'coordinates': [9.0802, 55.9755], 'type': 'Point'},\n",
       "   'properties': {'color': '#990000',\n",
       "    'fillColor': '#990000',\n",
       "    'fillOpacity': 0.5,\n",
       "    'weight': 1},\n",
       "   'type': 'Feature'},\n",
       "  {'geometry': {'coordinates': [9.0793, 55.9757], 'type': 'Point'},\n",
       "   'properties': {'color': '#990000',\n",
       "    'fillColor': '#990000',\n",
       "    'fillOpacity': 0.5,\n",
       "    'weight': 1},\n",
       "   'type': 'Feature'},\n",
       "  {'geometry': {'coordinates': [9.0754, 55.977], 'type': 'Point'},\n",
       "   'properties': {'color': '#990000',\n",
       "    'fillColor': '#990000',\n",
       "    'fillOpacity': 0.5,\n",
       "    'weight': 1},\n",
       "   'type': 'Feature'},\n",
       "  {'geometry': {'coordinates': [9.0753, 55.9773], 'type': 'Point'},\n",
       "   'properties': {'color': '#990000',\n",
       "    'fillColor': '#990000',\n",
       "    'fillOpacity': 0.5,\n",
       "    'weight': 1},\n",
       "   'type': 'Feature'},\n",
       "  {'geometry': {'coordinates': [9.0739, 55.9778], 'type': 'Point'},\n",
       "   'properties': {'color': '#990000',\n",
       "    'fillColor': '#990000',\n",
       "    'fillOpacity': 0.5,\n",
       "    'weight': 1},\n",
       "   'type': 'Feature'},\n",
       "  {'geometry': {'coordinates': [8.8979, 55.9779], 'type': 'Point'},\n",
       "   'properties': {'color': '#990000',\n",
       "    'fillColor': '#990000',\n",
       "    'fillOpacity': 0.5,\n",
       "    'weight': 1},\n",
       "   'type': 'Feature'},\n",
       "  {'geometry': {'coordinates': [9.0696, 55.9795], 'type': 'Point'},\n",
       "   'properties': {'color': '#990000',\n",
       "    'fillColor': '#990000',\n",
       "    'fillOpacity': 0.5,\n",
       "    'weight': 1},\n",
       "   'type': 'Feature'},\n",
       "  {'geometry': {'coordinates': [8.8951, 55.9807], 'type': 'Point'},\n",
       "   'properties': {'color': '#990000',\n",
       "    'fillColor': '#990000',\n",
       "    'fillOpacity': 0.5,\n",
       "    'weight': 1},\n",
       "   'type': 'Feature'},\n",
       "  {'geometry': {'coordinates': [9.0659, 55.9811], 'type': 'Point'},\n",
       "   'properties': {'color': '#990000',\n",
       "    'fillColor': '#990000',\n",
       "    'fillOpacity': 0.5,\n",
       "    'weight': 1},\n",
       "   'type': 'Feature'},\n",
       "  {'geometry': {'coordinates': [8.8332, 55.9815], 'type': 'Point'},\n",
       "   'properties': {'color': '#990000',\n",
       "    'fillColor': '#990000',\n",
       "    'fillOpacity': 0.5,\n",
       "    'weight': 1},\n",
       "   'type': 'Feature'},\n",
       "  {'geometry': {'coordinates': [9.0648, 55.9816], 'type': 'Point'},\n",
       "   'properties': {'color': '#990000',\n",
       "    'fillColor': '#990000',\n",
       "    'fillOpacity': 0.5,\n",
       "    'weight': 1},\n",
       "   'type': 'Feature'},\n",
       "  {'geometry': {'coordinates': [9.0649, 55.9817], 'type': 'Point'},\n",
       "   'properties': {'color': '#990000',\n",
       "    'fillColor': '#990000',\n",
       "    'fillOpacity': 0.5,\n",
       "    'weight': 1},\n",
       "   'type': 'Feature'},\n",
       "  {'geometry': {'coordinates': [8.834, 55.9819], 'type': 'Point'},\n",
       "   'properties': {'color': '#990000',\n",
       "    'fillColor': '#990000',\n",
       "    'fillOpacity': 0.5,\n",
       "    'weight': 1},\n",
       "   'type': 'Feature'},\n",
       "  {'geometry': {'coordinates': [9.063, 55.9826], 'type': 'Point'},\n",
       "   'properties': {'color': '#990000',\n",
       "    'fillColor': '#990000',\n",
       "    'fillOpacity': 0.5,\n",
       "    'weight': 1},\n",
       "   'type': 'Feature'},\n",
       "  {'geometry': {'coordinates': [9.0603, 55.9841], 'type': 'Point'},\n",
       "   'properties': {'color': '#990000',\n",
       "    'fillColor': '#990000',\n",
       "    'fillOpacity': 0.5,\n",
       "    'weight': 1},\n",
       "   'type': 'Feature'},\n",
       "  {'geometry': {'coordinates': [8.8801, 55.9858], 'type': 'Point'},\n",
       "   'properties': {'color': '#990000',\n",
       "    'fillColor': '#990000',\n",
       "    'fillOpacity': 0.5,\n",
       "    'weight': 1},\n",
       "   'type': 'Feature'},\n",
       "  {'geometry': {'coordinates': [9.057, 55.9865], 'type': 'Point'},\n",
       "   'properties': {'color': '#990000',\n",
       "    'fillColor': '#990000',\n",
       "    'fillOpacity': 0.5,\n",
       "    'weight': 1},\n",
       "   'type': 'Feature'},\n",
       "  {'geometry': {'coordinates': [9.0605, 55.9865], 'type': 'Point'},\n",
       "   'properties': {'color': '#990000',\n",
       "    'fillColor': '#990000',\n",
       "    'fillOpacity': 0.5,\n",
       "    'weight': 1},\n",
       "   'type': 'Feature'},\n",
       "  {'geometry': {'coordinates': [9.0563, 55.9867], 'type': 'Point'},\n",
       "   'properties': {'color': '#990000',\n",
       "    'fillColor': '#990000',\n",
       "    'fillOpacity': 0.5,\n",
       "    'weight': 1},\n",
       "   'type': 'Feature'},\n",
       "  {'geometry': {'coordinates': [9.0506, 55.9868], 'type': 'Point'},\n",
       "   'properties': {'color': '#990000',\n",
       "    'fillColor': '#990000',\n",
       "    'fillOpacity': 0.5,\n",
       "    'weight': 1},\n",
       "   'type': 'Feature'},\n",
       "  {'geometry': {'coordinates': [9.0547, 55.988], 'type': 'Point'},\n",
       "   'properties': {'color': '#990000',\n",
       "    'fillColor': '#990000',\n",
       "    'fillOpacity': 0.5,\n",
       "    'weight': 1},\n",
       "   'type': 'Feature'},\n",
       "  {'geometry': {'coordinates': [9.0531, 55.9894], 'type': 'Point'},\n",
       "   'properties': {'color': '#990000',\n",
       "    'fillColor': '#990000',\n",
       "    'fillOpacity': 0.5,\n",
       "    'weight': 1},\n",
       "   'type': 'Feature'},\n",
       "  {'geometry': {'coordinates': [9.0524, 55.99], 'type': 'Point'},\n",
       "   'properties': {'color': '#990000',\n",
       "    'fillColor': '#990000',\n",
       "    'fillOpacity': 0.5,\n",
       "    'weight': 1},\n",
       "   'type': 'Feature'},\n",
       "  {'geometry': {'coordinates': [9.0506, 55.9916], 'type': 'Point'},\n",
       "   'properties': {'color': '#990000',\n",
       "    'fillColor': '#990000',\n",
       "    'fillOpacity': 0.5,\n",
       "    'weight': 1},\n",
       "   'type': 'Feature'},\n",
       "  {'geometry': {'coordinates': [9.0504, 55.992], 'type': 'Point'},\n",
       "   'properties': {'color': '#990000',\n",
       "    'fillColor': '#990000',\n",
       "    'fillOpacity': 0.5,\n",
       "    'weight': 1},\n",
       "   'type': 'Feature'},\n",
       "  {'geometry': {'coordinates': [9.0499, 55.9929], 'type': 'Point'},\n",
       "   'properties': {'color': '#990000',\n",
       "    'fillColor': '#990000',\n",
       "    'fillOpacity': 0.5,\n",
       "    'weight': 1},\n",
       "   'type': 'Feature'},\n",
       "  {'geometry': {'coordinates': [9.0494, 55.9931], 'type': 'Point'},\n",
       "   'properties': {'color': '#990000',\n",
       "    'fillColor': '#990000',\n",
       "    'fillOpacity': 0.5,\n",
       "    'weight': 1},\n",
       "   'type': 'Feature'},\n",
       "  {'geometry': {'coordinates': [9.0483, 55.9945], 'type': 'Point'},\n",
       "   'properties': {'color': '#990000',\n",
       "    'fillColor': '#990000',\n",
       "    'fillOpacity': 0.5,\n",
       "    'weight': 1},\n",
       "   'type': 'Feature'},\n",
       "  {'geometry': {'coordinates': [9.0481, 55.995], 'type': 'Point'},\n",
       "   'properties': {'color': '#990000',\n",
       "    'fillColor': '#990000',\n",
       "    'fillOpacity': 0.5,\n",
       "    'weight': 1},\n",
       "   'type': 'Feature'},\n",
       "  {'geometry': {'coordinates': [9.0477, 55.9952], 'type': 'Point'},\n",
       "   'properties': {'color': '#990000',\n",
       "    'fillColor': '#990000',\n",
       "    'fillOpacity': 0.5,\n",
       "    'weight': 1},\n",
       "   'type': 'Feature'},\n",
       "  {'geometry': {'coordinates': [9.0454, 55.9981], 'type': 'Point'},\n",
       "   'properties': {'color': '#990000',\n",
       "    'fillColor': '#990000',\n",
       "    'fillOpacity': 0.5,\n",
       "    'weight': 1},\n",
       "   'type': 'Feature'},\n",
       "  {'geometry': {'coordinates': [9.0451, 55.9989], 'type': 'Point'},\n",
       "   'properties': {'color': '#990000',\n",
       "    'fillColor': '#990000',\n",
       "    'fillOpacity': 0.5,\n",
       "    'weight': 1},\n",
       "   'type': 'Feature'},\n",
       "  {'geometry': {'coordinates': [8.9505, 55.9991], 'type': 'Point'},\n",
       "   'properties': {'color': '#990000',\n",
       "    'fillColor': '#990000',\n",
       "    'fillOpacity': 0.5,\n",
       "    'weight': 1},\n",
       "   'type': 'Feature'},\n",
       "  {'geometry': {'coordinates': [8.8671, 56.0], 'type': 'Point'},\n",
       "   'properties': {'color': '#990000',\n",
       "    'fillColor': '#990000',\n",
       "    'fillOpacity': 0.5,\n",
       "    'weight': 1},\n",
       "   'type': 'Feature'},\n",
       "  {'geometry': {'coordinates': [8.8444, 56.0014], 'type': 'Point'},\n",
       "   'properties': {'color': '#990000',\n",
       "    'fillColor': '#990000',\n",
       "    'fillOpacity': 0.5,\n",
       "    'weight': 1},\n",
       "   'type': 'Feature'},\n",
       "  {'geometry': {'coordinates': [9.0427, 56.0017], 'type': 'Point'},\n",
       "   'properties': {'color': '#990000',\n",
       "    'fillColor': '#990000',\n",
       "    'fillOpacity': 0.5,\n",
       "    'weight': 1},\n",
       "   'type': 'Feature'},\n",
       "  {'geometry': {'coordinates': [9.0407, 56.0037], 'type': 'Point'},\n",
       "   'properties': {'color': '#990000',\n",
       "    'fillColor': '#990000',\n",
       "    'fillOpacity': 0.5,\n",
       "    'weight': 1},\n",
       "   'type': 'Feature'},\n",
       "  {'geometry': {'coordinates': [9.0386, 56.0058], 'type': 'Point'},\n",
       "   'properties': {'color': '#990000',\n",
       "    'fillColor': '#990000',\n",
       "    'fillOpacity': 0.5,\n",
       "    'weight': 1},\n",
       "   'type': 'Feature'},\n",
       "  {'geometry': {'coordinates': [9.1245, 56.0066], 'type': 'Point'},\n",
       "   'properties': {'color': '#990000',\n",
       "    'fillColor': '#990000',\n",
       "    'fillOpacity': 0.5,\n",
       "    'weight': 1},\n",
       "   'type': 'Feature'},\n",
       "  {'geometry': {'coordinates': [8.8472, 56.0067], 'type': 'Point'},\n",
       "   'properties': {'color': '#990000',\n",
       "    'fillColor': '#990000',\n",
       "    'fillOpacity': 0.5,\n",
       "    'weight': 1},\n",
       "   'type': 'Feature'},\n",
       "  {'geometry': {'coordinates': [9.0372, 56.0068], 'type': 'Point'},\n",
       "   'properties': {'color': '#990000',\n",
       "    'fillColor': '#990000',\n",
       "    'fillOpacity': 0.5,\n",
       "    'weight': 1},\n",
       "   'type': 'Feature'},\n",
       "  {'geometry': {'coordinates': [9.069, 56.0071], 'type': 'Point'},\n",
       "   'properties': {'color': '#990000',\n",
       "    'fillColor': '#990000',\n",
       "    'fillOpacity': 0.5,\n",
       "    'weight': 1},\n",
       "   'type': 'Feature'},\n",
       "  {'geometry': {'coordinates': [9.0366, 56.0072], 'type': 'Point'},\n",
       "   'properties': {'color': '#990000',\n",
       "    'fillColor': '#990000',\n",
       "    'fillOpacity': 0.5,\n",
       "    'weight': 1},\n",
       "   'type': 'Feature'},\n",
       "  {'geometry': {'coordinates': [9.0364, 56.0074], 'type': 'Point'},\n",
       "   'properties': {'color': '#990000',\n",
       "    'fillColor': '#990000',\n",
       "    'fillOpacity': 0.5,\n",
       "    'weight': 1},\n",
       "   'type': 'Feature'},\n",
       "  {'geometry': {'coordinates': [9.0355, 56.008], 'type': 'Point'},\n",
       "   'properties': {'color': '#990000',\n",
       "    'fillColor': '#990000',\n",
       "    'fillOpacity': 0.5,\n",
       "    'weight': 1},\n",
       "   'type': 'Feature'},\n",
       "  {'geometry': {'coordinates': [9.0351, 56.0083], 'type': 'Point'},\n",
       "   'properties': {'color': '#990000',\n",
       "    'fillColor': '#990000',\n",
       "    'fillOpacity': 0.5,\n",
       "    'weight': 1},\n",
       "   'type': 'Feature'},\n",
       "  {'geometry': {'coordinates': [9.0335, 56.0094], 'type': 'Point'},\n",
       "   'properties': {'color': '#990000',\n",
       "    'fillColor': '#990000',\n",
       "    'fillOpacity': 0.5,\n",
       "    'weight': 1},\n",
       "   'type': 'Feature'},\n",
       "  {'geometry': {'coordinates': [9.0337, 56.0096], 'type': 'Point'},\n",
       "   'properties': {'color': '#990000',\n",
       "    'fillColor': '#990000',\n",
       "    'fillOpacity': 0.5,\n",
       "    'weight': 1},\n",
       "   'type': 'Feature'},\n",
       "  {'geometry': {'coordinates': [9.0336, 56.0097], 'type': 'Point'},\n",
       "   'properties': {'color': '#990000',\n",
       "    'fillColor': '#990000',\n",
       "    'fillOpacity': 0.5,\n",
       "    'weight': 1},\n",
       "   'type': 'Feature'},\n",
       "  {'geometry': {'coordinates': [9.0323, 56.0102], 'type': 'Point'},\n",
       "   'properties': {'color': '#990000',\n",
       "    'fillColor': '#990000',\n",
       "    'fillOpacity': 0.5,\n",
       "    'weight': 1},\n",
       "   'type': 'Feature'},\n",
       "  {'geometry': {'coordinates': [9.0321, 56.0103], 'type': 'Point'},\n",
       "   'properties': {'color': '#990000',\n",
       "    'fillColor': '#990000',\n",
       "    'fillOpacity': 0.5,\n",
       "    'weight': 1},\n",
       "   'type': 'Feature'},\n",
       "  {'geometry': {'coordinates': [9.0311, 56.0108], 'type': 'Point'},\n",
       "   'properties': {'color': '#990000',\n",
       "    'fillColor': '#990000',\n",
       "    'fillOpacity': 0.5,\n",
       "    'weight': 1},\n",
       "   'type': 'Feature'},\n",
       "  {'geometry': {'coordinates': [8.9809, 56.011], 'type': 'Point'},\n",
       "   'properties': {'color': '#990000',\n",
       "    'fillColor': '#990000',\n",
       "    'fillOpacity': 0.5,\n",
       "    'weight': 1},\n",
       "   'type': 'Feature'},\n",
       "  {'geometry': {'coordinates': [8.851, 56.0112], 'type': 'Point'},\n",
       "   'properties': {'color': '#990000',\n",
       "    'fillColor': '#990000',\n",
       "    'fillOpacity': 0.5,\n",
       "    'weight': 1},\n",
       "   'type': 'Feature'},\n",
       "  {'geometry': {'coordinates': [9.0334, 56.0113], 'type': 'Point'},\n",
       "   'properties': {'color': '#990000',\n",
       "    'fillColor': '#990000',\n",
       "    'fillOpacity': 0.5,\n",
       "    'weight': 1},\n",
       "   'type': 'Feature'},\n",
       "  {'geometry': {'coordinates': [8.8499, 56.0114], 'type': 'Point'},\n",
       "   'properties': {'color': '#990000',\n",
       "    'fillColor': '#990000',\n",
       "    'fillOpacity': 0.5,\n",
       "    'weight': 1},\n",
       "   'type': 'Feature'},\n",
       "  {'geometry': {'coordinates': [9.0416, 56.0114], 'type': 'Point'},\n",
       "   'properties': {'color': '#990000',\n",
       "    'fillColor': '#990000',\n",
       "    'fillOpacity': 0.5,\n",
       "    'weight': 1},\n",
       "   'type': 'Feature'},\n",
       "  {'geometry': {'coordinates': [9.0293, 56.0118], 'type': 'Point'},\n",
       "   'properties': {'color': '#990000',\n",
       "    'fillColor': '#990000',\n",
       "    'fillOpacity': 0.5,\n",
       "    'weight': 1},\n",
       "   'type': 'Feature'},\n",
       "  {'geometry': {'coordinates': [9.0292, 56.0119], 'type': 'Point'},\n",
       "   'properties': {'color': '#990000',\n",
       "    'fillColor': '#990000',\n",
       "    'fillOpacity': 0.5,\n",
       "    'weight': 1},\n",
       "   'type': 'Feature'},\n",
       "  {'geometry': {'coordinates': [9.0288, 56.0121], 'type': 'Point'},\n",
       "   'properties': {'color': '#990000',\n",
       "    'fillColor': '#990000',\n",
       "    'fillOpacity': 0.5,\n",
       "    'weight': 1},\n",
       "   'type': 'Feature'},\n",
       "  {'geometry': {'coordinates': [8.8503, 56.0125], 'type': 'Point'},\n",
       "   'properties': {'color': '#990000',\n",
       "    'fillColor': '#990000',\n",
       "    'fillOpacity': 0.5,\n",
       "    'weight': 1},\n",
       "   'type': 'Feature'},\n",
       "  {'geometry': {'coordinates': [9.0277, 56.0127], 'type': 'Point'},\n",
       "   'properties': {'color': '#990000',\n",
       "    'fillColor': '#990000',\n",
       "    'fillOpacity': 0.5,\n",
       "    'weight': 1},\n",
       "   'type': 'Feature'},\n",
       "  {'geometry': {'coordinates': [8.9864, 56.0128], 'type': 'Point'},\n",
       "   'properties': {'color': '#990000',\n",
       "    'fillColor': '#990000',\n",
       "    'fillOpacity': 0.5,\n",
       "    'weight': 1},\n",
       "   'type': 'Feature'},\n",
       "  {'geometry': {'coordinates': [9.029, 56.0128], 'type': 'Point'},\n",
       "   'properties': {'color': '#990000',\n",
       "    'fillColor': '#990000',\n",
       "    'fillOpacity': 0.5,\n",
       "    'weight': 1},\n",
       "   'type': 'Feature'},\n",
       "  {'geometry': {'coordinates': [8.8498, 56.013], 'type': 'Point'},\n",
       "   'properties': {'color': '#990000',\n",
       "    'fillColor': '#990000',\n",
       "    'fillOpacity': 0.5,\n",
       "    'weight': 1},\n",
       "   'type': 'Feature'},\n",
       "  {'geometry': {'coordinates': [9.0266, 56.0133], 'type': 'Point'},\n",
       "   'properties': {'color': '#990000',\n",
       "    'fillColor': '#990000',\n",
       "    'fillOpacity': 0.5,\n",
       "    'weight': 1},\n",
       "   'type': 'Feature'},\n",
       "  {'geometry': {'coordinates': [8.8498, 56.0134], 'type': 'Point'},\n",
       "   'properties': {'color': '#990000',\n",
       "    'fillColor': '#990000',\n",
       "    'fillOpacity': 0.5,\n",
       "    'weight': 1},\n",
       "   'type': 'Feature'},\n",
       "  {'geometry': {'coordinates': [8.85, 56.0136], 'type': 'Point'},\n",
       "   'properties': {'color': '#990000',\n",
       "    'fillColor': '#990000',\n",
       "    'fillOpacity': 0.5,\n",
       "    'weight': 1},\n",
       "   'type': 'Feature'},\n",
       "  {'geometry': {'coordinates': [8.9985, 56.0143], 'type': 'Point'},\n",
       "   'properties': {'color': '#990000',\n",
       "    'fillColor': '#990000',\n",
       "    'fillOpacity': 0.5,\n",
       "    'weight': 1},\n",
       "   'type': 'Feature'},\n",
       "  {'geometry': {'coordinates': [8.8503, 56.0148], 'type': 'Point'},\n",
       "   'properties': {'color': '#990000',\n",
       "    'fillColor': '#990000',\n",
       "    'fillOpacity': 0.5,\n",
       "    'weight': 1},\n",
       "   'type': 'Feature'},\n",
       "  {'geometry': {'coordinates': [9.1209, 56.015], 'type': 'Point'},\n",
       "   'properties': {'color': '#990000',\n",
       "    'fillColor': '#990000',\n",
       "    'fillOpacity': 0.5,\n",
       "    'weight': 1},\n",
       "   'type': 'Feature'},\n",
       "  {'geometry': {'coordinates': [9.0229, 56.0153], 'type': 'Point'},\n",
       "   'properties': {'color': '#990000',\n",
       "    'fillColor': '#990000',\n",
       "    'fillOpacity': 0.5,\n",
       "    'weight': 1},\n",
       "   'type': 'Feature'},\n",
       "  {'geometry': {'coordinates': [9.0298, 56.0157], 'type': 'Point'},\n",
       "   'properties': {'color': '#990000',\n",
       "    'fillColor': '#990000',\n",
       "    'fillOpacity': 0.5,\n",
       "    'weight': 1},\n",
       "   'type': 'Feature'},\n",
       "  {'geometry': {'coordinates': [8.8506, 56.0159], 'type': 'Point'},\n",
       "   'properties': {'color': '#990000',\n",
       "    'fillColor': '#990000',\n",
       "    'fillOpacity': 0.5,\n",
       "    'weight': 1},\n",
       "   'type': 'Feature'},\n",
       "  {'geometry': {'coordinates': [9.0209, 56.0162], 'type': 'Point'},\n",
       "   'properties': {'color': '#990000',\n",
       "    'fillColor': '#990000',\n",
       "    'fillOpacity': 0.5,\n",
       "    'weight': 1},\n",
       "   'type': 'Feature'},\n",
       "  {'geometry': {'coordinates': [9.0209, 56.0163], 'type': 'Point'},\n",
       "   'properties': {'color': '#990000',\n",
       "    'fillColor': '#990000',\n",
       "    'fillOpacity': 0.5,\n",
       "    'weight': 1},\n",
       "   'type': 'Feature'},\n",
       "  {'geometry': {'coordinates': [9.026, 56.0169], 'type': 'Point'},\n",
       "   'properties': {'color': '#990000',\n",
       "    'fillColor': '#990000',\n",
       "    'fillOpacity': 0.5,\n",
       "    'weight': 1},\n",
       "   'type': 'Feature'},\n",
       "  {'geometry': {'coordinates': [8.8508, 56.017], 'type': 'Point'},\n",
       "   'properties': {'color': '#990000',\n",
       "    'fillColor': '#990000',\n",
       "    'fillOpacity': 0.5,\n",
       "    'weight': 1},\n",
       "   'type': 'Feature'},\n",
       "  {'geometry': {'coordinates': [8.851, 56.0171], 'type': 'Point'},\n",
       "   'properties': {'color': '#990000',\n",
       "    'fillColor': '#990000',\n",
       "    'fillOpacity': 0.5,\n",
       "    'weight': 1},\n",
       "   'type': 'Feature'},\n",
       "  {'geometry': {'coordinates': [9.0183, 56.0177], 'type': 'Point'},\n",
       "   'properties': {'color': '#990000',\n",
       "    'fillColor': '#990000',\n",
       "    'fillOpacity': 0.5,\n",
       "    'weight': 1},\n",
       "   'type': 'Feature'},\n",
       "  {'geometry': {'coordinates': [8.994, 56.0183], 'type': 'Point'},\n",
       "   'properties': {'color': '#990000',\n",
       "    'fillColor': '#990000',\n",
       "    'fillOpacity': 0.5,\n",
       "    'weight': 1},\n",
       "   'type': 'Feature'},\n",
       "  {'geometry': {'coordinates': [8.5659, 56.0188], 'type': 'Point'},\n",
       "   'properties': {'color': '#990000',\n",
       "    'fillColor': '#990000',\n",
       "    'fillOpacity': 0.5,\n",
       "    'weight': 1},\n",
       "   'type': 'Feature'},\n",
       "  {'geometry': {'coordinates': [9.0157, 56.0198], 'type': 'Point'},\n",
       "   'properties': {'color': '#990000',\n",
       "    'fillColor': '#990000',\n",
       "    'fillOpacity': 0.5,\n",
       "    'weight': 1},\n",
       "   'type': 'Feature'},\n",
       "  {'geometry': {'coordinates': [9.0138, 56.0212], 'type': 'Point'},\n",
       "   'properties': {'color': '#990000',\n",
       "    'fillColor': '#990000',\n",
       "    'fillOpacity': 0.5,\n",
       "    'weight': 1},\n",
       "   'type': 'Feature'},\n",
       "  {'geometry': {'coordinates': [8.852, 56.0221], 'type': 'Point'},\n",
       "   'properties': {'color': '#990000',\n",
       "    'fillColor': '#990000',\n",
       "    'fillOpacity': 0.5,\n",
       "    'weight': 1},\n",
       "   'type': 'Feature'},\n",
       "  {'geometry': {'coordinates': [8.8521, 56.0229], 'type': 'Point'},\n",
       "   'properties': {'color': '#990000',\n",
       "    'fillColor': '#990000',\n",
       "    'fillOpacity': 0.5,\n",
       "    'weight': 1},\n",
       "   'type': 'Feature'},\n",
       "  {'geometry': {'coordinates': [9.0113, 56.0233], 'type': 'Point'},\n",
       "   'properties': {'color': '#990000',\n",
       "    'fillColor': '#990000',\n",
       "    'fillOpacity': 0.5,\n",
       "    'weight': 1},\n",
       "   'type': 'Feature'},\n",
       "  {'geometry': {'coordinates': [9.0116, 56.0236], 'type': 'Point'},\n",
       "   'properties': {'color': '#990000',\n",
       "    'fillColor': '#990000',\n",
       "    'fillOpacity': 0.5,\n",
       "    'weight': 1},\n",
       "   'type': 'Feature'},\n",
       "  {'geometry': {'coordinates': [9.0098, 56.0252], 'type': 'Point'},\n",
       "   'properties': {'color': '#990000',\n",
       "    'fillColor': '#990000',\n",
       "    'fillOpacity': 0.5,\n",
       "    'weight': 1},\n",
       "   'type': 'Feature'},\n",
       "  {'geometry': {'coordinates': [8.8531, 56.026], 'type': 'Point'},\n",
       "   'properties': {'color': '#990000',\n",
       "    'fillColor': '#990000',\n",
       "    'fillOpacity': 0.5,\n",
       "    'weight': 1},\n",
       "   'type': 'Feature'},\n",
       "  {'geometry': {'coordinates': [8.8538, 56.0269], 'type': 'Point'},\n",
       "   'properties': {'color': '#990000',\n",
       "    'fillColor': '#990000',\n",
       "    'fillOpacity': 0.5,\n",
       "    'weight': 1},\n",
       "   'type': 'Feature'},\n",
       "  {'geometry': {'coordinates': [9.0072, 56.0287], 'type': 'Point'},\n",
       "   'properties': {'color': '#990000',\n",
       "    'fillColor': '#990000',\n",
       "    'fillOpacity': 0.5,\n",
       "    'weight': 1},\n",
       "   'type': 'Feature'},\n",
       "  {'geometry': {'coordinates': [9.0068, 56.0297], 'type': 'Point'},\n",
       "   'properties': {'color': '#990000',\n",
       "    'fillColor': '#990000',\n",
       "    'fillOpacity': 0.5,\n",
       "    'weight': 1},\n",
       "   'type': 'Feature'},\n",
       "  {'geometry': {'coordinates': [9.0064, 56.0307], 'type': 'Point'},\n",
       "   'properties': {'color': '#990000',\n",
       "    'fillColor': '#990000',\n",
       "    'fillOpacity': 0.5,\n",
       "    'weight': 1},\n",
       "   'type': 'Feature'},\n",
       "  {'geometry': {'coordinates': [9.0061, 56.0312], 'type': 'Point'},\n",
       "   'properties': {'color': '#990000',\n",
       "    'fillColor': '#990000',\n",
       "    'fillOpacity': 0.5,\n",
       "    'weight': 1},\n",
       "   'type': 'Feature'},\n",
       "  {'geometry': {'coordinates': [8.86, 56.0315], 'type': 'Point'},\n",
       "   'properties': {'color': '#990000',\n",
       "    'fillColor': '#990000',\n",
       "    'fillOpacity': 0.5,\n",
       "    'weight': 1},\n",
       "   'type': 'Feature'},\n",
       "  {'geometry': {'coordinates': [9.0053, 56.0318], 'type': 'Point'},\n",
       "   'properties': {'color': '#990000',\n",
       "    'fillColor': '#990000',\n",
       "    'fillOpacity': 0.5,\n",
       "    'weight': 1},\n",
       "   'type': 'Feature'},\n",
       "  {'geometry': {'coordinates': [9.0061, 56.0318], 'type': 'Point'},\n",
       "   'properties': {'color': '#990000',\n",
       "    'fillColor': '#990000',\n",
       "    'fillOpacity': 0.5,\n",
       "    'weight': 1},\n",
       "   'type': 'Feature'},\n",
       "  {'geometry': {'coordinates': [9.0056, 56.0323], 'type': 'Point'},\n",
       "   'properties': {'color': '#990000',\n",
       "    'fillColor': '#990000',\n",
       "    'fillOpacity': 0.5,\n",
       "    'weight': 1},\n",
       "   'type': 'Feature'},\n",
       "  {'geometry': {'coordinates': [8.8495, 56.0324], 'type': 'Point'},\n",
       "   'properties': {'color': '#990000',\n",
       "    'fillColor': '#990000',\n",
       "    'fillOpacity': 0.5,\n",
       "    'weight': 1},\n",
       "   'type': 'Feature'},\n",
       "  {'geometry': {'coordinates': [9.0048, 56.0342], 'type': 'Point'},\n",
       "   'properties': {'color': '#990000',\n",
       "    'fillColor': '#990000',\n",
       "    'fillOpacity': 0.5,\n",
       "    'weight': 1},\n",
       "   'type': 'Feature'},\n",
       "  {'geometry': {'coordinates': [9.0047, 56.0346], 'type': 'Point'},\n",
       "   'properties': {'color': '#990000',\n",
       "    'fillColor': '#990000',\n",
       "    'fillOpacity': 0.5,\n",
       "    'weight': 1},\n",
       "   'type': 'Feature'},\n",
       "  {'geometry': {'coordinates': [9.0048, 56.0347], 'type': 'Point'},\n",
       "   'properties': {'color': '#990000',\n",
       "    'fillColor': '#990000',\n",
       "    'fillOpacity': 0.5,\n",
       "    'weight': 1},\n",
       "   'type': 'Feature'},\n",
       "  {'geometry': {'coordinates': [8.8647, 56.0348], 'type': 'Point'},\n",
       "   'properties': {'color': '#990000',\n",
       "    'fillColor': '#990000',\n",
       "    'fillOpacity': 0.5,\n",
       "    'weight': 1},\n",
       "   'type': 'Feature'},\n",
       "  {'geometry': {'coordinates': [9.0045, 56.0348], 'type': 'Point'},\n",
       "   'properties': {'color': '#990000',\n",
       "    'fillColor': '#990000',\n",
       "    'fillOpacity': 0.5,\n",
       "    'weight': 1},\n",
       "   'type': 'Feature'},\n",
       "  {'geometry': {'coordinates': [8.8649, 56.0352], 'type': 'Point'},\n",
       "   'properties': {'color': '#990000',\n",
       "    'fillColor': '#990000',\n",
       "    'fillOpacity': 0.5,\n",
       "    'weight': 1},\n",
       "   'type': 'Feature'},\n",
       "  {'geometry': {'coordinates': [9.0045, 56.0353], 'type': 'Point'},\n",
       "   'properties': {'color': '#990000',\n",
       "    'fillColor': '#990000',\n",
       "    'fillOpacity': 0.5,\n",
       "    'weight': 1},\n",
       "   'type': 'Feature'},\n",
       "  {'geometry': {'coordinates': [8.8655, 56.0358], 'type': 'Point'},\n",
       "   'properties': {'color': '#990000',\n",
       "    'fillColor': '#990000',\n",
       "    'fillOpacity': 0.5,\n",
       "    'weight': 1},\n",
       "   'type': 'Feature'},\n",
       "  {'geometry': {'coordinates': [8.8662, 56.0363], 'type': 'Point'},\n",
       "   'properties': {'color': '#990000',\n",
       "    'fillColor': '#990000',\n",
       "    'fillOpacity': 0.5,\n",
       "    'weight': 1},\n",
       "   'type': 'Feature'},\n",
       "  {'geometry': {'coordinates': [9.0043, 56.0363], 'type': 'Point'},\n",
       "   'properties': {'color': '#990000',\n",
       "    'fillColor': '#990000',\n",
       "    'fillOpacity': 0.5,\n",
       "    'weight': 1},\n",
       "   'type': 'Feature'},\n",
       "  {'geometry': {'coordinates': [8.8656, 56.0364], 'type': 'Point'},\n",
       "   'properties': {'color': '#990000',\n",
       "    'fillColor': '#990000',\n",
       "    'fillOpacity': 0.5,\n",
       "    'weight': 1},\n",
       "   'type': 'Feature'},\n",
       "  {'geometry': {'coordinates': [8.8659, 56.0364], 'type': 'Point'},\n",
       "   'properties': {'color': '#990000',\n",
       "    'fillColor': '#990000',\n",
       "    'fillOpacity': 0.5,\n",
       "    'weight': 1},\n",
       "   'type': 'Feature'},\n",
       "  {'geometry': {'coordinates': [9.0035, 56.0376], 'type': 'Point'},\n",
       "   'properties': {'color': '#990000',\n",
       "    'fillColor': '#990000',\n",
       "    'fillOpacity': 0.5,\n",
       "    'weight': 1},\n",
       "   'type': 'Feature'},\n",
       "  {'geometry': {'coordinates': [8.8694, 56.038], 'type': 'Point'},\n",
       "   'properties': {'color': '#990000',\n",
       "    'fillColor': '#990000',\n",
       "    'fillOpacity': 0.5,\n",
       "    'weight': 1},\n",
       "   'type': 'Feature'},\n",
       "  {'geometry': {'coordinates': [8.9998, 56.0383], 'type': 'Point'},\n",
       "   'properties': {'color': '#990000',\n",
       "    'fillColor': '#990000',\n",
       "    'fillOpacity': 0.5,\n",
       "    'weight': 1},\n",
       "   'type': 'Feature'},\n",
       "  {'geometry': {'coordinates': [8.8599, 56.0384], 'type': 'Point'},\n",
       "   'properties': {'color': '#990000',\n",
       "    'fillColor': '#990000',\n",
       "    'fillOpacity': 0.5,\n",
       "    'weight': 1},\n",
       "   'type': 'Feature'},\n",
       "  {'geometry': {'coordinates': [8.8589, 56.0385], 'type': 'Point'},\n",
       "   'properties': {'color': '#990000',\n",
       "    'fillColor': '#990000',\n",
       "    'fillOpacity': 0.5,\n",
       "    'weight': 1},\n",
       "   'type': 'Feature'},\n",
       "  {'geometry': {'coordinates': [8.8705, 56.039], 'type': 'Point'},\n",
       "   'properties': {'color': '#990000',\n",
       "    'fillColor': '#990000',\n",
       "    'fillOpacity': 0.5,\n",
       "    'weight': 1},\n",
       "   'type': 'Feature'},\n",
       "  {'geometry': {'coordinates': [9.0044, 56.0399], 'type': 'Point'},\n",
       "   'properties': {'color': '#990000',\n",
       "    'fillColor': '#990000',\n",
       "    'fillOpacity': 0.5,\n",
       "    'weight': 1},\n",
       "   'type': 'Feature'},\n",
       "  {'geometry': {'coordinates': [9.0042, 56.04], 'type': 'Point'},\n",
       "   'properties': {'color': '#990000',\n",
       "    'fillColor': '#990000',\n",
       "    'fillOpacity': 0.5,\n",
       "    'weight': 1},\n",
       "   'type': 'Feature'},\n",
       "  {'geometry': {'coordinates': [9.0045, 56.04], 'type': 'Point'},\n",
       "   'properties': {'color': '#990000',\n",
       "    'fillColor': '#990000',\n",
       "    'fillOpacity': 0.5,\n",
       "    'weight': 1},\n",
       "   'type': 'Feature'},\n",
       "  {'geometry': {'coordinates': [8.8708, 56.0402], 'type': 'Point'},\n",
       "   'properties': {'color': '#990000',\n",
       "    'fillColor': '#990000',\n",
       "    'fillOpacity': 0.5,\n",
       "    'weight': 1},\n",
       "   'type': 'Feature'},\n",
       "  {'geometry': {'coordinates': [8.8722, 56.0402], 'type': 'Point'},\n",
       "   'properties': {'color': '#990000',\n",
       "    'fillColor': '#990000',\n",
       "    'fillOpacity': 0.5,\n",
       "    'weight': 1},\n",
       "   'type': 'Feature'},\n",
       "  {'geometry': {'coordinates': [9.0027, 56.0404], 'type': 'Point'},\n",
       "   'properties': {'color': '#990000',\n",
       "    'fillColor': '#990000',\n",
       "    'fillOpacity': 0.5,\n",
       "    'weight': 1},\n",
       "   'type': 'Feature'},\n",
       "  {'geometry': {'coordinates': [9.0027, 56.0407], 'type': 'Point'},\n",
       "   'properties': {'color': '#990000',\n",
       "    'fillColor': '#990000',\n",
       "    'fillOpacity': 0.5,\n",
       "    'weight': 1},\n",
       "   'type': 'Feature'},\n",
       "  {'geometry': {'coordinates': [9.9661, 56.0409], 'type': 'Point'},\n",
       "   'properties': {'color': '#990000',\n",
       "    'fillColor': '#990000',\n",
       "    'fillOpacity': 0.5,\n",
       "    'weight': 1},\n",
       "   'type': 'Feature'},\n",
       "  {'geometry': {'coordinates': [8.8735, 56.041], 'type': 'Point'},\n",
       "   'properties': {'color': '#990000',\n",
       "    'fillColor': '#990000',\n",
       "    'fillOpacity': 0.5,\n",
       "    'weight': 1},\n",
       "   'type': 'Feature'},\n",
       "  {'geometry': {'coordinates': [8.9349, 56.0413], 'type': 'Point'},\n",
       "   'properties': {'color': '#990000',\n",
       "    'fillColor': '#990000',\n",
       "    'fillOpacity': 0.5,\n",
       "    'weight': 1},\n",
       "   'type': 'Feature'},\n",
       "  {'geometry': {'coordinates': [8.8736, 56.0414], 'type': 'Point'},\n",
       "   'properties': {'color': '#990000',\n",
       "    'fillColor': '#990000',\n",
       "    'fillOpacity': 0.5,\n",
       "    'weight': 1},\n",
       "   'type': 'Feature'},\n",
       "  {'geometry': {'coordinates': [8.875, 56.0422], 'type': 'Point'},\n",
       "   'properties': {'color': '#990000',\n",
       "    'fillColor': '#990000',\n",
       "    'fillOpacity': 0.5,\n",
       "    'weight': 1},\n",
       "   'type': 'Feature'},\n",
       "  {'geometry': {'coordinates': [9.002, 56.0424], 'type': 'Point'},\n",
       "   'properties': {'color': '#990000',\n",
       "    'fillColor': '#990000',\n",
       "    'fillOpacity': 0.5,\n",
       "    'weight': 1},\n",
       "   'type': 'Feature'},\n",
       "  {'geometry': {'coordinates': [9.0018, 56.0434], 'type': 'Point'},\n",
       "   'properties': {'color': '#990000',\n",
       "    'fillColor': '#990000',\n",
       "    'fillOpacity': 0.5,\n",
       "    'weight': 1},\n",
       "   'type': 'Feature'},\n",
       "  {'geometry': {'coordinates': [9.0019, 56.0435], 'type': 'Point'},\n",
       "   'properties': {'color': '#990000',\n",
       "    'fillColor': '#990000',\n",
       "    'fillOpacity': 0.5,\n",
       "    'weight': 1},\n",
       "   'type': 'Feature'},\n",
       "  {'geometry': {'coordinates': [8.8775, 56.0446], 'type': 'Point'},\n",
       "   'properties': {'color': '#990000',\n",
       "    'fillColor': '#990000',\n",
       "    'fillOpacity': 0.5,\n",
       "    'weight': 1},\n",
       "   'type': 'Feature'},\n",
       "  {'geometry': {'coordinates': [9.0016, 56.0449], 'type': 'Point'},\n",
       "   'properties': {'color': '#990000',\n",
       "    'fillColor': '#990000',\n",
       "    'fillOpacity': 0.5,\n",
       "    'weight': 1},\n",
       "   'type': 'Feature'},\n",
       "  {'geometry': {'coordinates': [9.0017, 56.0452], 'type': 'Point'},\n",
       "   'properties': {'color': '#990000',\n",
       "    'fillColor': '#990000',\n",
       "    'fillOpacity': 0.5,\n",
       "    'weight': 1},\n",
       "   'type': 'Feature'},\n",
       "  {'geometry': {'coordinates': [8.8785, 56.0453], 'type': 'Point'},\n",
       "   'properties': {'color': '#990000',\n",
       "    'fillColor': '#990000',\n",
       "    'fillOpacity': 0.5,\n",
       "    'weight': 1},\n",
       "   'type': 'Feature'},\n",
       "  {'geometry': {'coordinates': [8.8786, 56.0454], 'type': 'Point'},\n",
       "   'properties': {'color': '#990000',\n",
       "    'fillColor': '#990000',\n",
       "    'fillOpacity': 0.5,\n",
       "    'weight': 1},\n",
       "   'type': 'Feature'},\n",
       "  {'geometry': {'coordinates': [9.0012, 56.0459], 'type': 'Point'},\n",
       "   'properties': {'color': '#990000',\n",
       "    'fillColor': '#990000',\n",
       "    'fillOpacity': 0.5,\n",
       "    'weight': 1},\n",
       "   'type': 'Feature'},\n",
       "  {'geometry': {'coordinates': [8.8794, 56.0461], 'type': 'Point'},\n",
       "   'properties': {'color': '#990000',\n",
       "    'fillColor': '#990000',\n",
       "    'fillOpacity': 0.5,\n",
       "    'weight': 1},\n",
       "   'type': 'Feature'},\n",
       "  {'geometry': {'coordinates': [8.8808, 56.0474], 'type': 'Point'},\n",
       "   'properties': {'color': '#990000',\n",
       "    'fillColor': '#990000',\n",
       "    'fillOpacity': 0.5,\n",
       "    'weight': 1},\n",
       "   'type': 'Feature'},\n",
       "  {'geometry': {'coordinates': [8.8812, 56.0477], 'type': 'Point'},\n",
       "   'properties': {'color': '#990000',\n",
       "    'fillColor': '#990000',\n",
       "    'fillOpacity': 0.5,\n",
       "    'weight': 1},\n",
       "   'type': 'Feature'},\n",
       "  {'geometry': {'coordinates': [9.0006, 56.0478], 'type': 'Point'},\n",
       "   'properties': {'color': '#990000',\n",
       "    'fillColor': '#990000',\n",
       "    'fillOpacity': 0.5,\n",
       "    'weight': 1},\n",
       "   'type': 'Feature'},\n",
       "  {'geometry': {'coordinates': [8.8017, 56.0481], 'type': 'Point'},\n",
       "   'properties': {'color': '#990000',\n",
       "    'fillColor': '#990000',\n",
       "    'fillOpacity': 0.5,\n",
       "    'weight': 1},\n",
       "   'type': 'Feature'},\n",
       "  {'geometry': {'coordinates': [9.0006, 56.0483], 'type': 'Point'},\n",
       "   'properties': {'color': '#990000',\n",
       "    'fillColor': '#990000',\n",
       "    'fillOpacity': 0.5,\n",
       "    'weight': 1},\n",
       "   'type': 'Feature'},\n",
       "  {'geometry': {'coordinates': [8.8821, 56.0486], 'type': 'Point'},\n",
       "   'properties': {'color': '#990000',\n",
       "    'fillColor': '#990000',\n",
       "    'fillOpacity': 0.5,\n",
       "    'weight': 1},\n",
       "   'type': 'Feature'},\n",
       "  {'geometry': {'coordinates': [9.0004, 56.0487], 'type': 'Point'},\n",
       "   'properties': {'color': '#990000',\n",
       "    'fillColor': '#990000',\n",
       "    'fillOpacity': 0.5,\n",
       "    'weight': 1},\n",
       "   'type': 'Feature'},\n",
       "  {'geometry': {'coordinates': [8.8746, 56.0494], 'type': 'Point'},\n",
       "   'properties': {'color': '#990000',\n",
       "    'fillColor': '#990000',\n",
       "    'fillOpacity': 0.5,\n",
       "    'weight': 1},\n",
       "   'type': 'Feature'},\n",
       "  {'geometry': {'coordinates': [9.0005, 56.0494], 'type': 'Point'},\n",
       "   'properties': {'color': '#990000',\n",
       "    'fillColor': '#990000',\n",
       "    'fillOpacity': 0.5,\n",
       "    'weight': 1},\n",
       "   'type': 'Feature'},\n",
       "  {'geometry': {'coordinates': [8.8832, 56.0496], 'type': 'Point'},\n",
       "   'properties': {'color': '#990000',\n",
       "    'fillColor': '#990000',\n",
       "    'fillOpacity': 0.5,\n",
       "    'weight': 1},\n",
       "   'type': 'Feature'},\n",
       "  {'geometry': {'coordinates': [9.0003, 56.0496], 'type': 'Point'},\n",
       "   'properties': {'color': '#990000',\n",
       "    'fillColor': '#990000',\n",
       "    'fillOpacity': 0.5,\n",
       "    'weight': 1},\n",
       "   'type': 'Feature'},\n",
       "  {'geometry': {'coordinates': [8.8835, 56.0498], 'type': 'Point'},\n",
       "   'properties': {'color': '#990000',\n",
       "    'fillColor': '#990000',\n",
       "    'fillOpacity': 0.5,\n",
       "    'weight': 1},\n",
       "   'type': 'Feature'},\n",
       "  {'geometry': {'coordinates': [8.85, 56.0503], 'type': 'Point'},\n",
       "   'properties': {'color': '#990000',\n",
       "    'fillColor': '#990000',\n",
       "    'fillOpacity': 0.5,\n",
       "    'weight': 1},\n",
       "   'type': 'Feature'},\n",
       "  {'geometry': {'coordinates': [9.0, 56.0505], 'type': 'Point'},\n",
       "   'properties': {'color': '#990000',\n",
       "    'fillColor': '#990000',\n",
       "    'fillOpacity': 0.5,\n",
       "    'weight': 1},\n",
       "   'type': 'Feature'},\n",
       "  {'geometry': {'coordinates': [8.9998, 56.0508], 'type': 'Point'},\n",
       "   'properties': {'color': '#990000',\n",
       "    'fillColor': '#990000',\n",
       "    'fillOpacity': 0.5,\n",
       "    'weight': 1},\n",
       "   'type': 'Feature'},\n",
       "  {'geometry': {'coordinates': [8.8848, 56.0509], 'type': 'Point'},\n",
       "   'properties': {'color': '#990000',\n",
       "    'fillColor': '#990000',\n",
       "    'fillOpacity': 0.5,\n",
       "    'weight': 1},\n",
       "   'type': 'Feature'},\n",
       "  {'geometry': {'coordinates': [8.8767, 56.051], 'type': 'Point'},\n",
       "   'properties': {'color': '#990000',\n",
       "    'fillColor': '#990000',\n",
       "    'fillOpacity': 0.5,\n",
       "    'weight': 1},\n",
       "   'type': 'Feature'},\n",
       "  {'geometry': {'coordinates': [8.8768, 56.051], 'type': 'Point'},\n",
       "   'properties': {'color': '#990000',\n",
       "    'fillColor': '#990000',\n",
       "    'fillOpacity': 0.5,\n",
       "    'weight': 1},\n",
       "   'type': 'Feature'},\n",
       "  {'geometry': {'coordinates': [8.8852, 56.0513], 'type': 'Point'},\n",
       "   'properties': {'color': '#990000',\n",
       "    'fillColor': '#990000',\n",
       "    'fillOpacity': 0.5,\n",
       "    'weight': 1},\n",
       "   'type': 'Feature'},\n",
       "  {'geometry': {'coordinates': [8.9996, 56.0519], 'type': 'Point'},\n",
       "   'properties': {'color': '#990000',\n",
       "    'fillColor': '#990000',\n",
       "    'fillOpacity': 0.5,\n",
       "    'weight': 1},\n",
       "   'type': 'Feature'},\n",
       "  {'geometry': {'coordinates': [8.9998, 56.052], 'type': 'Point'},\n",
       "   'properties': {'color': '#990000',\n",
       "    'fillColor': '#990000',\n",
       "    'fillOpacity': 0.5,\n",
       "    'weight': 1},\n",
       "   'type': 'Feature'},\n",
       "  {'geometry': {'coordinates': [8.9996, 56.0523], 'type': 'Point'},\n",
       "   'properties': {'color': '#990000',\n",
       "    'fillColor': '#990000',\n",
       "    'fillOpacity': 0.5,\n",
       "    'weight': 1},\n",
       "   'type': 'Feature'},\n",
       "  {'geometry': {'coordinates': [8.8864, 56.0525], 'type': 'Point'},\n",
       "   'properties': {'color': '#990000',\n",
       "    'fillColor': '#990000',\n",
       "    'fillOpacity': 0.5,\n",
       "    'weight': 1},\n",
       "   'type': 'Feature'},\n",
       "  {'geometry': {'coordinates': [8.8867, 56.0526], 'type': 'Point'},\n",
       "   'properties': {'color': '#990000',\n",
       "    'fillColor': '#990000',\n",
       "    'fillOpacity': 0.5,\n",
       "    'weight': 1},\n",
       "   'type': 'Feature'},\n",
       "  {'geometry': {'coordinates': [8.9995, 56.0528], 'type': 'Point'},\n",
       "   'properties': {'color': '#990000',\n",
       "    'fillColor': '#990000',\n",
       "    'fillOpacity': 0.5,\n",
       "    'weight': 1},\n",
       "   'type': 'Feature'},\n",
       "  {'geometry': {'coordinates': [8.9995, 56.053], 'type': 'Point'},\n",
       "   'properties': {'color': '#990000',\n",
       "    'fillColor': '#990000',\n",
       "    'fillOpacity': 0.5,\n",
       "    'weight': 1},\n",
       "   'type': 'Feature'},\n",
       "  {'geometry': {'coordinates': [8.9994, 56.0532], 'type': 'Point'},\n",
       "   'properties': {'color': '#990000',\n",
       "    'fillColor': '#990000',\n",
       "    'fillOpacity': 0.5,\n",
       "    'weight': 1},\n",
       "   'type': 'Feature'},\n",
       "  {'geometry': {'coordinates': [8.9994, 56.0533], 'type': 'Point'},\n",
       "   'properties': {'color': '#990000',\n",
       "    'fillColor': '#990000',\n",
       "    'fillOpacity': 0.5,\n",
       "    'weight': 1},\n",
       "   'type': 'Feature'},\n",
       "  {'geometry': {'coordinates': [8.9995, 56.0533], 'type': 'Point'},\n",
       "   'properties': {'color': '#990000',\n",
       "    'fillColor': '#990000',\n",
       "    'fillOpacity': 0.5,\n",
       "    'weight': 1},\n",
       "   'type': 'Feature'},\n",
       "  {'geometry': {'coordinates': [8.9994, 56.0536], 'type': 'Point'},\n",
       "   'properties': {'color': '#990000',\n",
       "    'fillColor': '#990000',\n",
       "    'fillOpacity': 0.5,\n",
       "    'weight': 1},\n",
       "   'type': 'Feature'},\n",
       "  {'geometry': {'coordinates': [8.888, 56.0539], 'type': 'Point'},\n",
       "   'properties': {'color': '#990000',\n",
       "    'fillColor': '#990000',\n",
       "    'fillOpacity': 0.5,\n",
       "    'weight': 1},\n",
       "   'type': 'Feature'},\n",
       "  {'geometry': {'coordinates': [8.8888, 56.0547], 'type': 'Point'},\n",
       "   'properties': {'color': '#990000',\n",
       "    'fillColor': '#990000',\n",
       "    'fillOpacity': 0.5,\n",
       "    'weight': 1},\n",
       "   'type': 'Feature'},\n",
       "  {'geometry': {'coordinates': [9.1144, 56.0551], 'type': 'Point'},\n",
       "   'properties': {'color': '#990000',\n",
       "    'fillColor': '#990000',\n",
       "    'fillOpacity': 0.5,\n",
       "    'weight': 1},\n",
       "   'type': 'Feature'},\n",
       "  {'geometry': {'coordinates': [8.999, 56.0553], 'type': 'Point'},\n",
       "   'properties': {'color': '#990000',\n",
       "    'fillColor': '#990000',\n",
       "    'fillOpacity': 0.5,\n",
       "    'weight': 1},\n",
       "   'type': 'Feature'},\n",
       "  {'geometry': {'coordinates': [8.8899, 56.0556], 'type': 'Point'},\n",
       "   'properties': {'color': '#990000',\n",
       "    'fillColor': '#990000',\n",
       "    'fillOpacity': 0.5,\n",
       "    'weight': 1},\n",
       "   'type': 'Feature'},\n",
       "  {'geometry': {'coordinates': [8.89, 56.0557], 'type': 'Point'},\n",
       "   'properties': {'color': '#990000',\n",
       "    'fillColor': '#990000',\n",
       "    'fillOpacity': 0.5,\n",
       "    'weight': 1},\n",
       "   'type': 'Feature'},\n",
       "  {'geometry': {'coordinates': [8.8902, 56.0559], 'type': 'Point'},\n",
       "   'properties': {'color': '#990000',\n",
       "    'fillColor': '#990000',\n",
       "    'fillOpacity': 0.5,\n",
       "    'weight': 1},\n",
       "   'type': 'Feature'},\n",
       "  {'geometry': {'coordinates': [8.9966, 56.0561], 'type': 'Point'},\n",
       "   'properties': {'color': '#990000',\n",
       "    'fillColor': '#990000',\n",
       "    'fillOpacity': 0.5,\n",
       "    'weight': 1},\n",
       "   'type': 'Feature'},\n",
       "  {'geometry': {'coordinates': [8.8907, 56.0563], 'type': 'Point'},\n",
       "   'properties': {'color': '#990000',\n",
       "    'fillColor': '#990000',\n",
       "    'fillOpacity': 0.5,\n",
       "    'weight': 1},\n",
       "   'type': 'Feature'},\n",
       "  {'geometry': {'coordinates': [8.8482, 56.0565], 'type': 'Point'},\n",
       "   'properties': {'color': '#990000',\n",
       "    'fillColor': '#990000',\n",
       "    'fillOpacity': 0.5,\n",
       "    'weight': 1},\n",
       "   'type': 'Feature'},\n",
       "  {'geometry': {'coordinates': [8.8911, 56.0567], 'type': 'Point'},\n",
       "   'properties': {'color': '#990000',\n",
       "    'fillColor': '#990000',\n",
       "    'fillOpacity': 0.5,\n",
       "    'weight': 1},\n",
       "   'type': 'Feature'},\n",
       "  {'geometry': {'coordinates': [8.9214, 56.0574], 'type': 'Point'},\n",
       "   'properties': {'color': '#990000',\n",
       "    'fillColor': '#990000',\n",
       "    'fillOpacity': 0.5,\n",
       "    'weight': 1},\n",
       "   'type': 'Feature'},\n",
       "  {'geometry': {'coordinates': [8.9986, 56.0576], 'type': 'Point'},\n",
       "   'properties': {'color': '#990000',\n",
       "    'fillColor': '#990000',\n",
       "    'fillOpacity': 0.5,\n",
       "    'weight': 1},\n",
       "   'type': 'Feature'},\n",
       "  {'geometry': {'coordinates': [8.9986, 56.0578], 'type': 'Point'},\n",
       "   'properties': {'color': '#990000',\n",
       "    'fillColor': '#990000',\n",
       "    'fillOpacity': 0.5,\n",
       "    'weight': 1},\n",
       "   'type': 'Feature'},\n",
       "  {'geometry': {'coordinates': [8.9986, 56.0583], 'type': 'Point'},\n",
       "   'properties': {'color': '#990000',\n",
       "    'fillColor': '#990000',\n",
       "    'fillOpacity': 0.5,\n",
       "    'weight': 1},\n",
       "   'type': 'Feature'},\n",
       "  {'geometry': {'coordinates': [8.9984, 56.0585], 'type': 'Point'},\n",
       "   'properties': {'color': '#990000',\n",
       "    'fillColor': '#990000',\n",
       "    'fillOpacity': 0.5,\n",
       "    'weight': 1},\n",
       "   'type': 'Feature'},\n",
       "  {'geometry': {'coordinates': [8.6476, 56.0587], 'type': 'Point'},\n",
       "   'properties': {'color': '#990000',\n",
       "    'fillColor': '#990000',\n",
       "    'fillOpacity': 0.5,\n",
       "    'weight': 1},\n",
       "   'type': 'Feature'},\n",
       "  {'geometry': {'coordinates': [8.8932, 56.0587], 'type': 'Point'},\n",
       "   'properties': {'color': '#990000',\n",
       "    'fillColor': '#990000',\n",
       "    'fillOpacity': 0.5,\n",
       "    'weight': 1},\n",
       "   'type': 'Feature'},\n",
       "  {'geometry': {'coordinates': [8.9984, 56.0589], 'type': 'Point'},\n",
       "   'properties': {'color': '#990000',\n",
       "    'fillColor': '#990000',\n",
       "    'fillOpacity': 0.5,\n",
       "    'weight': 1},\n",
       "   'type': 'Feature'},\n",
       "  {'geometry': {'coordinates': [8.8936, 56.059], 'type': 'Point'},\n",
       "   'properties': {'color': '#990000',\n",
       "    'fillColor': '#990000',\n",
       "    'fillOpacity': 0.5,\n",
       "    'weight': 1},\n",
       "   'type': 'Feature'},\n",
       "  {'geometry': {'coordinates': [8.9983, 56.0595], 'type': 'Point'},\n",
       "   'properties': {'color': '#990000',\n",
       "    'fillColor': '#990000',\n",
       "    'fillOpacity': 0.5,\n",
       "    'weight': 1},\n",
       "   'type': 'Feature'},\n",
       "  {'geometry': {'coordinates': [8.9984, 56.0596], 'type': 'Point'},\n",
       "   'properties': {'color': '#990000',\n",
       "    'fillColor': '#990000',\n",
       "    'fillOpacity': 0.5,\n",
       "    'weight': 1},\n",
       "   'type': 'Feature'},\n",
       "  {'geometry': {'coordinates': [8.9983, 56.0597], 'type': 'Point'},\n",
       "   'properties': {'color': '#990000',\n",
       "    'fillColor': '#990000',\n",
       "    'fillOpacity': 0.5,\n",
       "    'weight': 1},\n",
       "   'type': 'Feature'},\n",
       "  {'geometry': {'coordinates': [8.8526, 56.0607], 'type': 'Point'},\n",
       "   'properties': {'color': '#990000',\n",
       "    'fillColor': '#990000',\n",
       "    'fillOpacity': 0.5,\n",
       "    'weight': 1},\n",
       "   'type': 'Feature'},\n",
       "  {'geometry': {'coordinates': [8.9981, 56.0612], 'type': 'Point'},\n",
       "   'properties': {'color': '#990000',\n",
       "    'fillColor': '#990000',\n",
       "    'fillOpacity': 0.5,\n",
       "    'weight': 1},\n",
       "   'type': 'Feature'},\n",
       "  {'geometry': {'coordinates': [9.007, 56.0612], 'type': 'Point'},\n",
       "   'properties': {'color': '#990000',\n",
       "    'fillColor': '#990000',\n",
       "    'fillOpacity': 0.5,\n",
       "    'weight': 1},\n",
       "   'type': 'Feature'},\n",
       "  {'geometry': {'coordinates': [8.9979, 56.0619], 'type': 'Point'},\n",
       "   'properties': {'color': '#990000',\n",
       "    'fillColor': '#990000',\n",
       "    'fillOpacity': 0.5,\n",
       "    'weight': 1},\n",
       "   'type': 'Feature'},\n",
       "  {'geometry': {'coordinates': [8.9978, 56.062], 'type': 'Point'},\n",
       "   'properties': {'color': '#990000',\n",
       "    'fillColor': '#990000',\n",
       "    'fillOpacity': 0.5,\n",
       "    'weight': 1},\n",
       "   'type': 'Feature'},\n",
       "  {'geometry': {'coordinates': [8.998, 56.062], 'type': 'Point'},\n",
       "   'properties': {'color': '#990000',\n",
       "    'fillColor': '#990000',\n",
       "    'fillOpacity': 0.5,\n",
       "    'weight': 1},\n",
       "   'type': 'Feature'},\n",
       "  {'geometry': {'coordinates': [9.0847, 56.0621], 'type': 'Point'},\n",
       "   'properties': {'color': '#990000',\n",
       "    'fillColor': '#990000',\n",
       "    'fillOpacity': 0.5,\n",
       "    'weight': 1},\n",
       "   'type': 'Feature'},\n",
       "  {'geometry': {'coordinates': [8.897, 56.0622], 'type': 'Point'},\n",
       "   'properties': {'color': '#990000',\n",
       "    'fillColor': '#990000',\n",
       "    'fillOpacity': 0.5,\n",
       "    'weight': 1},\n",
       "   'type': 'Feature'},\n",
       "  {'geometry': {'coordinates': [8.9978, 56.0624], 'type': 'Point'},\n",
       "   'properties': {'color': '#990000',\n",
       "    'fillColor': '#990000',\n",
       "    'fillOpacity': 0.5,\n",
       "    'weight': 1},\n",
       "   'type': 'Feature'},\n",
       "  {'geometry': {'coordinates': [8.998, 56.0624], 'type': 'Point'},\n",
       "   'properties': {'color': '#990000',\n",
       "    'fillColor': '#990000',\n",
       "    'fillOpacity': 0.5,\n",
       "    'weight': 1},\n",
       "   'type': 'Feature'},\n",
       "  {'geometry': {'coordinates': [8.9979, 56.0625], 'type': 'Point'},\n",
       "   'properties': {'color': '#990000',\n",
       "    'fillColor': '#990000',\n",
       "    'fillOpacity': 0.5,\n",
       "    'weight': 1},\n",
       "   'type': 'Feature'},\n",
       "  {'geometry': {'coordinates': [8.9978, 56.0628], 'type': 'Point'},\n",
       "   'properties': {'color': '#990000',\n",
       "    'fillColor': '#990000',\n",
       "    'fillOpacity': 0.5,\n",
       "    'weight': 1},\n",
       "   'type': 'Feature'},\n",
       "  {'geometry': {'coordinates': [8.9979, 56.0628], 'type': 'Point'},\n",
       "   'properties': {'color': '#990000',\n",
       "    'fillColor': '#990000',\n",
       "    'fillOpacity': 0.5,\n",
       "    'weight': 1},\n",
       "   'type': 'Feature'},\n",
       "  {'geometry': {'coordinates': [9.0733, 56.0632], 'type': 'Point'},\n",
       "   'properties': {'color': '#990000',\n",
       "    'fillColor': '#990000',\n",
       "    'fillOpacity': 0.5,\n",
       "    'weight': 1},\n",
       "   'type': 'Feature'},\n",
       "  {'geometry': {'coordinates': [9.0709, 56.0633], 'type': 'Point'},\n",
       "   'properties': {'color': '#990000',\n",
       "    'fillColor': '#990000',\n",
       "    'fillOpacity': 0.5,\n",
       "    'weight': 1},\n",
       "   'type': 'Feature'},\n",
       "  {'geometry': {'coordinates': [9.081, 56.0635], 'type': 'Point'},\n",
       "   'properties': {'color': '#990000',\n",
       "    'fillColor': '#990000',\n",
       "    'fillOpacity': 0.5,\n",
       "    'weight': 1},\n",
       "   'type': 'Feature'},\n",
       "  {'geometry': {'coordinates': [9.0807, 56.0636], 'type': 'Point'},\n",
       "   'properties': {'color': '#990000',\n",
       "    'fillColor': '#990000',\n",
       "    'fillOpacity': 0.5,\n",
       "    'weight': 1},\n",
       "   'type': 'Feature'},\n",
       "  {'geometry': {'coordinates': [8.9917, 56.0637], 'type': 'Point'},\n",
       "   'properties': {'color': '#990000',\n",
       "    'fillColor': '#990000',\n",
       "    'fillOpacity': 0.5,\n",
       "    'weight': 1},\n",
       "   'type': 'Feature'},\n",
       "  {'geometry': {'coordinates': [9.0621, 56.0637], 'type': 'Point'},\n",
       "   'properties': {'color': '#990000',\n",
       "    'fillColor': '#990000',\n",
       "    'fillOpacity': 0.5,\n",
       "    'weight': 1},\n",
       "   'type': 'Feature'},\n",
       "  {'geometry': {'coordinates': [8.9944, 56.0638], 'type': 'Point'},\n",
       "   'properties': {'color': '#990000',\n",
       "    'fillColor': '#990000',\n",
       "    'fillOpacity': 0.5,\n",
       "    'weight': 1},\n",
       "   'type': 'Feature'},\n",
       "  {'geometry': {'coordinates': [8.8988, 56.064], 'type': 'Point'},\n",
       "   'properties': {'color': '#990000',\n",
       "    'fillColor': '#990000',\n",
       "    'fillOpacity': 0.5,\n",
       "    'weight': 1},\n",
       "   'type': 'Feature'},\n",
       "  {'geometry': {'coordinates': [8.9978, 56.064], 'type': 'Point'},\n",
       "   'properties': {'color': '#990000',\n",
       "    'fillColor': '#990000',\n",
       "    'fillOpacity': 0.5,\n",
       "    'weight': 1},\n",
       "   'type': 'Feature'},\n",
       "  {'geometry': {'coordinates': [8.8992, 56.0642], 'type': 'Point'},\n",
       "   'properties': {'color': '#990000',\n",
       "    'fillColor': '#990000',\n",
       "    'fillOpacity': 0.5,\n",
       "    'weight': 1},\n",
       "   'type': 'Feature'},\n",
       "  {'geometry': {'coordinates': [8.9975, 56.0643], 'type': 'Point'},\n",
       "   'properties': {'color': '#990000',\n",
       "    'fillColor': '#990000',\n",
       "    'fillOpacity': 0.5,\n",
       "    'weight': 1},\n",
       "   'type': 'Feature'},\n",
       "  {'geometry': {'coordinates': [8.8993, 56.0644], 'type': 'Point'},\n",
       "   'properties': {'color': '#990000',\n",
       "    'fillColor': '#990000',\n",
       "    'fillOpacity': 0.5,\n",
       "    'weight': 1},\n",
       "   'type': 'Feature'},\n",
       "  {'geometry': {'coordinates': [8.9976, 56.0648], 'type': 'Point'},\n",
       "   'properties': {'color': '#990000',\n",
       "    'fillColor': '#990000',\n",
       "    'fillOpacity': 0.5,\n",
       "    'weight': 1},\n",
       "   'type': 'Feature'},\n",
       "  {'geometry': {'coordinates': [8.9004, 56.0651], 'type': 'Point'},\n",
       "   'properties': {'color': '#990000',\n",
       "    'fillColor': '#990000',\n",
       "    'fillOpacity': 0.5,\n",
       "    'weight': 1},\n",
       "   'type': 'Feature'},\n",
       "  {'geometry': {'coordinates': [8.9978, 56.0653], 'type': 'Point'},\n",
       "   'properties': {'color': '#990000',\n",
       "    'fillColor': '#990000',\n",
       "    'fillOpacity': 0.5,\n",
       "    'weight': 1},\n",
       "   'type': 'Feature'},\n",
       "  {'geometry': {'coordinates': [8.9976, 56.0657], 'type': 'Point'},\n",
       "   'properties': {'color': '#990000',\n",
       "    'fillColor': '#990000',\n",
       "    'fillOpacity': 0.5,\n",
       "    'weight': 1},\n",
       "   'type': 'Feature'},\n",
       "  {'geometry': {'coordinates': [8.9009, 56.0658], 'type': 'Point'},\n",
       "   'properties': {'color': '#990000',\n",
       "    'fillColor': '#990000',\n",
       "    'fillOpacity': 0.5,\n",
       "    'weight': 1},\n",
       "   'type': 'Feature'},\n",
       "  {'geometry': {'coordinates': [8.9976, 56.0658], 'type': 'Point'},\n",
       "   'properties': {'color': '#990000',\n",
       "    'fillColor': '#990000',\n",
       "    'fillOpacity': 0.5,\n",
       "    'weight': 1},\n",
       "   'type': 'Feature'},\n",
       "  {'geometry': {'coordinates': [8.9974, 56.0659], 'type': 'Point'},\n",
       "   'properties': {'color': '#990000',\n",
       "    'fillColor': '#990000',\n",
       "    'fillOpacity': 0.5,\n",
       "    'weight': 1},\n",
       "   'type': 'Feature'},\n",
       "  {'geometry': {'coordinates': [9.044, 56.066], 'type': 'Point'},\n",
       "   'properties': {'color': '#990000',\n",
       "    'fillColor': '#990000',\n",
       "    'fillOpacity': 0.5,\n",
       "    'weight': 1},\n",
       "   'type': 'Feature'},\n",
       "  {'geometry': {'coordinates': [9.0845, 56.0661], 'type': 'Point'},\n",
       "   'properties': {'color': '#990000',\n",
       "    'fillColor': '#990000',\n",
       "    'fillOpacity': 0.5,\n",
       "    'weight': 1},\n",
       "   'type': 'Feature'},\n",
       "  {'geometry': {'coordinates': [8.6001, 56.0663], 'type': 'Point'},\n",
       "   'properties': {'color': '#990000',\n",
       "    'fillColor': '#990000',\n",
       "    'fillOpacity': 0.5,\n",
       "    'weight': 1},\n",
       "   'type': 'Feature'},\n",
       "  {'geometry': {'coordinates': [9.2637, 56.0664], 'type': 'Point'},\n",
       "   'properties': {'color': '#990000',\n",
       "    'fillColor': '#990000',\n",
       "    'fillOpacity': 0.5,\n",
       "    'weight': 1},\n",
       "   'type': 'Feature'},\n",
       "  {'geometry': {'coordinates': [8.9016, 56.0666], 'type': 'Point'},\n",
       "   'properties': {'color': '#990000',\n",
       "    'fillColor': '#990000',\n",
       "    'fillOpacity': 0.5,\n",
       "    'weight': 1},\n",
       "   'type': 'Feature'},\n",
       "  {'geometry': {'coordinates': [8.9018, 56.0666], 'type': 'Point'},\n",
       "   'properties': {'color': '#990000',\n",
       "    'fillColor': '#990000',\n",
       "    'fillOpacity': 0.5,\n",
       "    'weight': 1},\n",
       "   'type': 'Feature'},\n",
       "  {'geometry': {'coordinates': [8.9013, 56.0668], 'type': 'Point'},\n",
       "   'properties': {'color': '#990000',\n",
       "    'fillColor': '#990000',\n",
       "    'fillOpacity': 0.5,\n",
       "    'weight': 1},\n",
       "   'type': 'Feature'},\n",
       "  {'geometry': {'coordinates': [8.9022, 56.0669], 'type': 'Point'},\n",
       "   'properties': {'color': '#990000',\n",
       "    'fillColor': '#990000',\n",
       "    'fillOpacity': 0.5,\n",
       "    'weight': 1},\n",
       "   'type': 'Feature'},\n",
       "  {'geometry': {'coordinates': [8.9023, 56.067], 'type': 'Point'},\n",
       "   'properties': {'color': '#990000',\n",
       "    'fillColor': '#990000',\n",
       "    'fillOpacity': 0.5,\n",
       "    'weight': 1},\n",
       "   'type': 'Feature'},\n",
       "  {'geometry': {'coordinates': [8.9026, 56.0672], 'type': 'Point'},\n",
       "   'properties': {'color': '#990000',\n",
       "    'fillColor': '#990000',\n",
       "    'fillOpacity': 0.5,\n",
       "    'weight': 1},\n",
       "   'type': 'Feature'},\n",
       "  {'geometry': {'coordinates': [9.0383, 56.0673], 'type': 'Point'},\n",
       "   'properties': {'color': '#990000',\n",
       "    'fillColor': '#990000',\n",
       "    'fillOpacity': 0.5,\n",
       "    'weight': 1},\n",
       "   'type': 'Feature'},\n",
       "  {'geometry': {'coordinates': [8.6049, 56.0674], 'type': 'Point'},\n",
       "   'properties': {'color': '#990000',\n",
       "    'fillColor': '#990000',\n",
       "    'fillOpacity': 0.5,\n",
       "    'weight': 1},\n",
       "   'type': 'Feature'},\n",
       "  {'geometry': {'coordinates': [8.9973, 56.0675], 'type': 'Point'},\n",
       "   'properties': {'color': '#990000',\n",
       "    'fillColor': '#990000',\n",
       "    'fillOpacity': 0.5,\n",
       "    'weight': 1},\n",
       "   'type': 'Feature'},\n",
       "  {'geometry': {'coordinates': [8.9974, 56.0675], 'type': 'Point'},\n",
       "   'properties': {'color': '#990000',\n",
       "    'fillColor': '#990000',\n",
       "    'fillOpacity': 0.5,\n",
       "    'weight': 1},\n",
       "   'type': 'Feature'},\n",
       "  {'geometry': {'coordinates': [8.9973, 56.0677], 'type': 'Point'},\n",
       "   'properties': {'color': '#990000',\n",
       "    'fillColor': '#990000',\n",
       "    'fillOpacity': 0.5,\n",
       "    'weight': 1},\n",
       "   'type': 'Feature'},\n",
       "  {'geometry': {'coordinates': [9.035, 56.0681], 'type': 'Point'},\n",
       "   'properties': {'color': '#990000',\n",
       "    'fillColor': '#990000',\n",
       "    'fillOpacity': 0.5,\n",
       "    'weight': 1},\n",
       "   'type': 'Feature'},\n",
       "  {'geometry': {'coordinates': [8.9154, 56.0683], 'type': 'Point'},\n",
       "   'properties': {'color': '#990000',\n",
       "    'fillColor': '#990000',\n",
       "    'fillOpacity': 0.5,\n",
       "    'weight': 1},\n",
       "   'type': 'Feature'},\n",
       "  {'geometry': {'coordinates': [8.9971, 56.0683], 'type': 'Point'},\n",
       "   'properties': {'color': '#990000',\n",
       "    'fillColor': '#990000',\n",
       "    'fillOpacity': 0.5,\n",
       "    'weight': 1},\n",
       "   'type': 'Feature'},\n",
       "  {'geometry': {'coordinates': [8.9974, 56.0686], 'type': 'Point'},\n",
       "   'properties': {'color': '#990000',\n",
       "    'fillColor': '#990000',\n",
       "    'fillOpacity': 0.5,\n",
       "    'weight': 1},\n",
       "   'type': 'Feature'},\n",
       "  {'geometry': {'coordinates': [8.9972, 56.0691], 'type': 'Point'},\n",
       "   'properties': {'color': '#990000',\n",
       "    'fillColor': '#990000',\n",
       "    'fillOpacity': 0.5,\n",
       "    'weight': 1},\n",
       "   'type': 'Feature'},\n",
       "  {'geometry': {'coordinates': [8.9024, 56.0693], 'type': 'Point'},\n",
       "   'properties': {'color': '#990000',\n",
       "    'fillColor': '#990000',\n",
       "    'fillOpacity': 0.5,\n",
       "    'weight': 1},\n",
       "   'type': 'Feature'},\n",
       "  {'geometry': {'coordinates': [9.0226, 56.0695], 'type': 'Point'},\n",
       "   'properties': {'color': '#990000',\n",
       "    'fillColor': '#990000',\n",
       "    'fillOpacity': 0.5,\n",
       "    'weight': 1},\n",
       "   'type': 'Feature'},\n",
       "  {'geometry': {'coordinates': [8.9971, 56.0696], 'type': 'Point'},\n",
       "   'properties': {'color': '#990000',\n",
       "    'fillColor': '#990000',\n",
       "    'fillOpacity': 0.5,\n",
       "    'weight': 1},\n",
       "   'type': 'Feature'},\n",
       "  {'geometry': {'coordinates': [8.8849, 56.0697], 'type': 'Point'},\n",
       "   'properties': {'color': '#990000',\n",
       "    'fillColor': '#990000',\n",
       "    'fillOpacity': 0.5,\n",
       "    'weight': 1},\n",
       "   'type': 'Feature'},\n",
       "  {'geometry': {'coordinates': [8.9972, 56.0699], 'type': 'Point'},\n",
       "   'properties': {'color': '#990000',\n",
       "    'fillColor': '#990000',\n",
       "    'fillOpacity': 0.5,\n",
       "    'weight': 1},\n",
       "   'type': 'Feature'},\n",
       "  {'geometry': {'coordinates': [8.8854, 56.07], 'type': 'Point'},\n",
       "   'properties': {'color': '#990000',\n",
       "    'fillColor': '#990000',\n",
       "    'fillOpacity': 0.5,\n",
       "    'weight': 1},\n",
       "   'type': 'Feature'},\n",
       "  {'geometry': {'coordinates': [8.8194, 56.071], 'type': 'Point'},\n",
       "   'properties': {'color': '#990000',\n",
       "    'fillColor': '#990000',\n",
       "    'fillOpacity': 0.5,\n",
       "    'weight': 1},\n",
       "   'type': 'Feature'},\n",
       "  {'geometry': {'coordinates': [9.0129, 56.0716], 'type': 'Point'},\n",
       "   'properties': {'color': '#990000',\n",
       "    'fillColor': '#990000',\n",
       "    'fillOpacity': 0.5,\n",
       "    'weight': 1},\n",
       "   'type': 'Feature'},\n",
       "  {'geometry': {'coordinates': [9.015, 56.0716], 'type': 'Point'},\n",
       "   'properties': {'color': '#990000',\n",
       "    'fillColor': '#990000',\n",
       "    'fillOpacity': 0.5,\n",
       "    'weight': 1},\n",
       "   'type': 'Feature'},\n",
       "  {'geometry': {'coordinates': [8.6196, 56.072], 'type': 'Point'},\n",
       "   'properties': {'color': '#990000',\n",
       "    'fillColor': '#990000',\n",
       "    'fillOpacity': 0.5,\n",
       "    'weight': 1},\n",
       "   'type': 'Feature'},\n",
       "  {'geometry': {'coordinates': [8.9969, 56.0722], 'type': 'Point'},\n",
       "   'properties': {'color': '#990000',\n",
       "    'fillColor': '#990000',\n",
       "    'fillOpacity': 0.5,\n",
       "    'weight': 1},\n",
       "   'type': 'Feature'},\n",
       "  {'geometry': {'coordinates': [8.9084, 56.0725], 'type': 'Point'},\n",
       "   'properties': {'color': '#990000',\n",
       "    'fillColor': '#990000',\n",
       "    'fillOpacity': 0.5,\n",
       "    'weight': 1},\n",
       "   'type': 'Feature'},\n",
       "  {'geometry': {'coordinates': [8.9084, 56.0726], 'type': 'Point'},\n",
       "   'properties': {'color': '#990000',\n",
       "    'fillColor': '#990000',\n",
       "    'fillOpacity': 0.5,\n",
       "    'weight': 1},\n",
       "   'type': 'Feature'},\n",
       "  {'geometry': {'coordinates': [8.997, 56.0728], 'type': 'Point'},\n",
       "   'properties': {'color': '#990000',\n",
       "    'fillColor': '#990000',\n",
       "    'fillOpacity': 0.5,\n",
       "    'weight': 1},\n",
       "   'type': 'Feature'},\n",
       "  {'geometry': {'coordinates': [8.9971, 56.073], 'type': 'Point'},\n",
       "   'properties': {'color': '#990000',\n",
       "    'fillColor': '#990000',\n",
       "    'fillOpacity': 0.5,\n",
       "    'weight': 1},\n",
       "   'type': 'Feature'},\n",
       "  {'geometry': {'coordinates': [8.909, 56.0731], 'type': 'Point'},\n",
       "   'properties': {'color': '#990000',\n",
       "    'fillColor': '#990000',\n",
       "    'fillOpacity': 0.5,\n",
       "    'weight': 1},\n",
       "   'type': 'Feature'},\n",
       "  {'geometry': {'coordinates': [8.9092, 56.0733], 'type': 'Point'},\n",
       "   'properties': {'color': '#990000',\n",
       "    'fillColor': '#990000',\n",
       "    'fillOpacity': 0.5,\n",
       "    'weight': 1},\n",
       "   'type': 'Feature'},\n",
       "  {'geometry': {'coordinates': [8.8905, 56.0734], 'type': 'Point'},\n",
       "   'properties': {'color': '#990000',\n",
       "    'fillColor': '#990000',\n",
       "    'fillOpacity': 0.5,\n",
       "    'weight': 1},\n",
       "   'type': 'Feature'},\n",
       "  {'geometry': {'coordinates': [8.9091, 56.0735], 'type': 'Point'},\n",
       "   'properties': {'color': '#990000',\n",
       "    'fillColor': '#990000',\n",
       "    'fillOpacity': 0.5,\n",
       "    'weight': 1},\n",
       "   'type': 'Feature'},\n",
       "  {'geometry': {'coordinates': [9.0315, 56.0738], 'type': 'Point'},\n",
       "   'properties': {'color': '#990000',\n",
       "    'fillColor': '#990000',\n",
       "    'fillOpacity': 0.5,\n",
       "    'weight': 1},\n",
       "   'type': 'Feature'},\n",
       "  {'geometry': {'coordinates': [8.8134, 56.0742], 'type': 'Point'},\n",
       "   'properties': {'color': '#990000',\n",
       "    'fillColor': '#990000',\n",
       "    'fillOpacity': 0.5,\n",
       "    'weight': 1},\n",
       "   'type': 'Feature'},\n",
       "  {'geometry': {'coordinates': [8.8135, 56.0743], 'type': 'Point'},\n",
       "   'properties': {'color': '#990000',\n",
       "    'fillColor': '#990000',\n",
       "    'fillOpacity': 0.5,\n",
       "    'weight': 1},\n",
       "   'type': 'Feature'},\n",
       "  {'geometry': {'coordinates': [8.9106, 56.0747], 'type': 'Point'},\n",
       "   'properties': {'color': '#990000',\n",
       "    'fillColor': '#990000',\n",
       "    'fillOpacity': 0.5,\n",
       "    'weight': 1},\n",
       "   'type': 'Feature'},\n",
       "  {'geometry': {'coordinates': [8.9142, 56.0748], 'type': 'Point'},\n",
       "   'properties': {'color': '#990000',\n",
       "    'fillColor': '#990000',\n",
       "    'fillOpacity': 0.5,\n",
       "    'weight': 1},\n",
       "   'type': 'Feature'},\n",
       "  {'geometry': {'coordinates': [8.9862, 56.0756], 'type': 'Point'},\n",
       "   'properties': {'color': '#990000',\n",
       "    'fillColor': '#990000',\n",
       "    'fillOpacity': 0.5,\n",
       "    'weight': 1},\n",
       "   'type': 'Feature'},\n",
       "  {'geometry': {'coordinates': [8.9163, 56.0758], 'type': 'Point'},\n",
       "   'properties': {'color': '#990000',\n",
       "    'fillColor': '#990000',\n",
       "    'fillOpacity': 0.5,\n",
       "    'weight': 1},\n",
       "   'type': 'Feature'},\n",
       "  {'geometry': {'coordinates': [8.9972, 56.0759], 'type': 'Point'},\n",
       "   'properties': {'color': '#990000',\n",
       "    'fillColor': '#990000',\n",
       "    'fillOpacity': 0.5,\n",
       "    'weight': 1},\n",
       "   'type': 'Feature'},\n",
       "  {'geometry': {'coordinates': [8.997, 56.076], 'type': 'Point'},\n",
       "   'properties': {'color': '#990000',\n",
       "    'fillColor': '#990000',\n",
       "    'fillOpacity': 0.5,\n",
       "    'weight': 1},\n",
       "   'type': 'Feature'},\n",
       "  {'geometry': {'coordinates': [8.997, 56.0761], 'type': 'Point'},\n",
       "   'properties': {'color': '#990000',\n",
       "    'fillColor': '#990000',\n",
       "    'fillOpacity': 0.5,\n",
       "    'weight': 1},\n",
       "   'type': 'Feature'},\n",
       "  {'geometry': {'coordinates': [8.9972, 56.0763], 'type': 'Point'},\n",
       "   'properties': {'color': '#990000',\n",
       "    'fillColor': '#990000',\n",
       "    'fillOpacity': 0.5,\n",
       "    'weight': 1},\n",
       "   'type': 'Feature'},\n",
       "  {'geometry': {'coordinates': [8.7809, 56.0764], 'type': 'Point'},\n",
       "   'properties': {'color': '#990000',\n",
       "    'fillColor': '#990000',\n",
       "    'fillOpacity': 0.5,\n",
       "    'weight': 1},\n",
       "   'type': 'Feature'},\n",
       "  {'geometry': {'coordinates': [8.9123, 56.0765], 'type': 'Point'},\n",
       "   'properties': {'color': '#990000',\n",
       "    'fillColor': '#990000',\n",
       "    'fillOpacity': 0.5,\n",
       "    'weight': 1},\n",
       "   'type': 'Feature'},\n",
       "  {'geometry': {'coordinates': [8.9972, 56.0768], 'type': 'Point'},\n",
       "   'properties': {'color': '#990000',\n",
       "    'fillColor': '#990000',\n",
       "    'fillOpacity': 0.5,\n",
       "    'weight': 1},\n",
       "   'type': 'Feature'},\n",
       "  {'geometry': {'coordinates': [8.9131, 56.0769], 'type': 'Point'},\n",
       "   'properties': {'color': '#990000',\n",
       "    'fillColor': '#990000',\n",
       "    'fillOpacity': 0.5,\n",
       "    'weight': 1},\n",
       "   'type': 'Feature'},\n",
       "  {'geometry': {'coordinates': [8.9777, 56.0783], 'type': 'Point'},\n",
       "   'properties': {'color': '#990000',\n",
       "    'fillColor': '#990000',\n",
       "    'fillOpacity': 0.5,\n",
       "    'weight': 1},\n",
       "   'type': 'Feature'},\n",
       "  {'geometry': {'coordinates': [8.9974, 56.0784], 'type': 'Point'},\n",
       "   'properties': {'color': '#990000',\n",
       "    'fillColor': '#990000',\n",
       "    'fillOpacity': 0.5,\n",
       "    'weight': 1},\n",
       "   'type': 'Feature'},\n",
       "  {'geometry': {'coordinates': [8.9136, 56.0799], 'type': 'Point'},\n",
       "   'properties': {'color': '#990000',\n",
       "    'fillColor': '#990000',\n",
       "    'fillOpacity': 0.5,\n",
       "    'weight': 1},\n",
       "   'type': 'Feature'},\n",
       "  {'geometry': {'coordinates': [8.9157, 56.0799], 'type': 'Point'},\n",
       "   'properties': {'color': '#990000',\n",
       "    'fillColor': '#990000',\n",
       "    'fillOpacity': 0.5,\n",
       "    'weight': 1},\n",
       "   'type': 'Feature'},\n",
       "  {'geometry': {'coordinates': [8.916, 56.0803], 'type': 'Point'},\n",
       "   'properties': {'color': '#990000',\n",
       "    'fillColor': '#990000',\n",
       "    'fillOpacity': 0.5,\n",
       "    'weight': 1},\n",
       "   'type': 'Feature'},\n",
       "  {'geometry': {'coordinates': [8.9161, 56.0803], 'type': 'Point'},\n",
       "   'properties': {'color': '#990000',\n",
       "    'fillColor': '#990000',\n",
       "    'fillOpacity': 0.5,\n",
       "    'weight': 1},\n",
       "   'type': 'Feature'},\n",
       "  {'geometry': {'coordinates': [8.9976, 56.0804], 'type': 'Point'},\n",
       "   'properties': {'color': '#990000',\n",
       "    'fillColor': '#990000',\n",
       "    'fillOpacity': 0.5,\n",
       "    'weight': 1},\n",
       "   'type': 'Feature'},\n",
       "  {'geometry': {'coordinates': [8.9163, 56.0805], 'type': 'Point'},\n",
       "   'properties': {'color': '#990000',\n",
       "    'fillColor': '#990000',\n",
       "    'fillOpacity': 0.5,\n",
       "    'weight': 1},\n",
       "   'type': 'Feature'},\n",
       "  {'geometry': {'coordinates': [8.9965, 56.0813], 'type': 'Point'},\n",
       "   'properties': {'color': '#990000',\n",
       "    'fillColor': '#990000',\n",
       "    'fillOpacity': 0.5,\n",
       "    'weight': 1},\n",
       "   'type': 'Feature'},\n",
       "  {'geometry': {'coordinates': [8.9175, 56.0818], 'type': 'Point'},\n",
       "   'properties': {'color': '#990000',\n",
       "    'fillColor': '#990000',\n",
       "    'fillOpacity': 0.5,\n",
       "    'weight': 1},\n",
       "   'type': 'Feature'},\n",
       "  {'geometry': {'coordinates': [8.998, 56.0818], 'type': 'Point'},\n",
       "   'properties': {'color': '#990000',\n",
       "    'fillColor': '#990000',\n",
       "    'fillOpacity': 0.5,\n",
       "    'weight': 1},\n",
       "   'type': 'Feature'},\n",
       "  {'geometry': {'coordinates': [8.9174, 56.082], 'type': 'Point'},\n",
       "   'properties': {'color': '#990000',\n",
       "    'fillColor': '#990000',\n",
       "    'fillOpacity': 0.5,\n",
       "    'weight': 1},\n",
       "   'type': 'Feature'},\n",
       "  {'geometry': {'coordinates': [8.9823, 56.0823], 'type': 'Point'},\n",
       "   'properties': {'color': '#990000',\n",
       "    'fillColor': '#990000',\n",
       "    'fillOpacity': 0.5,\n",
       "    'weight': 1},\n",
       "   'type': 'Feature'},\n",
       "  {'geometry': {'coordinates': [8.7537, 56.0824], 'type': 'Point'},\n",
       "   'properties': {'color': '#990000',\n",
       "    'fillColor': '#990000',\n",
       "    'fillOpacity': 0.5,\n",
       "    'weight': 1},\n",
       "   'type': 'Feature'},\n",
       "  {'geometry': {'coordinates': [8.9901, 56.0825], 'type': 'Point'},\n",
       "   'properties': {'color': '#990000',\n",
       "    'fillColor': '#990000',\n",
       "    'fillOpacity': 0.5,\n",
       "    'weight': 1},\n",
       "   'type': 'Feature'},\n",
       "  {'geometry': {'coordinates': [8.918, 56.0826], 'type': 'Point'},\n",
       "   'properties': {'color': '#990000',\n",
       "    'fillColor': '#990000',\n",
       "    'fillOpacity': 0.5,\n",
       "    'weight': 1},\n",
       "   'type': 'Feature'},\n",
       "  {'geometry': {'coordinates': [8.9848, 56.0827], 'type': 'Point'},\n",
       "   'properties': {'color': '#990000',\n",
       "    'fillColor': '#990000',\n",
       "    'fillOpacity': 0.5,\n",
       "    'weight': 1},\n",
       "   'type': 'Feature'},\n",
       "  {'geometry': {'coordinates': [8.9856, 56.0828], 'type': 'Point'},\n",
       "   'properties': {'color': '#990000',\n",
       "    'fillColor': '#990000',\n",
       "    'fillOpacity': 0.5,\n",
       "    'weight': 1},\n",
       "   'type': 'Feature'},\n",
       "  {'geometry': {'coordinates': [8.9983, 56.0828], 'type': 'Point'},\n",
       "   'properties': {'color': '#990000',\n",
       "    'fillColor': '#990000',\n",
       "    'fillOpacity': 0.5,\n",
       "    'weight': 1},\n",
       "   'type': 'Feature'},\n",
       "  {'geometry': {'coordinates': [8.9848, 56.0829], 'type': 'Point'},\n",
       "   'properties': {'color': '#990000',\n",
       "    'fillColor': '#990000',\n",
       "    'fillOpacity': 0.5,\n",
       "    'weight': 1},\n",
       "   'type': 'Feature'},\n",
       "  {'geometry': {'coordinates': [9.0875, 56.0829], 'type': 'Point'},\n",
       "   'properties': {'color': '#990000',\n",
       "    'fillColor': '#990000',\n",
       "    'fillOpacity': 0.5,\n",
       "    'weight': 1},\n",
       "   'type': 'Feature'},\n",
       "  {'geometry': {'coordinates': [8.9848, 56.083], 'type': 'Point'},\n",
       "   'properties': {'color': '#990000',\n",
       "    'fillColor': '#990000',\n",
       "    'fillOpacity': 0.5,\n",
       "    'weight': 1},\n",
       "   'type': 'Feature'},\n",
       "  {'geometry': {'coordinates': [8.9983, 56.083], 'type': 'Point'},\n",
       "   'properties': {'color': '#990000',\n",
       "    'fillColor': '#990000',\n",
       "    'fillOpacity': 0.5,\n",
       "    'weight': 1},\n",
       "   'type': 'Feature'},\n",
       "  {'geometry': {'coordinates': [8.4187, 56.0831], 'type': 'Point'},\n",
       "   'properties': {'color': '#990000',\n",
       "    'fillColor': '#990000',\n",
       "    'fillOpacity': 0.5,\n",
       "    'weight': 1},\n",
       "   'type': 'Feature'},\n",
       "  {'geometry': {'coordinates': [8.9129, 56.0831], 'type': 'Point'},\n",
       "   'properties': {'color': '#990000',\n",
       "    'fillColor': '#990000',\n",
       "    'fillOpacity': 0.5,\n",
       "    'weight': 1},\n",
       "   'type': 'Feature'},\n",
       "  {'geometry': {'coordinates': [8.9807, 56.0831], 'type': 'Point'},\n",
       "   'properties': {'color': '#990000',\n",
       "    'fillColor': '#990000',\n",
       "    'fillOpacity': 0.5,\n",
       "    'weight': 1},\n",
       "   'type': 'Feature'},\n",
       "  {'geometry': {'coordinates': [8.9822, 56.0832], 'type': 'Point'},\n",
       "   'properties': {'color': '#990000',\n",
       "    'fillColor': '#990000',\n",
       "    'fillOpacity': 0.5,\n",
       "    'weight': 1},\n",
       "   'type': 'Feature'},\n",
       "  {'geometry': {'coordinates': [8.8436, 56.0835], 'type': 'Point'},\n",
       "   'properties': {'color': '#990000',\n",
       "    'fillColor': '#990000',\n",
       "    'fillOpacity': 0.5,\n",
       "    'weight': 1},\n",
       "   'type': 'Feature'},\n",
       "  {'geometry': {'coordinates': [8.8803, 56.0837], 'type': 'Point'},\n",
       "   'properties': {'color': '#990000',\n",
       "    'fillColor': '#990000',\n",
       "    'fillOpacity': 0.5,\n",
       "    'weight': 1},\n",
       "   'type': 'Feature'},\n",
       "  {'geometry': {'coordinates': [8.9986, 56.0837], 'type': 'Point'},\n",
       "   'properties': {'color': '#990000',\n",
       "    'fillColor': '#990000',\n",
       "    'fillOpacity': 0.5,\n",
       "    'weight': 1},\n",
       "   'type': 'Feature'},\n",
       "  {'geometry': {'coordinates': [8.9985, 56.0839], 'type': 'Point'},\n",
       "   'properties': {'color': '#990000',\n",
       "    'fillColor': '#990000',\n",
       "    'fillOpacity': 0.5,\n",
       "    'weight': 1},\n",
       "   'type': 'Feature'},\n",
       "  {'geometry': {'coordinates': [9.0029, 56.0839], 'type': 'Point'},\n",
       "   'properties': {'color': '#990000',\n",
       "    'fillColor': '#990000',\n",
       "    'fillOpacity': 0.5,\n",
       "    'weight': 1},\n",
       "   'type': 'Feature'},\n",
       "  {'geometry': {'coordinates': [8.9194, 56.084], 'type': 'Point'},\n",
       "   'properties': {'color': '#990000',\n",
       "    'fillColor': '#990000',\n",
       "    'fillOpacity': 0.5,\n",
       "    'weight': 1},\n",
       "   'type': 'Feature'},\n",
       "  {'geometry': {'coordinates': [8.9162, 56.0841], 'type': 'Point'},\n",
       "   'properties': {'color': '#990000',\n",
       "    'fillColor': '#990000',\n",
       "    'fillOpacity': 0.5,\n",
       "    'weight': 1},\n",
       "   'type': 'Feature'},\n",
       "  {'geometry': {'coordinates': [8.9972, 56.0842], 'type': 'Point'},\n",
       "   'properties': {'color': '#990000',\n",
       "    'fillColor': '#990000',\n",
       "    'fillOpacity': 0.5,\n",
       "    'weight': 1},\n",
       "   'type': 'Feature'},\n",
       "  {'geometry': {'coordinates': [8.9749, 56.0848], 'type': 'Point'},\n",
       "   'properties': {'color': '#990000',\n",
       "    'fillColor': '#990000',\n",
       "    'fillOpacity': 0.5,\n",
       "    'weight': 1},\n",
       "   'type': 'Feature'},\n",
       "  {'geometry': {'coordinates': [8.9847, 56.0849], 'type': 'Point'},\n",
       "   'properties': {'color': '#990000',\n",
       "    'fillColor': '#990000',\n",
       "    'fillOpacity': 0.5,\n",
       "    'weight': 1},\n",
       "   'type': 'Feature'},\n",
       "  {'geometry': {'coordinates': [8.9201, 56.0852], 'type': 'Point'},\n",
       "   'properties': {'color': '#990000',\n",
       "    'fillColor': '#990000',\n",
       "    'fillOpacity': 0.5,\n",
       "    'weight': 1},\n",
       "   'type': 'Feature'},\n",
       "  {'geometry': {'coordinates': [8.9203, 56.0854], 'type': 'Point'},\n",
       "   'properties': {'color': '#990000',\n",
       "    'fillColor': '#990000',\n",
       "    'fillOpacity': 0.5,\n",
       "    'weight': 1},\n",
       "   'type': 'Feature'},\n",
       "  {'geometry': {'coordinates': [8.9781, 56.0855], 'type': 'Point'},\n",
       "   'properties': {'color': '#990000',\n",
       "    'fillColor': '#990000',\n",
       "    'fillOpacity': 0.5,\n",
       "    'weight': 1},\n",
       "   'type': 'Feature'},\n",
       "  {'geometry': {'coordinates': [8.9814, 56.0855], 'type': 'Point'},\n",
       "   'properties': {'color': '#990000',\n",
       "    'fillColor': '#990000',\n",
       "    'fillOpacity': 0.5,\n",
       "    'weight': 1},\n",
       "   'type': 'Feature'},\n",
       "  {'geometry': {'coordinates': [8.9993, 56.0858], 'type': 'Point'},\n",
       "   'properties': {'color': '#990000',\n",
       "    'fillColor': '#990000',\n",
       "    'fillOpacity': 0.5,\n",
       "    'weight': 1},\n",
       "   'type': 'Feature'},\n",
       "  {'geometry': {'coordinates': [8.7025, 56.0864], 'type': 'Point'},\n",
       "   'properties': {'color': '#990000',\n",
       "    'fillColor': '#990000',\n",
       "    'fillOpacity': 0.5,\n",
       "    'weight': 1},\n",
       "   'type': 'Feature'},\n",
       "  {'geometry': {'coordinates': [8.9995, 56.0864], 'type': 'Point'},\n",
       "   'properties': {'color': '#990000',\n",
       "    'fillColor': '#990000',\n",
       "    'fillOpacity': 0.5,\n",
       "    'weight': 1},\n",
       "   'type': 'Feature'},\n",
       "  {'geometry': {'coordinates': [8.8759, 56.0867], 'type': 'Point'},\n",
       "   'properties': {'color': '#990000',\n",
       "    'fillColor': '#990000',\n",
       "    'fillOpacity': 0.5,\n",
       "    'weight': 1},\n",
       "   'type': 'Feature'},\n",
       "  {'geometry': {'coordinates': [8.9213, 56.0869], 'type': 'Point'},\n",
       "   'properties': {'color': '#990000',\n",
       "    'fillColor': '#990000',\n",
       "    'fillOpacity': 0.5,\n",
       "    'weight': 1},\n",
       "   'type': 'Feature'},\n",
       "  {'geometry': {'coordinates': [9.0221, 56.0869], 'type': 'Point'},\n",
       "   'properties': {'color': '#990000',\n",
       "    'fillColor': '#990000',\n",
       "    'fillOpacity': 0.5,\n",
       "    'weight': 1},\n",
       "   'type': 'Feature'},\n",
       "  {'geometry': {'coordinates': [9.0002, 56.087], 'type': 'Point'},\n",
       "   'properties': {'color': '#990000',\n",
       "    'fillColor': '#990000',\n",
       "    'fillOpacity': 0.5,\n",
       "    'weight': 1},\n",
       "   'type': 'Feature'},\n",
       "  {'geometry': {'coordinates': [8.922, 56.0876], 'type': 'Point'},\n",
       "   'properties': {'color': '#990000',\n",
       "    'fillColor': '#990000',\n",
       "    'fillOpacity': 0.5,\n",
       "    'weight': 1},\n",
       "   'type': 'Feature'},\n",
       "  {'geometry': {'coordinates': [8.9222, 56.0876], 'type': 'Point'},\n",
       "   'properties': {'color': '#990000',\n",
       "    'fillColor': '#990000',\n",
       "    'fillOpacity': 0.5,\n",
       "    'weight': 1},\n",
       "   'type': 'Feature'},\n",
       "  {'geometry': {'coordinates': [9.0001, 56.0878], 'type': 'Point'},\n",
       "   'properties': {'color': '#990000',\n",
       "    'fillColor': '#990000',\n",
       "    'fillOpacity': 0.5,\n",
       "    'weight': 1},\n",
       "   'type': 'Feature'},\n",
       "  {'geometry': {'coordinates': [8.9224, 56.0879], 'type': 'Point'},\n",
       "   'properties': {'color': '#990000',\n",
       "    'fillColor': '#990000',\n",
       "    'fillOpacity': 0.5,\n",
       "    'weight': 1},\n",
       "   'type': 'Feature'},\n",
       "  {'geometry': {'coordinates': [9.0306, 56.0879], 'type': 'Point'},\n",
       "   'properties': {'color': '#990000',\n",
       "    'fillColor': '#990000',\n",
       "    'fillOpacity': 0.5,\n",
       "    'weight': 1},\n",
       "   'type': 'Feature'},\n",
       "  {'geometry': {'coordinates': [8.944, 56.0882], 'type': 'Point'},\n",
       "   'properties': {'color': '#990000',\n",
       "    'fillColor': '#990000',\n",
       "    'fillOpacity': 0.5,\n",
       "    'weight': 1},\n",
       "   'type': 'Feature'},\n",
       "  {'geometry': {'coordinates': [8.9066, 56.0883], 'type': 'Point'},\n",
       "   'properties': {'color': '#990000',\n",
       "    'fillColor': '#990000',\n",
       "    'fillOpacity': 0.5,\n",
       "    'weight': 1},\n",
       "   'type': 'Feature'},\n",
       "  {'geometry': {'coordinates': [8.942, 56.0883], 'type': 'Point'},\n",
       "   'properties': {'color': '#990000',\n",
       "    'fillColor': '#990000',\n",
       "    'fillOpacity': 0.5,\n",
       "    'weight': 1},\n",
       "   'type': 'Feature'},\n",
       "  {'geometry': {'coordinates': [8.9797, 56.0883], 'type': 'Point'},\n",
       "   'properties': {'color': '#990000',\n",
       "    'fillColor': '#990000',\n",
       "    'fillOpacity': 0.5,\n",
       "    'weight': 1},\n",
       "   'type': 'Feature'},\n",
       "  {'geometry': {'coordinates': [8.923, 56.0885], 'type': 'Point'},\n",
       "   'properties': {'color': '#990000',\n",
       "    'fillColor': '#990000',\n",
       "    'fillOpacity': 0.5,\n",
       "    'weight': 1},\n",
       "   'type': 'Feature'},\n",
       "  {'geometry': {'coordinates': [8.9043, 56.0886], 'type': 'Point'},\n",
       "   'properties': {'color': '#990000',\n",
       "    'fillColor': '#990000',\n",
       "    'fillOpacity': 0.5,\n",
       "    'weight': 1},\n",
       "   'type': 'Feature'},\n",
       "  {'geometry': {'coordinates': [8.9462, 56.0887], 'type': 'Point'},\n",
       "   'properties': {'color': '#990000',\n",
       "    'fillColor': '#990000',\n",
       "    'fillOpacity': 0.5,\n",
       "    'weight': 1},\n",
       "   'type': 'Feature'},\n",
       "  {'geometry': {'coordinates': [8.981, 56.0887], 'type': 'Point'},\n",
       "   'properties': {'color': '#990000',\n",
       "    'fillColor': '#990000',\n",
       "    'fillOpacity': 0.5,\n",
       "    'weight': 1},\n",
       "   'type': 'Feature'},\n",
       "  {'geometry': {'coordinates': [8.6252, 56.0888], 'type': 'Point'},\n",
       "   'properties': {'color': '#990000',\n",
       "    'fillColor': '#990000',\n",
       "    'fillOpacity': 0.5,\n",
       "    'weight': 1},\n",
       "   'type': 'Feature'},\n",
       "  {'geometry': {'coordinates': [8.9069, 56.0893], 'type': 'Point'},\n",
       "   'properties': {'color': '#990000',\n",
       "    'fillColor': '#990000',\n",
       "    'fillOpacity': 0.5,\n",
       "    'weight': 1},\n",
       "   'type': 'Feature'},\n",
       "  {'geometry': {'coordinates': [8.9075, 56.0893], 'type': 'Point'},\n",
       "   'properties': {'color': '#990000',\n",
       "    'fillColor': '#990000',\n",
       "    'fillOpacity': 0.5,\n",
       "    'weight': 1},\n",
       "   'type': 'Feature'},\n",
       "  {'geometry': {'coordinates': [8.9008, 56.0894], 'type': 'Point'},\n",
       "   'properties': {'color': '#990000',\n",
       "    'fillColor': '#990000',\n",
       "    'fillOpacity': 0.5,\n",
       "    'weight': 1},\n",
       "   'type': 'Feature'},\n",
       "  {'geometry': {'coordinates': [8.9047, 56.0894], 'type': 'Point'},\n",
       "   'properties': {'color': '#990000',\n",
       "    'fillColor': '#990000',\n",
       "    'fillOpacity': 0.5,\n",
       "    'weight': 1},\n",
       "   'type': 'Feature'},\n",
       "  {'geometry': {'coordinates': [8.9049, 56.0894], 'type': 'Point'},\n",
       "   'properties': {'color': '#990000',\n",
       "    'fillColor': '#990000',\n",
       "    'fillOpacity': 0.5,\n",
       "    'weight': 1},\n",
       "   'type': 'Feature'},\n",
       "  {'geometry': {'coordinates': [8.9074, 56.0894], 'type': 'Point'},\n",
       "   'properties': {'color': '#990000',\n",
       "    'fillColor': '#990000',\n",
       "    'fillOpacity': 0.5,\n",
       "    'weight': 1},\n",
       "   'type': 'Feature'},\n",
       "  {'geometry': {'coordinates': [8.9075, 56.0894], 'type': 'Point'},\n",
       "   'properties': {'color': '#990000',\n",
       "    'fillColor': '#990000',\n",
       "    'fillOpacity': 0.5,\n",
       "    'weight': 1},\n",
       "   'type': 'Feature'},\n",
       "  {'geometry': {'coordinates': [8.9084, 56.0894], 'type': 'Point'},\n",
       "   'properties': {'color': '#990000',\n",
       "    'fillColor': '#990000',\n",
       "    'fillOpacity': 0.5,\n",
       "    'weight': 1},\n",
       "   'type': 'Feature'},\n",
       "  {'geometry': {'coordinates': [8.9539, 56.0894], 'type': 'Point'},\n",
       "   'properties': {'color': '#990000',\n",
       "    'fillColor': '#990000',\n",
       "    'fillOpacity': 0.5,\n",
       "    'weight': 1},\n",
       "   'type': 'Feature'},\n",
       "  {'geometry': {'coordinates': [9.0005, 56.0894], 'type': 'Point'},\n",
       "   'properties': {'color': '#990000',\n",
       "    'fillColor': '#990000',\n",
       "    'fillOpacity': 0.5,\n",
       "    'weight': 1},\n",
       "   'type': 'Feature'},\n",
       "  {'geometry': {'coordinates': [8.8498, 56.0898], 'type': 'Point'},\n",
       "   'properties': {'color': '#990000',\n",
       "    'fillColor': '#990000',\n",
       "    'fillOpacity': 0.5,\n",
       "    'weight': 1},\n",
       "   'type': 'Feature'},\n",
       "  {'geometry': {'coordinates': [8.9525, 56.0898], 'type': 'Point'},\n",
       "   'properties': {'color': '#990000',\n",
       "    'fillColor': '#990000',\n",
       "    'fillOpacity': 0.5,\n",
       "    'weight': 1},\n",
       "   'type': 'Feature'},\n",
       "  {'geometry': {'coordinates': [8.9127, 56.0899], 'type': 'Point'},\n",
       "   'properties': {'color': '#990000',\n",
       "    'fillColor': '#990000',\n",
       "    'fillOpacity': 0.5,\n",
       "    'weight': 1},\n",
       "   'type': 'Feature'},\n",
       "  {'geometry': {'coordinates': [8.953, 56.0899], 'type': 'Point'},\n",
       "   'properties': {'color': '#990000',\n",
       "    'fillColor': '#990000',\n",
       "    'fillOpacity': 0.5,\n",
       "    'weight': 1},\n",
       "   'type': 'Feature'},\n",
       "  {'geometry': {'coordinates': [8.9128, 56.09], 'type': 'Point'},\n",
       "   'properties': {'color': '#990000',\n",
       "    'fillColor': '#990000',\n",
       "    'fillOpacity': 0.5,\n",
       "    'weight': 1},\n",
       "   'type': 'Feature'},\n",
       "  {'geometry': {'coordinates': [8.9129, 56.09], 'type': 'Point'},\n",
       "   'properties': {'color': '#990000',\n",
       "    'fillColor': '#990000',\n",
       "    'fillOpacity': 0.5,\n",
       "    'weight': 1},\n",
       "   'type': 'Feature'},\n",
       "  {'geometry': {'coordinates': [9.03, 56.09], 'type': 'Point'},\n",
       "   'properties': {'color': '#990000',\n",
       "    'fillColor': '#990000',\n",
       "    'fillOpacity': 0.5,\n",
       "    'weight': 1},\n",
       "   'type': 'Feature'},\n",
       "  {'geometry': {'coordinates': [8.5869, 56.0901], 'type': 'Point'},\n",
       "   'properties': {'color': '#990000',\n",
       "    'fillColor': '#990000',\n",
       "    'fillOpacity': 0.5,\n",
       "    'weight': 1},\n",
       "   'type': 'Feature'},\n",
       "  {'geometry': {'coordinates': [8.9125, 56.0901], 'type': 'Point'},\n",
       "   'properties': {'color': '#990000',\n",
       "    'fillColor': '#990000',\n",
       "    'fillOpacity': 0.5,\n",
       "    'weight': 1},\n",
       "   'type': 'Feature'},\n",
       "  {'geometry': {'coordinates': [8.9128, 56.0901], 'type': 'Point'},\n",
       "   'properties': {'color': '#990000',\n",
       "    'fillColor': '#990000',\n",
       "    'fillOpacity': 0.5,\n",
       "    'weight': 1},\n",
       "   'type': 'Feature'},\n",
       "  {'geometry': {'coordinates': [8.9129, 56.0901], 'type': 'Point'},\n",
       "   'properties': {'color': '#990000',\n",
       "    'fillColor': '#990000',\n",
       "    'fillOpacity': 0.5,\n",
       "    'weight': 1},\n",
       "   'type': 'Feature'},\n",
       "  {'geometry': {'coordinates': [8.5876, 56.0902], 'type': 'Point'},\n",
       "   'properties': {'color': '#990000',\n",
       "    'fillColor': '#990000',\n",
       "    'fillOpacity': 0.5,\n",
       "    'weight': 1},\n",
       "   'type': 'Feature'},\n",
       "  {'geometry': {'coordinates': [8.8716, 56.0902], 'type': 'Point'},\n",
       "   'properties': {'color': '#990000',\n",
       "    'fillColor': '#990000',\n",
       "    'fillOpacity': 0.5,\n",
       "    'weight': 1},\n",
       "   'type': 'Feature'},\n",
       "  {'geometry': {'coordinates': [8.913, 56.0902], 'type': 'Point'},\n",
       "   'properties': {'color': '#990000',\n",
       "    'fillColor': '#990000',\n",
       "    'fillOpacity': 0.5,\n",
       "    'weight': 1},\n",
       "   'type': 'Feature'},\n",
       "  {'geometry': {'coordinates': [8.9131, 56.0902], 'type': 'Point'},\n",
       "   'properties': {'color': '#990000',\n",
       "    'fillColor': '#990000',\n",
       "    'fillOpacity': 0.5,\n",
       "    'weight': 1},\n",
       "   'type': 'Feature'},\n",
       "  {'geometry': {'coordinates': [8.9555, 56.0902], 'type': 'Point'},\n",
       "   'properties': {'color': '#990000',\n",
       "    'fillColor': '#990000',\n",
       "    'fillOpacity': 0.5,\n",
       "    'weight': 1},\n",
       "   'type': 'Feature'},\n",
       "  {'geometry': {'coordinates': [8.9579, 56.0902], 'type': 'Point'},\n",
       "   'properties': {'color': '#990000',\n",
       "    'fillColor': '#990000',\n",
       "    'fillOpacity': 0.5,\n",
       "    'weight': 1},\n",
       "   'type': 'Feature'},\n",
       "  {'geometry': {'coordinates': [8.961, 56.0902], 'type': 'Point'},\n",
       "   'properties': {'color': '#990000',\n",
       "    'fillColor': '#990000',\n",
       "    'fillOpacity': 0.5,\n",
       "    'weight': 1},\n",
       "   'type': 'Feature'},\n",
       "  {'geometry': {'coordinates': [8.9243, 56.0903], 'type': 'Point'},\n",
       "   'properties': {'color': '#990000',\n",
       "    'fillColor': '#990000',\n",
       "    'fillOpacity': 0.5,\n",
       "    'weight': 1},\n",
       "   'type': 'Feature'},\n",
       "  {'geometry': {'coordinates': [8.9596, 56.0903], 'type': 'Point'},\n",
       "   'properties': {'color': '#990000',\n",
       "    'fillColor': '#990000',\n",
       "    'fillOpacity': 0.5,\n",
       "    'weight': 1},\n",
       "   'type': 'Feature'},\n",
       "  {'geometry': {'coordinates': [8.9123, 56.0904], 'type': 'Point'},\n",
       "   'properties': {'color': '#990000',\n",
       "    'fillColor': '#990000',\n",
       "    'fillOpacity': 0.5,\n",
       "    'weight': 1},\n",
       "   'type': 'Feature'},\n",
       "  {'geometry': {'coordinates': [8.9589, 56.0905], 'type': 'Point'},\n",
       "   'properties': {'color': '#990000',\n",
       "    'fillColor': '#990000',\n",
       "    'fillOpacity': 0.5,\n",
       "    'weight': 1},\n",
       "   'type': 'Feature'},\n",
       "  {'geometry': {'coordinates': [9.1088, 56.0906], 'type': 'Point'},\n",
       "   'properties': {'color': '#990000',\n",
       "    'fillColor': '#990000',\n",
       "    'fillOpacity': 0.5,\n",
       "    'weight': 1},\n",
       "   'type': 'Feature'},\n",
       "  {'geometry': {'coordinates': [8.9292, 56.0907], 'type': 'Point'},\n",
       "   'properties': {'color': '#990000',\n",
       "    'fillColor': '#990000',\n",
       "    'fillOpacity': 0.5,\n",
       "    'weight': 1},\n",
       "   'type': 'Feature'},\n",
       "  {'geometry': {'coordinates': [8.925, 56.0908], 'type': 'Point'},\n",
       "   'properties': {'color': '#990000',\n",
       "    'fillColor': '#990000',\n",
       "    'fillOpacity': 0.5,\n",
       "    'weight': 1},\n",
       "   'type': 'Feature'},\n",
       "  {'geometry': {'coordinates': [8.9622, 56.0908], 'type': 'Point'},\n",
       "   'properties': {'color': '#990000',\n",
       "    'fillColor': '#990000',\n",
       "    'fillOpacity': 0.5,\n",
       "    'weight': 1},\n",
       "   'type': 'Feature'},\n",
       "  {'geometry': {'coordinates': [8.8932, 56.0909], 'type': 'Point'},\n",
       "   'properties': {'color': '#990000',\n",
       "    'fillColor': '#990000',\n",
       "    'fillOpacity': 0.5,\n",
       "    'weight': 1},\n",
       "   'type': 'Feature'},\n",
       "  {'geometry': {'coordinates': [8.9102, 56.0909], 'type': 'Point'},\n",
       "   'properties': {'color': '#990000',\n",
       "    'fillColor': '#990000',\n",
       "    'fillOpacity': 0.5,\n",
       "    'weight': 1},\n",
       "   'type': 'Feature'},\n",
       "  {'geometry': {'coordinates': [8.9115, 56.0909], 'type': 'Point'},\n",
       "   'properties': {'color': '#990000',\n",
       "    'fillColor': '#990000',\n",
       "    'fillOpacity': 0.5,\n",
       "    'weight': 1},\n",
       "   'type': 'Feature'},\n",
       "  {'geometry': {'coordinates': [8.9247, 56.0909], 'type': 'Point'},\n",
       "   'properties': {'color': '#990000',\n",
       "    'fillColor': '#990000',\n",
       "    'fillOpacity': 0.5,\n",
       "    'weight': 1},\n",
       "   'type': 'Feature'},\n",
       "  {'geometry': {'coordinates': [8.9251, 56.0909], 'type': 'Point'},\n",
       "   'properties': {'color': '#990000',\n",
       "    'fillColor': '#990000',\n",
       "    'fillOpacity': 0.5,\n",
       "    'weight': 1},\n",
       "   'type': 'Feature'},\n",
       "  {'geometry': {'coordinates': [8.9623, 56.091], 'type': 'Point'},\n",
       "   'properties': {'color': '#990000',\n",
       "    'fillColor': '#990000',\n",
       "    'fillOpacity': 0.5,\n",
       "    'weight': 1},\n",
       "   'type': 'Feature'},\n",
       "  {'geometry': {'coordinates': [8.7047, 56.0911], 'type': 'Point'},\n",
       "   'properties': {'color': '#990000',\n",
       "    'fillColor': '#990000',\n",
       "    'fillOpacity': 0.5,\n",
       "    'weight': 1},\n",
       "   'type': 'Feature'},\n",
       "  {'geometry': {'coordinates': [8.9112, 56.0911], 'type': 'Point'},\n",
       "   'properties': {'color': '#990000',\n",
       "    'fillColor': '#990000',\n",
       "    'fillOpacity': 0.5,\n",
       "    'weight': 1},\n",
       "   'type': 'Feature'},\n",
       "  {'geometry': {'coordinates': [8.9117, 56.0911], 'type': 'Point'},\n",
       "   'properties': {'color': '#990000',\n",
       "    'fillColor': '#990000',\n",
       "    'fillOpacity': 0.5,\n",
       "    'weight': 1},\n",
       "   'type': 'Feature'},\n",
       "  {'geometry': {'coordinates': [8.9245, 56.0911], 'type': 'Point'},\n",
       "   'properties': {'color': '#990000',\n",
       "    'fillColor': '#990000',\n",
       "    'fillOpacity': 0.5,\n",
       "    'weight': 1},\n",
       "   'type': 'Feature'},\n",
       "  {'geometry': {'coordinates': [8.9247, 56.0911], 'type': 'Point'},\n",
       "   'properties': {'color': '#990000',\n",
       "    'fillColor': '#990000',\n",
       "    'fillOpacity': 0.5,\n",
       "    'weight': 1},\n",
       "   'type': 'Feature'},\n",
       "  {'geometry': {'coordinates': [8.9255, 56.0911], 'type': 'Point'},\n",
       "   'properties': {'color': '#990000',\n",
       "    'fillColor': '#990000',\n",
       "    'fillOpacity': 0.5,\n",
       "    'weight': 1},\n",
       "   'type': 'Feature'},\n",
       "  {'geometry': {'coordinates': [8.9123, 56.0912], 'type': 'Point'},\n",
       "   'properties': {'color': '#990000',\n",
       "    'fillColor': '#990000',\n",
       "    'fillOpacity': 0.5,\n",
       "    'weight': 1},\n",
       "   'type': 'Feature'},\n",
       "  {'geometry': {'coordinates': [8.9218, 56.0912], 'type': 'Point'},\n",
       "   'properties': {'color': '#990000',\n",
       "    'fillColor': '#990000',\n",
       "    'fillOpacity': 0.5,\n",
       "    'weight': 1},\n",
       "   'type': 'Feature'},\n",
       "  {'geometry': {'coordinates': [8.9234, 56.0912], 'type': 'Point'},\n",
       "   'properties': {'color': '#990000',\n",
       "    'fillColor': '#990000',\n",
       "    'fillOpacity': 0.5,\n",
       "    'weight': 1},\n",
       "   'type': 'Feature'},\n",
       "  {'geometry': {'coordinates': [9.0018, 56.0912], 'type': 'Point'},\n",
       "   'properties': {'color': '#990000',\n",
       "    'fillColor': '#990000',\n",
       "    'fillOpacity': 0.5,\n",
       "    'weight': 1},\n",
       "   'type': 'Feature'},\n",
       "  {'geometry': {'coordinates': [8.9095, 56.0913], 'type': 'Point'},\n",
       "   'properties': {'color': '#990000',\n",
       "    'fillColor': '#990000',\n",
       "    'fillOpacity': 0.5,\n",
       "    'weight': 1},\n",
       "   'type': 'Feature'},\n",
       "  {'geometry': {'coordinates': [8.9117, 56.0913], 'type': 'Point'},\n",
       "   'properties': {'color': '#990000',\n",
       "    'fillColor': '#990000',\n",
       "    'fillOpacity': 0.5,\n",
       "    'weight': 1},\n",
       "   'type': 'Feature'},\n",
       "  {'geometry': {'coordinates': [8.9238, 56.0913], 'type': 'Point'},\n",
       "   'properties': {'color': '#990000',\n",
       "    'fillColor': '#990000',\n",
       "    'fillOpacity': 0.5,\n",
       "    'weight': 1},\n",
       "   'type': 'Feature'},\n",
       "  {'geometry': {'coordinates': [8.9808, 56.0913], 'type': 'Point'},\n",
       "   'properties': {'color': '#990000',\n",
       "    'fillColor': '#990000',\n",
       "    'fillOpacity': 0.5,\n",
       "    'weight': 1},\n",
       "   'type': 'Feature'},\n",
       "  {'geometry': {'coordinates': [8.6316, 56.0914], 'type': 'Point'},\n",
       "   'properties': {'color': '#990000',\n",
       "    'fillColor': '#990000',\n",
       "    'fillOpacity': 0.5,\n",
       "    'weight': 1},\n",
       "   'type': 'Feature'},\n",
       "  {'geometry': {'coordinates': [8.9189, 56.0914], 'type': 'Point'},\n",
       "   'properties': {'color': '#990000',\n",
       "    'fillColor': '#990000',\n",
       "    'fillOpacity': 0.5,\n",
       "    'weight': 1},\n",
       "   'type': 'Feature'},\n",
       "  {'geometry': {'coordinates': [8.9193, 56.0914], 'type': 'Point'},\n",
       "   'properties': {'color': '#990000',\n",
       "    'fillColor': '#990000',\n",
       "    'fillOpacity': 0.5,\n",
       "    'weight': 1},\n",
       "   'type': 'Feature'},\n",
       "  {'geometry': {'coordinates': [8.9208, 56.0914], 'type': 'Point'},\n",
       "   'properties': {'color': '#990000',\n",
       "    'fillColor': '#990000',\n",
       "    'fillOpacity': 0.5,\n",
       "    'weight': 1},\n",
       "   'type': 'Feature'},\n",
       "  {'geometry': {'coordinates': [8.9219, 56.0914], 'type': 'Point'},\n",
       "   'properties': {'color': '#990000',\n",
       "    'fillColor': '#990000',\n",
       "    'fillOpacity': 0.5,\n",
       "    'weight': 1},\n",
       "   'type': 'Feature'},\n",
       "  {'geometry': {'coordinates': [8.923, 56.0914], 'type': 'Point'},\n",
       "   'properties': {'color': '#990000',\n",
       "    'fillColor': '#990000',\n",
       "    'fillOpacity': 0.5,\n",
       "    'weight': 1},\n",
       "   'type': 'Feature'},\n",
       "  {'geometry': {'coordinates': [8.9247, 56.0914], 'type': 'Point'},\n",
       "   'properties': {'color': '#990000',\n",
       "    'fillColor': '#990000',\n",
       "    'fillOpacity': 0.5,\n",
       "    'weight': 1},\n",
       "   'type': 'Feature'},\n",
       "  {'geometry': {'coordinates': [8.9664, 56.0914], 'type': 'Point'},\n",
       "   'properties': {'color': '#990000',\n",
       "    'fillColor': '#990000',\n",
       "    'fillOpacity': 0.5,\n",
       "    'weight': 1},\n",
       "   'type': 'Feature'},\n",
       "  {'geometry': {'coordinates': [9.0589, 56.0914], 'type': 'Point'},\n",
       "   'properties': {'color': '#990000',\n",
       "    'fillColor': '#990000',\n",
       "    'fillOpacity': 0.5,\n",
       "    'weight': 1},\n",
       "   'type': 'Feature'},\n",
       "  {'geometry': {'coordinates': [8.6376, 56.0915], 'type': 'Point'},\n",
       "   'properties': {'color': '#990000',\n",
       "    'fillColor': '#990000',\n",
       "    'fillOpacity': 0.5,\n",
       "    'weight': 1},\n",
       "   'type': 'Feature'},\n",
       "  {'geometry': {'coordinates': [8.8918, 56.0915], 'type': 'Point'},\n",
       "   'properties': {'color': '#990000',\n",
       "    'fillColor': '#990000',\n",
       "    'fillOpacity': 0.5,\n",
       "    'weight': 1},\n",
       "   'type': 'Feature'},\n",
       "  {'geometry': {'coordinates': [8.9099, 56.0915], 'type': 'Point'},\n",
       "   'properties': {'color': '#990000',\n",
       "    'fillColor': '#990000',\n",
       "    'fillOpacity': 0.5,\n",
       "    'weight': 1},\n",
       "   'type': 'Feature'},\n",
       "  {'geometry': {'coordinates': [8.9118, 56.0915], 'type': 'Point'},\n",
       "   'properties': {'color': '#990000',\n",
       "    'fillColor': '#990000',\n",
       "    'fillOpacity': 0.5,\n",
       "    'weight': 1},\n",
       "   'type': 'Feature'},\n",
       "  {'geometry': {'coordinates': [8.92, 56.0915], 'type': 'Point'},\n",
       "   'properties': {'color': '#990000',\n",
       "    'fillColor': '#990000',\n",
       "    'fillOpacity': 0.5,\n",
       "    'weight': 1},\n",
       "   'type': 'Feature'},\n",
       "  {'geometry': {'coordinates': [8.9205, 56.0915], 'type': 'Point'},\n",
       "   'properties': {'color': '#990000',\n",
       "    'fillColor': '#990000',\n",
       "    'fillOpacity': 0.5,\n",
       "    'weight': 1},\n",
       "   'type': 'Feature'},\n",
       "  {'geometry': {'coordinates': [8.9544, 56.0915], 'type': 'Point'},\n",
       "   'properties': {'color': '#990000',\n",
       "    'fillColor': '#990000',\n",
       "    'fillOpacity': 0.5,\n",
       "    'weight': 1},\n",
       "   'type': 'Feature'},\n",
       "  {'geometry': {'coordinates': [8.9664, 56.0915], 'type': 'Point'},\n",
       "   'properties': {'color': '#990000',\n",
       "    'fillColor': '#990000',\n",
       "    'fillOpacity': 0.5,\n",
       "    'weight': 1},\n",
       "   'type': 'Feature'},\n",
       "  {'geometry': {'coordinates': [9.0018, 56.0915], 'type': 'Point'},\n",
       "   'properties': {'color': '#990000',\n",
       "    'fillColor': '#990000',\n",
       "    'fillOpacity': 0.5,\n",
       "    'weight': 1},\n",
       "   'type': 'Feature'},\n",
       "  {'geometry': {'coordinates': [8.891, 56.0916], 'type': 'Point'},\n",
       "   'properties': {'color': '#990000',\n",
       "    'fillColor': '#990000',\n",
       "    'fillOpacity': 0.5,\n",
       "    'weight': 1},\n",
       "   'type': 'Feature'},\n",
       "  {'geometry': {'coordinates': [8.9103, 56.0916], 'type': 'Point'},\n",
       "   'properties': {'color': '#990000',\n",
       "    'fillColor': '#990000',\n",
       "    'fillOpacity': 0.5,\n",
       "    'weight': 1},\n",
       "   'type': 'Feature'},\n",
       "  {'geometry': {'coordinates': [8.9107, 56.0916], 'type': 'Point'},\n",
       "   'properties': {'color': '#990000',\n",
       "    'fillColor': '#990000',\n",
       "    'fillOpacity': 0.5,\n",
       "    'weight': 1},\n",
       "   'type': 'Feature'},\n",
       "  {'geometry': {'coordinates': [8.9149, 56.0916], 'type': 'Point'},\n",
       "   'properties': {'color': '#990000',\n",
       "    'fillColor': '#990000',\n",
       "    'fillOpacity': 0.5,\n",
       "    'weight': 1},\n",
       "   'type': 'Feature'},\n",
       "  {'geometry': {'coordinates': [8.9254, 56.0916], 'type': 'Point'},\n",
       "   'properties': {'color': '#990000',\n",
       "    'fillColor': '#990000',\n",
       "    'fillOpacity': 0.5,\n",
       "    'weight': 1},\n",
       "   'type': 'Feature'},\n",
       "  {'geometry': {'coordinates': [8.9266, 56.0916], 'type': 'Point'},\n",
       "   'properties': {'color': '#990000',\n",
       "    'fillColor': '#990000',\n",
       "    'fillOpacity': 0.5,\n",
       "    'weight': 1},\n",
       "   'type': 'Feature'},\n",
       "  {'geometry': {'coordinates': [9.0018, 56.0916], 'type': 'Point'},\n",
       "   'properties': {'color': '#990000',\n",
       "    'fillColor': '#990000',\n",
       "    'fillOpacity': 0.5,\n",
       "    'weight': 1},\n",
       "   'type': 'Feature'},\n",
       "  {'geometry': {'coordinates': [9.4658, 56.0916], 'type': 'Point'},\n",
       "   'properties': {'color': '#990000',\n",
       "    'fillColor': '#990000',\n",
       "    'fillOpacity': 0.5,\n",
       "    'weight': 1},\n",
       "   'type': 'Feature'},\n",
       "  {'geometry': {'coordinates': [8.9094, 56.0917], 'type': 'Point'},\n",
       "   'properties': {'color': '#990000',\n",
       "    'fillColor': '#990000',\n",
       "    'fillOpacity': 0.5,\n",
       "    'weight': 1},\n",
       "   'type': 'Feature'},\n",
       "  {'geometry': {'coordinates': [8.9139, 56.0917], 'type': 'Point'},\n",
       "   'properties': {'color': '#990000',\n",
       "    'fillColor': '#990000',\n",
       "    'fillOpacity': 0.5,\n",
       "    'weight': 1},\n",
       "   'type': 'Feature'},\n",
       "  {'geometry': {'coordinates': [8.9149, 56.0917], 'type': 'Point'},\n",
       "   'properties': {'color': '#990000',\n",
       "    'fillColor': '#990000',\n",
       "    'fillOpacity': 0.5,\n",
       "    'weight': 1},\n",
       "   'type': 'Feature'},\n",
       "  {'geometry': {'coordinates': [8.9261, 56.0917], 'type': 'Point'},\n",
       "   'properties': {'color': '#990000',\n",
       "    'fillColor': '#990000',\n",
       "    'fillOpacity': 0.5,\n",
       "    'weight': 1},\n",
       "   'type': 'Feature'},\n",
       "  {'geometry': {'coordinates': [8.8883, 56.0918], 'type': 'Point'},\n",
       "   'properties': {'color': '#990000',\n",
       "    'fillColor': '#990000',\n",
       "    'fillOpacity': 0.5,\n",
       "    'weight': 1},\n",
       "   'type': 'Feature'},\n",
       "  {'geometry': {'coordinates': [8.9097, 56.0918], 'type': 'Point'},\n",
       "   'properties': {'color': '#990000',\n",
       "    'fillColor': '#990000',\n",
       "    'fillOpacity': 0.5,\n",
       "    'weight': 1},\n",
       "   'type': 'Feature'},\n",
       "  {'geometry': {'coordinates': [8.9105, 56.0918], 'type': 'Point'},\n",
       "   'properties': {'color': '#990000',\n",
       "    'fillColor': '#990000',\n",
       "    'fillOpacity': 0.5,\n",
       "    'weight': 1},\n",
       "   'type': 'Feature'},\n",
       "  {'geometry': {'coordinates': [8.9114, 56.0918], 'type': 'Point'},\n",
       "   'properties': {'color': '#990000',\n",
       "    'fillColor': '#990000',\n",
       "    'fillOpacity': 0.5,\n",
       "    'weight': 1},\n",
       "   'type': 'Feature'},\n",
       "  {'geometry': {'coordinates': [8.9119, 56.0918], 'type': 'Point'},\n",
       "   'properties': {'color': '#990000',\n",
       "    'fillColor': '#990000',\n",
       "    'fillOpacity': 0.5,\n",
       "    'weight': 1},\n",
       "   'type': 'Feature'},\n",
       "  {'geometry': {'coordinates': [8.912, 56.0918], 'type': 'Point'},\n",
       "   'properties': {'color': '#990000',\n",
       "    'fillColor': '#990000',\n",
       "    'fillOpacity': 0.5,\n",
       "    'weight': 1},\n",
       "   'type': 'Feature'},\n",
       "  {'geometry': {'coordinates': [8.923, 56.0918], 'type': 'Point'},\n",
       "   'properties': {'color': '#990000',\n",
       "    'fillColor': '#990000',\n",
       "    'fillOpacity': 0.5,\n",
       "    'weight': 1},\n",
       "   'type': 'Feature'},\n",
       "  {'geometry': {'coordinates': [8.9801, 56.0918], 'type': 'Point'},\n",
       "   'properties': {'color': '#990000',\n",
       "    'fillColor': '#990000',\n",
       "    'fillOpacity': 0.5,\n",
       "    'weight': 1},\n",
       "   'type': 'Feature'},\n",
       "  {'geometry': {'coordinates': [8.9086, 56.0919], 'type': 'Point'},\n",
       "   'properties': {'color': '#990000',\n",
       "    'fillColor': '#990000',\n",
       "    'fillOpacity': 0.5,\n",
       "    'weight': 1},\n",
       "   'type': 'Feature'},\n",
       "  {'geometry': {'coordinates': [8.9109, 56.0919], 'type': 'Point'},\n",
       "   'properties': {'color': '#990000',\n",
       "    'fillColor': '#990000',\n",
       "    'fillOpacity': 0.5,\n",
       "    'weight': 1},\n",
       "   'type': 'Feature'},\n",
       "  {'geometry': {'coordinates': [8.8936, 56.092], 'type': 'Point'},\n",
       "   'properties': {'color': '#990000',\n",
       "    'fillColor': '#990000',\n",
       "    'fillOpacity': 0.5,\n",
       "    'weight': 1},\n",
       "   'type': 'Feature'},\n",
       "  {'geometry': {'coordinates': [8.894, 56.092], 'type': 'Point'},\n",
       "   'properties': {'color': '#990000',\n",
       "    'fillColor': '#990000',\n",
       "    'fillOpacity': 0.5,\n",
       "    'weight': 1},\n",
       "   'type': 'Feature'},\n",
       "  {'geometry': {'coordinates': [8.9108, 56.092], 'type': 'Point'},\n",
       "   'properties': {'color': '#990000',\n",
       "    'fillColor': '#990000',\n",
       "    'fillOpacity': 0.5,\n",
       "    'weight': 1},\n",
       "   'type': 'Feature'},\n",
       "  {'geometry': {'coordinates': [8.9113, 56.092], 'type': 'Point'},\n",
       "   'properties': {'color': '#990000',\n",
       "    'fillColor': '#990000',\n",
       "    'fillOpacity': 0.5,\n",
       "    'weight': 1},\n",
       "   'type': 'Feature'},\n",
       "  {'geometry': {'coordinates': [8.9107, 56.0921], 'type': 'Point'},\n",
       "   'properties': {'color': '#990000',\n",
       "    'fillColor': '#990000',\n",
       "    'fillOpacity': 0.5,\n",
       "    'weight': 1},\n",
       "   'type': 'Feature'},\n",
       "  {'geometry': {'coordinates': [8.9109, 56.0921], 'type': 'Point'},\n",
       "   'properties': {'color': '#990000',\n",
       "    'fillColor': '#990000',\n",
       "    'fillOpacity': 0.5,\n",
       "    'weight': 1},\n",
       "   'type': 'Feature'},\n",
       "  {'geometry': {'coordinates': [8.9807, 56.0921], 'type': 'Point'},\n",
       "   'properties': {'color': '#990000',\n",
       "    'fillColor': '#990000',\n",
       "    'fillOpacity': 0.5,\n",
       "    'weight': 1},\n",
       "   'type': 'Feature'},\n",
       "  {'geometry': {'coordinates': [8.8979, 56.0922], 'type': 'Point'},\n",
       "   'properties': {'color': '#990000',\n",
       "    'fillColor': '#990000',\n",
       "    'fillOpacity': 0.5,\n",
       "    'weight': 1},\n",
       "   'type': 'Feature'},\n",
       "  {'geometry': {'coordinates': [8.9101, 56.0922], 'type': 'Point'},\n",
       "   'properties': {'color': '#990000',\n",
       "    'fillColor': '#990000',\n",
       "    'fillOpacity': 0.5,\n",
       "    'weight': 1},\n",
       "   'type': 'Feature'},\n",
       "  {'geometry': {'coordinates': [8.9262, 56.0923], 'type': 'Point'},\n",
       "   'properties': {'color': '#990000',\n",
       "    'fillColor': '#990000',\n",
       "    'fillOpacity': 0.5,\n",
       "    'weight': 1},\n",
       "   'type': 'Feature'},\n",
       "  {'geometry': {'coordinates': [8.9456, 56.0923], 'type': 'Point'},\n",
       "   'properties': {'color': '#990000',\n",
       "    'fillColor': '#990000',\n",
       "    'fillOpacity': 0.5,\n",
       "    'weight': 1},\n",
       "   'type': 'Feature'},\n",
       "  {'geometry': {'coordinates': [8.9109, 56.0926], 'type': 'Point'},\n",
       "   'properties': {'color': '#990000',\n",
       "    'fillColor': '#990000',\n",
       "    'fillOpacity': 0.5,\n",
       "    'weight': 1},\n",
       "   'type': 'Feature'},\n",
       "  {'geometry': {'coordinates': [9.4374, 56.0926], 'type': 'Point'},\n",
       "   'properties': {'color': '#990000',\n",
       "    'fillColor': '#990000',\n",
       "    'fillOpacity': 0.5,\n",
       "    'weight': 1},\n",
       "   'type': 'Feature'},\n",
       "  {'geometry': {'coordinates': [8.649, 56.0927], 'type': 'Point'},\n",
       "   'properties': {'color': '#990000',\n",
       "    'fillColor': '#990000',\n",
       "    'fillOpacity': 0.5,\n",
       "    'weight': 1},\n",
       "   'type': 'Feature'},\n",
       "  {'geometry': {'coordinates': [9.0025, 56.0927], 'type': 'Point'},\n",
       "   'properties': {'color': '#990000',\n",
       "    'fillColor': '#990000',\n",
       "    'fillOpacity': 0.5,\n",
       "    'weight': 1},\n",
       "   'type': 'Feature'},\n",
       "  {'geometry': {'coordinates': [8.9072, 56.0929], 'type': 'Point'},\n",
       "   'properties': {'color': '#990000',\n",
       "    'fillColor': '#990000',\n",
       "    'fillOpacity': 0.5,\n",
       "    'weight': 1},\n",
       "   'type': 'Feature'},\n",
       "  {'geometry': {'coordinates': [8.9111, 56.0929], 'type': 'Point'},\n",
       "   'properties': {'color': '#990000',\n",
       "    'fillColor': '#990000',\n",
       "    'fillOpacity': 0.5,\n",
       "    'weight': 1},\n",
       "   'type': 'Feature'},\n",
       "  {'geometry': {'coordinates': [8.9137, 56.0929], 'type': 'Point'},\n",
       "   'properties': {'color': '#990000',\n",
       "    'fillColor': '#990000',\n",
       "    'fillOpacity': 0.5,\n",
       "    'weight': 1},\n",
       "   'type': 'Feature'},\n",
       "  {'geometry': {'coordinates': [9.0093, 56.0929], 'type': 'Point'},\n",
       "   'properties': {'color': '#990000',\n",
       "    'fillColor': '#990000',\n",
       "    'fillOpacity': 0.5,\n",
       "    'weight': 1},\n",
       "   'type': 'Feature'},\n",
       "  {'geometry': {'coordinates': [9.0404, 56.0929], 'type': 'Point'},\n",
       "   'properties': {'color': '#990000',\n",
       "    'fillColor': '#990000',\n",
       "    'fillOpacity': 0.5,\n",
       "    'weight': 1},\n",
       "   'type': 'Feature'},\n",
       "  {'geometry': {'coordinates': [9.0286, 56.093], 'type': 'Point'},\n",
       "   'properties': {'color': '#990000',\n",
       "    'fillColor': '#990000',\n",
       "    'fillOpacity': 0.5,\n",
       "    'weight': 1},\n",
       "   'type': 'Feature'},\n",
       "  {'geometry': {'coordinates': [8.9108, 56.0931], 'type': 'Point'},\n",
       "   'properties': {'color': '#990000',\n",
       "    'fillColor': '#990000',\n",
       "    'fillOpacity': 0.5,\n",
       "    'weight': 1},\n",
       "   'type': 'Feature'},\n",
       "  {'geometry': {'coordinates': [8.974, 56.0931], 'type': 'Point'},\n",
       "   'properties': {'color': '#990000',\n",
       "    'fillColor': '#990000',\n",
       "    'fillOpacity': 0.5,\n",
       "    'weight': 1},\n",
       "   'type': 'Feature'},\n",
       "  {'geometry': {'coordinates': [8.9804, 56.0931], 'type': 'Point'},\n",
       "   'properties': {'color': '#990000',\n",
       "    'fillColor': '#990000',\n",
       "    'fillOpacity': 0.5,\n",
       "    'weight': 1},\n",
       "   'type': 'Feature'},\n",
       "  {'geometry': {'coordinates': [8.8893, 56.0932], 'type': 'Point'},\n",
       "   'properties': {'color': '#990000',\n",
       "    'fillColor': '#990000',\n",
       "    'fillOpacity': 0.5,\n",
       "    'weight': 1},\n",
       "   'type': 'Feature'},\n",
       "  {'geometry': {'coordinates': [8.9401, 56.0932], 'type': 'Point'},\n",
       "   'properties': {'color': '#990000',\n",
       "    'fillColor': '#990000',\n",
       "    'fillOpacity': 0.5,\n",
       "    'weight': 1},\n",
       "   'type': 'Feature'},\n",
       "  {'geometry': {'coordinates': [9.0831, 56.0932], 'type': 'Point'},\n",
       "   'properties': {'color': '#990000',\n",
       "    'fillColor': '#990000',\n",
       "    'fillOpacity': 0.5,\n",
       "    'weight': 1},\n",
       "   'type': 'Feature'},\n",
       "  {'geometry': {'coordinates': [8.9807, 56.0933], 'type': 'Point'},\n",
       "   'properties': {'color': '#990000',\n",
       "    'fillColor': '#990000',\n",
       "    'fillOpacity': 0.5,\n",
       "    'weight': 1},\n",
       "   'type': 'Feature'},\n",
       "  {'geometry': {'coordinates': [9.0028, 56.0933], 'type': 'Point'},\n",
       "   'properties': {'color': '#990000',\n",
       "    'fillColor': '#990000',\n",
       "    'fillOpacity': 0.5,\n",
       "    'weight': 1},\n",
       "   'type': 'Feature'},\n",
       "  {'geometry': {'coordinates': [9.028, 56.0933], 'type': 'Point'},\n",
       "   'properties': {'color': '#990000',\n",
       "    'fillColor': '#990000',\n",
       "    'fillOpacity': 0.5,\n",
       "    'weight': 1},\n",
       "   'type': 'Feature'},\n",
       "  {'geometry': {'coordinates': [8.8852, 56.0934], 'type': 'Point'},\n",
       "   'properties': {'color': '#990000',\n",
       "    'fillColor': '#990000',\n",
       "    'fillOpacity': 0.5,\n",
       "    'weight': 1},\n",
       "   'type': 'Feature'},\n",
       "  {'geometry': {'coordinates': [8.8853, 56.0934], 'type': 'Point'},\n",
       "   'properties': {'color': '#990000',\n",
       "    'fillColor': '#990000',\n",
       "    'fillOpacity': 0.5,\n",
       "    'weight': 1},\n",
       "   'type': 'Feature'},\n",
       "  {'geometry': {'coordinates': [8.9105, 56.0934], 'type': 'Point'},\n",
       "   'properties': {'color': '#990000',\n",
       "    'fillColor': '#990000',\n",
       "    'fillOpacity': 0.5,\n",
       "    'weight': 1},\n",
       "   'type': 'Feature'},\n",
       "  {'geometry': {'coordinates': [8.8535, 56.0935], 'type': 'Point'},\n",
       "   'properties': {'color': '#990000',\n",
       "    'fillColor': '#990000',\n",
       "    'fillOpacity': 0.5,\n",
       "    'weight': 1},\n",
       "   'type': 'Feature'},\n",
       "  {'geometry': {'coordinates': [8.9111, 56.0935], 'type': 'Point'},\n",
       "   'properties': {'color': '#990000',\n",
       "    'fillColor': '#990000',\n",
       "    'fillOpacity': 0.5,\n",
       "    'weight': 1},\n",
       "   'type': 'Feature'},\n",
       "  {'geometry': {'coordinates': [8.883, 56.0936], 'type': 'Point'},\n",
       "   'properties': {'color': '#990000',\n",
       "    'fillColor': '#990000',\n",
       "    'fillOpacity': 0.5,\n",
       "    'weight': 1},\n",
       "   'type': 'Feature'},\n",
       "  {'geometry': {'coordinates': [8.8849, 56.0936], 'type': 'Point'},\n",
       "   'properties': {'color': '#990000',\n",
       "    'fillColor': '#990000',\n",
       "    'fillOpacity': 0.5,\n",
       "    'weight': 1},\n",
       "   'type': 'Feature'},\n",
       "  {'geometry': {'coordinates': [8.8824, 56.0938], 'type': 'Point'},\n",
       "   'properties': {'color': '#990000',\n",
       "    'fillColor': '#990000',\n",
       "    'fillOpacity': 0.5,\n",
       "    'weight': 1},\n",
       "   'type': 'Feature'},\n",
       "  {'geometry': {'coordinates': [8.9227, 56.0938], 'type': 'Point'},\n",
       "   'properties': {'color': '#990000',\n",
       "    'fillColor': '#990000',\n",
       "    'fillOpacity': 0.5,\n",
       "    'weight': 1},\n",
       "   'type': 'Feature'},\n",
       "  {'geometry': {'coordinates': [8.8812, 56.0939], 'type': 'Point'},\n",
       "   'properties': {'color': '#990000',\n",
       "    'fillColor': '#990000',\n",
       "    'fillOpacity': 0.5,\n",
       "    'weight': 1},\n",
       "   'type': 'Feature'},\n",
       "  {'geometry': {'coordinates': [8.9274, 56.0939], 'type': 'Point'},\n",
       "   'properties': {'color': '#990000',\n",
       "    'fillColor': '#990000',\n",
       "    'fillOpacity': 0.5,\n",
       "    'weight': 1},\n",
       "   'type': 'Feature'},\n",
       "  {'geometry': {'coordinates': [8.8777, 56.094], 'type': 'Point'},\n",
       "   'properties': {'color': '#990000',\n",
       "    'fillColor': '#990000',\n",
       "    'fillOpacity': 0.5,\n",
       "    'weight': 1},\n",
       "   'type': 'Feature'},\n",
       "  {'geometry': {'coordinates': [8.88, 56.094], 'type': 'Point'},\n",
       "   'properties': {'color': '#990000',\n",
       "    'fillColor': '#990000',\n",
       "    'fillOpacity': 0.5,\n",
       "    'weight': 1},\n",
       "   'type': 'Feature'},\n",
       "  {'geometry': {'coordinates': [8.8785, 56.0941], 'type': 'Point'},\n",
       "   'properties': {'color': '#990000',\n",
       "    'fillColor': '#990000',\n",
       "    'fillOpacity': 0.5,\n",
       "    'weight': 1},\n",
       "   'type': 'Feature'},\n",
       "  {'geometry': {'coordinates': [8.879, 56.0941], 'type': 'Point'},\n",
       "   'properties': {'color': '#990000',\n",
       "    'fillColor': '#990000',\n",
       "    'fillOpacity': 0.5,\n",
       "    'weight': 1},\n",
       "   'type': 'Feature'},\n",
       "  {'geometry': {'coordinates': [8.8784, 56.0942], 'type': 'Point'},\n",
       "   'properties': {'color': '#990000',\n",
       "    'fillColor': '#990000',\n",
       "    'fillOpacity': 0.5,\n",
       "    'weight': 1},\n",
       "   'type': 'Feature'},\n",
       "  {'geometry': {'coordinates': [8.9358, 56.0942], 'type': 'Point'},\n",
       "   'properties': {'color': '#990000',\n",
       "    'fillColor': '#990000',\n",
       "    'fillOpacity': 0.5,\n",
       "    'weight': 1},\n",
       "   'type': 'Feature'},\n",
       "  {'geometry': {'coordinates': [8.9754, 56.0942], 'type': 'Point'},\n",
       "   'properties': {'color': '#990000',\n",
       "    'fillColor': '#990000',\n",
       "    'fillOpacity': 0.5,\n",
       "    'weight': 1},\n",
       "   'type': 'Feature'},\n",
       "  {'geometry': {'coordinates': [9.0034, 56.0943], 'type': 'Point'},\n",
       "   'properties': {'color': '#990000',\n",
       "    'fillColor': '#990000',\n",
       "    'fillOpacity': 0.5,\n",
       "    'weight': 1},\n",
       "   'type': 'Feature'},\n",
       "  {'geometry': {'coordinates': [8.8762, 56.0944], 'type': 'Point'},\n",
       "   'properties': {'color': '#990000',\n",
       "    'fillColor': '#990000',\n",
       "    'fillOpacity': 0.5,\n",
       "    'weight': 1},\n",
       "   'type': 'Feature'},\n",
       "  {'geometry': {'coordinates': [8.928, 56.0945], 'type': 'Point'},\n",
       "   'properties': {'color': '#990000',\n",
       "    'fillColor': '#990000',\n",
       "    'fillOpacity': 0.5,\n",
       "    'weight': 1},\n",
       "   'type': 'Feature'},\n",
       "  {'geometry': {'coordinates': [8.9282, 56.0945], 'type': 'Point'},\n",
       "   'properties': {'color': '#990000',\n",
       "    'fillColor': '#990000',\n",
       "    'fillOpacity': 0.5,\n",
       "    'weight': 1},\n",
       "   'type': 'Feature'},\n",
       "  {'geometry': {'coordinates': [8.9764, 56.0945], 'type': 'Point'},\n",
       "   'properties': {'color': '#990000',\n",
       "    'fillColor': '#990000',\n",
       "    'fillOpacity': 0.5,\n",
       "    'weight': 1},\n",
       "   'type': 'Feature'},\n",
       "  {'geometry': {'coordinates': [8.8744, 56.0946], 'type': 'Point'},\n",
       "   'properties': {'color': '#990000',\n",
       "    'fillColor': '#990000',\n",
       "    'fillOpacity': 0.5,\n",
       "    'weight': 1},\n",
       "   'type': 'Feature'},\n",
       "  {'geometry': {'coordinates': [8.9109, 56.0946], 'type': 'Point'},\n",
       "   'properties': {'color': '#990000',\n",
       "    'fillColor': '#990000',\n",
       "    'fillOpacity': 0.5,\n",
       "    'weight': 1},\n",
       "   'type': 'Feature'},\n",
       "  {'geometry': {'coordinates': [8.9798, 56.0946], 'type': 'Point'},\n",
       "   'properties': {'color': '#990000',\n",
       "    'fillColor': '#990000',\n",
       "    'fillOpacity': 0.5,\n",
       "    'weight': 1},\n",
       "   'type': 'Feature'},\n",
       "  {'geometry': {'coordinates': [8.8745, 56.0948], 'type': 'Point'},\n",
       "   'properties': {'color': '#990000',\n",
       "    'fillColor': '#990000',\n",
       "    'fillOpacity': 0.5,\n",
       "    'weight': 1},\n",
       "   'type': 'Feature'},\n",
       "  {'geometry': {'coordinates': [8.9803, 56.0948], 'type': 'Point'},\n",
       "   'properties': {'color': '#990000',\n",
       "    'fillColor': '#990000',\n",
       "    'fillOpacity': 0.5,\n",
       "    'weight': 1},\n",
       "   'type': 'Feature'},\n",
       "  {'geometry': {'coordinates': [8.874, 56.0949], 'type': 'Point'},\n",
       "   'properties': {'color': '#990000',\n",
       "    'fillColor': '#990000',\n",
       "    'fillOpacity': 0.5,\n",
       "    'weight': 1},\n",
       "   'type': 'Feature'},\n",
       "  {'geometry': {'coordinates': [9.0038, 56.0949], 'type': 'Point'},\n",
       "   'properties': {'color': '#990000',\n",
       "    'fillColor': '#990000',\n",
       "    'fillOpacity': 0.5,\n",
       "    'weight': 1},\n",
       "   'type': 'Feature'},\n",
       "  {'geometry': {'coordinates': [8.6487, 56.095], 'type': 'Point'},\n",
       "   'properties': {'color': '#990000',\n",
       "    'fillColor': '#990000',\n",
       "    'fillOpacity': 0.5,\n",
       "    'weight': 1},\n",
       "   'type': 'Feature'},\n",
       "  {'geometry': {'coordinates': [8.9284, 56.095], 'type': 'Point'},\n",
       "   'properties': {'color': '#990000',\n",
       "    'fillColor': '#990000',\n",
       "    'fillOpacity': 0.5,\n",
       "    'weight': 1},\n",
       "   'type': 'Feature'},\n",
       "  {'geometry': {'coordinates': [8.9646, 56.095], 'type': 'Point'},\n",
       "   'properties': {'color': '#990000',\n",
       "    'fillColor': '#990000',\n",
       "    'fillOpacity': 0.5,\n",
       "    'weight': 1},\n",
       "   'type': 'Feature'},\n",
       "  {'geometry': {'coordinates': [8.9816, 56.095], 'type': 'Point'},\n",
       "   'properties': {'color': '#990000',\n",
       "    'fillColor': '#990000',\n",
       "    'fillOpacity': 0.5,\n",
       "    'weight': 1},\n",
       "   'type': 'Feature'},\n",
       "  {'geometry': {'coordinates': [8.9439, 56.0951], 'type': 'Point'},\n",
       "   'properties': {'color': '#990000',\n",
       "    'fillColor': '#990000',\n",
       "    'fillOpacity': 0.5,\n",
       "    'weight': 1},\n",
       "   'type': 'Feature'},\n",
       "  {'geometry': {'coordinates': [8.9824, 56.0951], 'type': 'Point'},\n",
       "   'properties': {'color': '#990000',\n",
       "    'fillColor': '#990000',\n",
       "    'fillOpacity': 0.5,\n",
       "    'weight': 1},\n",
       "   'type': 'Feature'},\n",
       "  {'geometry': {'coordinates': [8.874, 56.0952], 'type': 'Point'},\n",
       "   'properties': {'color': '#990000',\n",
       "    'fillColor': '#990000',\n",
       "    'fillOpacity': 0.5,\n",
       "    'weight': 1},\n",
       "   'type': 'Feature'},\n",
       "  {'geometry': {'coordinates': [8.9084, 56.0952], 'type': 'Point'},\n",
       "   'properties': {'color': '#990000',\n",
       "    'fillColor': '#990000',\n",
       "    'fillOpacity': 0.5,\n",
       "    'weight': 1},\n",
       "   'type': 'Feature'},\n",
       "  {'geometry': {'coordinates': [8.9108, 56.0952], 'type': 'Point'},\n",
       "   'properties': {'color': '#990000',\n",
       "    'fillColor': '#990000',\n",
       "    'fillOpacity': 0.5,\n",
       "    'weight': 1},\n",
       "   'type': 'Feature'},\n",
       "  {'geometry': {'coordinates': [8.9222, 56.0952], 'type': 'Point'},\n",
       "   'properties': {'color': '#990000',\n",
       "    'fillColor': '#990000',\n",
       "    'fillOpacity': 0.5,\n",
       "    'weight': 1},\n",
       "   'type': 'Feature'},\n",
       "  {'geometry': {'coordinates': [8.9109, 56.0954], 'type': 'Point'},\n",
       "   'properties': {'color': '#990000',\n",
       "    'fillColor': '#990000',\n",
       "    'fillOpacity': 0.5,\n",
       "    'weight': 1},\n",
       "   'type': 'Feature'},\n",
       "  {'geometry': {'coordinates': [8.9295, 56.0954], 'type': 'Point'},\n",
       "   'properties': {'color': '#990000',\n",
       "    'fillColor': '#990000',\n",
       "    'fillOpacity': 0.5,\n",
       "    'weight': 1},\n",
       "   'type': 'Feature'},\n",
       "  {'geometry': {'coordinates': [8.8928, 56.0955], 'type': 'Point'},\n",
       "   'properties': {'color': '#990000',\n",
       "    'fillColor': '#990000',\n",
       "    'fillOpacity': 0.5,\n",
       "    'weight': 1},\n",
       "   'type': 'Feature'},\n",
       "  {'geometry': {'coordinates': [8.9603, 56.0955], 'type': 'Point'},\n",
       "   'properties': {'color': '#990000',\n",
       "    'fillColor': '#990000',\n",
       "    'fillOpacity': 0.5,\n",
       "    'weight': 1},\n",
       "   'type': 'Feature'},\n",
       "  {'geometry': {'coordinates': [8.8705, 56.0956], 'type': 'Point'},\n",
       "   'properties': {'color': '#990000',\n",
       "    'fillColor': '#990000',\n",
       "    'fillOpacity': 0.5,\n",
       "    'weight': 1},\n",
       "   'type': 'Feature'},\n",
       "  {'geometry': {'coordinates': [8.6594, 56.0958], 'type': 'Point'},\n",
       "   'properties': {'color': '#990000',\n",
       "    'fillColor': '#990000',\n",
       "    'fillOpacity': 0.5,\n",
       "    'weight': 1},\n",
       "   'type': 'Feature'},\n",
       "  {'geometry': {'coordinates': [8.9291, 56.0958], 'type': 'Point'},\n",
       "   'properties': {'color': '#990000',\n",
       "    'fillColor': '#990000',\n",
       "    'fillOpacity': 0.5,\n",
       "    'weight': 1},\n",
       "   'type': 'Feature'},\n",
       "  {'geometry': {'coordinates': [8.8702, 56.096], 'type': 'Point'},\n",
       "   'properties': {'color': '#990000',\n",
       "    'fillColor': '#990000',\n",
       "    'fillOpacity': 0.5,\n",
       "    'weight': 1},\n",
       "   'type': 'Feature'},\n",
       "  {'geometry': {'coordinates': [9.0029, 56.096], 'type': 'Point'},\n",
       "   'properties': {'color': '#990000',\n",
       "    'fillColor': '#990000',\n",
       "    'fillOpacity': 0.5,\n",
       "    'weight': 1},\n",
       "   'type': 'Feature'},\n",
       "  {'geometry': {'coordinates': [9.0044, 56.0961], 'type': 'Point'},\n",
       "   'properties': {'color': '#990000',\n",
       "    'fillColor': '#990000',\n",
       "    'fillOpacity': 0.5,\n",
       "    'weight': 1},\n",
       "   'type': 'Feature'},\n",
       "  {'geometry': {'coordinates': [8.605, 56.0962], 'type': 'Point'},\n",
       "   'properties': {'color': '#990000',\n",
       "    'fillColor': '#990000',\n",
       "    'fillOpacity': 0.5,\n",
       "    'weight': 1},\n",
       "   'type': 'Feature'},\n",
       "  {'geometry': {'coordinates': [8.9126, 56.0962], 'type': 'Point'},\n",
       "   'properties': {'color': '#990000',\n",
       "    'fillColor': '#990000',\n",
       "    'fillOpacity': 0.5,\n",
       "    'weight': 1},\n",
       "   'type': 'Feature'},\n",
       "  {'geometry': {'coordinates': [9.0045, 56.0962], 'type': 'Point'},\n",
       "   'properties': {'color': '#990000',\n",
       "    'fillColor': '#990000',\n",
       "    'fillOpacity': 0.5,\n",
       "    'weight': 1},\n",
       "   'type': 'Feature'},\n",
       "  {'geometry': {'coordinates': [8.9625, 56.0963], 'type': 'Point'},\n",
       "   'properties': {'color': '#990000',\n",
       "    'fillColor': '#990000',\n",
       "    'fillOpacity': 0.5,\n",
       "    'weight': 1},\n",
       "   'type': 'Feature'},\n",
       "  {'geometry': {'coordinates': [8.8944, 56.0964], 'type': 'Point'},\n",
       "   'properties': {'color': '#990000',\n",
       "    'fillColor': '#990000',\n",
       "    'fillOpacity': 0.5,\n",
       "    'weight': 1},\n",
       "   'type': 'Feature'},\n",
       "  {'geometry': {'coordinates': [8.8945, 56.0964], 'type': 'Point'},\n",
       "   'properties': {'color': '#990000',\n",
       "    'fillColor': '#990000',\n",
       "    'fillOpacity': 0.5,\n",
       "    'weight': 1},\n",
       "   'type': 'Feature'},\n",
       "  {'geometry': {'coordinates': [8.9297, 56.0964], 'type': 'Point'},\n",
       "   'properties': {'color': '#990000',\n",
       "    'fillColor': '#990000',\n",
       "    'fillOpacity': 0.5,\n",
       "    'weight': 1},\n",
       "   'type': 'Feature'},\n",
       "  {'geometry': {'coordinates': [8.8573, 56.0965], 'type': 'Point'},\n",
       "   'properties': {'color': '#990000',\n",
       "    'fillColor': '#990000',\n",
       "    'fillOpacity': 0.5,\n",
       "    'weight': 1},\n",
       "   'type': 'Feature'},\n",
       "  {'geometry': {'coordinates': [8.868, 56.0965], 'type': 'Point'},\n",
       "   'properties': {'color': '#990000',\n",
       "    'fillColor': '#990000',\n",
       "    'fillOpacity': 0.5,\n",
       "    'weight': 1},\n",
       "   'type': 'Feature'},\n",
       "  {'geometry': {'coordinates': [8.8691, 56.0965], 'type': 'Point'},\n",
       "   'properties': {'color': '#990000',\n",
       "    'fillColor': '#990000',\n",
       "    'fillOpacity': 0.5,\n",
       "    'weight': 1},\n",
       "   'type': 'Feature'},\n",
       "  {'geometry': {'coordinates': [8.93, 56.0965], 'type': 'Point'},\n",
       "   'properties': {'color': '#990000',\n",
       "    'fillColor': '#990000',\n",
       "    'fillOpacity': 0.5,\n",
       "    'weight': 1},\n",
       "   'type': 'Feature'},\n",
       "  {'geometry': {'coordinates': [8.869, 56.0966], 'type': 'Point'},\n",
       "   'properties': {'color': '#990000',\n",
       "    'fillColor': '#990000',\n",
       "    'fillOpacity': 0.5,\n",
       "    'weight': 1},\n",
       "   'type': 'Feature'},\n",
       "  {'geometry': {'coordinates': [8.8752, 56.0966], 'type': 'Point'},\n",
       "   'properties': {'color': '#990000',\n",
       "    'fillColor': '#990000',\n",
       "    'fillOpacity': 0.5,\n",
       "    'weight': 1},\n",
       "   'type': 'Feature'},\n",
       "  {'geometry': {'coordinates': [8.9263, 56.0966], 'type': 'Point'},\n",
       "   'properties': {'color': '#990000',\n",
       "    'fillColor': '#990000',\n",
       "    'fillOpacity': 0.5,\n",
       "    'weight': 1},\n",
       "   'type': 'Feature'},\n",
       "  {'geometry': {'coordinates': [8.9427, 56.0966], 'type': 'Point'},\n",
       "   'properties': {'color': '#990000',\n",
       "    'fillColor': '#990000',\n",
       "    'fillOpacity': 0.5,\n",
       "    'weight': 1},\n",
       "   'type': 'Feature'},\n",
       "  {'geometry': {'coordinates': [8.9802, 56.0966], 'type': 'Point'},\n",
       "   'properties': {'color': '#990000',\n",
       "    'fillColor': '#990000',\n",
       "    'fillOpacity': 0.5,\n",
       "    'weight': 1},\n",
       "   'type': 'Feature'},\n",
       "  {'geometry': {'coordinates': [8.8076, 56.0967], 'type': 'Point'},\n",
       "   'properties': {'color': '#990000',\n",
       "    'fillColor': '#990000',\n",
       "    'fillOpacity': 0.5,\n",
       "    'weight': 1},\n",
       "   'type': 'Feature'},\n",
       "  {'geometry': {'coordinates': [8.868, 56.0968], 'type': 'Point'},\n",
       "   'properties': {'color': '#990000',\n",
       "    'fillColor': '#990000',\n",
       "    'fillOpacity': 0.5,\n",
       "    'weight': 1},\n",
       "   'type': 'Feature'},\n",
       "  {'geometry': {'coordinates': [8.9803, 56.0968], 'type': 'Point'},\n",
       "   'properties': {'color': '#990000',\n",
       "    'fillColor': '#990000',\n",
       "    'fillOpacity': 0.5,\n",
       "    'weight': 1},\n",
       "   'type': 'Feature'},\n",
       "  {'geometry': {'coordinates': [8.8579, 56.0969], 'type': 'Point'},\n",
       "   'properties': {'color': '#990000',\n",
       "    'fillColor': '#990000',\n",
       "    'fillOpacity': 0.5,\n",
       "    'weight': 1},\n",
       "   'type': 'Feature'},\n",
       "  {'geometry': {'coordinates': [8.8682, 56.0969], 'type': 'Point'},\n",
       "   'properties': {'color': '#990000',\n",
       "    'fillColor': '#990000',\n",
       "    'fillOpacity': 0.5,\n",
       "    'weight': 1},\n",
       "   'type': 'Feature'},\n",
       "  {'geometry': {'coordinates': [8.8594, 56.097], 'type': 'Point'},\n",
       "   'properties': {'color': '#990000',\n",
       "    'fillColor': '#990000',\n",
       "    'fillOpacity': 0.5,\n",
       "    'weight': 1},\n",
       "   'type': 'Feature'},\n",
       "  {'geometry': {'coordinates': [8.8608, 56.097], 'type': 'Point'},\n",
       "   'properties': {'color': '#990000',\n",
       "    'fillColor': '#990000',\n",
       "    'fillOpacity': 0.5,\n",
       "    'weight': 1},\n",
       "   'type': 'Feature'},\n",
       "  {'geometry': {'coordinates': [8.8659, 56.097], 'type': 'Point'},\n",
       "   'properties': {'color': '#990000',\n",
       "    'fillColor': '#990000',\n",
       "    'fillOpacity': 0.5,\n",
       "    'weight': 1},\n",
       "   'type': 'Feature'},\n",
       "  {'geometry': {'coordinates': [8.8905, 56.097], 'type': 'Point'},\n",
       "   'properties': {'color': '#990000',\n",
       "    'fillColor': '#990000',\n",
       "    'fillOpacity': 0.5,\n",
       "    'weight': 1},\n",
       "   'type': 'Feature'},\n",
       "  {'geometry': {'coordinates': [8.9632, 56.097], 'type': 'Point'},\n",
       "   'properties': {'color': '#990000',\n",
       "    'fillColor': '#990000',\n",
       "    'fillOpacity': 0.5,\n",
       "    'weight': 1},\n",
       "   'type': 'Feature'},\n",
       "  {'geometry': {'coordinates': [9.0047, 56.097], 'type': 'Point'},\n",
       "   'properties': {'color': '#990000',\n",
       "    'fillColor': '#990000',\n",
       "    'fillOpacity': 0.5,\n",
       "    'weight': 1},\n",
       "   'type': 'Feature'},\n",
       "  {'geometry': {'coordinates': [8.8648, 56.0971], 'type': 'Point'},\n",
       "   'properties': {'color': '#990000',\n",
       "    'fillColor': '#990000',\n",
       "    'fillOpacity': 0.5,\n",
       "    'weight': 1},\n",
       "   'type': 'Feature'},\n",
       "  {'geometry': {'coordinates': [8.9302, 56.0971], 'type': 'Point'},\n",
       "   'properties': {'color': '#990000',\n",
       "    'fillColor': '#990000',\n",
       "    'fillOpacity': 0.5,\n",
       "    'weight': 1},\n",
       "   'type': 'Feature'},\n",
       "  {'geometry': {'coordinates': [8.9798, 56.0971], 'type': 'Point'},\n",
       "   'properties': {'color': '#990000',\n",
       "    'fillColor': '#990000',\n",
       "    'fillOpacity': 0.5,\n",
       "    'weight': 1},\n",
       "   'type': 'Feature'},\n",
       "  {'geometry': {'coordinates': [8.98, 56.0971], 'type': 'Point'},\n",
       "   'properties': {'color': '#990000',\n",
       "    'fillColor': '#990000',\n",
       "    'fillOpacity': 0.5,\n",
       "    'weight': 1},\n",
       "   'type': 'Feature'},\n",
       "  {'geometry': {'coordinates': [9.0048, 56.0971], 'type': 'Point'},\n",
       "   'properties': {'color': '#990000',\n",
       "    'fillColor': '#990000',\n",
       "    'fillOpacity': 0.5,\n",
       "    'weight': 1},\n",
       "   'type': 'Feature'},\n",
       "  {'geometry': {'coordinates': [8.6423, 56.0972], 'type': 'Point'},\n",
       "   'properties': {'color': '#990000',\n",
       "    'fillColor': '#990000',\n",
       "    'fillOpacity': 0.5,\n",
       "    'weight': 1},\n",
       "   'type': 'Feature'},\n",
       "  {'geometry': {'coordinates': [8.9303, 56.0972], 'type': 'Point'},\n",
       "   'properties': {'color': '#990000',\n",
       "    'fillColor': '#990000',\n",
       "    'fillOpacity': 0.5,\n",
       "    'weight': 1},\n",
       "   'type': 'Feature'},\n",
       "  {'geometry': {'coordinates': [9.0306, 56.0972], 'type': 'Point'},\n",
       "   'properties': {'color': '#990000',\n",
       "    'fillColor': '#990000',\n",
       "    'fillOpacity': 0.5,\n",
       "    'weight': 1},\n",
       "   'type': 'Feature'},\n",
       "  {'geometry': {'coordinates': [8.8671, 56.0973], 'type': 'Point'},\n",
       "   'properties': {'color': '#990000',\n",
       "    'fillColor': '#990000',\n",
       "    'fillOpacity': 0.5,\n",
       "    'weight': 1},\n",
       "   'type': 'Feature'},\n",
       "  {'geometry': {'coordinates': [9.0135, 56.0973], 'type': 'Point'},\n",
       "   'properties': {'color': '#990000',\n",
       "    'fillColor': '#990000',\n",
       "    'fillOpacity': 0.5,\n",
       "    'weight': 1},\n",
       "   'type': 'Feature'},\n",
       "  {'geometry': {'coordinates': [8.8635, 56.0974], 'type': 'Point'},\n",
       "   'properties': {'color': '#990000',\n",
       "    'fillColor': '#990000',\n",
       "    'fillOpacity': 0.5,\n",
       "    'weight': 1},\n",
       "   'type': 'Feature'},\n",
       "  {'geometry': {'coordinates': [8.8651, 56.0975], 'type': 'Point'},\n",
       "   'properties': {'color': '#990000',\n",
       "    'fillColor': '#990000',\n",
       "    'fillOpacity': 0.5,\n",
       "    'weight': 1},\n",
       "   'type': 'Feature'},\n",
       "  {'geometry': {'coordinates': [8.9801, 56.0975], 'type': 'Point'},\n",
       "   'properties': {'color': '#990000',\n",
       "    'fillColor': '#990000',\n",
       "    'fillOpacity': 0.5,\n",
       "    'weight': 1},\n",
       "   'type': 'Feature'},\n",
       "  {'geometry': {'coordinates': [8.9863, 56.0975], 'type': 'Point'},\n",
       "   'properties': {'color': '#990000',\n",
       "    'fillColor': '#990000',\n",
       "    'fillOpacity': 0.5,\n",
       "    'weight': 1},\n",
       "   'type': 'Feature'},\n",
       "  {'geometry': {'coordinates': [8.8626, 56.0976], 'type': 'Point'},\n",
       "   'properties': {'color': '#990000',\n",
       "    'fillColor': '#990000',\n",
       "    'fillOpacity': 0.5,\n",
       "    'weight': 1},\n",
       "   'type': 'Feature'},\n",
       "  {'geometry': {'coordinates': [8.9862, 56.0976], 'type': 'Point'},\n",
       "   'properties': {'color': '#990000',\n",
       "    'fillColor': '#990000',\n",
       "    'fillOpacity': 0.5,\n",
       "    'weight': 1},\n",
       "   'type': 'Feature'},\n",
       "  {'geometry': {'coordinates': [8.9104, 56.0978], 'type': 'Point'},\n",
       "   'properties': {'color': '#990000',\n",
       "    'fillColor': '#990000',\n",
       "    'fillOpacity': 0.5,\n",
       "    'weight': 1},\n",
       "   'type': 'Feature'},\n",
       "  {'geometry': {'coordinates': [9.0054, 56.0978], 'type': 'Point'},\n",
       "   'properties': {'color': '#990000',\n",
       "    'fillColor': '#990000',\n",
       "    'fillOpacity': 0.5,\n",
       "    'weight': 1},\n",
       "   'type': 'Feature'},\n",
       "  {'geometry': {'coordinates': [9.0296, 56.0978], 'type': 'Point'},\n",
       "   'properties': {'color': '#990000',\n",
       "    'fillColor': '#990000',\n",
       "    'fillOpacity': 0.5,\n",
       "    'weight': 1},\n",
       "   'type': 'Feature'},\n",
       "  {'geometry': {'coordinates': [8.9308, 56.0979], 'type': 'Point'},\n",
       "   'properties': {'color': '#990000',\n",
       "    'fillColor': '#990000',\n",
       "    'fillOpacity': 0.5,\n",
       "    'weight': 1},\n",
       "   'type': 'Feature'},\n",
       "  {'geometry': {'coordinates': [8.9315, 56.0979], 'type': 'Point'},\n",
       "   'properties': {'color': '#990000',\n",
       "    'fillColor': '#990000',\n",
       "    'fillOpacity': 0.5,\n",
       "    'weight': 1},\n",
       "   'type': 'Feature'},\n",
       "  {'geometry': {'coordinates': [9.0299, 56.0979], 'type': 'Point'},\n",
       "   'properties': {'color': '#990000',\n",
       "    'fillColor': '#990000',\n",
       "    'fillOpacity': 0.5,\n",
       "    'weight': 1},\n",
       "   'type': 'Feature'},\n",
       "  {'geometry': {'coordinates': [8.8596, 56.098], 'type': 'Point'},\n",
       "   'properties': {'color': '#990000',\n",
       "    'fillColor': '#990000',\n",
       "    'fillOpacity': 0.5,\n",
       "    'weight': 1},\n",
       "   'type': 'Feature'},\n",
       "  {'geometry': {'coordinates': [8.9299, 56.0981], 'type': 'Point'},\n",
       "   'properties': {'color': '#990000',\n",
       "    'fillColor': '#990000',\n",
       "    'fillOpacity': 0.5,\n",
       "    'weight': 1},\n",
       "   'type': 'Feature'},\n",
       "  {'geometry': {'coordinates': [8.9529, 56.0981], 'type': 'Point'},\n",
       "   'properties': {'color': '#990000',\n",
       "    'fillColor': '#990000',\n",
       "    'fillOpacity': 0.5,\n",
       "    'weight': 1},\n",
       "   'type': 'Feature'},\n",
       "  {'geometry': {'coordinates': [8.8586, 56.0982], 'type': 'Point'},\n",
       "   'properties': {'color': '#990000',\n",
       "    'fillColor': '#990000',\n",
       "    'fillOpacity': 0.5,\n",
       "    'weight': 1},\n",
       "   'type': 'Feature'},\n",
       "  {'geometry': {'coordinates': [8.9801, 56.0982], 'type': 'Point'},\n",
       "   'properties': {'color': '#990000',\n",
       "    'fillColor': '#990000',\n",
       "    'fillOpacity': 0.5,\n",
       "    'weight': 1},\n",
       "   'type': 'Feature'},\n",
       "  {'geometry': {'coordinates': [9.0295, 56.0982], 'type': 'Point'},\n",
       "   'properties': {'color': '#990000',\n",
       "    'fillColor': '#990000',\n",
       "    'fillOpacity': 0.5,\n",
       "    'weight': 1},\n",
       "   'type': 'Feature'},\n",
       "  {'geometry': {'coordinates': [8.611, 56.0983], 'type': 'Point'},\n",
       "   'properties': {'color': '#990000',\n",
       "    'fillColor': '#990000',\n",
       "    'fillOpacity': 0.5,\n",
       "    'weight': 1},\n",
       "   'type': 'Feature'},\n",
       "  {'geometry': {'coordinates': [8.8651, 56.0983], 'type': 'Point'},\n",
       "   'properties': {'color': '#990000',\n",
       "    'fillColor': '#990000',\n",
       "    'fillOpacity': 0.5,\n",
       "    'weight': 1},\n",
       "   'type': 'Feature'},\n",
       "  {'geometry': {'coordinates': [9.0056, 56.0983], 'type': 'Point'},\n",
       "   'properties': {'color': '#990000',\n",
       "    'fillColor': '#990000',\n",
       "    'fillOpacity': 0.5,\n",
       "    'weight': 1},\n",
       "   'type': 'Feature'},\n",
       "  {'geometry': {'coordinates': [9.0174, 56.0984], 'type': 'Point'},\n",
       "   'properties': {'color': '#990000',\n",
       "    'fillColor': '#990000',\n",
       "    'fillOpacity': 0.5,\n",
       "    'weight': 1},\n",
       "   'type': 'Feature'},\n",
       "  {'geometry': {'coordinates': [8.9517, 56.0985], 'type': 'Point'},\n",
       "   'properties': {'color': '#990000',\n",
       "    'fillColor': '#990000',\n",
       "    'fillOpacity': 0.5,\n",
       "    'weight': 1},\n",
       "   'type': 'Feature'},\n",
       "  {'geometry': {'coordinates': [8.9802, 56.0985], 'type': 'Point'},\n",
       "   'properties': {'color': '#990000',\n",
       "    'fillColor': '#990000',\n",
       "    'fillOpacity': 0.5,\n",
       "    'weight': 1},\n",
       "   'type': 'Feature'},\n",
       "  {'geometry': {'coordinates': [9.0297, 56.0985], 'type': 'Point'},\n",
       "   'properties': {'color': '#990000',\n",
       "    'fillColor': '#990000',\n",
       "    'fillOpacity': 0.5,\n",
       "    'weight': 1},\n",
       "   'type': 'Feature'},\n",
       "  {'geometry': {'coordinates': [8.9314, 56.0986], 'type': 'Point'},\n",
       "   'properties': {'color': '#990000',\n",
       "    'fillColor': '#990000',\n",
       "    'fillOpacity': 0.5,\n",
       "    'weight': 1},\n",
       "   'type': 'Feature'},\n",
       "  {'geometry': {'coordinates': [9.0153, 56.0986], 'type': 'Point'},\n",
       "   'properties': {'color': '#990000',\n",
       "    'fillColor': '#990000',\n",
       "    'fillOpacity': 0.5,\n",
       "    'weight': 1},\n",
       "   'type': 'Feature'},\n",
       "  {'geometry': {'coordinates': [9.0175, 56.0986], 'type': 'Point'},\n",
       "   'properties': {'color': '#990000',\n",
       "    'fillColor': '#990000',\n",
       "    'fillOpacity': 0.5,\n",
       "    'weight': 1},\n",
       "   'type': 'Feature'},\n",
       "  {'geometry': {'coordinates': [8.6131, 56.0987], 'type': 'Point'},\n",
       "   'properties': {'color': '#990000',\n",
       "    'fillColor': '#990000',\n",
       "    'fillOpacity': 0.5,\n",
       "    'weight': 1},\n",
       "   'type': 'Feature'},\n",
       "  {'geometry': {'coordinates': [8.6924, 56.0987], 'type': 'Point'},\n",
       "   'properties': {'color': '#990000',\n",
       "    'fillColor': '#990000',\n",
       "    'fillOpacity': 0.5,\n",
       "    'weight': 1},\n",
       "   'type': 'Feature'},\n",
       "  {'geometry': {'coordinates': [8.9204, 56.0987], 'type': 'Point'},\n",
       "   'properties': {'color': '#990000',\n",
       "    'fillColor': '#990000',\n",
       "    'fillOpacity': 0.5,\n",
       "    'weight': 1},\n",
       "   'type': 'Feature'},\n",
       "  {'geometry': {'coordinates': [9.0152, 56.0987], 'type': 'Point'},\n",
       "   'properties': {'color': '#990000',\n",
       "    'fillColor': '#990000',\n",
       "    'fillOpacity': 0.5,\n",
       "    'weight': 1},\n",
       "   'type': 'Feature'},\n",
       "  {'geometry': {'coordinates': [8.9787, 56.0988], 'type': 'Point'},\n",
       "   'properties': {'color': '#990000',\n",
       "    'fillColor': '#990000',\n",
       "    'fillOpacity': 0.5,\n",
       "    'weight': 1},\n",
       "   'type': 'Feature'},\n",
       "  {'geometry': {'coordinates': [9.0061, 56.0988], 'type': 'Point'},\n",
       "   'properties': {'color': '#990000',\n",
       "    'fillColor': '#990000',\n",
       "    'fillOpacity': 0.5,\n",
       "    'weight': 1},\n",
       "   'type': 'Feature'},\n",
       "  {'geometry': {'coordinates': [9.0141, 56.0988], 'type': 'Point'},\n",
       "   'properties': {'color': '#990000',\n",
       "    'fillColor': '#990000',\n",
       "    'fillOpacity': 0.5,\n",
       "    'weight': 1},\n",
       "   'type': 'Feature'},\n",
       "  {'geometry': {'coordinates': [8.8589, 56.0989], 'type': 'Point'},\n",
       "   'properties': {'color': '#990000',\n",
       "    'fillColor': '#990000',\n",
       "    'fillOpacity': 0.5,\n",
       "    'weight': 1},\n",
       "   'type': 'Feature'},\n",
       "  {'geometry': {'coordinates': [8.9101, 56.0989], 'type': 'Point'},\n",
       "   'properties': {'color': '#990000',\n",
       "    'fillColor': '#990000',\n",
       "    'fillOpacity': 0.5,\n",
       "    'weight': 1},\n",
       "   'type': 'Feature'},\n",
       "  {'geometry': {'coordinates': [8.9102, 56.0989], 'type': 'Point'},\n",
       "   'properties': {'color': '#990000',\n",
       "    'fillColor': '#990000',\n",
       "    'fillOpacity': 0.5,\n",
       "    'weight': 1},\n",
       "   'type': 'Feature'},\n",
       "  {'geometry': {'coordinates': [8.9847, 56.0989], 'type': 'Point'},\n",
       "   'properties': {'color': '#990000',\n",
       "    'fillColor': '#990000',\n",
       "    'fillOpacity': 0.5,\n",
       "    'weight': 1},\n",
       "   'type': 'Feature'},\n",
       "  {'geometry': {'coordinates': [8.8584, 56.099], 'type': 'Point'},\n",
       "   'properties': {'color': '#990000',\n",
       "    'fillColor': '#990000',\n",
       "    'fillOpacity': 0.5,\n",
       "    'weight': 1},\n",
       "   'type': 'Feature'},\n",
       "  {'geometry': {'coordinates': [8.8586, 56.099], 'type': 'Point'},\n",
       "   'properties': {'color': '#990000',\n",
       "    'fillColor': '#990000',\n",
       "    'fillOpacity': 0.5,\n",
       "    'weight': 1},\n",
       "   'type': 'Feature'},\n",
       "  {'geometry': {'coordinates': [8.9116, 56.099], 'type': 'Point'},\n",
       "   'properties': {'color': '#990000',\n",
       "    'fillColor': '#990000',\n",
       "    'fillOpacity': 0.5,\n",
       "    'weight': 1},\n",
       "   'type': 'Feature'},\n",
       "  {'geometry': {'coordinates': [9.0062, 56.099], 'type': 'Point'},\n",
       "   'properties': {'color': '#990000',\n",
       "    'fillColor': '#990000',\n",
       "    'fillOpacity': 0.5,\n",
       "    'weight': 1},\n",
       "   'type': 'Feature'},\n",
       "  {'geometry': {'coordinates': [9.0154, 56.099], 'type': 'Point'},\n",
       "   'properties': {'color': '#990000',\n",
       "    'fillColor': '#990000',\n",
       "    'fillOpacity': 0.5,\n",
       "    'weight': 1},\n",
       "   'type': 'Feature'},\n",
       "  {'geometry': {'coordinates': [8.8586, 56.0991], 'type': 'Point'},\n",
       "   'properties': {'color': '#990000',\n",
       "    'fillColor': '#990000',\n",
       "    'fillOpacity': 0.5,\n",
       "    'weight': 1},\n",
       "   'type': 'Feature'},\n",
       "  {'geometry': {'coordinates': [8.8587, 56.0991], 'type': 'Point'},\n",
       "   'properties': {'color': '#990000',\n",
       "    'fillColor': '#990000',\n",
       "    'fillOpacity': 0.5,\n",
       "    'weight': 1},\n",
       "   'type': 'Feature'},\n",
       "  {'geometry': {'coordinates': [8.8588, 56.0991], 'type': 'Point'},\n",
       "   'properties': {'color': '#990000',\n",
       "    'fillColor': '#990000',\n",
       "    'fillOpacity': 0.5,\n",
       "    'weight': 1},\n",
       "   'type': 'Feature'},\n",
       "  {'geometry': {'coordinates': [8.8596, 56.0991], 'type': 'Point'},\n",
       "   'properties': {'color': '#990000',\n",
       "    'fillColor': '#990000',\n",
       "    'fillOpacity': 0.5,\n",
       "    'weight': 1},\n",
       "   'type': 'Feature'},\n",
       "  {'geometry': {'coordinates': [8.8606, 56.0991], 'type': 'Point'},\n",
       "   'properties': {'color': '#990000',\n",
       "    'fillColor': '#990000',\n",
       "    'fillOpacity': 0.5,\n",
       "    'weight': 1},\n",
       "   'type': 'Feature'},\n",
       "  {'geometry': {'coordinates': [8.8636, 56.0991], 'type': 'Point'},\n",
       "   'properties': {'color': '#990000',\n",
       "    'fillColor': '#990000',\n",
       "    'fillOpacity': 0.5,\n",
       "    'weight': 1},\n",
       "   'type': 'Feature'},\n",
       "  {'geometry': {'coordinates': [8.91, 56.0991], 'type': 'Point'},\n",
       "   'properties': {'color': '#990000',\n",
       "    'fillColor': '#990000',\n",
       "    'fillOpacity': 0.5,\n",
       "    'weight': 1},\n",
       "   'type': 'Feature'},\n",
       "  {'geometry': {'coordinates': [9.0093, 56.0991], 'type': 'Point'},\n",
       "   'properties': {'color': '#990000',\n",
       "    'fillColor': '#990000',\n",
       "    'fillOpacity': 0.5,\n",
       "    'weight': 1},\n",
       "   'type': 'Feature'},\n",
       "  {'geometry': {'coordinates': [9.0268, 56.0991], 'type': 'Point'},\n",
       "   'properties': {'color': '#990000',\n",
       "    'fillColor': '#990000',\n",
       "    'fillOpacity': 0.5,\n",
       "    'weight': 1},\n",
       "   'type': 'Feature'},\n",
       "  {'geometry': {'coordinates': [8.8583, 56.0992], 'type': 'Point'},\n",
       "   'properties': {'color': '#990000',\n",
       "    'fillColor': '#990000',\n",
       "    'fillOpacity': 0.5,\n",
       "    'weight': 1},\n",
       "   'type': 'Feature'},\n",
       "  {'geometry': {'coordinates': [8.8585, 56.0992], 'type': 'Point'},\n",
       "   'properties': {'color': '#990000',\n",
       "    'fillColor': '#990000',\n",
       "    'fillOpacity': 0.5,\n",
       "    'weight': 1},\n",
       "   'type': 'Feature'},\n",
       "  {'geometry': {'coordinates': [8.8586, 56.0992], 'type': 'Point'},\n",
       "   'properties': {'color': '#990000',\n",
       "    'fillColor': '#990000',\n",
       "    'fillOpacity': 0.5,\n",
       "    'weight': 1},\n",
       "   'type': 'Feature'},\n",
       "  {'geometry': {'coordinates': [8.8587, 56.0992], 'type': 'Point'},\n",
       "   'properties': {'color': '#990000',\n",
       "    'fillColor': '#990000',\n",
       "    'fillOpacity': 0.5,\n",
       "    'weight': 1},\n",
       "   'type': 'Feature'},\n",
       "  {'geometry': {'coordinates': [8.8588, 56.0992], 'type': 'Point'},\n",
       "   'properties': {'color': '#990000',\n",
       "    'fillColor': '#990000',\n",
       "    'fillOpacity': 0.5,\n",
       "    'weight': 1},\n",
       "   'type': 'Feature'},\n",
       "  {'geometry': {'coordinates': [8.8589, 56.0992], 'type': 'Point'},\n",
       "   'properties': {'color': '#990000',\n",
       "    'fillColor': '#990000',\n",
       "    'fillOpacity': 0.5,\n",
       "    'weight': 1},\n",
       "   'type': 'Feature'},\n",
       "  {'geometry': {'coordinates': [8.859, 56.0992], 'type': 'Point'},\n",
       "   'properties': {'color': '#990000',\n",
       "    'fillColor': '#990000',\n",
       "    'fillOpacity': 0.5,\n",
       "    'weight': 1},\n",
       "   'type': 'Feature'},\n",
       "  {'geometry': {'coordinates': [8.8591, 56.0992], 'type': 'Point'},\n",
       "   'properties': {'color': '#990000',\n",
       "    'fillColor': '#990000',\n",
       "    'fillOpacity': 0.5,\n",
       "    'weight': 1},\n",
       "   'type': 'Feature'},\n",
       "  {'geometry': {'coordinates': [8.8595, 56.0992], 'type': 'Point'},\n",
       "   'properties': {'color': '#990000',\n",
       "    'fillColor': '#990000',\n",
       "    'fillOpacity': 0.5,\n",
       "    'weight': 1},\n",
       "   'type': 'Feature'},\n",
       "  {'geometry': {'coordinates': [8.8586, 56.0993], 'type': 'Point'},\n",
       "   'properties': {'color': '#990000',\n",
       "    'fillColor': '#990000',\n",
       "    'fillOpacity': 0.5,\n",
       "    'weight': 1},\n",
       "   'type': 'Feature'},\n",
       "  {'geometry': {'coordinates': [8.8587, 56.0993], 'type': 'Point'},\n",
       "   'properties': {'color': '#990000',\n",
       "    'fillColor': '#990000',\n",
       "    'fillOpacity': 0.5,\n",
       "    'weight': 1},\n",
       "   'type': 'Feature'},\n",
       "  {'geometry': {'coordinates': [8.8588, 56.0993], 'type': 'Point'},\n",
       "   'properties': {'color': '#990000',\n",
       "    'fillColor': '#990000',\n",
       "    'fillOpacity': 0.5,\n",
       "    'weight': 1},\n",
       "   'type': 'Feature'},\n",
       "  {'geometry': {'coordinates': [8.8589, 56.0993], 'type': 'Point'},\n",
       "   'properties': {'color': '#990000',\n",
       "    'fillColor': '#990000',\n",
       "    'fillOpacity': 0.5,\n",
       "    'weight': 1},\n",
       "   'type': 'Feature'},\n",
       "  {'geometry': {'coordinates': [8.8592, 56.0993], 'type': 'Point'},\n",
       "   'properties': {'color': '#990000',\n",
       "    'fillColor': '#990000',\n",
       "    'fillOpacity': 0.5,\n",
       "    'weight': 1},\n",
       "   'type': 'Feature'},\n",
       "  {'geometry': {'coordinates': [8.9319, 56.0993], 'type': 'Point'},\n",
       "   'properties': {'color': '#990000',\n",
       "    'fillColor': '#990000',\n",
       "    'fillOpacity': 0.5,\n",
       "    'weight': 1},\n",
       "   'type': 'Feature'},\n",
       "  {'geometry': {'coordinates': [8.9808, 56.0993], 'type': 'Point'},\n",
       "   'properties': {'color': '#990000',\n",
       "    'fillColor': '#990000',\n",
       "    'fillOpacity': 0.5,\n",
       "    'weight': 1},\n",
       "   'type': 'Feature'},\n",
       "  {'geometry': {'coordinates': [8.8583, 56.0994], 'type': 'Point'},\n",
       "   'properties': {'color': '#990000',\n",
       "    'fillColor': '#990000',\n",
       "    'fillOpacity': 0.5,\n",
       "    'weight': 1},\n",
       "   'type': 'Feature'},\n",
       "  {'geometry': {'coordinates': [8.8586, 56.0994], 'type': 'Point'},\n",
       "   'properties': {'color': '#990000',\n",
       "    'fillColor': '#990000',\n",
       "    'fillOpacity': 0.5,\n",
       "    'weight': 1},\n",
       "   'type': 'Feature'},\n",
       "  {'geometry': {'coordinates': [8.8587, 56.0994], 'type': 'Point'},\n",
       "   'properties': {'color': '#990000',\n",
       "    'fillColor': '#990000',\n",
       "    'fillOpacity': 0.5,\n",
       "    'weight': 1},\n",
       "   'type': 'Feature'},\n",
       "  {'geometry': {'coordinates': [8.8588, 56.0994], 'type': 'Point'},\n",
       "   'properties': {'color': '#990000',\n",
       "    'fillColor': '#990000',\n",
       "    'fillOpacity': 0.5,\n",
       "    'weight': 1},\n",
       "   'type': 'Feature'},\n",
       "  {'geometry': {'coordinates': [8.859, 56.0994], 'type': 'Point'},\n",
       "   'properties': {'color': '#990000',\n",
       "    'fillColor': '#990000',\n",
       "    'fillOpacity': 0.5,\n",
       "    'weight': 1},\n",
       "   'type': 'Feature'},\n",
       "  {'geometry': {'coordinates': [8.9062, 56.0994], 'type': 'Point'},\n",
       "   'properties': {'color': '#990000',\n",
       "    'fillColor': '#990000',\n",
       "    'fillOpacity': 0.5,\n",
       "    'weight': 1},\n",
       "   'type': 'Feature'},\n",
       "  {'geometry': {'coordinates': [8.9322, 56.0994], 'type': 'Point'},\n",
       "   'properties': {'color': '#990000',\n",
       "    'fillColor': '#990000',\n",
       "    'fillOpacity': 0.5,\n",
       "    'weight': 1},\n",
       "   'type': 'Feature'},\n",
       "  {'geometry': {'coordinates': [8.934, 56.0994], 'type': 'Point'},\n",
       "   'properties': {'color': '#990000',\n",
       "    'fillColor': '#990000',\n",
       "    'fillOpacity': 0.5,\n",
       "    'weight': 1},\n",
       "   'type': 'Feature'},\n",
       "  {'geometry': {'coordinates': [8.6972, 56.0995], 'type': 'Point'},\n",
       "   'properties': {'color': '#990000',\n",
       "    'fillColor': '#990000',\n",
       "    'fillOpacity': 0.5,\n",
       "    'weight': 1},\n",
       "   'type': 'Feature'},\n",
       "  {'geometry': {'coordinates': [8.8587, 56.0995], 'type': 'Point'},\n",
       "   'properties': {'color': '#990000',\n",
       "    'fillColor': '#990000',\n",
       "    'fillOpacity': 0.5,\n",
       "    'weight': 1},\n",
       "   'type': 'Feature'},\n",
       "  {'geometry': {'coordinates': [8.8589, 56.0995], 'type': 'Point'},\n",
       "   'properties': {'color': '#990000',\n",
       "    'fillColor': '#990000',\n",
       "    'fillOpacity': 0.5,\n",
       "    'weight': 1},\n",
       "   'type': 'Feature'},\n",
       "  {'geometry': {'coordinates': [8.8645, 56.0995], 'type': 'Point'},\n",
       "   'properties': {'color': '#990000',\n",
       "    'fillColor': '#990000',\n",
       "    'fillOpacity': 0.5,\n",
       "    'weight': 1},\n",
       "   'type': 'Feature'},\n",
       "  {'geometry': {'coordinates': [8.939, 56.0995], 'type': 'Point'},\n",
       "   'properties': {'color': '#990000',\n",
       "    'fillColor': '#990000',\n",
       "    'fillOpacity': 0.5,\n",
       "    'weight': 1},\n",
       "   'type': 'Feature'},\n",
       "  {'geometry': {'coordinates': [8.9555, 56.0995], 'type': 'Point'},\n",
       "   'properties': {'color': '#990000',\n",
       "    'fillColor': '#990000',\n",
       "    'fillOpacity': 0.5,\n",
       "    'weight': 1},\n",
       "   'type': 'Feature'},\n",
       "  {'geometry': {'coordinates': [8.9798, 56.0995], 'type': 'Point'},\n",
       "   'properties': {'color': '#990000',\n",
       "    'fillColor': '#990000',\n",
       "    'fillOpacity': 0.5,\n",
       "    'weight': 1},\n",
       "   'type': 'Feature'},\n",
       "  {'geometry': {'coordinates': [9.0061, 56.0995], 'type': 'Point'},\n",
       "   'properties': {'color': '#990000',\n",
       "    'fillColor': '#990000',\n",
       "    'fillOpacity': 0.5,\n",
       "    'weight': 1},\n",
       "   'type': 'Feature'},\n",
       "  {'geometry': {'coordinates': [9.0067, 56.0995], 'type': 'Point'},\n",
       "   'properties': {'color': '#990000',\n",
       "    'fillColor': '#990000',\n",
       "    'fillOpacity': 0.5,\n",
       "    'weight': 1},\n",
       "   'type': 'Feature'},\n",
       "  {'geometry': {'coordinates': [8.9415, 56.0996], 'type': 'Point'},\n",
       "   'properties': {'color': '#990000',\n",
       "    'fillColor': '#990000',\n",
       "    'fillOpacity': 0.5,\n",
       "    'weight': 1},\n",
       "   'type': 'Feature'},\n",
       "  {'geometry': {'coordinates': [8.98, 56.0996], 'type': 'Point'},\n",
       "   'properties': {'color': '#990000',\n",
       "    'fillColor': '#990000',\n",
       "    'fillOpacity': 0.5,\n",
       "    'weight': 1},\n",
       "   'type': 'Feature'},\n",
       "  {'geometry': {'coordinates': [8.9802, 56.0996], 'type': 'Point'},\n",
       "   'properties': {'color': '#990000',\n",
       "    'fillColor': '#990000',\n",
       "    'fillOpacity': 0.5,\n",
       "    'weight': 1},\n",
       "   'type': 'Feature'},\n",
       "  {'geometry': {'coordinates': [9.0255, 56.0996], 'type': 'Point'},\n",
       "   'properties': {'color': '#990000',\n",
       "    'fillColor': '#990000',\n",
       "    'fillOpacity': 0.5,\n",
       "    'weight': 1},\n",
       "   'type': 'Feature'},\n",
       "  {'geometry': {'coordinates': [9.0275, 56.0996], 'type': 'Point'},\n",
       "   'properties': {'color': '#990000',\n",
       "    'fillColor': '#990000',\n",
       "    'fillOpacity': 0.5,\n",
       "    'weight': 1},\n",
       "   'type': 'Feature'},\n",
       "  {'geometry': {'coordinates': [8.852, 56.0997], 'type': 'Point'},\n",
       "   'properties': {'color': '#990000',\n",
       "    'fillColor': '#990000',\n",
       "    'fillOpacity': 0.5,\n",
       "    'weight': 1},\n",
       "   'type': 'Feature'},\n",
       "  {'geometry': {'coordinates': [8.9324, 56.0997], 'type': 'Point'},\n",
       "   'properties': {'color': '#990000',\n",
       "    'fillColor': '#990000',\n",
       "    'fillOpacity': 0.5,\n",
       "    'weight': 1},\n",
       "   'type': 'Feature'},\n",
       "  {'geometry': {'coordinates': [8.9845, 56.0997], 'type': 'Point'},\n",
       "   'properties': {'color': '#990000',\n",
       "    'fillColor': '#990000',\n",
       "    'fillOpacity': 0.5,\n",
       "    'weight': 1},\n",
       "   'type': 'Feature'},\n",
       "  {'geometry': {'coordinates': [9.0262, 56.0997], 'type': 'Point'},\n",
       "   'properties': {'color': '#990000',\n",
       "    'fillColor': '#990000',\n",
       "    'fillOpacity': 0.5,\n",
       "    'weight': 1},\n",
       "   'type': 'Feature'},\n",
       "  {'geometry': {'coordinates': [8.8597, 56.0998], 'type': 'Point'},\n",
       "   'properties': {'color': '#990000',\n",
       "    'fillColor': '#990000',\n",
       "    'fillOpacity': 0.5,\n",
       "    'weight': 1},\n",
       "   'type': 'Feature'},\n",
       "  {'geometry': {'coordinates': [8.9026, 56.0998], 'type': 'Point'},\n",
       "   'properties': {'color': '#990000',\n",
       "    'fillColor': '#990000',\n",
       "    'fillOpacity': 0.5,\n",
       "    'weight': 1},\n",
       "   'type': 'Feature'},\n",
       "  {'geometry': {'coordinates': [8.9784, 56.0998], 'type': 'Point'},\n",
       "   'properties': {'color': '#990000',\n",
       "    'fillColor': '#990000',\n",
       "    'fillOpacity': 0.5,\n",
       "    'weight': 1},\n",
       "   'type': 'Feature'},\n",
       "  {'geometry': {'coordinates': [8.9797, 56.0998], 'type': 'Point'},\n",
       "   'properties': {'color': '#990000',\n",
       "    'fillColor': '#990000',\n",
       "    'fillOpacity': 0.5,\n",
       "    'weight': 1},\n",
       "   'type': 'Feature'},\n",
       "  {'geometry': {'coordinates': [8.8593, 56.0999], 'type': 'Point'},\n",
       "   'properties': {'color': '#990000',\n",
       "    'fillColor': '#990000',\n",
       "    'fillOpacity': 0.5,\n",
       "    'weight': 1},\n",
       "   'type': 'Feature'},\n",
       "  {'geometry': {'coordinates': [8.9471, 56.0999], 'type': 'Point'},\n",
       "   'properties': {'color': '#990000',\n",
       "    'fillColor': '#990000',\n",
       "    'fillOpacity': 0.5,\n",
       "    'weight': 1},\n",
       "   'type': 'Feature'},\n",
       "  {'geometry': {'coordinates': [8.9587, 56.0999], 'type': 'Point'},\n",
       "   'properties': {'color': '#990000',\n",
       "    'fillColor': '#990000',\n",
       "    'fillOpacity': 0.5,\n",
       "    'weight': 1},\n",
       "   'type': 'Feature'},\n",
       "  {'geometry': {'coordinates': [8.9801, 56.0999], 'type': 'Point'},\n",
       "   'properties': {'color': '#990000',\n",
       "    'fillColor': '#990000',\n",
       "    'fillOpacity': 0.5,\n",
       "    'weight': 1},\n",
       "   'type': 'Feature'},\n",
       "  {'geometry': {'coordinates': [8.8076, 56.1], 'type': 'Point'},\n",
       "   'properties': {'color': '#990000',\n",
       "    'fillColor': '#990000',\n",
       "    'fillOpacity': 0.5,\n",
       "    'weight': 1},\n",
       "   'type': 'Feature'},\n",
       "  {'geometry': {'coordinates': [8.8589, 56.1], 'type': 'Point'},\n",
       "   'properties': {'color': '#990000',\n",
       "    'fillColor': '#990000',\n",
       "    'fillOpacity': 0.5,\n",
       "    'weight': 1},\n",
       "   'type': 'Feature'},\n",
       "  {'geometry': {'coordinates': [8.8695, 56.1], 'type': 'Point'},\n",
       "   'properties': {'color': '#990000',\n",
       "    'fillColor': '#990000',\n",
       "    'fillOpacity': 0.5,\n",
       "    'weight': 1},\n",
       "   'type': 'Feature'},\n",
       "  {'geometry': {'coordinates': [8.9326, 56.1], 'type': 'Point'},\n",
       "   'properties': {'color': '#990000',\n",
       "    'fillColor': '#990000',\n",
       "    'fillOpacity': 0.5,\n",
       "    'weight': 1},\n",
       "   'type': 'Feature'},\n",
       "  {'geometry': {'coordinates': [8.9708, 56.1], 'type': 'Point'},\n",
       "   'properties': {'color': '#990000',\n",
       "    'fillColor': '#990000',\n",
       "    'fillOpacity': 0.5,\n",
       "    'weight': 1},\n",
       "   'type': 'Feature'},\n",
       "  {'geometry': {'coordinates': [8.9806, 56.1], 'type': 'Point'},\n",
       "   'properties': {'color': '#990000',\n",
       "    'fillColor': '#990000',\n",
       "    'fillOpacity': 0.5,\n",
       "    'weight': 1},\n",
       "   'type': 'Feature'},\n",
       "  {'geometry': {'coordinates': [8.8581, 56.1001], 'type': 'Point'},\n",
       "   'properties': {'color': '#990000',\n",
       "    'fillColor': '#990000',\n",
       "    'fillOpacity': 0.5,\n",
       "    'weight': 1},\n",
       "   'type': 'Feature'},\n",
       "  {'geometry': {'coordinates': [8.8591, 56.1001], 'type': 'Point'},\n",
       "   'properties': {'color': '#990000',\n",
       "    'fillColor': '#990000',\n",
       "    'fillOpacity': 0.5,\n",
       "    'weight': 1},\n",
       "   'type': 'Feature'},\n",
       "  {'geometry': {'coordinates': [8.9295, 56.1001], 'type': 'Point'},\n",
       "   'properties': {'color': '#990000',\n",
       "    'fillColor': '#990000',\n",
       "    'fillOpacity': 0.5,\n",
       "    'weight': 1},\n",
       "   'type': 'Feature'},\n",
       "  {'geometry': {'coordinates': [8.9706, 56.1002], 'type': 'Point'},\n",
       "   'properties': {'color': '#990000',\n",
       "    'fillColor': '#990000',\n",
       "    'fillOpacity': 0.5,\n",
       "    'weight': 1},\n",
       "   'type': 'Feature'},\n",
       "  {'geometry': {'coordinates': [8.8577, 56.1003], 'type': 'Point'},\n",
       "   'properties': {'color': '#990000',\n",
       "    'fillColor': '#990000',\n",
       "    'fillOpacity': 0.5,\n",
       "    'weight': 1},\n",
       "   'type': 'Feature'},\n",
       "  {'geometry': {'coordinates': [8.9332, 56.1003], 'type': 'Point'},\n",
       "   'properties': {'color': '#990000',\n",
       "    'fillColor': '#990000',\n",
       "    'fillOpacity': 0.5,\n",
       "    'weight': 1},\n",
       "   'type': 'Feature'},\n",
       "  {'geometry': {'coordinates': [8.9848, 56.1003], 'type': 'Point'},\n",
       "   'properties': {'color': '#990000',\n",
       "    'fillColor': '#990000',\n",
       "    'fillOpacity': 0.5,\n",
       "    'weight': 1},\n",
       "   'type': 'Feature'},\n",
       "  {'geometry': {'coordinates': [8.985, 56.1003], 'type': 'Point'},\n",
       "   'properties': {'color': '#990000',\n",
       "    'fillColor': '#990000',\n",
       "    'fillOpacity': 0.5,\n",
       "    'weight': 1},\n",
       "   'type': 'Feature'},\n",
       "  {'geometry': {'coordinates': [8.9698, 56.1004], 'type': 'Point'},\n",
       "   'properties': {'color': '#990000',\n",
       "    'fillColor': '#990000',\n",
       "    'fillOpacity': 0.5,\n",
       "    'weight': 1},\n",
       "   'type': 'Feature'},\n",
       "  {'geometry': {'coordinates': [8.9848, 56.1004], 'type': 'Point'},\n",
       "   'properties': {'color': '#990000',\n",
       "    'fillColor': '#990000',\n",
       "    'fillOpacity': 0.5,\n",
       "    'weight': 1},\n",
       "   'type': 'Feature'},\n",
       "  {'geometry': {'coordinates': [8.9849, 56.1004], 'type': 'Point'},\n",
       "   'properties': {'color': '#990000',\n",
       "    'fillColor': '#990000',\n",
       "    'fillOpacity': 0.5,\n",
       "    'weight': 1},\n",
       "   'type': 'Feature'},\n",
       "  {'geometry': {'coordinates': [8.985, 56.1004], 'type': 'Point'},\n",
       "   'properties': {'color': '#990000',\n",
       "    'fillColor': '#990000',\n",
       "    'fillOpacity': 0.5,\n",
       "    'weight': 1},\n",
       "   'type': 'Feature'},\n",
       "  {'geometry': {'coordinates': [8.9091, 56.1005], 'type': 'Point'},\n",
       "   'properties': {'color': '#990000',\n",
       "    'fillColor': '#990000',\n",
       "    'fillOpacity': 0.5,\n",
       "    'weight': 1},\n",
       "   'type': 'Feature'},\n",
       "  {'geometry': {'coordinates': [8.9335, 56.1005], 'type': 'Point'},\n",
       "   'properties': {'color': '#990000',\n",
       "    'fillColor': '#990000',\n",
       "    'fillOpacity': 0.5,\n",
       "    'weight': 1},\n",
       "   'type': 'Feature'},\n",
       "  {'geometry': {'coordinates': [8.9551, 56.1005], 'type': 'Point'},\n",
       "   'properties': {'color': '#990000',\n",
       "    'fillColor': '#990000',\n",
       "    'fillOpacity': 0.5,\n",
       "    'weight': 1},\n",
       "   'type': 'Feature'},\n",
       "  {'geometry': {'coordinates': [8.985, 56.1005], 'type': 'Point'},\n",
       "   'properties': {'color': '#990000',\n",
       "    'fillColor': '#990000',\n",
       "    'fillOpacity': 0.5,\n",
       "    'weight': 1},\n",
       "   'type': 'Feature'},\n",
       "  {'geometry': {'coordinates': [9.0071, 56.1005], 'type': 'Point'},\n",
       "   'properties': {'color': '#990000',\n",
       "    'fillColor': '#990000',\n",
       "    'fillOpacity': 0.5,\n",
       "    'weight': 1},\n",
       "   'type': 'Feature'},\n",
       "  {'geometry': {'coordinates': [8.9327, 56.1006], 'type': 'Point'},\n",
       "   'properties': {'color': '#990000',\n",
       "    'fillColor': '#990000',\n",
       "    'fillOpacity': 0.5,\n",
       "    'weight': 1},\n",
       "   'type': 'Feature'},\n",
       "  {'geometry': {'coordinates': [8.9846, 56.1006], 'type': 'Point'},\n",
       "   'properties': {'color': '#990000',\n",
       "    'fillColor': '#990000',\n",
       "    'fillOpacity': 0.5,\n",
       "    'weight': 1},\n",
       "   'type': 'Feature'},\n",
       "  {'geometry': {'coordinates': [9.0066, 56.1006], 'type': 'Point'},\n",
       "   'properties': {'color': '#990000',\n",
       "    'fillColor': '#990000',\n",
       "    'fillOpacity': 0.5,\n",
       "    'weight': 1},\n",
       "   'type': 'Feature'},\n",
       "  {'geometry': {'coordinates': [8.8607, 56.1008], 'type': 'Point'},\n",
       "   'properties': {'color': '#990000',\n",
       "    'fillColor': '#990000',\n",
       "    'fillOpacity': 0.5,\n",
       "    'weight': 1},\n",
       "   'type': 'Feature'},\n",
       "  {'geometry': {'coordinates': [8.9175, 56.1008], 'type': 'Point'},\n",
       "   'properties': {'color': '#990000',\n",
       "    'fillColor': '#990000',\n",
       "    'fillOpacity': 0.5,\n",
       "    'weight': 1},\n",
       "   'type': 'Feature'},\n",
       "  {'geometry': {'coordinates': [8.9337, 56.1009], 'type': 'Point'},\n",
       "   'properties': {'color': '#990000',\n",
       "    'fillColor': '#990000',\n",
       "    'fillOpacity': 0.5,\n",
       "    'weight': 1},\n",
       "   'type': 'Feature'},\n",
       "  {'geometry': {'coordinates': [8.9527, 56.1009], 'type': 'Point'},\n",
       "   'properties': {'color': '#990000',\n",
       "    'fillColor': '#990000',\n",
       "    'fillOpacity': 0.5,\n",
       "    'weight': 1},\n",
       "   'type': 'Feature'},\n",
       "  {'geometry': {'coordinates': [8.9682, 56.1009], 'type': 'Point'},\n",
       "   'properties': {'color': '#990000',\n",
       "    'fillColor': '#990000',\n",
       "    'fillOpacity': 0.5,\n",
       "    'weight': 1},\n",
       "   'type': 'Feature'},\n",
       "  {'geometry': {'coordinates': [8.9761, 56.1009], 'type': 'Point'},\n",
       "   'properties': {'color': '#990000',\n",
       "    'fillColor': '#990000',\n",
       "    'fillOpacity': 0.5,\n",
       "    'weight': 1},\n",
       "   'type': 'Feature'},\n",
       "  {'geometry': {'coordinates': [8.9781, 56.1009], 'type': 'Point'},\n",
       "   'properties': {'color': '#990000',\n",
       "    'fillColor': '#990000',\n",
       "    'fillOpacity': 0.5,\n",
       "    'weight': 1},\n",
       "   'type': 'Feature'},\n",
       "  {'geometry': {'coordinates': [8.9815, 56.1009], 'type': 'Point'},\n",
       "   'properties': {'color': '#990000',\n",
       "    'fillColor': '#990000',\n",
       "    'fillOpacity': 0.5,\n",
       "    'weight': 1},\n",
       "   'type': 'Feature'},\n",
       "  {'geometry': {'coordinates': [9.0067, 56.1009], 'type': 'Point'},\n",
       "   'properties': {'color': '#990000',\n",
       "    'fillColor': '#990000',\n",
       "    'fillOpacity': 0.5,\n",
       "    'weight': 1},\n",
       "   'type': 'Feature'},\n",
       "  {'geometry': {'coordinates': [9.0068, 56.1009], 'type': 'Point'},\n",
       "   'properties': {'color': '#990000',\n",
       "    'fillColor': '#990000',\n",
       "    'fillOpacity': 0.5,\n",
       "    'weight': 1},\n",
       "   'type': 'Feature'},\n",
       "  {'geometry': {'coordinates': [8.9336, 56.101], 'type': 'Point'},\n",
       "   'properties': {'color': '#990000',\n",
       "    'fillColor': '#990000',\n",
       "    'fillOpacity': 0.5,\n",
       "    'weight': 1},\n",
       "   'type': 'Feature'},\n",
       "  {'geometry': {'coordinates': [8.9808, 56.101], 'type': 'Point'},\n",
       "   'properties': {'color': '#990000',\n",
       "    'fillColor': '#990000',\n",
       "    'fillOpacity': 0.5,\n",
       "    'weight': 1},\n",
       "   'type': 'Feature'},\n",
       "  {'geometry': {'coordinates': [8.8582, 56.1011], 'type': 'Point'},\n",
       "   'properties': {'color': '#990000',\n",
       "    'fillColor': '#990000',\n",
       "    'fillOpacity': 0.5,\n",
       "    'weight': 1},\n",
       "   'type': 'Feature'},\n",
       "  {'geometry': {'coordinates': [8.8653, 56.1011], 'type': 'Point'},\n",
       "   'properties': {'color': '#990000',\n",
       "    'fillColor': '#990000',\n",
       "    'fillOpacity': 0.5,\n",
       "    'weight': 1},\n",
       "   'type': 'Feature'},\n",
       "  {'geometry': {'coordinates': [8.9336, 56.1011], 'type': 'Point'},\n",
       "   'properties': {'color': '#990000',\n",
       "    'fillColor': '#990000',\n",
       "    'fillOpacity': 0.5,\n",
       "    'weight': 1},\n",
       "   'type': 'Feature'},\n",
       "  {'geometry': {'coordinates': [8.9493, 56.1011], 'type': 'Point'},\n",
       "   'properties': {'color': '#990000',\n",
       "    'fillColor': '#990000',\n",
       "    'fillOpacity': 0.5,\n",
       "    'weight': 1},\n",
       "   'type': 'Feature'},\n",
       "  {'geometry': {'coordinates': [8.9805, 56.1011], 'type': 'Point'},\n",
       "   'properties': {'color': '#990000',\n",
       "    'fillColor': '#990000',\n",
       "    'fillOpacity': 0.5,\n",
       "    'weight': 1},\n",
       "   'type': 'Feature'},\n",
       "  {'geometry': {'coordinates': [9.0071, 56.1011], 'type': 'Point'},\n",
       "   'properties': {'color': '#990000',\n",
       "    'fillColor': '#990000',\n",
       "    'fillOpacity': 0.5,\n",
       "    'weight': 1},\n",
       "   'type': 'Feature'},\n",
       "  {'geometry': {'coordinates': [8.9112, 56.1012], 'type': 'Point'},\n",
       "   'properties': {'color': '#990000',\n",
       "    'fillColor': '#990000',\n",
       "    'fillOpacity': 0.5,\n",
       "    'weight': 1},\n",
       "   'type': 'Feature'},\n",
       "  {'geometry': {'coordinates': [8.9337, 56.1012], 'type': 'Point'},\n",
       "   'properties': {'color': '#990000',\n",
       "    'fillColor': '#990000',\n",
       "    'fillOpacity': 0.5,\n",
       "    'weight': 1},\n",
       "   'type': 'Feature'},\n",
       "  {'geometry': {'coordinates': [8.8949, 56.1013], 'type': 'Point'},\n",
       "   'properties': {'color': '#990000',\n",
       "    'fillColor': '#990000',\n",
       "    'fillOpacity': 0.5,\n",
       "    'weight': 1},\n",
       "   'type': 'Feature'},\n",
       "  {'geometry': {'coordinates': [8.9304, 56.1013], 'type': 'Point'},\n",
       "   'properties': {'color': '#990000',\n",
       "    'fillColor': '#990000',\n",
       "    'fillOpacity': 0.5,\n",
       "    'weight': 1},\n",
       "   'type': 'Feature'},\n",
       "  {'geometry': {'coordinates': [8.9713, 56.1013], 'type': 'Point'},\n",
       "   'properties': {'color': '#990000',\n",
       "    'fillColor': '#990000',\n",
       "    'fillOpacity': 0.5,\n",
       "    'weight': 1},\n",
       "   'type': 'Feature'},\n",
       "  {'geometry': {'coordinates': [8.9803, 56.1013], 'type': 'Point'},\n",
       "   'properties': {'color': '#990000',\n",
       "    'fillColor': '#990000',\n",
       "    'fillOpacity': 0.5,\n",
       "    'weight': 1},\n",
       "   'type': 'Feature'},\n",
       "  {'geometry': {'coordinates': [9.007, 56.1013], 'type': 'Point'},\n",
       "   'properties': {'color': '#990000',\n",
       "    'fillColor': '#990000',\n",
       "    'fillOpacity': 0.5,\n",
       "    'weight': 1},\n",
       "   'type': 'Feature'},\n",
       "  {'geometry': {'coordinates': [9.0073, 56.1013], 'type': 'Point'},\n",
       "   'properties': {'color': '#990000',\n",
       "    'fillColor': '#990000',\n",
       "    'fillOpacity': 0.5,\n",
       "    'weight': 1},\n",
       "   'type': 'Feature'},\n",
       "  {'geometry': {'coordinates': [8.8582, 56.1014], 'type': 'Point'},\n",
       "   'properties': {'color': '#990000',\n",
       "    'fillColor': '#990000',\n",
       "    'fillOpacity': 0.5,\n",
       "    'weight': 1},\n",
       "   'type': 'Feature'},\n",
       "  {'geometry': {'coordinates': [8.9369, 56.1014], 'type': 'Point'},\n",
       "   'properties': {'color': '#990000',\n",
       "    'fillColor': '#990000',\n",
       "    'fillOpacity': 0.5,\n",
       "    'weight': 1},\n",
       "   'type': 'Feature'},\n",
       "  {'geometry': {'coordinates': [8.9771, 56.1014], 'type': 'Point'},\n",
       "   'properties': {'color': '#990000',\n",
       "    'fillColor': '#990000',\n",
       "    'fillOpacity': 0.5,\n",
       "    'weight': 1},\n",
       "   'type': 'Feature'},\n",
       "  {'geometry': {'coordinates': [8.8571, 56.1015], 'type': 'Point'},\n",
       "   'properties': {'color': '#990000',\n",
       "    'fillColor': '#990000',\n",
       "    'fillOpacity': 0.5,\n",
       "    'weight': 1},\n",
       "   'type': 'Feature'},\n",
       "  {'geometry': {'coordinates': [8.909, 56.1015], 'type': 'Point'},\n",
       "   'properties': {'color': '#990000',\n",
       "    'fillColor': '#990000',\n",
       "    'fillOpacity': 0.5,\n",
       "    'weight': 1},\n",
       "   'type': 'Feature'},\n",
       "  {'geometry': {'coordinates': [8.9799, 56.1015], 'type': 'Point'},\n",
       "   'properties': {'color': '#990000',\n",
       "    'fillColor': '#990000',\n",
       "    'fillOpacity': 0.5,\n",
       "    'weight': 1},\n",
       "   'type': 'Feature'},\n",
       "  {'geometry': {'coordinates': [8.9816, 56.1015], 'type': 'Point'},\n",
       "   'properties': {'color': '#990000',\n",
       "    'fillColor': '#990000',\n",
       "    'fillOpacity': 0.5,\n",
       "    'weight': 1},\n",
       "   'type': 'Feature'},\n",
       "  {'geometry': {'coordinates': [8.8615, 56.1016], 'type': 'Point'},\n",
       "   'properties': {'color': '#990000',\n",
       "    'fillColor': '#990000',\n",
       "    'fillOpacity': 0.5,\n",
       "    'weight': 1},\n",
       "   'type': 'Feature'},\n",
       "  {'geometry': {'coordinates': [8.9596, 56.1016], 'type': 'Point'},\n",
       "   'properties': {'color': '#990000',\n",
       "    'fillColor': '#990000',\n",
       "    'fillOpacity': 0.5,\n",
       "    'weight': 1},\n",
       "   'type': 'Feature'},\n",
       "  {'geometry': {'coordinates': [8.9796, 56.1016], 'type': 'Point'},\n",
       "   'properties': {'color': '#990000',\n",
       "    'fillColor': '#990000',\n",
       "    'fillOpacity': 0.5,\n",
       "    'weight': 1},\n",
       "   'type': 'Feature'},\n",
       "  {'geometry': {'coordinates': [9.0071, 56.1016], 'type': 'Point'},\n",
       "   'properties': {'color': '#990000',\n",
       "    'fillColor': '#990000',\n",
       "    'fillOpacity': 0.5,\n",
       "    'weight': 1},\n",
       "   'type': 'Feature'},\n",
       "  {'geometry': {'coordinates': [8.9342, 56.1017], 'type': 'Point'},\n",
       "   'properties': {'color': '#990000',\n",
       "    'fillColor': '#990000',\n",
       "    'fillOpacity': 0.5,\n",
       "    'weight': 1},\n",
       "   'type': 'Feature'},\n",
       "  {'geometry': {'coordinates': [8.9085, 56.1018], 'type': 'Point'},\n",
       "   'properties': {'color': '#990000',\n",
       "    'fillColor': '#990000',\n",
       "    'fillOpacity': 0.5,\n",
       "    'weight': 1},\n",
       "   'type': 'Feature'},\n",
       "  {'geometry': {'coordinates': [8.9342, 56.1018], 'type': 'Point'},\n",
       "   'properties': {'color': '#990000',\n",
       "    'fillColor': '#990000',\n",
       "    'fillOpacity': 0.5,\n",
       "    'weight': 1},\n",
       "   'type': 'Feature'},\n",
       "  {'geometry': {'coordinates': [8.9576, 56.1018], 'type': 'Point'},\n",
       "   'properties': {'color': '#990000',\n",
       "    'fillColor': '#990000',\n",
       "    'fillOpacity': 0.5,\n",
       "    'weight': 1},\n",
       "   'type': 'Feature'},\n",
       "  {'geometry': {'coordinates': [9.0045, 56.1018], 'type': 'Point'},\n",
       "   'properties': {'color': '#990000',\n",
       "    'fillColor': '#990000',\n",
       "    'fillOpacity': 0.5,\n",
       "    'weight': 1},\n",
       "   'type': 'Feature'},\n",
       "  {'geometry': {'coordinates': [9.0074, 56.1018], 'type': 'Point'},\n",
       "   'properties': {'color': '#990000',\n",
       "    'fillColor': '#990000',\n",
       "    'fillOpacity': 0.5,\n",
       "    'weight': 1},\n",
       "   'type': 'Feature'},\n",
       "  {'geometry': {'coordinates': [8.8584, 56.1019], 'type': 'Point'},\n",
       "   'properties': {'color': '#990000',\n",
       "    'fillColor': '#990000',\n",
       "    'fillOpacity': 0.5,\n",
       "    'weight': 1},\n",
       "   'type': 'Feature'},\n",
       "  {'geometry': {'coordinates': [8.9093, 56.1019], 'type': 'Point'},\n",
       "   'properties': {'color': '#990000',\n",
       "    'fillColor': '#990000',\n",
       "    'fillOpacity': 0.5,\n",
       "    'weight': 1},\n",
       "   'type': 'Feature'},\n",
       "  {'geometry': {'coordinates': [8.9472, 56.1019], 'type': 'Point'},\n",
       "   'properties': {'color': '#990000',\n",
       "    'fillColor': '#990000',\n",
       "    'fillOpacity': 0.5,\n",
       "    'weight': 1},\n",
       "   'type': 'Feature'},\n",
       "  {'geometry': {'coordinates': [8.9798, 56.1019], 'type': 'Point'},\n",
       "   'properties': {'color': '#990000',\n",
       "    'fillColor': '#990000',\n",
       "    'fillOpacity': 0.5,\n",
       "    'weight': 1},\n",
       "   'type': 'Feature'},\n",
       "  {'geometry': {'coordinates': [8.9805, 56.1019], 'type': 'Point'},\n",
       "   'properties': {'color': '#990000',\n",
       "    'fillColor': '#990000',\n",
       "    'fillOpacity': 0.5,\n",
       "    'weight': 1},\n",
       "   'type': 'Feature'},\n",
       "  {'geometry': {'coordinates': [9.0075, 56.1019], 'type': 'Point'},\n",
       "   'properties': {'color': '#990000',\n",
       "    'fillColor': '#990000',\n",
       "    'fillOpacity': 0.5,\n",
       "    'weight': 1},\n",
       "   'type': 'Feature'},\n",
       "  {'geometry': {'coordinates': [8.9094, 56.102], 'type': 'Point'},\n",
       "   'properties': {'color': '#990000',\n",
       "    'fillColor': '#990000',\n",
       "    'fillOpacity': 0.5,\n",
       "    'weight': 1},\n",
       "   'type': 'Feature'},\n",
       "  {'geometry': {'coordinates': [8.9304, 56.102], 'type': 'Point'},\n",
       "   'properties': {'color': '#990000',\n",
       "    'fillColor': '#990000',\n",
       "    'fillOpacity': 0.5,\n",
       "    'weight': 1},\n",
       "   'type': 'Feature'},\n",
       "  {'geometry': {'coordinates': [8.9578, 56.102], 'type': 'Point'},\n",
       "   'properties': {'color': '#990000',\n",
       "    'fillColor': '#990000',\n",
       "    'fillOpacity': 0.5,\n",
       "    'weight': 1},\n",
       "   'type': 'Feature'},\n",
       "  {'geometry': {'coordinates': [8.9775, 56.1021], 'type': 'Point'},\n",
       "   'properties': {'color': '#990000',\n",
       "    'fillColor': '#990000',\n",
       "    'fillOpacity': 0.5,\n",
       "    'weight': 1},\n",
       "   'type': 'Feature'},\n",
       "  {'geometry': {'coordinates': [8.9795, 56.1021], 'type': 'Point'},\n",
       "   'properties': {'color': '#990000',\n",
       "    'fillColor': '#990000',\n",
       "    'fillOpacity': 0.5,\n",
       "    'weight': 1},\n",
       "   'type': 'Feature'},\n",
       "  {'geometry': {'coordinates': [8.9799, 56.1021], 'type': 'Point'},\n",
       "   'properties': {'color': '#990000',\n",
       "    'fillColor': '#990000',\n",
       "    'fillOpacity': 0.5,\n",
       "    'weight': 1},\n",
       "   'type': 'Feature'},\n",
       "  {'geometry': {'coordinates': [8.9096, 56.1022], 'type': 'Point'},\n",
       "   'properties': {'color': '#990000',\n",
       "    'fillColor': '#990000',\n",
       "    'fillOpacity': 0.5,\n",
       "    'weight': 1},\n",
       "   'type': 'Feature'},\n",
       "  {'geometry': {'coordinates': [8.9111, 56.1022], 'type': 'Point'},\n",
       "   'properties': {'color': '#990000',\n",
       "    'fillColor': '#990000',\n",
       "    'fillOpacity': 0.5,\n",
       "    'weight': 1},\n",
       "   'type': 'Feature'},\n",
       "  {'geometry': {'coordinates': [8.9487, 56.1022], 'type': 'Point'},\n",
       "   'properties': {'color': '#990000',\n",
       "    'fillColor': '#990000',\n",
       "    'fillOpacity': 0.5,\n",
       "    'weight': 1},\n",
       "   'type': 'Feature'},\n",
       "  {'geometry': {'coordinates': [8.9792, 56.1022], 'type': 'Point'},\n",
       "   'properties': {'color': '#990000',\n",
       "    'fillColor': '#990000',\n",
       "    'fillOpacity': 0.5,\n",
       "    'weight': 1},\n",
       "   'type': 'Feature'},\n",
       "  {'geometry': {'coordinates': [8.9799, 56.1022], 'type': 'Point'},\n",
       "   'properties': {'color': '#990000',\n",
       "    'fillColor': '#990000',\n",
       "    'fillOpacity': 0.5,\n",
       "    'weight': 1},\n",
       "   'type': 'Feature'},\n",
       "  {'geometry': {'coordinates': [9.0029, 56.1022], 'type': 'Point'},\n",
       "   'properties': {'color': '#990000',\n",
       "    'fillColor': '#990000',\n",
       "    'fillOpacity': 0.5,\n",
       "    'weight': 1},\n",
       "   'type': 'Feature'},\n",
       "  {'geometry': {'coordinates': [8.8919, 56.1023], 'type': 'Point'},\n",
       "   'properties': {'color': '#990000',\n",
       "    'fillColor': '#990000',\n",
       "    'fillOpacity': 0.5,\n",
       "    'weight': 1},\n",
       "   'type': 'Feature'},\n",
       "  {'geometry': {'coordinates': [8.9779, 56.1023], 'type': 'Point'},\n",
       "   'properties': {'color': '#990000',\n",
       "    'fillColor': '#990000',\n",
       "    'fillOpacity': 0.5,\n",
       "    'weight': 1},\n",
       "   'type': 'Feature'},\n",
       "  {'geometry': {'coordinates': [8.9793, 56.1023], 'type': 'Point'},\n",
       "   'properties': {'color': '#990000',\n",
       "    'fillColor': '#990000',\n",
       "    'fillOpacity': 0.5,\n",
       "    'weight': 1},\n",
       "   'type': 'Feature'},\n",
       "  {'geometry': {'coordinates': [8.9802, 56.1023], 'type': 'Point'},\n",
       "   'properties': {'color': '#990000',\n",
       "    'fillColor': '#990000',\n",
       "    'fillOpacity': 0.5,\n",
       "    'weight': 1},\n",
       "   'type': 'Feature'},\n",
       "  {'geometry': {'coordinates': [8.9806, 56.1023], 'type': 'Point'},\n",
       "   'properties': {'color': '#990000',\n",
       "    'fillColor': '#990000',\n",
       "    'fillOpacity': 0.5,\n",
       "    'weight': 1},\n",
       "   'type': 'Feature'},\n",
       "  {'geometry': {'coordinates': [8.9857, 56.1023], 'type': 'Point'},\n",
       "   'properties': {'color': '#990000',\n",
       "    'fillColor': '#990000',\n",
       "    'fillOpacity': 0.5,\n",
       "    'weight': 1},\n",
       "   'type': 'Feature'},\n",
       "  {'geometry': {'coordinates': [8.9347, 56.1024], 'type': 'Point'},\n",
       "   'properties': {'color': '#990000',\n",
       "    'fillColor': '#990000',\n",
       "    'fillOpacity': 0.5,\n",
       "    'weight': 1},\n",
       "   'type': 'Feature'},\n",
       "  {'geometry': {'coordinates': [8.9804, 56.1024], 'type': 'Point'},\n",
       "   'properties': {'color': '#990000',\n",
       "    'fillColor': '#990000',\n",
       "    'fillOpacity': 0.5,\n",
       "    'weight': 1},\n",
       "   'type': 'Feature'},\n",
       "  {'geometry': {'coordinates': [8.9852, 56.1024], 'type': 'Point'},\n",
       "   'properties': {'color': '#990000',\n",
       "    'fillColor': '#990000',\n",
       "    'fillOpacity': 0.5,\n",
       "    'weight': 1},\n",
       "   'type': 'Feature'},\n",
       "  {'geometry': {'coordinates': [8.9857, 56.1024], 'type': 'Point'},\n",
       "   'properties': {'color': '#990000',\n",
       "    'fillColor': '#990000',\n",
       "    'fillOpacity': 0.5,\n",
       "    'weight': 1},\n",
       "   'type': 'Feature'},\n",
       "  {'geometry': {'coordinates': [8.8612, 56.1025], 'type': 'Point'},\n",
       "   'properties': {'color': '#990000',\n",
       "    'fillColor': '#990000',\n",
       "    'fillOpacity': 0.5,\n",
       "    'weight': 1},\n",
       "   'type': 'Feature'},\n",
       "  {'geometry': {'coordinates': [8.9349, 56.1025], 'type': 'Point'},\n",
       "   'properties': {'color': '#990000',\n",
       "    'fillColor': '#990000',\n",
       "    'fillOpacity': 0.5,\n",
       "    'weight': 1},\n",
       "   'type': 'Feature'},\n",
       "  {'geometry': {'coordinates': [8.9606, 56.1025], 'type': 'Point'},\n",
       "   'properties': {'color': '#990000',\n",
       "    'fillColor': '#990000',\n",
       "    'fillOpacity': 0.5,\n",
       "    'weight': 1},\n",
       "   'type': 'Feature'},\n",
       "  {'geometry': {'coordinates': [8.9615, 56.1025], 'type': 'Point'},\n",
       "   'properties': {'color': '#990000',\n",
       "    'fillColor': '#990000',\n",
       "    'fillOpacity': 0.5,\n",
       "    'weight': 1},\n",
       "   'type': 'Feature'},\n",
       "  {'geometry': {'coordinates': [8.9733, 56.1025], 'type': 'Point'},\n",
       "   'properties': {'color': '#990000',\n",
       "    'fillColor': '#990000',\n",
       "    'fillOpacity': 0.5,\n",
       "    'weight': 1},\n",
       "   'type': 'Feature'},\n",
       "  {'geometry': {'coordinates': [8.9747, 56.1025], 'type': 'Point'},\n",
       "   'properties': {'color': '#990000',\n",
       "    'fillColor': '#990000',\n",
       "    'fillOpacity': 0.5,\n",
       "    'weight': 1},\n",
       "   'type': 'Feature'},\n",
       "  {'geometry': {'coordinates': [8.9753, 56.1025], 'type': 'Point'},\n",
       "   'properties': {'color': '#990000',\n",
       "    'fillColor': '#990000',\n",
       "    'fillOpacity': 0.5,\n",
       "    'weight': 1},\n",
       "   'type': 'Feature'},\n",
       "  {'geometry': {'coordinates': [8.9766, 56.1025], 'type': 'Point'},\n",
       "   'properties': {'color': '#990000',\n",
       "    'fillColor': '#990000',\n",
       "    'fillOpacity': 0.5,\n",
       "    'weight': 1},\n",
       "   'type': 'Feature'},\n",
       "  {'geometry': {'coordinates': [8.8588, 56.1026], 'type': 'Point'},\n",
       "   'properties': {'color': '#990000',\n",
       "    'fillColor': '#990000',\n",
       "    'fillOpacity': 0.5,\n",
       "    'weight': 1},\n",
       "   'type': 'Feature'},\n",
       "  {'geometry': {'coordinates': [8.8598, 56.1026], 'type': 'Point'},\n",
       "   'properties': {'color': '#990000',\n",
       "    'fillColor': '#990000',\n",
       "    'fillOpacity': 0.5,\n",
       "    'weight': 1},\n",
       "   'type': 'Feature'},\n",
       "  {'geometry': {'coordinates': [8.9346, 56.1026], 'type': 'Point'},\n",
       "   'properties': {'color': '#990000',\n",
       "    'fillColor': '#990000',\n",
       "    'fillOpacity': 0.5,\n",
       "    'weight': 1},\n",
       "   'type': 'Feature'},\n",
       "  {'geometry': {'coordinates': [8.9352, 56.1026], 'type': 'Point'},\n",
       "   'properties': {'color': '#990000',\n",
       "    'fillColor': '#990000',\n",
       "    'fillOpacity': 0.5,\n",
       "    'weight': 1},\n",
       "   'type': 'Feature'},\n",
       "  {'geometry': {'coordinates': [8.9355, 56.1026], 'type': 'Point'},\n",
       "   'properties': {'color': '#990000',\n",
       "    'fillColor': '#990000',\n",
       "    'fillOpacity': 0.5,\n",
       "    'weight': 1},\n",
       "   'type': 'Feature'},\n",
       "  {'geometry': {'coordinates': [8.9729, 56.1026], 'type': 'Point'},\n",
       "   'properties': {'color': '#990000',\n",
       "    'fillColor': '#990000',\n",
       "    'fillOpacity': 0.5,\n",
       "    'weight': 1},\n",
       "   'type': 'Feature'},\n",
       "  {'geometry': {'coordinates': [8.973, 56.1026], 'type': 'Point'},\n",
       "   'properties': {'color': '#990000',\n",
       "    'fillColor': '#990000',\n",
       "    'fillOpacity': 0.5,\n",
       "    'weight': 1},\n",
       "   'type': 'Feature'},\n",
       "  {'geometry': {'coordinates': [8.9731, 56.1026], 'type': 'Point'},\n",
       "   'properties': {'color': '#990000',\n",
       "    'fillColor': '#990000',\n",
       "    'fillOpacity': 0.5,\n",
       "    'weight': 1},\n",
       "   'type': 'Feature'},\n",
       "  {'geometry': {'coordinates': [8.9738, 56.1026], 'type': 'Point'},\n",
       "   'properties': {'color': '#990000',\n",
       "    'fillColor': '#990000',\n",
       "    'fillOpacity': 0.5,\n",
       "    'weight': 1},\n",
       "   'type': 'Feature'},\n",
       "  {'geometry': {'coordinates': [8.9743, 56.1026], 'type': 'Point'},\n",
       "   'properties': {'color': '#990000',\n",
       "    'fillColor': '#990000',\n",
       "    'fillOpacity': 0.5,\n",
       "    'weight': 1},\n",
       "   'type': 'Feature'},\n",
       "  {'geometry': {'coordinates': [8.9744, 56.1026], 'type': 'Point'},\n",
       "   'properties': {'color': '#990000',\n",
       "    'fillColor': '#990000',\n",
       "    'fillOpacity': 0.5,\n",
       "    'weight': 1},\n",
       "   'type': 'Feature'},\n",
       "  {'geometry': {'coordinates': [8.9796, 56.1026], 'type': 'Point'},\n",
       "   'properties': {'color': '#990000',\n",
       "    'fillColor': '#990000',\n",
       "    'fillOpacity': 0.5,\n",
       "    'weight': 1},\n",
       "   'type': 'Feature'},\n",
       "  {'geometry': {'coordinates': [9.0078, 56.1026], 'type': 'Point'},\n",
       "   'properties': {'color': '#990000',\n",
       "    'fillColor': '#990000',\n",
       "    'fillOpacity': 0.5,\n",
       "    'weight': 1},\n",
       "   'type': 'Feature'},\n",
       "  {'geometry': {'coordinates': [8.9354, 56.1027], 'type': 'Point'},\n",
       "   'properties': {'color': '#990000',\n",
       "    'fillColor': '#990000',\n",
       "    'fillOpacity': 0.5,\n",
       "    'weight': 1},\n",
       "   'type': 'Feature'},\n",
       "  {'geometry': {'coordinates': [8.9727, 56.1027], 'type': 'Point'},\n",
       "   'properties': {'color': '#990000',\n",
       "    'fillColor': '#990000',\n",
       "    'fillOpacity': 0.5,\n",
       "    'weight': 1},\n",
       "   'type': 'Feature'},\n",
       "  {'geometry': {'coordinates': [8.9728, 56.1027], 'type': 'Point'},\n",
       "   'properties': {'color': '#990000',\n",
       "    'fillColor': '#990000',\n",
       "    'fillOpacity': 0.5,\n",
       "    'weight': 1},\n",
       "   'type': 'Feature'},\n",
       "  {'geometry': {'coordinates': [8.9729, 56.1027], 'type': 'Point'},\n",
       "   'properties': {'color': '#990000',\n",
       "    'fillColor': '#990000',\n",
       "    'fillOpacity': 0.5,\n",
       "    'weight': 1},\n",
       "   'type': 'Feature'},\n",
       "  {'geometry': {'coordinates': [8.973, 56.1027], 'type': 'Point'},\n",
       "   'properties': {'color': '#990000',\n",
       "    'fillColor': '#990000',\n",
       "    'fillOpacity': 0.5,\n",
       "    'weight': 1},\n",
       "   'type': 'Feature'},\n",
       "  {'geometry': {'coordinates': [8.9731, 56.1027], 'type': 'Point'},\n",
       "   'properties': {'color': '#990000',\n",
       "    'fillColor': '#990000',\n",
       "    'fillOpacity': 0.5,\n",
       "    'weight': 1},\n",
       "   'type': 'Feature'},\n",
       "  {'geometry': {'coordinates': [8.9732, 56.1027], 'type': 'Point'},\n",
       "   'properties': {'color': '#990000',\n",
       "    'fillColor': '#990000',\n",
       "    'fillOpacity': 0.5,\n",
       "    'weight': 1},\n",
       "   'type': 'Feature'},\n",
       "  {'geometry': {'coordinates': [8.9737, 56.1027], 'type': 'Point'},\n",
       "   'properties': {'color': '#990000',\n",
       "    'fillColor': '#990000',\n",
       "    'fillOpacity': 0.5,\n",
       "    'weight': 1},\n",
       "   'type': 'Feature'},\n",
       "  {'geometry': {'coordinates': [8.9753, 56.1027], 'type': 'Point'},\n",
       "   'properties': {'color': '#990000',\n",
       "    'fillColor': '#990000',\n",
       "    'fillOpacity': 0.5,\n",
       "    'weight': 1},\n",
       "   'type': 'Feature'},\n",
       "  {'geometry': {'coordinates': [8.9828, 56.1027], 'type': 'Point'},\n",
       "   'properties': {'color': '#990000',\n",
       "    'fillColor': '#990000',\n",
       "    'fillOpacity': 0.5,\n",
       "    'weight': 1},\n",
       "   'type': 'Feature'},\n",
       "  {'geometry': {'coordinates': [8.8679, 56.1028], 'type': 'Point'},\n",
       "   'properties': {'color': '#990000',\n",
       "    'fillColor': '#990000',\n",
       "    'fillOpacity': 0.5,\n",
       "    'weight': 1},\n",
       "   'type': 'Feature'},\n",
       "  {'geometry': {'coordinates': [8.9351, 56.1028], 'type': 'Point'},\n",
       "   'properties': {'color': '#990000',\n",
       "    'fillColor': '#990000',\n",
       "    'fillOpacity': 0.5,\n",
       "    'weight': 1},\n",
       "   'type': 'Feature'},\n",
       "  {'geometry': {'coordinates': [8.9721, 56.1028], 'type': 'Point'},\n",
       "   'properties': {'color': '#990000',\n",
       "    'fillColor': '#990000',\n",
       "    'fillOpacity': 0.5,\n",
       "    'weight': 1},\n",
       "   'type': 'Feature'},\n",
       "  {'geometry': {'coordinates': [8.9725, 56.1028], 'type': 'Point'},\n",
       "   'properties': {'color': '#990000',\n",
       "    'fillColor': '#990000',\n",
       "    'fillOpacity': 0.5,\n",
       "    'weight': 1},\n",
       "   'type': 'Feature'},\n",
       "  {'geometry': {'coordinates': [8.9726, 56.1028], 'type': 'Point'},\n",
       "   'properties': {'color': '#990000',\n",
       "    'fillColor': '#990000',\n",
       "    'fillOpacity': 0.5,\n",
       "    'weight': 1},\n",
       "   'type': 'Feature'},\n",
       "  {'geometry': {'coordinates': [8.9728, 56.1028], 'type': 'Point'},\n",
       "   'properties': {'color': '#990000',\n",
       "    'fillColor': '#990000',\n",
       "    'fillOpacity': 0.5,\n",
       "    'weight': 1},\n",
       "   'type': 'Feature'},\n",
       "  {'geometry': {'coordinates': [8.973, 56.1028], 'type': 'Point'},\n",
       "   'properties': {'color': '#990000',\n",
       "    'fillColor': '#990000',\n",
       "    'fillOpacity': 0.5,\n",
       "    'weight': 1},\n",
       "   'type': 'Feature'},\n",
       "  {'geometry': {'coordinates': [8.9731, 56.1028], 'type': 'Point'},\n",
       "   'properties': {'color': '#990000',\n",
       "    'fillColor': '#990000',\n",
       "    'fillOpacity': 0.5,\n",
       "    'weight': 1},\n",
       "   'type': 'Feature'},\n",
       "  {'geometry': {'coordinates': [8.9733, 56.1028], 'type': 'Point'},\n",
       "   'properties': {'color': '#990000',\n",
       "    'fillColor': '#990000',\n",
       "    'fillOpacity': 0.5,\n",
       "    'weight': 1},\n",
       "   'type': 'Feature'},\n",
       "  {'geometry': {'coordinates': [9.0014, 56.1028], 'type': 'Point'},\n",
       "   'properties': {'color': '#990000',\n",
       "    'fillColor': '#990000',\n",
       "    'fillOpacity': 0.5,\n",
       "    'weight': 1},\n",
       "   'type': 'Feature'},\n",
       "  {'geometry': {'coordinates': [8.8651, 56.1029], 'type': 'Point'},\n",
       "   'properties': {'color': '#990000',\n",
       "    'fillColor': '#990000',\n",
       "    'fillOpacity': 0.5,\n",
       "    'weight': 1},\n",
       "   'type': 'Feature'},\n",
       "  {'geometry': {'coordinates': [8.9095, 56.1029], 'type': 'Point'},\n",
       "   'properties': {'color': '#990000',\n",
       "    'fillColor': '#990000',\n",
       "    'fillOpacity': 0.5,\n",
       "    'weight': 1},\n",
       "   'type': 'Feature'},\n",
       "  {'geometry': {'coordinates': [8.9351, 56.1029], 'type': 'Point'},\n",
       "   'properties': {'color': '#990000',\n",
       "    'fillColor': '#990000',\n",
       "    'fillOpacity': 0.5,\n",
       "    'weight': 1},\n",
       "   'type': 'Feature'},\n",
       "  {'geometry': {'coordinates': [8.9451, 56.1029], 'type': 'Point'},\n",
       "   'properties': {'color': '#990000',\n",
       "    'fillColor': '#990000',\n",
       "    'fillOpacity': 0.5,\n",
       "    'weight': 1},\n",
       "   'type': 'Feature'},\n",
       "  {'geometry': {'coordinates': [8.9702, 56.1029], 'type': 'Point'},\n",
       "   'properties': {'color': '#990000',\n",
       "    'fillColor': '#990000',\n",
       "    'fillOpacity': 0.5,\n",
       "    'weight': 1},\n",
       "   'type': 'Feature'},\n",
       "  {'geometry': {'coordinates': [8.9729, 56.1029], 'type': 'Point'},\n",
       "   'properties': {'color': '#990000',\n",
       "    'fillColor': '#990000',\n",
       "    'fillOpacity': 0.5,\n",
       "    'weight': 1},\n",
       "   'type': 'Feature'},\n",
       "  {'geometry': {'coordinates': [8.973, 56.1029], 'type': 'Point'},\n",
       "   'properties': {'color': '#990000',\n",
       "    'fillColor': '#990000',\n",
       "    'fillOpacity': 0.5,\n",
       "    'weight': 1},\n",
       "   'type': 'Feature'},\n",
       "  {'geometry': {'coordinates': [8.9731, 56.1029], 'type': 'Point'},\n",
       "   'properties': {'color': '#990000',\n",
       "    'fillColor': '#990000',\n",
       "    'fillOpacity': 0.5,\n",
       "    'weight': 1},\n",
       "   'type': 'Feature'},\n",
       "  {'geometry': {'coordinates': [8.9732, 56.1029], 'type': 'Point'},\n",
       "   'properties': {'color': '#990000',\n",
       "    'fillColor': '#990000',\n",
       "    'fillOpacity': 0.5,\n",
       "    'weight': 1},\n",
       "   'type': 'Feature'},\n",
       "  {'geometry': {'coordinates': [8.9733, 56.1029], 'type': 'Point'},\n",
       "   'properties': {'color': '#990000',\n",
       "    'fillColor': '#990000',\n",
       "    'fillOpacity': 0.5,\n",
       "    'weight': 1},\n",
       "   'type': 'Feature'},\n",
       "  {'geometry': {'coordinates': [8.9737, 56.1029], 'type': 'Point'},\n",
       "   'properties': {'color': '#990000',\n",
       "    'fillColor': '#990000',\n",
       "    'fillOpacity': 0.5,\n",
       "    'weight': 1},\n",
       "   'type': 'Feature'},\n",
       "  {'geometry': {'coordinates': [8.9793, 56.1029], 'type': 'Point'},\n",
       "   'properties': {'color': '#990000',\n",
       "    'fillColor': '#990000',\n",
       "    'fillOpacity': 0.5,\n",
       "    'weight': 1},\n",
       "   'type': 'Feature'},\n",
       "  {'geometry': {'coordinates': [8.9799, 56.1029], 'type': 'Point'},\n",
       "   'properties': {'color': '#990000',\n",
       "    'fillColor': '#990000',\n",
       "    'fillOpacity': 0.5,\n",
       "    'weight': 1},\n",
       "   'type': 'Feature'},\n",
       "  {'geometry': {'coordinates': [9.0017, 56.1029], 'type': 'Point'},\n",
       "   'properties': {'color': '#990000',\n",
       "    'fillColor': '#990000',\n",
       "    'fillOpacity': 0.5,\n",
       "    'weight': 1},\n",
       "   'type': 'Feature'},\n",
       "  {'geometry': {'coordinates': [8.8579, 56.103], 'type': 'Point'},\n",
       "   'properties': {'color': '#990000',\n",
       "    'fillColor': '#990000',\n",
       "    'fillOpacity': 0.5,\n",
       "    'weight': 1},\n",
       "   'type': 'Feature'},\n",
       "  {'geometry': {'coordinates': [8.8663, 56.103], 'type': 'Point'},\n",
       "   'properties': {'color': '#990000',\n",
       "    'fillColor': '#990000',\n",
       "    'fillOpacity': 0.5,\n",
       "    'weight': 1},\n",
       "   'type': 'Feature'},\n",
       "  {'geometry': {'coordinates': [8.8812, 56.103], 'type': 'Point'},\n",
       "   'properties': {'color': '#990000',\n",
       "    'fillColor': '#990000',\n",
       "    'fillOpacity': 0.5,\n",
       "    'weight': 1},\n",
       "   'type': 'Feature'},\n",
       "  {'geometry': {'coordinates': [8.9338, 56.103], 'type': 'Point'},\n",
       "   'properties': {'color': '#990000',\n",
       "    'fillColor': '#990000',\n",
       "    'fillOpacity': 0.5,\n",
       "    'weight': 1},\n",
       "   'type': 'Feature'},\n",
       "  {'geometry': {'coordinates': [8.9351, 56.103], 'type': 'Point'},\n",
       "   'properties': {'color': '#990000',\n",
       "    'fillColor': '#990000',\n",
       "    'fillOpacity': 0.5,\n",
       "    'weight': 1},\n",
       "   'type': 'Feature'},\n",
       "  {'geometry': {'coordinates': [8.9697, 56.103], 'type': 'Point'},\n",
       "   'properties': {'color': '#990000',\n",
       "    'fillColor': '#990000',\n",
       "    'fillOpacity': 0.5,\n",
       "    'weight': 1},\n",
       "   'type': 'Feature'},\n",
       "  {'geometry': {'coordinates': [8.9726, 56.103], 'type': 'Point'},\n",
       "   'properties': {'color': '#990000',\n",
       "    'fillColor': '#990000',\n",
       "    'fillOpacity': 0.5,\n",
       "    'weight': 1},\n",
       "   'type': 'Feature'},\n",
       "  {'geometry': {'coordinates': [8.9782, 56.103], 'type': 'Point'},\n",
       "   'properties': {'color': '#990000',\n",
       "    'fillColor': '#990000',\n",
       "    'fillOpacity': 0.5,\n",
       "    'weight': 1},\n",
       "   'type': 'Feature'},\n",
       "  {'geometry': {'coordinates': [9.0076, 56.103], 'type': 'Point'},\n",
       "   'properties': {'color': '#990000',\n",
       "    'fillColor': '#990000',\n",
       "    'fillOpacity': 0.5,\n",
       "    'weight': 1},\n",
       "   'type': 'Feature'},\n",
       "  {'geometry': {'coordinates': [8.9702, 56.1031], 'type': 'Point'},\n",
       "   'properties': {'color': '#990000',\n",
       "    'fillColor': '#990000',\n",
       "    'fillOpacity': 0.5,\n",
       "    'weight': 1},\n",
       "   'type': 'Feature'},\n",
       "  {'geometry': {'coordinates': [8.9704, 56.1031], 'type': 'Point'},\n",
       "   'properties': {'color': '#990000',\n",
       "    'fillColor': '#990000',\n",
       "    'fillOpacity': 0.5,\n",
       "    'weight': 1},\n",
       "   'type': 'Feature'},\n",
       "  {'geometry': {'coordinates': [8.9705, 56.1031], 'type': 'Point'},\n",
       "   'properties': {'color': '#990000',\n",
       "    'fillColor': '#990000',\n",
       "    'fillOpacity': 0.5,\n",
       "    'weight': 1},\n",
       "   'type': 'Feature'},\n",
       "  {'geometry': {'coordinates': [8.9712, 56.1031], 'type': 'Point'},\n",
       "   'properties': {'color': '#990000',\n",
       "    'fillColor': '#990000',\n",
       "    'fillOpacity': 0.5,\n",
       "    'weight': 1},\n",
       "   'type': 'Feature'},\n",
       "  {'geometry': {'coordinates': [8.9722, 56.1031], 'type': 'Point'},\n",
       "   'properties': {'color': '#990000',\n",
       "    'fillColor': '#990000',\n",
       "    'fillOpacity': 0.5,\n",
       "    'weight': 1},\n",
       "   'type': 'Feature'},\n",
       "  {'geometry': {'coordinates': [8.9742, 56.1031], 'type': 'Point'},\n",
       "   'properties': {'color': '#990000',\n",
       "    'fillColor': '#990000',\n",
       "    'fillOpacity': 0.5,\n",
       "    'weight': 1},\n",
       "   'type': 'Feature'},\n",
       "  {'geometry': {'coordinates': [8.9783, 56.1031], 'type': 'Point'},\n",
       "   'properties': {'color': '#990000',\n",
       "    'fillColor': '#990000',\n",
       "    'fillOpacity': 0.5,\n",
       "    'weight': 1},\n",
       "   'type': 'Feature'},\n",
       "  {'geometry': {'coordinates': [8.9655, 56.1032], 'type': 'Point'},\n",
       "   'properties': {'color': '#990000',\n",
       "    'fillColor': '#990000',\n",
       "    'fillOpacity': 0.5,\n",
       "    'weight': 1},\n",
       "   'type': 'Feature'},\n",
       "  {'geometry': {'coordinates': [8.9703, 56.1032], 'type': 'Point'},\n",
       "   'properties': {'color': '#990000',\n",
       "    'fillColor': '#990000',\n",
       "    'fillOpacity': 0.5,\n",
       "    'weight': 1},\n",
       "   'type': 'Feature'},\n",
       "  {'geometry': {'coordinates': [8.9704, 56.1032], 'type': 'Point'},\n",
       "   'properties': {'color': '#990000',\n",
       "    'fillColor': '#990000',\n",
       "    'fillOpacity': 0.5,\n",
       "    'weight': 1},\n",
       "   'type': 'Feature'},\n",
       "  {'geometry': {'coordinates': [8.9705, 56.1032], 'type': 'Point'},\n",
       "   'properties': {'color': '#990000',\n",
       "    'fillColor': '#990000',\n",
       "    'fillOpacity': 0.5,\n",
       "    'weight': 1},\n",
       "   'type': 'Feature'},\n",
       "  {'geometry': {'coordinates': [8.9733, 56.1032], 'type': 'Point'},\n",
       "   'properties': {'color': '#990000',\n",
       "    'fillColor': '#990000',\n",
       "    'fillOpacity': 0.5,\n",
       "    'weight': 1},\n",
       "   'type': 'Feature'},\n",
       "  {'geometry': {'coordinates': [8.9734, 56.1032], 'type': 'Point'},\n",
       "   'properties': {'color': '#990000',\n",
       "    'fillColor': '#990000',\n",
       "    'fillOpacity': 0.5,\n",
       "    'weight': 1},\n",
       "   'type': 'Feature'},\n",
       "  {'geometry': {'coordinates': [8.9735, 56.1032], 'type': 'Point'},\n",
       "   'properties': {'color': '#990000',\n",
       "    'fillColor': '#990000',\n",
       "    'fillOpacity': 0.5,\n",
       "    'weight': 1},\n",
       "   'type': 'Feature'},\n",
       "  {'geometry': {'coordinates': [8.9736, 56.1032], 'type': 'Point'},\n",
       "   'properties': {'color': '#990000',\n",
       "    'fillColor': '#990000',\n",
       "    'fillOpacity': 0.5,\n",
       "    'weight': 1},\n",
       "   'type': 'Feature'},\n",
       "  {'geometry': {'coordinates': [9.0079, 56.1032], 'type': 'Point'},\n",
       "   'properties': {'color': '#990000',\n",
       "    'fillColor': '#990000',\n",
       "    'fillOpacity': 0.5,\n",
       "    'weight': 1},\n",
       "   'type': 'Feature'},\n",
       "  {'geometry': {'coordinates': [8.8645, 56.1033], 'type': 'Point'},\n",
       "   'properties': {'color': '#990000',\n",
       "    'fillColor': '#990000',\n",
       "    'fillOpacity': 0.5,\n",
       "    'weight': 1},\n",
       "   'type': 'Feature'},\n",
       "  {'geometry': {'coordinates': [8.9366, 56.1033], 'type': 'Point'},\n",
       "   'properties': {'color': '#990000',\n",
       "    'fillColor': '#990000',\n",
       "    'fillOpacity': 0.5,\n",
       "    'weight': 1},\n",
       "   'type': 'Feature'},\n",
       "  {'geometry': {'coordinates': [8.9704, 56.1033], 'type': 'Point'},\n",
       "   'properties': {'color': '#990000',\n",
       "    'fillColor': '#990000',\n",
       "    'fillOpacity': 0.5,\n",
       "    'weight': 1},\n",
       "   'type': 'Feature'},\n",
       "  {'geometry': {'coordinates': [8.9723, 56.1033], 'type': 'Point'},\n",
       "   'properties': {'color': '#990000',\n",
       "    'fillColor': '#990000',\n",
       "    'fillOpacity': 0.5,\n",
       "    'weight': 1},\n",
       "   'type': 'Feature'},\n",
       "  {'geometry': {'coordinates': [8.9825, 56.1033], 'type': 'Point'},\n",
       "   'properties': {'color': '#990000',\n",
       "    'fillColor': '#990000',\n",
       "    'fillOpacity': 0.5,\n",
       "    'weight': 1},\n",
       "   'type': 'Feature'},\n",
       "  {'geometry': {'coordinates': [8.9357, 56.1034], 'type': 'Point'},\n",
       "   'properties': {'color': '#990000',\n",
       "    'fillColor': '#990000',\n",
       "    'fillOpacity': 0.5,\n",
       "    'weight': 1},\n",
       "   'type': 'Feature'},\n",
       "  {'geometry': {'coordinates': [8.9784, 56.1034], 'type': 'Point'},\n",
       "   'properties': {'color': '#990000',\n",
       "    'fillColor': '#990000',\n",
       "    'fillOpacity': 0.5,\n",
       "    'weight': 1},\n",
       "   'type': 'Feature'},\n",
       "  {'geometry': {'coordinates': [8.9793, 56.1034], 'type': 'Point'},\n",
       "   'properties': {'color': '#990000',\n",
       "    'fillColor': '#990000',\n",
       "    'fillOpacity': 0.5,\n",
       "    'weight': 1},\n",
       "   'type': 'Feature'},\n",
       "  {'geometry': {'coordinates': [9.0077, 56.1034], 'type': 'Point'},\n",
       "   'properties': {'color': '#990000',\n",
       "    'fillColor': '#990000',\n",
       "    'fillOpacity': 0.5,\n",
       "    'weight': 1},\n",
       "   'type': 'Feature'},\n",
       "  {'geometry': {'coordinates': [9.008, 56.1034], 'type': 'Point'},\n",
       "   'properties': {'color': '#990000',\n",
       "    'fillColor': '#990000',\n",
       "    'fillOpacity': 0.5,\n",
       "    'weight': 1},\n",
       "   'type': 'Feature'},\n",
       "  {'geometry': {'coordinates': [9.0193, 56.1034], 'type': 'Point'},\n",
       "   'properties': {'color': '#990000',\n",
       "    'fillColor': '#990000',\n",
       "    'fillOpacity': 0.5,\n",
       "    'weight': 1},\n",
       "   'type': 'Feature'},\n",
       "  {'geometry': {'coordinates': [8.8593, 56.1035], 'type': 'Point'},\n",
       "   'properties': {'color': '#990000',\n",
       "    'fillColor': '#990000',\n",
       "    'fillOpacity': 0.5,\n",
       "    'weight': 1},\n",
       "   'type': 'Feature'},\n",
       "  {'geometry': {'coordinates': [8.9358, 56.1035], 'type': 'Point'},\n",
       "   'properties': {'color': '#990000',\n",
       "    'fillColor': '#990000',\n",
       "    'fillOpacity': 0.5,\n",
       "    'weight': 1},\n",
       "   'type': 'Feature'},\n",
       "  {'geometry': {'coordinates': [8.9706, 56.1035], 'type': 'Point'},\n",
       "   'properties': {'color': '#990000',\n",
       "    'fillColor': '#990000',\n",
       "    'fillOpacity': 0.5,\n",
       "    'weight': 1},\n",
       "   'type': 'Feature'},\n",
       "  {'geometry': {'coordinates': [8.9734, 56.1035], 'type': 'Point'},\n",
       "   'properties': {'color': '#990000',\n",
       "    'fillColor': '#990000',\n",
       "    'fillOpacity': 0.5,\n",
       "    'weight': 1},\n",
       "   'type': 'Feature'},\n",
       "  {'geometry': {'coordinates': [8.9325, 56.1036], 'type': 'Point'},\n",
       "   'properties': {'color': '#990000',\n",
       "    'fillColor': '#990000',\n",
       "    'fillOpacity': 0.5,\n",
       "    'weight': 1},\n",
       "   'type': 'Feature'},\n",
       "  {'geometry': {'coordinates': [8.9414, 56.1037], 'type': 'Point'},\n",
       "   'properties': {'color': '#990000',\n",
       "    'fillColor': '#990000',\n",
       "    'fillOpacity': 0.5,\n",
       "    'weight': 1},\n",
       "   'type': 'Feature'},\n",
       "  {'geometry': {'coordinates': [8.9566, 56.1037], 'type': 'Point'},\n",
       "   'properties': {'color': '#990000',\n",
       "    'fillColor': '#990000',\n",
       "    'fillOpacity': 0.5,\n",
       "    'weight': 1},\n",
       "   'type': 'Feature'},\n",
       "  {'geometry': {'coordinates': [8.97, 56.1037], 'type': 'Point'},\n",
       "   'properties': {'color': '#990000',\n",
       "    'fillColor': '#990000',\n",
       "    'fillOpacity': 0.5,\n",
       "    'weight': 1},\n",
       "   'type': 'Feature'},\n",
       "  {'geometry': {'coordinates': [8.9768, 56.1037], 'type': 'Point'},\n",
       "   'properties': {'color': '#990000',\n",
       "    'fillColor': '#990000',\n",
       "    'fillOpacity': 0.5,\n",
       "    'weight': 1},\n",
       "   'type': 'Feature'},\n",
       "  {'geometry': {'coordinates': [9.0079, 56.1037], 'type': 'Point'},\n",
       "   'properties': {'color': '#990000',\n",
       "    'fillColor': '#990000',\n",
       "    'fillOpacity': 0.5,\n",
       "    'weight': 1},\n",
       "   'type': 'Feature'},\n",
       "  {'geometry': {'coordinates': [9.0185, 56.1037], 'type': 'Point'},\n",
       "   'properties': {'color': '#990000',\n",
       "    'fillColor': '#990000',\n",
       "    'fillOpacity': 0.5,\n",
       "    'weight': 1},\n",
       "   'type': 'Feature'},\n",
       "  {'geometry': {'coordinates': [8.8082, 56.1038], 'type': 'Point'},\n",
       "   'properties': {'color': '#990000',\n",
       "    'fillColor': '#990000',\n",
       "    'fillOpacity': 0.5,\n",
       "    'weight': 1},\n",
       "   'type': 'Feature'},\n",
       "  {'geometry': {'coordinates': [8.8589, 56.1038], 'type': 'Point'},\n",
       "   'properties': {'color': '#990000',\n",
       "    'fillColor': '#990000',\n",
       "    'fillOpacity': 0.5,\n",
       "    'weight': 1},\n",
       "   'type': 'Feature'},\n",
       "  {'geometry': {'coordinates': [8.9774, 56.1038], 'type': 'Point'},\n",
       "   'properties': {'color': '#990000',\n",
       "    'fillColor': '#990000',\n",
       "    'fillOpacity': 0.5,\n",
       "    'weight': 1},\n",
       "   'type': 'Feature'},\n",
       "  {'geometry': {'coordinates': [8.9778, 56.1038], 'type': 'Point'},\n",
       "   'properties': {'color': '#990000',\n",
       "    'fillColor': '#990000',\n",
       "    'fillOpacity': 0.5,\n",
       "    'weight': 1},\n",
       "   'type': 'Feature'},\n",
       "  {'geometry': {'coordinates': [8.8581, 56.1039], 'type': 'Point'},\n",
       "   'properties': {'color': '#990000',\n",
       "    'fillColor': '#990000',\n",
       "    'fillOpacity': 0.5,\n",
       "    'weight': 1},\n",
       "   'type': 'Feature'},\n",
       "  {'geometry': {'coordinates': [8.8593, 56.1039], 'type': 'Point'},\n",
       "   'properties': {'color': '#990000',\n",
       "    'fillColor': '#990000',\n",
       "    'fillOpacity': 0.5,\n",
       "    'weight': 1},\n",
       "   'type': 'Feature'},\n",
       "  {'geometry': {'coordinates': [8.8601, 56.1039], 'type': 'Point'},\n",
       "   'properties': {'color': '#990000',\n",
       "    'fillColor': '#990000',\n",
       "    'fillOpacity': 0.5,\n",
       "    'weight': 1},\n",
       "   'type': 'Feature'},\n",
       "  {'geometry': {'coordinates': [8.8854, 56.1039], 'type': 'Point'},\n",
       "   'properties': {'color': '#990000',\n",
       "    'fillColor': '#990000',\n",
       "    'fillOpacity': 0.5,\n",
       "    'weight': 1},\n",
       "   'type': 'Feature'},\n",
       "  {'geometry': {'coordinates': [8.9092, 56.1039], 'type': 'Point'},\n",
       "   'properties': {'color': '#990000',\n",
       "    'fillColor': '#990000',\n",
       "    'fillOpacity': 0.5,\n",
       "    'weight': 1},\n",
       "   'type': 'Feature'},\n",
       "  {'geometry': {'coordinates': [8.9121, 56.1039], 'type': 'Point'},\n",
       "   'properties': {'color': '#990000',\n",
       "    'fillColor': '#990000',\n",
       "    'fillOpacity': 0.5,\n",
       "    'weight': 1},\n",
       "   'type': 'Feature'},\n",
       "  {'geometry': {'coordinates': [8.9677, 56.1039], 'type': 'Point'},\n",
       "   'properties': {'color': '#990000',\n",
       "    'fillColor': '#990000',\n",
       "    'fillOpacity': 0.5,\n",
       "    'weight': 1},\n",
       "   'type': 'Feature'},\n",
       "  {'geometry': {'coordinates': [8.9745, 56.1039], 'type': 'Point'},\n",
       "   'properties': {'color': '#990000',\n",
       "    'fillColor': '#990000',\n",
       "    'fillOpacity': 0.5,\n",
       "    'weight': 1},\n",
       "   'type': 'Feature'},\n",
       "  {'geometry': {'coordinates': [8.9493, 56.104], 'type': 'Point'},\n",
       "   'properties': {'color': '#990000',\n",
       "    'fillColor': '#990000',\n",
       "    'fillOpacity': 0.5,\n",
       "    'weight': 1},\n",
       "   'type': 'Feature'},\n",
       "  {'geometry': {'coordinates': [8.9697, 56.104], 'type': 'Point'},\n",
       "   'properties': {'color': '#990000',\n",
       "    'fillColor': '#990000',\n",
       "    'fillOpacity': 0.5,\n",
       "    'weight': 1},\n",
       "   'type': 'Feature'},\n",
       "  {'geometry': {'coordinates': [8.9714, 56.104], 'type': 'Point'},\n",
       "   'properties': {'color': '#990000',\n",
       "    'fillColor': '#990000',\n",
       "    'fillOpacity': 0.5,\n",
       "    'weight': 1},\n",
       "   'type': 'Feature'},\n",
       "  {'geometry': {'coordinates': [8.9715, 56.104], 'type': 'Point'},\n",
       "   'properties': {'color': '#990000',\n",
       "    'fillColor': '#990000',\n",
       "    'fillOpacity': 0.5,\n",
       "    'weight': 1},\n",
       "   'type': 'Feature'},\n",
       "  {'geometry': {'coordinates': [8.9733, 56.104], 'type': 'Point'},\n",
       "   'properties': {'color': '#990000',\n",
       "    'fillColor': '#990000',\n",
       "    'fillOpacity': 0.5,\n",
       "    'weight': 1},\n",
       "   'type': 'Feature'},\n",
       "  {'geometry': {'coordinates': [8.9779, 56.104], 'type': 'Point'},\n",
       "   'properties': {'color': '#990000',\n",
       "    'fillColor': '#990000',\n",
       "    'fillOpacity': 0.5,\n",
       "    'weight': 1},\n",
       "   'type': 'Feature'},\n",
       "  {'geometry': {'coordinates': [9.0576, 56.104], 'type': 'Point'},\n",
       "   'properties': {'color': '#990000',\n",
       "    'fillColor': '#990000',\n",
       "    'fillOpacity': 0.5,\n",
       "    'weight': 1},\n",
       "   'type': 'Feature'},\n",
       "  {'geometry': {'coordinates': [8.9699, 56.1041], 'type': 'Point'},\n",
       "   'properties': {'color': '#990000',\n",
       "    'fillColor': '#990000',\n",
       "    'fillOpacity': 0.5,\n",
       "    'weight': 1},\n",
       "   'type': 'Feature'},\n",
       "  {'geometry': {'coordinates': [8.9707, 56.1041], 'type': 'Point'},\n",
       "   'properties': {'color': '#990000',\n",
       "    'fillColor': '#990000',\n",
       "    'fillOpacity': 0.5,\n",
       "    'weight': 1},\n",
       "   'type': 'Feature'},\n",
       "  {'geometry': {'coordinates': [8.9708, 56.1041], 'type': 'Point'},\n",
       "   'properties': {'color': '#990000',\n",
       "    'fillColor': '#990000',\n",
       "    'fillOpacity': 0.5,\n",
       "    'weight': 1},\n",
       "   'type': 'Feature'},\n",
       "  {'geometry': {'coordinates': [8.9715, 56.1041], 'type': 'Point'},\n",
       "   'properties': {'color': '#990000',\n",
       "    'fillColor': '#990000',\n",
       "    'fillOpacity': 0.5,\n",
       "    'weight': 1},\n",
       "   'type': 'Feature'},\n",
       "  {'geometry': {'coordinates': [8.9748, 56.1041], 'type': 'Point'},\n",
       "   'properties': {'color': '#990000',\n",
       "    'fillColor': '#990000',\n",
       "    'fillOpacity': 0.5,\n",
       "    'weight': 1},\n",
       "   'type': 'Feature'},\n",
       "  {'geometry': {'coordinates': [8.9778, 56.1041], 'type': 'Point'},\n",
       "   'properties': {'color': '#990000',\n",
       "    'fillColor': '#990000',\n",
       "    'fillOpacity': 0.5,\n",
       "    'weight': 1},\n",
       "   'type': 'Feature'},\n",
       "  {'geometry': {'coordinates': [8.9779, 56.1041], 'type': 'Point'},\n",
       "   'properties': {'color': '#990000',\n",
       "    'fillColor': '#990000',\n",
       "    'fillOpacity': 0.5,\n",
       "    'weight': 1},\n",
       "   'type': 'Feature'},\n",
       "  {'geometry': {'coordinates': [8.9793, 56.1041], 'type': 'Point'},\n",
       "   'properties': {'color': '#990000',\n",
       "    'fillColor': '#990000',\n",
       "    'fillOpacity': 0.5,\n",
       "    'weight': 1},\n",
       "   'type': 'Feature'},\n",
       "  {'geometry': {'coordinates': [8.9364, 56.1042], 'type': 'Point'},\n",
       "   'properties': {'color': '#990000',\n",
       "    'fillColor': '#990000',\n",
       "    'fillOpacity': 0.5,\n",
       "    'weight': 1},\n",
       "   'type': 'Feature'},\n",
       "  {'geometry': {'coordinates': [8.97, 56.1042], 'type': 'Point'},\n",
       "   'properties': {'color': '#990000',\n",
       "    'fillColor': '#990000',\n",
       "    'fillOpacity': 0.5,\n",
       "    'weight': 1},\n",
       "   'type': 'Feature'},\n",
       "  {'geometry': {'coordinates': [8.9779, 56.1042], 'type': 'Point'},\n",
       "   'properties': {'color': '#990000',\n",
       "    'fillColor': '#990000',\n",
       "    'fillOpacity': 0.5,\n",
       "    'weight': 1},\n",
       "   'type': 'Feature'},\n",
       "  {'geometry': {'coordinates': [8.9791, 56.1042], 'type': 'Point'},\n",
       "   'properties': {'color': '#990000',\n",
       "    'fillColor': '#990000',\n",
       "    'fillOpacity': 0.5,\n",
       "    'weight': 1},\n",
       "   'type': 'Feature'},\n",
       "  {'geometry': {'coordinates': [8.9796, 56.1042], 'type': 'Point'},\n",
       "   'properties': {'color': '#990000',\n",
       "    'fillColor': '#990000',\n",
       "    'fillOpacity': 0.5,\n",
       "    'weight': 1},\n",
       "   'type': 'Feature'},\n",
       "  {'geometry': {'coordinates': [8.9804, 56.1042], 'type': 'Point'},\n",
       "   'properties': {'color': '#990000',\n",
       "    'fillColor': '#990000',\n",
       "    'fillOpacity': 0.5,\n",
       "    'weight': 1},\n",
       "   'type': 'Feature'},\n",
       "  {'geometry': {'coordinates': [8.9807, 56.1042], 'type': 'Point'},\n",
       "   'properties': {'color': '#990000',\n",
       "    'fillColor': '#990000',\n",
       "    'fillOpacity': 0.5,\n",
       "    'weight': 1},\n",
       "   'type': 'Feature'},\n",
       "  {'geometry': {'coordinates': [8.9967, 56.1042], 'type': 'Point'},\n",
       "   'properties': {'color': '#990000',\n",
       "    'fillColor': '#990000',\n",
       "    'fillOpacity': 0.5,\n",
       "    'weight': 1},\n",
       "   'type': 'Feature'},\n",
       "  {'geometry': {'coordinates': [8.9437, 56.1043], 'type': 'Point'},\n",
       "   'properties': {'color': '#990000',\n",
       "    'fillColor': '#990000',\n",
       "    'fillOpacity': 0.5,\n",
       "    'weight': 1},\n",
       "   'type': 'Feature'},\n",
       "  {'geometry': {'coordinates': [8.9544, 56.1043], 'type': 'Point'},\n",
       "   'properties': {'color': '#990000',\n",
       "    'fillColor': '#990000',\n",
       "    'fillOpacity': 0.5,\n",
       "    'weight': 1},\n",
       "   'type': 'Feature'},\n",
       "  {'geometry': {'coordinates': [8.9752, 56.1043], 'type': 'Point'},\n",
       "   'properties': {'color': '#990000',\n",
       "    'fillColor': '#990000',\n",
       "    'fillOpacity': 0.5,\n",
       "    'weight': 1},\n",
       "   'type': 'Feature'},\n",
       "  {'geometry': {'coordinates': [8.9767, 56.1043], 'type': 'Point'},\n",
       "   'properties': {'color': '#990000',\n",
       "    'fillColor': '#990000',\n",
       "    'fillOpacity': 0.5,\n",
       "    'weight': 1},\n",
       "   'type': 'Feature'},\n",
       "  {'geometry': {'coordinates': [8.9779, 56.1043], 'type': 'Point'},\n",
       "   'properties': {'color': '#990000',\n",
       "    'fillColor': '#990000',\n",
       "    'fillOpacity': 0.5,\n",
       "    'weight': 1},\n",
       "   'type': 'Feature'},\n",
       "  {'geometry': {'coordinates': [8.9794, 56.1043], 'type': 'Point'},\n",
       "   'properties': {'color': '#990000',\n",
       "    'fillColor': '#990000',\n",
       "    'fillOpacity': 0.5,\n",
       "    'weight': 1},\n",
       "   'type': 'Feature'},\n",
       "  {'geometry': {'coordinates': [8.9795, 56.1043], 'type': 'Point'},\n",
       "   'properties': {'color': '#990000',\n",
       "    'fillColor': '#990000',\n",
       "    'fillOpacity': 0.5,\n",
       "    'weight': 1},\n",
       "   'type': 'Feature'},\n",
       "  {'geometry': {'coordinates': [8.9804, 56.1043], 'type': 'Point'},\n",
       "   'properties': {'color': '#990000',\n",
       "    'fillColor': '#990000',\n",
       "    'fillOpacity': 0.5,\n",
       "    'weight': 1},\n",
       "   'type': 'Feature'},\n",
       "  {'geometry': {'coordinates': [8.9805, 56.1043], 'type': 'Point'},\n",
       "   'properties': {'color': '#990000',\n",
       "    'fillColor': '#990000',\n",
       "    'fillOpacity': 0.5,\n",
       "    'weight': 1},\n",
       "   'type': 'Feature'},\n",
       "  {'geometry': {'coordinates': [8.9806, 56.1043], 'type': 'Point'},\n",
       "   'properties': {'color': '#990000',\n",
       "    'fillColor': '#990000',\n",
       "    'fillOpacity': 0.5,\n",
       "    'weight': 1},\n",
       "   'type': 'Feature'},\n",
       "  {'geometry': {'coordinates': [8.9807, 56.1043], 'type': 'Point'},\n",
       "   'properties': {'color': '#990000',\n",
       "    'fillColor': '#990000',\n",
       "    'fillOpacity': 0.5,\n",
       "    'weight': 1},\n",
       "   'type': 'Feature'},\n",
       "  {'geometry': {'coordinates': [8.7266, 56.1044], 'type': 'Point'},\n",
       "   'properties': {'color': '#990000',\n",
       "    'fillColor': '#990000',\n",
       "    'fillOpacity': 0.5,\n",
       "    'weight': 1},\n",
       "   'type': 'Feature'},\n",
       "  {'geometry': {'coordinates': [8.8585, 56.1044], 'type': 'Point'},\n",
       "   'properties': {'color': '#990000',\n",
       "    'fillColor': '#990000',\n",
       "    'fillOpacity': 0.5,\n",
       "    'weight': 1},\n",
       "   'type': 'Feature'},\n",
       "  {'geometry': {'coordinates': [8.8817, 56.1044], 'type': 'Point'},\n",
       "   'properties': {'color': '#990000',\n",
       "    'fillColor': '#990000',\n",
       "    'fillOpacity': 0.5,\n",
       "    'weight': 1},\n",
       "   'type': 'Feature'}],\n",
       " 'type': 'FeatureCollection'}"
      ]
     },
     "execution_count": 35,
     "metadata": {},
     "output_type": "execute_result"
    }
   ],
   "source": [
    "data"
   ]
  },
  {
   "cell_type": "code",
   "execution_count": 74,
   "metadata": {
    "collapsed": false,
    "deletable": true,
    "editable": true
   },
   "outputs": [],
   "source": [
    "#m.remove_layer(g)\n",
    "#for p in points:\n",
    "#    m.remove_layer(p)\n",
    "for p in points_:\n",
    "    m.add_layer(p)\n",
    "\n",
    "\n",
    "m"
   ]
  },
  {
   "cell_type": "code",
   "execution_count": null,
   "metadata": {
    "collapsed": false,
    "deletable": true,
    "editable": true
   },
   "outputs": [],
   "source": [
    "for p in points_:\n",
    "    m.remove_layer(p)"
   ]
  },
  {
   "cell_type": "code",
   "execution_count": 44,
   "metadata": {
    "collapsed": false,
    "deletable": true,
    "editable": true
   },
   "outputs": [],
   "source": [
    "m.add_layer(p)"
   ]
  },
  {
   "cell_type": "code",
   "execution_count": 64,
   "metadata": {
    "collapsed": false
   },
   "outputs": [
    {
     "data": {
      "text/plain": [
       "[8.8817, 56.1044]"
      ]
     },
     "execution_count": 64,
     "metadata": {},
     "output_type": "execute_result"
    }
   ],
   "source": [
    "p.location #=[8.8817,56.1044]"
   ]
  },
  {
   "cell_type": "code",
   "execution_count": 67,
   "metadata": {
    "collapsed": false
   },
   "outputs": [
    {
     "data": {
      "text/plain": [
       "[56.1044, 8.8817]"
      ]
     },
     "execution_count": 67,
     "metadata": {},
     "output_type": "execute_result"
    }
   ],
   "source": [
    "mark = Marker(location= [56.1044,8.8817])\n",
    "m.add_layer(mark)\n",
    "mark.location"
   ]
  },
  {
   "cell_type": "code",
   "execution_count": 70,
   "metadata": {
    "collapsed": false
   },
   "outputs": [],
   "source": [
    "m.remove_layer(mark)"
   ]
  },
  {
   "cell_type": "code",
   "execution_count": 61,
   "metadata": {
    "collapsed": false
   },
   "outputs": [
    {
     "data": {
      "text/plain": [
       "(<ipyleaflet.leaflet.TileLayer at 0x10d24e940>,\n",
       " <ipyleaflet.leaflet.Circle at 0x10b6e4198>,\n",
       " <ipyleaflet.leaflet.Circle at 0x10b75ce80>,\n",
       " <ipyleaflet.leaflet.Circle at 0x10b6d1320>,\n",
       " <ipyleaflet.leaflet.Circle at 0x10b6b8438>,\n",
       " <ipyleaflet.leaflet.Circle at 0x10b6ae588>,\n",
       " <ipyleaflet.leaflet.Circle at 0x109c044a8>,\n",
       " <ipyleaflet.leaflet.Circle at 0x10b670320>,\n",
       " <ipyleaflet.leaflet.Circle at 0x109bfa908>,\n",
       " <ipyleaflet.leaflet.Circle at 0x10b65c898>,\n",
       " <ipyleaflet.leaflet.Circle at 0x10b6456a0>,\n",
       " <ipyleaflet.leaflet.Circle at 0x10b62e198>,\n",
       " <ipyleaflet.leaflet.Circle at 0x1095daa90>,\n",
       " <ipyleaflet.leaflet.Circle at 0x10b5f9240>,\n",
       " <ipyleaflet.leaflet.Circle at 0x1095a5908>,\n",
       " <ipyleaflet.leaflet.Circle at 0x1095c5f28>,\n",
       " <ipyleaflet.leaflet.Circle at 0x10bd3e240>,\n",
       " <ipyleaflet.leaflet.Circle at 0x10b5da5c0>,\n",
       " <ipyleaflet.leaflet.Circle at 0x10adb5f28>,\n",
       " <ipyleaflet.leaflet.Circle at 0x10b567be0>,\n",
       " <ipyleaflet.leaflet.Circle at 0x10cc2b978>,\n",
       " <ipyleaflet.leaflet.Circle at 0x10cc46400>,\n",
       " <ipyleaflet.leaflet.Circle at 0x10ae3b240>,\n",
       " <ipyleaflet.leaflet.Circle at 0x10ae3beb8>,\n",
       " <ipyleaflet.leaflet.Circle at 0x10ae56748>,\n",
       " <ipyleaflet.leaflet.Circle at 0x10ae56630>,\n",
       " <ipyleaflet.leaflet.Circle at 0x10ae56860>,\n",
       " <ipyleaflet.leaflet.Circle at 0x10ae569e8>,\n",
       " <ipyleaflet.leaflet.Circle at 0x10ae56d30>,\n",
       " <ipyleaflet.leaflet.Circle at 0x10ae62320>,\n",
       " <ipyleaflet.leaflet.Circle at 0x10ae626d8>,\n",
       " <ipyleaflet.leaflet.Circle at 0x10ae626a0>,\n",
       " <ipyleaflet.leaflet.Circle at 0x10b76c320>,\n",
       " <ipyleaflet.leaflet.Circle at 0x10b76c940>,\n",
       " <ipyleaflet.leaflet.Circle at 0x10b76cba8>,\n",
       " <ipyleaflet.leaflet.Circle at 0x10b76cda0>,\n",
       " <ipyleaflet.leaflet.Circle at 0x10b77a518>,\n",
       " <ipyleaflet.leaflet.Circle at 0x10b77a438>,\n",
       " <ipyleaflet.leaflet.Circle at 0x10b77ac18>,\n",
       " <ipyleaflet.leaflet.Circle at 0x10b77a9e8>,\n",
       " <ipyleaflet.leaflet.Circle at 0x10b762208>,\n",
       " <ipyleaflet.leaflet.Circle at 0x10b762860>,\n",
       " <ipyleaflet.leaflet.Circle at 0x10b762a90>,\n",
       " <ipyleaflet.leaflet.Circle at 0x10b762d68>,\n",
       " <ipyleaflet.leaflet.Circle at 0x109c255f8>,\n",
       " <ipyleaflet.leaflet.Circle at 0x109c254e0>,\n",
       " <ipyleaflet.leaflet.Circle at 0x109c25e48>,\n",
       " <ipyleaflet.leaflet.Circle at 0x109c25ba8>,\n",
       " <ipyleaflet.leaflet.Circle at 0x10b7901d0>,\n",
       " <ipyleaflet.leaflet.Circle at 0x10b790208>,\n",
       " <ipyleaflet.leaflet.Circle at 0x10b7902e8>,\n",
       " <ipyleaflet.leaflet.Circle at 0x10b790e48>,\n",
       " <ipyleaflet.leaflet.Circle at 0x10b79b8d0>,\n",
       " <ipyleaflet.leaflet.Circle at 0x10b79b358>,\n",
       " <ipyleaflet.leaflet.Circle at 0x10b79b9e8>,\n",
       " <ipyleaflet.leaflet.Circle at 0x10b79b908>,\n",
       " <ipyleaflet.leaflet.Circle at 0x10b79bf60>,\n",
       " <ipyleaflet.leaflet.Circle at 0x10b784198>,\n",
       " <ipyleaflet.leaflet.Circle at 0x10b784710>,\n",
       " <ipyleaflet.leaflet.Circle at 0x10b784f98>,\n",
       " <ipyleaflet.leaflet.Circle at 0x10b7a4748>,\n",
       " <ipyleaflet.leaflet.Circle at 0x10b7a4550>,\n",
       " <ipyleaflet.leaflet.Circle at 0x10b7a4780>,\n",
       " <ipyleaflet.leaflet.Circle at 0x10b7a4f28>,\n",
       " <ipyleaflet.leaflet.Circle at 0x10b7ba908>,\n",
       " <ipyleaflet.leaflet.Circle at 0x10b7ba400>,\n",
       " <ipyleaflet.leaflet.Circle at 0x10b7ba8d0>,\n",
       " <ipyleaflet.leaflet.Circle at 0x10b7bac88>,\n",
       " <ipyleaflet.leaflet.Circle at 0x10b7bae80>,\n",
       " <ipyleaflet.leaflet.Circle at 0x10b7af2b0>,\n",
       " <ipyleaflet.leaflet.Circle at 0x10b7af080>,\n",
       " <ipyleaflet.leaflet.Circle at 0x10b7af860>,\n",
       " <ipyleaflet.leaflet.Circle at 0x10b7afb70>,\n",
       " <ipyleaflet.leaflet.Circle at 0x109c2d320>,\n",
       " <ipyleaflet.leaflet.Circle at 0x109c2d8d0>,\n",
       " <ipyleaflet.leaflet.Circle at 0x109c2dcc0>,\n",
       " <ipyleaflet.leaflet.Circle at 0x109c2d4e0>,\n",
       " <ipyleaflet.leaflet.Circle at 0x10b7c4128>,\n",
       " <ipyleaflet.leaflet.Circle at 0x10b7c4860>,\n",
       " <ipyleaflet.leaflet.Circle at 0x10b7c4a58>,\n",
       " <ipyleaflet.leaflet.Circle at 0x10b7c44e0>,\n",
       " <ipyleaflet.leaflet.Circle at 0x10b7d90f0>,\n",
       " <ipyleaflet.leaflet.Circle at 0x10b7d95c0>,\n",
       " <ipyleaflet.leaflet.Circle at 0x10b7d96a0>,\n",
       " <ipyleaflet.leaflet.Circle at 0x10b7d9cc0>,\n",
       " <ipyleaflet.leaflet.Circle at 0x10b7d9f28>,\n",
       " <ipyleaflet.leaflet.Circle at 0x10b7e2208>,\n",
       " <ipyleaflet.leaflet.Circle at 0x10b7e2828>,\n",
       " <ipyleaflet.leaflet.Circle at 0x10b7e2748>,\n",
       " <ipyleaflet.leaflet.Circle at 0x10b7e2f60>,\n",
       " <ipyleaflet.leaflet.Circle at 0x10b7cf390>,\n",
       " <ipyleaflet.leaflet.Circle at 0x10b7cf898>,\n",
       " <ipyleaflet.leaflet.Circle at 0x10b7cf2e8>,\n",
       " <ipyleaflet.leaflet.Circle at 0x10b7cf860>,\n",
       " <ipyleaflet.leaflet.Circle at 0x10b7fa400>,\n",
       " <ipyleaflet.leaflet.Circle at 0x10b7fa9e8>,\n",
       " <ipyleaflet.leaflet.Circle at 0x10b7fa908>,\n",
       " <ipyleaflet.leaflet.Circle at 0x10b7ee358>,\n",
       " <ipyleaflet.leaflet.Circle at 0x10b7ee780>,\n",
       " <ipyleaflet.leaflet.Circle at 0x10b7ee2e8>,\n",
       " <ipyleaflet.leaflet.Circle at 0x10b7ee860>,\n",
       " <ipyleaflet.leaflet.Circle at 0x10b803278>,\n",
       " <ipyleaflet.leaflet.Circle at 0x10b8037f0>,\n",
       " <ipyleaflet.leaflet.Circle at 0x10b8039e8>,\n",
       " <ipyleaflet.leaflet.Circle at 0x10b803fd0>,\n",
       " <ipyleaflet.leaflet.Circle at 0x109c37240>,\n",
       " <ipyleaflet.leaflet.Circle at 0x109c379e8>,\n",
       " <ipyleaflet.leaflet.Circle at 0x109c37908>,\n",
       " <ipyleaflet.leaflet.Circle at 0x109c37550>,\n",
       " <ipyleaflet.leaflet.Circle at 0x10b80e198>,\n",
       " <ipyleaflet.leaflet.Circle at 0x10b80ea20>,\n",
       " <ipyleaflet.leaflet.Circle at 0x10b80e940>,\n",
       " <ipyleaflet.leaflet.Circle at 0x10b80efd0>,\n",
       " <ipyleaflet.leaflet.Circle at 0x10b8245c0>,\n",
       " <ipyleaflet.leaflet.Circle at 0x10b824be0>,\n",
       " <ipyleaflet.leaflet.Circle at 0x10b824b00>,\n",
       " <ipyleaflet.leaflet.Circle at 0x10b82d128>,\n",
       " <ipyleaflet.leaflet.Circle at 0x10b82d780>,\n",
       " <ipyleaflet.leaflet.Circle at 0x10b82d320>,\n",
       " <ipyleaflet.leaflet.Circle at 0x10b82d390>,\n",
       " <ipyleaflet.leaflet.Circle at 0x10b83b358>,\n",
       " <ipyleaflet.leaflet.Circle at 0x10b83b208>,\n",
       " <ipyleaflet.leaflet.Circle at 0x10b83b2e8>,\n",
       " <ipyleaflet.leaflet.Circle at 0x10b83be48>,\n",
       " <ipyleaflet.leaflet.Circle at 0x10b81a208>,\n",
       " <ipyleaflet.leaflet.Circle at 0x10b81a6d8>,\n",
       " <ipyleaflet.leaflet.Circle at 0x10b81ad68>,\n",
       " <ipyleaflet.leaflet.Circle at 0x10b81abe0>,\n",
       " <ipyleaflet.leaflet.Circle at 0x109c44160>,\n",
       " <ipyleaflet.leaflet.Circle at 0x109c44a20>,\n",
       " <ipyleaflet.leaflet.Circle at 0x109c44f98>,\n",
       " <ipyleaflet.leaflet.Circle at 0x109c44ef0>,\n",
       " <ipyleaflet.leaflet.Circle at 0x10b850128>,\n",
       " <ipyleaflet.leaflet.Circle at 0x10b850780>,\n",
       " <ipyleaflet.leaflet.Circle at 0x10b850390>,\n",
       " <ipyleaflet.leaflet.Circle at 0x10b850a90>,\n",
       " <ipyleaflet.leaflet.Circle at 0x10b8460f0>,\n",
       " <ipyleaflet.leaflet.Circle at 0x10b846710>,\n",
       " <ipyleaflet.leaflet.Circle at 0x10b8460b8>,\n",
       " <ipyleaflet.leaflet.Circle at 0x10b846eb8>,\n",
       " <ipyleaflet.leaflet.Circle at 0x10b865198>,\n",
       " <ipyleaflet.leaflet.Circle at 0x10b865208>,\n",
       " <ipyleaflet.leaflet.Circle at 0x10b865320>,\n",
       " <ipyleaflet.leaflet.Circle at 0x10b865908>,\n",
       " <ipyleaflet.leaflet.Circle at 0x109c4e320>,\n",
       " <ipyleaflet.leaflet.Circle at 0x109c4e198>,\n",
       " <ipyleaflet.leaflet.Circle at 0x109c4ea58>,\n",
       " <ipyleaflet.leaflet.Circle at 0x109c4ef28>,\n",
       " <ipyleaflet.leaflet.Circle at 0x109c4efd0>,\n",
       " <ipyleaflet.leaflet.Circle at 0x10b85b438>,\n",
       " <ipyleaflet.leaflet.Circle at 0x10b85ba90>,\n",
       " <ipyleaflet.leaflet.Circle at 0x10b85b710>,\n",
       " <ipyleaflet.leaflet.Circle at 0x10b85bcc0>,\n",
       " <ipyleaflet.leaflet.Circle at 0x109c594a8>,\n",
       " <ipyleaflet.leaflet.Circle at 0x109c59748>,\n",
       " <ipyleaflet.leaflet.Circle at 0x109c59588>,\n",
       " <ipyleaflet.leaflet.Circle at 0x109c59470>,\n",
       " <ipyleaflet.leaflet.Circle at 0x10b86f048>,\n",
       " <ipyleaflet.leaflet.Circle at 0x10b86fa90>,\n",
       " <ipyleaflet.leaflet.Circle at 0x10b86f940>,\n",
       " <ipyleaflet.leaflet.Circle at 0x10b86f9e8>,\n",
       " <ipyleaflet.leaflet.Circle at 0x10b87b390>,\n",
       " <ipyleaflet.leaflet.Circle at 0x10b87b9e8>,\n",
       " <ipyleaflet.leaflet.Circle at 0x10b87b940>,\n",
       " <ipyleaflet.leaflet.Circle at 0x10b87bb70>,\n",
       " <ipyleaflet.leaflet.Circle at 0x10b8831d0>,\n",
       " <ipyleaflet.leaflet.Circle at 0x10b8834a8>,\n",
       " <ipyleaflet.leaflet.Circle at 0x10b883cc0>,\n",
       " <ipyleaflet.leaflet.Circle at 0x10b883f98>,\n",
       " <ipyleaflet.leaflet.Circle at 0x10b32e438>,\n",
       " <ipyleaflet.leaflet.Circle at 0x10b32e198>,\n",
       " <ipyleaflet.leaflet.Circle at 0x10b32e780>,\n",
       " <ipyleaflet.leaflet.Circle at 0x10b32e2b0>,\n",
       " <ipyleaflet.leaflet.Circle at 0x10b32ef28>,\n",
       " <ipyleaflet.leaflet.Circle at 0x10b88e588>,\n",
       " <ipyleaflet.leaflet.Circle at 0x10b88ea58>,\n",
       " <ipyleaflet.leaflet.Circle at 0x10b88ecc0>,\n",
       " <ipyleaflet.leaflet.Circle at 0x10b88ef60>,\n",
       " <ipyleaflet.leaflet.Circle at 0x10b337668>,\n",
       " <ipyleaflet.leaflet.Circle at 0x10b337828>,\n",
       " <ipyleaflet.leaflet.Circle at 0x10b337f60>,\n",
       " <ipyleaflet.leaflet.Circle at 0x10b337cf8>,\n",
       " <ipyleaflet.leaflet.Circle at 0x10b897400>,\n",
       " <ipyleaflet.leaflet.Circle at 0x10b8979e8>,\n",
       " <ipyleaflet.leaflet.Circle at 0x10b897fd0>,\n",
       " <ipyleaflet.leaflet.Circle at 0x10b897c50>,\n",
       " <ipyleaflet.leaflet.Circle at 0x10b8a2550>,\n",
       " <ipyleaflet.leaflet.Circle at 0x10b8a29b0>,\n",
       " <ipyleaflet.leaflet.Circle at 0x10b8a2f28>,\n",
       " <ipyleaflet.leaflet.Circle at 0x10b342080>,\n",
       " <ipyleaflet.leaflet.Circle at 0x10b342240>,\n",
       " <ipyleaflet.leaflet.Circle at 0x10b342a90>,\n",
       " <ipyleaflet.leaflet.Circle at 0x10b342e48>,\n",
       " <ipyleaflet.leaflet.Circle at 0x10b3424a8>,\n",
       " <ipyleaflet.leaflet.Circle at 0x10b8ae198>,\n",
       " <ipyleaflet.leaflet.Circle at 0x10b8aeb00>,\n",
       " <ipyleaflet.leaflet.Circle at 0x10b8aed30>,\n",
       " <ipyleaflet.leaflet.Circle at 0x10b8c50b8>,\n",
       " <ipyleaflet.leaflet.Circle at 0x10b8c56a0>,\n",
       " <ipyleaflet.leaflet.Circle at 0x10b8c5be0>,\n",
       " <ipyleaflet.leaflet.Circle at 0x10b8c5d68>,\n",
       " <ipyleaflet.leaflet.Circle at 0x10b8bb048>,\n",
       " <ipyleaflet.leaflet.Circle at 0x10b8bb518>,\n",
       " <ipyleaflet.leaflet.Circle at 0x10b8bbba8>,\n",
       " <ipyleaflet.leaflet.Circle at 0x10b8bbe10>,\n",
       " <ipyleaflet.leaflet.Circle at 0x10b34d048>,\n",
       " <ipyleaflet.leaflet.Circle at 0x10b34d438>,\n",
       " <ipyleaflet.leaflet.Circle at 0x10b34d9e8>,\n",
       " <ipyleaflet.leaflet.Circle at 0x10b34dba8>,\n",
       " <ipyleaflet.leaflet.Circle at 0x10b8cf0b8>,\n",
       " <ipyleaflet.leaflet.Circle at 0x10b8cf630>,\n",
       " <ipyleaflet.leaflet.Circle at 0x10b8cf358>,\n",
       " <ipyleaflet.leaflet.Circle at 0x10b8cfda0>,\n",
       " <ipyleaflet.leaflet.Circle at 0x10b8cfa20>,\n",
       " <ipyleaflet.leaflet.Circle at 0x10b8d92e8>,\n",
       " <ipyleaflet.leaflet.Circle at 0x10b8d9860>,\n",
       " <ipyleaflet.leaflet.Circle at 0x10b8d9e48>,\n",
       " <ipyleaflet.leaflet.Circle at 0x10b35aeb8>,\n",
       " <ipyleaflet.leaflet.Circle at 0x10b35a3c8>,\n",
       " <ipyleaflet.leaflet.Circle at 0x10b35ab00>,\n",
       " <ipyleaflet.leaflet.Circle at 0x10b35a6a0>,\n",
       " <ipyleaflet.leaflet.Circle at 0x10b35ac50>,\n",
       " <ipyleaflet.leaflet.Circle at 0x10b8e4320>,\n",
       " <ipyleaflet.leaflet.Circle at 0x10b8e4550>,\n",
       " <ipyleaflet.leaflet.Circle at 0x10b8e4b38>,\n",
       " <ipyleaflet.leaflet.Circle at 0x10b8e4da0>,\n",
       " <ipyleaflet.leaflet.Circle at 0x10b9eb160>,\n",
       " <ipyleaflet.leaflet.Circle at 0x10b9eb748>,\n",
       " <ipyleaflet.leaflet.Circle at 0x10b9ebc88>,\n",
       " <ipyleaflet.leaflet.Circle at 0x10b9ebbe0>,\n",
       " <ipyleaflet.leaflet.Circle at 0x10b365080>,\n",
       " <ipyleaflet.leaflet.Circle at 0x10b365940>,\n",
       " <ipyleaflet.leaflet.Circle at 0x10b365860>,\n",
       " <ipyleaflet.leaflet.Circle at 0x10b365198>,\n",
       " <ipyleaflet.leaflet.Circle at 0x10b365d30>,\n",
       " <ipyleaflet.leaflet.Circle at 0x10b9f40f0>,\n",
       " <ipyleaflet.leaflet.Circle at 0x10b9f4668>,\n",
       " <ipyleaflet.leaflet.Circle at 0x10b9f4e10>,\n",
       " <ipyleaflet.leaflet.Circle at 0x10b9f4eb8>,\n",
       " <ipyleaflet.leaflet.Circle at 0x10b3ae470>,\n",
       " <ipyleaflet.leaflet.Circle at 0x10b3aea20>,\n",
       " <ipyleaflet.leaflet.Circle at 0x10b3aec50>,\n",
       " <ipyleaflet.leaflet.Circle at 0x10b3ae5f8>,\n",
       " <ipyleaflet.leaflet.Circle at 0x10b9ff080>,\n",
       " <ipyleaflet.leaflet.Circle at 0x10b9ff668>,\n",
       " <ipyleaflet.leaflet.Circle at 0x10b9fff60>,\n",
       " <ipyleaflet.leaflet.Circle at 0x10ba13d30>,\n",
       " <ipyleaflet.leaflet.Circle at 0x10ba13240>,\n",
       " <ipyleaflet.leaflet.Circle at 0x10ba13748>,\n",
       " <ipyleaflet.leaflet.Circle at 0x10ba13b00>,\n",
       " <ipyleaflet.leaflet.Circle at 0x10ba13898>,\n",
       " <ipyleaflet.leaflet.Circle at 0x10ba217f0>,\n",
       " <ipyleaflet.leaflet.Circle at 0x10ba216a0>,\n",
       " <ipyleaflet.leaflet.Circle at 0x10ba215c0>,\n",
       " <ipyleaflet.leaflet.Circle at 0x10ba21f28>,\n",
       " <ipyleaflet.leaflet.Circle at 0x10ba0a0b8>,\n",
       " <ipyleaflet.leaflet.Circle at 0x10ba0a4a8>,\n",
       " <ipyleaflet.leaflet.Circle at 0x10ba0a198>,\n",
       " <ipyleaflet.leaflet.Circle at 0x10ba0abe0>,\n",
       " <ipyleaflet.leaflet.Circle at 0x10ba0af60>,\n",
       " <ipyleaflet.leaflet.Circle at 0x10b3b9860>,\n",
       " <ipyleaflet.leaflet.Circle at 0x10b3b9400>,\n",
       " <ipyleaflet.leaflet.Circle at 0x10b3b9a20>,\n",
       " <ipyleaflet.leaflet.Circle at 0x10b3b9c88>,\n",
       " <ipyleaflet.leaflet.Circle at 0x10ba2a550>,\n",
       " <ipyleaflet.leaflet.Circle at 0x10ba2a780>,\n",
       " <ipyleaflet.leaflet.Circle at 0x10ba2a908>,\n",
       " <ipyleaflet.leaflet.Circle at 0x10bb14160>,\n",
       " <ipyleaflet.leaflet.Circle at 0x10bb144e0>,\n",
       " <ipyleaflet.leaflet.Circle at 0x10bb14978>,\n",
       " <ipyleaflet.leaflet.Circle at 0x10bb149b0>,\n",
       " <ipyleaflet.leaflet.Circle at 0x10bb14b38>,\n",
       " <ipyleaflet.leaflet.Circle at 0x10bb14ef0>,\n",
       " <ipyleaflet.leaflet.Circle at 0x10cc549e8>,\n",
       " <ipyleaflet.leaflet.Circle at 0x10cc54c18>,\n",
       " <ipyleaflet.leaflet.Circle at 0x10cc54e80>,\n",
       " <ipyleaflet.leaflet.Circle at 0x10d0ba0b8>,\n",
       " <ipyleaflet.leaflet.Circle at 0x10d0ba358>,\n",
       " <ipyleaflet.leaflet.Circle at 0x10d0ba198>,\n",
       " <ipyleaflet.leaflet.Circle at 0x10d0ba438>,\n",
       " <ipyleaflet.leaflet.Circle at 0x10d0ba9e8>,\n",
       " <ipyleaflet.leaflet.Circle at 0x10d0bac50>,\n",
       " <ipyleaflet.leaflet.Circle at 0x10d0baeb8>,\n",
       " <ipyleaflet.leaflet.Circle at 0x10d0c70f0>,\n",
       " <ipyleaflet.leaflet.Circle at 0x10d0c7320>,\n",
       " <ipyleaflet.leaflet.Circle at 0x10d0c75c0>,\n",
       " <ipyleaflet.leaflet.Circle at 0x10d0c7780>,\n",
       " <ipyleaflet.leaflet.Circle at 0x10d0c79b0>,\n",
       " <ipyleaflet.leaflet.Circle at 0x10d0c7c18>,\n",
       " <ipyleaflet.leaflet.Circle at 0x10d0c7e80>,\n",
       " <ipyleaflet.leaflet.Circle at 0x10d0d40b8>,\n",
       " <ipyleaflet.leaflet.Circle at 0x10d0d4470>,\n",
       " <ipyleaflet.leaflet.Circle at 0x10d0d46d8>,\n",
       " <ipyleaflet.leaflet.Circle at 0x10d0d4940>,\n",
       " <ipyleaflet.leaflet.Circle at 0x10d0d4b38>,\n",
       " <ipyleaflet.leaflet.Circle at 0x10d0d4d68>,\n",
       " <ipyleaflet.leaflet.Circle at 0x10d0d4f28>,\n",
       " <ipyleaflet.leaflet.Circle at 0x10d0e0128>,\n",
       " <ipyleaflet.leaflet.Circle at 0x10d0e03c8>,\n",
       " <ipyleaflet.leaflet.Circle at 0x10d0e0630>,\n",
       " <ipyleaflet.leaflet.Circle at 0x10d0e0898>,\n",
       " <ipyleaflet.leaflet.Circle at 0x10d0e0b00>,\n",
       " <ipyleaflet.leaflet.Circle at 0x10d0e0d68>,\n",
       " <ipyleaflet.leaflet.Circle at 0x10d0e0fd0>,\n",
       " <ipyleaflet.leaflet.Circle at 0x10d0f0240>,\n",
       " <ipyleaflet.leaflet.Circle at 0x10d0f04e0>,\n",
       " <ipyleaflet.leaflet.Circle at 0x10d0f07f0>,\n",
       " <ipyleaflet.leaflet.Circle at 0x10d0f0a20>,\n",
       " <ipyleaflet.leaflet.Circle at 0x10d0f08d0>,\n",
       " <ipyleaflet.leaflet.Circle at 0x10d0f0eb8>,\n",
       " <ipyleaflet.leaflet.Circle at 0x10d0f0f98>,\n",
       " <ipyleaflet.leaflet.Circle at 0x10d0f9390>,\n",
       " <ipyleaflet.leaflet.Circle at 0x10d0f95f8>,\n",
       " <ipyleaflet.leaflet.Circle at 0x10d0f9860>,\n",
       " <ipyleaflet.leaflet.Circle at 0x10d0f9ac8>,\n",
       " <ipyleaflet.leaflet.Circle at 0x10d0f9d30>,\n",
       " <ipyleaflet.leaflet.Circle at 0x10d0f9f98>,\n",
       " <ipyleaflet.leaflet.Circle at 0x10d104198>,\n",
       " <ipyleaflet.leaflet.Circle at 0x10d104438>,\n",
       " <ipyleaflet.leaflet.Circle at 0x10d104278>,\n",
       " <ipyleaflet.leaflet.Circle at 0x10d1044e0>,\n",
       " <ipyleaflet.leaflet.Circle at 0x10d104710>,\n",
       " <ipyleaflet.leaflet.Circle at 0x10d104cc0>,\n",
       " <ipyleaflet.leaflet.Circle at 0x10d104fd0>,\n",
       " <ipyleaflet.leaflet.Circle at 0x10d114208>,\n",
       " <ipyleaflet.leaflet.Circle at 0x10d1144e0>,\n",
       " <ipyleaflet.leaflet.Circle at 0x10d114748>,\n",
       " <ipyleaflet.leaflet.Circle at 0x10d1149b0>,\n",
       " <ipyleaflet.leaflet.Circle at 0x10d114c18>,\n",
       " <ipyleaflet.leaflet.Circle at 0x10d114e48>,\n",
       " <ipyleaflet.leaflet.Circle at 0x10d114f28>,\n",
       " <ipyleaflet.leaflet.Circle at 0x10d11f2e8>,\n",
       " <ipyleaflet.leaflet.Circle at 0x10d11f550>,\n",
       " <ipyleaflet.leaflet.Circle at 0x10d11f7b8>,\n",
       " <ipyleaflet.leaflet.Circle at 0x10d11fa20>,\n",
       " <ipyleaflet.leaflet.Circle at 0x10d11fc88>,\n",
       " <ipyleaflet.leaflet.Circle at 0x10d11fef0>,\n",
       " <ipyleaflet.leaflet.Circle at 0x10d12b128>,\n",
       " <ipyleaflet.leaflet.Circle at 0x10d12b400>,\n",
       " <ipyleaflet.leaflet.Circle at 0x10d12b208>,\n",
       " <ipyleaflet.leaflet.Circle at 0x10d12b898>,\n",
       " <ipyleaflet.leaflet.Circle at 0x10d12bac8>,\n",
       " <ipyleaflet.leaflet.Circle at 0x10d12b940>,\n",
       " <ipyleaflet.leaflet.Circle at 0x10d12bba8>,\n",
       " <ipyleaflet.leaflet.Circle at 0x10d138128>,\n",
       " <ipyleaflet.leaflet.Circle at 0x10d138358>,\n",
       " <ipyleaflet.leaflet.Circle at 0x10d1385f8>,\n",
       " <ipyleaflet.leaflet.Circle at 0x10d1387b8>,\n",
       " <ipyleaflet.leaflet.Circle at 0x10d1389e8>,\n",
       " <ipyleaflet.leaflet.Circle at 0x10d138c50>,\n",
       " <ipyleaflet.leaflet.Circle at 0x10d138eb8>,\n",
       " <ipyleaflet.leaflet.Circle at 0x10d1450f0>,\n",
       " <ipyleaflet.leaflet.Circle at 0x10d1453c8>,\n",
       " <ipyleaflet.leaflet.Circle at 0x10d145630>,\n",
       " <ipyleaflet.leaflet.Circle at 0x10d145940>,\n",
       " <ipyleaflet.leaflet.Circle at 0x10d145b38>,\n",
       " <ipyleaflet.leaflet.Circle at 0x10d1459e8>,\n",
       " <ipyleaflet.leaflet.Circle at 0x10d145f98>,\n",
       " <ipyleaflet.leaflet.Circle at 0x10d154198>,\n",
       " <ipyleaflet.leaflet.Circle at 0x10d154470>,\n",
       " <ipyleaflet.leaflet.Circle at 0x10d1546d8>,\n",
       " <ipyleaflet.leaflet.Circle at 0x10d154a20>,\n",
       " <ipyleaflet.leaflet.Circle at 0x10d154c88>,\n",
       " <ipyleaflet.leaflet.Circle at 0x10d154ef0>,\n",
       " <ipyleaflet.leaflet.Circle at 0x10d161128>,\n",
       " <ipyleaflet.leaflet.Circle at 0x10d161400>,\n",
       " <ipyleaflet.leaflet.Circle at 0x10d161668>,\n",
       " <ipyleaflet.leaflet.Circle at 0x10d1618d0>,\n",
       " <ipyleaflet.leaflet.Circle at 0x10d161b00>,\n",
       " <ipyleaflet.leaflet.Circle at 0x10d161978>,\n",
       " <ipyleaflet.leaflet.Circle at 0x10d161be0>,\n",
       " <ipyleaflet.leaflet.Circle at 0x10d16b0f0>,\n",
       " <ipyleaflet.leaflet.Circle at 0x10d16b390>,\n",
       " <ipyleaflet.leaflet.Circle at 0x10d16b5c0>,\n",
       " <ipyleaflet.leaflet.Circle at 0x10d16b7f0>,\n",
       " <ipyleaflet.leaflet.Circle at 0x10d16ba20>,\n",
       " <ipyleaflet.leaflet.Circle at 0x10d16bc88>,\n",
       " <ipyleaflet.leaflet.Circle at 0x10d16bef0>,\n",
       " <ipyleaflet.leaflet.Circle at 0x10d178128>,\n",
       " <ipyleaflet.leaflet.Circle at 0x10d178400>,\n",
       " <ipyleaflet.leaflet.Circle at 0x10d178668>,\n",
       " <ipyleaflet.leaflet.Circle at 0x10d178978>,\n",
       " <ipyleaflet.leaflet.Circle at 0x10d178be0>,\n",
       " <ipyleaflet.leaflet.Circle at 0x10d178e48>,\n",
       " <ipyleaflet.leaflet.Circle at 0x10d178f28>,\n",
       " <ipyleaflet.leaflet.Circle at 0x10d185358>,\n",
       " <ipyleaflet.leaflet.Circle at 0x10d1855c0>,\n",
       " <ipyleaflet.leaflet.Circle at 0x10d185828>,\n",
       " <ipyleaflet.leaflet.Circle at 0x10d185a90>,\n",
       " <ipyleaflet.leaflet.Circle at 0x10d185cf8>,\n",
       " <ipyleaflet.leaflet.Circle at 0x10d185f60>,\n",
       " <ipyleaflet.leaflet.Circle at 0x10d191128>,\n",
       " <ipyleaflet.leaflet.Circle at 0x10d191438>,\n",
       " <ipyleaflet.leaflet.Circle at 0x10d1916a0>,\n",
       " <ipyleaflet.leaflet.Circle at 0x10d1914e0>,\n",
       " <ipyleaflet.leaflet.Circle at 0x10d191b00>,\n",
       " <ipyleaflet.leaflet.Circle at 0x10d191d68>,\n",
       " <ipyleaflet.leaflet.Circle at 0x10d191f60>,\n",
       " <ipyleaflet.leaflet.Circle at 0x10d19d160>,\n",
       " <ipyleaflet.leaflet.Circle at 0x10d19d438>,\n",
       " <ipyleaflet.leaflet.Circle at 0x10d19d6a0>,\n",
       " <ipyleaflet.leaflet.Circle at 0x10d19d8d0>,\n",
       " <ipyleaflet.leaflet.Circle at 0x10d19d780>,\n",
       " <ipyleaflet.leaflet.Circle at 0x10d19dd68>,\n",
       " <ipyleaflet.leaflet.Circle at 0x10d19dfd0>,\n",
       " <ipyleaflet.leaflet.Circle at 0x10d1ab240>,\n",
       " <ipyleaflet.leaflet.Circle at 0x10d1ab4e0>,\n",
       " <ipyleaflet.leaflet.Circle at 0x10d1ab748>,\n",
       " <ipyleaflet.leaflet.Circle at 0x10d1ab9b0>,\n",
       " <ipyleaflet.leaflet.Circle at 0x10d1abc18>,\n",
       " <ipyleaflet.leaflet.Circle at 0x10d1abe80>,\n",
       " <ipyleaflet.leaflet.Circle at 0x10d1abf28>,\n",
       " <ipyleaflet.leaflet.Circle at 0x10d1b72e8>,\n",
       " <ipyleaflet.leaflet.Circle at 0x10d1b7588>,\n",
       " <ipyleaflet.leaflet.Circle at 0x10d1b7390>,\n",
       " <ipyleaflet.leaflet.Circle at 0x10d1b7630>,\n",
       " <ipyleaflet.leaflet.Circle at 0x10d1b7c50>,\n",
       " <ipyleaflet.leaflet.Circle at 0x10d1b7e48>,\n",
       " <ipyleaflet.leaflet.Circle at 0x10d1b7e80>,\n",
       " <ipyleaflet.leaflet.Circle at 0x10d1c42e8>,\n",
       " <ipyleaflet.leaflet.Circle at 0x10d1c4550>,\n",
       " <ipyleaflet.leaflet.Circle at 0x10d1c43c8>,\n",
       " <ipyleaflet.leaflet.Circle at 0x10d1c49b0>,\n",
       " <ipyleaflet.leaflet.Circle at 0x10d1c4860>,\n",
       " <ipyleaflet.leaflet.Circle at 0x10d1c4eb8>,\n",
       " <ipyleaflet.leaflet.Circle at 0x10d1d10f0>,\n",
       " <ipyleaflet.leaflet.Circle at 0x10d1d12e8>,\n",
       " <ipyleaflet.leaflet.Circle at 0x10d1d1588>,\n",
       " <ipyleaflet.leaflet.Circle at 0x10d1d1748>,\n",
       " <ipyleaflet.leaflet.Circle at 0x10d1d1978>,\n",
       " <ipyleaflet.leaflet.Circle at 0x10d1d17f0>,\n",
       " <ipyleaflet.leaflet.Circle at 0x10d1d1a20>,\n",
       " <ipyleaflet.leaflet.Circle at 0x10d1d1ba8>,\n",
       " <ipyleaflet.leaflet.Circle at 0x10d1db160>,\n",
       " <ipyleaflet.leaflet.Circle at 0x10d1db400>,\n",
       " <ipyleaflet.leaflet.Circle at 0x10d1db630>,\n",
       " <ipyleaflet.leaflet.Circle at 0x10d1db940>,\n",
       " <ipyleaflet.leaflet.Circle at 0x10d1dbba8>,\n",
       " <ipyleaflet.leaflet.Circle at 0x10d1dbe10>,\n",
       " <ipyleaflet.leaflet.Circle at 0x10d1dbeb8>,\n",
       " <ipyleaflet.leaflet.Circle at 0x10d1e82b0>,\n",
       " <ipyleaflet.leaflet.Circle at 0x10d1e80f0>,\n",
       " <ipyleaflet.leaflet.Circle at 0x10d1e8710>,\n",
       " <ipyleaflet.leaflet.Circle at 0x10d1e8940>,\n",
       " <ipyleaflet.leaflet.Circle at 0x10d1e8ba8>,\n",
       " <ipyleaflet.leaflet.Circle at 0x10d1e8e10>,\n",
       " <ipyleaflet.leaflet.Circle at 0x10d1e8eb8>,\n",
       " <ipyleaflet.leaflet.Circle at 0x10d1f5320>,\n",
       " <ipyleaflet.leaflet.Circle at 0x10d1f5588>,\n",
       " <ipyleaflet.leaflet.Circle at 0x10d1f58d0>,\n",
       " <ipyleaflet.leaflet.Circle at 0x10d1f5b00>,\n",
       " <ipyleaflet.leaflet.Circle at 0x10d1f5d68>,\n",
       " <ipyleaflet.leaflet.Circle at 0x10d1f5fd0>,\n",
       " <ipyleaflet.leaflet.Circle at 0x10d203240>,\n",
       " <ipyleaflet.leaflet.Circle at 0x10d2034e0>,\n",
       " <ipyleaflet.leaflet.Circle at 0x10d203320>,\n",
       " <ipyleaflet.leaflet.Circle at 0x10d203588>,\n",
       " <ipyleaflet.leaflet.Circle at 0x10d203b38>,\n",
       " <ipyleaflet.leaflet.Circle at 0x10d203d68>,\n",
       " <ipyleaflet.leaflet.Circle at 0x10d203fd0>,\n",
       " <ipyleaflet.leaflet.Circle at 0x10d2102b0>,\n",
       " <ipyleaflet.leaflet.Circle at 0x10d210588>,\n",
       " <ipyleaflet.leaflet.Circle at 0x10d210390>,\n",
       " <ipyleaflet.leaflet.Circle at 0x10d210630>,\n",
       " <ipyleaflet.leaflet.Circle at 0x10d210be0>,\n",
       " <ipyleaflet.leaflet.Circle at 0x10d210e10>,\n",
       " <ipyleaflet.leaflet.Circle at 0x10d210eb8>,\n",
       " <ipyleaflet.leaflet.Circle at 0x10d21c400>,\n",
       " <ipyleaflet.leaflet.Circle at 0x10d21c630>,\n",
       " <ipyleaflet.leaflet.Circle at 0x10d21c898>,\n",
       " <ipyleaflet.leaflet.Circle at 0x10d21c710>,\n",
       " <ipyleaflet.leaflet.Circle at 0x10d21c940>,\n",
       " <ipyleaflet.leaflet.Circle at 0x10d21cef0>,\n",
       " <ipyleaflet.leaflet.Circle at 0x10d2270f0>,\n",
       " <ipyleaflet.leaflet.Circle at 0x10d2273c8>,\n",
       " <ipyleaflet.leaflet.Circle at 0x10d2276d8>,\n",
       " <ipyleaflet.leaflet.Circle at 0x10d2278d0>,\n",
       " <ipyleaflet.leaflet.Circle at 0x10d227b70>,\n",
       " <ipyleaflet.leaflet.Circle at 0x10d227dd8>,\n",
       " <ipyleaflet.leaflet.Circle at 0x10d227eb8>,\n",
       " <ipyleaflet.leaflet.Circle at 0x10d2372e8>,\n",
       " <ipyleaflet.leaflet.Circle at 0x10d237550>,\n",
       " <ipyleaflet.leaflet.Circle at 0x10d2377b8>,\n",
       " <ipyleaflet.leaflet.Circle at 0x10d2379e8>,\n",
       " <ipyleaflet.leaflet.Circle at 0x10d237be0>,\n",
       " <ipyleaflet.leaflet.Circle at 0x10d237e10>,\n",
       " <ipyleaflet.leaflet.Circle at 0x10d237fd0>,\n",
       " <ipyleaflet.leaflet.Circle at 0x10d2421d0>,\n",
       " <ipyleaflet.leaflet.Circle at 0x10d242470>,\n",
       " <ipyleaflet.leaflet.Circle at 0x10d242278>,\n",
       " <ipyleaflet.leaflet.Circle at 0x10d242518>,\n",
       " <ipyleaflet.leaflet.Circle at 0x10d242b00>,\n",
       " <ipyleaflet.leaflet.Circle at 0x10d242940>,\n",
       " <ipyleaflet.leaflet.Circle at 0x10d242ba8>,\n",
       " <ipyleaflet.leaflet.Circle at 0x10d24e0f0>,\n",
       " <ipyleaflet.leaflet.Circle at 0x10d24e438>,\n",
       " <ipyleaflet.leaflet.Circle at 0x10d24e630>,\n",
       " <ipyleaflet.leaflet.Circle at 0x10d24e898>,\n",
       " <ipyleaflet.leaflet.Circle at 0x10d24eac8>,\n",
       " <ipyleaflet.leaflet.Circle at 0x10d24ecf8>,\n",
       " <ipyleaflet.leaflet.Circle at 0x10d24ef60>,\n",
       " <ipyleaflet.leaflet.Circle at 0x10d25b198>,\n",
       " <ipyleaflet.leaflet.Circle at 0x10d25b470>,\n",
       " <ipyleaflet.leaflet.Circle at 0x10d25b6d8>,\n",
       " <ipyleaflet.leaflet.Circle at 0x10d25b518>,\n",
       " <ipyleaflet.leaflet.Circle at 0x10d25b780>,\n",
       " <ipyleaflet.leaflet.Circle at 0x10d25b940>,\n",
       " <ipyleaflet.leaflet.Circle at 0x10d25b7b8>,\n",
       " <ipyleaflet.leaflet.Circle at 0x10d2680f0>,\n",
       " <ipyleaflet.leaflet.Circle at 0x10d268390>,\n",
       " <ipyleaflet.leaflet.Circle at 0x10d2685f8>,\n",
       " <ipyleaflet.leaflet.Circle at 0x10d268860>,\n",
       " <ipyleaflet.leaflet.Circle at 0x10d268b70>,\n",
       " <ipyleaflet.leaflet.Circle at 0x10d268d68>,\n",
       " <ipyleaflet.leaflet.Circle at 0x10d268c50>,\n",
       " <ipyleaflet.leaflet.Circle at 0x10d273240>,\n",
       " <ipyleaflet.leaflet.Circle at 0x10d2734e0>,\n",
       " <ipyleaflet.leaflet.Circle at 0x10d273320>,\n",
       " <ipyleaflet.leaflet.Circle at 0x10d273940>,\n",
       " <ipyleaflet.leaflet.Circle at 0x10d2737b8>,\n",
       " <ipyleaflet.leaflet.Circle at 0x10d2739e8>,\n",
       " <ipyleaflet.leaflet.Circle at 0x10d273fd0>,\n",
       " <ipyleaflet.leaflet.Circle at 0x10d281208>,\n",
       " <ipyleaflet.leaflet.Circle at 0x10d2814e0>,\n",
       " <ipyleaflet.leaflet.Circle at 0x10d281710>,\n",
       " <ipyleaflet.leaflet.Circle at 0x10d281588>,\n",
       " <ipyleaflet.leaflet.Circle at 0x10d2817b8>,\n",
       " <ipyleaflet.leaflet.Circle at 0x10d281dd8>,\n",
       " <ipyleaflet.leaflet.Circle at 0x10d281eb8>,\n",
       " <ipyleaflet.leaflet.Circle at 0x10d28b278>,\n",
       " <ipyleaflet.leaflet.Circle at 0x10d28b0f0>,\n",
       " <ipyleaflet.leaflet.Circle at 0x10d28b6d8>,\n",
       " <ipyleaflet.leaflet.Circle at 0x10d28b5c0>,\n",
       " <ipyleaflet.leaflet.Circle at 0x10d28bba8>,\n",
       " <ipyleaflet.leaflet.Circle at 0x10d28be10>,\n",
       " <ipyleaflet.leaflet.Circle at 0x10d28beb8>,\n",
       " <ipyleaflet.leaflet.Circle at 0x10d2982e8>,\n",
       " <ipyleaflet.leaflet.Circle at 0x10d2980f0>,\n",
       " <ipyleaflet.leaflet.Circle at 0x10d2986d8>,\n",
       " <ipyleaflet.leaflet.Circle at 0x10d298908>,\n",
       " <ipyleaflet.leaflet.Circle at 0x10d298b00>,\n",
       " <ipyleaflet.leaflet.Circle at 0x10d298d68>,\n",
       " <ipyleaflet.leaflet.Circle at 0x10d298fd0>,\n",
       " <ipyleaflet.leaflet.Circle at 0x10d2a6198>,\n",
       " <ipyleaflet.leaflet.Circle at 0x10d2a6470>,\n",
       " <ipyleaflet.leaflet.Circle at 0x10d2a66d8>,\n",
       " <ipyleaflet.leaflet.Circle at 0x10d2a6940>,\n",
       " <ipyleaflet.leaflet.Circle at 0x10d2a6ba8>,\n",
       " <ipyleaflet.leaflet.Circle at 0x10d2a6e10>,\n",
       " <ipyleaflet.leaflet.Circle at 0x10d2a6eb8>,\n",
       " <ipyleaflet.leaflet.Circle at 0x10d2ae320>,\n",
       " <ipyleaflet.leaflet.Circle at 0x10d2ae588>,\n",
       " <ipyleaflet.leaflet.Circle at 0x10d2ae7f0>,\n",
       " <ipyleaflet.leaflet.Circle at 0x10d2aea58>,\n",
       " <ipyleaflet.leaflet.Circle at 0x10d2aecc0>,\n",
       " <ipyleaflet.leaflet.Circle at 0x10d2aef28>,\n",
       " <ipyleaflet.leaflet.Circle at 0x10d2be160>,\n",
       " <ipyleaflet.leaflet.Circle at 0x10d2be438>,\n",
       " <ipyleaflet.leaflet.Circle at 0x10d2be240>,\n",
       " <ipyleaflet.leaflet.Circle at 0x10d2be518>,\n",
       " <ipyleaflet.leaflet.Circle at 0x10d2bea90>,\n",
       " <ipyleaflet.leaflet.Circle at 0x10d2be940>,\n",
       " <ipyleaflet.leaflet.Circle at 0x10b3c38d0>,\n",
       " <ipyleaflet.leaflet.Marker at 0x10bb3e438>,\n",
       " <ipyleaflet.leaflet.Marker at 0x10bb4aeb8>,\n",
       " <ipyleaflet.leaflet.Marker at 0x10bb3eb38>,\n",
       " <ipyleaflet.leaflet.Marker at 0x10bb3ed68>)"
      ]
     },
     "execution_count": 61,
     "metadata": {},
     "output_type": "execute_result"
    }
   ],
   "source": [
    "m.close()\n",
    "m.layers"
   ]
  },
  {
   "cell_type": "code",
   "execution_count": null,
   "metadata": {
    "collapsed": true
   },
   "outputs": [],
   "source": []
  }
 ],
 "metadata": {
  "kernelspec": {
   "display_name": "Python 3",
   "language": "python",
   "name": "python3"
  },
  "language_info": {
   "codemirror_mode": {
    "name": "ipython",
    "version": 3
   },
   "file_extension": ".py",
   "mimetype": "text/x-python",
   "name": "python",
   "nbconvert_exporter": "python",
   "pygments_lexer": "ipython3",
   "version": "3.6.0"
  },
  "widgets": {
   "state": {
    "29f576f1555941ae95389a8284bd9f24": {
     "views": [
      {
       "cell_index": 11
      }
     ]
    }
   },
   "version": "1.2.0"
  }
 },
 "nbformat": 4,
 "nbformat_minor": 2
}
