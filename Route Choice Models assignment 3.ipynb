{
 "metadata": {
  "name": "",
  "signature": "sha256:a184b5a6fc2314e5677fa61de8fa9a6c4f07567831b1fe685996dfc11915d562"
 },
 "nbformat": 3,
 "nbformat_minor": 0,
 "worksheets": [
  {
   "cells": [
    {
     "cell_type": "code",
     "collapsed": false,
     "input": [
      "%pylab inline"
     ],
     "language": "python",
     "metadata": {},
     "outputs": [
      {
       "output_type": "stream",
       "stream": "stdout",
       "text": [
        "Populating the interactive namespace from numpy and matplotlib\n"
       ]
      }
     ],
     "prompt_number": 3
    },
    {
     "cell_type": "code",
     "collapsed": false,
     "input": [
      "routes = [[1,2,5,10],\n",
      "          [3,8,11,12],\n",
      "          [1,4,7,10],\n",
      "          [3,6,9,12],\n",
      "          [1,4,9,12],\n",
      "          [3,6,7,10],\n",
      "          [3,6,4,2,5,10],\n",
      "          [1,4,6,8,11,12],\n",
      "          [3,8,11,9,7,10],\n",
      "          [1,2,5,7,9,12],\n",
      "          [3,8,11,9,4,2,5,10],\n",
      "          [1,2,5,7,6,8,11,12]]\n",
      "\n",
      "network = {1:[1,3],2:[1,2,4],3:[2,5],\n",
      "           4:[3,6,8],5:[4,7,6,9],6:[5,7,10],\n",
      "           7:[8,11],8:[9,11,12],9:[10,12]}\n",
      "links = {1:[1,2],2:[2,3],3:[1,4],4:[2,5],5:[3,6],\n",
      "         6:[4,5],7:[5,6],8:[4,7],9:[5,8],10:[6,9],\n",
      "         11:[7,8],12:[8,9]}"
     ],
     "language": "python",
     "metadata": {},
     "outputs": [],
     "prompt_number": 4
    },
    {
     "cell_type": "code",
     "collapsed": false,
     "input": [
      "network.keys()"
     ],
     "language": "python",
     "metadata": {},
     "outputs": [
      {
       "metadata": {},
       "output_type": "pyout",
       "prompt_number": 5,
       "text": [
        "[1, 2, 3, 4, 5, 6, 7, 8, 9]"
       ]
      }
     ],
     "prompt_number": 5
    },
    {
     "cell_type": "code",
     "collapsed": false,
     "input": [
      "N = 1000\n",
      "LP = 20\n",
      "DRAW = 20\n",
      "def path_enumeration(routes):\n",
      "    return routes\n",
      "\n",
      "def link_elimination(routes):\n",
      "    res = []\n",
      "    le = []\n",
      "    for r in routes:\n",
      "        if r[-1] in le:\n",
      "            continue\n",
      "        le.append(r[-1])\n",
      "        res.append(r)\n",
      "    return res\n",
      "\n",
      "def length(cost, route):\n",
      "    return sum([cost[l-1] for l in route])\n",
      "\n",
      "def link_penalty(routes):\n",
      "    res = set()\n",
      "    cost = ones(12)\n",
      "    for i in range(LP):\n",
      "        costs = [length(cost,r) for r in routes]\n",
      "        min_r = routes[costs.index(min(costs))]\n",
      "        for l in min_r:\n",
      "            cost[l-1] *= 1.05\n",
      "        res.add(tuple(min_r))\n",
      "        #print min_r,cost\n",
      "    return res\n",
      "        \n",
      "def simulation(routes):\n",
      "    #Gamma: mean = k\\theta var = k\\theta^2\n",
      "    # E = k*th = t\n",
      "    # V = k*th^2 = t\n",
      "    # th = 1, k = t\n",
      "    draw = ([gamma(1,1,DRAW) for t in range(12)])\n",
      "    d=array([sum([draw[i-1] for i in r],0) for r in routes]) #array of route length 12Xnumber of draws\n",
      "\n",
      "    return [routes[i] for i in set(d.argmin(0))]#,d\n",
      "\n",
      "\n",
      "def branch_and_bound(routes):\n",
      "    return routes[:6]\n",
      "    \n",
      "    \n",
      "            \n",
      "def probit(choiceset_obs):\n",
      "    for o in choiceset_obs:\n",
      "        util = []\n",
      "        for r in o:\n",
      "            u = 0\n",
      "            for l in r:\n",
      "                u += -1.*normal(1,1.6449/4.)\n",
      "            util.append(u)\n",
      "        mu = max(util)\n",
      "        yield mu,util.index(mu)\n",
      "\n",
      "choice_methods = [path_enumeration,link_elimination,link_penalty,branch_and_bound,\n",
      "                  simulation]\n",
      "    \n",
      "sim = [simulation(routes) for i in range(N)]\n",
      "lsim = [len(x) for x in sim]\n",
      "\n",
      "print max(lsim),min(lsim)\n",
      "def exercise1():\n",
      "    idx = 1\n",
      "    for meth in choice_methods:\n",
      "        obs = [meth(routes) for i in range(N)]\n",
      "        \n",
      "        LP = [x[1] for x in probit(obs)]\n",
      "        h,bins = histogram(LP)\n",
      "        h = 1.*h/N\n",
      "        #print bins\n",
      "        #bins = linspace(0,11,12)\n",
      "        width = 0.7 * (bins[1] - bins[0])\n",
      "        center = (bins[:-1] + bins[1:]) / 2.\n",
      "        f = plt.subplot(3,2,idx)\n",
      "        f.set_xlim(0,11)\n",
      "        idx += 1\n",
      "        title(meth.func_name)\n",
      "        plt.bar(center, h, align='center', width=width)\n",
      "    plt.tight_layout()\n",
      "    plt.show()\n",
      "        \n",
      "def plot_sim():\n",
      "    d = simulation(routes)[1]\n",
      "    h,bins = histogram(d.argmin(0)+1)\n",
      "    print bins\n",
      "    width = 0.7 * (bins[1] - bins[0])\n",
      "    center = (bins[:-1] + bins[1:]) / 2\n",
      "    plt.bar(center, h, align='center', width=width)\n",
      "    \n",
      "    plt.show()\n",
      "\n"
     ],
     "language": "python",
     "metadata": {},
     "outputs": [
      {
       "output_type": "stream",
       "stream": "stdout",
       "text": [
        "10 4\n"
       ]
      }
     ],
     "prompt_number": 6
    },
    {
     "cell_type": "code",
     "collapsed": true,
     "input": [
      "exercise1()"
     ],
     "language": "python",
     "metadata": {},
     "outputs": [
      {
       "metadata": {},
       "output_type": "display_data",
       "png": "[encoded data removed]",
       "text": [
        "<matplotlib.figure.Figure at 0x104afdb50>"
       ]
      }
     ],
     "prompt_number": 7
    },
    {
     "cell_type": "markdown",
     "metadata": {},
     "source": [
      "The five different choice set generation models give the above shown probabilities for choosing a specific route. The routes are numbered from zero to eleven. \n",
      "\n",
      "The first graph shows the Path enumeration method. The six routes with length four all have the same probability, but also the four length eight routes have been assigned small probabilities.\n",
      "\n",
      "The second graph shows Link Elimination. This method only gives two routes, and doesnot seem like a particular good way of generating choicesets.\n",
      "\n",
      "The Link Penalty method always generates four routes, the penalty added to the (chosen) links penalises the rest of the possible routes. For the moderate number of iterations in this example the extra cost added is not enough to make the other routes attrractive.\n",
      "\n",
      "For the \"branch and bound\" method I feel I have cheated a bit. I started out trying to program the method (and almost succeeded - I think); and noticed that I could use the numbering of the nodes to decide the criteria for not moving backwards. So in this example you would only go backwards if the node you would go to had a lower number than the node you came from. The next thing I noticed was that the length constraint would disallow all paths except the routes of length four. So instead of completing the program that could handle a more general network, I cheat and just return the six length four routes.\n",
      "\n",
      "All of the above methods are deterministic, and always give the same choice sets.\n",
      "\n",
      "For the simulation I had to decide the parameters for the gamma distribution, to match a normal distribution  with mean equal to zero and variance equal to one. Since the mean of a Gamma distribution is given by $\\mu = k\\theta$ and the variance ids given by  $var = k\\theta^2$, it gives us to equations with two unknowns, that fairly easy can be solved.\n",
      "\n",
      "The choiceset generated from the simulation has between 4 and 9 routes, and change from observation to observation, due to the stochasitic nature of the random draw involved."
     ]
    },
    {
     "cell_type": "code",
     "collapsed": false,
     "input": [
      "def error_calc():\n",
      "    ret = []\n",
      "    for meth in choice_methods:\n",
      "        obs = [meth(routes) for i in range(N)]\n",
      "        LP = [x[1] for x in probit(obs)]\n",
      "\n",
      "        h,bins = histogram(LP)\n",
      "        ret.append(1.*h/N)\n",
      "    return ret\n",
      "choice = error_calc()"
     ],
     "language": "python",
     "metadata": {},
     "outputs": [],
     "prompt_number": 8
    },
    {
     "cell_type": "code",
     "collapsed": false,
     "input": [
      "print sqrt(sum(pow(choice-choice[0],2),1)/len(choice[0]))\n"
     ],
     "language": "python",
     "metadata": {},
     "outputs": [
      {
       "output_type": "stream",
       "stream": "stdout",
       "text": [
        "[ 0.          0.22696255  0.16076567  0.12956543  0.10422476]\n",
        "[array([ 0.147,  0.176,  0.181,  0.167,  0.166,  0.152,  0.   ,  0.004,\n",
        "        0.004,  0.003]), array([ 0.496,  0.   ,  0.   ,  0.   ,  0.   ,  0.   ,  0.   ,  0.   ,\n",
        "        0.   ,  0.504]), array([ 0.251,  0.   ,  0.   ,  0.242,  0.   ,  0.   ,  0.269,  0.   ,\n",
        "        0.   ,  0.238]), array([ 0.171,  0.   ,  0.173,  0.   ,  0.148,  0.   ,  0.191,  0.   ,\n",
        "        0.173,  0.144]), array([ 0.177,  0.147,  0.   ,  0.181,  0.   ,  0.19 ,  0.165,  0.   ,\n",
        "        0.137,  0.003])]\n"
       ]
      }
     ],
     "prompt_number": 10
    },
    {
     "cell_type": "markdown",
     "metadata": {},
     "source": [
      "The RMSE of the probit calculated five route set generation methods shown above (compared with Path Enumeration - making the first error zero), shows that the error diminshes through the different methods. The lowest error is for the Simulation method, and the next lowest is for the Branch and Boun method."
     ]
    },
    {
     "cell_type": "heading",
     "level": 2,
     "metadata": {},
     "source": [
      "Exercise 2"
     ]
    },
    {
     "cell_type": "code",
     "collapsed": false,
     "input": [
      "def PSCL(choiceset_obs):\n",
      "    for o in choiceset_obs:\n",
      "        util = []\n",
      "        for r in o:\n",
      "            u = len(r)\n",
      "\n",
      "            v = u * 0.4\n",
      "            beta = sqrt(v/(pi**2)*6)\n",
      "            loc = -1.*beta*euler_gamma \n",
      "            u = -1.*u - gumbel(loc,beta,1) #mean = mu -beta*gamma , variance = pi**2/6*beta**2\n",
      "            util.append(u)\n",
      "        mu = max(util)\n",
      "        #if util.index(mu)==0: print util\n",
      "        yield mu,util.index(mu)\n",
      "        \n",
      "#list(PSCL([path_enumeration(routes) for i in range(N)]))\n",
      "def exercise2():\n",
      "    idx = 1\n",
      "    for meth in choice_methods:\n",
      "        obs = [meth(routes) for i in range(N)]\n",
      "\n",
      "        LP = [x[1] for x in PSCL(obs)]\n",
      "        h,bins = histogram(LP)\n",
      "        h = 1.*h/N\n",
      "        width = 0.7 * (bins[1] - bins[0])\n",
      "        center = (bins[:-1] + bins[1:]) / 2\n",
      "\n",
      "        f = plt.subplot(3,2,idx)\n",
      "        f.set_xlim(0,11)\n",
      "        idx += 1\n",
      "        title(meth.func_name)\n",
      "        \n",
      "        plt.bar(center, h, align='center', width=width)\n",
      "    plt.tight_layout()\n",
      "    plt.show()\n",
      "\n",
      "exercise2()"
     ],
     "language": "python",
     "metadata": {},
     "outputs": [
      {
       "metadata": {},
       "output_type": "display_data",
       "png": "[encoded data removed]",
       "text": [
        "<matplotlib.figure.Figure at 0x109d62b10>"
       ]
      }
     ],
     "prompt_number": 276
    },
    {
     "cell_type": "markdown",
     "metadata": {},
     "source": [
      "The above figure shows the route probabilities for the Pathsize logit assignment of the same observations as in Exercise 1.\n"
     ]
    },
    {
     "cell_type": "code",
     "collapsed": false,
     "input": [
      "def logit_error_calc():\n",
      "    ret = []\n",
      "    for meth in choice_methods:\n",
      "        obs = [meth(routes) for i in range(N)]\n",
      "        LP = [x[1] for x in PSCL(obs)]\n",
      "\n",
      "        h,bins = histogram(LP)\n",
      "        ret.append(1.*h/N)\n",
      "    return ret\n",
      "choice = logit_error_calc()\n",
      "print sqrt(sum(pow(choice-choice[0],2),1))"
     ],
     "language": "python",
     "metadata": {},
     "outputs": [
      {
       "output_type": "stream",
       "stream": "stdout",
       "text": [
        "[ 0.          0.71623181  0.50009999  0.38592227  0.33350562]\n"
       ]
      }
     ],
     "prompt_number": 251
    },
    {
     "cell_type": "markdown",
     "metadata": {},
     "source": [
      "The RMSE of the logit based probability assignment seems overall to be lower, than the RMSE from the previous exercise. But the RMSE retains the propery to have Branch and Bound and Simulation with the lowest error. So it does not in this case seem that the logit model generates more error."
     ]
    },
    {
     "cell_type": "code",
     "collapsed": false,
     "input": [],
     "language": "python",
     "metadata": {},
     "outputs": []
    }
   ],
   "metadata": {}
  }
 ]
}