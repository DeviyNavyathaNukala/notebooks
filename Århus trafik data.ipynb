{
 "cells": [
  {
   "cell_type": "code",
   "execution_count": 1,
   "metadata": {},
   "outputs": [
    {
     "ename": "ImportError",
     "evalue": "No module named lxml.etree",
     "output_type": "error",
     "traceback": [
      "\u001b[0;31m---------------------------------------------------------------------------\u001b[0m",
      "\u001b[0;31mImportError\u001b[0m                               Traceback (most recent call last)",
      "\u001b[0;32m<ipython-input-1-b1259f3983e9>\u001b[0m in \u001b[0;36m<module>\u001b[0;34m()\u001b[0m\n\u001b[0;32m----> 1\u001b[0;31m \u001b[0;32mimport\u001b[0m \u001b[0mlxml\u001b[0m\u001b[0;34m.\u001b[0m\u001b[0metree\u001b[0m\u001b[0;34m\u001b[0m\u001b[0m\n\u001b[0m\u001b[1;32m      2\u001b[0m \u001b[0mp\u001b[0m \u001b[0;34m=\u001b[0m \u001b[0mlxml\u001b[0m\u001b[0;34m.\u001b[0m\u001b[0metree\u001b[0m\u001b[0;34m.\u001b[0m\u001b[0mparse\u001b[0m\u001b[0;34m(\u001b[0m\u001b[0;34m'/Users/alehmann/Documents/Documents/HIH/phd ansøgning/Trafikvej2011_Årsdøgntrafik2010.kml'\u001b[0m\u001b[0;34m)\u001b[0m\u001b[0;34m\u001b[0m\u001b[0m\n",
      "\u001b[0;31mImportError\u001b[0m: No module named lxml.etree"
     ]
    }
   ],
   "source": [
    "import lxml.etree\n",
    "p = lxml.etree.parse('/Users/alehmann/Documents/Documents/HIH/phd ansøgning/Trafikvej2011_Årsdøgntrafik2010.kml')"
   ]
  },
  {
   "cell_type": "code",
   "execution_count": 4,
   "metadata": {},
   "outputs": [],
   "source": [
    "kml = 'http://www.opengis.net/kml/2.2'"
   ]
  },
  {
   "cell_type": "code",
   "execution_count": 5,
   "metadata": {},
   "outputs": [
    {
     "name": "stdout",
     "output_type": "stream",
     "text": [
      "608\n"
     ]
    }
   ],
   "source": [
    "trafik = []\n",
    "for place in p.findall('//{{{0}}}Placemark'.format(kml)):\n",
    "    talt = place.findall('{{{0}}}ExtendedData/{{{0}}}SchemaData/{{{0}}}SimpleData[@name=\"rsdgntrafik_talt\"]'.format(kml))[0]\n",
    "    skoen = place.findall('{{{0}}}ExtendedData/{{{0}}}SchemaData/{{{0}}}SimpleData[@name=\"rsdgntrafik_skn\"]'.format(kml))[0]\n",
    "    trafik.append(int(talt.text)+int(skoen.text))\n",
    "    if skoen.text == \"50\" : print place.findall('{{{0}}}ExtendedData/{{{0}}}SchemaData/{{{0}}}SimpleData[@name=\"Lb_nr\"]'.format(kml))[0].text"
   ]
  },
  {
   "cell_type": "code",
   "execution_count": 6,
   "metadata": {},
   "outputs": [],
   "source": [
    "max_trafik = max(trafik)"
   ]
  },
  {
   "cell_type": "code",
   "execution_count": 7,
   "metadata": {},
   "outputs": [],
   "source": [
    "min_trafik = min(trafik)"
   ]
  },
  {
   "cell_type": "code",
   "execution_count": 8,
   "metadata": {},
   "outputs": [],
   "source": [
    "from math import atan2\n",
    "\n",
    "def rad(angle):\n",
    "    return angle/180*pi\n",
    "\n",
    "def haversine(*args):\n",
    "\t# a = sin²(Δφ/2) + cos(φ1).cos(φ2).sin²(Δλ/2)\n",
    "    # c = 2.atan2(√a, √(1−a))\n",
    "    # d = R.c\n",
    "    R = 6371\n",
    "    lat, lon, lat1, lon1 = map(rad, args)\n",
    "    dlat = lat1 - lat\n",
    "    dlon = lon1 - lon\n",
    "    a = sin(dlat/2)**2 + cos(lat)*cos(lat1)*sin(dlon/2)**2\n",
    "    c = 2*atan2(sqrt(a),sqrt(1-a))\n",
    "    d = R*c\n",
    "    return d"
   ]
  },
  {
   "cell_type": "code",
   "execution_count": 9,
   "metadata": {},
   "outputs": [
    {
     "name": "stdout",
     "output_type": "stream",
     "text": [
      "[(9.999962383154033, 56.152072949135125), (9.998971803378318, 56.151866166726826), (9.99869424210255, 56.15183041015547)] 0.0831629244465\n",
      "1090 <<<<\n",
      "[(9.974727498107958, 56.150676406444404), (9.974727365397174, 56.150676407491105)] 8.22050163055e-06\n",
      "8.22050163055e-06 1090\n",
      "636.091292493 1006\n"
     ]
    }
   ],
   "source": [
    "total = 0\n",
    "dups = set()\n",
    "for place in p.findall('//{{{0}}}Placemark'.format(kml)):\n",
    "    line = place.findall('{{{0}}}Style/{{{0}}}LineStyle'.format(kml))[0]\n",
    "    color = line.find('{{{0}}}color'.format(kml))\n",
    "    talt = place.findall('{{{0}}}ExtendedData/{{{0}}}SchemaData/{{{0}}}SimpleData[@name=\"rsdgntrafik_talt\"]'.format(kml))[0]\n",
    "    skoen = place.findall('{{{0}}}ExtendedData/{{{0}}}SchemaData/{{{0}}}SimpleData[@name=\"rsdgntrafik_skn\"]'.format(kml))[0]\n",
    "    serialnumber = place.findall('{{{0}}}ExtendedData/{{{0}}}SchemaData/{{{0}}}SimpleData[@name=\"Lb_nr\"]'.format(kml))[0]\n",
    "    if serialnumber.text not in dups:\n",
    "        dups.add(serialnumber.text)\n",
    "    else:\n",
    "        print serialnumber.text,\"<<<<\"\n",
    "    amount = int(talt.text)+int(skoen.text)  \n",
    "    width = lxml.etree.SubElement(line,'{{{0}}}width'.format(kml))\n",
    "    width.text = str(int (10.*amount/max_trafik +1))\n",
    "    if int(skoen.text): color.text = 'ff00ff00'\n",
    "    pp = False    \n",
    "    linecoord = place.findall('{{{0}}}LineString/{{{0}}}coordinates'.format(kml))\n",
    "    if not linecoord:\n",
    "\n",
    "#        print serialnumber.text,\n",
    "        pp = True\n",
    "        linecoord = place.findall('{{{0}}}MultiGeometry/{{{0}}}LineString/{{{0}}}coordinates'.format(kml))\n",
    "    dist = 0\n",
    "    for lin in linecoord:\n",
    "        coord = [tuple(map(float,x.split(','))) for x in lin.text.split(' ') ]\n",
    "        lon0,lat0 = coord[0]\n",
    "\n",
    "        for lon,lat in coord[1:]:\n",
    "            dist += haversine(lat0,lon0,lat,lon)\n",
    "            lat0,lon0 = lat,lon\n",
    "        if serialnumber.text == \"1090\": print coord, dist\n",
    "\n",
    "    if dist < 0.01: print dist,serialnumber.text\n",
    "    pp = False\n",
    "    total += dist\n",
    "    length = lxml.etree.SubElement(place,'{{{0}}}Length'.format(kml))\n",
    "    length.text = str(dist)\n",
    "print total,len(p.findall('//{{{0}}}Placemark'.format(kml)))"
   ]
  },
  {
   "cell_type": "code",
   "execution_count": 11,
   "metadata": {},
   "outputs": [],
   "source": [
    "p.write('/Users/alehmann/Desktop/trafik2.kml')"
   ]
  },
  {
   "cell_type": "code",
   "execution_count": null,
   "metadata": {},
   "outputs": [],
   "source": []
  }
 ],
 "metadata": {
  "kernelspec": {
   "display_name": "Python 2",
   "language": "python",
   "name": "python2"
  },
  "language_info": {
   "codemirror_mode": {
    "name": "ipython",
    "version": 2
   },
   "file_extension": ".py",
   "mimetype": "text/x-python",
   "name": "python",
   "nbconvert_exporter": "python",
   "pygments_lexer": "ipython2",
   "version": "2.7.13"
  }
 },
 "nbformat": 4,
 "nbformat_minor": 1
}
