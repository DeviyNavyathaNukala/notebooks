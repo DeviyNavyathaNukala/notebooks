{
 "metadata": {
  "name": "",
  "signature": "sha256:85f360b15b21b456c607e6ca61b06096190c6f8d18ac5c919884f78fa89a2689"
 },
 "nbformat": 3,
 "nbformat_minor": 0,
 "worksheets": [
  {
   "cells": [
    {
     "cell_type": "markdown",
     "metadata": {},
     "source": [
      "<script type=\"text/javascript\">\n",
      "setInterval ( \"IPython.notebook.save_notebook()\", 5*60*1000 );\n",
      "</script>"
     ]
    },
    {
     "cell_type": "markdown",
     "metadata": {},
     "source": [
      "**Problem 29.5.** A proton travels with a speed of 5.02E6 m/s in a direc- tion that makes an angle of 60 deg with the direction of a magnetic field of magnitude 0.180 T in the positive x direction. What are the magnitudes of (a) the magnetic force on the proton and (b) the proton\u2019s acceleration?"
     ]
    },
    {
     "cell_type": "code",
     "collapsed": false,
     "input": [
      "%load_ext physics"
     ],
     "language": "python",
     "metadata": {},
     "outputs": [
      {
       "output_type": "stream",
       "stream": "stdout",
       "text": [
        "Unit calculation and physics extensions activated.\n"
       ]
      }
     ],
     "prompt_number": 2
    },
    {
     "cell_type": "code",
     "collapsed": false,
     "input": [
      "%pylab inline"
     ],
     "language": "python",
     "metadata": {},
     "outputs": [
      {
       "output_type": "stream",
       "stream": "stdout",
       "text": [
        "Populating the interactive namespace from numpy and matplotlib\n"
       ]
      }
     ],
     "prompt_number": 1
    },
    {
     "cell_type": "code",
     "collapsed": false,
     "input": [
      "v = 5.02E6 m/s"
     ],
     "language": "python",
     "metadata": {},
     "outputs": [],
     "prompt_number": 3
    },
    {
     "cell_type": "code",
     "collapsed": false,
     "input": [
      "fi = 60 deg"
     ],
     "language": "python",
     "metadata": {},
     "outputs": [],
     "prompt_number": 29
    },
    {
     "cell_type": "code",
     "collapsed": false,
     "input": [
      "B = 0.18 T"
     ],
     "language": "python",
     "metadata": {},
     "outputs": [],
     "prompt_number": 30
    },
    {
     "cell_type": "code",
     "collapsed": true,
     "input": [
      "F = e0*v*B*sin(fi) # a)\n",
      "\n",
      "F.convert('N')\n",
      "a = F/mp           # b)\n",
      "a.convert('m/s**2')\n",
      "\n",
      "print \"Magnetic force : {} , acceleration {} \".format(F ,a)"
     ],
     "language": "python",
     "metadata": {},
     "outputs": [
      {
       "output_type": "stream",
       "stream": "stdout",
       "text": [
        "Magnetic force : 1.25376813816e-13 N , acceleration 7.49582574733e+13 m/s**2 \n"
       ]
      }
     ],
     "prompt_number": 31
    },
    {
     "cell_type": "markdown",
     "metadata": {},
     "source": [
      "**Problem 7** An electron is accelerated through 2.40E3 V from rest and then enters a uniform 1.70 T magnetic field. What are (a) the maximum and (b) the minimum values of the mag- netic force this particle experiences?"
     ]
    },
    {
     "cell_type": "code",
     "collapsed": false,
     "input": [
      "B = 1.7 T"
     ],
     "language": "python",
     "metadata": {},
     "outputs": [],
     "prompt_number": 4
    },
    {
     "cell_type": "code",
     "collapsed": false,
     "input": [
      "V = 2.4E3 V"
     ],
     "language": "python",
     "metadata": {},
     "outputs": [],
     "prompt_number": 5
    },
    {
     "cell_type": "code",
     "collapsed": false,
     "input": [
      "U = e0*V\n",
      "v = (U*2/me)\n",
      "v = sqrt(v)\n",
      "\n",
      "F = e0*v*B # a)\n",
      "F.convert('N')\n",
      "# b) 0 happens when speed is parallel with magnetic field\n",
      "\n",
      "print \"Maksimum force: {}, minimum force: 0\".format(F)"
     ],
     "language": "python",
     "metadata": {},
     "outputs": [
      {
       "output_type": "stream",
       "stream": "stdout",
       "text": [
        "Maksimum force: 7.91390119261e-12 N, minimum force: 0\n"
       ]
      }
     ],
     "prompt_number": 10
    },
    {
     "cell_type": "markdown",
     "metadata": {},
     "source": [
      "**Problem 17** A cosmic-ray proton in interstellar space has an energy of 10.0 MeV and executes a circular orbit having a radius equal to that of Mercury\u2019s orbit around the Sun (5.80E10 m). What is the magnetic field in that region of space?"
     ]
    },
    {
     "cell_type": "code",
     "collapsed": false,
     "input": [
      "r = 5.8E10 m"
     ],
     "language": "python",
     "metadata": {},
     "outputs": [],
     "prompt_number": 35
    },
    {
     "cell_type": "code",
     "collapsed": false,
     "input": [
      "E = 10e6 MeV"
     ],
     "language": "python",
     "metadata": {},
     "outputs": [],
     "prompt_number": 36
    },
    {
     "cell_type": "code",
     "collapsed": false,
     "input": [
      "v = sqrt(E*2/mp)\n",
      "\n",
      "# m*v^2/r = qvB => B = m*v/r/q/\n",
      "\n",
      "B = mp*v/(r*e0)\n",
      "B.convert('T')\n",
      "print \"Magnetic field {}\".format(B)"
     ],
     "language": "python",
     "metadata": {},
     "outputs": [
      {
       "output_type": "stream",
       "stream": "stdout",
       "text": [
        "Magnetic field 7.87826690778e-09 T\n"
       ]
      }
     ],
     "prompt_number": 37
    },
    {
     "cell_type": "markdown",
     "metadata": {},
     "source": [
      "**Problem 23** Consider the mass spectrometer shown schematically in Active Figure 29.14. The magnitude of the electric field between the plates of the velocity selector is 2.50E3 V/m, and the magnetic field in both the velocity selector and the deflection chamber has a magnitude of 0.035 0 T. Calculate the radius of the path for a singly charged ion having a mass m  2.18E-26 kg."
     ]
    },
    {
     "cell_type": "code",
     "collapsed": false,
     "input": [
      "m = 2.18E-26 kg"
     ],
     "language": "python",
     "metadata": {},
     "outputs": [],
     "prompt_number": 38
    },
    {
     "cell_type": "code",
     "collapsed": false,
     "input": [
      "B = 0.035 T"
     ],
     "language": "python",
     "metadata": {},
     "outputs": [],
     "prompt_number": 39
    },
    {
     "cell_type": "code",
     "collapsed": false,
     "input": [
      "E = 2.5E3 V/m"
     ],
     "language": "python",
     "metadata": {},
     "outputs": [],
     "prompt_number": 40
    },
    {
     "cell_type": "code",
     "collapsed": false,
     "input": [
      "v = E/B\n",
      "\n",
      "# m*v^2/r = qvB => r = m/q*v/B\n",
      "r = m*v/e0/B\n",
      "r.convert('m')\n",
      "\n",
      "print \"Radius :\u00a0{}\".format(r)"
     ],
     "language": "python",
     "metadata": {},
     "outputs": [
      {
       "output_type": "stream",
       "stream": "stdout",
       "text": [
        "Radius :\u00a00.277683476904 m\n"
       ]
      }
     ],
     "prompt_number": 41
    },
    {
     "cell_type": "heading",
     "level": 1,
     "metadata": {},
     "source": [
      "Exercise 29.37 "
     ]
    },
    {
     "cell_type": "code",
     "collapsed": false,
     "input": [
      "mass = 0.72 kg"
     ],
     "language": "python",
     "metadata": {},
     "outputs": [],
     "prompt_number": 12
    },
    {
     "cell_type": "code",
     "collapsed": false,
     "input": [
      "r = 6 cm"
     ],
     "language": "python",
     "metadata": {},
     "outputs": [],
     "prompt_number": 13
    },
    {
     "cell_type": "code",
     "collapsed": false,
     "input": [
      "d = 12 cm"
     ],
     "language": "python",
     "metadata": {},
     "outputs": [],
     "prompt_number": 14
    },
    {
     "cell_type": "code",
     "collapsed": false,
     "input": [
      "L = 45 cm"
     ],
     "language": "python",
     "metadata": {},
     "outputs": [],
     "prompt_number": 15
    },
    {
     "cell_type": "code",
     "collapsed": false,
     "input": [
      "I = 48 A"
     ],
     "language": "python",
     "metadata": {},
     "outputs": [],
     "prompt_number": 16
    },
    {
     "cell_type": "code",
     "collapsed": false,
     "input": [
      "B = 0.24 T"
     ],
     "language": "python",
     "metadata": {},
     "outputs": [],
     "prompt_number": 17
    },
    {
     "cell_type": "code",
     "collapsed": false,
     "input": [
      "F = B*I*d\n",
      "F.convert('N')\n",
      "Work = F*L\n",
      "\n",
      "# Work = Ekin + Erot = mass*v**2/2 + I*omega**2/2 = \n",
      "#      = mass*v**2/2 + (mass*r**2/2)*omega**2/2 =\n",
      "#      = mass/2(v**2 + (r*omega)**2/2) =\n",
      "#      = mass/2*v**2(1 + 1/2) = mass*v**2*(3/4)\n",
      "v = sqrt(Work/mass/3*4)\n",
      "v.convert('m/s')\n",
      "print v"
     ],
     "language": "python",
     "metadata": {},
     "outputs": [
      {
       "output_type": "stream",
       "stream": "stdout",
       "text": [
        "1.0733126 m/s\n"
       ]
      }
     ],
     "prompt_number": 18
    },
    {
     "cell_type": "heading",
     "level": 1,
     "metadata": {},
     "source": [
      "Exercise 29.47"
     ]
    },
    {
     "cell_type": "code",
     "collapsed": false,
     "input": [
      "mu_n = 9.7 mA*m**2"
     ],
     "language": "python",
     "metadata": {},
     "outputs": [],
     "prompt_number": 19
    },
    {
     "cell_type": "code",
     "collapsed": false,
     "input": [
      "B = 55E-6 T"
     ],
     "language": "python",
     "metadata": {},
     "outputs": [],
     "prompt_number": 24
    },
    {
     "cell_type": "code",
     "collapsed": false,
     "input": [
      "Work = 2*mu_n*B\n",
      "Work.convert('J')\n",
      "print B,mu_n,Work"
     ],
     "language": "python",
     "metadata": {},
     "outputs": [
      {
       "output_type": "stream",
       "stream": "stdout",
       "text": [
        "5.5e-05 T 9.7 m^2*mA 1.067e-06 J\n"
       ]
      }
     ],
     "prompt_number": 26
    },
    {
     "cell_type": "heading",
     "level": 1,
     "metadata": {},
     "source": [
      "Exercise 30.3 "
     ]
    },
    {
     "cell_type": "markdown",
     "metadata": {},
     "source": [
      "Calculate the magnitude of the magnetic field at a W point 25.0 cm from a long, thin conductor carrying a\n",
      "current of 2.00 A."
     ]
    },
    {
     "cell_type": "code",
     "collapsed": false,
     "input": [
      "d = 25 cm"
     ],
     "language": "python",
     "metadata": {},
     "outputs": [],
     "prompt_number": 4
    },
    {
     "cell_type": "code",
     "collapsed": false,
     "input": [
      "I = 2 A"
     ],
     "language": "python",
     "metadata": {},
     "outputs": [],
     "prompt_number": 5
    },
    {
     "cell_type": "code",
     "collapsed": false,
     "input": [
      "B = mu0/2/pi*I/d\n",
      "B.convert('muT')\n",
      "B"
     ],
     "language": "python",
     "metadata": {},
     "outputs": [
      {
       "metadata": {},
       "output_type": "pyout",
       "prompt_number": 40,
       "text": [
        "96 muT"
       ]
      }
     ],
     "prompt_number": 40
    },
    {
     "cell_type": "heading",
     "level": 1,
     "metadata": {},
     "source": [
      "Exercise 30.21"
     ]
    },
    {
     "cell_type": "markdown",
     "metadata": {},
     "source": [
      "\n",
      "Two long, parallel conductors, separated by 10.0 cm, W carry currents in the same direction. The first wire carries a current I1 = 5.00 A, and the second carries I2 = 8.00 A. (a) What is the magnitude of the magnetic field created by I1 at the location of I2? (b) What is the force per unit length exerted by I1 on I2? (c) What is the magnitude of the magnetic field created by I2 at the location of I1? (d) What is the force per length exerted\n",
      "by I2 on I1?"
     ]
    },
    {
     "cell_type": "code",
     "collapsed": false,
     "input": [
      "I1 = 5 A"
     ],
     "language": "python",
     "metadata": {},
     "outputs": [],
     "prompt_number": 27
    },
    {
     "cell_type": "code",
     "collapsed": false,
     "input": [
      "I2 = 8 A"
     ],
     "language": "python",
     "metadata": {},
     "outputs": [],
     "prompt_number": 28
    },
    {
     "cell_type": "code",
     "collapsed": false,
     "input": [
      "d = 10 cm"
     ],
     "language": "python",
     "metadata": {},
     "outputs": [],
     "prompt_number": 29
    },
    {
     "cell_type": "code",
     "collapsed": false,
     "input": [
      "B21 = mu0/2/pi*I1/d\n",
      "B21.convert('muT')\n",
      "B21"
     ],
     "language": "python",
     "metadata": {},
     "outputs": [
      {
       "metadata": {},
       "output_type": "pyout",
       "prompt_number": 33,
       "text": [
        "10 muT"
       ]
      }
     ],
     "prompt_number": 33
    },
    {
     "cell_type": "code",
     "collapsed": false,
     "input": [
      "F = B21*I2\n",
      "F.convert('muN/m')\n",
      "F"
     ],
     "language": "python",
     "metadata": {},
     "outputs": [
      {
       "metadata": {},
       "output_type": "pyout",
       "prompt_number": 37,
       "text": [
        "80 muN/m"
       ]
      }
     ],
     "prompt_number": 37
    },
    {
     "cell_type": "code",
     "collapsed": false,
     "input": [
      "B12 = mu0/2/pi*I2/d\n",
      "B12.convert('muT')\n",
      "B12"
     ],
     "language": "python",
     "metadata": {},
     "outputs": [
      {
       "metadata": {},
       "output_type": "pyout",
       "prompt_number": 38,
       "text": [
        "16 muT"
       ]
      }
     ],
     "prompt_number": 38
    },
    {
     "cell_type": "heading",
     "level": 1,
     "metadata": {},
     "source": [
      "Exercise 30.31"
     ]
    },
    {
     "cell_type": "markdown",
     "metadata": {},
     "source": [
      "Figure P30.31 is a cross-sectional view of a coaxial cable. The center conductor is surrounded by a rubber layer, an outer conductor, and another rubber layer. In a particular application, the current in the inner conductor is I1 5 1.00 A out of the page and the cur- rent in the outer conductor is I2 5 3.00 A into the page. Assuming the distance d 5 1.00 mm, determine the magnitude and direction of the magnetic field at (a) point a and (b) point b."
     ]
    },
    {
     "cell_type": "heading",
     "level": 1,
     "metadata": {},
     "source": [
      "Exercise 30.43"
     ]
    },
    {
     "cell_type": "markdown",
     "metadata": {},
     "source": [
      "A single-turn square loop of wire, 2.00 cm on each edge, W carries a clockwise current of 0.200 A. The loop is inside a solenoid, with the plane of the loop perpendicular to the magnetic field of the solenoid. The solenoid has 30.0 turns/cm and carries a clockwise current of 15.0 A. Find (a) the force on each side of the loop and (b) the torque acting on the loop."
     ]
    },
    {
     "cell_type": "code",
     "collapsed": false,
     "input": [
      "d = 2 cm"
     ],
     "language": "python",
     "metadata": {},
     "outputs": [],
     "prompt_number": 4
    },
    {
     "cell_type": "code",
     "collapsed": false,
     "input": [
      "I = 0.2 A"
     ],
     "language": "python",
     "metadata": {},
     "outputs": [],
     "prompt_number": 5
    },
    {
     "cell_type": "code",
     "collapsed": false,
     "input": [
      "I_s = 15 A"
     ],
     "language": "python",
     "metadata": {},
     "outputs": [],
     "prompt_number": 6
    },
    {
     "cell_type": "code",
     "collapsed": false,
     "input": [
      "n = 30 1/cm"
     ],
     "language": "python",
     "metadata": {},
     "outputs": [],
     "prompt_number": 7
    },
    {
     "cell_type": "code",
     "collapsed": false,
     "input": [
      "B = mu0*n*I_s\n",
      "B.convert('T')\n",
      "B"
     ],
     "language": "python",
     "metadata": {},
     "outputs": [
      {
       "metadata": {},
       "output_type": "pyout",
       "prompt_number": 10,
       "text": [
        "0.056548668 T"
       ]
      }
     ],
     "prompt_number": 10
    },
    {
     "cell_type": "code",
     "collapsed": false,
     "input": [
      "F = I *d*B\n",
      "F.convert('muN')\n",
      "F"
     ],
     "language": "python",
     "metadata": {},
     "outputs": [
      {
       "metadata": {},
       "output_type": "pyout",
       "prompt_number": 12,
       "text": [
        "226.19467 muN"
       ]
      }
     ],
     "prompt_number": 12
    },
    {
     "cell_type": "heading",
     "level": 1,
     "metadata": {},
     "source": [
      "Exercise 30.47"
     ]
    },
    {
     "cell_type": "markdown",
     "metadata": {},
     "source": [
      "given by B 5 15i 1 4j 1 3k2 T exists throughout the\n",
      "region. (a) Calculate the magnetic flux through the shaded face. (b) What is the total flux through the six faces?"
     ]
    },
    {
     "cell_type": "heading",
     "level": 1,
     "metadata": {},
     "source": [
      "Exercise 31.5"
     ]
    },
    {
     "cell_type": "code",
     "collapsed": false,
     "input": [
      "R = 12 cm"
     ],
     "language": "python",
     "metadata": {},
     "outputs": [],
     "prompt_number": 13
    },
    {
     "cell_type": "code",
     "collapsed": false,
     "input": [
      "B = 0.15 T"
     ],
     "language": "python",
     "metadata": {},
     "outputs": [],
     "prompt_number": 14
    },
    {
     "cell_type": "code",
     "collapsed": false,
     "input": [
      "T = 0.2 s"
     ],
     "language": "python",
     "metadata": {},
     "outputs": [],
     "prompt_number": 15
    },
    {
     "cell_type": "code",
     "collapsed": false,
     "input": [
      "E = B*pi*R**2/T\n",
      "E.convert('V')\n",
      "E"
     ],
     "language": "python",
     "metadata": {},
     "outputs": [
      {
       "metadata": {},
       "output_type": "pyout",
       "prompt_number": 18,
       "text": [
        "0.033929201 V"
       ]
      }
     ],
     "prompt_number": 18
    },
    {
     "cell_type": "markdown",
     "metadata": {},
     "source": [
      "\n",
      "\n",
      "# from example 30.3\n",
      "\n",
      "# Bx = mu_0*I*earth_radius**2/(2*pow(2*earth_radius**2,1.5))"
     ]
    },
    {
     "cell_type": "code",
     "collapsed": false,
     "input": [
      "earth_radius = 6.37E6 m"
     ],
     "language": "python",
     "metadata": {},
     "outputs": [],
     "prompt_number": 43
    },
    {
     "cell_type": "code",
     "collapsed": false,
     "input": [
      "Bx = 7e-5 T"
     ],
     "language": "python",
     "metadata": {},
     "outputs": [],
     "prompt_number": 44
    },
    {
     "cell_type": "code",
     "collapsed": true,
     "input": [
      "I = Bx/(mu0*earth_radius**2)*2*sqrt(pow(2*earth_radius**2,3))\n",
      "I.convert('MA')\n",
      "print I"
     ],
     "language": "python",
     "metadata": {},
     "outputs": [
      {
       "output_type": "stream",
       "stream": "stdout",
       "text": [
        "2007.2552 MA\n"
       ]
      }
     ],
     "prompt_number": 45
    },
    {
     "cell_type": "code",
     "collapsed": false,
     "input": [],
     "language": "python",
     "metadata": {},
     "outputs": []
    },
    {
     "cell_type": "code",
     "collapsed": true,
     "input": [
      "# Resistance in copper\n",
      "\n",
      "rho = 1.7E-8\n",
      "R = rho*(2*pi*earth_radius)/1\n",
      "\n",
      "# Power lost to resistance\n",
      "P = R*I**2\n",
      "print P\n",
      "\n",
      "# Received power from the sun\n",
      "\n",
      "Irr = 1300 #watt /m**2\n",
      "\n",
      "Psun = pi*earth_radius**2\n",
      "\n",
      "print Psun, P/Psun"
     ],
     "language": "python",
     "metadata": {},
     "outputs": [
      {
       "output_type": "stream",
       "stream": "stdout",
       "text": [
        "2741406.4 MA^2*m\n",
        "1.2747609e+14 m^2 2.1505259e-08 MA^2/m\n"
       ]
      }
     ],
     "prompt_number": 46
    },
    {
     "cell_type": "code",
     "collapsed": false,
     "input": [
      "# 31.27\n",
      "r = 0.4\n",
      "B = 0.9\n",
      "om = 3200. /60 # rev/s\n",
      "A = pi * r**2\n",
      "\n",
      "Flux = B*A\n",
      "dflux = Flux*om\n",
      "\n",
      "print -dflux"
     ],
     "language": "python",
     "metadata": {},
     "outputs": [
      {
       "output_type": "stream",
       "stream": "stdout",
       "text": [
        "-24.1274315796\n"
       ]
      }
     ],
     "prompt_number": 47
    },
    {
     "cell_type": "code",
     "collapsed": true,
     "input": [
      "#32.10\n",
      "\n",
      "emf = 175E-6\n",
      "dA = 0.421\n",
      "l = 0.16\n",
      "N = 420\n",
      "\n",
      "R = sqrt(emf*l/pi/mu0/N/dA)\n",
      "print R"
     ],
     "language": "python",
     "metadata": {},
     "outputs": [
      {
       "ename": "UnitError",
       "evalue": "Illegal exponent 0.500000",
       "output_type": "pyerr",
       "traceback": [
        "\u001b[0;31m---------------------------------------------------------------------------\u001b[0m\n\u001b[0;31mUnitError\u001b[0m                                 Traceback (most recent call last)",
        "\u001b[0;32m<ipython-input-49-addd87b48bad>\u001b[0m in \u001b[0;36m<module>\u001b[0;34m()\u001b[0m\n\u001b[1;32m      6\u001b[0m \u001b[0mN\u001b[0m \u001b[0;34m=\u001b[0m \u001b[0;36m420\u001b[0m\u001b[0;34m\u001b[0m\u001b[0m\n\u001b[1;32m      7\u001b[0m \u001b[0;34m\u001b[0m\u001b[0m\n\u001b[0;32m----> 8\u001b[0;31m \u001b[0mR\u001b[0m \u001b[0;34m=\u001b[0m \u001b[0msqrt\u001b[0m\u001b[0;34m(\u001b[0m\u001b[0memf\u001b[0m\u001b[0;34m*\u001b[0m\u001b[0ml\u001b[0m\u001b[0;34m/\u001b[0m\u001b[0mpi\u001b[0m\u001b[0;34m/\u001b[0m\u001b[0mmu0\u001b[0m\u001b[0;34m/\u001b[0m\u001b[0mN\u001b[0m\u001b[0;34m/\u001b[0m\u001b[0mdA\u001b[0m\u001b[0;34m)\u001b[0m\u001b[0;34m\u001b[0m\u001b[0m\n\u001b[0m\u001b[1;32m      9\u001b[0m \u001b[0;32mprint\u001b[0m \u001b[0mR\u001b[0m\u001b[0;34m\u001b[0m\u001b[0m\n",
        "\u001b[0;32m/Users/anderslehmann/.ipython/extensions/physics.pyc\u001b[0m in \u001b[0;36msqrt\u001b[0;34m(self)\u001b[0m\n\u001b[1;32m    529\u001b[0m \u001b[0;34m\u001b[0m\u001b[0m\n\u001b[1;32m    530\u001b[0m     \u001b[0;32mdef\u001b[0m \u001b[0msqrt\u001b[0m\u001b[0;34m(\u001b[0m\u001b[0mself\u001b[0m\u001b[0;34m)\u001b[0m\u001b[0;34m:\u001b[0m\u001b[0;34m\u001b[0m\u001b[0m\n\u001b[0;32m--> 531\u001b[0;31m         \u001b[0;32mreturn\u001b[0m \u001b[0mpow\u001b[0m\u001b[0;34m(\u001b[0m\u001b[0mself\u001b[0m\u001b[0;34m,\u001b[0m \u001b[0;36m0.5\u001b[0m\u001b[0;34m)\u001b[0m\u001b[0;34m\u001b[0m\u001b[0m\n\u001b[0m\u001b[1;32m    532\u001b[0m \u001b[0;34m\u001b[0m\u001b[0m\n\u001b[1;32m    533\u001b[0m     \u001b[0;32mdef\u001b[0m \u001b[0msin\u001b[0m\u001b[0;34m(\u001b[0m\u001b[0mself\u001b[0m\u001b[0;34m)\u001b[0m\u001b[0;34m:\u001b[0m\u001b[0;34m\u001b[0m\u001b[0m\n",
        "\u001b[0;32m/Users/anderslehmann/.ipython/extensions/physics.pyc\u001b[0m in \u001b[0;36m__pow__\u001b[0;34m(self, other)\u001b[0m\n\u001b[1;32m    402\u001b[0m         \u001b[0;32mif\u001b[0m \u001b[0misPhysicalQuantity\u001b[0m\u001b[0;34m(\u001b[0m\u001b[0mother\u001b[0m\u001b[0;34m)\u001b[0m\u001b[0;34m:\u001b[0m\u001b[0;34m\u001b[0m\u001b[0m\n\u001b[1;32m    403\u001b[0m             \u001b[0;32mraise\u001b[0m \u001b[0mUnitError\u001b[0m\u001b[0;34m(\u001b[0m\u001b[0;34m'Exponents must be dimensionless'\u001b[0m\u001b[0;34m)\u001b[0m\u001b[0;34m\u001b[0m\u001b[0m\n\u001b[0;32m--> 404\u001b[0;31m         \u001b[0;32mreturn\u001b[0m \u001b[0mself\u001b[0m\u001b[0;34m.\u001b[0m\u001b[0m__class__\u001b[0m\u001b[0;34m(\u001b[0m\u001b[0mpow\u001b[0m\u001b[0;34m(\u001b[0m\u001b[0mself\u001b[0m\u001b[0;34m.\u001b[0m\u001b[0mvalue\u001b[0m\u001b[0;34m,\u001b[0m \u001b[0mother\u001b[0m\u001b[0;34m)\u001b[0m\u001b[0;34m,\u001b[0m \u001b[0mpow\u001b[0m\u001b[0;34m(\u001b[0m\u001b[0mself\u001b[0m\u001b[0;34m.\u001b[0m\u001b[0munit\u001b[0m\u001b[0;34m,\u001b[0m \u001b[0mother\u001b[0m\u001b[0;34m)\u001b[0m\u001b[0;34m)\u001b[0m\u001b[0;34m\u001b[0m\u001b[0m\n\u001b[0m\u001b[1;32m    405\u001b[0m \u001b[0;34m\u001b[0m\u001b[0m\n\u001b[1;32m    406\u001b[0m     \u001b[0;32mdef\u001b[0m \u001b[0m__rpow__\u001b[0m\u001b[0;34m(\u001b[0m\u001b[0mself\u001b[0m\u001b[0;34m,\u001b[0m \u001b[0mother\u001b[0m\u001b[0;34m)\u001b[0m\u001b[0;34m:\u001b[0m\u001b[0;34m\u001b[0m\u001b[0m\n",
        "\u001b[0;32m/Users/anderslehmann/.ipython/extensions/physics.pyc\u001b[0m in \u001b[0;36m__pow__\u001b[0;34m(self, other)\u001b[0m\n\u001b[1;32m    230\u001b[0m                     \u001b[0;32mreturn\u001b[0m \u001b[0mPhysicalUnit\u001b[0m\u001b[0;34m(\u001b[0m\u001b[0mnames\u001b[0m\u001b[0;34m,\u001b[0m \u001b[0mf\u001b[0m\u001b[0;34m,\u001b[0m \u001b[0mp\u001b[0m\u001b[0;34m)\u001b[0m\u001b[0;34m\u001b[0m\u001b[0m\n\u001b[1;32m    231\u001b[0m                 \u001b[0;32melse\u001b[0m\u001b[0;34m:\u001b[0m\u001b[0;34m\u001b[0m\u001b[0m\n\u001b[0;32m--> 232\u001b[0;31m                     \u001b[0;32mraise\u001b[0m \u001b[0mUnitError\u001b[0m\u001b[0;34m(\u001b[0m\u001b[0;34m'Illegal exponent %f'\u001b[0m \u001b[0;34m%\u001b[0m \u001b[0mother\u001b[0m\u001b[0;34m)\u001b[0m\u001b[0;34m\u001b[0m\u001b[0m\n\u001b[0m\u001b[1;32m    233\u001b[0m         \u001b[0;32mraise\u001b[0m \u001b[0mUnitError\u001b[0m\u001b[0;34m(\u001b[0m\u001b[0;34m'Only integer and inverse integer exponents allowed'\u001b[0m\u001b[0;34m)\u001b[0m\u001b[0;34m\u001b[0m\u001b[0m\n\u001b[1;32m    234\u001b[0m \u001b[0;34m\u001b[0m\u001b[0m\n",
        "\u001b[0;31mUnitError\u001b[0m: Illegal exponent 0.500000"
       ]
      }
     ],
     "prompt_number": 49
    },
    {
     "cell_type": "code",
     "collapsed": false,
     "input": [
      "# 32.30\n",
      "\n",
      "I = 1.75\n",
      "\n",
      "Fi = 3.7E-4\n",
      "N = 200\n",
      "\n",
      "L = Fi/I*N\n",
      "\n",
      "U = L*I**2/2\n",
      "print U, L"
     ],
     "language": "python",
     "metadata": {},
     "outputs": []
    },
    {
     "cell_type": "code",
     "collapsed": false,
     "input": [
      "exp(1)"
     ],
     "language": "python",
     "metadata": {},
     "outputs": []
    },
    {
     "cell_type": "code",
     "collapsed": false,
     "input": [
      "# 43.48\n",
      "\n",
      "E = 2.42\n",
      "\n",
      "kT = 25E-3\n",
      "R = 745\n",
      "I0 = 1e-6\n",
      "\n",
      "v = linspace(0,.2,100)\n",
      "\n",
      "#E - v = R*\n",
      "I = I0*(exp(v/kT) -1)\n",
      "\n",
      "plot(v, E-v,hold=True)\n",
      "plot(v,R*I)"
     ],
     "language": "python",
     "metadata": {},
     "outputs": []
    },
    {
     "cell_type": "code",
     "collapsed": false,
     "input": [
      "R*I[-1], E-v[-1]"
     ],
     "language": "python",
     "metadata": {},
     "outputs": []
    },
    {
     "cell_type": "markdown",
     "metadata": {},
     "source": [
      "**Problem 37**\n",
      "\n",
      "Review. A rod of mass 0.720 kg and radius 6.00 cm rests on two parallel rails (Fig. P29.37) that are d = 12.0 cm apart and L = 45.0 cm long. The rod carries a current of I = 48.0 A in the direction shown and rolls along the rails without slipping. A uniform magnetic field of magnitude 0.240 T is directed perpendicular to the rod and the rails. If it starts from rest, what is the speed of the rod as it leaves the rails?\n",
      "\ufffc\ufffc\ufffc\ufffc\ufffc\ufffc\ufffc\ufffc\ufffc\ufffc\ufffc\ufffc\ufffc\ufffc"
     ]
    },
    {
     "cell_type": "code",
     "collapsed": false,
     "input": [
      "m = 0.72 kg"
     ],
     "language": "python",
     "metadata": {},
     "outputs": [],
     "prompt_number": 50
    },
    {
     "cell_type": "code",
     "collapsed": false,
     "input": [
      "r = 6 cm"
     ],
     "language": "python",
     "metadata": {},
     "outputs": [],
     "prompt_number": 51
    },
    {
     "cell_type": "code",
     "collapsed": false,
     "input": [
      "d = 12 cm"
     ],
     "language": "python",
     "metadata": {},
     "outputs": [],
     "prompt_number": 52
    },
    {
     "cell_type": "code",
     "collapsed": false,
     "input": [
      "L = 45 cm"
     ],
     "language": "python",
     "metadata": {},
     "outputs": [],
     "prompt_number": 53
    },
    {
     "cell_type": "code",
     "collapsed": false,
     "input": [
      "I = 48 A"
     ],
     "language": "python",
     "metadata": {},
     "outputs": [],
     "prompt_number": 54
    },
    {
     "cell_type": "code",
     "collapsed": false,
     "input": [
      "B = 0.24 T"
     ],
     "language": "python",
     "metadata": {},
     "outputs": [],
     "prompt_number": 55
    },
    {
     "cell_type": "code",
     "collapsed": false,
     "input": [
      "F = I * d *B\n",
      "a = F /m\n",
      "\n",
      "v = sqrt(2*a*L)\n",
      "v.convert('m/s')\n",
      "print \"Speed at end of rod: {:.2E}\".format(v)"
     ],
     "language": "python",
     "metadata": {},
     "outputs": [
      {
       "output_type": "stream",
       "stream": "stdout",
       "text": [
        "Speed at end of rod: 1.31E+00 m/s\n"
       ]
      }
     ],
     "prompt_number": 56
    },
    {
     "cell_type": "code",
     "collapsed": false,
     "input": [
      "I1 = 1000 A"
     ],
     "language": "python",
     "metadata": {},
     "outputs": [],
     "prompt_number": 57
    },
    {
     "cell_type": "code",
     "collapsed": false,
     "input": [
      "I2 = I1"
     ],
     "language": "python",
     "metadata": {},
     "outputs": [],
     "prompt_number": 58
    },
    {
     "cell_type": "code",
     "collapsed": false,
     "input": [
      "L = 10 cm"
     ],
     "language": "python",
     "metadata": {},
     "outputs": [],
     "prompt_number": 59
    },
    {
     "cell_type": "code",
     "collapsed": false,
     "input": [
      "d = 1 cm"
     ],
     "language": "python",
     "metadata": {},
     "outputs": [],
     "prompt_number": 60
    },
    {
     "cell_type": "code",
     "collapsed": false,
     "input": [
      "F = mu0/(2*pi)*L* I1*I2/d\n",
      "F.convert('N')\n",
      "print \"Force : {}\".format(F)"
     ],
     "language": "python",
     "metadata": {},
     "outputs": [
      {
       "output_type": "stream",
       "stream": "stdout",
       "text": [
        "Force : 2.0 N\n"
       ]
      }
     ],
     "prompt_number": 61
    },
    {
     "cell_type": "markdown",
     "metadata": {},
     "source": [
      "**Problem 7.**\n",
      "\n",
      "A conductor consists of a circular loop of radius R = 15.0 cm and two long, straight sections as shown in Figure P30.7. The wire lies in the plane of the paper and carries a current I = 1.00 A. Find the magnetic field at the center of the loop. \n",
      "\n",
      "\n",
      "<img src=\"files/figure30.7.png\">"
     ]
    },
    {
     "cell_type": "code",
     "collapsed": false,
     "input": [
      "R = 15. cm"
     ],
     "language": "python",
     "metadata": {},
     "outputs": [],
     "prompt_number": 62
    },
    {
     "cell_type": "code",
     "collapsed": false,
     "input": [
      "I = 1. A"
     ],
     "language": "python",
     "metadata": {},
     "outputs": [
      {
       "ename": "SyntaxError",
       "evalue": "invalid syntax (<ipython-input-1-63708ca89d6a>, line 1)",
       "output_type": "pyerr",
       "traceback": [
        "\u001b[0;36m  File \u001b[0;32m\"<ipython-input-1-63708ca89d6a>\"\u001b[0;36m, line \u001b[0;32m1\u001b[0m\n\u001b[0;31m    I = 1. A\u001b[0m\n\u001b[0m           ^\u001b[0m\n\u001b[0;31mSyntaxError\u001b[0m\u001b[0;31m:\u001b[0m invalid syntax\n"
       ]
      }
     ],
     "prompt_number": 1
    },
    {
     "cell_type": "code",
     "collapsed": false,
     "input": [
      "B = mu0*I/(2*R) # Circular part\n",
      "B += mu0*I/(2*pi*R) # Linear part\n",
      "B.convert('T')\n",
      "print \"The magnetic field in the center is: {:.2E}\".format(B)"
     ],
     "language": "python",
     "metadata": {},
     "outputs": [
      {
       "output_type": "stream",
       "stream": "stdout",
       "text": [
        "The magnetic field in the center is: 5.52E-06 T\n"
       ]
      }
     ],
     "prompt_number": 64
    },
    {
     "cell_type": "markdown",
     "metadata": {},
     "source": [
      "**Problem 23**\n",
      "\n",
      "In Figure P30.23, the current in the long, straight wire is I1 = 5.00 A and the wire lies in the plane of the rectangular loop, which carries a current I2 = 10.0 A. The dimensions in the figure are c = 0.100 m, a = 0.150 m, and , l = 0.450 m. Find the magnitude and direction of the net force exerted on the loop by the magnetic field created by the wire.\n",
      "\n",
      "![caption](files/figure30.23.png)"
     ]
    },
    {
     "cell_type": "code",
     "collapsed": false,
     "input": [
      "I1 = 5. A"
     ],
     "language": "python",
     "metadata": {},
     "outputs": [],
     "prompt_number": 65
    },
    {
     "cell_type": "code",
     "collapsed": false,
     "input": [
      "I2 = 10. A"
     ],
     "language": "python",
     "metadata": {},
     "outputs": [],
     "prompt_number": 66
    },
    {
     "cell_type": "code",
     "collapsed": false,
     "input": [
      "c = 0.1 m"
     ],
     "language": "python",
     "metadata": {},
     "outputs": [],
     "prompt_number": 67
    },
    {
     "cell_type": "code",
     "collapsed": false,
     "input": [
      "a = 0.15 m"
     ],
     "language": "python",
     "metadata": {},
     "outputs": [],
     "prompt_number": 68
    },
    {
     "cell_type": "code",
     "collapsed": false,
     "input": [
      "l = 0.45 m"
     ],
     "language": "python",
     "metadata": {},
     "outputs": [],
     "prompt_number": 69
    },
    {
     "cell_type": "code",
     "collapsed": false,
     "input": [
      "F1 = mu0/(2*pi) * l *I1*I2/c\n",
      "\n",
      "F2 = mu0/(2*pi) * l *I1*I2/(c+a)\n",
      "\n",
      "F = F1-F2\n",
      "F.convert('N') \n",
      "\n",
      "print \"Attrackting force: {:.2E}\".format(F)"
     ],
     "language": "python",
     "metadata": {},
     "outputs": [
      {
       "output_type": "stream",
       "stream": "stdout",
       "text": [
        "Attrackting force: 2.70E-05 N\n"
       ]
      }
     ],
     "prompt_number": 70
    },
    {
     "cell_type": "markdown",
     "metadata": {},
     "source": [
      "**Problem 31**\n",
      "\n",
      "The magnetic coils of a tokamak fusion reactor are in the shape of a toroid having an inner radius of 0.700 m and an outer radius of 1.30 m. The toroid has 900 turns of large- diameter wire, each of which carries a current of 14.0 kA. Find the magnitude of the magnetic field inside the toroid along (a) the inner radius and (b) the outer radius."
     ]
    },
    {
     "cell_type": "code",
     "collapsed": false,
     "input": [
      "n = 900"
     ],
     "language": "python",
     "metadata": {},
     "outputs": [],
     "prompt_number": 71
    },
    {
     "cell_type": "code",
     "collapsed": false,
     "input": [
      "r = 0.7 m"
     ],
     "language": "python",
     "metadata": {},
     "outputs": [],
     "prompt_number": 72
    },
    {
     "cell_type": "code",
     "collapsed": false,
     "input": [
      "R = 1.3 m"
     ],
     "language": "python",
     "metadata": {},
     "outputs": [],
     "prompt_number": 73
    },
    {
     "cell_type": "code",
     "collapsed": false,
     "input": [
      "I = 14. kA"
     ],
     "language": "python",
     "metadata": {},
     "outputs": [],
     "prompt_number": 74
    },
    {
     "cell_type": "code",
     "collapsed": false,
     "input": [
      "# Ampere\u00b4s law:\n",
      "#   Chose the curve as a circle in the plane of the torus. The field is constant at a given radius\n",
      "\n",
      "# B*2*pi*r = mu0*n*I => B = mu0*n*I/(2*pi*r)\n",
      "\n",
      "def B(r):\n",
      "    tmp = mu0*n*I/(2*pi*r)\n",
      "    tmp.convert('T')\n",
      "    return tmp \n",
      "\n",
      "print \"B field at inner radius: {:.2E}, at outer radius: {:.2E}\".format(B(r),B(R))"
     ],
     "language": "python",
     "metadata": {},
     "outputs": [
      {
       "output_type": "stream",
       "stream": "stdout",
       "text": [
        "B field at inner radius: 3.60E+00 T, at outer radius: 1.94E+00 T\n"
       ]
      }
     ],
     "prompt_number": 75
    },
    {
     "cell_type": "markdown",
     "metadata": {},
     "source": [
      "**Problem 41**\n",
      "\n",
      "A single-turn square loop of wire, 2.00 cm on each edge, carries a clockwise current of 0.200 A. The loop is inside a solenoid, with the plane of the loop perpendicular to the magnetic field of the solenoid. The solenoid has 30.0 turns/cm and carries a clockwise current of 15.0 A. Find (a) the force on each side of the loop and (b) the torque acting on the loop."
     ]
    },
    {
     "cell_type": "code",
     "collapsed": false,
     "input": [
      "Iloop = 0.2 A"
     ],
     "language": "python",
     "metadata": {},
     "outputs": [],
     "prompt_number": 76
    },
    {
     "cell_type": "code",
     "collapsed": false,
     "input": [
      "Isol = 15 A"
     ],
     "language": "python",
     "metadata": {},
     "outputs": [],
     "prompt_number": 77
    },
    {
     "cell_type": "code",
     "collapsed": false,
     "input": [
      "n = 30 cm**-1"
     ],
     "language": "python",
     "metadata": {},
     "outputs": [],
     "prompt_number": 78
    },
    {
     "cell_type": "code",
     "collapsed": false,
     "input": [
      "l = 2 cm"
     ],
     "language": "python",
     "metadata": {},
     "outputs": [],
     "prompt_number": 79
    },
    {
     "cell_type": "code",
     "collapsed": false,
     "input": [
      "B = mu0*Isol*n\n",
      "F = Iloop*l*B\n",
      "F.convert('N')\n",
      "\n",
      "print \"Force on each side of loop: {:.2E}. Torque is zero\".format(F)"
     ],
     "language": "python",
     "metadata": {},
     "outputs": [
      {
       "output_type": "stream",
       "stream": "stdout",
       "text": [
        "Force on each side of loop: 2.26E-04 N. Torque is zero\n"
       ]
      }
     ],
     "prompt_number": 80
    },
    {
     "cell_type": "markdown",
     "metadata": {},
     "source": [
      "**Problem 49**\n",
      "\n",
      "The magnetic moment of the Earth is approximately 8.00 * 10^22 A * m2. Imagine that the planetary magnetic field were caused by the complete magnetization of a huge iron deposit with density 7900 kg/m3 and approximately 8.50 * 10^28 iron atoms/m3. (a) How many unpaired electrons, each with a magnetic moment of 9.27E-24 A m2, would participate? (b) At two unpaired electrons per iron atom, how many kilograms of iron would be present in the deposit?"
     ]
    },
    {
     "cell_type": "code",
     "collapsed": false,
     "input": [
      "mu_earth = 8.E22 A*m**2"
     ],
     "language": "python",
     "metadata": {},
     "outputs": [],
     "prompt_number": 81
    },
    {
     "cell_type": "code",
     "collapsed": false,
     "input": [
      "mu_electron = 9.27E-24 A*m**2"
     ],
     "language": "python",
     "metadata": {},
     "outputs": [],
     "prompt_number": 82
    },
    {
     "cell_type": "code",
     "collapsed": false,
     "input": [
      "rho = 7900 kg/m**3"
     ],
     "language": "python",
     "metadata": {},
     "outputs": [],
     "prompt_number": 83
    },
    {
     "cell_type": "code",
     "collapsed": false,
     "input": [
      "num = 8.50E28 m**-3"
     ],
     "language": "python",
     "metadata": {},
     "outputs": [],
     "prompt_number": 84
    },
    {
     "cell_type": "code",
     "collapsed": false,
     "input": [
      "unpaired_electrons = mu_earth/mu_electron\n",
      "kg_iron = unpaired_electrons/2/num*rho\n",
      "print \"a) {}, b) {}\".format(unpaired_electrons, kg_iron)"
     ],
     "language": "python",
     "metadata": {},
     "outputs": [
      {
       "output_type": "stream",
       "stream": "stdout",
       "text": [
        "a) 8.62998921251e+45, b) 4.0104067517e+20 kg\n"
       ]
      }
     ],
     "prompt_number": 85
    },
    {
     "cell_type": "markdown",
     "metadata": {},
     "source": [
      "**Problem 51** \n",
      "\n",
      "Suppose you install a compass on the center of a car\u2019s dashboard. (a) Assuming the dashboard is made mostly of plastic, compute an order-of-magnitude estimate for the magnetic field at this location produced by the current when you switch on the car\u2019s headlights. (b) How does this estimate compare with the Earth\u2019s magnetic field?"
     ]
    },
    {
     "cell_type": "code",
     "collapsed": false,
     "input": [
      "%load_ext physics"
     ],
     "language": "python",
     "metadata": {},
     "outputs": [
      {
       "output_type": "stream",
       "stream": "stdout",
       "text": [
        "Unit calculation and physics extensions activated.\n"
       ]
      }
     ],
     "prompt_number": 90
    },
    {
     "cell_type": "code",
     "collapsed": false,
     "input": [
      "v = 12 V"
     ],
     "language": "python",
     "metadata": {},
     "outputs": [],
     "prompt_number": 94
    },
    {
     "cell_type": "code",
     "collapsed": false,
     "input": [
      "P = 100 W"
     ],
     "language": "python",
     "metadata": {},
     "outputs": [],
     "prompt_number": 95
    },
    {
     "cell_type": "code",
     "collapsed": false,
     "input": [
      "I = P/v "
     ],
     "language": "python",
     "metadata": {},
     "outputs": [],
     "prompt_number": 97
    },
    {
     "cell_type": "code",
     "collapsed": false,
     "input": [
      "a = (0.5 m)"
     ],
     "language": "python",
     "metadata": {},
     "outputs": [],
     "prompt_number": 98
    },
    {
     "cell_type": "code",
     "collapsed": false,
     "input": [
      "B = mu0*I/(2*pi*a)\n",
      "B.convert('T')\n",
      "\n",
      "print \"App magnetic field: {}, Earth magnetic field: 0.5e-4\".format(B,)"
     ],
     "language": "python",
     "metadata": {},
     "outputs": [
      {
       "output_type": "stream",
       "stream": "stdout",
       "text": [
        "App magnetic field: 3.33333333333e-06 T, Earth magnetic field: 0.5e-4\n"
       ]
      }
     ],
     "prompt_number": 99
    },
    {
     "cell_type": "markdown",
     "metadata": {},
     "source": [
      "**Problem 53**\n",
      "\n",
      "A very long, thin strip of metal of width w carries a current I along its length as shown in Figure P30.53. The current is distributed uniformly across the width of the strip. Find the magnetic field at point P in the diagram. Point P is in the plane of the strip at distance b away from its edge.\n",
      "\n",
      "![caption](files/figure30.53.png)"
     ]
    },
    {
     "cell_type": "code",
     "collapsed": false,
     "input": [],
     "language": "python",
     "metadata": {},
     "outputs": [],
     "prompt_number": 23
    },
    {
     "cell_type": "markdown",
     "metadata": {},
     "source": [
      "**Problem 55**\n",
      "A nonconducting ring of radius 10.0 cm is uniformly charged with a total positive charge 10.0 mC. The ring rotates at a constant angular speed 20.0 rad/s about an axis through its center, perpendicular to the plane of the ring. What is the magnitude of the magnetic field on the axis of the ring 5.00 cm from its center?"
     ]
    },
    {
     "cell_type": "code",
     "collapsed": false,
     "input": [
      "R = 10. cm"
     ],
     "language": "python",
     "metadata": {},
     "outputs": [],
     "prompt_number": 100
    },
    {
     "cell_type": "code",
     "collapsed": false,
     "input": [
      "Q = 10. mC"
     ],
     "language": "python",
     "metadata": {},
     "outputs": [],
     "prompt_number": 101
    },
    {
     "cell_type": "code",
     "collapsed": false,
     "input": [
      "om = (20 rad/s)"
     ],
     "language": "python",
     "metadata": {},
     "outputs": [],
     "prompt_number": 103
    },
    {
     "cell_type": "code",
     "collapsed": false,
     "input": [
      "x = (5 cm)"
     ],
     "language": "python",
     "metadata": {},
     "outputs": [],
     "prompt_number": 104
    },
    {
     "cell_type": "code",
     "collapsed": false,
     "input": [
      "pi_ = pi*(1 rad)"
     ],
     "language": "python",
     "metadata": {},
     "outputs": [],
     "prompt_number": 105
    },
    {
     "cell_type": "code",
     "collapsed": false,
     "input": [
      "I = Q/(2*pi_)*om\n",
      "I.convert('A')\n",
      "B = mu0*I*R**2/(2*sqrt((x**2+R**2)**3))\n",
      "B.convert('T')\n",
      "\n",
      "print \"Magnetic field: {}, Current : {}\".format(B,I)"
     ],
     "language": "python",
     "metadata": {},
     "outputs": [
      {
       "output_type": "stream",
       "stream": "stdout",
       "text": [
        "Magnetic field: 1.4310835056e-07 T, Current : 0.0318309886184 A\n"
       ]
      }
     ],
     "prompt_number": 107
    },
    {
     "cell_type": "markdown",
     "metadata": {},
     "source": [
      "**Problem 31.3**\n",
      "The flexible loop in Figure P31.3 has a radius of 12.0 cm and is in a magnetic field of magnitude 0.150 T. The loop is grasped at points A and B and stretched until its area is nearly zero. If it takes 0.200 s to close the loop, what is the magnitude of the average induced emf in it during this time interval?\n",
      "\n",
      "![](files/figure31.3.png)"
     ]
    },
    {
     "cell_type": "code",
     "collapsed": false,
     "input": [
      "r = 12. cm"
     ],
     "language": "python",
     "metadata": {},
     "outputs": [],
     "prompt_number": 108
    },
    {
     "cell_type": "code",
     "collapsed": false,
     "input": [
      "B = 0.15 T"
     ],
     "language": "python",
     "metadata": {},
     "outputs": [],
     "prompt_number": 141
    },
    {
     "cell_type": "code",
     "collapsed": false,
     "input": [
      "t = 0.2 s"
     ],
     "language": "python",
     "metadata": {},
     "outputs": [],
     "prompt_number": 142
    },
    {
     "cell_type": "code",
     "collapsed": false,
     "input": [
      "Fi0 = B*pi*r**2\n",
      "\n",
      "\n",
      "emf = Fi0/t\n",
      "emf.convert('V')\n",
      "\n",
      "print \"Average EMF: {}\".format(emf)"
     ],
     "language": "python",
     "metadata": {},
     "outputs": [
      {
       "output_type": "stream",
       "stream": "stdout",
       "text": [
        "Average EMF: 0.0339292006588 V\n"
       ]
      }
     ],
     "prompt_number": 143
    },
    {
     "cell_type": "markdown",
     "metadata": {},
     "source": [
      "Figure P31.23 shows a top view of a bar that can slide on two frictionless rails. The resistor is R = 6.00 Ohm, and a 2.50 T magnetic field is directed perpendicularly downward, into the paper. Let l = 1.20 m. (a) Calculate the applied force required to move the bar to the right at a constant speed of 2.00 m/s. (b) At what rate is energy delivered to the resistor?\n",
      "\n",
      "![](files/figure31.23.png)"
     ]
    },
    {
     "cell_type": "code",
     "collapsed": false,
     "input": [
      "R = 6.0 ohm"
     ],
     "language": "python",
     "metadata": {},
     "outputs": [],
     "prompt_number": 115
    },
    {
     "cell_type": "code",
     "collapsed": false,
     "input": [
      "B = 2.5 T"
     ],
     "language": "python",
     "metadata": {},
     "outputs": [],
     "prompt_number": 116
    },
    {
     "cell_type": "code",
     "collapsed": false,
     "input": [
      "l = 1.2 m"
     ],
     "language": "python",
     "metadata": {},
     "outputs": [],
     "prompt_number": 117
    },
    {
     "cell_type": "code",
     "collapsed": false,
     "input": [
      "v = 2. m/s"
     ],
     "language": "python",
     "metadata": {},
     "outputs": [],
     "prompt_number": 125
    },
    {
     "cell_type": "code",
     "collapsed": false,
     "input": [
      "vv=B*l*v\n",
      "vv.convert('V')\n",
      "I = vv/R\n",
      "F = I*l*B\n",
      "F.convert('N')\n",
      "\n",
      "P = vv**2/R\n",
      "P.convert('W')\n",
      "print F,P"
     ],
     "language": "python",
     "metadata": {},
     "outputs": [
      {
       "output_type": "stream",
       "stream": "stdout",
       "text": [
        "3 N 6 W\n"
       ]
      }
     ],
     "prompt_number": 131
    },
    {
     "cell_type": "markdown",
     "metadata": {},
     "source": [
      "**Problem 27**\n",
      "The homopolar generator, also called the Faraday disk, is a low-voltage, high-current electric generator. It consists of a rotating conducting disk with one stationary brush (a sliding electrical contact) at its axle and another at a point on its circumference as shown in Figure P31.27. A uniform magnetic field is applied perpendicular to the plane of the disk. Assume the field is 0.900 T, the angular speed is 3200 rev/min, and the radius of the disk is 0.400 m. Find the emf generated between the brushes.\n",
      "\n",
      "![](files/figure31.27.png)"
     ]
    },
    {
     "cell_type": "code",
     "collapsed": false,
     "input": [
      "B = 0.9 T"
     ],
     "language": "python",
     "metadata": {},
     "outputs": [],
     "prompt_number": 153
    },
    {
     "cell_type": "code",
     "collapsed": false,
     "input": [
      "om = 3200 1/min"
     ],
     "language": "python",
     "metadata": {},
     "outputs": [],
     "prompt_number": 156
    },
    {
     "cell_type": "code",
     "collapsed": false,
     "input": [
      "r = 0.4 m"
     ],
     "language": "python",
     "metadata": {},
     "outputs": [],
     "prompt_number": 157
    },
    {
     "cell_type": "code",
     "collapsed": false,
     "input": [
      "emf = pi*r**2*B*om\n",
      "emf.convert('V')\n",
      "print emf"
     ],
     "language": "python",
     "metadata": {},
     "outputs": [
      {
       "output_type": "stream",
       "stream": "stdout",
       "text": [
        "24.127432 V\n"
       ]
      }
     ],
     "prompt_number": 158
    },
    {
     "cell_type": "markdown",
     "metadata": {},
     "source": [
      "**Problem 31.35**\n",
      "A long solenoid with 1000 turns per meter and radius 2.00 cm carries an oscillating current I = 5.00 * sin 100*pi*t, where I is in amperes and t is in seconds. (a) What is the electric field induced at a radius r = 1.00 cm from the axis of the solenoid? (b) What is the direction of this electric field when the current is increasing counterclockwise in the solenoid?"
     ]
    },
    {
     "cell_type": "code",
     "collapsed": false,
     "input": [
      "n = 1000 1/m"
     ],
     "language": "python",
     "metadata": {},
     "outputs": [],
     "prompt_number": 159
    },
    {
     "cell_type": "code",
     "collapsed": false,
     "input": [
      "r = 1 cm"
     ],
     "language": "python",
     "metadata": {},
     "outputs": [],
     "prompt_number": 160
    },
    {
     "cell_type": "code",
     "collapsed": false,
     "input": [
      "# I = 5. * sin(100*pi*t)\n",
      "#B = mu0*n*I\n",
      "emf = - 5*100*pi*cos(pi*t)*pi*r**2 # dB/dt *A\n",
      "E = emf /(2*pi*r)= r*pi*500/2 *cos(100*pi*t)\n"
     ],
     "language": "python",
     "metadata": {},
     "outputs": []
    },
    {
     "cell_type": "code",
     "collapsed": false,
     "input": [
      "x= mu0*n*r*pi*500/4*(1 A)"
     ],
     "language": "python",
     "metadata": {},
     "outputs": [],
     "prompt_number": 165
    },
    {
     "cell_type": "code",
     "collapsed": false,
     "input": [
      "#x.convert('mV')\n",
      "print x"
     ],
     "language": "python",
     "metadata": {},
     "outputs": [
      {
       "output_type": "stream",
       "stream": "stdout",
       "text": [
        "0.98696044 kg*cm*1/A/s^2\n"
       ]
      }
     ],
     "prompt_number": 168
    },
    {
     "cell_type": "code",
     "collapsed": false,
     "input": [
      "#b"
     ],
     "language": "python",
     "metadata": {},
     "outputs": []
    },
    {
     "cell_type": "markdown",
     "metadata": {},
     "source": [
      "**Problem 32.33**\n",
      "\n",
      "The magnetic field inside a superconducting solenoid is 4.50 T. The solenoid has an inner diameter of 6.20 cm and a length of 26.0 cm. Determine (a) the magnetic energy density in the field and (b) the energy stored in the magnetic field within the solenoid."
     ]
    },
    {
     "cell_type": "code",
     "collapsed": false,
     "input": [
      "B = 4.5 T"
     ],
     "language": "python",
     "metadata": {},
     "outputs": [],
     "prompt_number": 169
    },
    {
     "cell_type": "code",
     "collapsed": false,
     "input": [
      "D = 6.2 cm"
     ],
     "language": "python",
     "metadata": {},
     "outputs": [],
     "prompt_number": 178
    },
    {
     "cell_type": "code",
     "collapsed": false,
     "input": [
      "l = 26 cm"
     ],
     "language": "python",
     "metadata": {},
     "outputs": [],
     "prompt_number": 171
    },
    {
     "cell_type": "code",
     "collapsed": false,
     "input": [
      "Intensity = B**2/mu0/2\n",
      "Intensity.convert('MJ/m**3')\n",
      "print Intensity"
     ],
     "language": "python",
     "metadata": {},
     "outputs": [
      {
       "output_type": "stream",
       "stream": "stdout",
       "text": [
        "8.057219 MJ/m^3\n"
       ]
      }
     ],
     "prompt_number": 174
    },
    {
     "cell_type": "code",
     "collapsed": false,
     "input": [
      "E = Intensity*l*pi*(D/2)**2\n",
      "E.convert('kJ')\n",
      "print E"
     ],
     "language": "python",
     "metadata": {},
     "outputs": [
      {
       "output_type": "stream",
       "stream": "stdout",
       "text": [
        "6.3245812 kJ\n"
       ]
      }
     ],
     "prompt_number": 179
    },
    {
     "cell_type": "code",
     "collapsed": false,
     "input": [
      "B_earth = 0.5E-4 T"
     ],
     "language": "python",
     "metadata": {},
     "outputs": [],
     "prompt_number": 180
    },
    {
     "cell_type": "code",
     "collapsed": false,
     "input": [
      "L = 1 km"
     ],
     "language": "python",
     "metadata": {},
     "outputs": [],
     "prompt_number": 181
    },
    {
     "cell_type": "code",
     "collapsed": false,
     "input": [
      "R = 1 ohm"
     ],
     "language": "python",
     "metadata": {},
     "outputs": [],
     "prompt_number": 186
    },
    {
     "cell_type": "code",
     "collapsed": false,
     "input": [
      "R_earth = 6370 km"
     ],
     "language": "python",
     "metadata": {},
     "outputs": [],
     "prompt_number": 182
    },
    {
     "cell_type": "code",
     "collapsed": false,
     "input": [
      "s = 1 s"
     ],
     "language": "python",
     "metadata": {},
     "outputs": [],
     "prompt_number": 188
    },
    {
     "cell_type": "code",
     "collapsed": false,
     "input": [
      "I = B_earth*L*2*pi*R_earth/(24*3600*s*R)\n",
      "I.convert('A')\n",
      "print I"
     ],
     "language": "python",
     "metadata": {},
     "outputs": [
      {
       "output_type": "stream",
       "stream": "stdout",
       "text": [
        "23.161974 A\n"
       ]
      }
     ],
     "prompt_number": 189
    },
    {
     "cell_type": "code",
     "collapsed": false,
     "input": [
      "%load_ext physics"
     ],
     "language": "python",
     "metadata": {},
     "outputs": [
      {
       "output_type": "stream",
       "stream": "stdout",
       "text": [
        "Unit calculation and physics extensions activated.\n"
       ]
      }
     ],
     "prompt_number": 1
    },
    {
     "cell_type": "code",
     "collapsed": false,
     "input": [
      "def fermi(T,Ef):\n",
      "    def prob(E):\n",
      "        \n",
      "        return 1/(exp((E-Ef)/(kb*T)) + 1)\n",
      "    return prob"
     ],
     "language": "python",
     "metadata": {},
     "outputs": [],
     "prompt_number": 77
    },
    {
     "cell_type": "code",
     "collapsed": false,
     "input": [
      "ev = (1 eV)"
     ],
     "language": "python",
     "metadata": {},
     "outputs": [],
     "prompt_number": 78
    },
    {
     "cell_type": "code",
     "collapsed": false,
     "input": [
      "T = 300 K"
     ],
     "language": "python",
     "metadata": {},
     "outputs": [],
     "prompt_number": 79
    },
    {
     "cell_type": "code",
     "collapsed": false,
     "input": [
      "Ef = 7.05 eV"
     ],
     "language": "python",
     "metadata": {},
     "outputs": [],
     "prompt_number": 80
    },
    {
     "cell_type": "code",
     "collapsed": false,
     "input": [
      "E = linspace(6.85, 7.2)*ev\n",
      "dir(Ef)\n",
      "prob = fermi(T, Ef)\n",
      "plot(E,prob(E))"
     ],
     "language": "python",
     "metadata": {},
     "outputs": [
      {
       "ename": "AttributeError",
       "evalue": "sin",
       "output_type": "pyerr",
       "traceback": [
        "\u001b[0;31m---------------------------------------------------------------------------\u001b[0m\n\u001b[0;31mAttributeError\u001b[0m                            Traceback (most recent call last)",
        "\u001b[0;32m<ipython-input-81-69c3a4e2fb9f>\u001b[0m in \u001b[0;36m<module>\u001b[0;34m()\u001b[0m\n\u001b[1;32m      2\u001b[0m \u001b[0mdir\u001b[0m\u001b[0;34m(\u001b[0m\u001b[0mEf\u001b[0m\u001b[0;34m)\u001b[0m\u001b[0;34m\u001b[0m\u001b[0m\n\u001b[1;32m      3\u001b[0m \u001b[0mprob\u001b[0m \u001b[0;34m=\u001b[0m \u001b[0mfermi\u001b[0m\u001b[0;34m(\u001b[0m\u001b[0mT\u001b[0m\u001b[0;34m,\u001b[0m \u001b[0mEf\u001b[0m\u001b[0;34m)\u001b[0m\u001b[0;34m\u001b[0m\u001b[0m\n\u001b[0;32m----> 4\u001b[0;31m \u001b[0mplot\u001b[0m\u001b[0;34m(\u001b[0m\u001b[0mE\u001b[0m\u001b[0;34m,\u001b[0m\u001b[0mprob\u001b[0m\u001b[0;34m(\u001b[0m\u001b[0mE\u001b[0m\u001b[0;34m)\u001b[0m\u001b[0;34m)\u001b[0m\u001b[0;34m\u001b[0m\u001b[0m\n\u001b[0m",
        "\u001b[0;32m<ipython-input-77-8ba588b3d8bf>\u001b[0m in \u001b[0;36mprob\u001b[0;34m(E)\u001b[0m\n\u001b[1;32m      2\u001b[0m     \u001b[0;32mdef\u001b[0m \u001b[0mprob\u001b[0m\u001b[0;34m(\u001b[0m\u001b[0mE\u001b[0m\u001b[0;34m)\u001b[0m\u001b[0;34m:\u001b[0m\u001b[0;34m\u001b[0m\u001b[0m\n\u001b[1;32m      3\u001b[0m \u001b[0;34m\u001b[0m\u001b[0m\n\u001b[0;32m----> 4\u001b[0;31m         \u001b[0;32mreturn\u001b[0m \u001b[0;36m1\u001b[0m\u001b[0;34m/\u001b[0m\u001b[0;34m(\u001b[0m\u001b[0msin\u001b[0m\u001b[0;34m(\u001b[0m\u001b[0;34m(\u001b[0m\u001b[0mE\u001b[0m\u001b[0;34m-\u001b[0m\u001b[0mEf\u001b[0m\u001b[0;34m)\u001b[0m\u001b[0;34m/\u001b[0m\u001b[0;34m(\u001b[0m\u001b[0mkb\u001b[0m\u001b[0;34m*\u001b[0m\u001b[0mT\u001b[0m\u001b[0;34m)\u001b[0m\u001b[0;34m)\u001b[0m \u001b[0;34m+\u001b[0m \u001b[0;36m1\u001b[0m\u001b[0;34m)\u001b[0m\u001b[0;34m\u001b[0m\u001b[0m\n\u001b[0m\u001b[1;32m      5\u001b[0m     \u001b[0;32mreturn\u001b[0m \u001b[0mprob\u001b[0m\u001b[0;34m\u001b[0m\u001b[0m\n",
        "\u001b[0;31mAttributeError\u001b[0m: sin"
       ]
      }
     ],
     "prompt_number": 81
    },
    {
     "cell_type": "code",
     "collapsed": false,
     "input": [
      "E = linspace(6.85, 7.2)*ev\n",
      "type((((E-Ef)/(kb*T)) + 1)[])"
     ],
     "language": "python",
     "metadata": {},
     "outputs": [
      {
       "metadata": {},
       "output_type": "pyout",
       "prompt_number": 40,
       "text": [
        "numpy.ndarray"
       ]
      }
     ],
     "prompt_number": 40
    },
    {
     "cell_type": "code",
     "collapsed": false,
     "input": [
      "x = np.linspace(-2*np.pi, 2*np.pi, 100)\n",
      "xx = x + 1j * x[:, np.newaxis] # a + ib over complex plane\n",
      "out = np.exp(xx)\n",
      "exp(Ef)\n",
      "print x.dtype"
     ],
     "language": "python",
     "metadata": {},
     "outputs": [
      {
       "output_type": "stream",
       "stream": "stdout",
       "text": [
        "float64\n"
       ]
      }
     ],
     "prompt_number": 16
    },
    {
     "cell_type": "markdown",
     "metadata": {},
     "source": [
      "**Problem 37**\n",
      "For copper at 300 K, calculate the probability that a state with an energy equal to 99.0% of the Fermi energy is occupied."
     ]
    },
    {
     "cell_type": "code",
     "collapsed": false,
     "input": [
      "P = 1/(exp((7.05*(.99-1))/(0.025))+1)\n",
      "print P"
     ],
     "language": "python",
     "metadata": {},
     "outputs": [
      {
       "output_type": "stream",
       "stream": "stdout",
       "text": [
        "0.943747066427\n"
       ]
      }
     ],
     "prompt_number": 58
    },
    {
     "cell_type": "markdown",
     "metadata": {},
     "source": [
      "**Problem 41** The energy gap for silicon at 300 K is 1.14 eV. (a) Find the lowest-frequency photon that can promote an electron from the valence band to the conduction band. (b) What is the wavelength of this photon?"
     ]
    },
    {
     "cell_type": "code",
     "collapsed": false,
     "input": [
      "E = 1.14 eV"
     ],
     "language": "python",
     "metadata": {},
     "outputs": [],
     "prompt_number": 45
    },
    {
     "cell_type": "code",
     "collapsed": false,
     "input": [
      "f = E/hpl\n",
      "f.convert('Hz')\n",
      "print f"
     ],
     "language": "python",
     "metadata": {},
     "outputs": [
      {
       "output_type": "stream",
       "stream": "stdout",
       "text": [
        "2.7565079e+14 Hz\n"
       ]
      }
     ],
     "prompt_number": 73
    },
    {
     "cell_type": "code",
     "collapsed": false,
     "input": [
      "wave = c0/f\n",
      "wave.convert('nm')\n",
      "print wave"
     ],
     "language": "python",
     "metadata": {},
     "outputs": [
      {
       "output_type": "stream",
       "stream": "stdout",
       "text": [
        "1087.5806 nm\n"
       ]
      }
     ],
     "prompt_number": 74
    },
    {
     "cell_type": "markdown",
     "metadata": {},
     "source": [
      "**Problem 43** A light-emitting diode (LED) made of the semiconductor GaAsP emits red light (l = 650 nm). Determine the energy-band gap Eg for this semiconductor."
     ]
    },
    {
     "cell_type": "code",
     "collapsed": false,
     "input": [
      "l = 650 nm"
     ],
     "language": "python",
     "metadata": {},
     "outputs": [],
     "prompt_number": 75
    },
    {
     "cell_type": "code",
     "collapsed": false,
     "input": [
      "E = hpl*c0/l\n",
      "E.convert('eV')\n",
      "print E"
     ],
     "language": "python",
     "metadata": {},
     "outputs": [
      {
       "output_type": "stream",
       "stream": "stdout",
       "text": [
        "1.9074491 eV\n"
       ]
      }
     ],
     "prompt_number": 76
    },
    {
     "cell_type": "markdown",
     "metadata": {},
     "source": [
      "**Problem 43.49** You put a diode in a microelectronic circuit to protect the system in case an untrained person installs the battery backward. In the correct forward-bias situation, the current is 200 mA with a potential difference of 100 mV across the diode at room temperature (300 K). If the battery were reversed, so that the potential difference across the diode is still 100 mV but with the opposite sign, what would be the magnitude of the current in the diode?"
     ]
    },
    {
     "cell_type": "code",
     "collapsed": false,
     "input": [
      "# I = I0 *(exp(e*V/(kb*T) - 1)\n",
      "# I(0.1) = 0.2\n",
      "# I0 = I(0.1)/(exp(e*0.1/(kb*T) - 1)"
     ],
     "language": "python",
     "metadata": {},
     "outputs": [],
     "prompt_number": 1
    },
    {
     "cell_type": "code",
     "collapsed": false,
     "input": [
      "V = 0.1 V"
     ],
     "language": "python",
     "metadata": {},
     "outputs": [],
     "prompt_number": 19
    },
    {
     "cell_type": "code",
     "collapsed": false,
     "input": [
      "I = 0.2 A"
     ],
     "language": "python",
     "metadata": {},
     "outputs": [],
     "prompt_number": 20
    },
    {
     "cell_type": "code",
     "collapsed": false,
     "input": [
      "T = 300 K"
     ],
     "language": "python",
     "metadata": {},
     "outputs": [],
     "prompt_number": 21
    },
    {
     "cell_type": "code",
     "collapsed": false,
     "input": [
      "I0 = I /(exp(e0*V/(kb*T))-1)\n",
      "Ir = I0*(exp(-e0*V/(kb*T))-1)\n",
      "Ir.convert('mA')\n",
      "print \"Reverse current: {:.3}, I0 : {:.3}\".format(Ir,I0)"
     ],
     "language": "python",
     "metadata": {},
     "outputs": [
      {
       "output_type": "stream",
       "stream": "stdout",
       "text": [
        "Reverse current: -4.18 mA, I0 : 0.00427 A\n"
       ]
      }
     ],
     "prompt_number": 22
    },
    {
     "cell_type": "code",
     "collapsed": false,
     "input": [
      "V = linspace(-5,1)\n"
     ],
     "language": "python",
     "metadata": {},
     "outputs": []
    },
    {
     "cell_type": "markdown",
     "metadata": {},
     "source": [
      "**Problem 43.51** A thin rod of superconducting material 2.50 cm long is placed into a 0.540 T magnetic field with its cylindrical axis along the magnetic field lines. (a) Sketch the directions of the applied field and the induced surface current. (b) Find the magnitude of the surface current on the curved surface of the rod."
     ]
    },
    {
     "cell_type": "code",
     "collapsed": false,
     "input": [
      "B = 0.54 T"
     ],
     "language": "python",
     "metadata": {},
     "outputs": [],
     "prompt_number": 28
    },
    {
     "cell_type": "code",
     "collapsed": false,
     "input": [
      "l = 2.5 cm"
     ],
     "language": "python",
     "metadata": {},
     "outputs": [],
     "prompt_number": 29
    },
    {
     "cell_type": "code",
     "collapsed": false,
     "input": [
      "I = B*l/mu0\n",
      "I.convert('kA')\n",
      "print \"Induced current : {}\".format(I)"
     ],
     "language": "python",
     "metadata": {},
     "outputs": [
      {
       "output_type": "stream",
       "stream": "stdout",
       "text": [
        "Induced current : 10.7429586587 kA\n"
       ]
      }
     ],
     "prompt_number": 31
    },
    {
     "cell_type": "code",
     "collapsed": false,
     "input": [
      "a = 1 km/ms"
     ],
     "language": "python",
     "metadata": {},
     "outputs": [],
     "prompt_number": 32
    },
    {
     "cell_type": "code",
     "collapsed": false,
     "input": [
      "a.convert('km/h')\n",
      "print a"
     ],
     "language": "python",
     "metadata": {},
     "outputs": [
      {
       "output_type": "stream",
       "stream": "stdout",
       "text": [
        "3600000 km/h\n"
       ]
      }
     ],
     "prompt_number": 33
    },
    {
     "cell_type": "markdown",
     "metadata": {},
     "source": [
      "**Problem 43.61**\n",
      "\n",
      "<img src=\"files/fig43.61.png\">"
     ]
    },
    {
     "cell_type": "code",
     "collapsed": false,
     "input": [
      "A = 0.15 eV*nm**3"
     ],
     "language": "python",
     "metadata": {},
     "outputs": [],
     "prompt_number": 3
    },
    {
     "cell_type": "code",
     "collapsed": false,
     "input": [
      "B = 3.68 eV*nm"
     ],
     "language": "python",
     "metadata": {},
     "outputs": [],
     "prompt_number": 4
    },
    {
     "cell_type": "code",
     "collapsed": false,
     "input": [
      "x0 = sqrt(3*A/B)\n",
      "x0.convert('nm')\n",
      "print x0"
     ],
     "language": "python",
     "metadata": {},
     "outputs": [
      {
       "output_type": "stream",
       "stream": "stdout",
       "text": [
        "0.3496893 nm\n"
       ]
      }
     ],
     "prompt_number": 6
    },
    {
     "cell_type": "code",
     "collapsed": false,
     "input": [
      "def U(x):\n",
      "    return A/x**3 -B/x\n",
      "\n",
      "print U(x0)"
     ],
     "language": "python",
     "metadata": {},
     "outputs": [
      {
       "output_type": "stream",
       "stream": "stdout",
       "text": [
        "-7.0157517 eV\n"
       ]
      }
     ],
     "prompt_number": 8
    },
    {
     "cell_type": "code",
     "collapsed": false,
     "input": [
      "def dU(x):\n",
      "    return -3*A/x**4 + B/x**2\n",
      "\n",
      "def ddU(x):\n",
      "    return 12*A/x**5 - 2*B/x**3"
     ],
     "language": "python",
     "metadata": {},
     "outputs": [],
     "prompt_number": 82
    },
    {
     "cell_type": "code",
     "collapsed": false,
     "input": [
      "x = linspace(0.18,2.5)"
     ],
     "language": "python",
     "metadata": {},
     "outputs": [],
     "prompt_number": 70
    },
    {
     "cell_type": "code",
     "collapsed": false,
     "input": [
      "x_u = x*(1 nm)"
     ],
     "language": "python",
     "metadata": {},
     "outputs": [],
     "prompt_number": 71
    },
    {
     "cell_type": "code",
     "collapsed": false,
     "input": [
      "Ux = array([u.value for u in map(U,x_u)])\n",
      "dUx = array([u.value for u in map(dU,x_u)])\n",
      "ddUx = array([u.value for u in map(ddU,x_u)])\n",
      "plot(x,Ux)\n",
      "#plot(x,dUx)\n",
      "#plot(x,ddUx)"
     ],
     "language": "python",
     "metadata": {},
     "outputs": [
      {
       "metadata": {},
       "output_type": "pyout",
       "prompt_number": 90,
       "text": [
        "[<matplotlib.lines.Line2D at 0x112057310>]"
       ]
      },
      {
       "metadata": {},
       "output_type": "display_data",
       "png": "[encoded data removed]"
      }
     ],
     "prompt_number": 90
    },
    {
     "cell_type": "code",
     "collapsed": false,
     "input": [
      "x1 = sqrt(6*A/B)\n",
      "x1.convert('nm')\n",
      "print x1"
     ],
     "language": "python",
     "metadata": {},
     "outputs": [
      {
       "output_type": "stream",
       "stream": "stdout",
       "text": [
        "0.49453536 nm\n"
       ]
      }
     ],
     "prompt_number": 73
    },
    {
     "cell_type": "code",
     "collapsed": false,
     "input": [
      "F = dU(x1) #-3*A/x1**4 + B/x1**2\n",
      "F.convert('nN')\n",
      "print F"
     ],
     "language": "python",
     "metadata": {},
     "outputs": [
      {
       "output_type": "stream",
       "stream": "stdout",
       "text": [
        "1.2054064 nN\n"
       ]
      }
     ],
     "prompt_number": 91
    },
    {
     "cell_type": "markdown",
     "metadata": {},
     "source": [
      "**Problem 26.59**"
     ]
    },
    {
     "cell_type": "code",
     "collapsed": false,
     "input": [
      "Emax = 2.e8 V/m"
     ],
     "language": "python",
     "metadata": {},
     "outputs": [],
     "prompt_number": 103
    },
    {
     "cell_type": "code",
     "collapsed": false,
     "input": [
      "Vmax = 4 kV"
     ],
     "language": "python",
     "metadata": {},
     "outputs": [],
     "prompt_number": 104
    },
    {
     "cell_type": "code",
     "collapsed": false,
     "input": [
      "kappa = 3"
     ],
     "language": "python",
     "metadata": {},
     "outputs": [],
     "prompt_number": 105
    },
    {
     "cell_type": "code",
     "collapsed": false,
     "input": [
      "C = 0.25e-6 F"
     ],
     "language": "python",
     "metadata": {},
     "outputs": [],
     "prompt_number": 106
    },
    {
     "cell_type": "code",
     "collapsed": false,
     "input": [
      "Ap = C/(kappa*eps0*Emax)*Vmax\n",
      "Ap.convert('m**2')"
     ],
     "language": "python",
     "metadata": {},
     "outputs": [],
     "prompt_number": 113
    },
    {
     "cell_type": "code",
     "collapsed": false,
     "input": [
      "print Ap"
     ],
     "language": "python",
     "metadata": {},
     "outputs": [
      {
       "output_type": "stream",
       "stream": "stdout",
       "text": [
        "0.18823484 m^2\n"
       ]
      }
     ],
     "prompt_number": 114
    },
    {
     "cell_type": "markdown",
     "metadata": {},
     "source": [
      "**Problem 26.67**"
     ]
    },
    {
     "cell_type": "code",
     "collapsed": false,
     "input": [
      "V0 = 100 V"
     ],
     "language": "python",
     "metadata": {},
     "outputs": [],
     "prompt_number": 115
    },
    {
     "cell_type": "code",
     "collapsed": false,
     "input": [
      "V1 = 30 V"
     ],
     "language": "python",
     "metadata": {},
     "outputs": [],
     "prompt_number": 116
    },
    {
     "cell_type": "code",
     "collapsed": false,
     "input": [
      "C1 = 10e-6 F"
     ],
     "language": "python",
     "metadata": {},
     "outputs": [],
     "prompt_number": 117
    },
    {
     "cell_type": "code",
     "collapsed": false,
     "input": [
      "x = C1*V1/(V0-V1)\n",
      "print x"
     ],
     "language": "python",
     "metadata": {},
     "outputs": [
      {
       "output_type": "stream",
       "stream": "stdout",
       "text": [
        "4.2857143e-06 F\n"
       ]
      }
     ],
     "prompt_number": 118
    },
    {
     "cell_type": "markdown",
     "metadata": {},
     "source": [
      "**Problem 27.43** A certain toaster has a heating element made of Nichrome wire. When the toaster is first connected to a 120-V source (and the wire is at a temperature of 20.0\u00b0C), the initial current is 1.80 A. The current decreases as the heating element warms up. When the toaster reaches its final operating temperature, the current is 1.53 A. (a) Find the power delivered to the toaster when it is at its operating temperature. (b) What is the final temperature of the heating element?"
     ]
    },
    {
     "cell_type": "code",
     "collapsed": false,
     "input": [
      "I0 = 1.8 A"
     ],
     "language": "python",
     "metadata": {},
     "outputs": [],
     "prompt_number": 119
    },
    {
     "cell_type": "code",
     "collapsed": false,
     "input": [
      "V = 120 V"
     ],
     "language": "python",
     "metadata": {},
     "outputs": [],
     "prompt_number": 120
    },
    {
     "cell_type": "code",
     "collapsed": false,
     "input": [
      "I1 = 1.53 A"
     ],
     "language": "python",
     "metadata": {},
     "outputs": [],
     "prompt_number": 121
    },
    {
     "cell_type": "code",
     "collapsed": false,
     "input": [
      "P = V*I1\n",
      "P.convert('W')\n",
      "print P"
     ],
     "language": "python",
     "metadata": {},
     "outputs": [
      {
       "output_type": "stream",
       "stream": "stdout",
       "text": [
        "183.6 W\n"
       ]
      }
     ],
     "prompt_number": 122
    },
    {
     "cell_type": "code",
     "collapsed": false,
     "input": [
      "rho = 1e-6 ohm*m"
     ],
     "language": "python",
     "metadata": {},
     "outputs": [],
     "prompt_number": 123
    },
    {
     "cell_type": "code",
     "collapsed": false,
     "input": [
      "T0 = 20 C"
     ],
     "language": "python",
     "metadata": {},
     "outputs": [],
     "prompt_number": 130
    },
    {
     "cell_type": "code",
     "collapsed": false,
     "input": [
      "alfa = 0.4e-3 C**-1"
     ],
     "language": "python",
     "metadata": {},
     "outputs": [],
     "prompt_number": 131
    },
    {
     "cell_type": "code",
     "collapsed": false,
     "input": [
      "R0 = V/I0\n",
      "R1 = V/I1\n",
      "# R1 = rho1 *l/A = rho0(1 + alfa*deltaT) l/A\n",
      "# R0 = rho0*l/A\n",
      "# R1/R0 = 1 + alfa*deltaT\n",
      "deltaT = (R1/R0 - 1)/alfa\n",
      "T = deltaT + T0\n",
      "print deltaT,T "
     ],
     "language": "python",
     "metadata": {},
     "outputs": [
      {
       "output_type": "stream",
       "stream": "stdout",
       "text": [
        "441.17647 C 461.17647 C\n"
       ]
      }
     ],
     "prompt_number": 132
    },
    {
     "cell_type": "markdown",
     "metadata": {},
     "source": [
      "**Problem 27.45** A 500-W heating coil designed to operate from 110 V is made of Nichrome wire 0.500 mm in diameter. (a) Assum- ing the resistivity of the Nichrome remains constant at its 20.0\u00b0C value, find the length of wire used. (b) What If? Now consider the variation of resistivity with temperature. What power is delivered to the coil of part (a) when it is warmed to 1 200\u00b0C?"
     ]
    },
    {
     "cell_type": "code",
     "collapsed": false,
     "input": [
      "P = 500 W"
     ],
     "language": "python",
     "metadata": {},
     "outputs": [],
     "prompt_number": 3
    },
    {
     "cell_type": "code",
     "collapsed": false,
     "input": [
      "d = 0.5 mm"
     ],
     "language": "python",
     "metadata": {},
     "outputs": [],
     "prompt_number": 4
    },
    {
     "cell_type": "code",
     "collapsed": false,
     "input": [
      "V = 110 V"
     ],
     "language": "python",
     "metadata": {},
     "outputs": [],
     "prompt_number": 5
    },
    {
     "cell_type": "code",
     "collapsed": false,
     "input": [
      "rho = 1.e-6 ohm*m"
     ],
     "language": "python",
     "metadata": {},
     "outputs": [],
     "prompt_number": 11
    },
    {
     "cell_type": "code",
     "collapsed": false,
     "input": [
      "I = P/V\n",
      "R = V/I\n",
      "\n",
      "\n",
      "l = pi*(d/2)**2*R/rho\n",
      "l.convert('m')\n",
      "print l"
     ],
     "language": "python",
     "metadata": {},
     "outputs": [
      {
       "output_type": "stream",
       "stream": "stdout",
       "text": [
        "4.7516589 m\n"
       ]
      }
     ],
     "prompt_number": 12
    },
    {
     "cell_type": "code",
     "collapsed": false,
     "input": [
      "alfa = 0.4e-3 1/C"
     ],
     "language": "python",
     "metadata": {},
     "outputs": [],
     "prompt_number": 13
    },
    {
     "cell_type": "code",
     "collapsed": false,
     "input": [
      "T = 1200 C"
     ],
     "language": "python",
     "metadata": {},
     "outputs": [],
     "prompt_number": 15
    },
    {
     "cell_type": "code",
     "collapsed": false,
     "input": [
      "T0 = 20 C"
     ],
     "language": "python",
     "metadata": {},
     "outputs": [],
     "prompt_number": 17
    },
    {
     "cell_type": "code",
     "collapsed": false,
     "input": [
      "R1 = R*(1 + alfa*(T-T0))\n",
      "\n",
      "P0 = V**2/R1\n",
      "P0.convert('W')\n",
      "print P0"
     ],
     "language": "python",
     "metadata": {},
     "outputs": [
      {
       "output_type": "stream",
       "stream": "stdout",
       "text": [
        "339.67391 W\n"
       ]
      }
     ],
     "prompt_number": 18
    },
    {
     "cell_type": "code",
     "collapsed": false,
     "input": [],
     "language": "python",
     "metadata": {},
     "outputs": [
      {
       "metadata": {},
       "output_type": "pyout",
       "prompt_number": 19,
       "text": [
        "2"
       ]
      }
     ],
     "prompt_number": 19
    },
    {
     "cell_type": "code",
     "collapsed": false,
     "input": [],
     "language": "python",
     "metadata": {},
     "outputs": []
    }
   ],
   "metadata": {}
  }
 ]
}