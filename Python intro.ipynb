{
 "cells": [
  {
   "cell_type": "code",
   "execution_count": 2,
   "metadata": {},
   "outputs": [
    {
     "name": "stdout",
     "output_type": "stream",
     "text": [
      "Hello World 2\n"
     ]
    }
   ],
   "source": [
    "print(\"Hello World 2\")"
   ]
  },
  {
   "cell_type": "code",
   "execution_count": 4,
   "metadata": {},
   "outputs": [
    {
     "name": "stdout",
     "output_type": "stream",
     "text": [
      "One\n",
      "two\n",
      "three\n",
      "1.6778\n",
      "1.457\n"
     ]
    }
   ],
   "source": [
    "text = ['One','two','three',1.6778]\n",
    "for t in text:\n",
    "    print(t)\n",
    "    \n",
    "text = 1.457\n",
    "print(text)"
   ]
  },
  {
   "cell_type": "code",
   "execution_count": 9,
   "metadata": {},
   "outputs": [
    {
     "name": "stdout",
     "output_type": "stream",
     "text": [
      "10\n",
      "9\n",
      "8\n",
      "7\n",
      "6\n",
      "5\n",
      "4\n",
      "3\n",
      "2\n",
      "1\n"
     ]
    }
   ],
   "source": [
    "for i in range(10,0,-1):\n",
    "    print(i)"
   ]
  },
  {
   "cell_type": "code",
   "execution_count": 11,
   "metadata": {},
   "outputs": [
    {
     "name": "stdout",
     "output_type": "stream",
     "text": [
      "[0, 9, 36, 81, 144, 225, 324, 441, 576, 729, 900, 1089, 1296, 1521, 1764, 2025, 2304, 2601, 2916, 3249, 3600, 3969, 4356, 4761, 5184, 5625, 6084, 6561, 7056, 7569, 8100, 8649, 9216, 9801]\n"
     ]
    }
   ],
   "source": [
    "new_list =[x**2 for x in range(100) if x %3 == 0]\n",
    "print(new_list)"
   ]
  },
  {
   "cell_type": "code",
   "execution_count": 22,
   "metadata": {
    "collapsed": true
   },
   "outputs": [],
   "source": [
    "def my_function(x,y,z=4):\n",
    "    return x*y*z"
   ]
  },
  {
   "cell_type": "code",
   "execution_count": 26,
   "metadata": {},
   "outputs": [
    {
     "data": {
      "text/plain": [
       "'xxxxxxxxxxxx'"
      ]
     },
     "execution_count": 26,
     "metadata": {},
     "output_type": "execute_result"
    }
   ],
   "source": [
    "my_function('x',z=6,y=2)"
   ]
  },
  {
   "cell_type": "code",
   "execution_count": 39,
   "metadata": {
    "collapsed": true
   },
   "outputs": [],
   "source": [
    "class A_class:\n",
    "    def __init__(self, par=42):\n",
    "        self.x = par"
   ]
  },
  {
   "cell_type": "code",
   "execution_count": 40,
   "metadata": {},
   "outputs": [
    {
     "name": "stdout",
     "output_type": "stream",
     "text": [
      "<__main__.A_class object at 0x10bc39160>\n"
     ]
    }
   ],
   "source": [
    "obj = A_class()\n",
    "print(obj)"
   ]
  },
  {
   "cell_type": "code",
   "execution_count": 32,
   "metadata": {},
   "outputs": [
    {
     "data": {
      "text/plain": [
       "['__class__',\n",
       " '__delattr__',\n",
       " '__dict__',\n",
       " '__dir__',\n",
       " '__doc__',\n",
       " '__eq__',\n",
       " '__format__',\n",
       " '__ge__',\n",
       " '__getattribute__',\n",
       " '__gt__',\n",
       " '__hash__',\n",
       " '__init__',\n",
       " '__init_subclass__',\n",
       " '__le__',\n",
       " '__lt__',\n",
       " '__module__',\n",
       " '__ne__',\n",
       " '__new__',\n",
       " '__reduce__',\n",
       " '__reduce_ex__',\n",
       " '__repr__',\n",
       " '__setattr__',\n",
       " '__sizeof__',\n",
       " '__str__',\n",
       " '__subclasshook__',\n",
       " '__weakref__',\n",
       " 'x']"
      ]
     },
     "execution_count": 32,
     "metadata": {},
     "output_type": "execute_result"
    }
   ],
   "source": [
    "dir(obj)"
   ]
  },
  {
   "cell_type": "code",
   "execution_count": 30,
   "metadata": {
    "collapsed": true
   },
   "outputs": [],
   "source": [
    "obj.x = 42"
   ]
  },
  {
   "cell_type": "code",
   "execution_count": 41,
   "metadata": {},
   "outputs": [
    {
     "data": {
      "text/plain": [
       "42"
      ]
     },
     "execution_count": 41,
     "metadata": {},
     "output_type": "execute_result"
    }
   ],
   "source": [
    "obj.x"
   ]
  },
  {
   "cell_type": "code",
   "execution_count": 44,
   "metadata": {
    "collapsed": true
   },
   "outputs": [],
   "source": [
    "obj2 = A_class('Hello')"
   ]
  },
  {
   "cell_type": "code",
   "execution_count": 45,
   "metadata": {},
   "outputs": [
    {
     "data": {
      "text/plain": [
       "'Hello'"
      ]
     },
     "execution_count": 45,
     "metadata": {},
     "output_type": "execute_result"
    }
   ],
   "source": [
    "\n",
    "obj2.x"
   ]
  },
  {
   "cell_type": "code",
   "execution_count": 46,
   "metadata": {},
   "outputs": [
    {
     "name": "stdout",
     "output_type": "stream",
     "text": [
      "<__main__.A_class object at 0x10bc39160> <__main__.A_class object at 0x10bc34dd8>\n"
     ]
    }
   ],
   "source": [
    "print(obj,obj2)"
   ]
  },
  {
   "cell_type": "code",
   "execution_count": 47,
   "metadata": {},
   "outputs": [
    {
     "ename": "NameError",
     "evalue": "name 'Decimal' is not defined",
     "output_type": "error",
     "traceback": [
      "\u001b[0;31m---------------------------------------------------------------------------\u001b[0m",
      "\u001b[0;31mNameError\u001b[0m                                 Traceback (most recent call last)",
      "\u001b[0;32m<ipython-input-47-f8444e7f4968>\u001b[0m in \u001b[0;36m<module>\u001b[0;34m()\u001b[0m\n\u001b[0;32m----> 1\u001b[0;31m \u001b[0mDecimal\u001b[0m\u001b[0;34m\u001b[0m\u001b[0m\n\u001b[0m",
      "\u001b[0;31mNameError\u001b[0m: name 'Decimal' is not defined"
     ]
    }
   ],
   "source": [
    "Decimal"
   ]
  },
  {
   "cell_type": "code",
   "execution_count": 48,
   "metadata": {
    "collapsed": true
   },
   "outputs": [],
   "source": [
    "import decimal"
   ]
  },
  {
   "cell_type": "code",
   "execution_count": 73,
   "metadata": {},
   "outputs": [
    {
     "data": {
      "text/plain": [
       "Decimal('1.333333333333333259318465025')"
      ]
     },
     "execution_count": 73,
     "metadata": {},
     "output_type": "execute_result"
    }
   ],
   "source": [
    "decimal.Decimal(2/3)*2"
   ]
  },
  {
   "cell_type": "code",
   "execution_count": 89,
   "metadata": {},
   "outputs": [
    {
     "name": "stdout",
     "output_type": "stream",
     "text": [
      "øæå😀😍\n",
      "\n",
      "\n",
      "😇🍎\n",
      "\n",
      "🍊\n"
     ]
    }
   ],
   "source": [
    "u_s=\"\"\"øæå😀😍\n",
    "\n",
    "\n",
    "😇🍎\n",
    "\n",
    "🍊\"\"\"\n",
    "print(u_s)"
   ]
  },
  {
   "cell_type": "code",
   "execution_count": 81,
   "metadata": {},
   "outputs": [
    {
     "name": "stdout",
     "output_type": "stream",
     "text": [
      "ØÆÅ😀😍\n",
      "\n",
      "\n",
      "😇🍎\n",
      "\n",
      "🍊\n"
     ]
    }
   ],
   "source": [
    "print(s.upper())"
   ]
  },
  {
   "cell_type": "code",
   "execution_count": 80,
   "metadata": {},
   "outputs": [
    {
     "data": {
      "text/plain": [
       "bytes"
      ]
     },
     "execution_count": 80,
     "metadata": {},
     "output_type": "execute_result"
    }
   ],
   "source": [
    "type(s.encode('utf-8'))"
   ]
  },
  {
   "cell_type": "code",
   "execution_count": 59,
   "metadata": {},
   "outputs": [
    {
     "data": {
      "text/plain": [
       "8"
      ]
     },
     "execution_count": 59,
     "metadata": {},
     "output_type": "execute_result"
    }
   ],
   "source": [
    "len(s)"
   ]
  },
  {
   "cell_type": "code",
   "execution_count": 66,
   "metadata": {},
   "outputs": [
    {
     "data": {
      "text/plain": [
       "()"
      ]
     },
     "execution_count": 66,
     "metadata": {},
     "output_type": "execute_result"
    }
   ],
   "source": [
    "tuple()"
   ]
  },
  {
   "cell_type": "code",
   "execution_count": 69,
   "metadata": {},
   "outputs": [
    {
     "data": {
      "text/plain": [
       "0.0"
      ]
     },
     "execution_count": 69,
     "metadata": {},
     "output_type": "execute_result"
    }
   ],
   "source": [
    "1/3"
   ]
  },
  {
   "cell_type": "code",
   "execution_count": 82,
   "metadata": {},
   "outputs": [
    {
     "name": "stdout",
     "output_type": "stream",
     "text": [
      "3 number\n"
     ]
    }
   ],
   "source": [
    "s='%d number' % 3\n",
    "print(s)"
   ]
  },
  {
   "cell_type": "code",
   "execution_count": 88,
   "metadata": {},
   "outputs": [
    {
     "name": "stdout",
     "output_type": "stream",
     "text": [
      "two number wrong\n"
     ]
    }
   ],
   "source": [
    "s='{1} number {0}'.format('wrong','two')\n",
    "print(s)"
   ]
  },
  {
   "cell_type": "code",
   "execution_count": 90,
   "metadata": {},
   "outputs": [
    {
     "name": "stdout",
     "output_type": "stream",
     "text": [
      "øæå😀😍\n",
      "\n",
      "\n",
      "😇🍎\n",
      "\n",
      "🍊 is a unicode\n"
     ]
    }
   ],
   "source": [
    "s=f'{u_s} is a unicode'\n",
    "print(s)"
   ]
  },
  {
   "cell_type": "code",
   "execution_count": 91,
   "metadata": {},
   "outputs": [
    {
     "name": "stdout",
     "output_type": "stream",
     "text": [
      "Hello anders\n",
      "Hello peter\n",
      "Hello joan\n"
     ]
    }
   ],
   "source": [
    "s = 'anders peter joan'\n",
    "names = s.split()\n",
    "for n in names:\n",
    "    print(f'Hello {n}')"
   ]
  },
  {
   "cell_type": "code",
   "execution_count": 94,
   "metadata": {},
   "outputs": [
    {
     "data": {
      "text/plain": [
       "'anders -----v----- peter -----v----- joan'"
      ]
     },
     "execution_count": 94,
     "metadata": {},
     "output_type": "execute_result"
    }
   ],
   "source": [
    "' -----v----- '.join(names)"
   ]
  },
  {
   "cell_type": "code",
   "execution_count": 99,
   "metadata": {},
   "outputs": [
    {
     "name": "stdout",
     "output_type": "stream",
     "text": [
      "<class 'tuple'>\n"
     ]
    }
   ],
   "source": [
    "t = (1,2,3,'KKK')\n",
    "print(type(t))"
   ]
  },
  {
   "cell_type": "code",
   "execution_count": 100,
   "metadata": {
    "collapsed": true
   },
   "outputs": [],
   "source": [
    "l = []"
   ]
  },
  {
   "cell_type": "code",
   "execution_count": 101,
   "metadata": {
    "collapsed": true
   },
   "outputs": [],
   "source": [
    "l.append(1)\n",
    "l.append(14)"
   ]
  },
  {
   "cell_type": "code",
   "execution_count": 106,
   "metadata": {
    "collapsed": true
   },
   "outputs": [],
   "source": [
    "l[0]='3'"
   ]
  },
  {
   "cell_type": "code",
   "execution_count": 107,
   "metadata": {},
   "outputs": [
    {
     "data": {
      "text/plain": [
       "2"
      ]
     },
     "execution_count": 107,
     "metadata": {},
     "output_type": "execute_result"
    }
   ],
   "source": [
    "len(l)"
   ]
  },
  {
   "cell_type": "code",
   "execution_count": 109,
   "metadata": {
    "collapsed": true
   },
   "outputs": [],
   "source": [
    "l = [x**3 for x in range(15)]"
   ]
  },
  {
   "cell_type": "code",
   "execution_count": 110,
   "metadata": {},
   "outputs": [
    {
     "data": {
      "text/plain": [
       "[0, 1, 8, 27, 64, 125, 216, 343, 512, 729, 1000, 1331, 1728, 2197, 2744]"
      ]
     },
     "execution_count": 110,
     "metadata": {},
     "output_type": "execute_result"
    }
   ],
   "source": [
    "l"
   ]
  },
  {
   "cell_type": "code",
   "execution_count": 119,
   "metadata": {},
   "outputs": [
    {
     "data": {
      "text/plain": [
       "'anders peter joan'"
      ]
     },
     "execution_count": 119,
     "metadata": {},
     "output_type": "execute_result"
    }
   ],
   "source": [
    "s[:]"
   ]
  },
  {
   "cell_type": "code",
   "execution_count": 120,
   "metadata": {
    "collapsed": true
   },
   "outputs": [],
   "source": [
    "d = {'anders':100,'joan':300}"
   ]
  },
  {
   "cell_type": "code",
   "execution_count": 121,
   "metadata": {},
   "outputs": [
    {
     "data": {
      "text/plain": [
       "300"
      ]
     },
     "execution_count": 121,
     "metadata": {},
     "output_type": "execute_result"
    }
   ],
   "source": [
    "d['joan']"
   ]
  },
  {
   "cell_type": "code",
   "execution_count": 127,
   "metadata": {
    "collapsed": true
   },
   "outputs": [],
   "source": [
    "from collections import defaultdict as dd"
   ]
  },
  {
   "cell_type": "code",
   "execution_count": 129,
   "metadata": {
    "collapsed": true
   },
   "outputs": [],
   "source": [
    "d = dd(list)"
   ]
  },
  {
   "cell_type": "code",
   "execution_count": 134,
   "metadata": {
    "collapsed": true
   },
   "outputs": [],
   "source": [
    "d['key2'].append(1)"
   ]
  },
  {
   "cell_type": "code",
   "execution_count": 135,
   "metadata": {},
   "outputs": [
    {
     "data": {
      "text/plain": [
       "defaultdict(list, {'key': [0, 1], 'key2': [1]})"
      ]
     },
     "execution_count": 135,
     "metadata": {},
     "output_type": "execute_result"
    }
   ],
   "source": [
    "d"
   ]
  },
  {
   "cell_type": "code",
   "execution_count": 164,
   "metadata": {
    "collapsed": true
   },
   "outputs": [],
   "source": [
    "from os import listdir,scandir"
   ]
  },
  {
   "cell_type": "code",
   "execution_count": 165,
   "metadata": {
    "collapsed": true
   },
   "outputs": [],
   "source": [
    "from os.path import isdir"
   ]
  },
  {
   "cell_type": "code",
   "execution_count": 150,
   "metadata": {
    "collapsed": true
   },
   "outputs": [],
   "source": [
    "f = open('test_file.txt','r')"
   ]
  },
  {
   "cell_type": "code",
   "execution_count": 152,
   "metadata": {},
   "outputs": [
    {
     "data": {
      "text/plain": [
       "3"
      ]
     },
     "execution_count": 152,
     "metadata": {},
     "output_type": "execute_result"
    }
   ],
   "source": [
    "f.seek(3)\n",
    "f.tell()"
   ]
  },
  {
   "cell_type": "code",
   "execution_count": 140,
   "metadata": {
    "collapsed": true
   },
   "outputs": [],
   "source": [
    "f.close()"
   ]
  },
  {
   "cell_type": "code",
   "execution_count": 144,
   "metadata": {},
   "outputs": [
    {
     "name": "stdout",
     "output_type": "stream",
     "text": [
      "<_io.TextIOWrapper name='test_file.txt' mode='r' encoding='UTF-8'>\n"
     ]
    }
   ],
   "source": [
    "print(f)"
   ]
  },
  {
   "cell_type": "code",
   "execution_count": 148,
   "metadata": {},
   "outputs": [
    {
     "data": {
      "text/plain": [
       "\"<_io.TextIOWrapper name='test_file.txt' mode='r' encoding='UTF-8'>\""
      ]
     },
     "execution_count": 148,
     "metadata": {},
     "output_type": "execute_result"
    }
   ],
   "source": [
    "f.__str__()"
   ]
  },
  {
   "cell_type": "code",
   "execution_count": 147,
   "metadata": {},
   "outputs": [
    {
     "data": {
      "text/plain": [
       "['_CHUNK_SIZE',\n",
       " '__class__',\n",
       " '__del__',\n",
       " '__delattr__',\n",
       " '__dict__',\n",
       " '__dir__',\n",
       " '__doc__',\n",
       " '__enter__',\n",
       " '__eq__',\n",
       " '__exit__',\n",
       " '__format__',\n",
       " '__ge__',\n",
       " '__getattribute__',\n",
       " '__getstate__',\n",
       " '__gt__',\n",
       " '__hash__',\n",
       " '__init__',\n",
       " '__init_subclass__',\n",
       " '__iter__',\n",
       " '__le__',\n",
       " '__lt__',\n",
       " '__ne__',\n",
       " '__new__',\n",
       " '__next__',\n",
       " '__reduce__',\n",
       " '__reduce_ex__',\n",
       " '__repr__',\n",
       " '__setattr__',\n",
       " '__sizeof__',\n",
       " '__str__',\n",
       " '__subclasshook__',\n",
       " '_checkClosed',\n",
       " '_checkReadable',\n",
       " '_checkSeekable',\n",
       " '_checkWritable',\n",
       " '_finalizing',\n",
       " 'buffer',\n",
       " 'close',\n",
       " 'closed',\n",
       " 'detach',\n",
       " 'encoding',\n",
       " 'errors',\n",
       " 'fileno',\n",
       " 'flush',\n",
       " 'isatty',\n",
       " 'line_buffering',\n",
       " 'mode',\n",
       " 'name',\n",
       " 'newlines',\n",
       " 'read',\n",
       " 'readable',\n",
       " 'readline',\n",
       " 'readlines',\n",
       " 'seek',\n",
       " 'seekable',\n",
       " 'tell',\n",
       " 'truncate',\n",
       " 'writable',\n",
       " 'write',\n",
       " 'writelines']"
      ]
     },
     "execution_count": 147,
     "metadata": {},
     "output_type": "execute_result"
    }
   ],
   "source": [
    "dir(f)"
   ]
  },
  {
   "cell_type": "code",
   "execution_count": 167,
   "metadata": {
    "collapsed": true
   },
   "outputs": [],
   "source": [
    "# This is a comment\n",
    "def recurse(x): # function declaration\n",
    "    if x==0 :return #hh  1\n",
    "    else: recurse(x-1)"
   ]
  },
  {
   "cell_type": "code",
   "execution_count": 170,
   "metadata": {
    "collapsed": true
   },
   "outputs": [],
   "source": [
    "res = recurse(10)"
   ]
  },
  {
   "cell_type": "code",
   "execution_count": 171,
   "metadata": {
    "collapsed": true
   },
   "outputs": [],
   "source": [
    "res"
   ]
  },
  {
   "cell_type": "markdown",
   "metadata": {},
   "source": [
    " $\\sum_{i=0}^{K}\\left(x^i\\right)$"
   ]
  },
  {
   "cell_type": "markdown",
   "metadata": {},
   "source": [
    "# Heading"
   ]
  },
  {
   "cell_type": "markdown",
   "metadata": {},
   "source": [
    "## Smaller"
   ]
  },
  {
   "cell_type": "code",
   "execution_count": 175,
   "metadata": {
    "collapsed": true
   },
   "outputs": [],
   "source": [
    "import sklearn as sk"
   ]
  },
  {
   "cell_type": "code",
   "execution_count": 182,
   "metadata": {},
   "outputs": [
    {
     "name": "stdout",
     "output_type": "stream",
     "text": [
      "total 5104\r\n",
      "-rw-r--r--+  1 root  admin     1228 Sep  1 11:41 __init__.py\r\n",
      "drwxr-xr-x+ 13 root  admin      442 Sep  1 11:41 \u001b[34m__pycache__\u001b[m\u001b[m\r\n",
      "-rwxr-xr-x+  1 root  admin   108188 Sep  1 11:41 \u001b[31m_dbscan_inner.cpython-36m-darwin.so\u001b[m\u001b[m\r\n",
      "-rw-r--r--+  1 root  admin     2261 Sep  1 11:41 _feature_agglomeration.py\r\n",
      "-rwxr-xr-x+  1 root  admin   493740 Sep  1 11:41 \u001b[31m_hierarchical.cpython-36m-darwin.so\u001b[m\u001b[m\r\n",
      "-rwxr-xr-x+  1 root  admin  1062376 Sep  1 11:41 \u001b[31m_k_means.cpython-36m-darwin.so\u001b[m\u001b[m\r\n",
      "-rwxr-xr-x+  1 root  admin   720616 Sep  1 11:41 \u001b[31m_k_means_elkan.cpython-36m-darwin.so\u001b[m\u001b[m\r\n",
      "-rw-r--r--+  1 root  admin    11062 Sep  1 11:41 affinity_propagation_.py\r\n",
      "-rw-r--r--+  1 root  admin    20245 Sep  1 11:41 bicluster.py\r\n",
      "-rw-r--r--+  1 root  admin    23640 Sep  1 11:41 birch.py\r\n",
      "-rw-r--r--+  1 root  admin    12816 Sep  1 11:41 dbscan_.py\r\n",
      "-rw-r--r--+  1 root  admin    33898 Sep  1 11:41 hierarchical.py\r\n",
      "-rw-r--r--+  1 root  admin    60735 Sep  1 11:41 k_means_.py\r\n",
      "-rw-r--r--+  1 root  admin    15822 Sep  1 11:41 mean_shift_.py\r\n",
      "-rw-r--r--+  1 root  admin     1855 Sep  1 11:41 setup.py\r\n",
      "-rw-r--r--+  1 root  admin    19173 Sep  1 11:41 spectral.py\r\n",
      "drwxr-xr-x+ 13 root  admin      442 Sep  1 11:41 \u001b[34mtests\u001b[m\u001b[m\r\n"
     ]
    }
   ],
   "source": [
    "!ls -l /usr/local/lib/python3.6/site-packages/sklearn/cluster/\n"
   ]
  },
  {
   "cell_type": "code",
   "execution_count": 183,
   "metadata": {},
   "outputs": [
    {
     "name": "stdout",
     "output_type": "stream",
     "text": [
      "\"\"\"\r\n",
      "The :mod:`sklearn.cluster` module gathers popular unsupervised clustering\r\n",
      "algorithms.\r\n",
      "\"\"\"\r\n",
      "\r\n",
      "from .spectral import spectral_clustering, SpectralClustering\r\n",
      "from .mean_shift_ import (mean_shift, MeanShift,\r\n",
      "                          estimate_bandwidth, get_bin_seeds)\r\n",
      "from .affinity_propagation_ import affinity_propagation, AffinityPropagation\r\n",
      "from .hierarchical import (ward_tree, AgglomerativeClustering, linkage_tree,\r\n",
      "                           FeatureAgglomeration)\r\n",
      "from .k_means_ import k_means, KMeans, MiniBatchKMeans\r\n",
      "from .dbscan_ import dbscan, DBSCAN\r\n",
      "from .bicluster import SpectralBiclustering, SpectralCoclustering\r\n",
      "from .birch import Birch\r\n",
      "\r\n",
      "__all__ = ['AffinityPropagation',\r\n",
      "           'AgglomerativeClustering',\r\n",
      "           'Birch',\r\n",
      "           'DBSCAN',\r\n",
      "           'KMeans',\r\n",
      "           'FeatureAgglomeration',\r\n",
      "           'MeanShift',\r\n",
      "           'MiniBatchKMeans',\r\n",
      "           'SpectralClustering',\r\n",
      "           'affinity_propagation',\r\n",
      "           'dbscan',\r\n",
      "           'estimate_bandwidth',\r\n",
      "           'get_bin_seeds',\r\n",
      "           'k_means',\r\n",
      "           'linkage_tree',\r\n",
      "           'mean_shift',\r\n",
      "           'spectral_clustering',\r\n",
      "           'ward_tree',\r\n",
      "           'SpectralBiclustering',\r\n",
      "           'SpectralCoclustering']\r\n"
     ]
    }
   ],
   "source": [
    "!cat /usr/local/lib/python3.6/site-packages/sklearn/cluster/__init__.py"
   ]
  },
  {
   "cell_type": "code",
   "execution_count": 184,
   "metadata": {
    "collapsed": true
   },
   "outputs": [],
   "source": [
    "from sklearn.cluster import k_means,KMeans"
   ]
  },
  {
   "cell_type": "code",
   "execution_count": 187,
   "metadata": {
    "collapsed": true
   },
   "outputs": [],
   "source": [
    "import sklearn as sk\n"
   ]
  },
  {
   "cell_type": "code",
   "execution_count": 188,
   "metadata": {},
   "outputs": [
    {
     "data": {
      "text/plain": [
       "'0.19.0'"
      ]
     },
     "execution_count": 188,
     "metadata": {},
     "output_type": "execute_result"
    }
   ],
   "source": [
    "sk.__version__"
   ]
  },
  {
   "cell_type": "code",
   "execution_count": 190,
   "metadata": {
    "collapsed": true
   },
   "outputs": [],
   "source": [
    "a = ''"
   ]
  },
  {
   "cell_type": "code",
   "execution_count": 192,
   "metadata": {
    "collapsed": true
   },
   "outputs": [],
   "source": [
    "from collections import defaultdict"
   ]
  },
  {
   "cell_type": "code",
   "execution_count": 193,
   "metadata": {
    "collapsed": true
   },
   "outputs": [],
   "source": [
    "dd = defaultdict(list)"
   ]
  },
  {
   "cell_type": "code",
   "execution_count": 194,
   "metadata": {},
   "outputs": [
    {
     "data": {
      "text/plain": [
       "defaultdict(list, {'key': [1]})"
      ]
     },
     "execution_count": 194,
     "metadata": {},
     "output_type": "execute_result"
    }
   ],
   "source": [
    "dd['key'].append(1)\n",
    "dd"
   ]
  },
  {
   "cell_type": "code",
   "execution_count": 196,
   "metadata": {},
   "outputs": [
    {
     "ename": "NameError",
     "evalue": "name 'nparray' is not defined",
     "output_type": "error",
     "traceback": [
      "\u001b[0;31m---------------------------------------------------------------------------\u001b[0m",
      "\u001b[0;31mNameError\u001b[0m                                 Traceback (most recent call last)",
      "\u001b[0;32m<ipython-input-196-7dccc037ae6a>\u001b[0m in \u001b[0;36m<module>\u001b[0;34m()\u001b[0m\n\u001b[0;32m----> 1\u001b[0;31m \u001b[0mnparray\u001b[0m\u001b[0;34m\u001b[0m\u001b[0m\n\u001b[0m",
      "\u001b[0;31mNameError\u001b[0m: name 'nparray' is not defined"
     ]
    }
   ],
   "source": []
  },
  {
   "cell_type": "code",
   "execution_count": 2,
   "metadata": {},
   "outputs": [],
   "source": [
    "import pandas as pd"
   ]
  },
  {
   "cell_type": "code",
   "execution_count": 24,
   "metadata": {},
   "outputs": [
    {
     "data": {
      "text/html": [
       "<div>\n",
       "<style>\n",
       "    .dataframe thead tr:only-child th {\n",
       "        text-align: right;\n",
       "    }\n",
       "\n",
       "    .dataframe thead th {\n",
       "        text-align: left;\n",
       "    }\n",
       "\n",
       "    .dataframe tbody tr th {\n",
       "        vertical-align: top;\n",
       "    }\n",
       "</style>\n",
       "<table border=\"1\" class=\"dataframe\">\n",
       "  <thead>\n",
       "    <tr style=\"text-align: right;\">\n",
       "      <th></th>\n",
       "      <th>Dato og tid</th>\n",
       "      <th>1</th>\n",
       "      <th>2</th>\n",
       "      <th>3</th>\n",
       "      <th>4</th>\n",
       "      <th>5</th>\n",
       "      <th>6</th>\n",
       "      <th>7</th>\n",
       "      <th>8</th>\n",
       "      <th>9</th>\n",
       "      <th>...</th>\n",
       "      <th>11</th>\n",
       "      <th>12</th>\n",
       "      <th>13</th>\n",
       "      <th>14</th>\n",
       "      <th>15</th>\n",
       "      <th>16</th>\n",
       "      <th>17</th>\n",
       "      <th>18</th>\n",
       "      <th>19</th>\n",
       "      <th>20</th>\n",
       "    </tr>\n",
       "  </thead>\n",
       "  <tbody>\n",
       "    <tr>\n",
       "      <th>0</th>\n",
       "      <td>2016-12-08 00:00</td>\n",
       "      <td>599</td>\n",
       "      <td>587</td>\n",
       "      <td>270</td>\n",
       "      <td>139</td>\n",
       "      <td>2721</td>\n",
       "      <td>733</td>\n",
       "      <td>-1527</td>\n",
       "      <td>-338</td>\n",
       "      <td>554</td>\n",
       "      <td>...</td>\n",
       "      <td>113</td>\n",
       "      <td>-18</td>\n",
       "      <td>-381</td>\n",
       "      <td>10</td>\n",
       "      <td>9</td>\n",
       "      <td>190</td>\n",
       "      <td>1060</td>\n",
       "      <td>2394</td>\n",
       "      <td>0</td>\n",
       "      <td>0</td>\n",
       "    </tr>\n",
       "    <tr>\n",
       "      <th>1</th>\n",
       "      <td>2016-12-08 00:05</td>\n",
       "      <td>557</td>\n",
       "      <td>583</td>\n",
       "      <td>271</td>\n",
       "      <td>126</td>\n",
       "      <td>2757</td>\n",
       "      <td>732</td>\n",
       "      <td>-1508</td>\n",
       "      <td>-330</td>\n",
       "      <td>505</td>\n",
       "      <td>...</td>\n",
       "      <td>247</td>\n",
       "      <td>-17</td>\n",
       "      <td>-318</td>\n",
       "      <td>10</td>\n",
       "      <td>11</td>\n",
       "      <td>184</td>\n",
       "      <td>1058</td>\n",
       "      <td>2430</td>\n",
       "      <td>0</td>\n",
       "      <td>0</td>\n",
       "    </tr>\n",
       "    <tr>\n",
       "      <th>2</th>\n",
       "      <td>2016-12-08 00:10</td>\n",
       "      <td>527</td>\n",
       "      <td>590</td>\n",
       "      <td>241</td>\n",
       "      <td>117</td>\n",
       "      <td>2746</td>\n",
       "      <td>742</td>\n",
       "      <td>-1516</td>\n",
       "      <td>-322</td>\n",
       "      <td>473</td>\n",
       "      <td>...</td>\n",
       "      <td>304</td>\n",
       "      <td>-19</td>\n",
       "      <td>-256</td>\n",
       "      <td>10</td>\n",
       "      <td>11</td>\n",
       "      <td>180</td>\n",
       "      <td>1061</td>\n",
       "      <td>2427</td>\n",
       "      <td>0</td>\n",
       "      <td>0</td>\n",
       "    </tr>\n",
       "    <tr>\n",
       "      <th>3</th>\n",
       "      <td>2016-12-08 00:15</td>\n",
       "      <td>512</td>\n",
       "      <td>577</td>\n",
       "      <td>213</td>\n",
       "      <td>116</td>\n",
       "      <td>2750</td>\n",
       "      <td>741</td>\n",
       "      <td>-1518</td>\n",
       "      <td>-314</td>\n",
       "      <td>483</td>\n",
       "      <td>...</td>\n",
       "      <td>304</td>\n",
       "      <td>-18</td>\n",
       "      <td>-193</td>\n",
       "      <td>10</td>\n",
       "      <td>9</td>\n",
       "      <td>175</td>\n",
       "      <td>1060</td>\n",
       "      <td>2431</td>\n",
       "      <td>0</td>\n",
       "      <td>0</td>\n",
       "    </tr>\n",
       "    <tr>\n",
       "      <th>4</th>\n",
       "      <td>2016-12-08 00:20</td>\n",
       "      <td>492</td>\n",
       "      <td>568</td>\n",
       "      <td>198</td>\n",
       "      <td>115</td>\n",
       "      <td>2759</td>\n",
       "      <td>749</td>\n",
       "      <td>-1520</td>\n",
       "      <td>-313</td>\n",
       "      <td>503</td>\n",
       "      <td>...</td>\n",
       "      <td>304</td>\n",
       "      <td>-18</td>\n",
       "      <td>-192</td>\n",
       "      <td>10</td>\n",
       "      <td>8</td>\n",
       "      <td>170</td>\n",
       "      <td>1060</td>\n",
       "      <td>2448</td>\n",
       "      <td>0</td>\n",
       "      <td>0</td>\n",
       "    </tr>\n",
       "    <tr>\n",
       "      <th>5</th>\n",
       "      <td>2016-12-08 00:25</td>\n",
       "      <td>480</td>\n",
       "      <td>549</td>\n",
       "      <td>198</td>\n",
       "      <td>115</td>\n",
       "      <td>2750</td>\n",
       "      <td>745</td>\n",
       "      <td>-1519</td>\n",
       "      <td>-314</td>\n",
       "      <td>529</td>\n",
       "      <td>...</td>\n",
       "      <td>304</td>\n",
       "      <td>-18</td>\n",
       "      <td>-230</td>\n",
       "      <td>10</td>\n",
       "      <td>9</td>\n",
       "      <td>166</td>\n",
       "      <td>1063</td>\n",
       "      <td>2431</td>\n",
       "      <td>0</td>\n",
       "      <td>0</td>\n",
       "    </tr>\n",
       "    <tr>\n",
       "      <th>6</th>\n",
       "      <td>2016-12-08 00:30</td>\n",
       "      <td>483</td>\n",
       "      <td>540</td>\n",
       "      <td>198</td>\n",
       "      <td>115</td>\n",
       "      <td>2736</td>\n",
       "      <td>741</td>\n",
       "      <td>-1520</td>\n",
       "      <td>-315</td>\n",
       "      <td>502</td>\n",
       "      <td>...</td>\n",
       "      <td>304</td>\n",
       "      <td>-19</td>\n",
       "      <td>-231</td>\n",
       "      <td>10</td>\n",
       "      <td>8</td>\n",
       "      <td>166</td>\n",
       "      <td>1060</td>\n",
       "      <td>2418</td>\n",
       "      <td>0</td>\n",
       "      <td>0</td>\n",
       "    </tr>\n",
       "    <tr>\n",
       "      <th>7</th>\n",
       "      <td>2016-12-08 00:35</td>\n",
       "      <td>485</td>\n",
       "      <td>540</td>\n",
       "      <td>195</td>\n",
       "      <td>116</td>\n",
       "      <td>2736</td>\n",
       "      <td>743</td>\n",
       "      <td>-1522</td>\n",
       "      <td>-314</td>\n",
       "      <td>509</td>\n",
       "      <td>...</td>\n",
       "      <td>304</td>\n",
       "      <td>-19</td>\n",
       "      <td>-231</td>\n",
       "      <td>10</td>\n",
       "      <td>9</td>\n",
       "      <td>166</td>\n",
       "      <td>1063</td>\n",
       "      <td>2416</td>\n",
       "      <td>0</td>\n",
       "      <td>0</td>\n",
       "    </tr>\n",
       "    <tr>\n",
       "      <th>8</th>\n",
       "      <td>2016-12-08 00:40</td>\n",
       "      <td>485</td>\n",
       "      <td>536</td>\n",
       "      <td>194</td>\n",
       "      <td>117</td>\n",
       "      <td>2733</td>\n",
       "      <td>742</td>\n",
       "      <td>-1522</td>\n",
       "      <td>-315</td>\n",
       "      <td>507</td>\n",
       "      <td>...</td>\n",
       "      <td>304</td>\n",
       "      <td>-18</td>\n",
       "      <td>-231</td>\n",
       "      <td>10</td>\n",
       "      <td>9</td>\n",
       "      <td>165</td>\n",
       "      <td>1061</td>\n",
       "      <td>2415</td>\n",
       "      <td>0</td>\n",
       "      <td>0</td>\n",
       "    </tr>\n",
       "    <tr>\n",
       "      <th>9</th>\n",
       "      <td>2016-12-08 00:45</td>\n",
       "      <td>479</td>\n",
       "      <td>528</td>\n",
       "      <td>194</td>\n",
       "      <td>117</td>\n",
       "      <td>2729</td>\n",
       "      <td>742</td>\n",
       "      <td>-1521</td>\n",
       "      <td>-314</td>\n",
       "      <td>511</td>\n",
       "      <td>...</td>\n",
       "      <td>304</td>\n",
       "      <td>-18</td>\n",
       "      <td>-231</td>\n",
       "      <td>10</td>\n",
       "      <td>9</td>\n",
       "      <td>164</td>\n",
       "      <td>1064</td>\n",
       "      <td>2407</td>\n",
       "      <td>0</td>\n",
       "      <td>0</td>\n",
       "    </tr>\n",
       "    <tr>\n",
       "      <th>10</th>\n",
       "      <td>2016-12-08 00:50</td>\n",
       "      <td>480</td>\n",
       "      <td>519</td>\n",
       "      <td>193</td>\n",
       "      <td>117</td>\n",
       "      <td>2738</td>\n",
       "      <td>750</td>\n",
       "      <td>-1521</td>\n",
       "      <td>-310</td>\n",
       "      <td>525</td>\n",
       "      <td>...</td>\n",
       "      <td>304</td>\n",
       "      <td>-17</td>\n",
       "      <td>-293</td>\n",
       "      <td>10</td>\n",
       "      <td>9</td>\n",
       "      <td>163</td>\n",
       "      <td>1066</td>\n",
       "      <td>2422</td>\n",
       "      <td>0</td>\n",
       "      <td>0</td>\n",
       "    </tr>\n",
       "    <tr>\n",
       "      <th>11</th>\n",
       "      <td>2016-12-08 00:55</td>\n",
       "      <td>475</td>\n",
       "      <td>521</td>\n",
       "      <td>192</td>\n",
       "      <td>119</td>\n",
       "      <td>2744</td>\n",
       "      <td>742</td>\n",
       "      <td>-1526</td>\n",
       "      <td>-304</td>\n",
       "      <td>530</td>\n",
       "      <td>...</td>\n",
       "      <td>169</td>\n",
       "      <td>-19</td>\n",
       "      <td>-357</td>\n",
       "      <td>10</td>\n",
       "      <td>9</td>\n",
       "      <td>162</td>\n",
       "      <td>1062</td>\n",
       "      <td>2424</td>\n",
       "      <td>0</td>\n",
       "      <td>0</td>\n",
       "    </tr>\n",
       "    <tr>\n",
       "      <th>12</th>\n",
       "      <td>2016-12-08 01:00</td>\n",
       "      <td>481</td>\n",
       "      <td>522</td>\n",
       "      <td>195</td>\n",
       "      <td>120</td>\n",
       "      <td>2771</td>\n",
       "      <td>740</td>\n",
       "      <td>-1523</td>\n",
       "      <td>-300</td>\n",
       "      <td>552</td>\n",
       "      <td>...</td>\n",
       "      <td>30</td>\n",
       "      <td>-20</td>\n",
       "      <td>-383</td>\n",
       "      <td>10</td>\n",
       "      <td>8</td>\n",
       "      <td>163</td>\n",
       "      <td>1061</td>\n",
       "      <td>2450</td>\n",
       "      <td>0</td>\n",
       "      <td>0</td>\n",
       "    </tr>\n",
       "    <tr>\n",
       "      <th>13</th>\n",
       "      <td>2016-12-08 01:05</td>\n",
       "      <td>500</td>\n",
       "      <td>520</td>\n",
       "      <td>198</td>\n",
       "      <td>119</td>\n",
       "      <td>2768</td>\n",
       "      <td>739</td>\n",
       "      <td>-1525</td>\n",
       "      <td>-293</td>\n",
       "      <td>659</td>\n",
       "      <td>...</td>\n",
       "      <td>-109</td>\n",
       "      <td>-19</td>\n",
       "      <td>-448</td>\n",
       "      <td>10</td>\n",
       "      <td>9</td>\n",
       "      <td>165</td>\n",
       "      <td>1058</td>\n",
       "      <td>2449</td>\n",
       "      <td>0</td>\n",
       "      <td>0</td>\n",
       "    </tr>\n",
       "    <tr>\n",
       "      <th>14</th>\n",
       "      <td>2016-12-08 01:10</td>\n",
       "      <td>508</td>\n",
       "      <td>511</td>\n",
       "      <td>195</td>\n",
       "      <td>117</td>\n",
       "      <td>2772</td>\n",
       "      <td>745</td>\n",
       "      <td>-1527</td>\n",
       "      <td>-289</td>\n",
       "      <td>711</td>\n",
       "      <td>...</td>\n",
       "      <td>-246</td>\n",
       "      <td>-21</td>\n",
       "      <td>-511</td>\n",
       "      <td>10</td>\n",
       "      <td>7</td>\n",
       "      <td>164</td>\n",
       "      <td>1049</td>\n",
       "      <td>2468</td>\n",
       "      <td>0</td>\n",
       "      <td>0</td>\n",
       "    </tr>\n",
       "    <tr>\n",
       "      <th>15</th>\n",
       "      <td>2016-12-08 01:15</td>\n",
       "      <td>516</td>\n",
       "      <td>510</td>\n",
       "      <td>197</td>\n",
       "      <td>123</td>\n",
       "      <td>2797</td>\n",
       "      <td>743</td>\n",
       "      <td>-1531</td>\n",
       "      <td>-284</td>\n",
       "      <td>736</td>\n",
       "      <td>...</td>\n",
       "      <td>-250</td>\n",
       "      <td>-19</td>\n",
       "      <td>-576</td>\n",
       "      <td>10</td>\n",
       "      <td>10</td>\n",
       "      <td>165</td>\n",
       "      <td>1042</td>\n",
       "      <td>2498</td>\n",
       "      <td>0</td>\n",
       "      <td>0</td>\n",
       "    </tr>\n",
       "    <tr>\n",
       "      <th>16</th>\n",
       "      <td>2016-12-08 01:20</td>\n",
       "      <td>518</td>\n",
       "      <td>518</td>\n",
       "      <td>194</td>\n",
       "      <td>127</td>\n",
       "      <td>2818</td>\n",
       "      <td>756</td>\n",
       "      <td>-1532</td>\n",
       "      <td>-284</td>\n",
       "      <td>702</td>\n",
       "      <td>...</td>\n",
       "      <td>-250</td>\n",
       "      <td>-21</td>\n",
       "      <td>-585</td>\n",
       "      <td>10</td>\n",
       "      <td>8</td>\n",
       "      <td>166</td>\n",
       "      <td>1050</td>\n",
       "      <td>2524</td>\n",
       "      <td>0</td>\n",
       "      <td>0</td>\n",
       "    </tr>\n",
       "    <tr>\n",
       "      <th>17</th>\n",
       "      <td>2016-12-08 01:25</td>\n",
       "      <td>517</td>\n",
       "      <td>524</td>\n",
       "      <td>194</td>\n",
       "      <td>128</td>\n",
       "      <td>2802</td>\n",
       "      <td>760</td>\n",
       "      <td>-1530</td>\n",
       "      <td>-283</td>\n",
       "      <td>701</td>\n",
       "      <td>...</td>\n",
       "      <td>-250</td>\n",
       "      <td>-21</td>\n",
       "      <td>-586</td>\n",
       "      <td>10</td>\n",
       "      <td>9</td>\n",
       "      <td>167</td>\n",
       "      <td>1057</td>\n",
       "      <td>2506</td>\n",
       "      <td>0</td>\n",
       "      <td>0</td>\n",
       "    </tr>\n",
       "    <tr>\n",
       "      <th>18</th>\n",
       "      <td>2016-12-08 01:30</td>\n",
       "      <td>520</td>\n",
       "      <td>536</td>\n",
       "      <td>198</td>\n",
       "      <td>130</td>\n",
       "      <td>2819</td>\n",
       "      <td>766</td>\n",
       "      <td>-1531</td>\n",
       "      <td>-284</td>\n",
       "      <td>687</td>\n",
       "      <td>...</td>\n",
       "      <td>-250</td>\n",
       "      <td>-22</td>\n",
       "      <td>-586</td>\n",
       "      <td>10</td>\n",
       "      <td>8</td>\n",
       "      <td>169</td>\n",
       "      <td>1061</td>\n",
       "      <td>2523</td>\n",
       "      <td>0</td>\n",
       "      <td>0</td>\n",
       "    </tr>\n",
       "    <tr>\n",
       "      <th>19</th>\n",
       "      <td>2016-12-08 01:35</td>\n",
       "      <td>518</td>\n",
       "      <td>540</td>\n",
       "      <td>194</td>\n",
       "      <td>129</td>\n",
       "      <td>2813</td>\n",
       "      <td>770</td>\n",
       "      <td>-1532</td>\n",
       "      <td>-283</td>\n",
       "      <td>717</td>\n",
       "      <td>...</td>\n",
       "      <td>-250</td>\n",
       "      <td>-21</td>\n",
       "      <td>-586</td>\n",
       "      <td>10</td>\n",
       "      <td>10</td>\n",
       "      <td>169</td>\n",
       "      <td>1060</td>\n",
       "      <td>2523</td>\n",
       "      <td>0</td>\n",
       "      <td>0</td>\n",
       "    </tr>\n",
       "    <tr>\n",
       "      <th>20</th>\n",
       "      <td>2016-12-08 01:40</td>\n",
       "      <td>524</td>\n",
       "      <td>530</td>\n",
       "      <td>194</td>\n",
       "      <td>130</td>\n",
       "      <td>2823</td>\n",
       "      <td>767</td>\n",
       "      <td>-1531</td>\n",
       "      <td>-283</td>\n",
       "      <td>693</td>\n",
       "      <td>...</td>\n",
       "      <td>-250</td>\n",
       "      <td>-21</td>\n",
       "      <td>-586</td>\n",
       "      <td>10</td>\n",
       "      <td>9</td>\n",
       "      <td>168</td>\n",
       "      <td>1063</td>\n",
       "      <td>2527</td>\n",
       "      <td>0</td>\n",
       "      <td>0</td>\n",
       "    </tr>\n",
       "    <tr>\n",
       "      <th>21</th>\n",
       "      <td>2016-12-08 01:45</td>\n",
       "      <td>518</td>\n",
       "      <td>524</td>\n",
       "      <td>193</td>\n",
       "      <td>129</td>\n",
       "      <td>2830</td>\n",
       "      <td>768</td>\n",
       "      <td>-1532</td>\n",
       "      <td>-284</td>\n",
       "      <td>709</td>\n",
       "      <td>...</td>\n",
       "      <td>-250</td>\n",
       "      <td>-21</td>\n",
       "      <td>-586</td>\n",
       "      <td>10</td>\n",
       "      <td>8</td>\n",
       "      <td>166</td>\n",
       "      <td>1056</td>\n",
       "      <td>2542</td>\n",
       "      <td>0</td>\n",
       "      <td>0</td>\n",
       "    </tr>\n",
       "    <tr>\n",
       "      <th>22</th>\n",
       "      <td>2016-12-08 01:50</td>\n",
       "      <td>509</td>\n",
       "      <td>519</td>\n",
       "      <td>193</td>\n",
       "      <td>126</td>\n",
       "      <td>2864</td>\n",
       "      <td>766</td>\n",
       "      <td>-1531</td>\n",
       "      <td>-281</td>\n",
       "      <td>693</td>\n",
       "      <td>...</td>\n",
       "      <td>-250</td>\n",
       "      <td>-23</td>\n",
       "      <td>-587</td>\n",
       "      <td>10</td>\n",
       "      <td>9</td>\n",
       "      <td>163</td>\n",
       "      <td>1060</td>\n",
       "      <td>2569</td>\n",
       "      <td>0</td>\n",
       "      <td>0</td>\n",
       "    </tr>\n",
       "    <tr>\n",
       "      <th>23</th>\n",
       "      <td>2016-12-08 01:55</td>\n",
       "      <td>495</td>\n",
       "      <td>516</td>\n",
       "      <td>194</td>\n",
       "      <td>128</td>\n",
       "      <td>2846</td>\n",
       "      <td>764</td>\n",
       "      <td>-1531</td>\n",
       "      <td>-274</td>\n",
       "      <td>693</td>\n",
       "      <td>...</td>\n",
       "      <td>-250</td>\n",
       "      <td>-24</td>\n",
       "      <td>-586</td>\n",
       "      <td>10</td>\n",
       "      <td>10</td>\n",
       "      <td>162</td>\n",
       "      <td>1059</td>\n",
       "      <td>2551</td>\n",
       "      <td>0</td>\n",
       "      <td>0</td>\n",
       "    </tr>\n",
       "    <tr>\n",
       "      <th>24</th>\n",
       "      <td>2016-12-08 02:00</td>\n",
       "      <td>489</td>\n",
       "      <td>513</td>\n",
       "      <td>192</td>\n",
       "      <td>130</td>\n",
       "      <td>2852</td>\n",
       "      <td>761</td>\n",
       "      <td>-1532</td>\n",
       "      <td>-272</td>\n",
       "      <td>702</td>\n",
       "      <td>...</td>\n",
       "      <td>-342</td>\n",
       "      <td>-25</td>\n",
       "      <td>-586</td>\n",
       "      <td>10</td>\n",
       "      <td>9</td>\n",
       "      <td>160</td>\n",
       "      <td>1053</td>\n",
       "      <td>2560</td>\n",
       "      <td>0</td>\n",
       "      <td>0</td>\n",
       "    </tr>\n",
       "    <tr>\n",
       "      <th>25</th>\n",
       "      <td>2016-12-08 02:05</td>\n",
       "      <td>483</td>\n",
       "      <td>519</td>\n",
       "      <td>191</td>\n",
       "      <td>130</td>\n",
       "      <td>2823</td>\n",
       "      <td>760</td>\n",
       "      <td>-1531</td>\n",
       "      <td>-263</td>\n",
       "      <td>735</td>\n",
       "      <td>...</td>\n",
       "      <td>-440</td>\n",
       "      <td>-24</td>\n",
       "      <td>-586</td>\n",
       "      <td>10</td>\n",
       "      <td>9</td>\n",
       "      <td>162</td>\n",
       "      <td>1048</td>\n",
       "      <td>2534</td>\n",
       "      <td>0</td>\n",
       "      <td>0</td>\n",
       "    </tr>\n",
       "    <tr>\n",
       "      <th>26</th>\n",
       "      <td>2016-12-08 02:10</td>\n",
       "      <td>482</td>\n",
       "      <td>514</td>\n",
       "      <td>186</td>\n",
       "      <td>128</td>\n",
       "      <td>2721</td>\n",
       "      <td>767</td>\n",
       "      <td>-1532</td>\n",
       "      <td>-262</td>\n",
       "      <td>820</td>\n",
       "      <td>...</td>\n",
       "      <td>-440</td>\n",
       "      <td>-23</td>\n",
       "      <td>-586</td>\n",
       "      <td>10</td>\n",
       "      <td>11</td>\n",
       "      <td>164</td>\n",
       "      <td>1050</td>\n",
       "      <td>2438</td>\n",
       "      <td>0</td>\n",
       "      <td>0</td>\n",
       "    </tr>\n",
       "    <tr>\n",
       "      <th>27</th>\n",
       "      <td>2016-12-08 02:15</td>\n",
       "      <td>485</td>\n",
       "      <td>509</td>\n",
       "      <td>183</td>\n",
       "      <td>129</td>\n",
       "      <td>2708</td>\n",
       "      <td>768</td>\n",
       "      <td>-1532</td>\n",
       "      <td>-256</td>\n",
       "      <td>798</td>\n",
       "      <td>...</td>\n",
       "      <td>-440</td>\n",
       "      <td>-24</td>\n",
       "      <td>-586</td>\n",
       "      <td>10</td>\n",
       "      <td>8</td>\n",
       "      <td>164</td>\n",
       "      <td>1051</td>\n",
       "      <td>2425</td>\n",
       "      <td>0</td>\n",
       "      <td>0</td>\n",
       "    </tr>\n",
       "    <tr>\n",
       "      <th>28</th>\n",
       "      <td>2016-12-08 02:20</td>\n",
       "      <td>481</td>\n",
       "      <td>510</td>\n",
       "      <td>184</td>\n",
       "      <td>128</td>\n",
       "      <td>2708</td>\n",
       "      <td>777</td>\n",
       "      <td>-1532</td>\n",
       "      <td>-255</td>\n",
       "      <td>797</td>\n",
       "      <td>...</td>\n",
       "      <td>-440</td>\n",
       "      <td>-24</td>\n",
       "      <td>-586</td>\n",
       "      <td>10</td>\n",
       "      <td>9</td>\n",
       "      <td>164</td>\n",
       "      <td>1052</td>\n",
       "      <td>2433</td>\n",
       "      <td>0</td>\n",
       "      <td>0</td>\n",
       "    </tr>\n",
       "    <tr>\n",
       "      <th>29</th>\n",
       "      <td>2016-12-08 02:25</td>\n",
       "      <td>487</td>\n",
       "      <td>509</td>\n",
       "      <td>184</td>\n",
       "      <td>129</td>\n",
       "      <td>2671</td>\n",
       "      <td>781</td>\n",
       "      <td>-1531</td>\n",
       "      <td>-256</td>\n",
       "      <td>793</td>\n",
       "      <td>...</td>\n",
       "      <td>-440</td>\n",
       "      <td>-22</td>\n",
       "      <td>-586</td>\n",
       "      <td>10</td>\n",
       "      <td>9</td>\n",
       "      <td>165</td>\n",
       "      <td>1063</td>\n",
       "      <td>2389</td>\n",
       "      <td>0</td>\n",
       "      <td>0</td>\n",
       "    </tr>\n",
       "    <tr>\n",
       "      <th>...</th>\n",
       "      <td>...</td>\n",
       "      <td>...</td>\n",
       "      <td>...</td>\n",
       "      <td>...</td>\n",
       "      <td>...</td>\n",
       "      <td>...</td>\n",
       "      <td>...</td>\n",
       "      <td>...</td>\n",
       "      <td>...</td>\n",
       "      <td>...</td>\n",
       "      <td>...</td>\n",
       "      <td>...</td>\n",
       "      <td>...</td>\n",
       "      <td>...</td>\n",
       "      <td>...</td>\n",
       "      <td>...</td>\n",
       "      <td>...</td>\n",
       "      <td>...</td>\n",
       "      <td>...</td>\n",
       "      <td>...</td>\n",
       "      <td>...</td>\n",
       "    </tr>\n",
       "    <tr>\n",
       "      <th>258</th>\n",
       "      <td>2016-12-08 21:30</td>\n",
       "      <td>874</td>\n",
       "      <td>627</td>\n",
       "      <td>343</td>\n",
       "      <td>179</td>\n",
       "      <td>1321</td>\n",
       "      <td>565</td>\n",
       "      <td>79</td>\n",
       "      <td>-93</td>\n",
       "      <td>141</td>\n",
       "      <td>...</td>\n",
       "      <td>-585</td>\n",
       "      <td>-11</td>\n",
       "      <td>-402</td>\n",
       "      <td>8</td>\n",
       "      <td>7</td>\n",
       "      <td>300</td>\n",
       "      <td>785</td>\n",
       "      <td>1101</td>\n",
       "      <td>0</td>\n",
       "      <td>0</td>\n",
       "    </tr>\n",
       "    <tr>\n",
       "      <th>259</th>\n",
       "      <td>2016-12-08 21:35</td>\n",
       "      <td>872</td>\n",
       "      <td>625</td>\n",
       "      <td>343</td>\n",
       "      <td>178</td>\n",
       "      <td>1301</td>\n",
       "      <td>573</td>\n",
       "      <td>80</td>\n",
       "      <td>-93</td>\n",
       "      <td>135</td>\n",
       "      <td>...</td>\n",
       "      <td>-585</td>\n",
       "      <td>-12</td>\n",
       "      <td>-402</td>\n",
       "      <td>8</td>\n",
       "      <td>8</td>\n",
       "      <td>300</td>\n",
       "      <td>780</td>\n",
       "      <td>1094</td>\n",
       "      <td>0</td>\n",
       "      <td>0</td>\n",
       "    </tr>\n",
       "    <tr>\n",
       "      <th>260</th>\n",
       "      <td>2016-12-08 21:40</td>\n",
       "      <td>878</td>\n",
       "      <td>621</td>\n",
       "      <td>346</td>\n",
       "      <td>179</td>\n",
       "      <td>1287</td>\n",
       "      <td>553</td>\n",
       "      <td>80</td>\n",
       "      <td>-93</td>\n",
       "      <td>136</td>\n",
       "      <td>...</td>\n",
       "      <td>-585</td>\n",
       "      <td>-8</td>\n",
       "      <td>-402</td>\n",
       "      <td>8</td>\n",
       "      <td>8</td>\n",
       "      <td>303</td>\n",
       "      <td>768</td>\n",
       "      <td>1073</td>\n",
       "      <td>0</td>\n",
       "      <td>0</td>\n",
       "    </tr>\n",
       "    <tr>\n",
       "      <th>261</th>\n",
       "      <td>2016-12-08 21:45</td>\n",
       "      <td>880</td>\n",
       "      <td>624</td>\n",
       "      <td>344</td>\n",
       "      <td>176</td>\n",
       "      <td>1286</td>\n",
       "      <td>561</td>\n",
       "      <td>80</td>\n",
       "      <td>-92</td>\n",
       "      <td>144</td>\n",
       "      <td>...</td>\n",
       "      <td>-585</td>\n",
       "      <td>-7</td>\n",
       "      <td>-402</td>\n",
       "      <td>8</td>\n",
       "      <td>9</td>\n",
       "      <td>303</td>\n",
       "      <td>769</td>\n",
       "      <td>1077</td>\n",
       "      <td>0</td>\n",
       "      <td>0</td>\n",
       "    </tr>\n",
       "    <tr>\n",
       "      <th>262</th>\n",
       "      <td>2016-12-08 21:50</td>\n",
       "      <td>891</td>\n",
       "      <td>626</td>\n",
       "      <td>344</td>\n",
       "      <td>177</td>\n",
       "      <td>1294</td>\n",
       "      <td>585</td>\n",
       "      <td>7</td>\n",
       "      <td>-93</td>\n",
       "      <td>141</td>\n",
       "      <td>...</td>\n",
       "      <td>-585</td>\n",
       "      <td>-6</td>\n",
       "      <td>-355</td>\n",
       "      <td>8</td>\n",
       "      <td>7</td>\n",
       "      <td>301</td>\n",
       "      <td>794</td>\n",
       "      <td>1085</td>\n",
       "      <td>0</td>\n",
       "      <td>0</td>\n",
       "    </tr>\n",
       "    <tr>\n",
       "      <th>263</th>\n",
       "      <td>2016-12-08 21:55</td>\n",
       "      <td>892</td>\n",
       "      <td>626</td>\n",
       "      <td>344</td>\n",
       "      <td>175</td>\n",
       "      <td>1330</td>\n",
       "      <td>584</td>\n",
       "      <td>-63</td>\n",
       "      <td>-92</td>\n",
       "      <td>160</td>\n",
       "      <td>...</td>\n",
       "      <td>-450</td>\n",
       "      <td>-6</td>\n",
       "      <td>-306</td>\n",
       "      <td>8</td>\n",
       "      <td>10</td>\n",
       "      <td>300</td>\n",
       "      <td>819</td>\n",
       "      <td>1095</td>\n",
       "      <td>0</td>\n",
       "      <td>0</td>\n",
       "    </tr>\n",
       "    <tr>\n",
       "      <th>264</th>\n",
       "      <td>2016-12-08 22:00</td>\n",
       "      <td>904</td>\n",
       "      <td>624</td>\n",
       "      <td>345</td>\n",
       "      <td>173</td>\n",
       "      <td>1332</td>\n",
       "      <td>620</td>\n",
       "      <td>-172</td>\n",
       "      <td>-90</td>\n",
       "      <td>206</td>\n",
       "      <td>...</td>\n",
       "      <td>-312</td>\n",
       "      <td>-6</td>\n",
       "      <td>-257</td>\n",
       "      <td>8</td>\n",
       "      <td>8</td>\n",
       "      <td>298</td>\n",
       "      <td>833</td>\n",
       "      <td>1119</td>\n",
       "      <td>0</td>\n",
       "      <td>0</td>\n",
       "    </tr>\n",
       "    <tr>\n",
       "      <th>265</th>\n",
       "      <td>2016-12-08 22:05</td>\n",
       "      <td>885</td>\n",
       "      <td>619</td>\n",
       "      <td>343</td>\n",
       "      <td>173</td>\n",
       "      <td>1323</td>\n",
       "      <td>613</td>\n",
       "      <td>-319</td>\n",
       "      <td>-90</td>\n",
       "      <td>309</td>\n",
       "      <td>...</td>\n",
       "      <td>-173</td>\n",
       "      <td>-8</td>\n",
       "      <td>-209</td>\n",
       "      <td>8</td>\n",
       "      <td>9</td>\n",
       "      <td>297</td>\n",
       "      <td>820</td>\n",
       "      <td>1116</td>\n",
       "      <td>0</td>\n",
       "      <td>0</td>\n",
       "    </tr>\n",
       "    <tr>\n",
       "      <th>266</th>\n",
       "      <td>2016-12-08 22:10</td>\n",
       "      <td>855</td>\n",
       "      <td>623</td>\n",
       "      <td>336</td>\n",
       "      <td>174</td>\n",
       "      <td>1317</td>\n",
       "      <td>651</td>\n",
       "      <td>-446</td>\n",
       "      <td>-87</td>\n",
       "      <td>427</td>\n",
       "      <td>...</td>\n",
       "      <td>-35</td>\n",
       "      <td>-5</td>\n",
       "      <td>-160</td>\n",
       "      <td>8</td>\n",
       "      <td>8</td>\n",
       "      <td>293</td>\n",
       "      <td>845</td>\n",
       "      <td>1123</td>\n",
       "      <td>0</td>\n",
       "      <td>0</td>\n",
       "    </tr>\n",
       "    <tr>\n",
       "      <th>267</th>\n",
       "      <td>2016-12-08 22:15</td>\n",
       "      <td>855</td>\n",
       "      <td>624</td>\n",
       "      <td>332</td>\n",
       "      <td>174</td>\n",
       "      <td>1303</td>\n",
       "      <td>668</td>\n",
       "      <td>-517</td>\n",
       "      <td>-86</td>\n",
       "      <td>421</td>\n",
       "      <td>...</td>\n",
       "      <td>-33</td>\n",
       "      <td>-8</td>\n",
       "      <td>-111</td>\n",
       "      <td>8</td>\n",
       "      <td>10</td>\n",
       "      <td>293</td>\n",
       "      <td>877</td>\n",
       "      <td>1094</td>\n",
       "      <td>0</td>\n",
       "      <td>0</td>\n",
       "    </tr>\n",
       "    <tr>\n",
       "      <th>268</th>\n",
       "      <td>2016-12-08 22:20</td>\n",
       "      <td>849</td>\n",
       "      <td>621</td>\n",
       "      <td>333</td>\n",
       "      <td>174</td>\n",
       "      <td>1318</td>\n",
       "      <td>676</td>\n",
       "      <td>-520</td>\n",
       "      <td>-86</td>\n",
       "      <td>393</td>\n",
       "      <td>...</td>\n",
       "      <td>-33</td>\n",
       "      <td>-7</td>\n",
       "      <td>-110</td>\n",
       "      <td>8</td>\n",
       "      <td>7</td>\n",
       "      <td>290</td>\n",
       "      <td>884</td>\n",
       "      <td>1110</td>\n",
       "      <td>0</td>\n",
       "      <td>0</td>\n",
       "    </tr>\n",
       "    <tr>\n",
       "      <th>269</th>\n",
       "      <td>2016-12-08 22:25</td>\n",
       "      <td>852</td>\n",
       "      <td>623</td>\n",
       "      <td>331</td>\n",
       "      <td>173</td>\n",
       "      <td>1311</td>\n",
       "      <td>678</td>\n",
       "      <td>-518</td>\n",
       "      <td>-87</td>\n",
       "      <td>395</td>\n",
       "      <td>...</td>\n",
       "      <td>-33</td>\n",
       "      <td>-6</td>\n",
       "      <td>-110</td>\n",
       "      <td>8</td>\n",
       "      <td>7</td>\n",
       "      <td>291</td>\n",
       "      <td>882</td>\n",
       "      <td>1107</td>\n",
       "      <td>0</td>\n",
       "      <td>0</td>\n",
       "    </tr>\n",
       "    <tr>\n",
       "      <th>270</th>\n",
       "      <td>2016-12-08 22:30</td>\n",
       "      <td>816</td>\n",
       "      <td>615</td>\n",
       "      <td>331</td>\n",
       "      <td>172</td>\n",
       "      <td>1291</td>\n",
       "      <td>672</td>\n",
       "      <td>-519</td>\n",
       "      <td>-87</td>\n",
       "      <td>425</td>\n",
       "      <td>...</td>\n",
       "      <td>-33</td>\n",
       "      <td>-8</td>\n",
       "      <td>-110</td>\n",
       "      <td>8</td>\n",
       "      <td>8</td>\n",
       "      <td>288</td>\n",
       "      <td>865</td>\n",
       "      <td>1098</td>\n",
       "      <td>0</td>\n",
       "      <td>0</td>\n",
       "    </tr>\n",
       "    <tr>\n",
       "      <th>271</th>\n",
       "      <td>2016-12-08 22:35</td>\n",
       "      <td>770</td>\n",
       "      <td>600</td>\n",
       "      <td>333</td>\n",
       "      <td>173</td>\n",
       "      <td>1303</td>\n",
       "      <td>666</td>\n",
       "      <td>-519</td>\n",
       "      <td>-87</td>\n",
       "      <td>407</td>\n",
       "      <td>...</td>\n",
       "      <td>-33</td>\n",
       "      <td>-6</td>\n",
       "      <td>-110</td>\n",
       "      <td>8</td>\n",
       "      <td>7</td>\n",
       "      <td>281</td>\n",
       "      <td>879</td>\n",
       "      <td>1090</td>\n",
       "      <td>0</td>\n",
       "      <td>0</td>\n",
       "    </tr>\n",
       "    <tr>\n",
       "      <th>272</th>\n",
       "      <td>2016-12-08 22:40</td>\n",
       "      <td>748</td>\n",
       "      <td>591</td>\n",
       "      <td>330</td>\n",
       "      <td>175</td>\n",
       "      <td>1349</td>\n",
       "      <td>661</td>\n",
       "      <td>-520</td>\n",
       "      <td>-87</td>\n",
       "      <td>391</td>\n",
       "      <td>...</td>\n",
       "      <td>-33</td>\n",
       "      <td>-6</td>\n",
       "      <td>-110</td>\n",
       "      <td>8</td>\n",
       "      <td>7</td>\n",
       "      <td>274</td>\n",
       "      <td>887</td>\n",
       "      <td>1123</td>\n",
       "      <td>0</td>\n",
       "      <td>0</td>\n",
       "    </tr>\n",
       "    <tr>\n",
       "      <th>273</th>\n",
       "      <td>2016-12-08 22:45</td>\n",
       "      <td>742</td>\n",
       "      <td>591</td>\n",
       "      <td>331</td>\n",
       "      <td>173</td>\n",
       "      <td>1363</td>\n",
       "      <td>658</td>\n",
       "      <td>-519</td>\n",
       "      <td>-87</td>\n",
       "      <td>403</td>\n",
       "      <td>...</td>\n",
       "      <td>-33</td>\n",
       "      <td>-6</td>\n",
       "      <td>-111</td>\n",
       "      <td>8</td>\n",
       "      <td>9</td>\n",
       "      <td>273</td>\n",
       "      <td>891</td>\n",
       "      <td>1130</td>\n",
       "      <td>0</td>\n",
       "      <td>0</td>\n",
       "    </tr>\n",
       "    <tr>\n",
       "      <th>274</th>\n",
       "      <td>2016-12-08 22:50</td>\n",
       "      <td>750</td>\n",
       "      <td>594</td>\n",
       "      <td>329</td>\n",
       "      <td>175</td>\n",
       "      <td>1363</td>\n",
       "      <td>649</td>\n",
       "      <td>-572</td>\n",
       "      <td>-77</td>\n",
       "      <td>429</td>\n",
       "      <td>...</td>\n",
       "      <td>-33</td>\n",
       "      <td>-7</td>\n",
       "      <td>-127</td>\n",
       "      <td>8</td>\n",
       "      <td>8</td>\n",
       "      <td>274</td>\n",
       "      <td>888</td>\n",
       "      <td>1124</td>\n",
       "      <td>0</td>\n",
       "      <td>0</td>\n",
       "    </tr>\n",
       "    <tr>\n",
       "      <th>275</th>\n",
       "      <td>2016-12-08 22:55</td>\n",
       "      <td>826</td>\n",
       "      <td>599</td>\n",
       "      <td>327</td>\n",
       "      <td>174</td>\n",
       "      <td>1364</td>\n",
       "      <td>641</td>\n",
       "      <td>-624</td>\n",
       "      <td>-68</td>\n",
       "      <td>405</td>\n",
       "      <td>...</td>\n",
       "      <td>-33</td>\n",
       "      <td>-9</td>\n",
       "      <td>-146</td>\n",
       "      <td>8</td>\n",
       "      <td>9</td>\n",
       "      <td>284</td>\n",
       "      <td>882</td>\n",
       "      <td>1123</td>\n",
       "      <td>0</td>\n",
       "      <td>0</td>\n",
       "    </tr>\n",
       "    <tr>\n",
       "      <th>276</th>\n",
       "      <td>2016-12-08 23:00</td>\n",
       "      <td>891</td>\n",
       "      <td>605</td>\n",
       "      <td>327</td>\n",
       "      <td>175</td>\n",
       "      <td>1364</td>\n",
       "      <td>653</td>\n",
       "      <td>-749</td>\n",
       "      <td>-59</td>\n",
       "      <td>480</td>\n",
       "      <td>...</td>\n",
       "      <td>-169</td>\n",
       "      <td>-10</td>\n",
       "      <td>-165</td>\n",
       "      <td>8</td>\n",
       "      <td>9</td>\n",
       "      <td>292</td>\n",
       "      <td>881</td>\n",
       "      <td>1135</td>\n",
       "      <td>0</td>\n",
       "      <td>0</td>\n",
       "    </tr>\n",
       "    <tr>\n",
       "      <th>277</th>\n",
       "      <td>2016-12-08 23:05</td>\n",
       "      <td>870</td>\n",
       "      <td>614</td>\n",
       "      <td>329</td>\n",
       "      <td>177</td>\n",
       "      <td>1343</td>\n",
       "      <td>649</td>\n",
       "      <td>-876</td>\n",
       "      <td>77</td>\n",
       "      <td>494</td>\n",
       "      <td>...</td>\n",
       "      <td>-313</td>\n",
       "      <td>-10</td>\n",
       "      <td>-183</td>\n",
       "      <td>8</td>\n",
       "      <td>9</td>\n",
       "      <td>292</td>\n",
       "      <td>865</td>\n",
       "      <td>1126</td>\n",
       "      <td>0</td>\n",
       "      <td>0</td>\n",
       "    </tr>\n",
       "    <tr>\n",
       "      <th>278</th>\n",
       "      <td>2016-12-08 23:10</td>\n",
       "      <td>851</td>\n",
       "      <td>600</td>\n",
       "      <td>324</td>\n",
       "      <td>175</td>\n",
       "      <td>1337</td>\n",
       "      <td>655</td>\n",
       "      <td>-932</td>\n",
       "      <td>160</td>\n",
       "      <td>509</td>\n",
       "      <td>...</td>\n",
       "      <td>-316</td>\n",
       "      <td>-13</td>\n",
       "      <td>-201</td>\n",
       "      <td>8</td>\n",
       "      <td>6</td>\n",
       "      <td>287</td>\n",
       "      <td>856</td>\n",
       "      <td>1137</td>\n",
       "      <td>0</td>\n",
       "      <td>0</td>\n",
       "    </tr>\n",
       "    <tr>\n",
       "      <th>279</th>\n",
       "      <td>2016-12-08 23:15</td>\n",
       "      <td>851</td>\n",
       "      <td>604</td>\n",
       "      <td>322</td>\n",
       "      <td>177</td>\n",
       "      <td>1341</td>\n",
       "      <td>660</td>\n",
       "      <td>-984</td>\n",
       "      <td>187</td>\n",
       "      <td>529</td>\n",
       "      <td>...</td>\n",
       "      <td>-316</td>\n",
       "      <td>-14</td>\n",
       "      <td>-219</td>\n",
       "      <td>8</td>\n",
       "      <td>7</td>\n",
       "      <td>287</td>\n",
       "      <td>849</td>\n",
       "      <td>1152</td>\n",
       "      <td>0</td>\n",
       "      <td>0</td>\n",
       "    </tr>\n",
       "    <tr>\n",
       "      <th>280</th>\n",
       "      <td>2016-12-08 23:20</td>\n",
       "      <td>845</td>\n",
       "      <td>610</td>\n",
       "      <td>323</td>\n",
       "      <td>180</td>\n",
       "      <td>1359</td>\n",
       "      <td>665</td>\n",
       "      <td>-983</td>\n",
       "      <td>188</td>\n",
       "      <td>505</td>\n",
       "      <td>...</td>\n",
       "      <td>-316</td>\n",
       "      <td>-13</td>\n",
       "      <td>-219</td>\n",
       "      <td>8</td>\n",
       "      <td>7</td>\n",
       "      <td>287</td>\n",
       "      <td>853</td>\n",
       "      <td>1171</td>\n",
       "      <td>0</td>\n",
       "      <td>0</td>\n",
       "    </tr>\n",
       "    <tr>\n",
       "      <th>281</th>\n",
       "      <td>2016-12-08 23:25</td>\n",
       "      <td>849</td>\n",
       "      <td>615</td>\n",
       "      <td>324</td>\n",
       "      <td>181</td>\n",
       "      <td>1347</td>\n",
       "      <td>659</td>\n",
       "      <td>-983</td>\n",
       "      <td>188</td>\n",
       "      <td>514</td>\n",
       "      <td>...</td>\n",
       "      <td>-316</td>\n",
       "      <td>-12</td>\n",
       "      <td>-219</td>\n",
       "      <td>8</td>\n",
       "      <td>7</td>\n",
       "      <td>289</td>\n",
       "      <td>856</td>\n",
       "      <td>1150</td>\n",
       "      <td>0</td>\n",
       "      <td>0</td>\n",
       "    </tr>\n",
       "    <tr>\n",
       "      <th>282</th>\n",
       "      <td>2016-12-08 23:30</td>\n",
       "      <td>847</td>\n",
       "      <td>616</td>\n",
       "      <td>322</td>\n",
       "      <td>180</td>\n",
       "      <td>1319</td>\n",
       "      <td>650</td>\n",
       "      <td>-984</td>\n",
       "      <td>189</td>\n",
       "      <td>520</td>\n",
       "      <td>...</td>\n",
       "      <td>-316</td>\n",
       "      <td>-12</td>\n",
       "      <td>-219</td>\n",
       "      <td>8</td>\n",
       "      <td>7</td>\n",
       "      <td>292</td>\n",
       "      <td>849</td>\n",
       "      <td>1121</td>\n",
       "      <td>0</td>\n",
       "      <td>0</td>\n",
       "    </tr>\n",
       "    <tr>\n",
       "      <th>283</th>\n",
       "      <td>2016-12-08 23:35</td>\n",
       "      <td>844</td>\n",
       "      <td>616</td>\n",
       "      <td>322</td>\n",
       "      <td>181</td>\n",
       "      <td>1324</td>\n",
       "      <td>648</td>\n",
       "      <td>-983</td>\n",
       "      <td>189</td>\n",
       "      <td>521</td>\n",
       "      <td>...</td>\n",
       "      <td>-316</td>\n",
       "      <td>-14</td>\n",
       "      <td>-219</td>\n",
       "      <td>8</td>\n",
       "      <td>7</td>\n",
       "      <td>292</td>\n",
       "      <td>856</td>\n",
       "      <td>1116</td>\n",
       "      <td>0</td>\n",
       "      <td>0</td>\n",
       "    </tr>\n",
       "    <tr>\n",
       "      <th>284</th>\n",
       "      <td>2016-12-08 23:40</td>\n",
       "      <td>848</td>\n",
       "      <td>615</td>\n",
       "      <td>324</td>\n",
       "      <td>182</td>\n",
       "      <td>1310</td>\n",
       "      <td>636</td>\n",
       "      <td>-984</td>\n",
       "      <td>189</td>\n",
       "      <td>511</td>\n",
       "      <td>...</td>\n",
       "      <td>-316</td>\n",
       "      <td>-15</td>\n",
       "      <td>-219</td>\n",
       "      <td>8</td>\n",
       "      <td>10</td>\n",
       "      <td>294</td>\n",
       "      <td>842</td>\n",
       "      <td>1104</td>\n",
       "      <td>0</td>\n",
       "      <td>0</td>\n",
       "    </tr>\n",
       "    <tr>\n",
       "      <th>285</th>\n",
       "      <td>2016-12-08 23:45</td>\n",
       "      <td>848</td>\n",
       "      <td>613</td>\n",
       "      <td>322</td>\n",
       "      <td>179</td>\n",
       "      <td>1297</td>\n",
       "      <td>600</td>\n",
       "      <td>-986</td>\n",
       "      <td>150</td>\n",
       "      <td>550</td>\n",
       "      <td>...</td>\n",
       "      <td>-316</td>\n",
       "      <td>-15</td>\n",
       "      <td>-220</td>\n",
       "      <td>8</td>\n",
       "      <td>7</td>\n",
       "      <td>297</td>\n",
       "      <td>807</td>\n",
       "      <td>1090</td>\n",
       "      <td>0</td>\n",
       "      <td>0</td>\n",
       "    </tr>\n",
       "    <tr>\n",
       "      <th>286</th>\n",
       "      <td>2016-12-08 23:50</td>\n",
       "      <td>859</td>\n",
       "      <td>613</td>\n",
       "      <td>322</td>\n",
       "      <td>181</td>\n",
       "      <td>1300</td>\n",
       "      <td>592</td>\n",
       "      <td>-1004</td>\n",
       "      <td>146</td>\n",
       "      <td>516</td>\n",
       "      <td>...</td>\n",
       "      <td>-316</td>\n",
       "      <td>-14</td>\n",
       "      <td>-181</td>\n",
       "      <td>8</td>\n",
       "      <td>6</td>\n",
       "      <td>299</td>\n",
       "      <td>801</td>\n",
       "      <td>1091</td>\n",
       "      <td>0</td>\n",
       "      <td>0</td>\n",
       "    </tr>\n",
       "    <tr>\n",
       "      <th>287</th>\n",
       "      <td>2016-12-08 23:55</td>\n",
       "      <td>861</td>\n",
       "      <td>612</td>\n",
       "      <td>322</td>\n",
       "      <td>179</td>\n",
       "      <td>1308</td>\n",
       "      <td>580</td>\n",
       "      <td>-1020</td>\n",
       "      <td>261</td>\n",
       "      <td>416</td>\n",
       "      <td>...</td>\n",
       "      <td>-316</td>\n",
       "      <td>-11</td>\n",
       "      <td>-143</td>\n",
       "      <td>8</td>\n",
       "      <td>9</td>\n",
       "      <td>299</td>\n",
       "      <td>794</td>\n",
       "      <td>1094</td>\n",
       "      <td>0</td>\n",
       "      <td>0</td>\n",
       "    </tr>\n",
       "  </tbody>\n",
       "</table>\n",
       "<p>288 rows × 21 columns</p>\n",
       "</div>"
      ],
      "text/plain": [
       "     Dato og tid         1    2    3    4     5    6     7    8    9  ...   \\\n",
       "0    2016-12-08 00:00   599  587  270  139  2721  733 -1527 -338  554 ...    \n",
       "1    2016-12-08 00:05   557  583  271  126  2757  732 -1508 -330  505 ...    \n",
       "2    2016-12-08 00:10   527  590  241  117  2746  742 -1516 -322  473 ...    \n",
       "3    2016-12-08 00:15   512  577  213  116  2750  741 -1518 -314  483 ...    \n",
       "4    2016-12-08 00:20   492  568  198  115  2759  749 -1520 -313  503 ...    \n",
       "5    2016-12-08 00:25   480  549  198  115  2750  745 -1519 -314  529 ...    \n",
       "6    2016-12-08 00:30   483  540  198  115  2736  741 -1520 -315  502 ...    \n",
       "7    2016-12-08 00:35   485  540  195  116  2736  743 -1522 -314  509 ...    \n",
       "8    2016-12-08 00:40   485  536  194  117  2733  742 -1522 -315  507 ...    \n",
       "9    2016-12-08 00:45   479  528  194  117  2729  742 -1521 -314  511 ...    \n",
       "10   2016-12-08 00:50   480  519  193  117  2738  750 -1521 -310  525 ...    \n",
       "11   2016-12-08 00:55   475  521  192  119  2744  742 -1526 -304  530 ...    \n",
       "12   2016-12-08 01:00   481  522  195  120  2771  740 -1523 -300  552 ...    \n",
       "13   2016-12-08 01:05   500  520  198  119  2768  739 -1525 -293  659 ...    \n",
       "14   2016-12-08 01:10   508  511  195  117  2772  745 -1527 -289  711 ...    \n",
       "15   2016-12-08 01:15   516  510  197  123  2797  743 -1531 -284  736 ...    \n",
       "16   2016-12-08 01:20   518  518  194  127  2818  756 -1532 -284  702 ...    \n",
       "17   2016-12-08 01:25   517  524  194  128  2802  760 -1530 -283  701 ...    \n",
       "18   2016-12-08 01:30   520  536  198  130  2819  766 -1531 -284  687 ...    \n",
       "19   2016-12-08 01:35   518  540  194  129  2813  770 -1532 -283  717 ...    \n",
       "20   2016-12-08 01:40   524  530  194  130  2823  767 -1531 -283  693 ...    \n",
       "21   2016-12-08 01:45   518  524  193  129  2830  768 -1532 -284  709 ...    \n",
       "22   2016-12-08 01:50   509  519  193  126  2864  766 -1531 -281  693 ...    \n",
       "23   2016-12-08 01:55   495  516  194  128  2846  764 -1531 -274  693 ...    \n",
       "24   2016-12-08 02:00   489  513  192  130  2852  761 -1532 -272  702 ...    \n",
       "25   2016-12-08 02:05   483  519  191  130  2823  760 -1531 -263  735 ...    \n",
       "26   2016-12-08 02:10   482  514  186  128  2721  767 -1532 -262  820 ...    \n",
       "27   2016-12-08 02:15   485  509  183  129  2708  768 -1532 -256  798 ...    \n",
       "28   2016-12-08 02:20   481  510  184  128  2708  777 -1532 -255  797 ...    \n",
       "29   2016-12-08 02:25   487  509  184  129  2671  781 -1531 -256  793 ...    \n",
       "..                 ...  ...  ...  ...  ...   ...  ...   ...  ...  ... ...    \n",
       "258  2016-12-08 21:30   874  627  343  179  1321  565    79  -93  141 ...    \n",
       "259  2016-12-08 21:35   872  625  343  178  1301  573    80  -93  135 ...    \n",
       "260  2016-12-08 21:40   878  621  346  179  1287  553    80  -93  136 ...    \n",
       "261  2016-12-08 21:45   880  624  344  176  1286  561    80  -92  144 ...    \n",
       "262  2016-12-08 21:50   891  626  344  177  1294  585     7  -93  141 ...    \n",
       "263  2016-12-08 21:55   892  626  344  175  1330  584   -63  -92  160 ...    \n",
       "264  2016-12-08 22:00   904  624  345  173  1332  620  -172  -90  206 ...    \n",
       "265  2016-12-08 22:05   885  619  343  173  1323  613  -319  -90  309 ...    \n",
       "266  2016-12-08 22:10   855  623  336  174  1317  651  -446  -87  427 ...    \n",
       "267  2016-12-08 22:15   855  624  332  174  1303  668  -517  -86  421 ...    \n",
       "268  2016-12-08 22:20   849  621  333  174  1318  676  -520  -86  393 ...    \n",
       "269  2016-12-08 22:25   852  623  331  173  1311  678  -518  -87  395 ...    \n",
       "270  2016-12-08 22:30   816  615  331  172  1291  672  -519  -87  425 ...    \n",
       "271  2016-12-08 22:35   770  600  333  173  1303  666  -519  -87  407 ...    \n",
       "272  2016-12-08 22:40   748  591  330  175  1349  661  -520  -87  391 ...    \n",
       "273  2016-12-08 22:45   742  591  331  173  1363  658  -519  -87  403 ...    \n",
       "274  2016-12-08 22:50   750  594  329  175  1363  649  -572  -77  429 ...    \n",
       "275  2016-12-08 22:55   826  599  327  174  1364  641  -624  -68  405 ...    \n",
       "276  2016-12-08 23:00   891  605  327  175  1364  653  -749  -59  480 ...    \n",
       "277  2016-12-08 23:05   870  614  329  177  1343  649  -876   77  494 ...    \n",
       "278  2016-12-08 23:10   851  600  324  175  1337  655  -932  160  509 ...    \n",
       "279  2016-12-08 23:15   851  604  322  177  1341  660  -984  187  529 ...    \n",
       "280  2016-12-08 23:20   845  610  323  180  1359  665  -983  188  505 ...    \n",
       "281  2016-12-08 23:25   849  615  324  181  1347  659  -983  188  514 ...    \n",
       "282  2016-12-08 23:30   847  616  322  180  1319  650  -984  189  520 ...    \n",
       "283  2016-12-08 23:35   844  616  322  181  1324  648  -983  189  521 ...    \n",
       "284  2016-12-08 23:40   848  615  324  182  1310  636  -984  189  511 ...    \n",
       "285  2016-12-08 23:45   848  613  322  179  1297  600  -986  150  550 ...    \n",
       "286  2016-12-08 23:50   859  613  322  181  1300  592 -1004  146  516 ...    \n",
       "287  2016-12-08 23:55   861  612  322  179  1308  580 -1020  261  416 ...    \n",
       "\n",
       "     11   12   13   14   15   16    17    18   19   20   \n",
       "0    113  -18 -381   10    9  190  1060  2394    0    0  \n",
       "1    247  -17 -318   10   11  184  1058  2430    0    0  \n",
       "2    304  -19 -256   10   11  180  1061  2427    0    0  \n",
       "3    304  -18 -193   10    9  175  1060  2431    0    0  \n",
       "4    304  -18 -192   10    8  170  1060  2448    0    0  \n",
       "5    304  -18 -230   10    9  166  1063  2431    0    0  \n",
       "6    304  -19 -231   10    8  166  1060  2418    0    0  \n",
       "7    304  -19 -231   10    9  166  1063  2416    0    0  \n",
       "8    304  -18 -231   10    9  165  1061  2415    0    0  \n",
       "9    304  -18 -231   10    9  164  1064  2407    0    0  \n",
       "10   304  -17 -293   10    9  163  1066  2422    0    0  \n",
       "11   169  -19 -357   10    9  162  1062  2424    0    0  \n",
       "12    30  -20 -383   10    8  163  1061  2450    0    0  \n",
       "13  -109  -19 -448   10    9  165  1058  2449    0    0  \n",
       "14  -246  -21 -511   10    7  164  1049  2468    0    0  \n",
       "15  -250  -19 -576   10   10  165  1042  2498    0    0  \n",
       "16  -250  -21 -585   10    8  166  1050  2524    0    0  \n",
       "17  -250  -21 -586   10    9  167  1057  2506    0    0  \n",
       "18  -250  -22 -586   10    8  169  1061  2523    0    0  \n",
       "19  -250  -21 -586   10   10  169  1060  2523    0    0  \n",
       "20  -250  -21 -586   10    9  168  1063  2527    0    0  \n",
       "21  -250  -21 -586   10    8  166  1056  2542    0    0  \n",
       "22  -250  -23 -587   10    9  163  1060  2569    0    0  \n",
       "23  -250  -24 -586   10   10  162  1059  2551    0    0  \n",
       "24  -342  -25 -586   10    9  160  1053  2560    0    0  \n",
       "25  -440  -24 -586   10    9  162  1048  2534    0    0  \n",
       "26  -440  -23 -586   10   11  164  1050  2438    0    0  \n",
       "27  -440  -24 -586   10    8  164  1051  2425    0    0  \n",
       "28  -440  -24 -586   10    9  164  1052  2433    0    0  \n",
       "29  -440  -22 -586   10    9  165  1063  2389    0    0  \n",
       "..   ...  ...  ...  ...  ...  ...   ...   ...  ...  ...  \n",
       "258 -585  -11 -402    8    7  300   785  1101    0    0  \n",
       "259 -585  -12 -402    8    8  300   780  1094    0    0  \n",
       "260 -585   -8 -402    8    8  303   768  1073    0    0  \n",
       "261 -585   -7 -402    8    9  303   769  1077    0    0  \n",
       "262 -585   -6 -355    8    7  301   794  1085    0    0  \n",
       "263 -450   -6 -306    8   10  300   819  1095    0    0  \n",
       "264 -312   -6 -257    8    8  298   833  1119    0    0  \n",
       "265 -173   -8 -209    8    9  297   820  1116    0    0  \n",
       "266  -35   -5 -160    8    8  293   845  1123    0    0  \n",
       "267  -33   -8 -111    8   10  293   877  1094    0    0  \n",
       "268  -33   -7 -110    8    7  290   884  1110    0    0  \n",
       "269  -33   -6 -110    8    7  291   882  1107    0    0  \n",
       "270  -33   -8 -110    8    8  288   865  1098    0    0  \n",
       "271  -33   -6 -110    8    7  281   879  1090    0    0  \n",
       "272  -33   -6 -110    8    7  274   887  1123    0    0  \n",
       "273  -33   -6 -111    8    9  273   891  1130    0    0  \n",
       "274  -33   -7 -127    8    8  274   888  1124    0    0  \n",
       "275  -33   -9 -146    8    9  284   882  1123    0    0  \n",
       "276 -169  -10 -165    8    9  292   881  1135    0    0  \n",
       "277 -313  -10 -183    8    9  292   865  1126    0    0  \n",
       "278 -316  -13 -201    8    6  287   856  1137    0    0  \n",
       "279 -316  -14 -219    8    7  287   849  1152    0    0  \n",
       "280 -316  -13 -219    8    7  287   853  1171    0    0  \n",
       "281 -316  -12 -219    8    7  289   856  1150    0    0  \n",
       "282 -316  -12 -219    8    7  292   849  1121    0    0  \n",
       "283 -316  -14 -219    8    7  292   856  1116    0    0  \n",
       "284 -316  -15 -219    8   10  294   842  1104    0    0  \n",
       "285 -316  -15 -220    8    7  297   807  1090    0    0  \n",
       "286 -316  -14 -181    8    6  299   801  1091    0    0  \n",
       "287 -316  -11 -143    8    9  299   794  1094    0    0  \n",
       "\n",
       "[288 rows x 21 columns]"
      ]
     },
     "execution_count": 24,
     "metadata": {},
     "output_type": "execute_result"
    }
   ],
   "source": [
    "with open('/Users/alehmann/Downloads/SWE2017-master/20161208_onlinedata.txt','r',encoding='8859') as f:\n",
    "    l = f.readline()\n",
    "    while l:\n",
    "        l = f.readline().strip()\n",
    "        \n",
    "    frame = pd.read_csv(f,sep=';',skipinitialspace=True,lineterminator ='\\n',infer_datetime_format=True,\n",
    "            header=0)\n",
    "    \n",
    "frame = frame.drop(frame.columns[-1],1)\n",
    "frame"
   ]
  },
  {
   "cell_type": "code",
   "execution_count": null,
   "metadata": {
    "collapsed": true
   },
   "outputs": [],
   "source": []
  }
 ],
 "metadata": {
  "kernelspec": {
   "display_name": "Python 3",
   "language": "python",
   "name": "python3"
  },
  "language_info": {
   "codemirror_mode": {
    "name": "ipython",
    "version": 3
   },
   "file_extension": ".py",
   "mimetype": "text/x-python",
   "name": "python",
   "nbconvert_exporter": "python",
   "pygments_lexer": "ipython3",
   "version": "3.6.0"
  }
 },
 "nbformat": 4,
 "nbformat_minor": 2
}
