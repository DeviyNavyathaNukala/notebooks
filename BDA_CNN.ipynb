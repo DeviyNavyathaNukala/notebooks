{
 "cells": [
  {
   "cell_type": "code",
   "execution_count": 27,
   "metadata": {},
   "outputs": [],
   "source": [
    "import keras\n",
    "from keras.models import Sequential\n",
    "from keras.layers import Conv2D,MaxPooling2D,Dense,Flatten\n",
    "from keras.datasets import mnist,fashion_mnist\n",
    "import keras.backend as be"
   ]
  },
  {
   "cell_type": "code",
   "execution_count": 44,
   "metadata": {},
   "outputs": [],
   "source": [
    "num_classes = 10\n",
    "\n",
    "(x_train,y_train),(x_test,y_test) = mnist.load_data()\n",
    "\n",
    "if be.image_data_format() == \"channels_first\":\n",
    "    x_train = x_train.reshape(x_train.shape[0],1,28,28)\n",
    "    x_test = x_test.reshape(x_test.shape[0],1,28,28)\n",
    "    shape = (1,28,28)\n",
    "else:\n",
    "    x_train = x_train.reshape(x_train.shape[0],28,28,1)\n",
    "    x_test = x_test.reshape(x_test.shape[0],28,28,1)\n",
    "    shape = (28,28,1)\n",
    "\n",
    "x_train = x_train/255.\n",
    "x_test = x_test/255.\n",
    "\n",
    "y_train = keras.utils.to_categorical(y_train,num_classes)\n",
    "y_test = keras.utils.to_categorical(y_test,num_classes)\n",
    "\n"
   ]
  },
  {
   "cell_type": "code",
   "execution_count": 45,
   "metadata": {},
   "outputs": [],
   "source": [
    "model = Sequential()\n",
    "inp = Conv2D(64,activation=\"relu\",kernel_size=(3,3),\n",
    "            input_shape=shape)\n",
    "model.add(inp)\n",
    "pool = MaxPooling2D(pool_size=(2, 2))\n",
    "model.add(pool)\n",
    "hid1 = Conv2D(64,activation=\"relu\",kernel_size=(3,3))\n",
    "model.add(hid1)\n",
    "pool = MaxPooling2D(pool_size=(2, 2))\n",
    "model.add(pool)\n",
    "model.add(Flatten())\n",
    "out = Dense(num_classes,activation=\"softmax\")\n",
    "model.add(out)"
   ]
  },
  {
   "cell_type": "code",
   "execution_count": 46,
   "metadata": {},
   "outputs": [
    {
     "name": "stdout",
     "output_type": "stream",
     "text": [
      "Epoch 1/10\n",
      "60000/60000 [==============================] - 51s 858us/step - loss: 1.4860 - acc: 0.6081\n",
      "Epoch 2/10\n",
      "60000/60000 [==============================] - 49s 808us/step - loss: 0.3813 - acc: 0.8892\n",
      "Epoch 3/10\n",
      "60000/60000 [==============================] - 49s 819us/step - loss: 0.2865 - acc: 0.9157\n",
      "Epoch 4/10\n",
      "60000/60000 [==============================] - 50s 840us/step - loss: 0.2316 - acc: 0.9316\n",
      "Epoch 5/10\n",
      "60000/60000 [==============================] - 49s 817us/step - loss: 0.1931 - acc: 0.9430\n",
      "Epoch 6/10\n",
      "60000/60000 [==============================] - 48s 804us/step - loss: 0.1657 - acc: 0.9512\n",
      "Epoch 7/10\n",
      "60000/60000 [==============================] - 49s 810us/step - loss: 0.1456 - acc: 0.9577\n",
      "Epoch 8/10\n",
      "60000/60000 [==============================] - 48s 806us/step - loss: 0.1320 - acc: 0.9617\n",
      "Epoch 9/10\n",
      "60000/60000 [==============================] - 48s 805us/step - loss: 0.1206 - acc: 0.9652\n",
      "Epoch 10/10\n",
      "60000/60000 [==============================] - 48s 804us/step - loss: 0.1116 - acc: 0.9678\n"
     ]
    },
    {
     "data": {
      "text/plain": [
       "<keras.callbacks.History at 0x12389b048>"
      ]
     },
     "execution_count": 46,
     "metadata": {},
     "output_type": "execute_result"
    }
   ],
   "source": [
    "model.compile(optimizer=\"SGD\",loss=\"categorical_crossentropy\",\n",
    "                metrics=[\"accuracy\"])\n",
    "model.fit(x_train,y_train,epochs=10,batch_size=128)\n",
    "\n"
   ]
  },
  {
   "cell_type": "code",
   "execution_count": 43,
   "metadata": {},
   "outputs": [
    {
     "name": "stdout",
     "output_type": "stream",
     "text": [
      "10000/10000 [==============================] - 3s 285us/step\n",
      "[0.50772554800510405, 0.81089999999999995]\n"
     ]
    }
   ],
   "source": [
    "print(model.evaluate(x_test,y_test))"
   ]
  },
  {
   "cell_type": "code",
   "execution_count": 23,
   "metadata": {},
   "outputs": [
    {
     "name": "stdout",
     "output_type": "stream",
     "text": [
      "Downloading data from https://s3.amazonaws.com/keras-datasets/boston_housing.npz\n",
      "57344/57026 [==============================] - 1s 10us/step\n"
     ]
    }
   ],
   "source": [
    "from keras.datasets import boston_housing\n",
    "\n",
    "(x_train, y_train), (x_test, y_test) = boston_housing.load_data()"
   ]
  },
  {
   "cell_type": "code",
   "execution_count": 25,
   "metadata": {},
   "outputs": [
    {
     "data": {
      "text/plain": [
       "(102, 13)"
      ]
     },
     "execution_count": 25,
     "metadata": {},
     "output_type": "execute_result"
    }
   ],
   "source": [
    "x_test.shape"
   ]
  },
  {
   "cell_type": "code",
   "execution_count": null,
   "metadata": {},
   "outputs": [],
   "source": []
  }
 ],
 "metadata": {
  "kernelspec": {
   "display_name": "Python 3",
   "language": "python",
   "name": "python3"
  },
  "language_info": {
   "codemirror_mode": {
    "name": "ipython",
    "version": 3
   },
   "file_extension": ".py",
   "mimetype": "text/x-python",
   "name": "python",
   "nbconvert_exporter": "python",
   "pygments_lexer": "ipython3",
   "version": "3.6.3"
  }
 },
 "nbformat": 4,
 "nbformat_minor": 2
}
