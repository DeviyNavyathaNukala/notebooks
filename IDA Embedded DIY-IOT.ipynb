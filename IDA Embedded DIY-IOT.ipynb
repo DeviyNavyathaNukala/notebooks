{
 "cells": [
  {
   "cell_type": "code",
   "execution_count": 1,
   "metadata": {
    "collapsed": false
   },
   "outputs": [
    {
     "name": "stdout",
     "output_type": "stream",
     "text": [
      "Populating the interactive namespace from numpy and matplotlib\n"
     ]
    }
   ],
   "source": [
    "%pylab inline"
   ]
  },
  {
   "cell_type": "code",
   "execution_count": 2,
   "metadata": {
    "collapsed": false
   },
   "outputs": [],
   "source": [
    "import socket as sc\n",
    "import struct"
   ]
  },
  {
   "cell_type": "code",
   "execution_count": 5,
   "metadata": {
    "collapsed": false
   },
   "outputs": [],
   "source": [
    "s = sc.socket(sc.AF_INET, sc.SOCK_DGRAM)\n",
    "s.bind(('192.168.1.131',12345))"
   ]
  },
  {
   "cell_type": "code",
   "execution_count": 8,
   "metadata": {
    "collapsed": false,
    "scrolled": true
   },
   "outputs": [
    {
     "name": "stdout",
     "output_type": "stream",
     "text": [
      "0.12628172338\n",
      "0.646360099316\n",
      "0.614464223385\n",
      "0.232507884502\n",
      "0.338338971138\n",
      "0.242925465107\n",
      "0.241069674492\n",
      "0.25105381012\n",
      "0.974959969521\n",
      "0.595519781113\n",
      "0.434066742659\n",
      "0.970393896103\n",
      "0.838308572769\n",
      "0.312740236521\n",
      "0.236413151026\n",
      "0.479292094707\n",
      "0.14018894732\n",
      "0.796960115433\n",
      "0.217092916369\n",
      "0.41437715292\n",
      "0.856363296509\n",
      "0.219250753522\n",
      "0.788528800011\n",
      "0.417938381433\n",
      "0.153130680323\n",
      "0.418742060661\n",
      "0.528457343578\n",
      "0.824053943157\n",
      "0.313671588898\n",
      "0.719738602638\n",
      "0.476398617029\n",
      "0.720200002193\n",
      "0.296349167824\n",
      "0.173660814762\n",
      "0.0404096618295\n",
      "0.439763903618\n",
      "0.773915946484\n",
      "0.929415106773\n",
      "0.241248726845\n",
      "0.195770576596\n",
      "0.157631650567\n",
      "0.394567549229\n",
      "0.719236016273\n",
      "0.323708295822\n",
      "0.896059215069\n",
      "0.295604228973\n",
      "0.0572856515646\n",
      "0.356471002102\n",
      "0.619441688061\n"
     ]
    }
   ],
   "source": [
    "import numpy as np\n",
    "from numpy import pi\n",
    "\n",
    "from bokeh.client.session import ClientSession\n",
    "from bokeh.client import push_session\n",
    "from bokeh.driving import cosine\n",
    "from bokeh.plotting import figure, curdoc\n",
    "\n",
    "curdoc().clear()\n",
    "N = 80\n",
    "x = np.linspace(0, 4*pi, N)\n",
    "y = sin(x) #np.zeros(N)#\n",
    "\n",
    "p = figure()\n",
    "r1 = p.line([0, 4*pi], [-1, 1], color=\"firebrick\")\n",
    "r2 = p.line(x, y, color=\"navy\", line_width=4)\n",
    "\n",
    "# open a session to keep our local document in sync with server\n",
    "session = ClientSession(session_id='My_new_plot')\n",
    "session.push(curdoc())\n",
    "\n",
    "@cosine(w=0.03)\n",
    "def update(step):\n",
    "    r2.data_source.data[\"y\"] = y * step\n",
    "    r2.glyph.line_alpha = 1 - 0.8 * abs(step)\n",
    "\n",
    "curdoc().add_periodic_callback(update, 50)\n",
    "\n",
    "session.show() # open the document in a browser\n",
    "\n",
    "session.loop_until_closed() # run forever"
   ]
  },
  {
   "cell_type": "code",
   "execution_count": 4,
   "metadata": {
    "collapsed": false
   },
   "outputs": [],
   "source": [
    "N = 80\n",
    "x = np.linspace(0,1,num=N)"
   ]
  },
  {
   "cell_type": "code",
   "execution_count": 5,
   "metadata": {
    "collapsed": true
   },
   "outputs": [],
   "source": [
    "from bokeh.plotting import figure, curdoc\n",
    "from bokeh.client.session import ClientSession\n",
    "import select\n",
    "s.setblocking(0)"
   ]
  },
  {
   "cell_type": "code",
   "execution_count": null,
   "metadata": {
    "collapsed": false
   },
   "outputs": [
    {
     "name": "stdout",
     "output_type": "stream",
     "text": [
      "0.950255334377\n",
      "0.880019068718\n",
      "0.321687161922\n",
      "0.689371287823\n",
      "0.126062631607\n",
      "0.649521052837\n",
      "0.0118038095534\n",
      "0.309299647808\n",
      "0.0483309552073\n",
      "0.0925399810076\n",
      "0.256933867931\n",
      "0.0803314596415\n",
      "0.941227972507\n",
      "0.995905935764"
     ]
    }
   ],
   "source": [
    "from bokeh.driving import linear\n",
    "y = np.zeros(N)\n",
    "\n",
    "curdoc().clear()\n",
    "\n",
    "\n",
    "#if session: \n",
    "#    session.close()\n",
    "    \n",
    "p = figure()\n",
    "r2 = p.line(x, y, color=\"navy\", line_width=4)\n",
    "\n",
    "session = ClientSession(session_id='My_new_plot')\n",
    "session.push(curdoc())\n",
    "\n",
    "@linear()\n",
    "def update_(step):\n",
    "    readers,_,_ = select.select([s],[],[])\n",
    "    if readers:\n",
    "        mes,host = s.recvfrom(128)\n",
    "        fl = struct.unpack('f',mes)[0]\n",
    "        print fl\n",
    "        y[:-1] = y[1:]\n",
    "        y[-1] = fl\n",
    "    r2.data_source.data[\"y\"] = y\n",
    "\n",
    "curdoc().add_periodic_callback(update_, 50)\n",
    "\n",
    "session.show() # open the document in a browser\n",
    "\n",
    "session.loop_until_closed() # run forever"
   ]
  },
  {
   "cell_type": "code",
   "execution_count": null,
   "metadata": {
    "collapsed": true
   },
   "outputs": [],
   "source": []
  }
 ],
 "metadata": {
  "kernelspec": {
   "display_name": "Python 2",
   "language": "python",
   "name": "python2"
  },
  "language_info": {
   "codemirror_mode": {
    "name": "ipython",
    "version": 2
   },
   "file_extension": ".py",
   "mimetype": "text/x-python",
   "name": "python",
   "nbconvert_exporter": "python",
   "pygments_lexer": "ipython2",
   "version": "2.7.11"
  }
 },
 "nbformat": 4,
 "nbformat_minor": 0
}
