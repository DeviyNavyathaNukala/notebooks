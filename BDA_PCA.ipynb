{
 "cells": [
  {
   "cell_type": "code",
   "execution_count": 49,
   "metadata": {},
   "outputs": [
    {
     "name": "stdout",
     "output_type": "stream",
     "text": [
      "Populating the interactive namespace from numpy and matplotlib\n"
     ]
    }
   ],
   "source": [
    "%pylab inline"
   ]
  },
  {
   "cell_type": "code",
   "execution_count": 50,
   "metadata": {},
   "outputs": [],
   "source": [
    "import sklearn"
   ]
  },
  {
   "cell_type": "code",
   "execution_count": 51,
   "metadata": {},
   "outputs": [],
   "source": [
    "from sklearn.decomposition import PCA"
   ]
  },
  {
   "cell_type": "code",
   "execution_count": 52,
   "metadata": {},
   "outputs": [],
   "source": [
    "model=PCA(n_components=1) #,whiten=True)"
   ]
  },
  {
   "cell_type": "code",
   "execution_count": 53,
   "metadata": {},
   "outputs": [],
   "source": [
    "import pandas as pd"
   ]
  },
  {
   "cell_type": "code",
   "execution_count": 54,
   "metadata": {},
   "outputs": [],
   "source": [
    "import codecs\n",
    "from datetime import datetime as dt\n",
    "\n",
    "root = '/Users/alehmann/Documents/Documents/HIH/BDA/BDA2017/data/'\n",
    "def read_energi_data(f):\n",
    "    with codecs.open(root+f,encoding='8859') as f:\n",
    "        col = []\n",
    "        l=f.readline().strip()\n",
    "        while l:\n",
    "            col.append(' '.join(l.split()[1:]))\n",
    "            l=f.readline().strip()\n",
    "        \n",
    "        dat = pd.read_csv(f,sep=';', skipinitialspace=True,\n",
    "                        lineterminator ='\\n',\n",
    "                        infer_datetime_format=True)\n",
    "        dat = dat.drop(dat.columns[-1],1) # remove extraneous last column\n",
    "        dat[dat.columns[0]] = pd.to_datetime(dat[dat.columns[0]],\n",
    "                                             format=\n",
    "                                             \"%Y-%m-%d %H:%M \")\n",
    "        dat.columns = [dat.columns[0]] + col\n",
    "        dat = dat.set_index(dat.columns[0])\n",
    "    return dat\n",
    "\n"
   ]
  },
  {
   "cell_type": "code",
   "execution_count": 55,
   "metadata": {
    "scrolled": true
   },
   "outputs": [
    {
     "name": "stdout",
     "output_type": "stream",
     "text": [
      "Dato og tid      \n",
      "0     170.916667\n",
      "1     165.583333\n",
      "2     164.000000\n",
      "3     155.833333\n",
      "4     163.750000\n",
      "5     168.750000\n",
      "6     172.333333\n",
      "7     193.416667\n",
      "8     209.500000\n",
      "9     199.416667\n",
      "10    194.250000\n",
      "11    204.083333\n",
      "12    200.250000\n",
      "13    212.583333\n",
      "14    233.000000\n",
      "15    245.666667\n",
      "16    243.333333\n",
      "17    250.916667\n",
      "18    279.166667\n",
      "19    292.833333\n",
      "20    289.750000\n",
      "21    301.000000\n",
      "22    286.333333\n",
      "23    292.250000\n",
      "Name: CO2 udledning, dtype: float64\n",
      "Dato og tid      \n",
      "0     190\n",
      "1     169\n",
      "2     166\n",
      "3     157\n",
      "4     166\n",
      "5     173\n",
      "6     180\n",
      "7     197\n",
      "8     303\n",
      "9     206\n",
      "10    200\n",
      "11    208\n",
      "12    203\n",
      "13    224\n",
      "14    244\n",
      "15    250\n",
      "16    249\n",
      "17    264\n",
      "18    285\n",
      "19    297\n",
      "20    295\n",
      "21    304\n",
      "22    298\n",
      "23    299\n",
      "Name: CO2 udledning, dtype: int64\n"
     ]
    }
   ],
   "source": [
    "energi = read_energi_data('20161208_onlinedata.txt')\n",
    "co2 = energi['CO2 udledning']\n",
    "print(co2.groupby(co2.index.hour).mean())\n",
    "print(co2.groupby(co2.index.hour).max())\n"
   ]
  },
  {
   "cell_type": "code",
   "execution_count": 56,
   "metadata": {},
   "outputs": [],
   "source": [
    "energi=energi.drop(['Temperatur i Malling','Vindhastighed i Malling'],axis=1)\n",
    "energi=energi.drop('CO2 udledning',axis=1)\n",
    "#energi=energi.drop('Havmøller DK',axis=1)\n",
    "#energi=energi.drop('Landmøller DK',axis=1)"
   ]
  },
  {
   "cell_type": "code",
   "execution_count": 9,
   "metadata": {
    "collapsed": true
   },
   "outputs": [],
   "source": [
    "energi=energi.drop('CO2 udledning',axis=1)\n",
    "energi=energi.drop('Havmøller DK',axis=1)\n",
    "energi=energi.drop('Landmøller DK',axis=1)"
   ]
  },
  {
   "cell_type": "code",
   "execution_count": 57,
   "metadata": {},
   "outputs": [],
   "source": [
    "res = model.fit(energi)\n",
    "res = res.transform(energi)"
   ]
  },
  {
   "cell_type": "code",
   "execution_count": 58,
   "metadata": {},
   "outputs": [
    {
     "name": "stdout",
     "output_type": "stream",
     "text": [
      "(288, 1) (288, 17)\n"
     ]
    }
   ],
   "source": [
    "print(res.shape,energi.shape)"
   ]
  },
  {
   "cell_type": "code",
   "execution_count": 80,
   "metadata": {},
   "outputs": [
    {
     "data": {
      "text/plain": [
       "<matplotlib.axes._subplots.AxesSubplot at 0x117e65fd0>"
      ]
     },
     "execution_count": 80,
     "metadata": {},
     "output_type": "execute_result"
    },
    {
     "data": {
      "image/png": "[encoded data removed]",
      "text/plain": [
       "<matplotlib.figure.Figure at 0x11ab8b710>"
      ]
     },
     "metadata": {},
     "output_type": "display_data"
    }
   ],
   "source": [
    "fig,ax = plt.subplots()\n",
    "\n",
    "ax.plot(res) #plt.scatter(res[:,0],res[:,1])\n",
    "ax2 = ax.twinx()\n",
    "co2.plot(color='r')\n"
   ]
  },
  {
   "cell_type": "code",
   "execution_count": 69,
   "metadata": {},
   "outputs": [
    {
     "data": {
      "text/plain": [
       "<matplotlib.axes._subplots.AxesSubplot at 0x11a2db9b0>"
      ]
     },
     "execution_count": 69,
     "metadata": {},
     "output_type": "execute_result"
    },
    {
     "data": {
      "image/png": "[encoded data removed]",
      "text/plain": [
       "<matplotlib.figure.Figure at 0x11a1855f8>"
      ]
     },
     "metadata": {},
     "output_type": "display_data"
    }
   ],
   "source": [
    "co2.plot()\n"
   ]
  },
  {
   "cell_type": "code",
   "execution_count": 81,
   "metadata": {},
   "outputs": [
    {
     "data": {
      "text/plain": [
       "array([ 0.79257213])"
      ]
     },
     "execution_count": 81,
     "metadata": {},
     "output_type": "execute_result"
    }
   ],
   "source": [
    "model.explained_variance_ratio_"
   ]
  },
  {
   "cell_type": "code",
   "execution_count": 14,
   "metadata": {},
   "outputs": [
    {
     "data": {
      "text/plain": [
       "array([['0.139389241952', 'Centrale kraftværker DK1'],\n",
       "       ['0.0122298922639', 'Centrale kraftværker DK2'],\n",
       "       ['0.0678999524955', 'Decentrale kraftværker DK1'],\n",
       "       ['0.0166243846851', 'Decentrale kraftværker DK2'],\n",
       "       ['-0.443890104834', 'Vindmøller DK1'],\n",
       "       ['-0.0735127849995', 'Vindmøller DK2'],\n",
       "       ['0.774768309303', 'Udveksling Jylland-Norge'],\n",
       "       ['-0.0992271662968', 'Udveksling Jylland-Sverige'],\n",
       "       ['-0.177258309211', 'Udveksling Jylland-Tyskland'],\n",
       "       ['0.349469097553', 'Udveksling Sjælland-Sverige'],\n",
       "       ['-0.0970749527157', 'Udveksling Sjælland-Tyskland'],\n",
       "       ['0.00179653791589', 'Udveksling Bornholm-Sverige'],\n",
       "       ['-0.00179277858836', 'Udveksling Fyn-Sjaelland'],\n",
       "       ['0.00075482123539', 'Solceller DK1'],\n",
       "       ['0.000246488301845', 'Solceller DK2']], \n",
       "      dtype='<U32')"
      ]
     },
     "execution_count": 14,
     "metadata": {},
     "output_type": "execute_result"
    }
   ],
   "source": [
    "np.sort(list(zip(model.components_[0],energi.columns)),axis=1)"
   ]
  },
  {
   "cell_type": "code",
   "execution_count": 15,
   "metadata": {
    "collapsed": true
   },
   "outputs": [],
   "source": [
    "a=list(zip(model.components_[0],energi.columns))"
   ]
  },
  {
   "cell_type": "code",
   "execution_count": 16,
   "metadata": {},
   "outputs": [
    {
     "data": {
      "text/plain": [
       "[(-0.44389010483378, 'Vindmøller DK1'),\n",
       " (-0.17725830921129238, 'Udveksling Jylland-Tyskland'),\n",
       " (-0.099227166296758221, 'Udveksling Jylland-Sverige'),\n",
       " (-0.097074952715711413, 'Udveksling Sjælland-Tyskland'),\n",
       " (-0.073512784999469602, 'Vindmøller DK2'),\n",
       " (-0.0017927785883600034, 'Udveksling Fyn-Sjaelland'),\n",
       " (0.00024648830184538349, 'Solceller DK2'),\n",
       " (0.00075482123539010815, 'Solceller DK1'),\n",
       " (0.0017965379158941335, 'Udveksling Bornholm-Sverige'),\n",
       " (0.012229892263924461, 'Centrale kraftværker DK2'),\n",
       " (0.016624384685136596, 'Decentrale kraftværker DK2'),\n",
       " (0.067899952495542593, 'Decentrale kraftværker DK1'),\n",
       " (0.13938924195222677, 'Centrale kraftværker DK1'),\n",
       " (0.34946909755271283, 'Udveksling Sjælland-Sverige'),\n",
       " (0.77476830930316887, 'Udveksling Jylland-Norge')]"
      ]
     },
     "execution_count": 16,
     "metadata": {},
     "output_type": "execute_result"
    }
   ],
   "source": [
    "a.sort()\n",
    "a"
   ]
  },
  {
   "cell_type": "code",
   "execution_count": 17,
   "metadata": {
    "collapsed": true
   },
   "outputs": [],
   "source": [
    "from sklearn.svm import SVR"
   ]
  },
  {
   "cell_type": "code",
   "execution_count": 32,
   "metadata": {
    "collapsed": true
   },
   "outputs": [],
   "source": [
    "svr_model = SVR(kernel='linear')\n",
    "svr_model_non = SVR(kernel='rbf')"
   ]
  },
  {
   "cell_type": "code",
   "execution_count": 33,
   "metadata": {},
   "outputs": [
    {
     "data": {
      "text/plain": [
       "SVR(C=1.0, cache_size=200, coef0=0.0, degree=3, epsilon=0.1, gamma='auto',\n",
       "  kernel='rbf', max_iter=-1, shrinking=True, tol=0.001, verbose=False)"
      ]
     },
     "execution_count": 33,
     "metadata": {},
     "output_type": "execute_result"
    }
   ],
   "source": [
    "svr_model.fit(energi,co2)\n",
    "svr_model_non.fit(energi,co2)"
   ]
  },
  {
   "cell_type": "code",
   "execution_count": 34,
   "metadata": {
    "collapsed": true
   },
   "outputs": [],
   "source": [
    "predict = svr_model.predict(energi)\n",
    "predict_non = svr_model_non.predict(energi)"
   ]
  },
  {
   "cell_type": "code",
   "execution_count": 35,
   "metadata": {},
   "outputs": [
    {
     "data": {
      "text/plain": [
       "[<matplotlib.lines.Line2D at 0x114306be0>]"
      ]
     },
     "execution_count": 35,
     "metadata": {},
     "output_type": "execute_result"
    },
    {
     "data": {
      "image/png": "[encoded data removed]",
      "text/plain": [
       "<matplotlib.figure.Figure at 0x11408af98>"
      ]
     },
     "metadata": {},
     "output_type": "display_data"
    }
   ],
   "source": [
    "plot(predict)\n",
    "co2.plot()\n",
    "plot(predict_non)"
   ]
  },
  {
   "cell_type": "code",
   "execution_count": 39,
   "metadata": {},
   "outputs": [
    {
     "data": {
      "text/plain": [
       "0.99228069160613075"
      ]
     },
     "execution_count": 39,
     "metadata": {},
     "output_type": "execute_result"
    }
   ],
   "source": [
    "svr_model.score(energi,co2)"
   ]
  },
  {
   "cell_type": "code",
   "execution_count": 40,
   "metadata": {},
   "outputs": [
    {
     "data": {
      "text/plain": [
       "-0.075383054655297155"
      ]
     },
     "execution_count": 40,
     "metadata": {},
     "output_type": "execute_result"
    }
   ],
   "source": [
    "svr_model_non.score(energi,co2)"
   ]
  },
  {
   "cell_type": "code",
   "execution_count": null,
   "metadata": {
    "collapsed": true
   },
   "outputs": [],
   "source": []
  }
 ],
 "metadata": {
  "kernelspec": {
   "display_name": "Python 3",
   "language": "python",
   "name": "python3"
  },
  "language_info": {
   "codemirror_mode": {
    "name": "ipython",
    "version": 3
   },
   "file_extension": ".py",
   "mimetype": "text/x-python",
   "name": "python",
   "nbconvert_exporter": "python",
   "pygments_lexer": "ipython3",
   "version": "3.6.3"
  }
 },
 "nbformat": 4,
 "nbformat_minor": 2
}
