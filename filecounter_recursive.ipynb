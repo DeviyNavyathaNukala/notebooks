{
 "cells": [
  {
   "cell_type": "code",
   "execution_count": 1,
   "metadata": {},
   "outputs": [],
   "source": [
    "import os\n",
    "\n",
    "def count_files(path):\n",
    "    count = 0\n",
    "    for x in os.listdir(path):\n",
    "        p = path+'/'+x\n",
    "        print(x,os.path.isdir(p))\n",
    "        \n",
    "        if os.path.isdir(p):\n",
    "            count = count + count_files(p)\n",
    "        else:\n",
    "            count += 1\n",
    "    return count\n",
    "            "
   ]
  },
  {
   "cell_type": "code",
   "execution_count": 2,
   "metadata": {},
   "outputs": [
    {
     "name": "stdout",
     "output_type": "stream",
     "text": [
      "Untitled.ipynb False\n",
      ".ipynb_checkpoints True\n",
      "Untitled-checkpoint.ipynb False\n",
      ".git True\n",
      "config False\n",
      "objects True\n",
      "3d True\n",
      "01f8015d8dcc8f0930ff6e63622db1afdcd649 False\n",
      "cf True\n",
      "53c38a6305a8773b35b87836950893285fd0ab False\n",
      "pack True\n",
      "info True\n",
      "f0 True\n",
      "7aeafdb68673a95255ece9399559d62e188eaa False\n",
      "85 True\n",
      "4f5e389926fdba86c05fe9029c5797f820c925 False\n",
      "HEAD False\n",
      "info True\n",
      "exclude False\n",
      "logs True\n",
      "HEAD False\n",
      "refs True\n",
      "heads True\n",
      "master False\n",
      "remotes True\n",
      "origin True\n",
      "master False\n",
      "description False\n",
      "hooks True\n",
      "commit-msg.sample False\n",
      "pre-rebase.sample False\n",
      "pre-commit.sample False\n",
      "applypatch-msg.sample False\n",
      "pre-receive.sample False\n",
      "prepare-commit-msg.sample False\n",
      "post-update.sample False\n",
      "pre-applypatch.sample False\n",
      "pre-push.sample False\n",
      "update.sample False\n",
      "refs True\n",
      "heads True\n",
      "master False\n",
      "tags True\n",
      "remotes True\n",
      "origin True\n",
      "master False\n",
      "index False\n",
      "COMMIT_EDITMSG False\n",
      "data True\n",
      "20161208_onlinedata.txt False\n"
     ]
    },
    {
     "data": {
      "text/plain": [
       "28"
      ]
     },
     "execution_count": 2,
     "metadata": {},
     "output_type": "execute_result"
    }
   ],
   "source": [
    "count_files(\"/Users/alehmann/Documents/Documents/HIH/BDA/BDA2018_aarhus\")"
   ]
  },
  {
   "cell_type": "code",
   "execution_count": null,
   "metadata": {},
   "outputs": [],
   "source": []
  }
 ],
 "metadata": {
  "kernelspec": {
   "display_name": "Python 3",
   "language": "python",
   "name": "python3"
  },
  "language_info": {
   "codemirror_mode": {
    "name": "ipython",
    "version": 3
   },
   "file_extension": ".py",
   "mimetype": "text/x-python",
   "name": "python",
   "nbconvert_exporter": "python",
   "pygments_lexer": "ipython3",
   "version": "3.6.3"
  }
 },
 "nbformat": 4,
 "nbformat_minor": 2
}
