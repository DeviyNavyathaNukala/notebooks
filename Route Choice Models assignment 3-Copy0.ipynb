{
 "metadata": {
  "name": "",
  "signature": "sha256:3ec139183619e238d02de7f736ab52c25f4b2a9e80182fd060074ab0c3eb5a74"
 },
 "nbformat": 3,
 "nbformat_minor": 0,
 "worksheets": [
  {
   "cells": [
    {
     "cell_type": "code",
     "collapsed": false,
     "input": [
      "%pylab inline"
     ],
     "language": "python",
     "metadata": {},
     "outputs": [
      {
       "output_type": "stream",
       "stream": "stdout",
       "text": [
        "Populating the interactive namespace from numpy and matplotlib\n"
       ]
      }
     ],
     "prompt_number": 6
    },
    {
     "cell_type": "code",
     "collapsed": false,
     "input": [
      "routes = [[1,2,5,10],\n",
      "          [3,8,11,12],\n",
      "          [1,4,7,10],\n",
      "          [3,6,9,12],\n",
      "          [1,4,9,12],\n",
      "          [3,6,7,10],\n",
      "          [3,6,4,2,5,10],\n",
      "          [1,4,6,8,11,12],\n",
      "          [3,8,11,9,7,10],\n",
      "          [1,2,5,7,9,12],\n",
      "          [3,8,11,9,4,2,5,10],\n",
      "          [1,2,5,7,6,8,11,12]]\n",
      "\n",
      "network = {1:[1,3],2:[1,2,4],3:[2,5],\n",
      "           4:[3,6,8],5:[4,7,6,9],6:[5,7,10],\n",
      "           7:[8,11],8:[9,11,12],9:[10,12]}\n",
      "links = {1:[1,2],2:[2,3],3:[1,4],4:[2,5],5:[3,6],\n",
      "         6:[4,5],7:[5,6],8:[4,7],9:[5,8],10:[6,9],\n",
      "         11:[7,8],12:[8,9]}"
     ],
     "language": "python",
     "metadata": {},
     "outputs": [],
     "prompt_number": 34
    },
    {
     "cell_type": "code",
     "collapsed": false,
     "input": [
      "network.keys()"
     ],
     "language": "python",
     "metadata": {},
     "outputs": [
      {
       "metadata": {},
       "output_type": "pyout",
       "prompt_number": 139,
       "text": [
        "[1, 2, 3, 4, 5, 6, 7, 8, 9]"
       ]
      }
     ],
     "prompt_number": 139
    },
    {
     "cell_type": "code",
     "collapsed": false,
     "input": [
      "N = 1000\n",
      "LP = 20\n",
      "DRAW = 20\n",
      "def path_enumeration(routes):\n",
      "    return routes\n",
      "\n",
      "def link_elimination(routes):\n",
      "    res = []\n",
      "    le = []\n",
      "    for r in routes:\n",
      "        if r[-1] in le:\n",
      "            continue\n",
      "        le.append(r[-1])\n",
      "        res.append(r)\n",
      "    return res\n",
      "\n",
      "def length(cost, route):\n",
      "    return sum([cost[l-1] for l in route])\n",
      "\n",
      "def link_penalty(routes):\n",
      "    res = set()\n",
      "    cost = ones(12)\n",
      "    for i in range(LP):\n",
      "        costs = [length(cost,r) for r in routes]\n",
      "        min_r = routes[costs.index(min(costs))]\n",
      "        for l in min_r:\n",
      "            cost[l-1] *= 1.05\n",
      "        res.add(tuple(min_r))\n",
      "        #print min_r,cost\n",
      "    return res\n",
      "        \n",
      "def simulation(routes):\n",
      "    #Gamma: mean = k\\theta var = k\\theta^2\n",
      "    # E = k*th = t\n",
      "    # V = k*th^2 = t\n",
      "    # th = 1, k = t\n",
      "    draw = ([gamma(1,1,DRAW) for t in range(12)])\n",
      "    d=array([sum([draw[i-1] for i in r],0) for r in routes]) #array of route length 12Xnumber of draws\n",
      "\n",
      "    return [routes[i] for i in set(d.argmin(0))]#,d\n",
      "\n",
      "\n",
      "def branch_and_bound(routes):\n",
      "    return routes[:6]\n",
      "    \n",
      "    \n",
      "            \n",
      "def probit(choiceset_obs):\n",
      "    for o in choiceset_obs:\n",
      "        util = []\n",
      "        for r in o:\n",
      "            u = 0\n",
      "            for l in r:\n",
      "                u += -1.*normal(1,1.6449/4.)\n",
      "            util.append(u)\n",
      "        mu = max(util)\n",
      "        yield mu,util.index(mu)\n",
      "\n",
      "choice_methods = [path_enumeration,link_elimination,link_penalty,branch_and_bound,\n",
      "                  simulation]\n",
      "    \n",
      "\n",
      "def exercise1():\n",
      "    for meth in choice_methods:\n",
      "        obs = [meth(routes) for i in range(N)]\n",
      "        \n",
      "        LP = [x[1] for x in probit(obs)]\n",
      "        h,bins = histogram(LP)\n",
      "        h = 1.*h/N\n",
      "        #print bins\n",
      "        #bins = linspace(1,13,12)\n",
      "        width = 0.7 * (bins[1] - bins[0])\n",
      "        center = (bins[:-1] + bins[1:]) / 2\n",
      "        title(meth.func_name)\n",
      "        plt.bar(center, h, align='center', width=width)\n",
      "        plt.show()\n",
      "        figure\n",
      "        \n",
      "def plot_sim():\n",
      "    d = simulation(routes)[1]\n",
      "    h,bins = histogram(d.argmin(0)+1)\n",
      "    print bins\n",
      "    width = 0.7 * (bins[1] - bins[0])\n",
      "    center = (bins[:-1] + bins[1:]) / 2\n",
      "    plt.bar(center, h, align='center', width=width)\n",
      "    \n",
      "    plt.show()\n",
      "\n"
     ],
     "language": "python",
     "metadata": {},
     "outputs": [],
     "prompt_number": 249
    },
    {
     "cell_type": "code",
     "collapsed": true,
     "input": [
      "exercise1()"
     ],
     "language": "python",
     "metadata": {},
     "outputs": [
      {
       "metadata": {},
       "output_type": "display_data",
       "png": "[encoded data removed]",
       "text": [
        "<matplotlib.figure.Figure at 0x104a066d0>"
       ]
      },
      {
       "metadata": {},
       "output_type": "display_data",
       "png": "[encoded data removed]",
       "text": [
        "<matplotlib.figure.Figure at 0x109c7f9d0>"
       ]
      },
      {
       "metadata": {},
       "output_type": "display_data",
       "png": "[encoded data removed]",
       "text": [
        "<matplotlib.figure.Figure at 0x109c9cf90>"
       ]
      },
      {
       "metadata": {},
       "output_type": "display_data",
       "png": "[encoded data removed]",
       "text": [
        "<matplotlib.figure.Figure at 0x109c87ed0>"
       ]
      },
      {
       "metadata": {},
       "output_type": "display_data",
       "png": "[encoded data removed]",
       "text": [
        "<matplotlib.figure.Figure at 0x108b283d0>"
       ]
      }
     ],
     "prompt_number": 250
    },
    {
     "cell_type": "code",
     "collapsed": false,
     "input": [
      "def error_calc():\n",
      "    ret = []\n",
      "    for meth in choice_methods:\n",
      "        obs = [meth(routes) for i in range(N)]\n",
      "        LP = [x[1] for x in probit(obs)]\n",
      "\n",
      "        h,bins = histogram(LP)\n",
      "        ret.append(1.*h/N)\n",
      "    return ret\n",
      "choice = error_calc()"
     ],
     "language": "python",
     "metadata": {},
     "outputs": [],
     "prompt_number": 107
    },
    {
     "cell_type": "code",
     "collapsed": false,
     "input": [
      "print sqrt(sum(pow(choice-choice[0],2),1))\n"
     ],
     "language": "python",
     "metadata": {},
     "outputs": [
      {
       "output_type": "stream",
       "stream": "stdout",
       "text": [
        "[ 0.          0.69623272  0.4888824   0.40691277  0.31359528]\n"
       ]
      }
     ],
     "prompt_number": 117
    },
    {
     "cell_type": "heading",
     "level": 2,
     "metadata": {},
     "source": [
      "Exercise 2"
     ]
    },
    {
     "cell_type": "code",
     "collapsed": false,
     "input": [
      "def PSCL(choiceset_obs):\n",
      "    for o in choiceset_obs:\n",
      "        util = []\n",
      "        for r in o:\n",
      "            u = len(r)\n",
      "\n",
      "            v = u * 0.4\n",
      "            beta = sqrt(v/(pi**2)*6)\n",
      "            loc = -1.*beta*euler_gamma \n",
      "            u = -1.*u - gumbel(loc,beta,1) #mean = mu -beta*gamma , variance = pi**2/6*beta**2\n",
      "            util.append(u)\n",
      "        mu = max(util)\n",
      "        #if util.index(mu)==0: print util\n",
      "        yield mu,util.index(mu)\n",
      "        \n",
      "#list(PSCL([path_enumeration(routes) for i in range(N)]))\n",
      "def exercise2():\n",
      "    for meth in choice_methods:\n",
      "        obs = [meth(routes) for i in range(N)]\n",
      "\n",
      "        LP = [x[1] for x in PSCL(obs)]\n",
      "        h,bins = histogram(LP)\n",
      "        h = 1.*h/N\n",
      "        #print bins\n",
      "        #bins = linspace(1,13,12)\n",
      "        width = 0.7 * (bins[1] - bins[0])\n",
      "        center = (bins[:-1] + bins[1:]) / 2\n",
      "        title(meth.func_name)\n",
      "        plt.bar(center, h, align='center', width=width)\n",
      "        plt.show()\n",
      "        figure\n",
      "exercise2()"
     ],
     "language": "python",
     "metadata": {},
     "outputs": [
      {
       "metadata": {},
       "output_type": "display_data",
       "png": "[encoded data removed]",
       "text": [
        "<matplotlib.figure.Figure at 0x108a7ebd0>"
       ]
      },
      {
       "metadata": {},
       "output_type": "display_data",
       "png": "[encoded data removed]",
       "text": [
        "<matplotlib.figure.Figure at 0x109c5f7d0>"
       ]
      },
      {
       "metadata": {},
       "output_type": "display_data",
       "png": "[encoded data removed]",
       "text": [
        "<matplotlib.figure.Figure at 0x109cf01d0>"
       ]
      },
      {
       "metadata": {},
       "output_type": "display_data",
       "png": "[encoded data removed]",
       "text": [
        "<matplotlib.figure.Figure at 0x107210590>"
       ]
      },
      {
       "metadata": {},
       "output_type": "display_data",
       "png": "[encoded data removed]",
       "text": [
        "<matplotlib.figure.Figure at 0x109c22c50>"
       ]
      }
     ],
     "prompt_number": 246
    },
    {
     "cell_type": "code",
     "collapsed": false,
     "input": [
      "def logit_error_calc():\n",
      "    ret = []\n",
      "    for meth in choice_methods:\n",
      "        obs = [meth(routes) for i in range(N)]\n",
      "        LP = [x[1] for x in PSCL(obs)]\n",
      "\n",
      "        h,bins = histogram(LP)\n",
      "        ret.append(1.*h/N)\n",
      "    return ret\n",
      "choice = logit_error_calc()\n",
      "print sqrt(sum(pow(choice-choice[0],2),1))"
     ],
     "language": "python",
     "metadata": {},
     "outputs": [
      {
       "output_type": "stream",
       "stream": "stdout",
       "text": [
        "[ 0.          0.71623181  0.50009999  0.38592227  0.33350562]\n"
       ]
      }
     ],
     "prompt_number": 251
    },
    {
     "cell_type": "code",
     "collapsed": false,
     "input": [
      "\n",
      "def bnb(node):\n",
      "    route =[]\n",
      "    print node\n",
      "    for l in network[node]:\n",
      "        print \"  \",l\n",
      "        if not all([node<=i for i in links[l]]): #dont move away from dest\n",
      "            continue\n",
      "            \n",
      "        if l in network[9]:\n",
      "            print \"stop\"\n",
      "            return [l]\n",
      "              \n",
      "        print links[l][1],\n",
      "        ret = bnb(links[l][1])\n",
      "        print \"return\",ret\n",
      "        return [l]+ret\n",
      "bnb(1)"
     ],
     "language": "python",
     "metadata": {},
     "outputs": [
      {
       "output_type": "stream",
       "stream": "stdout",
       "text": [
        "1\n",
        "   1\n",
        "2 2\n",
        "   1\n",
        "   2\n",
        "3 3\n",
        "   2\n",
        "   5\n",
        "6 6\n",
        "   5\n",
        "   7\n",
        "   10\n",
        "stop\n",
        "return [10]\n",
        "return [5, 10]\n",
        "return [2, 5, 10]\n"
       ]
      },
      {
       "metadata": {},
       "output_type": "pyout",
       "prompt_number": 54,
       "text": [
        "[1, 2, 5, 10]"
       ]
      }
     ],
     "prompt_number": 54
    }
   ],
   "metadata": {}
  }
 ]
}