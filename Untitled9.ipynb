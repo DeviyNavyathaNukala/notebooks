{
 "cells": [
  {
   "cell_type": "code",
   "execution_count": 1,
   "metadata": {},
   "outputs": [],
   "source": [
    "def print_list(lst):\n",
    "    for x in lst:\n",
    "        print(x)"
   ]
  },
  {
   "cell_type": "code",
   "execution_count": 9,
   "metadata": {},
   "outputs": [
    {
     "name": "stdout",
     "output_type": "stream",
     "text": [
      "H\n",
      "e\n",
      "l\n",
      "l\n",
      "o\n",
      " \n",
      "W\n",
      "o\n",
      "r\n",
      "l\n",
      "d\n"
     ]
    }
   ],
   "source": [
    "l = [1,2,3,\"Hello World\"]\n",
    "l = \"Hello World\"\n",
    "print_list(l)"
   ]
  },
  {
   "cell_type": "code",
   "execution_count": 4,
   "metadata": {},
   "outputs": [
    {
     "name": "stdout",
     "output_type": "stream",
     "text": [
      "Populating the interactive namespace from numpy and matplotlib\n"
     ]
    }
   ],
   "source": [
    "%pylab inline"
   ]
  },
  {
   "cell_type": "code",
   "execution_count": 7,
   "metadata": {},
   "outputs": [
    {
     "name": "stdout",
     "output_type": "stream",
     "text": [
      "[ 0.          0.02040816  0.04081633  0.06122449  0.08163265  0.10204082\n",
      "  0.12244898  0.14285714  0.16326531  0.18367347  0.20408163  0.2244898\n",
      "  0.24489796  0.26530612  0.28571429  0.30612245  0.32653061  0.34693878\n",
      "  0.36734694  0.3877551   0.40816327  0.42857143  0.44897959  0.46938776\n",
      "  0.48979592  0.51020408  0.53061224  0.55102041  0.57142857  0.59183673\n",
      "  0.6122449   0.63265306  0.65306122  0.67346939  0.69387755  0.71428571\n",
      "  0.73469388  0.75510204  0.7755102   0.79591837  0.81632653  0.83673469\n",
      "  0.85714286  0.87755102  0.89795918  0.91836735  0.93877551  0.95918367\n",
      "  0.97959184  1.        ]\n"
     ]
    }
   ],
   "source": [
    "x = linspace(0,1)\n",
    "print(x)"
   ]
  },
  {
   "cell_type": "code",
   "execution_count": 6,
   "metadata": {},
   "outputs": [
    {
     "data": {
      "text/plain": [
       "[<matplotlib.lines.Line2D at 0x113154ac8>]"
      ]
     },
     "execution_count": 6,
     "metadata": {},
     "output_type": "execute_result"
    },
    {
     "data": {
      "image/png": "[encoded data removed]",
      "text/plain": [
       "<matplotlib.figure.Figure at 0x11303c940>"
      ]
     },
     "metadata": {},
     "output_type": "display_data"
    }
   ],
   "source": [
    "plot(sin(2*pi*x))"
   ]
  },
  {
   "cell_type": "code",
   "execution_count": 11,
   "metadata": {},
   "outputs": [
    {
     "data": {
      "text/plain": [
       "<function posix.listdir>"
      ]
     },
     "execution_count": 11,
     "metadata": {},
     "output_type": "execute_result"
    }
   ],
   "source": []
  },
  {
   "cell_type": "code",
   "execution_count": 20,
   "metadata": {},
   "outputs": [],
   "source": []
  },
  {
   "cell_type": "code",
   "execution_count": 21,
   "metadata": {},
   "outputs": [
    {
     "name": "stdout",
     "output_type": "stream",
     "text": [
      ".git True\n",
      "config False\n",
      "objects True\n",
      "3d True\n",
      "01f8015d8dcc8f0930ff6e63622db1afdcd649 False\n",
      "cf True\n",
      "53c38a6305a8773b35b87836950893285fd0ab False\n",
      "pack True\n",
      "info True\n",
      "f0 True\n",
      "7aeafdb68673a95255ece9399559d62e188eaa False\n",
      "85 True\n",
      "4f5e389926fdba86c05fe9029c5797f820c925 False\n",
      "HEAD False\n",
      "info True\n",
      "exclude False\n",
      "logs True\n",
      "HEAD False\n",
      "refs True\n",
      "heads True\n",
      "master False\n",
      "remotes True\n",
      "origin True\n",
      "master False\n",
      "description False\n",
      "hooks True\n",
      "commit-msg.sample False\n",
      "pre-rebase.sample False\n",
      "pre-commit.sample False\n",
      "applypatch-msg.sample False\n",
      "pre-receive.sample False\n",
      "prepare-commit-msg.sample False\n",
      "post-update.sample False\n",
      "pre-applypatch.sample False\n",
      "pre-push.sample False\n",
      "update.sample False\n",
      "refs True\n",
      "heads True\n",
      "master False\n",
      "tags True\n",
      "remotes True\n",
      "origin True\n",
      "master False\n",
      "index False\n",
      "COMMIT_EDITMSG False\n",
      "data True\n",
      "20161208_onlinedata.txt False\n"
     ]
    },
    {
     "data": {
      "text/plain": [
       "26"
      ]
     },
     "execution_count": 21,
     "metadata": {},
     "output_type": "execute_result"
    }
   ],
   "source": [
    "count_files(\"/Users/alehmann/Documents/Documents/HIH/BDA/BDA2018_aarhus\")"
   ]
  },
  {
   "cell_type": "code",
   "execution_count": 13,
   "metadata": {},
   "outputs": [
    {
     "data": {
      "text/plain": [
       "0.3333333333333333"
      ]
     },
     "execution_count": 13,
     "metadata": {},
     "output_type": "execute_result"
    }
   ],
   "source": [
    "1/3"
   ]
  },
  {
   "cell_type": "code",
   "execution_count": 16,
   "metadata": {},
   "outputs": [
    {
     "name": "stdout",
     "output_type": "stream",
     "text": [
      "Værdi af Hello World\n"
     ]
    }
   ],
   "source": [
    "print(f\"Værdi af %s\"%l)"
   ]
  },
  {
   "cell_type": "code",
   "execution_count": 17,
   "metadata": {},
   "outputs": [
    {
     "data": {
      "text/plain": [
       "['H', 'E', 'L', 'L', 'O', ' ', 'W', 'O', 'R', 'L', 'D']"
      ]
     },
     "execution_count": 17,
     "metadata": {},
     "output_type": "execute_result"
    }
   ],
   "source": [
    "a = [x.upper() for x in l]\n",
    "a"
   ]
  },
  {
   "cell_type": "code",
   "execution_count": 21,
   "metadata": {},
   "outputs": [
    {
     "name": "stdout",
     "output_type": "stream",
     "text": [
      "<_io.TextIOWrapper name='test.out' mode='w' encoding='UTF-8'>\n"
     ]
    }
   ],
   "source": [
    "with open(\"test.out\",\"w\") as f:\n",
    "    f.write(\"Hello World\")\n",
    "print(f)"
   ]
  },
  {
   "cell_type": "code",
   "execution_count": 22,
   "metadata": {},
   "outputs": [
    {
     "name": "stdout",
     "output_type": "stream",
     "text": [
      "Hello World\n"
     ]
    }
   ],
   "source": [
    "with open(\"test.out\",\"r\") as f:\n",
    "    print(f.read())"
   ]
  },
  {
   "cell_type": "code",
   "execution_count": 23,
   "metadata": {},
   "outputs": [
    {
     "name": "stdout",
     "output_type": "stream",
     "text": [
      "The Zen of Python, by Tim Peters\n",
      "\n",
      "Beautiful is better than ugly.\n",
      "Explicit is better than implicit.\n",
      "Simple is better than complex.\n",
      "Complex is better than complicated.\n",
      "Flat is better than nested.\n",
      "Sparse is better than dense.\n",
      "Readability counts.\n",
      "Special cases aren't special enough to break the rules.\n",
      "Although practicality beats purity.\n",
      "Errors should never pass silently.\n",
      "Unless explicitly silenced.\n",
      "In the face of ambiguity, refuse the temptation to guess.\n",
      "There should be one-- and preferably only one --obvious way to do it.\n",
      "Although that way may not be obvious at first unless you're Dutch.\n",
      "Now is better than never.\n",
      "Although never is often better than *right* now.\n",
      "If the implementation is hard to explain, it's a bad idea.\n",
      "If the implementation is easy to explain, it may be a good idea.\n",
      "Namespaces are one honking great idea -- let's do more of those!\n"
     ]
    }
   ],
   "source": [
    "import this"
   ]
  },
  {
   "cell_type": "code",
   "execution_count": 24,
   "metadata": {},
   "outputs": [],
   "source": [
    "from os.path import isdir"
   ]
  },
  {
   "cell_type": "code",
   "execution_count": 26,
   "metadata": {},
   "outputs": [
    {
     "data": {
      "text/plain": [
       "False"
      ]
     },
     "execution_count": 26,
     "metadata": {},
     "output_type": "execute_result"
    }
   ],
   "source": [
    "isdir(\"/Users/alehmann/Documents/Documents/HIH/BDA/BDA2018_aarhus/data/20161208_onlinedata.txt\")"
   ]
  },
  {
   "cell_type": "code",
   "execution_count": null,
   "metadata": {},
   "outputs": [],
   "source": []
  }
 ],
 "metadata": {
  "kernelspec": {
   "display_name": "Python 3",
   "language": "python",
   "name": "python3"
  },
  "language_info": {
   "codemirror_mode": {
    "name": "ipython",
    "version": 3
   },
   "file_extension": ".py",
   "mimetype": "text/x-python",
   "name": "python",
   "nbconvert_exporter": "python",
   "pygments_lexer": "ipython3",
   "version": "3.6.3"
  }
 },
 "nbformat": 4,
 "nbformat_minor": 2
}
