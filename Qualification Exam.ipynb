{
 "metadata": {
  "celltoolbar": "Slideshow",
  "name": "",
  "signature": "sha256:ba1599e04a81d8cfeeba8ab42ca29446c6c5c0b22a508282fceb226236fedefe"
 },
 "nbformat": 3,
 "nbformat_minor": 0,
 "worksheets": [
  {
   "cells": [
    {
     "cell_type": "code",
     "collapsed": false,
     "input": [
      "%load_ext physics"
     ],
     "language": "python",
     "metadata": {},
     "outputs": [
      {
       "output_type": "stream",
       "stream": "stdout",
       "text": [
        "Unit calculation and physics extensions activated.\n"
       ]
      }
     ],
     "prompt_number": 3
    },
    {
     "cell_type": "code",
     "collapsed": false,
     "input": [
      "A = 20 cm**2"
     ],
     "language": "python",
     "metadata": {},
     "outputs": [],
     "prompt_number": 4
    },
    {
     "cell_type": "code",
     "collapsed": false,
     "input": [
      "d = 0.5 mm"
     ],
     "language": "python",
     "metadata": {},
     "outputs": [],
     "prompt_number": 5
    },
    {
     "cell_type": "code",
     "collapsed": false,
     "input": [
      "C = 2.1*eps0*A/d\n",
      "C.convert('F')\n",
      "C"
     ],
     "language": "python",
     "metadata": {},
     "outputs": [
      {
       "metadata": {},
       "output_type": "pyout",
       "prompt_number": 12,
       "text": [
        "7.4375178e-11 F"
       ]
      }
     ],
     "prompt_number": 12
    },
    {
     "cell_type": "heading",
     "level": 1,
     "metadata": {
      "slideshow": {
       "slide_type": "slide"
      }
     },
     "source": [
      "Agenda:\n"
     ]
    },
    {
     "cell_type": "markdown",
     "metadata": {
      "slideshow": {
       "slide_type": "-"
      }
     },
     "source": [
      "* Introduction to the phd study\n",
      "* Modelling and Climate\n",
      "* Modelling and pollution\n",
      "* Contributions\n",
      "* Plan for the remaining study"
     ]
    },
    {
     "cell_type": "heading",
     "level": 1,
     "metadata": {
      "slideshow": {
       "slide_type": "slide"
      }
     },
     "source": [
      "Introduction"
     ]
    },
    {
     "cell_type": "markdown",
     "metadata": {
      "slideshow": {
       "slide_type": "-"
      }
     },
     "source": [
      "* Anders Lehmann\n",
      "* Cand. Polyt., DTU 1989\n",
      "* 15 years at Bang & Olufsen, Denmark\n",
      "* EU research project DFKI, Saarbr\u00fccken Germany\n",
      "* Startup company, Denmark\n",
      "* Consultant, Denmark\n",
      "* since 2008 teacher at EDE, Herning Denmark\n"
     ]
    },
    {
     "cell_type": "heading",
     "level": 1,
     "metadata": {
      "slideshow": {
       "slide_type": "slide"
      }
     },
     "source": [
      "EcoSense"
     ]
    },
    {
     "cell_type": "markdown",
     "metadata": {
      "slideshow": {
       "slide_type": "fragment"
      }
     },
     "source": [
      "* Funded by Danish Council for Strategic Research"
     ]
    },
    {
     "cell_type": "heading",
     "level": 1,
     "metadata": {
      "slideshow": {
       "slide_type": "slide"
      }
     },
     "source": [
      "EcoSense"
     ]
    },
    {
     "cell_type": "markdown",
     "metadata": {},
     "source": [
      "Goal:\n",
      "    \"Collective Sensing and Macroscopic Analysis Methods for Reducing Company- and Society-level Environmental Footprints\"\n",
      "\n",
      "   * Reduce emission of Climate gases by mobile sensing\n",
      "   * Focus on transport and domestic emissions\n",
      "   * Application to Green Accounting and Traffic Planning"
     ]
    },
    {
     "cell_type": "heading",
     "level": 1,
     "metadata": {
      "slideshow": {
       "slide_type": "slide"
      }
     },
     "source": [
      "EcoSense"
     ]
    },
    {
     "cell_type": "markdown",
     "metadata": {},
     "source": [
      "Workpackages:\n",
      "\n",
      " * WP1 - Collective Sensing Methods\n",
      " * WP2 - Macroscopic Analysis and Visualizations for Sensing and Footprint Data\n",
      " * **WP3 - Environmental Models for Interpretation of Sensing Data**\n",
      " * WP4 - Mobile Software Architectures for Sensing and Interaction\n",
      " * WP5 - Prototyping and Refinement of Real-time Analysis and Decision Support Tools\n",
      " * WP6 -\n",
      " * WP7 -\n",
      " * WP8 -"
     ]
    },
    {
     "cell_type": "heading",
     "level": 1,
     "metadata": {
      "slideshow": {
       "slide_type": "slide"
      }
     },
     "source": [
      "PhD study delimitation"
     ]
    },
    {
     "cell_type": "markdown",
     "metadata": {},
     "source": [
      "* focus on emissions from passenger cars\n",
      "* Will be important for the next 20 years\n"
     ]
    },
    {
     "cell_type": "heading",
     "level": 1,
     "metadata": {
      "slideshow": {
       "slide_type": "slide"
      }
     },
     "source": [
      "Modelling of Climate Gas emissions"
     ]
    },
    {
     "cell_type": "markdown",
     "metadata": {},
     "source": [
      "Objective: Find ways to model emissions from mobile sensing data\n",
      "\n",
      "* Simple solution: \n",
      "    \n",
      "    Find data for emissions from distance travelled.\n",
      "    \n",
      "    * $CO_2$ calculators\n",
      "    * IPCC Tier 2 methods\n",
      "\n",
      "* More complex solution: \n",
      "    \n",
      "    Take drivingstyle into account:\n",
      "    \n",
      "    * Accelleration\n",
      "    * Cruising\n",
      "    * Decelleration\n",
      "    * Idle"
     ]
    },
    {
     "cell_type": "heading",
     "level": 1,
     "metadata": {
      "slideshow": {
       "slide_type": "slide"
      }
     },
     "source": [
      "Modelling of Climate Gas emissions"
     ]
    },
    {
     "cell_type": "markdown",
     "metadata": {},
     "source": [
      "IPCC methods:\n",
      "\n",
      "Three Tiers which target national emissions\n",
      "\n",
      "* Tier 1\n",
      "\n",
      "   * Based on sales figures for fuels\n",
      "   * Conversion of fuel to emission\n",
      "* Tier 2\n",
      "\n",
      "   * Consumption divided by vehicle technology and type\n",
      "* Tier 3\n",
      "\n",
      "   * Activity based emission modelling"
     ]
    },
    {
     "cell_type": "heading",
     "level": 1,
     "metadata": {
      "slideshow": {
       "slide_type": "slide"
      }
     },
     "source": [
      "Modelling of Climate Gas emissions"
     ]
    },
    {
     "cell_type": "markdown",
     "metadata": {},
     "source": [
      "Tier 1:\n",
      "\n",
      "* Estimate emissions according natinal fuel consumption\n",
      "* Very highlevel approach\n",
      "* Unsuitable for single trip estimation\n"
     ]
    },
    {
     "cell_type": "heading",
     "level": 1,
     "metadata": {
      "slideshow": {
       "slide_type": "slide"
      }
     },
     "source": [
      "Modelling of Climate Gas emissions"
     ]
    },
    {
     "cell_type": "markdown",
     "metadata": {},
     "source": [
      "Tier 2:\n",
      "\n",
      "* Vehicles are divided into classes by:\n",
      "\n",
      "    * Vehicle type (passenger car, Light duty van ...)\n",
      "    * Engine size\n",
      "    * Fuel type\n",
      "    * Emission regulation (mainly age)\n",
      "* Emission factors given for three speed profiles:\n",
      "\n",
      "    * Urban\n",
      "    * Rural\n",
      "    * Highway\n",
      "    \n"
     ]
    },
    {
     "cell_type": "heading",
     "level": 1,
     "metadata": {
      "slideshow": {
       "slide_type": "slide"
      }
     },
     "source": [
      "Modelling of Climate Gas emissions"
     ]
    },
    {
     "cell_type": "markdown",
     "metadata": {},
     "source": [
      "Tier 3:\n",
      "\n",
      "* Based on activity data :\n",
      "    \n",
      "    * Emission factors derived from measurements. (ARTEMIS)\n",
      "    * Cold start data\n",
      "    * Other sources of Climate gases (lubricants,...)\n",
      "\n"
     ]
    },
    {
     "cell_type": "heading",
     "level": 1,
     "metadata": {
      "slideshow": {
       "slide_type": "slide"
      }
     },
     "source": [
      "Modelling of Climate Gas emissions"
     ]
    },
    {
     "cell_type": "markdown",
     "metadata": {},
     "source": [
      "\n",
      "<img src=\"tier3.tiff\" height=\"40\" >"
     ]
    },
    {
     "cell_type": "heading",
     "level": 1,
     "metadata": {
      "slideshow": {
       "slide_type": "slide"
      }
     },
     "source": [
      "Modelling of Climate Gas emissions"
     ]
    },
    {
     "cell_type": "markdown",
     "metadata": {},
     "source": [
      "Conclusion:\n",
      "\n",
      "   * Both Tier 2 and 3 have data that can be used for single trip emission models\n",
      "   "
     ]
    },
    {
     "cell_type": "heading",
     "level": 1,
     "metadata": {
      "slideshow": {
       "slide_type": "slide"
      }
     },
     "source": [
      "Modelling of emission of Air Pollution"
     ]
    },
    {
     "cell_type": "markdown",
     "metadata": {},
     "source": [
      "Scales of modelling:\n",
      "\n",
      "* Regional (Hemispherical)\n",
      "* Urban background\n",
      "* Local (Street level)\n",
      "\n",
      "![](scales.png)"
     ]
    },
    {
     "cell_type": "heading",
     "level": 1,
     "metadata": {
      "slideshow": {
       "slide_type": "slide"
      }
     },
     "source": [
      "Modelling of emission of Air Pollution"
     ]
    },
    {
     "cell_type": "markdown",
     "metadata": {},
     "source": [
      "DASK-GAS (DAnish Solver for Kinetic GAS)\n",
      "\n",
      "![](dask.png)"
     ]
    },
    {
     "cell_type": "heading",
     "level": 1,
     "metadata": {
      "slideshow": {
       "slide_type": "slide"
      }
     },
     "source": [
      "Modelling of emission of Air Pollution"
     ]
    },
    {
     "cell_type": "markdown",
     "metadata": {},
     "source": [
      "![](dask_flow.png)"
     ]
    },
    {
     "cell_type": "heading",
     "level": 1,
     "metadata": {
      "slideshow": {
       "slide_type": "skip"
      }
     },
     "source": [
      "Modelling of emission of Air Pollution"
     ]
    },
    {
     "cell_type": "markdown",
     "metadata": {
      "slideshow": {
       "slide_type": "skip"
      }
     },
     "source": []
    },
    {
     "cell_type": "heading",
     "level": 1,
     "metadata": {
      "slideshow": {
       "slide_type": "slide"
      }
     },
     "source": [
      "Modelling of emission of Air Pollution"
     ]
    },
    {
     "cell_type": "markdown",
     "metadata": {},
     "source": [
      "Operational Street Pollution Model\n",
      "\n",
      "![](canyon.png)\n",
      "\n"
     ]
    },
    {
     "cell_type": "markdown",
     "metadata": {
      "slideshow": {
       "slide_type": "subslide"
      }
     },
     "source": [
      "![OSPM](OSPM.tiff)"
     ]
    },
    {
     "cell_type": "markdown",
     "metadata": {
      "slideshow": {
       "slide_type": "subslide"
      }
     },
     "source": [
      "![OSPM](traffic data.tiff)"
     ]
    },
    {
     "cell_type": "markdown",
     "metadata": {
      "slideshow": {
       "slide_type": "subslide"
      }
     },
     "source": [
      "![OSPM](Street cannyon model.tiff)"
     ]
    },
    {
     "cell_type": "markdown",
     "metadata": {
      "slideshow": {
       "slide_type": "subslide"
      }
     },
     "source": [
      "![OSPM](Street cannyon.tiff)"
     ]
    },
    {
     "cell_type": "heading",
     "level": 1,
     "metadata": {
      "slideshow": {
       "slide_type": "slide"
      }
     },
     "source": [
      "Modelling of emission of Air Pollution"
     ]
    },
    {
     "cell_type": "markdown",
     "metadata": {},
     "source": [
      "![](OSPM_nox.png)"
     ]
    },
    {
     "cell_type": "heading",
     "level": 1,
     "metadata": {
      "slideshow": {
       "slide_type": "slide"
      }
     },
     "source": [
      "Single Trip modelling"
     ]
    },
    {
     "cell_type": "markdown",
     "metadata": {},
     "source": [
      "EcoSense data collection enables single trip emission modelling\n",
      "\n",
      "  * GPS and accellerometer data\n",
      "  * Precise positioning and activity data"
     ]
    },
    {
     "cell_type": "heading",
     "level": 1,
     "metadata": {
      "slideshow": {
       "slide_type": "slide"
      }
     },
     "source": [
      "Single Trip modelling"
     ]
    },
    {
     "cell_type": "markdown",
     "metadata": {},
     "source": [
      "* GPS data to speed profiles\n"
     ]
    },
    {
     "cell_type": "heading",
     "level": 1,
     "metadata": {
      "slideshow": {
       "slide_type": "slide"
      }
     },
     "source": [
      "Single Trip modelling"
     ]
    },
    {
     "cell_type": "markdown",
     "metadata": {},
     "source": [
      "* Accellerometer data to activity data\n",
      "   \n",
      "   * Idle mode detection\n",
      "   \n",
      "<img src=\"idle_henrik.png\" width=\"600px\" >"
     ]
    },
    {
     "cell_type": "heading",
     "level": 1,
     "metadata": {
      "slideshow": {
       "slide_type": "slide"
      }
     },
     "source": [
      "Single Trip modelling\n"
     ]
    },
    {
     "cell_type": "markdown",
     "metadata": {},
     "source": [
      "Accellerometer data and spectogram\n",
      "\n",
      "<img src=\"idle_bmw.png\" width=\"600px\" >"
     ]
    },
    {
     "cell_type": "heading",
     "level": 1,
     "metadata": {
      "slideshow": {
       "slide_type": "slide"
      }
     },
     "source": [
      "Single Trip modelling"
     ]
    },
    {
     "cell_type": "markdown",
     "metadata": {},
     "source": [
      "<img src=\"speed_division_zoom.png\" width=\"600px\" >"
     ]
    },
    {
     "cell_type": "heading",
     "level": 1,
     "metadata": {
      "slideshow": {
       "slide_type": "slide"
      }
     },
     "source": [
      "Single Trip modelling"
     ]
    },
    {
     "cell_type": "markdown",
     "metadata": {},
     "source": [
      "<img src=\"emission_vs_speed.png\" width=\"600px\" >"
     ]
    },
    {
     "cell_type": "heading",
     "level": 1,
     "metadata": {
      "slideshow": {
       "slide_type": "slide"
      }
     },
     "source": [
      "Scientific Contributions"
     ]
    },
    {
     "cell_type": "markdown",
     "metadata": {},
     "source": [
      "* Delivered a simple single trip emission model\n",
      "\n",
      "    * speed based emission model\n",
      "    * distances via GPS traces\n",
      "\n",
      "* Method for estimating driving style:\n",
      "\n",
      "    * Idle\n",
      "    * Accelleration\n",
      "    * Decelleration\n",
      "    * Cruise"
     ]
    },
    {
     "cell_type": "heading",
     "level": 1,
     "metadata": {
      "slideshow": {
       "slide_type": "slide"
      }
     },
     "source": [
      "Future contributions"
     ]
    },
    {
     "cell_type": "markdown",
     "metadata": {},
     "source": [
      "* Improved single trip emission model.\n",
      "\n",
      "    * Implementing driving style related emissions\n",
      "    \n",
      "* Aggregation of trips\n",
      "\n",
      "    * Aggregate trips to estimate traffic volumes at specific routes\n",
      "    "
     ]
    },
    {
     "cell_type": "heading",
     "level": 1,
     "metadata": {
      "slideshow": {
       "slide_type": "slide"
      }
     },
     "source": [
      "Future contributions"
     ]
    },
    {
     "cell_type": "markdown",
     "metadata": {},
     "source": [
      "* Improve pollution modelling:\n",
      "\n",
      "    * The input to existing models can be improved, by using mobile sensed data\n",
      "    "
     ]
    },
    {
     "cell_type": "heading",
     "level": 1,
     "metadata": {
      "slideshow": {
       "slide_type": "slide"
      }
     },
     "source": [
      "Plan for remaining period"
     ]
    },
    {
     "cell_type": "markdown",
     "metadata": {},
     "source": [
      "2014 :\n",
      "\n",
      "* Paper on Enterprise Architecture\n",
      "* Phd course at DTU\n",
      "* Phd course at AAU\n",
      "* Implement improved emission model\n",
      "* Work on pollution model\n",
      "2015:\n",
      "\n",
      "* Paper on pollution model\n",
      "* Paper on improved model\n",
      "* Stay abroad (may-august)\n",
      "* Paper as a result of stay abroad\n",
      "* Aggregation of single trips\n",
      "* Paper on aggregation\n",
      "\n",
      "\n",
      "2016:\n",
      "\n",
      "* Write disertation (to be handed in august 2016)"
     ]
    },
    {
     "cell_type": "heading",
     "level": 1,
     "metadata": {
      "slideshow": {
       "slide_type": "skip"
      }
     },
     "source": [
      "Conclusion"
     ]
    },
    {
     "cell_type": "markdown",
     "metadata": {
      "slideshow": {
       "slide_type": "skip"
      }
     },
     "source": []
    },
    {
     "cell_type": "markdown",
     "metadata": {
      "slideshow": {
       "slide_type": "skip"
      }
     },
     "source": []
    },
    {
     "cell_type": "heading",
     "level": 1,
     "metadata": {
      "slideshow": {
       "slide_type": "slide"
      }
     },
     "source": [
      "Key references"
     ]
    },
    {
     "cell_type": "markdown",
     "metadata": {
      "slideshow": {
       "slide_type": "-"
      }
     },
     "source": [
      "* L. Ntziachristos, Z. Samaras, C. Kouridis, D. Hassel, I. Mccrae, J. Hickman, K.-h. Zierock, M. Andre, M. Winther, N. Gorissen, P. Boulter, R. Joumard, R. Rijkeboer, S. Geivanidis, and S. Hausberger. EMEP/EEA emission inventory guidebook 2009, updated May 2012 1. Number May. European Environment Agency (EEA), 2012.\n",
      "* M. B. Kj\u00e6rgaard, J. Langdal, T. Godsk, and T. Toftkj\u00e6r. EnTracked : Energy- Efficient Robust Position Tracking for Mobile Devices. Proceedings of the 7th inter- national conference on Mobile systems, applications, and services, pages 221\u2013234, 2009.\n",
      "* S. Hemminki, P. Nurmi, and S. Tarkoma. Accelerometer-based transportation mode detection on smartphones. Proceedings of the 11th ACM Conference on Embedded Networked Sensor Systems - SenSys \u201913, pages 1\u201314, 2013."
     ]
    },
    {
     "cell_type": "code",
     "collapsed": false,
     "input": [],
     "language": "python",
     "metadata": {},
     "outputs": []
    }
   ],
   "metadata": {}
  }
 ]
}