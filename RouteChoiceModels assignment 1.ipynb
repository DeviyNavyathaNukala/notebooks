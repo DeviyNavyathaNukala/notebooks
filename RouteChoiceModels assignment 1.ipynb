{
 "cells": [
  {
   "cell_type": "markdown",
   "metadata": {},
   "source": [
    "# Assignment 1 Anders Lehmann"
   ]
  },
  {
   "cell_type": "markdown",
   "metadata": {},
   "source": [
    "## Exercise 1"
   ]
  },
  {
   "cell_type": "markdown",
   "metadata": {},
   "source": [
    "Some preparations:\n",
    "\n",
    "A datastructure to represent the network:"
   ]
  },
  {
   "cell_type": "code",
   "execution_count": 12,
   "metadata": {
    "collapsed": false
   },
   "outputs": [],
   "source": [
    "network = {1:{'T0':40,'C':10000,'a':0.5,'b':4},\n",
    "           2:{'T0':10,'C':10000,'a':0.5,'b':4},\n",
    "           3:{'T0':10,'C':10000,'a':0.5,'b':4},\n",
    "           4:{'T0':40,'C':10000,'a':0.5,'b':4},\n",
    "           }\n",
    "\n",
    "nodes = {'O':[1,2],'A':[1,3],'B':[2,4],'D':[3,4]}\n",
    "Paths = [(1,3),(2,4),(2,5,3)]"
   ]
  },
  {
   "cell_type": "markdown",
   "metadata": {},
   "source": [
    "Some functions to calculate linktraveltimes (BPR), the integral of BPR, the System Optimum objective function and the derivative of BPR (grad).\n",
    "\n",
    "The class remembers the data for the link, so that you do not have to call pass the the parameters as arguments, for each calculation."
   ]
  },
  {
   "cell_type": "code",
   "execution_count": 85,
   "metadata": {
    "collapsed": false
   },
   "outputs": [],
   "source": [
    "def BPR(T0,a,b,x,C,**args):\n",
    "    return T0*(1+a*((x*1.0/C)**b))\n",
    "\n",
    "def iBPR(T0,a,b,x,C,**args):\n",
    "    return T0*(x + a/(b+1)/(C**b)*((x*1.0))**(b+1))\n",
    "\n",
    "def SO(T0,a,b,x,C,**args):\n",
    "    return T0*(x + a/(C**b)*((x*1.0))**(b+1))\n",
    "\n",
    "def grad(T0,a,b,x,C,**args):\n",
    "    return T0*(b)*a/(C**b)*x**(b-1)\n",
    "\n",
    "\n",
    "\n",
    "class LinkT:\n",
    "    def __init__(self,v):\n",
    "        self.v = v\n",
    "    def __call__(self,x):\n",
    "        return BPR(x=x,**self.v)\n",
    "    def iBPR(self,x):\n",
    "        return iBPR(x=x,**self.v)\n",
    "    def SysOP(self,x):\n",
    "        return SO(x=x,**self.v)\n",
    "    def grad(self,x):\n",
    "        return grad(x=x,**self.v)\n",
    "    def cost(self,x):\n",
    "        return BPR(x=x,**self.v)*self.v['VoT'] + self.v['Toll']\n",
    "     \n",
    "\n",
    "def prepare():\n",
    "    t = []; it = []; so = []; sense =[]\n",
    "    for i in range(len(network)):\n",
    "        v = network[i+1]\n",
    "        f = LinkT(v)\n",
    "        t.append(f)\n",
    "        it.append(f.iBPR)\n",
    "        so.append(f.SysOP)\n",
    "        sense.append(f.grad)\n",
    "    return t,it,so,sense\n",
    "\n",
    "t,it,so,sense = prepare()"
   ]
  },
  {
   "cell_type": "markdown",
   "metadata": {},
   "source": [
    "### Question 1a:"
   ]
  },
  {
   "cell_type": "markdown",
   "metadata": {},
   "source": [
    "\n",
    "\n",
    "If only one car enters the network the travel time equal to the lowest travel time of path 1,3 or 2,4, which are both equal to 50 minutes"
   ]
  },
  {
   "cell_type": "markdown",
   "metadata": {},
   "source": [
    "### Question 1b:"
   ]
  },
  {
   "cell_type": "markdown",
   "metadata": {},
   "source": [
    "\n",
    "\n",
    "In the user equilibrium, noone can lower their traveltime by changing the route - the travel time for all routes must be equal on all routes.\n",
    "\n",
    "Path$_{1,3}$ = BPR$_1$ + BPR$_3$ = $T_0^1(1 +{\\alpha}^1(\\frac{x_{1,3}}{C^1})^{\\beta^1}) + T_0^3(1 +{\\alpha}^3(\\frac{x_{1,3}}{C^3})^{\\beta^3})$ \n",
    "\n",
    "Path$_{2,4}$ = BPR$_2$ + BPR$_4$ = $T_0^2(1 +{\\alpha}^2(\\frac{x_{2,4}}{C^2})^{\\beta^2}) + T_0^4(1 +{\\alpha}^4(\\frac{x_{2,4}}{C^4})^{\\beta^4})$ "
   ]
  },
  {
   "cell_type": "markdown",
   "metadata": {},
   "source": [
    "The traveltime on each path must be equal, and since the to paths have the same parameters, they have the samme traffic volume\n"
   ]
  },
  {
   "cell_type": "markdown",
   "metadata": {},
   "source": [
    "The result is that each path takes half of the trafic flow (9500) and the travel time will be"
   ]
  },
  {
   "cell_type": "code",
   "execution_count": 14,
   "metadata": {
    "collapsed": false
   },
   "outputs": [
    {
     "data": {
      "text/plain": [
       "70.36265625"
      ]
     },
     "execution_count": 14,
     "metadata": {},
     "output_type": "execute_result"
    }
   ],
   "source": [
    "Traveltime =  t[0](9500)+t[2](9500)\n",
    "Traveltime"
   ]
  },
  {
   "cell_type": "markdown",
   "metadata": {},
   "source": [
    "### Question 1c:"
   ]
  },
  {
   "cell_type": "markdown",
   "metadata": {},
   "source": [
    "\n",
    "\n",
    "The System Optimum is when the total travel time is the lowest.\n",
    "\n"
   ]
  },
  {
   "cell_type": "code",
   "execution_count": 15,
   "metadata": {
    "collapsed": false
   },
   "outputs": [],
   "source": [
    "TotFlow = 19000\n",
    "q_rs = TotFlow\n",
    "\n",
    "def SO(X1):\n",
    "    X2 = TotFlow-X1\n",
    "\n",
    "    return (X1*BPR(50,0.5,4,X1,10000) + X2*BPR(50,0.5,4,X2,10000))/TotFlow\n"
   ]
  },
  {
   "cell_type": "code",
   "execution_count": 16,
   "metadata": {
    "collapsed": false
   },
   "outputs": [
    {
     "data": {
      "text/plain": [
       "[<matplotlib.lines.Line2D at 0x110d32950>]"
      ]
     },
     "execution_count": 16,
     "metadata": {},
     "output_type": "execute_result"
    },
    {
     "data": {
      "image/png": "[encoded data removed]",
      "text/plain": [
       "<matplotlib.figure.Figure at 0x110cac390>"
      ]
     },
     "metadata": {},
     "output_type": "display_data"
    }
   ],
   "source": [
    "x = linspace(8000, 11000)\n",
    "\n",
    "plot(x,SO(x))"
   ]
  },
  {
   "cell_type": "markdown",
   "metadata": {},
   "source": [
    "As it can be seen from the curve, the System Optimum coincides with the User Equilibrium. "
   ]
  },
  {
   "cell_type": "markdown",
   "metadata": {},
   "source": [
    "## Exercise 2"
   ]
  },
  {
   "cell_type": "markdown",
   "metadata": {},
   "source": [
    "### Question 2a:"
   ]
  },
  {
   "cell_type": "markdown",
   "metadata": {},
   "source": [
    "\n",
    "If only one car enters the network the traveltime will be the lowest possible : 25 minutes (link2, link5 and link 3)"
   ]
  },
  {
   "cell_type": "markdown",
   "metadata": {},
   "source": [
    "### Question 2b:"
   ]
  },
  {
   "cell_type": "markdown",
   "metadata": {},
   "source": [
    "\n",
    "The User Equilibrium with ekstra link will be (simplified since $\\alpha$ and $\\beta$ and the capacity are the same on all links):\n",
    "\n",
    "\n",
    "\n",
    "$Path_{1,3}$ = BPR$_1$ + BPR$_3$ = $T_0^1(1 +{\\alpha}(\\frac{x_{1}}{C})^{\\beta}) + T_0^3(1 +{\\alpha}(\\frac{x_{3}}{C})^{\\beta})$ \n",
    "\n",
    "$Path_{2,4}$ = BPR$_2$ + BPR$_4$ = $T_0^2(1 +{\\alpha}(\\frac{x_{2}}{C})^{\\beta}) + T_0^4(1 +{\\alpha}(\\frac{x_{4}}{C})^{\\beta})$ \n",
    "\n",
    "$Path_{2,5,3}$ = BPR$_2$ + BPR$_5$ + BPR$_3$ = $T_0^2(1 +{\\alpha}(\\frac{x_{2}}{C})^{\\beta}) + T_0^5(1 +{\\alpha}(\\frac{x_{5}}{C})^{\\beta}) + T_0^3(1 +{\\alpha}(\\frac{x_{3}}{C})^{\\beta})$ \n",
    "\n",
    "The Beckman transform :\n",
    "\n",
    "$z(x) = \\int_0^{x_{1}}T_0^1(1 +{\\alpha}(\\frac{\\omega}{C})^{\\beta})d\\omega + \\int_0^{x_3}T_0^3(1 +{\\alpha}(\\frac{\\omega}{C})^{\\beta})d\\omega+ \\int_0^{x_2}T_0^2(1 +{\\alpha}(\\frac{\\omega}{C})^{\\beta})d\\omega+ \\int_0^{x_4}T_0^4(1 +{\\alpha}(\\frac{\\omega}{C})^{\\beta})d\\omega+ \\int_0^{x_5}T_0^5(1 +{\\alpha}(\\frac{\\omega}{C})^{\\beta})d\\omega$\n",
    "\n",
    "which is equal to :\n",
    "\n",
    "$min(z) = \\sum_a T_0^ax_a + \\frac{T_0^a\\alpha}{C^{\\beta}(\\beta+1)}x_a^{\\beta+1}$\n",
    "\n",
    "\n",
    "\n",
    "\n",
    "\n",
    "Conditions:\n",
    "\n",
    "$x_1 + x_2 = 19000$\n",
    "\n",
    "$x_3 = x_1+ x_5$\n",
    "\n",
    "$x_2 = x_5 + x_4$\n",
    "\n",
    "$x_3 + x_4 = 19000$\n",
    "\n",
    "By symmetry considerations this can be reduced to:\n",
    "\n",
    "$x_1 = x$\n",
    "\n",
    "$x_2 = 19000 - x_1$\n",
    "\n",
    "$x_3 = x_2 = 19000- x_1$\n",
    "\n",
    "$x_4 = x_1$\n",
    "\n",
    "$x_5 = x_3 - x_1 = 19000 -2*x_1$\n",
    "\n",
    "\n"
   ]
  },
  {
   "cell_type": "code",
   "execution_count": 27,
   "metadata": {
    "collapsed": false
   },
   "outputs": [],
   "source": [
    "network = {1:{'T0':40,'C':10000,'a':0.5,'b':4},\n",
    "           2:{'T0':10,'C':10000,'a':0.5,'b':4},\n",
    "           3:{'T0':10,'C':10000,'a':0.5,'b':4},\n",
    "           4:{'T0':40,'C':10000,'a':0.5,'b':4},\n",
    "           5:{'T0':5,'C':10000,'a':0.5,'b':4},}\n",
    "\n",
    "def Time253(x2,x5,x3):\n",
    "    return t[1](x2)+t[4](x5)+t[2](x3)\n",
    "def Time13(x1,x3):\n",
    "    return t[0](x1)+t[2](x3)\n",
    "def Time24(x2,x4):\n",
    "    return t[1](x2)+t[3](x4)"
   ]
  },
  {
   "cell_type": "code",
   "execution_count": 18,
   "metadata": {
    "collapsed": false
   },
   "outputs": [
    {
     "data": {
      "text/plain": [
       "[<matplotlib.lines.Line2D at 0x110cbbe90>]"
      ]
     },
     "execution_count": 18,
     "metadata": {},
     "output_type": "execute_result"
    },
    {
     "data": {
      "image/png": "[encoded data removed]",
      "text/plain": [
       "<matplotlib.figure.Figure at 0x110cac3d0>"
      ]
     },
     "metadata": {},
     "output_type": "display_data"
    }
   ],
   "source": [
    "x1 = linspace(4340,4412)\n",
    "\n",
    "x2 = 19000 -x1\n",
    "x5 = 19000 -2*x1\n",
    "x4 = x1 \n",
    "x3 = 19000 - x4 \n",
    "\n",
    "t,it,so,sense = prepare()\n",
    "\n",
    "plot(x1,Time253(x2,x5,x3))\n",
    "plot(x1,Time13(x1,x3))\n",
    "plot(x1,Time24(x2,x4))"
   ]
  },
  {
   "cell_type": "markdown",
   "metadata": {},
   "source": [
    "The graphical solution gives the flows and Path traveltimes:"
   ]
  },
  {
   "cell_type": "code",
   "execution_count": 19,
   "metadata": {
    "collapsed": false
   },
   "outputs": [
    {
     "name": "stdout",
     "output_type": "stream",
     "text": [
      "Flows  4363 14637 14637 4363 10274\n",
      "73.67, 73.67, 73.69\n"
     ]
    }
   ],
   "source": [
    "def flow(x1):\n",
    "    x2 = 19000 -x1\n",
    "    x5 = 19000 - 2*x1\n",
    "    x4 = x1 # Symmetri x2 - x5\n",
    "    x3 = 19000 - x4 #x1 + x5\n",
    "    return x1,x2,x3,x4,x5\n",
    "\n",
    "x1 = 4363\n",
    "x1,x2,x3,x4,x5 = flow(x1)\n",
    "print \"Flows \",x1,x2,x3,x4,x5\n",
    "print \"{:.2f}, {:.2f}, {:.2f}\".format(Time13(x1,x3),Time24(x2,x4),Time253(x2,x5,x3))"
   ]
  },
  {
   "cell_type": "markdown",
   "metadata": {},
   "source": [
    "#### Frank-Wolfe algorithm"
   ]
  },
  {
   "cell_type": "markdown",
   "metadata": {},
   "source": [
    "The following is an attempt at implementing the Frank-Wolfe optimization algorithm for the User equilibrium. It is rough and not very precise, since I have not figured out a way to control the convergence properly. This version is made to keep the runtime minimal."
   ]
  },
  {
   "cell_type": "code",
   "execution_count": 20,
   "metadata": {
    "collapsed": false
   },
   "outputs": [],
   "source": [
    "eps = 0.1\n",
    "\n",
    "no_f = lambda x:0\n",
    "\n",
    "def sum_int(x,y,a,t):\n",
    "    new_x = x + a*(y-x)\n",
    "    integrals = [t0(nx) for t0,nx in zip(t,new_x)]\n",
    "    return sum(integrals)\n",
    "\n",
    "def find_min(x,y,t):\n",
    "    ma = 1; mi = 0; res = 0\n",
    "    #while (ma-mi)>eps/50.:\n",
    "    for i in range(10):\n",
    "        mini = sum_int(x,y,mi,t)\n",
    "        maxi = sum_int(x,y,ma,t)    \n",
    "        \n",
    "        delta = (ma-mi)/2.\n",
    "        if maxi<mini:\n",
    "            mi = mi + delta\n",
    "            res = mi\n",
    "        else:\n",
    "            ma = ma - delta\n",
    "            res = ma\n",
    "    return res\n",
    "        \n",
    "\n",
    "def UE(do_plot=False):\n",
    "    def find_Y_alfa(x,Path):\n",
    "        g = [sum (array([t0(x0) for t0,x0 in zip(p,x)])) for p in Path]\n",
    "\n",
    "        direction = Paths[g.index(min(g))]\n",
    "        y = zeros(5)\n",
    "        for i in direction:\n",
    "            y[i-1] = q_rs\n",
    "\n",
    "        alfa = find_min(x,y,it) # Use the integral functions to do the search\n",
    "\n",
    "        return y,alfa\n",
    "\n",
    "\n",
    "    error = 1000\n",
    "    X = array([0,q_rs,q_rs,0,q_rs])\n",
    "    \n",
    "    iPath =[(it[0],no_f,it[2],no_f,no_f),(no_f,it[1],no_f,it[3],no_f),(no_f,it[1],it[2],no_f,it[4])]\n",
    "    Path =[(t[0],no_f,t[2],no_f,no_f),(no_f,t[1],no_f,t[3],no_f),(no_f,t[1],t[2],no_f,t[4])]\n",
    "    \n",
    "    T0 = array([t0(x) for t0,x in zip(t,X)])\n",
    "    \n",
    "    \n",
    "    #while error > eps:\n",
    "    for i in range(25):\n",
    "\n",
    "    \n",
    "        Y,alfa = find_Y_alfa(X,Path)\n",
    "        if do_plot:\n",
    "\n",
    "            a = linspace(0,1)\n",
    "            plot(a, [sum_int(X,Y,a0,it) for a0 in a])\n",
    "            title(alfa)\n",
    "            figure()\n",
    "        delta = alfa*(Y-X)\n",
    "        \n",
    "        X = X + delta\n",
    "        #print \"X\",X\n",
    "\n",
    "        T0 = array([t0(x) for t0,x in zip(t,X)])\n",
    "        g = array([sum (array([t0(x0) for t0,x0 in zip(p,X)])) for p in Path])\n",
    "        #print \"g\",g    \n",
    "        error = g.std()\n",
    "        #print \"Q\",X[0]+X[1],\"Q_o\", X[2]+X[3], error    \n",
    "    return X,T0,g"
   ]
  },
  {
   "cell_type": "code",
   "execution_count": 95,
   "metadata": {
    "collapsed": false
   },
   "outputs": [],
   "source": [
    "network = {1:{'T0':40,'C':10000,'a':0.5,'b':4},\n",
    "           2:{'T0':10,'C':10000,'a':0.5,'b':4},\n",
    "           3:{'T0':10,'C':10000,'a':0.5,'b':4},\n",
    "           4:{'T0':40,'C':10000,'a':0.5,'b':4},\n",
    "           5:{'T0':5,'C':10000,'a':0.5,'b':4},}\n",
    "\n",
    "t,it,so,sense = prepare()\n",
    "UE_X,T0,g=UE()"
   ]
  },
  {
   "cell_type": "code",
   "execution_count": 97,
   "metadata": {
    "collapsed": false
   },
   "outputs": [
    {
     "name": "stdout",
     "output_type": "stream",
     "text": [
      "[  4373.46913501  14626.53086499  14632.88442663   4367.11557337\n",
      "  10259.41529162]\n",
      "73.66, 73.61, 73.58\n",
      "[ 40.73170203  32.88417879  32.92396698  40.72745936   7.76968544]\n",
      "5.60025\n"
     ]
    }
   ],
   "source": [
    "x1,x2,x3,x4,x5 = UE_X\n",
    "print UE_X\n",
    "print \"{:.2f}, {:.2f}, {:.2f}\".format(Time13(x1,x3),Time24(x2,x4),Time253(x2,x5,x3))\n",
    "print T0\n",
    "print t[4](7000)"
   ]
  },
  {
   "cell_type": "markdown",
   "metadata": {},
   "source": [
    "As can be seen from the above, the implemented algorithm comes close to the real solution."
   ]
  },
  {
   "cell_type": "markdown",
   "metadata": {},
   "source": [
    "### Question 2c/d"
   ]
  },
  {
   "cell_type": "markdown",
   "metadata": {},
   "source": [
    "\n",
    "The travel time increases, compared to exercise 1, as the paths 2 and 3 gets congested, so the travel times on these links become 3 times the freeflow time."
   ]
  },
  {
   "cell_type": "markdown",
   "metadata": {},
   "source": [
    "### Question 2e"
   ]
  },
  {
   "cell_type": "markdown",
   "metadata": {},
   "source": [
    "Below is an attempt to (re)use the Frank-Wolfe algorithm to find the System Optimum"
   ]
  },
  {
   "cell_type": "code",
   "execution_count": 23,
   "metadata": {
    "collapsed": false
   },
   "outputs": [],
   "source": [
    "def total_travel_time(u):\n",
    "    \n",
    "    return sum(array([t0(x)*x for t0,x in zip(t,u)]))"
   ]
  },
  {
   "cell_type": "code",
   "execution_count": 24,
   "metadata": {
    "collapsed": false
   },
   "outputs": [
    {
     "name": "stdout",
     "output_type": "stream",
     "text": [
      "187.90125\n",
      "73.6035185801\n"
     ]
    }
   ],
   "source": [
    "q_rs = 19000\n",
    "print total_travel_time(array([0,q_rs,q_rs,0,q_rs]))/q_rs\n",
    "print total_travel_time(UE_X)/q_rs"
   ]
  },
  {
   "cell_type": "code",
   "execution_count": 36,
   "metadata": {
    "collapsed": false
   },
   "outputs": [],
   "source": [
    "def SysOpt(do_plot=False):\n",
    "    def find_Y_alfa(x,Path):\n",
    "        g = [sum (array([t0(x0)*x0 for t0,x0 in zip(p,x)])) for p in Path]\n",
    "        direction = Paths[g.index(min(g))]\n",
    "    \n",
    "        y = zeros(5)\n",
    "        for i in direction:\n",
    "            y[i-1] = q_rs\n",
    "\n",
    "        alfa = find_min(x,y,so)\n",
    "        return y,alfa\n",
    "\n",
    "\n",
    "    eps = 0.0051\n",
    "    error = 1e8\n",
    "    Old_T0 = error*1000\n",
    "    Path =[(so[0],no_f,so[2],no_f,no_f),(no_f,so[1],no_f,so[3],no_f),(no_f,so[1],so[2],no_f,so[4])]\n",
    "    \n",
    "    X = [0,q_rs,q_rs,0,q_rs] \n",
    "    T0 = array([t0(x)*x for t0,x in zip(t,X)])\n",
    "    \n",
    "    while error > eps:\n",
    "    #for i in range(10):\n",
    "    \n",
    "        Y,alfa = find_Y_alfa(X,Path)\n",
    "        if do_plot:\n",
    "            a = linspace(0,1)\n",
    "            plot(a, [sum_int(X,Y,a0,so) for a0 in a])\n",
    "            figure()\n",
    "        delta = alfa*(Y-X)\n",
    "\n",
    "        X = X + delta\n",
    "        T0 = array([t0(x)*x for t0,x in zip(t,X)])\n",
    "        g = array([sum (array([t0(x0)*x0 for t0,x0 in zip(p,X)])) for p in Path])\n",
    "        error = abs( Old_T0 - sum(T0))/Old_T0\n",
    "        Old_T0 = sum(T0)\n",
    "        #print \"Q\",X[0]+X[1],\"Q_o\", X[2]+X[3], error, Old_T0/q_rs\n",
    "    return Old_T0/q_rs, X,g"
   ]
  },
  {
   "cell_type": "code",
   "execution_count": 37,
   "metadata": {
    "collapsed": false
   },
   "outputs": [
    {
     "name": "stdout",
     "output_type": "stream",
     "text": [
      "(60.52438554723313, array([  6461.28575064,  12538.71424936,  12216.26560211,   6783.73439789,\n",
      "         5754.97985147]))\n",
      "[43.485826669465254, 22.358962797578844, 21.13586276287166, 44.23550636411106, 5.2742301735952974]\n",
      "64.62, 66.59, 48.77\n"
     ]
    }
   ],
   "source": [
    "sys_op = SysOpt()\n",
    "print sys_op[:2]\n",
    "print [to(xo) for to,xo in zip(t,sys_op[1])]\n",
    "x1,x2,x3,x4,x5 = sys_op[1]\n",
    "print \"{:.2f}, {:.2f}, {:.2f}\".format(Time13(x1,x3),Time24(x2,x4),Time253(x2,x5,x3))\n"
   ]
  },
  {
   "cell_type": "markdown",
   "metadata": {},
   "source": [
    "The result for the System Optimisation is a average travel time of 60,5 minutes, and flows for the links 1 through 5 of : 6461, 12539, 12216, 6784, 5755.\n",
    "\n",
    "The link travel times are 43.5, 22.4, 21.1, 44.2, 5.3 minutes each and the path travel times are : 64.62, 66.59, 48.77\n",
    "\n",
    "This is not an equilibrium since it would be beneficial for drivers to switch from route 1,3 or 2,4 to 2,3,5.\n"
   ]
  },
  {
   "cell_type": "markdown",
   "metadata": {},
   "source": [
    "### Question 2f"
   ]
  },
  {
   "cell_type": "markdown",
   "metadata": {},
   "source": [
    "In exercise 1 the SO was equal to the UE. This is not the case in the network in exercise 2. The addition of the fast link (link 5) forces traffic from link 1 and 4 to link 2 and 3, which then become congested. The links 1 and 4 are underused and 2 and 3 over used from a system perspective, "
   ]
  },
  {
   "cell_type": "markdown",
   "metadata": {},
   "source": [
    "Since the solution for the User Equlibrium means that noone can get a lower traveltime - the travel time of all the other paths will be larger (in the order of seconds) if one driver chooses to change route."
   ]
  },
  {
   "cell_type": "markdown",
   "metadata": {},
   "source": [
    "### Question 2g"
   ]
  },
  {
   "cell_type": "code",
   "execution_count": 298,
   "metadata": {
    "collapsed": false
   },
   "outputs": [
    {
     "name": "stdout",
     "output_type": "stream",
     "text": [
      "6461 12539 12539 6461 6078\n",
      "65.85, 65.85, 50.06\n",
      "One driver changes away from x1\n",
      "6460 12540 12540 6460 6080\n",
      "65.85, 65.85, 50.07\n"
     ]
    }
   ],
   "source": [
    "x1 = 6461\n",
    "x1,x2,x3,x4,x5 = flow(x1)\n",
    "\n",
    "print x1,x2,x3,x4,x5\n",
    "print \"{:.2f}, {:.2f}, {:.2f}\".format(Time13(x1,x3),Time24(x2,x4),Time253(x2,x5,x3))\n",
    "print \"One driver changes away from x1\"\n",
    "x1,x2,x3,x4,x5 = flow(x1-1)\n",
    "print x1,x2,x3,x4,x5\n",
    "print \"{:.2f}, {:.2f}, {:.2f}\".format(Time13(x1,x3),Time24(x2,x4),Time253(x2,x5,x3))"
   ]
  },
  {
   "cell_type": "markdown",
   "metadata": {},
   "source": [
    "The driver that changes will lower the traveltime with app. 15 minutes. The other drivers lose less than a second.\n",
    "\n",
    "The System optimum is when then average traveltime is at a minimum. But that can sometimes mean, depending on the network, that there ar drivers that experience traveltimes less than the average and others experiencing higher traveltimes. "
   ]
  },
  {
   "cell_type": "markdown",
   "metadata": {},
   "source": [
    "### Question 2h"
   ]
  },
  {
   "cell_type": "markdown",
   "metadata": {},
   "source": [
    "It is not an equilibrium, since there are differences in the traveltimes."
   ]
  },
  {
   "cell_type": "markdown",
   "metadata": {},
   "source": [
    "### Question 2i"
   ]
  },
  {
   "cell_type": "markdown",
   "metadata": {},
   "source": [
    "When the flow on a link approaches the capacity the traveltime on that link will approach infinity, meaning that the traffic will stop in a grid lock.\n"
   ]
  },
  {
   "cell_type": "markdown",
   "metadata": {},
   "source": [
    "## Exercise 3"
   ]
  },
  {
   "cell_type": "markdown",
   "metadata": {},
   "source": [
    "### Question 3a"
   ]
  },
  {
   "cell_type": "code",
   "execution_count": 38,
   "metadata": {
    "collapsed": false
   },
   "outputs": [],
   "source": [
    "network = {1:{'T0':40,'C':10000,'a':0.5,'b':4},\n",
    "           2:{'T0':10,'C':12500,'a':0.5,'b':4},\n",
    "           3:{'T0':10,'C':12500,'a':0.5,'b':4},\n",
    "           4:{'T0':40,'C':10000,'a':0.5,'b':4},\n",
    "           5:{'T0':5,'C':10000,'a':0.5,'b':4},}"
   ]
  },
  {
   "cell_type": "code",
   "execution_count": 39,
   "metadata": {
    "collapsed": false
   },
   "outputs": [],
   "source": [
    "t,it,so,sense = prepare()\n",
    "eps = 1\n",
    "ue = UE()\n",
    "sys_op = SysOpt()"
   ]
  },
  {
   "cell_type": "code",
   "execution_count": 40,
   "metadata": {
    "collapsed": false
   },
   "outputs": [
    {
     "name": "stdout",
     "output_type": "stream",
     "text": [
      "User Equilibrium Flow per link [  2470.9806119   16529.0193881   16523.95230135   2476.04769865\n",
      "  14052.97168945],\n",
      " time pr link [ 40.07456025  25.28686072  25.26812416  40.07517372  14.75018136] \n",
      " and time per path [ 65.34268441  65.36203443  65.30516624]\n",
      "\n",
      "System optimum average travel time  50.62 and flows pr link [  5454.57702869  13545.42297131  13366.47663917   5633.52336083\n",
      "   7911.89961049]\n"
     ]
    }
   ],
   "source": [
    "print \"User Equilibrium Flow per link {},\\n time pr link {} \\n and time per path {}\".format(*ue)\n",
    "print \n",
    "print \"System optimum average travel time  {:.2f} and flows pr link {}\".format(*sys_op[:2])\n"
   ]
  },
  {
   "cell_type": "markdown",
   "metadata": {},
   "source": [
    "### Question 3b"
   ]
  },
  {
   "cell_type": "markdown",
   "metadata": {},
   "source": [
    "The congestion on link 2 and 3 are still quite high - the low (freeflow) travel time offered on path  2,5,3 forces many more drivers away from link 1 and 4. So these links are underused and the SO is still quite lower than the UE"
   ]
  },
  {
   "cell_type": "markdown",
   "metadata": {},
   "source": [
    "### Question 3c"
   ]
  },
  {
   "cell_type": "code",
   "execution_count": 44,
   "metadata": {
    "collapsed": false
   },
   "outputs": [],
   "source": [
    "network = {1:{'T0':40,'C':10000,'a':0.5,'b':4},\n",
    "           2:{'T0':10,'C':12500,'a':0.5,'b':4},\n",
    "           3:{'T0':10,'C':12500,'a':0.5,'b':4},\n",
    "           4:{'T0':40,'C':10000,'a':0.5,'b':4},\n",
    "           5:{'T0':5,'C':12500,'a':0.5,'b':4},}"
   ]
  },
  {
   "cell_type": "code",
   "execution_count": 45,
   "metadata": {
    "collapsed": false
   },
   "outputs": [],
   "source": [
    "t,it,so,sense = prepare()  \n",
    "\n",
    "ue = UE(False)\n",
    "sys_op = SysOpt(False)"
   ]
  },
  {
   "cell_type": "code",
   "execution_count": 84,
   "metadata": {
    "collapsed": false
   },
   "outputs": [
    {
     "data": {
      "text/plain": [
       "7.361666666666666"
      ]
     },
     "execution_count": 84,
     "metadata": {},
     "output_type": "execute_result"
    }
   ],
   "source": [
    "6.31 *70/60"
   ]
  },
  {
   "cell_type": "code",
   "execution_count": 46,
   "metadata": {
    "collapsed": false
   },
   "outputs": [
    {
     "name": "stdout",
     "output_type": "stream",
     "text": [
      "User Equilibrium Flow per link [  1624.77647731  17375.22352269  17385.78363865   1614.21636135\n",
      "  15761.00716134],\n",
      " time pr link [ 40.01393813  28.66601254  28.7114324   40.01357929  11.31881764] \n",
      " and time per path [ 68.72537053  68.67959183  68.69626258]\n",
      "\n",
      "System optimum average travel time  50.44 and flows pr link [  5224.91619557  13775.08380443  13506.50682952   5493.49317048\n",
      "   8281.59063395]\n"
     ]
    }
   ],
   "source": [
    "print \"User Equilibrium Flow per link {},\\n time pr link {} \\n and time per path {}\".format(*ue)\n",
    "print \n",
    "print \"System optimum average travel time  {:.2f} and flows pr link {}\".format(*sys_op[:2])"
   ]
  },
  {
   "cell_type": "markdown",
   "metadata": {},
   "source": [
    "It seems that increasing the capacity on link 5 increases the UE instead of reducing it. The SO is reduced a little reflecting the extra capacity in link 5.\n",
    "\n",
    "The increased capacity on link 5 increases the congestion on links 2 and, thus increasing the traveltime on path 1,3 and 2,4 as well as 2,3,5"
   ]
  },
  {
   "cell_type": "markdown",
   "metadata": {},
   "source": [
    "### Question 3d"
   ]
  },
  {
   "cell_type": "markdown",
   "metadata": {},
   "source": [
    "Politicians want to reduce the traveltime for all people (reducing UE), as efficiently as possible (Have the SO as close to the UE as possible).\n",
    "\n",
    "Below is an example of reducing the freeflow time on link 1 and 4 with 5 minutes (all the capacities are the same). This has the effect of lowering the UE to 58 minutes and the SO to 47 minutes, reducing the difference between SO and UE. \n",
    "\n",
    "Since freeflow is determined by speed limits, intersection design, ramp design, overtaking design and other factors, it might be easier/cheaper to improve freeflow instead of capacity, since capacity means more lanes.\n",
    "\n",
    "My recommendation would be to look at improving freeflow on the slowest links, and I would argue that it would lead to a more efficient and faster road system."
   ]
  },
  {
   "cell_type": "code",
   "execution_count": 47,
   "metadata": {
    "collapsed": false
   },
   "outputs": [],
   "source": [
    "network = {1:{'T0':35,'C':10000,'a':0.5,'b':4},\n",
    "           2:{'T0':10,'C':10000,'a':0.5,'b':4},\n",
    "           3:{'T0':10,'C':10000,'a':0.5,'b':4},\n",
    "           4:{'T0':35,'C':10000,'a':0.5,'b':4},\n",
    "           5:{'T0':5,'C':10000,'a':0.5,'b':4},}"
   ]
  },
  {
   "cell_type": "code",
   "execution_count": 48,
   "metadata": {
    "collapsed": false
   },
   "outputs": [],
   "source": [
    "t,it,so,sense = prepare()  \n",
    "\n",
    "ue = UE(False)\n",
    "sys_op = SysOpt(False)"
   ]
  },
  {
   "cell_type": "code",
   "execution_count": 49,
   "metadata": {
    "collapsed": false
   },
   "outputs": [
    {
     "name": "stdout",
     "output_type": "stream",
     "text": [
      "User Equilibrium Flow per link [  4966.84037583  14033.15962417  14031.24895105   4968.75104895\n",
      "   9064.40857522],\n",
      " time pr link [ 36.06502269  29.39062758  29.38006928  36.06666243   6.6877103 ] \n",
      " and time per path [ 65.44509197  65.45729001  65.45840716]\n",
      "\n",
      "System optimum average travel time  56.18 and flows pr link [  7016.26465303  11983.73534697  12267.08234661   6732.91765339\n",
      "   5250.81769358]\n"
     ]
    }
   ],
   "source": [
    "print \"User Equilibrium Flow per link {},\\n time pr link {} \\n and time per path {}\".format(*ue)\n",
    "print \n",
    "print \"System optimum average travel time  {:.2f} and flows pr link {}\".format(*sys_op[:2])"
   ]
  },
  {
   "cell_type": "markdown",
   "metadata": {},
   "source": [
    "## Exercise 4"
   ]
  },
  {
   "cell_type": "markdown",
   "metadata": {},
   "source": [
    "### Question 4a"
   ]
  },
  {
   "cell_type": "code",
   "execution_count": 91,
   "metadata": {
    "collapsed": false
   },
   "outputs": [
    {
     "name": "stdout",
     "output_type": "stream",
     "text": [
      "[ 85.46553535  85.41411391  85.6150649 ]\n",
      "[ 85.46553535  85.41411391  86.6150649 ]\n",
      "[ 85.46553535  85.41411391  87.6150649 ]\n",
      "[ 85.46553535  85.41411391  88.6150649 ]\n",
      "[ 85.46553535  85.41411391  89.6150649 ]\n",
      "[ 85.46553535  85.41411391  90.6150649 ]\n",
      "[ 85.46553535  85.41411391  91.6150649 ]\n",
      "[ 85.46553535  85.41411391  92.6150649 ]\n",
      "[ 85.46553535  85.41411391  93.6150649 ]\n",
      "[ 85.46553535  85.41411391  94.6150649 ]\n",
      "[ 85.46553535  85.41411391  95.6150649 ]\n",
      "[ 85.46553535  85.41411391  96.6150649 ]\n",
      "[ 85.46553535  85.41411391  97.6150649 ]\n",
      "[ 85.46553535  85.41411391  98.6150649 ]\n",
      "[ 85.46553535  85.41411391  99.6150649 ]\n",
      "[  85.46553535   85.41411391  100.6150649 ]\n",
      "[  85.46553535   85.41411391  101.6150649 ]\n",
      "[  85.46553535   85.41411391  102.6150649 ]\n",
      "[  85.46553535   85.41411391  103.6150649 ]\n",
      "[  85.46553535   85.41411391  104.6150649 ]\n",
      "[  85.46553535   85.41411391  105.6150649 ]\n",
      "[  85.46553535   85.41411391  106.6150649 ]\n",
      "[  85.46553535   85.41411391  107.6150649 ]\n",
      "[  85.46553535   85.41411391  108.6150649 ]\n",
      "[  85.46553535   85.41411391  109.6150649 ]\n",
      "[  85.46553535   85.41411391  110.6150649 ]\n",
      "[  85.46553535   85.41411391  111.6150649 ]\n",
      "[  85.46553535   85.41411391  112.6150649 ]\n",
      "[  85.46553535   85.41411391  113.6150649 ]\n",
      "[  85.46553535   85.41411391  114.6150649 ]\n",
      "[  85.46553535   85.41411391  115.6150649 ]\n",
      "[  85.46553535   85.41411391  116.6150649 ]\n",
      "[  85.46553535   85.41411391  117.6150649 ]\n",
      "[  85.46553535   85.41411391  118.6150649 ]\n",
      "[  85.46553535   85.41411391  119.6150649 ]\n",
      "[  85.46553535   85.41411391  120.6150649 ]\n",
      "[  85.46553535   85.41411391  121.6150649 ]\n",
      "[  85.46553535   85.41411391  122.6150649 ]\n",
      "[  85.46553535   85.41411391  123.6150649 ]\n",
      "[  85.46553535   85.41411391  124.6150649 ]\n",
      "[  85.46553535   85.41411391  125.6150649 ]\n",
      "[  85.46553535   85.41411391  126.6150649 ]\n",
      "[  85.46553535   85.41411391  127.6150649 ]\n",
      "[  85.46553535   85.41411391  128.6150649 ]\n",
      "[  85.46553535   85.41411391  129.6150649 ]\n",
      "[  85.46553535   85.41411391  130.6150649 ]\n",
      "[  85.46553535   85.41411391  131.6150649 ]\n",
      "[  85.46553535   85.41411391  132.6150649 ]\n",
      "[  85.46553535   85.41411391  133.6150649 ]\n",
      "[  85.46553535   85.41411391  134.6150649 ]\n",
      "[  85.46553535   85.41411391  135.6150649 ]\n",
      "[  85.46553535   85.41411391  136.6150649 ]\n",
      "[  85.46553535   85.41411391  137.6150649 ]\n",
      "[  85.46553535   85.41411391  138.6150649 ]\n",
      "[  85.46553535   85.41411391  139.6150649 ]\n",
      "[  85.46553535   85.41411391  140.6150649 ]\n",
      "[  85.46553535   85.41411391  141.6150649 ]\n",
      "[  85.46553535   85.41411391  142.6150649 ]\n",
      "[  85.46553535   85.41411391  143.6150649 ]\n",
      "[  85.46553535   85.41411391  144.6150649 ]\n",
      "[  85.46553535   85.41411391  145.6150649 ]\n",
      "[  85.46553535   85.41411391  146.6150649 ]\n",
      "[  85.46553535   85.41411391  147.6150649 ]\n",
      "[  85.46553535   85.41411391  148.6150649 ]\n",
      "[  85.46553535   85.41411391  149.6150649 ]\n",
      "[  85.46553535   85.41411391  150.6150649 ]\n",
      "[  85.46553535   85.41411391  151.6150649 ]\n",
      "[  85.46553535   85.41411391  152.6150649 ]\n",
      "[  85.46553535   85.41411391  153.6150649 ]\n",
      "[  85.46553535   85.41411391  154.6150649 ]\n",
      "[  85.46553535   85.41411391  155.6150649 ]\n",
      "[  85.46553535   85.41411391  156.6150649 ]\n",
      "[  85.46553535   85.41411391  157.6150649 ]\n",
      "[  85.46553535   85.41411391  158.6150649 ]\n",
      "[  85.46553535   85.41411391  159.6150649 ]\n",
      "[  85.46553535   85.41411391  160.6150649 ]\n",
      "[  85.46553535   85.41411391  161.6150649 ]\n",
      "[  85.46553535   85.41411391  162.6150649 ]\n",
      "[  85.46553535   85.41411391  163.6150649 ]\n",
      "[  85.46553535   85.41411391  164.6150649 ]\n",
      "[  85.46553535   85.41411391  165.6150649 ]\n",
      "[  85.46553535   85.41411391  166.6150649 ]\n",
      "[  85.46553535   85.41411391  167.6150649 ]\n",
      "[  85.46553535   85.41411391  168.6150649 ]\n",
      "[  85.46553535   85.41411391  169.6150649 ]\n",
      "[  85.46553535   85.41411391  170.6150649 ]\n",
      "[  85.46553535   85.41411391  171.6150649 ]\n",
      "[  85.46553535   85.41411391  172.6150649 ]\n",
      "[  85.46553535   85.41411391  173.6150649 ]\n",
      "[  85.46553535   85.41411391  174.6150649 ]\n",
      "[  85.46553535   85.41411391  175.6150649 ]\n",
      "[  85.46553535   85.41411391  176.6150649 ]\n",
      "[  85.46553535   85.41411391  177.6150649 ]\n",
      "[  85.46553535   85.41411391  178.6150649 ]\n",
      "[  85.46553535   85.41411391  179.6150649 ]\n",
      "[  85.46553535   85.41411391  180.6150649 ]\n",
      "[  85.46553535   85.41411391  181.6150649 ]\n",
      "[  85.46553535   85.41411391  182.6150649 ]\n",
      "[  85.46553535   85.41411391  183.6150649 ]\n"
     ]
    }
   ],
   "source": [
    "res =[]\n",
    "for i in range(1,100) :\n",
    "    network = {1:{'T0':40,'C':10000,'a':0.5,'b':4,'VoT':70./60,'Toll':0},\n",
    "           2:{'T0':10,'C':10000,'a':0.5,'b':4,'VoT':70./60,'Toll':0},\n",
    "           3:{'T0':10,'C':10000,'a':0.5,'b':4,'VoT':70./60,'Toll':0},\n",
    "           4:{'T0':40,'C':10000,'a':0.5,'b':4,'VoT':70./60,'Toll':0},\n",
    "           5:{'T0':5,'C':10000,'a':0.5,'b':4,'VoT':70./60,'Toll':i*1.},}\n",
    "\n",
    "\n",
    "    t,it,so,sense = prepare()  \n",
    "    t = [x.cost for x in t]\n",
    "    ue = UE()\n",
    "    print ue[2]\n",
    "    cost = sum([ue[0][i]*ue[1][i]*network[i+1]['VoT'] + network[i+1]['Toll'] for i in range(len(network))])\n",
    "\n",
    "    res.append( (cost/q_rs,ue,i))\n",
    "    \n"
   ]
  },
  {
   "cell_type": "code",
   "execution_count": 87,
   "metadata": {
    "collapsed": false
   },
   "outputs": [
    {
     "name": "stdout",
     "output_type": "stream",
     "text": [
      "99\n",
      "0 99.7886989153 124.634581427\n"
     ]
    },
    {
     "data": {
      "image/png": "[encoded data removed]",
      "text/plain": [
       "<matplotlib.figure.Figure at 0x110e1a510>"
      ]
     },
     "metadata": {},
     "output_type": "display_data"
    }
   ],
   "source": [
    "dat = [x[0] for x in res]\n",
    "#for x in res:\n",
    "#    dat.append(sum([t0(x0)*x0/q_rs  for t0,x0 in zip(t,x[1])]))\n",
    "\n",
    "plot(dat)\n",
    "print len (dat)\n",
    "print dat.index(min(dat)),min(dat),dat[40]\n",
    "#for r in res :print r"
   ]
  },
  {
   "cell_type": "code",
   "execution_count": 94,
   "metadata": {
    "collapsed": false
   },
   "outputs": [
    {
     "data": {
      "text/plain": [
       "72.85714285714285"
      ]
     },
     "execution_count": 94,
     "metadata": {},
     "output_type": "execute_result"
    }
   ],
   "source": [
    "85./70*60"
   ]
  },
  {
   "cell_type": "markdown",
   "metadata": {},
   "source": [
    "It seems that a toll equal 40 would have the lowest average travel time (I am discarding the minimu at 16, I cant explain why the curve look like this). The value is lower than the SO from exercise 2, but not by much. If the toll is raised to 1500 DKK noone will use the bridge and the SO has the value from exercise 1"
   ]
  },
  {
   "cell_type": "markdown",
   "metadata": {},
   "source": [
    "### Question 4b"
   ]
  },
  {
   "cell_type": "code",
   "execution_count": 303,
   "metadata": {
    "collapsed": false
   },
   "outputs": [
    {
     "name": "stdout",
     "output_type": "stream",
     "text": [
      "[  7379.34928292  11620.65071708  12232.40190223   6767.59809777\n",
      "   4853.05261931]\n",
      "7379.0 6472.76567153\n",
      "7379.0 11621.0 11621.0 7379.0 4242.0\n",
      "65.05, 65.05, 43.32\n",
      "One driver changes away from x1\n",
      "7378.0 11622.0 11622.0 7378.0 4244.0\n",
      "65.05, 65.05, 43.33\n"
     ]
    }
   ],
   "source": [
    "X = [x[1] for x in res]\n",
    "print X[40]\n",
    "lt =[to(xo) for to,xo in zip(t,X[40])]\n",
    "\n",
    "x1 = round(X[40][0])\n",
    "print x1, X[0][0]\n",
    "x1,x2,x3,x4,x5 = flow(x1)\n",
    "print x1,x2,x3,x4,x5\n",
    "print \"{:.2f}, {:.2f}, {:.2f}\".format(Time13(x1,x3),Time24(x2,x4),Time253(x2,x5,x3))\n",
    "print \"One driver changes away from x1\"\n",
    "x1,x2,x3,x4,x5 = flow(x1-1)\n",
    "print x1,x2,x3,x4,x5\n",
    "print \"{:.2f}, {:.2f}, {:.2f}\".format(Time13(x1,x3),Time24(x2,x4),Time253(x2,x5,x3))"
   ]
  },
  {
   "cell_type": "markdown",
   "metadata": {},
   "source": [
    "A driver changing from path 1,3 to 2,5,3 will gain 22 minutes up from 15 minutes in exercise 2.\n",
    "\n",
    "The toll on the bridge has moved traffic away from the fast path 2,3,5 and onto the two other paths, thus increasing the difference between the fast and the slow path."
   ]
  },
  {
   "cell_type": "markdown",
   "metadata": {},
   "source": [
    "### Question 4c"
   ]
  },
  {
   "cell_type": "markdown",
   "metadata": {},
   "source": [
    "For a company the most income would be generated by finding the toll which maximizes $Toll*X_5$"
   ]
  },
  {
   "cell_type": "code",
   "execution_count": 93,
   "metadata": {
    "collapsed": false
   },
   "outputs": [
    {
     "data": {
      "text/plain": [
       "25.666666666666668"
      ]
     },
     "execution_count": 93,
     "metadata": {},
     "output_type": "execute_result"
    }
   ],
   "source": [
    "22.*70/60"
   ]
  },
  {
   "cell_type": "code",
   "execution_count": 92,
   "metadata": {
    "collapsed": false
   },
   "outputs": [
    {
     "ename": "IndexError",
     "evalue": "list index out of range",
     "output_type": "error",
     "traceback": [
      "\u001b[0;31m---------------------------------------------------------------------------\u001b[0m\n\u001b[0;31mIndexError\u001b[0m                                Traceback (most recent call last)",
      "\u001b[0;32m<ipython-input-92-83aa65c7da94>\u001b[0m in \u001b[0;36m<module>\u001b[0;34m()\u001b[0m\n\u001b[1;32m     20\u001b[0m \u001b[0mplot\u001b[0m\u001b[0;34m(\u001b[0m\u001b[0mrnge\u001b[0m\u001b[0;34m,\u001b[0m\u001b[0mdat\u001b[0m\u001b[0;34m)\u001b[0m\u001b[0;34m\u001b[0m\u001b[0m\n\u001b[1;32m     21\u001b[0m \u001b[0midx\u001b[0m \u001b[0;34m=\u001b[0m \u001b[0mdat\u001b[0m\u001b[0;34m.\u001b[0m\u001b[0mindex\u001b[0m\u001b[0;34m(\u001b[0m\u001b[0mmax\u001b[0m\u001b[0;34m(\u001b[0m\u001b[0mdat\u001b[0m\u001b[0;34m)\u001b[0m\u001b[0;34m)\u001b[0m\u001b[0;34m\u001b[0m\u001b[0m\n\u001b[0;32m---> 22\u001b[0;31m \u001b[0mx1\u001b[0m \u001b[0;34m=\u001b[0m \u001b[0mround\u001b[0m\u001b[0;34m(\u001b[0m\u001b[0mres\u001b[0m\u001b[0;34m[\u001b[0m\u001b[0midx\u001b[0m\u001b[0;34m+\u001b[0m\u001b[0;36m1\u001b[0m\u001b[0;34m]\u001b[0m\u001b[0;34m[\u001b[0m\u001b[0;36m1\u001b[0m\u001b[0;34m]\u001b[0m\u001b[0;34m[\u001b[0m\u001b[0;36m0\u001b[0m\u001b[0;34m]\u001b[0m\u001b[0;34m)\u001b[0m\u001b[0;34m\u001b[0m\u001b[0m\n\u001b[0m\u001b[1;32m     23\u001b[0m \u001b[0;32mprint\u001b[0m \u001b[0mres\u001b[0m\u001b[0;34m[\u001b[0m\u001b[0midx\u001b[0m\u001b[0;34m]\u001b[0m\u001b[0;34m[\u001b[0m\u001b[0;34m-\u001b[0m\u001b[0;36m1\u001b[0m\u001b[0;34m]\u001b[0m\u001b[0;34m\u001b[0m\u001b[0m\n\u001b[1;32m     24\u001b[0m \u001b[0;32mprint\u001b[0m \u001b[0mflow\u001b[0m\u001b[0;34m(\u001b[0m\u001b[0mx1\u001b[0m\u001b[0;34m)\u001b[0m\u001b[0;34m\u001b[0m\u001b[0m\n",
      "\u001b[0;31mIndexError\u001b[0m: list index out of range"
     ]
    },
    {
     "data": {
      "image/png": "[encoded data removed]",
      "text/plain": [
       "<matplotlib.figure.Figure at 0x110e37c50>"
      ]
     },
     "metadata": {},
     "output_type": "display_data"
    }
   ],
   "source": [
    "dat = []\n",
    "res =[]\n",
    "rnge = range(1,1500,10)\n",
    "for i in  rnge:\n",
    "    network = {1:{'T0':40,'C':10000,'a':0.5,'b':4,'VoT':70./60,'Toll':0},\n",
    "           2:{'T0':10,'C':10000,'a':0.5,'b':4,'VoT':70./60,'Toll':0},\n",
    "           3:{'T0':10,'C':10000,'a':0.5,'b':4,'VoT':70./60,'Toll':0},\n",
    "           4:{'T0':40,'C':10000,'a':0.5,'b':4,'VoT':70./60,'Toll':0},\n",
    "           5:{'T0':5,'C':10000,'a':0.5,'b':4,'VoT':70./60,'Toll':i*1.},}\n",
    "\n",
    "\n",
    "    t,it,so,sense = prepare()  \n",
    "    so = [x.cost for x in t]\n",
    "#ue = UE()\n",
    "    x = SysOpt(False)\n",
    "    res.append(x +(i,))\n",
    "    xx = flow(x[1][0])\n",
    "    toll = i\n",
    "    dat.append((xx[-1]*toll) )\n",
    "plot(rnge,dat)\n",
    "idx = dat.index(max(dat))\n",
    "x1 = round(res[idx+1][1][0])\n",
    "print res[idx][-1]\n",
    "print flow(x1)\n",
    "print Time13(x1,x3)\n",
    "print Time24(x2,x4)\n",
    "print Time253(x2,x5,x3)"
   ]
  },
  {
   "cell_type": "markdown",
   "metadata": {},
   "source": [
    "A toll of 861 DKK would optimise the income from the Bridge Toll. "
   ]
  },
  {
   "cell_type": "markdown",
   "metadata": {},
   "source": [
    "### Question 4d"
   ]
  },
  {
   "cell_type": "markdown",
   "metadata": {},
   "source": [
    "A company would seek to maximise its profits as seen in Question 4c. This will move the traffic away from the toll road, and from a system point of view lead to underutilisation of the bridge.\n",
    "\n",
    "From a user point of view the cost of travel would rise, since the heavy toll would lead to more traffic on the other links."
   ]
  },
  {
   "cell_type": "markdown",
   "metadata": {},
   "source": [
    "### Question 4e"
   ]
  },
  {
   "cell_type": "markdown",
   "metadata": {},
   "source": [
    "A PPP would be more inclined to seek to adjust the toll towards securing the SO, less inclined to maximise for income. When public money is invested in infrastructure, there will also be political pressure to ensure as low an UE as possible."
   ]
  },
  {
   "cell_type": "markdown",
   "metadata": {},
   "source": [
    "## Exercise 5"
   ]
  },
  {
   "cell_type": "markdown",
   "metadata": {},
   "source": [
    "### Option 1"
   ]
  },
  {
   "cell_type": "code",
   "execution_count": 271,
   "metadata": {
    "collapsed": false
   },
   "outputs": [],
   "source": [
    "network = {1:{'T0':40,'C':10000,'a':0.5,'b':4},\n",
    "           2:{'T0':10,'C':12500,'a':0.5,'b':4},\n",
    "           3:{'T0':10,'C':12500,'a':0.5,'b':4},\n",
    "           4:{'T0':40,'C':10000,'a':0.5,'b':4},\n",
    "           5:{'T0':5,'C':10000,'a':0.5,'b':4},}"
   ]
  },
  {
   "cell_type": "code",
   "execution_count": 272,
   "metadata": {
    "collapsed": false
   },
   "outputs": [],
   "source": [
    "network[4]['T0'] = 20\n",
    "\n",
    "t,it,so,sensse = prepare()  \n",
    "\n",
    "ue = UE(False)\n",
    "sys_op = SysOpt(False)"
   ]
  },
  {
   "cell_type": "code",
   "execution_count": 273,
   "metadata": {
    "collapsed": false
   },
   "outputs": [
    {
     "name": "stdout",
     "output_type": "stream",
     "text": [
      "User Equilibrium Flow per link [   976.67598724  18023.32401276  11863.01765498   7136.98234502\n",
      "  10886.34166773], \n",
      "time pr link [ 40.00181984  31.61073378  14.05611873  22.59452876   8.51129931]\n",
      "and time per path[ 54.05793857  54.20526254  54.17815182]\n",
      "\n",
      "System optimum average travel time 43.422790044\n",
      "and flows pr link [  5302.08274039  13697.91725961  12420.58649566   6579.41350434\n",
      "   7118.50375527]\n"
     ]
    }
   ],
   "source": [
    "print \"User Equilibrium Flow per link {}, \\ntime pr link {}\\nand time per path{}\".format(ue[0],ue[1],ue[2])\n",
    "print\n",
    "print \"System optimum average travel time {}\\nand flows pr link {}\".format(sys_op[0],sys_op[1])\n"
   ]
  },
  {
   "cell_type": "markdown",
   "metadata": {},
   "source": [
    "### Option 2"
   ]
  },
  {
   "cell_type": "code",
   "execution_count": 274,
   "metadata": {
    "collapsed": false
   },
   "outputs": [],
   "source": [
    "network[4]['T0'] = 30\n",
    "network[1]['T0'] = 25\n",
    "\n",
    "t,it,so,sense = prepare()  \n",
    "\n",
    "ue = UE(False)\n",
    "sys_op = SysOpt(False)"
   ]
  },
  {
   "cell_type": "code",
   "execution_count": 275,
   "metadata": {
    "collapsed": false
   },
   "outputs": [
    {
     "name": "stdout",
     "output_type": "stream",
     "text": [
      "User Equilibrium Flow per link [  5085.41460614  13914.58539386  15601.75664444   3398.24335556\n",
      "  10516.3420383 ], \n",
      "time pr link [ 25.83601771  17.67734459  22.13455768  30.20003646   8.05772779]\n",
      "and time per path[ 47.97057539  47.87738105  47.86963006]\n",
      "\n",
      "System optimum average travel time 42.0838776116\n",
      "and flows pr link [  6188.67588944  12811.32411056  12889.89235181   6110.10764819\n",
      "   6701.21646237]\n"
     ]
    }
   ],
   "source": [
    "print \"User Equilibrium Flow per link {}, \\ntime pr link {}\\nand time per path{}\".format(ue[0],ue[1],ue[2])\n",
    "print\n",
    "print \"System optimum average travel time {}\\nand flows pr link {}\".format(sys_op[0],sys_op[1])\n",
    "\n"
   ]
  },
  {
   "cell_type": "markdown",
   "metadata": {},
   "source": [
    "### Option 3"
   ]
  },
  {
   "cell_type": "code",
   "execution_count": 278,
   "metadata": {
    "collapsed": false
   },
   "outputs": [],
   "source": [
    "network = {1:{'T0':40,'C':10000,'a':0.5,'b':4},\n",
    "           2:{'T0':10,'C':25000,'a':0.5,'b':4},\n",
    "           3:{'T0':10,'C':12500,'a':0.5,'b':4},\n",
    "           4:{'T0':40,'C':10000,'a':0.5,'b':4},\n",
    "           5:{'T0':5,'C':10000,'a':0.5,'b':4},}\n",
    "t,it,so,sense = prepare()  \n",
    "\n",
    "ue = UE(False)\n",
    "sys_op = SysOpt(False)"
   ]
  },
  {
   "cell_type": "code",
   "execution_count": 279,
   "metadata": {
    "collapsed": false
   },
   "outputs": [
    {
     "name": "stdout",
     "output_type": "stream",
     "text": [
      "User Equilibrium Flow per link [     0.          19000.          15352.82485221   3647.17514779\n",
      "  15352.82485221], \n",
      "time pr link [ 40.          11.6681088   21.37845075  40.35388037  18.88971039]\n",
      "and time per path[ 61.37845075  52.02198917  51.93626994]\n",
      "\n",
      "System optimum average travel time 43.2705255027\n",
      "and flows pr link [  1334.65099335  17665.34900665  12565.25861379   6434.74138621\n",
      "  11230.60762044]\n"
     ]
    }
   ],
   "source": [
    "print \"User Equilibrium Flow per link {}, \\ntime pr link {}\\nand time per path{}\".format(ue[0],ue[1],ue[2])\n",
    "print\n",
    "print \"System optimum average travel time {}\\nand flows pr link {}\".format(sys_op[0],sys_op[1])\n",
    "\n"
   ]
  },
  {
   "cell_type": "markdown",
   "metadata": {},
   "source": [
    "### Question 5a"
   ]
  },
  {
   "cell_type": "markdown",
   "metadata": {},
   "source": [
    "\n",
    "I could not make the Frank-Wolfe algorithm converge for Option 3. This happens because the increased capacity on link 2 removes all traffic on link 1. The travel time on link 1 still incorporated in the traveltime for path 1,3 even though noone uses that path any more - so we should not consider this path (stated in Sheffi as \"The traveltimes should be equal on all used paths, and less or equal to any unused path.\n",
    "\n",
    "So the flows presented in Option 3 are indeed correct even though only a few iteration of Frank-Wolfe was used.\n",
    "\n",
    "I would propose option 2 as it have the lowest UE and the UE is closest to the SO. The SO for all options are quite low and close to each other.\n",
    "\n"
   ]
  },
  {
   "cell_type": "code",
   "execution_count": 12,
   "metadata": {
    "collapsed": false
   },
   "outputs": [
    {
     "data": {
      "image/png": "[encoded data removed]",
      "text/plain": [
       "<matplotlib.figure.Figure at 0x108288a10>"
      ]
     },
     "metadata": {},
     "output_type": "display_data"
    }
   ],
   "source": [
    "res = [(2,2),(3,12),(4,184),(5,8512),(6,1262816),(7,575780564)]\n",
    "resy = [x[1] for x in res]\n",
    "fig = plot([x[0] for x in res],resy)\n",
    "yscale('log')"
   ]
  },
  {
   "cell_type": "code",
   "execution_count": 2,
   "metadata": {
    "collapsed": false
   },
   "outputs": [
    {
     "name": "stdout",
     "output_type": "stream",
     "text": [
      "Populating the interactive namespace from numpy and matplotlib\n"
     ]
    }
   ],
   "source": [
    "%pylab inline"
   ]
  },
  {
   "cell_type": "code",
   "execution_count": null,
   "metadata": {
    "collapsed": true
   },
   "outputs": [],
   "source": []
  }
 ],
 "metadata": {
  "kernelspec": {
   "display_name": "Python 2",
   "language": "python",
   "name": "python2"
  },
  "language_info": {
   "codemirror_mode": {
    "name": "ipython",
    "version": 2
   },
   "file_extension": ".py",
   "mimetype": "text/x-python",
   "name": "python",
   "nbconvert_exporter": "python",
   "pygments_lexer": "ipython2",
   "version": "2.7.11"
  }
 },
 "nbformat": 4,
 "nbformat_minor": 0
}
