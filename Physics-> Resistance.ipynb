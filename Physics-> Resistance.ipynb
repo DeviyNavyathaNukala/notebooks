{
 "metadata": {
  "name": ""
 },
 "nbformat": 3,
 "nbformat_minor": 0,
 "worksheets": [
  {
   "cells": [
    {
     "cell_type": "markdown",
     "metadata": {},
     "source": [
      "**Example 27.1**\n",
      "\n",
      "The 12-gauge copper wire in a typical residential building has a cross-sectional area of 3.31 1e-6 m2. \n",
      "It carries a constant current of 10.0 A. What is the drift speed of the electrons in the wire? \n",
      "Assume each copper atom contributes one free electron to the current. The density of copper is 8.92 g/cm3.\n"
     ]
    },
    {
     "cell_type": "code",
     "collapsed": false,
     "input": [
      "A = 3.31E-6\n",
      "I = 10\n",
      "rho = 8.92E6\n",
      "M = 63.5"
     ],
     "language": "python",
     "metadata": {},
     "outputs": [],
     "prompt_number": 7
    },
    {
     "cell_type": "code",
     "collapsed": false,
     "input": [
      "import scipy.constants as const\n",
      "n = rho*const.Avogadro/M\n",
      "q = const.e\n",
      "v = I/(n*q*A)"
     ],
     "language": "python",
     "metadata": {},
     "outputs": [],
     "prompt_number": 8
    },
    {
     "cell_type": "code",
     "collapsed": true,
     "input": [
      "print \"%f m/s\" %v"
     ],
     "language": "python",
     "metadata": {},
     "outputs": [
      {
       "output_type": "stream",
       "stream": "stdout",
       "text": [
        "0.000223 m/s\n"
       ]
      }
     ],
     "prompt_number": 112
    },
    {
     "cell_type": "code",
     "collapsed": false,
     "input": [
      "M_au = 196.96\n",
      "rho_au = 19.3E6\n",
      "M_ag = 107.87\n",
      "rho_ag = 10.49e6\n",
      "\n",
      "rho = rho_au\n",
      "M = M_au"
     ],
     "language": "python",
     "metadata": {},
     "outputs": [],
     "prompt_number": 13
    },
    {
     "cell_type": "code",
     "collapsed": false,
     "input": [
      "mat = {'au':(196.96, 19.3e6),\n",
      "       'ag':(107.87, 10.49e6),\n",
      "       'cu':(63.5, 8.92e6),\n",
      "       'al':(26.981, 2.7e6)}\n",
      "vd = []\n",
      "q = constants.e\n",
      "for m in mat:\n",
      "    M, rho = mat[m]\n",
      "    n = rho*const.Avogadro/M\n",
      "    mat[m] = (M, rho, I/(n*q*A))\n",
      "    vd.append(I/(n*q*A))\n",
      "print mat\n",
      "plt.plot(vd)"
     ],
     "language": "python",
     "metadata": {},
     "outputs": [
      {
       "output_type": "stream",
       "stream": "stdout",
       "text": [
        "{'au': (196.96, 19300000.0, 0.0003195445517203154), 'cu': (63.5, 8920000.0, 0.00022290487231071054), 'ag': (107.87, 10490000.0, 0.00032198517868433323), 'al': (26.981, 2700000.0, 0.00031289957147595396)}\n"
       ]
      },
      {
       "output_type": "pyout",
       "prompt_number": 14,
       "text": [
        "[<matplotlib.lines.Line2D at 0x113a5e9d0>]"
       ]
      },
      {
       "output_type": "display_data",
       "png": "[encoded data removed]"
      }
     ],
     "prompt_number": 14
    },
    {
     "cell_type": "code",
     "collapsed": false,
     "input": [
      "r = 0.32e-3\n",
      "A = pi*r**2\n",
      "rho_ni = 1e-6\n",
      "\n",
      "print rho_ni/A"
     ],
     "language": "python",
     "metadata": {},
     "outputs": [
      {
       "output_type": "stream",
       "stream": "stdout",
       "text": [
        "3.10849498226\n"
       ]
      }
     ],
     "prompt_number": 24
    },
    {
     "cell_type": "markdown",
     "metadata": {},
     "source": [
      "Exercise 27.1 \n",
      "\n",
      "A 200-km-long high-voltage transmission line 2.00 cm\n",
      "in diameter carries a steady current of 1000 A. If\n",
      "the conductor is copper with a free charge density of\n",
      "8.50E28 electrons per cubic meter, how many years\n",
      "does it take one electron to travel the full length of the\n",
      "cable? "
     ]
    },
    {
     "cell_type": "code",
     "collapsed": false,
     "input": [
      "%load_ext physics"
     ],
     "language": "python",
     "metadata": {},
     "outputs": [
      {
       "output_type": "stream",
       "stream": "stdout",
       "text": [
        "Unit calculation and physics extensions activated.\n"
       ]
      }
     ],
     "prompt_number": 2
    },
    {
     "cell_type": "code",
     "collapsed": false,
     "input": [
      "I = 1000 A"
     ],
     "language": "python",
     "metadata": {},
     "outputs": [],
     "prompt_number": 10
    },
    {
     "cell_type": "code",
     "collapsed": false,
     "input": [
      "n = 8.5E28 1/m**3"
     ],
     "language": "python",
     "metadata": {},
     "outputs": [],
     "prompt_number": 11
    },
    {
     "cell_type": "code",
     "collapsed": false,
     "input": [
      "r = 1 cm"
     ],
     "language": "python",
     "metadata": {},
     "outputs": [],
     "prompt_number": 16
    },
    {
     "cell_type": "code",
     "collapsed": false,
     "input": [
      "Area = pi*r**2"
     ],
     "language": "python",
     "metadata": {},
     "outputs": [],
     "prompt_number": 13
    },
    {
     "cell_type": "code",
     "collapsed": false,
     "input": [
      "Coulomb = 1 C"
     ],
     "language": "python",
     "metadata": {},
     "outputs": [],
     "prompt_number": 17
    },
    {
     "cell_type": "code",
     "collapsed": false,
     "input": [
      "q = const.e*Coulomb"
     ],
     "language": "python",
     "metadata": {},
     "outputs": [],
     "prompt_number": 18
    },
    {
     "cell_type": "code",
     "collapsed": false,
     "input": [
      "v_d = I/(n*q*Area)\n",
      "v_d.convert('m/s')\n",
      "v_d"
     ],
     "language": "python",
     "metadata": {},
     "outputs": [
      {
       "metadata": {},
       "output_type": "pyout",
       "prompt_number": 20,
       "text": [
        "0.00023373343 m/s"
       ]
      }
     ],
     "prompt_number": 20
    },
    {
     "cell_type": "code",
     "collapsed": false,
     "input": [
      "L = 200 km"
     ],
     "language": "python",
     "metadata": {},
     "outputs": [],
     "prompt_number": 21
    },
    {
     "cell_type": "code",
     "collapsed": false,
     "input": [
      "T = L/v_d \n",
      "T.convert('yr')\n",
      "\n",
      "T"
     ],
     "language": "python",
     "metadata": {},
     "outputs": [
      {
       "metadata": {},
       "output_type": "pyout",
       "prompt_number": 34,
       "text": [
        "27.114725 yr"
       ]
      }
     ],
     "prompt_number": 34
    },
    {
     "cell_type": "markdown",
     "metadata": {},
     "source": [
      "Exercise 27.15\n",
      "\n",
      "A wire 50.0 m long and 2.00 mm in diameter is connected to a source with a potential difference of 9.11 V, and the current is found to be 36.0 A. Assume a temperature of 20.0\u00b0C and, using Table 27.2, identify the\n",
      "metal out of which the wire is made."
     ]
    },
    {
     "cell_type": "code",
     "collapsed": false,
     "input": [
      "L = 50 m"
     ],
     "language": "python",
     "metadata": {},
     "outputs": [],
     "prompt_number": 35
    },
    {
     "cell_type": "code",
     "collapsed": false,
     "input": [
      "r = 1 mm"
     ],
     "language": "python",
     "metadata": {},
     "outputs": [],
     "prompt_number": 36
    },
    {
     "cell_type": "code",
     "collapsed": false,
     "input": [
      "I = 36 A"
     ],
     "language": "python",
     "metadata": {},
     "outputs": [],
     "prompt_number": 37
    },
    {
     "cell_type": "code",
     "collapsed": false,
     "input": [
      "V0 = 9.11 V"
     ],
     "language": "python",
     "metadata": {},
     "outputs": [],
     "prompt_number": 38
    },
    {
     "cell_type": "code",
     "collapsed": false,
     "input": [
      "R = V0/I # R = L/A*rho => rho = R*A/L\n",
      "rho = R*pi*r**2/L\n",
      "rho.convert('ohm*m')\n",
      "rho"
     ],
     "language": "python",
     "metadata": {},
     "outputs": [
      {
       "metadata": {},
       "output_type": "pyout",
       "prompt_number": 42,
       "text": [
        "1.5899949e-08 ohm*m"
       ]
      }
     ],
     "prompt_number": 42
    },
    {
     "cell_type": "code",
     "collapsed": false,
     "input": [
      "# The material is: Silver"
     ],
     "language": "python",
     "metadata": {},
     "outputs": []
    },
    {
     "cell_type": "markdown",
     "metadata": {},
     "source": [
      "Exercise 27.23\n",
      "\n",
      "A current density of 6.00e-13 A/m2 exists in the atmosphere at a location where the electric field is 100 V/m. Calculate the electrical conductivity of the Earth\u2019s atmosphere in this region."
     ]
    },
    {
     "cell_type": "code",
     "collapsed": false,
     "input": [
      "J = 6e-13 A/m**2"
     ],
     "language": "python",
     "metadata": {},
     "outputs": [],
     "prompt_number": 45
    },
    {
     "cell_type": "code",
     "collapsed": false,
     "input": [
      "E = 100 V/m"
     ],
     "language": "python",
     "metadata": {},
     "outputs": [],
     "prompt_number": 46
    },
    {
     "cell_type": "code",
     "collapsed": false,
     "input": [
      "# J = sigma*E\n",
      "sigma = J/E\n",
      "sigma.convert('1/(m*ohm)')\n",
      "print sigma\n",
      "sigma.convert('S/m')\n",
      "print sigma"
     ],
     "language": "python",
     "metadata": {},
     "outputs": [
      {
       "output_type": "stream",
       "stream": "stdout",
       "text": [
        "6e-15 1/ohm/m\n",
        "6e-15 S/m\n"
       ]
      }
     ],
     "prompt_number": 52
    },
    {
     "cell_type": "markdown",
     "metadata": {},
     "source": [
      "**Problem 27** An aluminum wire with a diameter of 0.100 mm has a uniform electric field of 0.200 V/m imposed along its entire length. The temperature of the wire is 50.0\u00b0C. Assume one free electron per atom. (a) Use the information in Table 27.2 to determine the resistivity of aluminum at this temperature. (b) What is the current density in the wire? (c) What is the total current in the wire? (d) What is the drift speed of the conduction electrons? (e) What potential difference must exist between the ends of a 2.00-m length of the wire to produce the stated electric field?"
     ]
    },
    {
     "cell_type": "code",
     "collapsed": false,
     "input": [],
     "language": "python",
     "metadata": {},
     "outputs": []
    },
    {
     "cell_type": "code",
     "collapsed": false,
     "input": [
      "from scipy import constants\n",
      "\n",
      "d = 0.1E-3\n",
      "E = 0.2\n",
      "T = 50\n",
      "alfa = 3.9E-3\n",
      "rho_al = 2.82E-8\n",
      "\n",
      "rho_50 = rho_al*(1 + alfa*(T-20))  # a)\n",
      "\n",
      "J = E/rho_50       # b)\n",
      "\n",
      "I = J*pi*(d/2)**2  # c)\n",
      "\n",
      "rho = 2.7E6\n",
      "M = 26.981\n",
      "n = rho*constants.Avogadro/M\n",
      "\n",
      "v = J/(n*constants.e)  # d)\n",
      "\n",
      "l = 2 \n",
      "\n",
      "V = E*l      #e)\n",
      "\n",
      "\n",
      "print \"a) {}, b) {}, c) {}, d) {}, e) {}\".format( rho_50, J, I, v, V)"
     ],
     "language": "python",
     "metadata": {},
     "outputs": [
      {
       "output_type": "stream",
       "stream": "stdout",
       "text": [
        "a) 3.14994e-08, b) 6349327.28877, c) 0.0498674999141, d) 0.000657598291768, e) 0.4\n"
       ]
      }
     ],
     "prompt_number": 6
    },
    {
     "cell_type": "markdown",
     "metadata": {},
     "source": [
      "exercise 27.27\n",
      "\n",
      "What is the fractional change in the resistance of an iron filament when its temperature changes from 25.0\u00b0C to 50.0\u00b0C?"
     ]
    },
    {
     "cell_type": "code",
     "collapsed": false,
     "input": [
      "alfa = 5e-3 "
     ],
     "language": "python",
     "metadata": {},
     "outputs": [],
     "prompt_number": 70
    },
    {
     "cell_type": "code",
     "collapsed": false,
     "input": [
      "T2 = 50 "
     ],
     "language": "python",
     "metadata": {},
     "outputs": [],
     "prompt_number": 60
    },
    {
     "cell_type": "code",
     "collapsed": false,
     "input": [
      "T1 = 25"
     ],
     "language": "python",
     "metadata": {},
     "outputs": [],
     "prompt_number": 61
    },
    {
     "cell_type": "code",
     "collapsed": false,
     "input": [
      "T0 = 20"
     ],
     "language": "python",
     "metadata": {},
     "outputs": [],
     "prompt_number": 62
    },
    {
     "cell_type": "code",
     "collapsed": false,
     "input": [
      "# R = R0(1+ alfa(T-T0)) = > R2/R1 = R0(1 + alfa(T2-T0))/R0(1+alfa(T1-T0))\n",
      "# = (1+alfa(T2-T0))/(1+alfa(T1-T0)) "
     ],
     "language": "python",
     "metadata": {},
     "outputs": [],
     "prompt_number": 55
    },
    {
     "cell_type": "code",
     "collapsed": false,
     "input": [
      "(1+alfa*(T2-T0))/(1+alfa*(T1-T0))-1"
     ],
     "language": "python",
     "metadata": {},
     "outputs": [
      {
       "metadata": {},
       "output_type": "pyout",
       "prompt_number": 71,
       "text": [
        "0.12195121951219523"
       ]
      }
     ],
     "prompt_number": 71
    },
    {
     "cell_type": "markdown",
     "metadata": {},
     "source": [
      "Exercise 27.29\n",
      "\n",
      "If a certain silver wire has a resistance of 6.00 ohm at 20.0\u00b0C, what resistance will it have at 34.0\u00b0C?"
     ]
    },
    {
     "cell_type": "code",
     "collapsed": false,
     "input": [
      "R0 = 6 ohm"
     ],
     "language": "python",
     "metadata": {},
     "outputs": [],
     "prompt_number": 65
    },
    {
     "cell_type": "code",
     "collapsed": false,
     "input": [
      "alfa = 3.8e-3"
     ],
     "language": "python",
     "metadata": {},
     "outputs": [],
     "prompt_number": 66
    },
    {
     "cell_type": "code",
     "collapsed": false,
     "input": [
      "R = R0 *(1 + alfa*(34-20))\n",
      "R"
     ],
     "language": "python",
     "metadata": {},
     "outputs": [
      {
       "metadata": {},
       "output_type": "pyout",
       "prompt_number": 68,
       "text": [
        "6.3192 ohm"
       ]
      }
     ],
     "prompt_number": 68
    },
    {
     "cell_type": "markdown",
     "metadata": {},
     "source": [
      "Exercise 27.37\n",
      "\n",
      "In a hydroelectric installation, a turbine delivers 1 500 hp to a generator, which in turn transfers 80.0% of the mechanical energy out by electrical transmission. Under these conditions, what current does the generator deliver at a terminal potential difference of 2 000 V?"
     ]
    },
    {
     "cell_type": "code",
     "collapsed": false,
     "input": [
      "P = 1500 hp"
     ],
     "language": "python",
     "metadata": {},
     "outputs": [],
     "prompt_number": 82
    },
    {
     "cell_type": "code",
     "collapsed": false,
     "input": [
      "Vd = 2000 V"
     ],
     "language": "python",
     "metadata": {},
     "outputs": [],
     "prompt_number": 83
    },
    {
     "cell_type": "code",
     "collapsed": false,
     "input": [
      "I = 0.8*P/Vd\n",
      "I.convert('A')\n",
      "I"
     ],
     "language": "python",
     "metadata": {},
     "outputs": [
      {
       "metadata": {},
       "output_type": "pyout",
       "prompt_number": 84,
       "text": [
        "447.42 A"
       ]
      }
     ],
     "prompt_number": 84
    },
    {
     "cell_type": "markdown",
     "metadata": {},
     "source": [
      "Exercise 27.39\n",
      "\n",
      "A certain waffle iron is rated at 1.00 kW when connected to a 120-V source. (a) What current does the waffle iron carry? (b) What is its resistance?"
     ]
    },
    {
     "cell_type": "code",
     "collapsed": false,
     "input": [
      "P = 1 kW"
     ],
     "language": "python",
     "metadata": {},
     "outputs": [],
     "prompt_number": 72
    },
    {
     "cell_type": "code",
     "collapsed": false,
     "input": [
      "Vd = 120 V"
     ],
     "language": "python",
     "metadata": {},
     "outputs": [],
     "prompt_number": 74
    },
    {
     "cell_type": "code",
     "collapsed": false,
     "input": [
      "I = P/Vd\n",
      "I.convert('A')\n",
      "I"
     ],
     "language": "python",
     "metadata": {},
     "outputs": [
      {
       "metadata": {},
       "output_type": "pyout",
       "prompt_number": 77,
       "text": [
        "8.3333333 A"
       ]
      }
     ],
     "prompt_number": 77
    },
    {
     "cell_type": "code",
     "collapsed": false,
     "input": [
      "R = Vd**2/P/2\n",
      "R.convert('ohm')\n",
      "R"
     ],
     "language": "python",
     "metadata": {},
     "outputs": [
      {
       "metadata": {},
       "output_type": "pyout",
       "prompt_number": 80,
       "text": [
        "7.2 ohm"
       ]
      }
     ],
     "prompt_number": 80
    },
    {
     "cell_type": "markdown",
     "metadata": {},
     "source": [
      "Exercise 27.45\n",
      "\n",
      "Batteries are rated in terms of ampere-hours (Ah). For example, a battery that can produce a current of 2.00 A for 3.00 h is rated at 6.00 Ah.(a) What is the total energy, in kilowatt-hours, stored in a 12.0-V battery rated at 55.0 Ah ? (b) At $0.110 per kilowatt-hour, what is the value of the electricity produced by this battery?"
     ]
    },
    {
     "cell_type": "code",
     "collapsed": false,
     "input": [
      "Vd = 12. V"
     ],
     "language": "python",
     "metadata": {},
     "outputs": [],
     "prompt_number": 85
    },
    {
     "cell_type": "code",
     "collapsed": false,
     "input": [
      "C = 55 A*h"
     ],
     "language": "python",
     "metadata": {},
     "outputs": [],
     "prompt_number": 86
    },
    {
     "cell_type": "code",
     "collapsed": false,
     "input": [
      "E = Vd*C\n",
      "E.convert('kW*h')\n",
      "E"
     ],
     "language": "python",
     "metadata": {},
     "outputs": [
      {
       "metadata": {},
       "output_type": "pyout",
       "prompt_number": 91,
       "text": [
        "0.66 h*kW"
       ]
      }
     ],
     "prompt_number": 91
    },
    {
     "cell_type": "code",
     "collapsed": false,
     "input": [
      "Price = 0.11*0.66\n",
      "Price"
     ],
     "language": "python",
     "metadata": {},
     "outputs": [
      {
       "metadata": {},
       "output_type": "pyout",
       "prompt_number": 93,
       "text": [
        "0.0726"
       ]
      }
     ],
     "prompt_number": 93
    },
    {
     "cell_type": "markdown",
     "metadata": {},
     "source": [
      "Exercise 27.47\n",
      "\n",
      "Assuming the cost of energy from the electric company is $0.110/kWh, compute the cost per day of operating a lamp that draws a current of 1.70 A from a 110-V line."
     ]
    },
    {
     "cell_type": "code",
     "collapsed": false,
     "input": [
      "I = 1.7 A"
     ],
     "language": "python",
     "metadata": {},
     "outputs": [],
     "prompt_number": 94
    },
    {
     "cell_type": "code",
     "collapsed": false,
     "input": [
      "Vd = 110 V"
     ],
     "language": "python",
     "metadata": {},
     "outputs": [],
     "prompt_number": 95
    },
    {
     "cell_type": "code",
     "collapsed": false,
     "input": [
      "time = 24 h"
     ],
     "language": "python",
     "metadata": {},
     "outputs": [],
     "prompt_number": 98
    },
    {
     "cell_type": "code",
     "collapsed": false,
     "input": [
      "E = Vd*I*time"
     ],
     "language": "python",
     "metadata": {},
     "outputs": [],
     "prompt_number": 99
    },
    {
     "cell_type": "code",
     "collapsed": false,
     "input": [
      "price = 0.11*E/1000"
     ],
     "language": "python",
     "metadata": {},
     "outputs": [],
     "prompt_number": 105
    },
    {
     "cell_type": "code",
     "collapsed": false,
     "input": [
      "price"
     ],
     "language": "python",
     "metadata": {},
     "outputs": [
      {
       "metadata": {},
       "output_type": "pyout",
       "prompt_number": 106,
       "text": [
        "0.49368 A*h*V"
       ]
      }
     ],
     "prompt_number": 106
    },
    {
     "cell_type": "markdown",
     "metadata": {},
     "source": [
      "27.57\n",
      "\n",
      "A particular wire has a resistivity of 3.0e-8 Ohm/m  and a cross-sectional area of 4.0e-6 m2. A length of this wire is to be used as a resistor that will receive 48 W of power when connected across a 20-V battery.\n",
      "What length of wire is required?"
     ]
    },
    {
     "cell_type": "code",
     "collapsed": false,
     "input": [
      "Vd = 20 V"
     ],
     "language": "python",
     "metadata": {},
     "outputs": [],
     "prompt_number": 107
    },
    {
     "cell_type": "code",
     "collapsed": false,
     "input": [
      "P = 48 W"
     ],
     "language": "python",
     "metadata": {},
     "outputs": [],
     "prompt_number": 108
    },
    {
     "cell_type": "code",
     "collapsed": false,
     "input": [
      "R = P/(Vd**2)\n"
     ],
     "language": "python",
     "metadata": {},
     "outputs": [
      {
       "ename": "UnitError",
       "evalue": "Incompatible units",
       "output_type": "pyerr",
       "traceback": [
        "\u001b[0;31m---------------------------------------------------------------------------\u001b[0m\n\u001b[0;31mUnitError\u001b[0m                                 Traceback (most recent call last)",
        "\u001b[0;32m<ipython-input-131-1689d0346902>\u001b[0m in \u001b[0;36m<module>\u001b[0;34m()\u001b[0m\n\u001b[1;32m      1\u001b[0m \u001b[0mR\u001b[0m \u001b[0;34m=\u001b[0m \u001b[0mP\u001b[0m\u001b[0;34m/\u001b[0m\u001b[0;34m(\u001b[0m\u001b[0mVd\u001b[0m\u001b[0;34m**\u001b[0m\u001b[0;36m2\u001b[0m\u001b[0;34m)\u001b[0m\u001b[0;34m\u001b[0m\u001b[0m\n\u001b[0;32m----> 2\u001b[0;31m \u001b[0mR\u001b[0m\u001b[0;34m.\u001b[0m\u001b[0mconvert\u001b[0m\u001b[0;34m(\u001b[0m\u001b[0;34m'ohm'\u001b[0m\u001b[0;34m)\u001b[0m\u001b[0;34m\u001b[0m\u001b[0m\n\u001b[0m\u001b[1;32m      3\u001b[0m \u001b[0mR\u001b[0m\u001b[0;34m\u001b[0m\u001b[0m\n",
        "\u001b[0;32m/Library/Python/2.7/site-packages/IPython/extensions/physics.py\u001b[0m in \u001b[0;36mconvert\u001b[0;34m(self, unit)\u001b[0m\n\u001b[1;32m    428\u001b[0m         \"\"\"\n\u001b[1;32m    429\u001b[0m         \u001b[0munit\u001b[0m \u001b[0;34m=\u001b[0m \u001b[0m_findUnit\u001b[0m\u001b[0;34m(\u001b[0m\u001b[0munit\u001b[0m\u001b[0;34m)\u001b[0m\u001b[0;34m\u001b[0m\u001b[0m\n\u001b[0;32m--> 430\u001b[0;31m         \u001b[0mself\u001b[0m\u001b[0;34m.\u001b[0m\u001b[0mvalue\u001b[0m \u001b[0;34m=\u001b[0m \u001b[0m_convertValue\u001b[0m\u001b[0;34m(\u001b[0m\u001b[0mself\u001b[0m\u001b[0;34m.\u001b[0m\u001b[0mvalue\u001b[0m\u001b[0;34m,\u001b[0m \u001b[0mself\u001b[0m\u001b[0;34m.\u001b[0m\u001b[0munit\u001b[0m\u001b[0;34m,\u001b[0m \u001b[0munit\u001b[0m\u001b[0;34m)\u001b[0m\u001b[0;34m\u001b[0m\u001b[0m\n\u001b[0m\u001b[1;32m    431\u001b[0m         \u001b[0mself\u001b[0m\u001b[0;34m.\u001b[0m\u001b[0munit\u001b[0m \u001b[0;34m=\u001b[0m \u001b[0munit\u001b[0m\u001b[0;34m\u001b[0m\u001b[0m\n\u001b[1;32m    432\u001b[0m \u001b[0;34m\u001b[0m\u001b[0m\n",
        "\u001b[0;32m/Library/Python/2.7/site-packages/IPython/extensions/physics.py\u001b[0m in \u001b[0;36m_convertValue\u001b[0;34m(value, src_unit, target_unit)\u001b[0m\n\u001b[1;32m    286\u001b[0m \u001b[0;34m\u001b[0m\u001b[0m\n\u001b[1;32m    287\u001b[0m \u001b[0;32mdef\u001b[0m \u001b[0m_convertValue\u001b[0m\u001b[0;34m(\u001b[0m\u001b[0mvalue\u001b[0m\u001b[0;34m,\u001b[0m \u001b[0msrc_unit\u001b[0m\u001b[0;34m,\u001b[0m \u001b[0mtarget_unit\u001b[0m\u001b[0;34m)\u001b[0m\u001b[0;34m:\u001b[0m\u001b[0;34m\u001b[0m\u001b[0m\n\u001b[0;32m--> 288\u001b[0;31m     \u001b[0;34m(\u001b[0m\u001b[0mfactor\u001b[0m\u001b[0;34m,\u001b[0m \u001b[0moffset\u001b[0m\u001b[0;34m)\u001b[0m \u001b[0;34m=\u001b[0m \u001b[0msrc_unit\u001b[0m\u001b[0;34m.\u001b[0m\u001b[0mconversion_tuple_to\u001b[0m\u001b[0;34m(\u001b[0m\u001b[0mtarget_unit\u001b[0m\u001b[0;34m)\u001b[0m\u001b[0;34m\u001b[0m\u001b[0m\n\u001b[0m\u001b[1;32m    289\u001b[0m     \u001b[0;32mreturn\u001b[0m \u001b[0;34m(\u001b[0m\u001b[0mvalue\u001b[0m \u001b[0;34m+\u001b[0m \u001b[0moffset\u001b[0m\u001b[0;34m)\u001b[0m \u001b[0;34m*\u001b[0m \u001b[0mfactor\u001b[0m\u001b[0;34m\u001b[0m\u001b[0m\n\u001b[1;32m    290\u001b[0m \u001b[0;34m\u001b[0m\u001b[0m\n",
        "\u001b[0;32m/Library/Python/2.7/site-packages/IPython/extensions/physics.py\u001b[0m in \u001b[0;36mconversion_tuple_to\u001b[0;34m(self, other)\u001b[0m\n\u001b[1;32m    246\u001b[0m         \u001b[0;34m\"\"\"Return conversion factor and offset to another unit.\"\"\"\u001b[0m\u001b[0;34m\u001b[0m\u001b[0m\n\u001b[1;32m    247\u001b[0m         \u001b[0;32mif\u001b[0m \u001b[0mself\u001b[0m\u001b[0;34m.\u001b[0m\u001b[0mpowers\u001b[0m \u001b[0;34m!=\u001b[0m \u001b[0mother\u001b[0m\u001b[0;34m.\u001b[0m\u001b[0mpowers\u001b[0m\u001b[0;34m:\u001b[0m\u001b[0;34m\u001b[0m\u001b[0m\n\u001b[0;32m--> 248\u001b[0;31m             \u001b[0;32mraise\u001b[0m \u001b[0mUnitError\u001b[0m\u001b[0;34m(\u001b[0m\u001b[0;34m'Incompatible units'\u001b[0m\u001b[0;34m)\u001b[0m\u001b[0;34m\u001b[0m\u001b[0m\n\u001b[0m\u001b[1;32m    249\u001b[0m \u001b[0;34m\u001b[0m\u001b[0m\n\u001b[1;32m    250\u001b[0m         \u001b[0;31m# let (s1,d1) be the conversion tuple from 'self' to base units\u001b[0m\u001b[0;34m\u001b[0m\u001b[0;34m\u001b[0m\u001b[0m\n",
        "\u001b[0;31mUnitError\u001b[0m: Incompatible units"
       ]
      }
     ],
     "prompt_number": 131
    },
    {
     "cell_type": "code",
     "collapsed": false,
     "input": [
      "rho = 3e-8 ohm*m"
     ],
     "language": "python",
     "metadata": {},
     "outputs": [],
     "prompt_number": 122
    },
    {
     "cell_type": "code",
     "collapsed": false,
     "input": [
      "A = 4e-6 m**2"
     ],
     "language": "python",
     "metadata": {},
     "outputs": [],
     "prompt_number": 123
    },
    {
     "cell_type": "code",
     "collapsed": false,
     "input": [
      "# R = rho*l/A => l = R/rho*A\n",
      "l = R/ rho*A\n",
      "#l.convert('m')\n",
      "l"
     ],
     "language": "python",
     "metadata": {},
     "outputs": [
      {
       "metadata": {},
       "output_type": "pyout",
       "prompt_number": 125,
       "text": [
        "16 m*W/ohm/V^2"
       ]
      }
     ],
     "prompt_number": 125
    },
    {
     "cell_type": "code",
     "collapsed": false,
     "input": [
      "4e-6/3e-8*48/400"
     ],
     "language": "python",
     "metadata": {},
     "outputs": [
      {
       "metadata": {},
       "output_type": "pyout",
       "prompt_number": 132,
       "text": [
        "16.0"
       ]
      }
     ],
     "prompt_number": 132
    },
    {
     "cell_type": "markdown",
     "metadata": {},
     "source": [
      "27.61\n",
      "\n",
      "One wire in a high-voltage transmission line carries W 1 000 A starting at 700 kV for a distance of 100 mi. If the resistance in the wire is 0.500 V/mi, what is the\n",
      "power loss due to the resistance of the wire?"
     ]
    },
    {
     "cell_type": "code",
     "collapsed": false,
     "input": [
      "I = 1000 A"
     ],
     "language": "python",
     "metadata": {},
     "outputs": [],
     "prompt_number": 126
    },
    {
     "cell_type": "code",
     "collapsed": false,
     "input": [
      "R = 50 ohm"
     ],
     "language": "python",
     "metadata": {},
     "outputs": [],
     "prompt_number": 128
    },
    {
     "cell_type": "code",
     "collapsed": false,
     "input": [
      "P = R*I**2\n",
      "P.convert('W')\n",
      "P"
     ],
     "language": "python",
     "metadata": {},
     "outputs": [
      {
       "metadata": {},
       "output_type": "pyout",
       "prompt_number": 130,
       "text": [
        "50000000 W"
       ]
      }
     ],
     "prompt_number": 130
    },
    {
     "cell_type": "code",
     "collapsed": false,
     "input": [
      "with open('/Users/alehmann/Downloads/IMG_3756.JPG','rb') as f:\n",
      "    data = f.read()\n",
      "data[:1540]"
     ],
     "language": "python",
     "metadata": {},
     "outputs": [
      {
       "metadata": {},
       "output_type": "pyout",
       "prompt_number": 135,
       "text": [
        "'\\xff\\xd8\\xff\\xe1/\\xfeExif\\x00\\x00MM\\x00*\\x00\\x00\\x00\\x08\\x00\\n\\x01\\x0f\\x00\\x02\\x00\\x00\\x00\\x06\\x00\\x00\\x00\\x86\\x01\\x10\\x00\\x02\\x00\\x00\\x00\\t\\x00\\x00\\x00\\x8c\\x01\\x12\\x00\\x03\\x00\\x00\\x00\\x01\\x00\\x06\\x00\\x00\\x01\\x1a\\x00\\x05\\x00\\x00\\x00\\x01\\x00\\x00\\x00\\x96\\x01\\x1b\\x00\\x05\\x00\\x00\\x00\\x01\\x00\\x00\\x00\\x9e\\x01(\\x00\\x03\\x00\\x00\\x00\\x01\\x00\\x02\\x00\\x00\\x011\\x00\\x02\\x00\\x00\\x00\\x06\\x00\\x00\\x00\\xa6\\x012\\x00\\x02\\x00\\x00\\x00\\x14\\x00\\x00\\x00\\xac\\x02\\x13\\x00\\x03\\x00\\x00\\x00\\x01\\x00\\x01\\x00\\x00\\x87i\\x00\\x04\\x00\\x00\\x00\\x01\\x00\\x00\\x00\\xc0\\x00\\x00\\x03\\xa6Apple\\x00iPhone 5\\x00\\x00\\x00\\x00\\x00H\\x00\\x00\\x00\\x01\\x00\\x00\\x00H\\x00\\x00\\x00\\x017.0.4\\x002014:02:17 14:27:38\\x00\\x00\\x1f\\x82\\x9a\\x00\\x05\\x00\\x00\\x00\\x01\\x00\\x00\\x02:\\x82\\x9d\\x00\\x05\\x00\\x00\\x00\\x01\\x00\\x00\\x02B\\x88\"\\x00\\x03\\x00\\x00\\x00\\x01\\x00\\x02\\x00\\x00\\x88\\'\\x00\\x03\\x00\\x00\\x00\\x01\\x01@\\x00\\x00\\x90\\x00\\x00\\x07\\x00\\x00\\x00\\x040221\\x90\\x03\\x00\\x02\\x00\\x00\\x00\\x14\\x00\\x00\\x02J\\x90\\x04\\x00\\x02\\x00\\x00\\x00\\x14\\x00\\x00\\x02^\\x91\\x01\\x00\\x07\\x00\\x00\\x00\\x04\\x01\\x02\\x03\\x00\\x92\\x01\\x00\\n\\x00\\x00\\x00\\x01\\x00\\x00\\x02r\\x92\\x02\\x00\\x05\\x00\\x00\\x00\\x01\\x00\\x00\\x02z\\x92\\x03\\x00\\n\\x00\\x00\\x00\\x01\\x00\\x00\\x02\\x82\\x92\\x07\\x00\\x03\\x00\\x00\\x00\\x01\\x00\\x05\\x00\\x00\\x92\\t\\x00\\x03\\x00\\x00\\x00\\x01\\x00\\x10\\x00\\x00\\x92\\n\\x00\\x05\\x00\\x00\\x00\\x01\\x00\\x00\\x02\\x8a\\x92\\x14\\x00\\x03\\x00\\x00\\x00\\x04\\x00\\x00\\x02\\x92\\x92|\\x00\\x07\\x00\\x00\\x00\\xc4\\x00\\x00\\x02\\x9a\\x92\\x91\\x00\\x02\\x00\\x00\\x00\\x04715\\x00\\x92\\x92\\x00\\x02\\x00\\x00\\x00\\x04715\\x00\\xa0\\x00\\x00\\x07\\x00\\x00\\x00\\x040100\\xa0\\x01\\x00\\x03\\x00\\x00\\x00\\x01\\x00\\x01\\x00\\x00\\xa0\\x02\\x00\\x04\\x00\\x00\\x00\\x01\\x00\\x00\\x0c\\xc0\\xa0\\x03\\x00\\x04\\x00\\x00\\x00\\x01\\x00\\x00\\t\\x90\\xa2\\x17\\x00\\x03\\x00\\x00\\x00\\x01\\x00\\x02\\x00\\x00\\xa3\\x01\\x00\\x07\\x00\\x00\\x00\\x01\\x01\\x00\\x00\\x00\\xa4\\x02\\x00\\x03\\x00\\x00\\x00\\x01\\x00\\x00\\x00\\x00\\xa4\\x03\\x00\\x03\\x00\\x00\\x00\\x01\\x00\\x00\\x00\\x00\\xa4\\x05\\x00\\x03\\x00\\x00\\x00\\x01\\x00!\\x00\\x00\\xa4\\x06\\x00\\x03\\x00\\x00\\x00\\x01\\x00\\x00'"
       ]
      }
     ],
     "prompt_number": 135
    },
    {
     "cell_type": "code",
     "collapsed": false,
     "input": [],
     "language": "python",
     "metadata": {},
     "outputs": []
    }
   ],
   "metadata": {}
  }
 ]
}