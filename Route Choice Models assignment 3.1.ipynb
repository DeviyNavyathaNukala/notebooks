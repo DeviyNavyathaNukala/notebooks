{
 "metadata": {
  "name": "",
  "signature": "sha256:2d2f24250ef81fe76f9f177fb7203a77b3843b749aad3141a70aafd51ac48f0f"
 },
 "nbformat": 3,
 "nbformat_minor": 0,
 "worksheets": [
  {
   "cells": [
    {
     "cell_type": "code",
     "collapsed": false,
     "input": [
      "%pylab inline"
     ],
     "language": "python",
     "metadata": {},
     "outputs": [
      {
       "output_type": "stream",
       "stream": "stdout",
       "text": [
        "Populating the interactive namespace from numpy and matplotlib\n"
       ]
      }
     ],
     "prompt_number": 1
    },
    {
     "cell_type": "code",
     "collapsed": false,
     "input": [
      "routes = [[1,2,5,10],\n",
      "          [3,8,11,12],\n",
      "          [1,4,7,10],\n",
      "          [3,6,9,12],\n",
      "          [1,4,9,12],\n",
      "          [3,6,7,10],\n",
      "          [3,6,4,2,5,10],\n",
      "          [1,4,6,8,11,12],\n",
      "          [3,8,11,9,7,10],\n",
      "          [1,2,5,7,9,12],\n",
      "          [3,8,11,9,4,2,5,10],\n",
      "          [1,2,5,7,6,8,11,12]]\n",
      "\n",
      "network = {1:[1,3],2:[1,2,4],3:[2,5],\n",
      "           4:[3,6,8],5:[4,7,6,9],6:[5,7,10],\n",
      "           7:[8,11],8:[9,11,12],9:[10,12]}\n",
      "links = {1:[1,2],2:[2,3],3:[1,4],4:[2,5],5:[3,6],\n",
      "         6:[4,5],7:[5,6],8:[4,7],9:[5,8],10:[6,9],\n",
      "         11:[7,8],12:[8,9]}"
     ],
     "language": "python",
     "metadata": {},
     "outputs": [],
     "prompt_number": 2
    },
    {
     "cell_type": "code",
     "collapsed": false,
     "input": [
      "len(routes)"
     ],
     "language": "python",
     "metadata": {},
     "outputs": [
      {
       "metadata": {},
       "output_type": "pyout",
       "prompt_number": 3,
       "text": [
        "12"
       ]
      }
     ],
     "prompt_number": 3
    },
    {
     "cell_type": "code",
     "collapsed": false,
     "input": [
      "N = 1000\n",
      "LP = 20\n",
      "DRAW = 20\n",
      "def path_enumeration(routes):\n",
      "    return routes\n",
      "\n",
      "def link_elimination(routes):\n",
      "    res = []\n",
      "    le = []\n",
      "    for r in routes:\n",
      "        if r[-1] in le:\n",
      "            continue\n",
      "        le.append(r[-1])\n",
      "        res.append(r)\n",
      "    return res\n",
      "\n",
      "def length(cost, route):\n",
      "    return sum([cost[l-1] for l in route])\n",
      "\n",
      "def link_penalty(routes):\n",
      "    res = set()\n",
      "    cost = ones(12)\n",
      "    for i in range(LP):\n",
      "        costs = [length(cost,r) for r in routes]\n",
      "        min_r = routes[costs.index(min(costs))]\n",
      "        for l in min_r:\n",
      "            cost[l-1] *= 1.05\n",
      "        res.add(tuple(min_r))\n",
      "        #print min_r,cost\n",
      "    return res\n",
      "        \n",
      "def simulation(routes):\n",
      "    #Gamma: mean = k\\theta var = k\\theta^2\n",
      "    # E = k*th = t\n",
      "    # V = k*th^2 = t\n",
      "    # th = 1, k = t\n",
      "    draw = ([gamma(1,1,DRAW) for t in range(12)])\n",
      "    d=array([sum([draw[i-1] for i in r],0) for r in routes]) #array of route length 12Xnumber of draws\n",
      "\n",
      "    return [routes[i] for i in set(d.argmin(0))]#,d\n",
      "\n",
      "\n",
      "def branch_and_bound(routes):\n",
      "    return routes[:6]\n",
      "    \n",
      "    \n",
      "            \n",
      "def probit(choiceset_obs):\n",
      "    for o in choiceset_obs:\n",
      "        util = []\n",
      "        for r in o:\n",
      "            u = 0\n",
      "            for l in r:\n",
      "                u += -1.*normal(1,1.6449/4.)\n",
      "            util.append(u)\n",
      "        mu = max(util)\n",
      "        yield mu,util.index(mu)\n",
      "\n",
      "choice_methods = [path_enumeration,link_elimination,link_penalty,branch_and_bound,\n",
      "                  simulation]\n",
      "    \n",
      "\n",
      "def exercise1():\n",
      "    for meth in choice_methods:\n",
      "        obs = [meth(routes) for i in range(N)]\n",
      "        \n",
      "        LP = [x[1] for x in probit(obs)]\n",
      "        h,bins = histogram(LP)\n",
      "        #print bins\n",
      "        #bins = linspace(1,13,12)\n",
      "        width = 0.7 * (bins[1] - bins[0])\n",
      "        center = (bins[:-1] + bins[1:]) / 2\n",
      "        title(meth.func_name)\n",
      "        plt.bar(center, h, align='center', width=width)\n",
      "        plt.show()\n",
      "        figure\n",
      "        \n",
      "def plot_sim():\n",
      "    d = simulation(routes)[1]\n",
      "    h,bins = histogram(d.argmin(0)+1)\n",
      "    print bins\n",
      "    width = 0.7 * (bins[1] - bins[0])\n",
      "    center = (bins[:-1] + bins[1:]) / 2\n",
      "    plt.bar(center, h, align='center', width=width)\n",
      "    plt.show()\n",
      "\n"
     ],
     "language": "python",
     "metadata": {},
     "outputs": [],
     "prompt_number": 4
    },
    {
     "cell_type": "code",
     "collapsed": true,
     "input": [
      "exercise1()"
     ],
     "language": "python",
     "metadata": {},
     "outputs": [
      {
       "metadata": {},
       "output_type": "display_data",
       "png": "[encoded data removed]",
       "text": [
        "<matplotlib.figure.Figure at 0x11334a4d0>"
       ]
      },
      {
       "metadata": {},
       "output_type": "display_data",
       "png": "[encoded data removed]",
       "text": [
        "<matplotlib.figure.Figure at 0x11336a9d0>"
       ]
      },
      {
       "metadata": {},
       "output_type": "display_data",
       "png": "[encoded data removed]",
       "text": [
        "<matplotlib.figure.Figure at 0x113441d90>"
       ]
      },
      {
       "metadata": {},
       "output_type": "display_data",
       "png": "[encoded data removed]",
       "text": [
        "<matplotlib.figure.Figure at 0x1133536d0>"
       ]
      },
      {
       "metadata": {},
       "output_type": "display_data",
       "png": "[encoded data removed]",
       "text": [
        "<matplotlib.figure.Figure at 0x113432dd0>"
       ]
      }
     ],
     "prompt_number": 5
    },
    {
     "cell_type": "code",
     "collapsed": false,
     "input": [
      "def error_calc():\n",
      "    obs\n",
      "    for meth in choice_methods:\n",
      "        obs = [meth(routes) for i in range(N)]\n",
      "        LP = [x[1] for x in probit(obs)]\n",
      "        h,bins = histogram(LP)"
     ],
     "language": "python",
     "metadata": {},
     "outputs": [],
     "prompt_number": 6
    },
    {
     "cell_type": "code",
     "collapsed": false,
     "input": [
      "\n",
      "def bnb(node):\n",
      "    route =[]\n",
      "    print node\n",
      "    for l in network[node]:\n",
      "        print \"  \",l\n",
      "        if not all([node<=i for i in links[l]]): #dont move away from dest\n",
      "            continue\n",
      "            \n",
      "        if l in network[9]:\n",
      "            print \"stop\"\n",
      "            return [l]\n",
      "              \n",
      "        print links[l][1],\n",
      "        ret = bnb(links[l][1])\n",
      "        print \"return\",ret\n",
      "        return [l]+ret\n",
      "bnb(1)"
     ],
     "language": "python",
     "metadata": {},
     "outputs": []
    },
    {
     "cell_type": "heading",
     "level": 1,
     "metadata": {},
     "source": []
    }
   ],
   "metadata": {}
  }
 ]
}