{
 "cells": [
  {
   "cell_type": "code",
   "execution_count": 1,
   "metadata": {
    "collapsed": false
   },
   "outputs": [
    {
     "name": "stdout",
     "output_type": "stream",
     "text": [
      "Populating the interactive namespace from numpy and matplotlib\n"
     ]
    }
   ],
   "source": [
    "%pylab inline"
   ]
  },
  {
   "cell_type": "code",
   "execution_count": 2,
   "metadata": {
    "collapsed": false
   },
   "outputs": [
    {
     "name": "stdout",
     "output_type": "stream",
     "text": [
      "Unit calculation and physics extensions activated.\n"
     ]
    }
   ],
   "source": [
    "load_ext physics"
   ]
  },
  {
   "cell_type": "code",
   "execution_count": 11,
   "metadata": {
    "collapsed": false
   },
   "outputs": [],
   "source": [
    "from Crypto.Cipher import AES"
   ]
  },
  {
   "cell_type": "code",
   "execution_count": 31,
   "metadata": {
    "collapsed": false
   },
   "outputs": [
    {
     "data": {
      "text/plain": [
       "16"
      ]
     },
     "execution_count": 31,
     "metadata": {},
     "output_type": "execute_result"
    }
   ],
   "source": [
    "key = \"Tesla Client API\"\n",
    "cipher = AES.new(key,AES.MODE_ECB)\n",
    "len(key)"
   ]
  },
  {
   "cell_type": "code",
   "execution_count": 42,
   "metadata": {
    "collapsed": false
   },
   "outputs": [
    {
     "name": "stdout",
     "output_type": "stream",
     "text": [
      "32 Hej med dig.   ?Hej med dig.   ?\n"
     ]
    }
   ],
   "source": [
    "msg=cipher.encrypt(\"Hej med dig.   ?Hej med dig.   ?\")\n",
    "print len(msg),cipher.decrypt(msg)"
   ]
  },
  {
   "cell_type": "code",
   "execution_count": 34,
   "metadata": {
    "collapsed": false
   },
   "outputs": [
    {
     "name": "stdout",
     "output_type": "stream",
     "text": [
      "64\n",
      "s�C��\u0010����)T��N���|#I\n",
      "+�{~�:\u0017\u0003s��.\u0011W�\u001f����;\u0012�[_�R[ۭ�'\f",
      ";\u000e�\u0003_�H 64\n"
     ]
    }
   ],
   "source": [
    "msg=[115,  -51,   67, -104, -107,   16, -116, -114,\n",
    "         -11, -120,   41,   84, -106,  -15,  -67,   78,\n",
    "         -10,  -24,  -47,  124,   35,   73,   10,   43,\n",
    "          -9,  123,  127,  126, -114,   58,   23,    3,\n",
    "         115,  -70, -115,   46,   17,   87, -115,   31, \n",
    "         -67,  -90, -107, -100,   59,   18,  -19,   91,\n",
    "          95,  -52,   82,   91,  -37,  -83,  -74,   39,\n",
    "          12,   59,   14,  -81,    3,   95, -111,   72]\n",
    "msg2 = [-28,   97,  -94,  108,   69,  -40,  111,   53,\n",
    "          88,  -57,   82,  111,   57,   98,  116,  -63,\n",
    "         -75,  -37,   16,   95,    2, -113,  -46, -112,\n",
    "          32,   73,  -43,   23, -114,   38, -110,  -85,\n",
    "         -42,   41,   98,  118,   30,   -2,  -11,   93,\n",
    "          22,   89,   56,  105, -128,   20,  -24, -108,\n",
    "          76,   31,  -19,   60,   69,  -98, -122,   54,\n",
    "          67,   19,   72,  -37,  106,   62, -120,  -52]\n",
    "print len(msg)\n",
    "def unsgd(x):\n",
    "    if x>0: return x\n",
    "    return 256+x\n",
    "msg = ''.join([chr(unsgd(x)) for x in msg])\n",
    "msg2 = ''.join([chr(unsgd(x)) for x in msg2])\n",
    "print msg, len(msg)"
   ]
  },
  {
   "cell_type": "code",
   "execution_count": 36,
   "metadata": {
    "collapsed": false
   },
   "outputs": [
    {
     "name": "stdout",
     "output_type": "stream",
     "text": [
      "e4a9949fcfa04068f59abb5a658f2bac0a3428e4652315490b659d5ab3f35a9e 64\n"
     ]
    }
   ],
   "source": [
    "clear=cipher.decrypt(msg)\n",
    "print clear, len(clear)"
   ]
  },
  {
   "cell_type": "code",
   "execution_count": 37,
   "metadata": {
    "collapsed": false
   },
   "outputs": [
    {
     "name": "stdout",
     "output_type": "stream",
     "text": [
      "c75f14bbadc8bee3a7594412c31416f8300256d7668ea7e6e7f06727bfb9d220 64\n"
     ]
    }
   ],
   "source": [
    "clear2=cipher.decrypt(msg2)\n",
    "print clear2, len(clear2)"
   ]
  },
  {
   "cell_type": "code",
   "execution_count": 50,
   "metadata": {
    "collapsed": false
   },
   "outputs": [],
   "source": [
    "import requests as rq"
   ]
  },
  {
   "cell_type": "code",
   "execution_count": 78,
   "metadata": {
    "collapsed": false
   },
   "outputs": [
    {
     "name": "stdout",
     "output_type": "stream",
     "text": [
      "True True\n"
     ]
    }
   ],
   "source": [
    "client_id = 'e4a9949fcfa04068f59abb5a658f2bac0a3428e4652315490b659d5ab3f35a9e'\n",
    "client_secret = 'c75f14bbadc8bee3a7594412c31416f8300256d7668ea7e6e7f06727bfb9d220'\n",
    "print clear == client_id, clear2 == client_secret\n",
    "url = 'https://owner-api.teslamotors.com/oauth/token'\n",
    "headers = {'passwd' : 'flexswitch206',\n",
    "'email' : 'redorlik@gmail.com',\n",
    "'grant_type':'password',\n",
    " 'client_id': client_id,\n",
    " 'client_secret':client_secret}\n",
    "res = rq.request('POST',url=url,json=headers)"
   ]
  },
  {
   "cell_type": "code",
   "execution_count": 79,
   "metadata": {
    "collapsed": false
   },
   "outputs": [
    {
     "data": {
      "text/plain": [
       "{u'response': u'{\"message\"=>\"object_reference_not_set_to_an_instance_of_an_object.\",_\"stacktrace\"=>\"___at_myteslawebservice.controllers.authenticationcontroller.<authenticate>d__1.movenext'}"
      ]
     },
     "execution_count": 79,
     "metadata": {},
     "output_type": "execute_result"
    }
   ],
   "source": [
    "resp = res.json\n",
    "resp()"
   ]
  },
  {
   "cell_type": "code",
   "execution_count": 16,
   "metadata": {
    "collapsed": true
   },
   "outputs": [],
   "source": []
  },
  {
   "cell_type": "code",
   "execution_count": 18,
   "metadata": {
    "collapsed": true
   },
   "outputs": [],
   "source": [
    "Mu = N*I*pi*r**2"
   ]
  },
  {
   "cell_type": "code",
   "execution_count": 19,
   "metadata": {
    "collapsed": false
   },
   "outputs": [
    {
     "data": {
      "text/plain": [
       "5301437.6 A*cm^2"
      ]
     },
     "execution_count": 19,
     "metadata": {},
     "output_type": "execute_result"
    }
   ],
   "source": [
    "Mu "
   ]
  },
  {
   "cell_type": "code",
   "execution_count": 21,
   "metadata": {
    "collapsed": false
   },
   "outputs": [],
   "source": [
    "B = 2.3 T"
   ]
  },
  {
   "cell_type": "code",
   "execution_count": 28,
   "metadata": {
    "collapsed": false
   },
   "outputs": [
    {
     "data": {
      "text/plain": [
       "1219.3306 m*N"
      ]
     },
     "execution_count": 28,
     "metadata": {},
     "output_type": "execute_result"
    }
   ],
   "source": [
    "M = B*Mu\n",
    "M.convert('N*m')\n",
    "M"
   ]
  },
  {
   "cell_type": "code",
   "execution_count": 24,
   "metadata": {
    "collapsed": true
   },
   "outputs": [],
   "source": [
    "x = 1 A*m*T"
   ]
  },
  {
   "cell_type": "code",
   "execution_count": 25,
   "metadata": {
    "collapsed": true
   },
   "outputs": [],
   "source": [
    "x.convert('N')"
   ]
  },
  {
   "cell_type": "code",
   "execution_count": 26,
   "metadata": {
    "collapsed": false
   },
   "outputs": [
    {
     "data": {
      "text/plain": [
       "1 N"
      ]
     },
     "execution_count": 26,
     "metadata": {},
     "output_type": "execute_result"
    }
   ],
   "source": [
    "x"
   ]
  },
  {
   "cell_type": "code",
   "execution_count": 29,
   "metadata": {
    "collapsed": false
   },
   "outputs": [
    {
     "data": {
      "text/plain": [
       "1.0161089 m*N"
      ]
     },
     "execution_count": 29,
     "metadata": {},
     "output_type": "execute_result"
    }
   ],
   "source": [
    "M/1200"
   ]
  },
  {
   "cell_type": "code",
   "execution_count": 31,
   "metadata": {
    "collapsed": false
   },
   "outputs": [
    {
     "data": {
      "text/plain": [
       "388.125 m*N"
      ]
     },
     "execution_count": 31,
     "metadata": {},
     "output_type": "execute_result"
    }
   ],
   "source": [
    "M/pi"
   ]
  },
  {
   "cell_type": "code",
   "execution_count": 39,
   "metadata": {
    "collapsed": true
   },
   "outputs": [],
   "source": [
    "E = 15 kV/m"
   ]
  },
  {
   "cell_type": "code",
   "execution_count": 40,
   "metadata": {
    "collapsed": true
   },
   "outputs": [],
   "source": [
    "B = 4.7 T"
   ]
  },
  {
   "cell_type": "code",
   "execution_count": 41,
   "metadata": {
    "collapsed": false
   },
   "outputs": [
    {
     "data": {
      "text/plain": [
       "3191.4894 m/s"
      ]
     },
     "execution_count": 41,
     "metadata": {},
     "output_type": "execute_result"
    }
   ],
   "source": [
    "v = E/B\n",
    "v.convert('m/s')\n",
    "v"
   ]
  },
  {
   "cell_type": "code",
   "execution_count": 42,
   "metadata": {
    "collapsed": false
   },
   "outputs": [
    {
     "data": {
      "text/plain": [
       "1015.8826 m/s"
      ]
     },
     "execution_count": 42,
     "metadata": {},
     "output_type": "execute_result"
    }
   ],
   "source": [
    "v/pi"
   ]
  },
  {
   "cell_type": "code",
   "execution_count": 43,
   "metadata": {
    "collapsed": false
   },
   "outputs": [
    {
     "data": {
      "text/plain": [
       "11489.362 m/s"
      ]
     },
     "execution_count": 43,
     "metadata": {},
     "output_type": "execute_result"
    }
   ],
   "source": [
    "v*3.6"
   ]
  },
  {
   "cell_type": "markdown",
   "metadata": {},
   "source": [
    "### Spørgsmål Elektrofysik (Ladning, strøm, modstand, kapacitans)"
   ]
  },
  {
   "cell_type": "markdown",
   "metadata": {},
   "source": [
    "Det basale ligning for kapacitans er Q = CV. V er lig $\\int_{-\\infty}^{R}{E*dr}$.\n",
    "\n",
    "Hvad er den samlede ladning på parallel forbindelsen af en kapacitans på 10 µF og en kapacitans på 20 µF, der påtrykkes spændingen 10V"
   ]
  },
  {
   "cell_type": "code",
   "execution_count": 45,
   "metadata": {
    "collapsed": true
   },
   "outputs": [],
   "source": [
    "C1 = 10 muF"
   ]
  },
  {
   "cell_type": "code",
   "execution_count": 48,
   "metadata": {
    "collapsed": false
   },
   "outputs": [],
   "source": [
    "C2 = 20 muF"
   ]
  },
  {
   "cell_type": "code",
   "execution_count": 49,
   "metadata": {
    "collapsed": true
   },
   "outputs": [],
   "source": [
    "V = 10 V"
   ]
  },
  {
   "cell_type": "code",
   "execution_count": 52,
   "metadata": {
    "collapsed": false
   },
   "outputs": [
    {
     "data": {
      "text/plain": [
       "300 muC"
      ]
     },
     "execution_count": 52,
     "metadata": {},
     "output_type": "execute_result"
    }
   ],
   "source": [
    "Q = V*(C1+C2)\n",
    "Q.convert('muC')\n",
    "Q"
   ]
  },
  {
   "cell_type": "code",
   "execution_count": 53,
   "metadata": {
    "collapsed": true
   },
   "outputs": [],
   "source": [
    "C = C1*C2/(C1+C2)"
   ]
  },
  {
   "cell_type": "code",
   "execution_count": 56,
   "metadata": {
    "collapsed": false
   },
   "outputs": [
    {
     "data": {
      "text/plain": [
       "66.666667 muC"
      ]
     },
     "execution_count": 56,
     "metadata": {},
     "output_type": "execute_result"
    }
   ],
   "source": [
    "Q1 = V*C\n",
    "Q1.convert('muC')\n",
    "Q1"
   ]
  },
  {
   "cell_type": "markdown",
   "metadata": {},
   "source": [
    "Hvad er den elektriske kraft på en partikel med ladningen 10 µC i et elektrisk felt på 10kV/m"
   ]
  },
  {
   "cell_type": "code",
   "execution_count": 58,
   "metadata": {
    "collapsed": true
   },
   "outputs": [],
   "source": [
    "Q = 10 muC"
   ]
  },
  {
   "cell_type": "code",
   "execution_count": 59,
   "metadata": {
    "collapsed": true
   },
   "outputs": [],
   "source": [
    "E = 10 kV/m"
   ]
  },
  {
   "cell_type": "code",
   "execution_count": 60,
   "metadata": {
    "collapsed": false
   },
   "outputs": [
    {
     "data": {
      "text/plain": [
       "0.1 N"
      ]
     },
     "execution_count": 60,
     "metadata": {},
     "output_type": "execute_result"
    }
   ],
   "source": [
    "F = E*Q\n",
    "F.convert('N')\n",
    "F"
   ]
  },
  {
   "cell_type": "markdown",
   "metadata": {},
   "source": [
    "Hvilken kinetisk energi vil en elektron få tilført ved at blive accelereret igennem et vacuum rør med spændingen 10kV"
   ]
  },
  {
   "cell_type": "code",
   "execution_count": 67,
   "metadata": {
    "collapsed": true
   },
   "outputs": [],
   "source": [
    "V = 10 kV"
   ]
  },
  {
   "cell_type": "code",
   "execution_count": 68,
   "metadata": {
    "collapsed": false
   },
   "outputs": [
    {
     "data": {
      "text/plain": [
       "1.6021766e-15 J"
      ]
     },
     "execution_count": 68,
     "metadata": {},
     "output_type": "execute_result"
    }
   ],
   "source": [
    "E = e0*V\n",
    "E.convert('J')\n",
    "E\n"
   ]
  },
  {
   "cell_type": "markdown",
   "metadata": {},
   "source": [
    "Hvilken hastighed vil en elektron få tilført ved at blive accelereret igennem et vacuum rør med spændingen 10kV"
   ]
  },
  {
   "cell_type": "code",
   "execution_count": 72,
   "metadata": {
    "collapsed": false
   },
   "outputs": [
    {
     "data": {
      "text/plain": [
       "0.19783585465387307"
      ]
     },
     "execution_count": 72,
     "metadata": {},
     "output_type": "execute_result"
    }
   ],
   "source": [
    "v = sqrt(2*E/me)\n",
    "v.convert('m/s')\n",
    "v/c0"
   ]
  },
  {
   "cell_type": "markdown",
   "metadata": {},
   "source": [
    "Hvad er modstanden af en kobber tråd på 100m med tværsnitsareal 1 $cm^2$ ?"
   ]
  },
  {
   "cell_type": "code",
   "execution_count": 73,
   "metadata": {
    "collapsed": false
   },
   "outputs": [],
   "source": [
    "l = 100 m"
   ]
  },
  {
   "cell_type": "code",
   "execution_count": 74,
   "metadata": {
    "collapsed": false
   },
   "outputs": [],
   "source": [
    "A = 1 cm**2"
   ]
  },
  {
   "cell_type": "code",
   "execution_count": 78,
   "metadata": {
    "collapsed": false
   },
   "outputs": [],
   "source": [
    "rho = 1.68e-8 ohm*m"
   ]
  },
  {
   "cell_type": "code",
   "execution_count": 81,
   "metadata": {
    "collapsed": false
   },
   "outputs": [
    {
     "data": {
      "text/plain": [
       "16.8 mohm"
      ]
     },
     "execution_count": 81,
     "metadata": {},
     "output_type": "execute_result"
    }
   ],
   "source": [
    "R = rho*l/A\n",
    "R.convert('mohm')\n",
    "R"
   ]
  },
  {
   "cell_type": "markdown",
   "metadata": {
    "collapsed": true
   },
   "source": [
    "Hvad er ladningen på hver af kondensatorerne i et serie kredsløb, af en 15 µF og en 10 pF kondensator og et 10 V batteri?"
   ]
  },
  {
   "cell_type": "code",
   "execution_count": 84,
   "metadata": {
    "collapsed": true
   },
   "outputs": [],
   "source": [
    "C1 = 15 muF"
   ]
  },
  {
   "cell_type": "code",
   "execution_count": 85,
   "metadata": {
    "collapsed": true
   },
   "outputs": [],
   "source": [
    "C2 = 10 pF"
   ]
  },
  {
   "cell_type": "code",
   "execution_count": 86,
   "metadata": {
    "collapsed": true
   },
   "outputs": [],
   "source": [
    "B = 10 V"
   ]
  },
  {
   "cell_type": "code",
   "execution_count": 90,
   "metadata": {
    "collapsed": false
   },
   "outputs": [
    {
     "data": {
      "text/plain": [
       "99.999933 pC"
      ]
     },
     "execution_count": 90,
     "metadata": {},
     "output_type": "execute_result"
    }
   ],
   "source": [
    "C = C1*C2/(C1+C2)\n",
    "Q = C*B\n",
    "Q.convert('pC')\n",
    "Q"
   ]
  },
  {
   "cell_type": "code",
   "execution_count": 93,
   "metadata": {
    "collapsed": false
   },
   "outputs": [],
   "source": [
    "x=1/(1/C1+1/C2)"
   ]
  },
  {
   "cell_type": "code",
   "execution_count": 94,
   "metadata": {
    "collapsed": false
   },
   "outputs": [
    {
     "data": {
      "text/plain": [
       "9.9999933 pF"
      ]
     },
     "execution_count": 94,
     "metadata": {},
     "output_type": "execute_result"
    }
   ],
   "source": [
    "x.convert('pF')\n",
    "x"
   ]
  },
  {
   "cell_type": "code",
   "execution_count": 95,
   "metadata": {
    "collapsed": false
   },
   "outputs": [
    {
     "data": {
      "text/plain": [
       "99.999933 pF*V"
      ]
     },
     "execution_count": 95,
     "metadata": {},
     "output_type": "execute_result"
    }
   ],
   "source": [
    "x*B"
   ]
  },
  {
   "cell_type": "code",
   "execution_count": 96,
   "metadata": {
    "collapsed": true
   },
   "outputs": [],
   "source": [
    "q=(C1+C2)*B\n",
    "q.convert('muC')"
   ]
  },
  {
   "cell_type": "code",
   "execution_count": 97,
   "metadata": {
    "collapsed": false
   },
   "outputs": [
    {
     "data": {
      "text/plain": [
       "150.0001 muC"
      ]
     },
     "execution_count": 97,
     "metadata": {},
     "output_type": "execute_result"
    }
   ],
   "source": [
    "q"
   ]
  },
  {
   "cell_type": "code",
   "execution_count": 4,
   "metadata": {
    "collapsed": false
   },
   "outputs": [],
   "source": [
    "E = 1000 V/m"
   ]
  },
  {
   "cell_type": "code",
   "execution_count": 5,
   "metadata": {
    "collapsed": false
   },
   "outputs": [
    {
     "data": {
      "text/plain": [
       "1.6021766e-16 N"
      ]
     },
     "execution_count": 5,
     "metadata": {},
     "output_type": "execute_result"
    }
   ],
   "source": [
    "F = e0*E\n",
    "F.convert('N')\n",
    "F"
   ]
  },
  {
   "cell_type": "code",
   "execution_count": 6,
   "metadata": {
    "collapsed": false
   },
   "outputs": [
    {
     "data": {
      "text/plain": [
       "1.7588201e+14 m/s^2"
      ]
     },
     "execution_count": 6,
     "metadata": {},
     "output_type": "execute_result"
    }
   ],
   "source": [
    "a = F/me\n",
    "a.convert('m/s**2')\n",
    "a"
   ]
  },
  {
   "cell_type": "code",
   "execution_count": 10,
   "metadata": {
    "collapsed": false
   },
   "outputs": [
    {
     "data": {
      "text/plain": [
       "9.1093829e-31 kg"
      ]
     },
     "execution_count": 10,
     "metadata": {},
     "output_type": "execute_result"
    }
   ],
   "source": [
    "me"
   ]
  },
  {
   "cell_type": "code",
   "execution_count": 13,
   "metadata": {
    "collapsed": false
   },
   "outputs": [],
   "source": [
    "fi = 0.2 T*m**2"
   ]
  },
  {
   "cell_type": "code",
   "execution_count": 14,
   "metadata": {
    "collapsed": true
   },
   "outputs": [],
   "source": [
    "I = 12 A"
   ]
  },
  {
   "cell_type": "code",
   "execution_count": 15,
   "metadata": {
    "collapsed": false
   },
   "outputs": [
    {
     "data": {
      "text/plain": [
       "0.016666667 H"
      ]
     },
     "execution_count": 15,
     "metadata": {},
     "output_type": "execute_result"
    }
   ],
   "source": [
    "L = fi/I\n",
    "L.convert('H')\n",
    "L"
   ]
  },
  {
   "cell_type": "code",
   "execution_count": 16,
   "metadata": {
    "collapsed": false
   },
   "outputs": [
    {
     "data": {
      "text/plain": [
       "60 A/m^2/T"
      ]
     },
     "execution_count": 16,
     "metadata": {},
     "output_type": "execute_result"
    }
   ],
   "source": [
    "I/fi"
   ]
  },
  {
   "cell_type": "code",
   "execution_count": 32,
   "metadata": {
    "collapsed": true
   },
   "outputs": [],
   "source": [
    "B = 0.4 T"
   ]
  },
  {
   "cell_type": "code",
   "execution_count": 33,
   "metadata": {
    "collapsed": true
   },
   "outputs": [],
   "source": [
    "v = 5e6 m/s"
   ]
  },
  {
   "cell_type": "code",
   "execution_count": 34,
   "metadata": {
    "collapsed": false
   },
   "outputs": [
    {
     "data": {
      "text/plain": [
       "0.13049606 m"
      ]
     },
     "execution_count": 34,
     "metadata": {},
     "output_type": "execute_result"
    }
   ],
   "source": [
    "F = e0*v*B\n",
    "a = F/mp\n",
    "r = v**2/a\n",
    "r.convert('m')\n",
    "r"
   ]
  },
  {
   "cell_type": "code",
   "execution_count": 27,
   "metadata": {
    "collapsed": false
   },
   "outputs": [
    {
     "data": {
      "text/plain": [
       "1.6726218e-27 kg"
      ]
     },
     "execution_count": 27,
     "metadata": {},
     "output_type": "execute_result"
    }
   ],
   "source": [
    "mp"
   ]
  },
  {
   "cell_type": "code",
   "execution_count": 35,
   "metadata": {
    "collapsed": true
   },
   "outputs": [],
   "source": [
    "E = 10000 V/m"
   ]
  },
  {
   "cell_type": "code",
   "execution_count": 38,
   "metadata": {
    "collapsed": true
   },
   "outputs": [],
   "source": [
    "v = 1e5 m/s"
   ]
  },
  {
   "cell_type": "code",
   "execution_count": 39,
   "metadata": {
    "collapsed": false
   },
   "outputs": [
    {
     "data": {
      "text/plain": [
       "0.1 T"
      ]
     },
     "execution_count": 39,
     "metadata": {},
     "output_type": "execute_result"
    }
   ],
   "source": [
    "B = E/v\n",
    "B.convert('T')\n",
    "B"
   ]
  },
  {
   "cell_type": "code",
   "execution_count": 61,
   "metadata": {
    "collapsed": false
   },
   "outputs": [
    {
     "name": "stdout",
     "output_type": "stream",
     "text": [
      "['\"1\",\"Buff Titanium\",\"60\",\"200,180,131\",\"1165\"', '\"2\",\"Burnt Sienna\",\"74\",\"74,29,16\",\"1023\"', '\"3\",\"Burnt Umber\",\"76\",\"32,19,13\",\"1037\"', '\"4\",\"Cadmium Red Hue\",\"95\",\"169,31,32\",\"993\"', '\"5\",\"Cadmium Yellow Deep Hue\",\"115\",\"242,152,38\",\"1064\"', '\"6\",\"Cadmium Yellow Medium Hue\",\"120\",\"247,193,44\",\"963\"', '\"7\",\"Cobalt Blue\",\"178\",\"10,72,180\",\"1117\"', '\"8\",\"Crimson\",\"203\",\"168,14,32\",\"1068\"', '\"9\",\"Green Gold\",\"294\",\"131,108,21\",\"1100\"', '\"10\",\"Hooker\\'s Green\",\"311\",\"27,38,30\",\"1086\"', '\"11\",\"Ivory Black\",\"331\",\"24,24,26\",\"991\"', '\"12\",\"Lamp Black\",\"337\",\"28,28,30\",\"1121\"', '\"13\",\"Lemon Yellow\",\"346\",\"231,205,45\",\"1083\"', '\"14\",\"Mixing White\",\"415\",\"232,232,228\",\"1038\"', '\"15\",\"Permanent Magenta\",\"488\",\"99,16,40\",\"845\"', '\"16\",\"Phthalo Green\",\"522\",\"8,30,43\",\"1079\"', '\"17\",\"Process Magenta\",\"533\",\"182,24,42\",\"982\"', '\"18\",\"Process Cyan\",\"535\",\"3,44,109\",\"1054\"', '\"19\",\"Process Yellow\",\"537\",\"243,202,45\",\"984\"', '\"20\",\"Prussian Blue Hue\",\"541\",\"13,17,32\",\"999\"', '\"21\",\"Raw Sienna\",\"552\",\"111,57,23\",\"966\"', '\"22\",\"Raw Umber\",\"554\",\"38,28,18\",\"1005\"', '\"23\",\"Red Ochre\",\"564\",\"107,38,32\",\"975\"', '\"24\",\"Sap Green\",\"599\",\"29,76,41\",\"1079\"', '\"25\",\"Transparent Yellow\",\"653\",\"207,141,33\",\"1099\"', '\"26\",\"Ultramarine Blue\",\"660\",\"6,26,73\",\"1060\"', '\"27\",\"Vermilion Hue\",\"682\",\"217,44,41\",\"987\"', '\"28\",\"Winsor Violet\",\"728\",\"28,22,32\",\"982\"', '\"29\",\"Titanium White\",\"644\",\"229,228,226\",\"1185\"', '\"30\",\"Yellow Ochre\",\"744\",\"157,110,34\",\"870\"', '']\n"
     ]
    }
   ],
   "source": [
    "with open('/Users/alehmann/Downloads/zsolts_server_oct_2015/Galeria til ALE til PMv2.csv','r') as f :\n",
    "    data = f.read()\n",
    "\n",
    "data=data.split('\\r')\n",
    "print data"
   ]
  },
  {
   "cell_type": "code",
   "execution_count": 84,
   "metadata": {
    "collapsed": false
   },
   "outputs": [
    {
     "name": "stdout",
     "output_type": "stream",
     "text": [
      "\"200\n"
     ]
    },
    {
     "data": {
      "text/plain": [
       "[('60', 'Buff Titanium', '1165', '(200,180,131)'),\n",
       " ('74', 'Burnt Sienna', '1023', '(74,29,16)'),\n",
       " ('76', 'Burnt Umber', '1037', '(32,19,13)'),\n",
       " ('95', 'Cadmium Red Hue', '993', '(169,31,32)'),\n",
       " ('115', 'Cadmium Yellow Deep Hue', '1064', '(242,152,38)'),\n",
       " ('120', 'Cadmium Yellow Medium Hue', '963', '(247,193,44)'),\n",
       " ('178', 'Cobalt Blue', '1117', '(10,72,180)'),\n",
       " ('203', 'Crimson', '1068', '(168,14,32)'),\n",
       " ('294', 'Green Gold', '1100', '(131,108,21)'),\n",
       " ('311', \"Hooker's Green\", '1086', '(27,38,30)'),\n",
       " ('331', 'Ivory Black', '991', '(24,24,26)'),\n",
       " ('337', 'Lamp Black', '1121', '(28,28,30)'),\n",
       " ('346', 'Lemon Yellow', '1083', '(231,205,45)'),\n",
       " ('415', 'Mixing White', '1038', '(232,232,228)'),\n",
       " ('488', 'Permanent Magenta', '845', '(99,16,40)'),\n",
       " ('522', 'Phthalo Green', '1079', '(8,30,43)'),\n",
       " ('533', 'Process Magenta', '982', '(182,24,42)'),\n",
       " ('535', 'Process Cyan', '1054', '(3,44,109)'),\n",
       " ('537', 'Process Yellow', '984', '(243,202,45)'),\n",
       " ('541', 'Prussian Blue Hue', '999', '(13,17,32)'),\n",
       " ('552', 'Raw Sienna', '966', '(111,57,23)'),\n",
       " ('554', 'Raw Umber', '1005', '(38,28,18)'),\n",
       " ('564', 'Red Ochre', '975', '(107,38,32)'),\n",
       " ('599', 'Sap Green', '1079', '(29,76,41)'),\n",
       " ('653', 'Transparent Yellow', '1099', '(207,141,33)'),\n",
       " ('660', 'Ultramarine Blue', '1060', '(6,26,73)'),\n",
       " ('682', 'Vermilion Hue', '987', '(217,44,41)'),\n",
       " ('728', 'Winsor Violet', '982', '(28,22,32)'),\n",
       " ('644', 'Titanium White', '1185', '(229,228,226)'),\n",
       " ('744', 'Yellow Ochre', '870', '(157,110,34)')]"
      ]
     },
     "execution_count": 84,
     "metadata": {},
     "output_type": "execute_result"
    }
   ],
   "source": [
    "inf = [ x.split(',') for x in data[:-1]]\n",
    "print inf[0][3]\n",
    "\n",
    "inf = [ (x[2].replace('\"',''),x[1].replace('\"',''),x[6].replace('\"',''),'(%s,%s,%s)'%(x[3].replace('\"',''),x[4],x[5].replace('\"',''))) for x in inf]\n",
    "inf"
   ]
  },
  {
   "cell_type": "code",
   "execution_count": null,
   "metadata": {
    "collapsed": true
   },
   "outputs": [],
   "source": []
  }
 ],
 "metadata": {
  "kernelspec": {
   "display_name": "Python 2",
   "language": "python",
   "name": "python2"
  },
  "language_info": {
   "codemirror_mode": {
    "name": "ipython",
    "version": 2
   },
   "file_extension": ".py",
   "mimetype": "text/x-python",
   "name": "python",
   "nbconvert_exporter": "python",
   "pygments_lexer": "ipython2",
   "version": "2.7.11"
  }
 },
 "nbformat": 4,
 "nbformat_minor": 0
}
