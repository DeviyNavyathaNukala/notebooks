{
 "cells": [
  {
   "cell_type": "code",
   "execution_count": 2,
   "metadata": {
    "collapsed": false,
    "deletable": true,
    "editable": true
   },
   "outputs": [
    {
     "name": "stderr",
     "output_type": "stream",
     "text": [
      "/usr/local/lib/python3.5/site-packages/matplotlib/font_manager.py:280: UserWarning: Matplotlib is building the font cache using fc-list. This may take a moment.\n",
      "  'Matplotlib is building the font cache using fc-list. '\n"
     ]
    },
    {
     "name": "stdout",
     "output_type": "stream",
     "text": [
      "Using matplotlib backend: MacOSX\n",
      "Populating the interactive namespace from numpy and matplotlib\n"
     ]
    }
   ],
   "source": [
    "%pylab"
   ]
  },
  {
   "cell_type": "code",
   "execution_count": 10,
   "metadata": {
    "collapsed": false,
    "deletable": true,
    "editable": true
   },
   "outputs": [],
   "source": [
    "workdir = '/Users/alehmann/Documents/Documents/HIH/phd_application/papers/IMWUT2017/data/'"
   ]
  },
  {
   "cell_type": "code",
   "execution_count": 5,
   "metadata": {
    "collapsed": false,
    "deletable": true,
    "editable": true
   },
   "outputs": [],
   "source": [
    "from subprocess import Popen  "
   ]
  },
  {
   "cell_type": "code",
   "execution_count": 15,
   "metadata": {
    "collapsed": false,
    "deletable": true,
    "editable": true
   },
   "outputs": [
    {
     "name": "stdout",
     "output_type": "stream",
     "text": [
      "scp eco-admin@ecosensedb01.cs.au.dk:ale/aarhus_dayOfWeek.json  /Users/alehmann/Documents/Documents/HIH/phd_application/papers/IMWUT2017/data/\n",
      "scp eco-admin@ecosensedb01.cs.au.dk:ale/aarhus_month.json /Users/alehmann/Documents/Documents/HIH/phd_application/papers/IMWUT2017/data/\n",
      "scp eco-admin@ecosensedb01.cs.au.dk:ale/aarhus_samplefreq.json /Users/alehmann/Documents/Documents/HIH/phd_application/papers/IMWUT2017/data/\n",
      "scp eco-admin@ecosensedb01.cs.au.dk:ale/herning_dayOfWeek.json /Users/alehmann/Documents/Documents/HIH/phd_application/papers/IMWUT2017/data/\n",
      "scp eco-admin@ecosensedb01.cs.au.dk:ale/herning_users.json /Users/alehmann/Documents/Documents/HIH/phd_application/papers/IMWUT2017/data/\n",
      "scp eco-admin@ecosensedb01.cs.au.dk:ale/aarhus_D.json /Users/alehmann/Documents/Documents/HIH/phd_application/papers/IMWUT2017/data/\n",
      "scp eco-admin@ecosensedb01.cs.au.dk:ale/aarhus_OD.json  /Users/alehmann/Documents/Documents/HIH/phd_application/papers/IMWUT2017/data/\n",
      "scp eco-admin@ecosensedb01.cs.au.dk:ale/aarhus_timeOfDay.json /Users/alehmann/Documents/Documents/HIH/phd_application/papers/IMWUT2017/data/\n",
      "scp eco-admin@ecosensedb01.cs.au.dk:ale/herning_hist.json /Users/alehmann/Documents/Documents/HIH/phd_application/papers/IMWUT2017/data/\n",
      "scp eco-admin@ecosensedb01.cs.au.dk:ale/aarhus_historgram.json /Users/alehmann/Documents/Documents/HIH/phd_application/papers/IMWUT2017/data/\n",
      "scp eco-admin@ecosensedb01.cs.au.dk:ale/aarhus_O.json /Users/alehmann/Documents/Documents/HIH/phd_application/papers/IMWUT2017/data/\n",
      "scp eco-admin@ecosensedb01.cs.au.dk:ale/aarhus_users.json /Users/alehmann/Documents/Documents/HIH/phd_application/papers/IMWUT2017/data/\n",
      "scp eco-admin@ecosensedb01.cs.au.dk:ale/herning_samplefreq.json /Users/alehmann/Documents/Documents/HIH/phd_application/papers/IMWUT2017/data/\n",
      "scp eco-admin@ecosensedb01.cs.au.dk:ale/aarhus_length.json /Users/alehmann/Documents/Documents/HIH/phd_application/papers/IMWUT2017/data/\n",
      "scp eco-admin@ecosensedb01.cs.au.dk:ale/aarhus_pointsOnCurve.json /Users/alehmann/Documents/Documents/HIH/phd_application/papers/IMWUT2017/data/\n",
      "scp eco-admin@ecosensedb01.cs.au.dk:ale/aarhus_year.json /Users/alehmann/Documents/Documents/HIH/phd_application/papers/IMWUT2017/data/\n",
      "scp eco-admin@ecosensedb01.cs.au.dk:ale/herning_timeOfDay.json /Users/alehmann/Documents/Documents/HIH/phd_application/papers/IMWUT2017/data/\n"
     ]
    }
   ],
   "source": [
    "\n",
    "with open(workdir+'json_files.txt') as f:\n",
    "    for line in f:\n",
    "        cmd = \"scp eco-admin@ecosensedb01.cs.au.dk:ale/{0} {1}\".format(line[:-1],workdir)\n",
    "        print (cmd)\n",
    "        com = Popen(cmd.split())"
   ]
  },
  {
   "cell_type": "code",
   "execution_count": 16,
   "metadata": {
    "collapsed": false,
    "deletable": true,
    "editable": true
   },
   "outputs": [],
   "source": [
    "jsdir = workdir+\"../js/\""
   ]
  },
  {
   "cell_type": "code",
   "execution_count": null,
   "metadata": {
    "collapsed": false,
    "deletable": true,
    "editable": true
   },
   "outputs": [],
   "source": []
  }
 ],
 "metadata": {
  "kernel_info": {
   "name": "python3"
  },
  "kernelspec": {
   "display_name": "Python 3",
   "language": "python",
   "name": "python3"
  },
  "language_info": {
   "codemirror_mode": {
    "name": "ipython",
    "version": 3
   },
   "file_extension": ".py",
   "mimetype": "text/x-python",
   "name": "python",
   "nbconvert_exporter": "python",
   "pygments_lexer": "ipython3",
   "version": "3.5.2"
  }
 },
 "nbformat": 4,
 "nbformat_minor": 0
}
