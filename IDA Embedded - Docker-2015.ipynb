{
 "cells": [
  {
   "cell_type": "markdown",
   "metadata": {
    "slideshow": {
     "slide_type": "skip"
    }
   },
   "source": [
    "Docker\n",
    "\n",
    "    Agenda\n",
    "\n",
    "\n",
    "           introduktion til Docker\n",
    "           Teknik\n",
    "           Community\n",
    "\n",
    "    Nye tiltag\n",
    "    \n",
    "           Docker-machine\n",
    "           Docker-compose (fig)\n",
    "           Docker-swarm\n",
    "           \n",
    "           privat Docker registry\n",
    "           \n",
    "      Demo\n",
    "          \n",
    "    Indledning 1\n",
    "        \n",
    "        Hvem er jeg\n",
    "\n",
    "        \n",
    "    Hvad er Docker ? 10\n",
    "        Eksempler\n",
    "        \n",
    "        Use Cases\n",
    "            Rapid deployment\n",
    "            Kontrolleret udviklingsmiljø\n",
    "            Skalerbarhed\n",
    "    Hvordan kan det lade sig gøre? (Teknologien bag) 5\n",
    "        namespaces\n",
    "        cgroups\n",
    "        linuxcontainers\n",
    "        Aufs\n",
    "        Docker daemon\n",
    "        Docker networking\n",
    "    Hvordan kommer jeg igang? 10\n",
    "        Docker registry\n",
    "        docker ps\n",
    "        Docker run\n",
    "        Docker commit\n",
    "        Docker docker build\n",
    "            Dockerfile\n",
    "                ONBUILD\n",
    "        Docker exec\n",
    "        DOcker logs\n",
    "    Tricks og værktøjer 5\n",
    "        Fig\n",
    "        phusion/baseimage\n",
    "        \n",
    "    Seje applikationer 4\n",
    "       torrent-docker\n",
    "       ECS\n",
    "       \n",
    "    Mangler, udviklings områder 4\n",
    "        Orkestrering\n",
    "        Monitorering\n",
    "        Security\n",
    "        "
   ]
  },
  {
   "cell_type": "markdown",
   "metadata": {
    "slideshow": {
     "slide_type": "slide"
    }
   },
   "source": [
    "# IDA Embedded - Docker"
   ]
  },
  {
   "cell_type": "markdown",
   "metadata": {},
   "source": [
    "\n",
    "24/2/2015\n",
    "\n",
    "Anders Lehmann\n",
    "\n",
    "anders@ase.au.dk\n",
    "\n",
    "**Aarhus School of Engineering, AU Herning**"
   ]
  },
  {
   "cell_type": "markdown",
   "metadata": {
    "slideshow": {
     "slide_type": "slide"
    }
   },
   "source": [
    "# Agenda"
   ]
  },
  {
   "cell_type": "markdown",
   "metadata": {},
   "source": [
    "- Indledning     \n",
    "    - Hvad er Docker?\n",
    "    - Hvordan virker Docker?\n",
    "    - Hvor kan Docker bruges?\n",
    "    - Hvordan kommer man igang?\n",
    "- Hvordan bygger man applikationer og services med Docker\n",
    "    - Docker-machine\n",
    "    - Docker-compose (fig)\n",
    "    - Docker-swarm     \n",
    "    - privat Docker registry         \n",
    "- Innovative anvendelser\n",
    "    - docker-torrent\n",
    "    - RunC\n",
    "    - coreos\n",
    "      - etcd\n",
    "      - fleet\n",
    "- Eksempler\n",
    "\n"
   ]
  },
  {
   "cell_type": "markdown",
   "metadata": {
    "slideshow": {
     "slide_type": "slide"
    }
   },
   "source": [
    "# Indledning"
   ]
  },
  {
   "cell_type": "markdown",
   "metadata": {},
   "source": [
    "   Anders Lehmann\n",
    "   \n",
    "   - Lektor EDE, Civilingeniør fra DTU\n",
    "   - Ph.d. studerende\n",
    "   - PyPy, B&O, DTU\n",
    "   \n",
    "   <img src=\"http://speed.pypy.org/static/images/logo.png\" style=\"float:left\"/>\n"
   ]
  },
  {
   "cell_type": "markdown",
   "metadata": {
    "slideshow": {
     "slide_type": "fragment"
    }
   },
   "source": [
    "   <img src=\"pypy_speed_2.6.png\" width=\"50%\" istyle=\"position:relaitve;top:-600px;left:50%\"/>"
   ]
  },
  {
   "cell_type": "markdown",
   "metadata": {
    "slideshow": {
     "slide_type": "slide"
    }
   },
   "source": [
    "# Hvad er Docker?"
   ]
  },
  {
   "cell_type": "markdown",
   "metadata": {
    "slideshow": {
     "slide_type": "fragment"
    }
   },
   "source": [
    "En ny virtualiserings teknologi\n",
    "\n",
    "- Rapid deployment\n",
    "- Kontrolleret udviklingsmiljø\n",
    "- Skalerbarhed\n",
    "- Lille overhead\n",
    "- Kompromis mellem isolation og deling af resourcer"
   ]
  },
  {
   "cell_type": "markdown",
   "metadata": {
    "slideshow": {
     "slide_type": "slide"
    }
   },
   "source": [
    " Video\n",
    " \n",
    "<iframe width=\"640\" height=\"390\" src=\"https://www.youtube.com/embed/ZzQfxoMFH0U\" frameborder=\"0\" allowfullscreen></iframe>\n",
    "\n"
   ]
  },
  {
   "cell_type": "markdown",
   "metadata": {
    "slideshow": {
     "slide_type": "fragment"
    }
   },
   "source": [
    "Demo\n",
    "   IRSSI"
   ]
  },
  {
   "cell_type": "markdown",
   "metadata": {
    "slideshow": {
     "slide_type": "slide"
    }
   },
   "source": [
    "# Docker historie"
   ]
  },
  {
   "cell_type": "markdown",
   "metadata": {},
   "source": [
    "- pycon 2013\n",
    "- Amazon, Google, Azure, Rackspace understøtter docker\n",
    "- ?? Images tilgængelige på \"docker hub\"\n",
    "- 1.0 udkom juni 2014\n",
    "- 1.5 udkom i februar 2015"
   ]
  },
  {
   "cell_type": "markdown",
   "metadata": {
    "slideshow": {
     "slide_type": "slide"
    }
   },
   "source": [
    "# Hvordan kan det lade sig gøre? "
   ]
  },
  {
   "cell_type": "markdown",
   "metadata": {},
   "source": [
    "- namespaces\n",
    "- cgroups\n",
    "- linuxcontainers (lxc)\n",
    "- Aufs (Union filesystem)\n",
    "- Docker daemon\n",
    "- Docker networking"
   ]
  },
  {
   "cell_type": "markdown",
   "metadata": {
    "slideshow": {
     "slide_type": "slide"
    }
   },
   "source": [
    "# AuFS"
   ]
  },
  {
   "cell_type": "markdown",
   "metadata": {},
   "source": [
    "- Union File system\n",
    "    - layers\n",
    "    - tilføjelser, ændringer og sletninger\n",
    "    - får udseende af et almindeligt\n",
    "    \n",
    "    \n",
    "[eksempel]"
   ]
  },
  {
   "cell_type": "markdown",
   "metadata": {
    "slideshow": {
     "slide_type": "subslide"
    }
   },
   "source": [
    "Vis eksempel\n",
    "\n",
    "/var/lib/aufs"
   ]
  },
  {
   "cell_type": "markdown",
   "metadata": {
    "slideshow": {
     "slide_type": "slide"
    }
   },
   "source": [
    "# Docker Daemon"
   ]
  },
  {
   "cell_type": "markdown",
   "metadata": {},
   "source": [
    "- Arbejds hesten\n",
    "- eksekveres som root\n",
    "- håndterer build, eksekvering, monitorering og stop af docker systemet\n",
    "<img src=\"https://images.duckduckgo.com/iu/?u=https%3A%2F%2Fd262ilb51hltx0.cloudfront.net%2Fmax%2F800%2F1*9qFRI6SByU5fCrubBl7z_Q.jpeg&f=1\" height=\"600px\"/>"
   ]
  },
  {
   "cell_type": "markdown",
   "metadata": {
    "slideshow": {
     "slide_type": "slide"
    }
   },
   "source": [
    "# Docker Networking"
   ]
  },
  {
   "cell_type": "markdown",
   "metadata": {},
   "source": [
    "- Docker daemon bruger private network 172... til intern kommunikation\n",
    "- De private network 10. og 192.168 kan bruges til host og applikations kommunikation"
   ]
  },
  {
   "cell_type": "markdown",
   "metadata": {
    "slideshow": {
     "slide_type": "slide"
    }
   },
   "source": [
    "[Vis ifconfig i en container]"
   ]
  },
  {
   "cell_type": "markdown",
   "metadata": {
    "slideshow": {
     "slide_type": "slide"
    }
   },
   "source": [
    "# Docker Networking"
   ]
  },
  {
   "cell_type": "markdown",
   "metadata": {},
   "source": [
    "- Networking er uafhægig af Image\n",
    "- Netværket konfigureres når containeren oprettes"
   ]
  },
  {
   "cell_type": "markdown",
   "metadata": {
    "slideshow": {
     "slide_type": "slide"
    }
   },
   "source": [
    "# Hvordan kommer jeg igang?"
   ]
  },
  {
   "cell_type": "markdown",
   "metadata": {},
   "source": [
    "Install docker\n",
    "\n",
    "- Kitematic GUI (ikke linux)\n",
    "- Docker toolbox (command line)\n",
    "- apt-get/yum/rpm/whatever install docker/docker.io på linux\n",
    "- https://www.docker.com/tryit/\n",
    "\n",
    "Hent images fra Docker registry http://registry.hub.docker.com/\n"
   ]
  },
  {
   "cell_type": "markdown",
   "metadata": {
    "slideshow": {
     "slide_type": "slide"
    }
   },
   "source": [
    "# Images/Containere"
   ]
  },
  {
   "cell_type": "markdown",
   "metadata": {},
   "source": [
    "- Images er komplette virtualiserede applikationer\n",
    "    * indeholder OS, biblioteker samt applikation\n",
    "    * Kan indeholde data (antipattern)\n",
    "- Containere er det (runtime)miljø, der oprettes for at køre et image\n",
    "    * sørger for isolation \n",
    "    * kan dele OS og biblioteker\n",
    "    * kan håndhæve resource begrænsninger"
   ]
  },
  {
   "cell_type": "markdown",
   "metadata": {
    "slideshow": {
     "slide_type": "slide"
    }
   },
   "source": [
    "# Docker kommandoer"
   ]
  },
  {
   "cell_type": "markdown",
   "metadata": {},
   "source": [
    "- Docker ps\n",
    "\n",
    "    - Viser status for containere\n",
    "    \n",
    "    \n",
    "- Docker run\n",
    "\n",
    "    - Starter et image i en container\n",
    "    \n",
    "    \n",
    "- Docker commit\n",
    "\n",
    "    - Skaber et Image fra ændringer lavet i en container\n",
    "    \n",
    "    \n",
    "- Docker build\n",
    "\n",
    "    - Bygger et Image fra en Dockerfile\n",
    "    \n",
    "    \n",
    "- Docker exec\n",
    "\n",
    "    - Eksekverer en kommando i en container\n",
    "    \n",
    "    \n",
    "- Docker logs\n",
    "\n",
    "    - Viser stdout fra en container"
   ]
  },
  {
   "cell_type": "markdown",
   "metadata": {
    "slideshow": {
     "slide_type": "slide"
    }
   },
   "source": [
    "# Dockerfile"
   ]
  },
  {
   "cell_type": "markdown",
   "metadata": {},
   "source": [
    "- Opskrift for at bygge et Image\n",
    "- Starter med et FROM \n",
    "- Opskriften udføres sekventielt\n",
    "- Med RUN kommandoer kon operativ kommandoer udføres\n",
    "- Med COPY kan kode kopieres ind fra host til Image\n",
    "- VOLUME bruge til at knytte en host folder til Image"
   ]
  },
  {
   "cell_type": "markdown",
   "metadata": {
    "slideshow": {
     "slide_type": "slide"
    }
   },
   "source": [
    "\n",
    "```\n",
    "FROM debian:wheezy\n",
    "\n",
    "# add our user and group first to make sure their IDs get assigned consistently, regardless of whatever dependencies get added\n",
    "RUN groupadd -r redis && useradd -r -g redis redis\n",
    "\n",
    "RUN apt-get update \\\n",
    "\t&& apt-get install -y curl \\\n",
    "\t&& rm -rf /var/lib/apt/lists/*\n",
    "\n",
    "# grab gosu for easy step-down from root\n",
    "RUN gpg --keyserver pool.sks-keyservers.net --recv-keys B42F6819007F00F88E364FD4036A9C25BF357DD4\n",
    "RUN curl -o /usr/local/bin/gosu -SL \"https://github.com/tianon/gosu/releases/download/1.2/gosu-$(dpkg --print-architecture)\" \\\n",
    "\t&& curl -o /usr/local/bin/gosu.asc -SL \"https://github.com/tianon/gosu/releases/download/1.2/gosu-$(dpkg --print-architecture).asc\" \\\n",
    "\t&& gpg --verify /usr/local/bin/gosu.asc \\\n",
    "\t&& rm /usr/local/bin/gosu.asc \\\n",
    "\t&& chmod +x /usr/local/bin/gosu\n",
    "\n",
    "ENV REDIS_VERSION 2.8.19\n",
    "ENV REDIS_DOWNLOAD_URL http://download.redis.io/releases/redis-2.8.19.tar.gz\n",
    "ENV REDIS_DOWNLOAD_SHA1 3e362f4770ac2fdbdce58a5aa951c1967e0facc8\n",
    "\n",
    "# for redis-sentinel see: http://redis.io/topics/sentinel\n",
    "RUN buildDeps='gcc libc6-dev make'; \\\n",
    "\tset -x \\\n",
    "\t&& apt-get update && apt-get install -y $buildDeps --no-install-recommends \\\n",
    "\t&& rm -rf /var/lib/apt/lists/* \\\n",
    "\t&& mkdir -p /usr/src/redis \\\n",
    "\t&& curl -sSL \"$REDIS_DOWNLOAD_URL\" -o redis.tar.gz \\\n",
    "\t&& echo \"$REDIS_DOWNLOAD_SHA1 *redis.tar.gz\" | sha1sum -c - \\\n",
    "\t&& tar -xzf redis.tar.gz -C /usr/src/redis --strip-components=1 \\\n",
    "\t&& rm redis.tar.gz \\\n",
    "\t&& make -C /usr/src/redis \\\n",
    "\t&& make -C /usr/src/redis install \\\n",
    "\t&& rm -r /usr/src/redis \\\n",
    "\t&& apt-get purge -y --auto-remove $buildDeps\n",
    "\n",
    "RUN mkdir /data && chown redis:redis /data\n",
    "VOLUME /data\n",
    "WORKDIR /data\n",
    "\n",
    "COPY docker-entrypoint.sh /entrypoint.sh\n",
    "ENTRYPOINT [\"/entrypoint.sh\"]\n",
    "\n",
    "EXPOSE 6379\n",
    "CMD [ \"redis-server\" ]\n",
    "```"
   ]
  },
  {
   "cell_type": "markdown",
   "metadata": {
    "slideshow": {
     "slide_type": "slide"
    }
   },
   "source": [
    "# Docker run kommando"
   ]
  },
  {
   "cell_type": "markdown",
   "metadata": {},
   "source": [
    "- Run kommandoen er meget kompleks\n",
    "- Bruges til at fortælle Docker om det miljø Containeren skal køre i "
   ]
  },
  {
   "cell_type": "markdown",
   "metadata": {
    "slideshow": {
     "slide_type": "fragment"
    }
   },
   "source": [
    "[vis docker help run]"
   ]
  },
  {
   "cell_type": "markdown",
   "metadata": {
    "slideshow": {
     "slide_type": "slide"
    }
   },
   "source": [
    "- De vigtigste options er:\n",
    "    - -d for daemonisering\n",
    "    - -i for interaktiv\n",
    "    - -t for terminal\n",
    "    - --rm fjerner container når containeren slutter\n",
    "    - -p map port fra host til container\n",
    "    - --name giver containeren et specifikt navn\n",
    "    - --link linker container med navngiven container\n",
    "    - --cpu bestemmer andelen af cputid containeren må benytte\n",
    "    - --memory til at begrænse hukommelses forbruget"
   ]
  },
  {
   "cell_type": "markdown",
   "metadata": {
    "slideshow": {
     "slide_type": "slide"
    }
   },
   "source": [
    "# Tricks og værktøjer "
   ]
  },
  {
   "cell_type": "markdown",
   "metadata": {},
   "source": [
    "- Fig (docker-compose)\n",
    "    [vis eksempel]\n",
    "- docker-machine\n",
    "- docker-swarm\n",
    "\n",
    "\n",
    "- phusion/baseimage\n",
    "\n"
   ]
  },
  {
   "cell_type": "markdown",
   "metadata": {
    "slideshow": {
     "slide_type": "slide"
    }
   },
   "source": [
    "# Seje applikationer "
   ]
  },
  {
   "cell_type": "markdown",
   "metadata": {},
   "source": [
    "- torrent-docker\n",
    "    - https://github.com/mafintosh/torrent-docker\n",
    "    \n",
    "- builder\n",
    "    - https://registry.hub.docker.com/u/tzolov/apache-spark-build-pipeline/\n",
    "    - pypy\n",
    "    \n",
    "- tmpnb\n",
    "    - https://github.com/jupyter/tmpnb\n"
   ]
  },
  {
   "cell_type": "markdown",
   "metadata": {
    "slideshow": {
     "slide_type": "slide"
    }
   },
   "source": [
    "# Applikationer"
   ]
  },
  {
   "cell_type": "markdown",
   "metadata": {},
   "source": [
    "https://www.youtube.com/watch?v=GsLZz8cZCzc\n",
    "\n",
    "- IRSSI\n",
    "- Chrome\n",
    "- ..."
   ]
  },
  {
   "cell_type": "markdown",
   "metadata": {
    "slideshow": {
     "slide_type": "slide"
    }
   },
   "source": [
    "# Docker-machine"
   ]
  },
  {
   "cell_type": "markdown",
   "metadata": {},
   "source": [
    "- ensartet måde at håndtere Docker hosts\n",
    "    - Localt\n",
    "    - Virtualbox /VMWare Fusion\n",
    "    - Digital ocean\n",
    "    - AWS\n",
    "    - ....\n",
    "    "
   ]
  },
  {
   "cell_type": "markdown",
   "metadata": {
    "slideshow": {
     "slide_type": "slide"
    }
   },
   "source": [
    "# Docker-compose"
   ]
  },
  {
   "cell_type": "markdown",
   "metadata": {},
   "source": [
    "- Lav applikationer ved at sammen sætte microservices\n",
    "- Scalér containere\n",
    "    - web = 3 bliver til 3 containere med servicen \"web\"\n",
    "- Specificer applikationen med en YAML fil\n",
    "\n"
   ]
  },
  {
   "cell_type": "markdown",
   "metadata": {
    "slideshow": {
     "slide_type": "slide"
    }
   },
   "source": [
    "# Docker-compose"
   ]
  },
  {
   "cell_type": "markdown",
   "metadata": {},
   "source": [
    "- Simpel deklarativ beskrivelse af services\n",
    "- beskrivelse af interfaces\n",
    "- Docker-compose beregner afhængigheder og bestemmer orden af opstart\n",
    "\n",
    "\n"
   ]
  },
  {
   "cell_type": "markdown",
   "metadata": {
    "slideshow": {
     "slide_type": "slide"
    }
   },
   "source": [
    "# Docker-swarm"
   ]
  },
  {
   "cell_type": "markdown",
   "metadata": {},
   "source": [
    "- Omdanner en gruppe af docker hosts til et cluster\n",
    "- Kan benytte clusteret som en docker host\n",
    "\n"
   ]
  },
  {
   "cell_type": "markdown",
   "metadata": {
    "slideshow": {
     "slide_type": "slide"
    }
   },
   "source": [
    "# Privat registry"
   ]
  },
  {
   "cell_type": "markdown",
   "metadata": {},
   "source": [
    "- Findes som et Docker image !!!\n",
    "- Tillader at dele images i en virksomhed eller lukket gruppe\n"
   ]
  },
  {
   "cell_type": "markdown",
   "metadata": {
    "slideshow": {
     "slide_type": "slide"
    }
   },
   "source": [
    "# Demo"
   ]
  },
  {
   "cell_type": "markdown",
   "metadata": {},
   "source": [
    "<img src=\"Slide2.png\">"
   ]
  },
  {
   "cell_type": "markdown",
   "metadata": {
    "slideshow": {
     "slide_type": "slide"
    }
   },
   "source": [
    "# Tak"
   ]
  },
  {
   "cell_type": "markdown",
   "metadata": {
    "slideshow": {
     "slide_type": "fragment"
    }
   },
   "source": [
    "Spørgsmål"
   ]
  }
 ],
 "metadata": {
  "celltoolbar": "Slideshow",
  "kernelspec": {
   "display_name": "Python 2",
   "language": "python",
   "name": "python2"
  },
  "language_info": {
   "codemirror_mode": {
    "name": "ipython",
    "version": 2
   },
   "file_extension": ".py",
   "mimetype": "text/x-python",
   "name": "python",
   "nbconvert_exporter": "python",
   "pygments_lexer": "ipython2",
   "version": "2.7.10"
  }
 },
 "nbformat": 4,
 "nbformat_minor": 0
}
