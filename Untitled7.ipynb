{
 "cells": [
  {
   "cell_type": "code",
   "execution_count": 40,
   "metadata": {
    "collapsed": false
   },
   "outputs": [],
   "source": [
    "#Run length encoder\n",
    "\n",
    "def encode(message):\n",
    "    old = ''\n",
    "    res = []\n",
    "    i = []\n",
    "    for c in message:\n",
    "\n",
    "        if old == c:\n",
    "            i.append(c)\n",
    "        else:\n",
    "            if len(i)>0:\n",
    "                res.append('%d%c'%(len(i),i[0]))\n",
    "            i = [c]\n",
    "            old = c\n",
    "    res.append('%d%c'%(len(i),i[0]))\n",
    "    return ''.join(res)\n",
    "    \n",
    "def decode(kode):\n",
    "    res = []\n",
    "    \n",
    "def test_encode():\n",
    "    assert encode('a') == '1a'\n",
    "    assert encode('1') == '11'\n"
   ]
  },
  {
   "cell_type": "code",
   "execution_count": 36,
   "metadata": {
    "collapsed": false
   },
   "outputs": [
    {
     "data": {
      "text/plain": [
       "'2a1b'"
      ]
     },
     "execution_count": 36,
     "metadata": {},
     "output_type": "execute_result"
    }
   ],
   "source": [
    "encode('aab')"
   ]
  },
  {
   "cell_type": "code",
   "execution_count": 41,
   "metadata": {
    "collapsed": false
   },
   "outputs": [],
   "source": [
    "test_encode()"
   ]
  },
  {
   "cell_type": "code",
   "execution_count": null,
   "metadata": {
    "collapsed": true
   },
   "outputs": [],
   "source": []
  }
 ],
 "metadata": {
  "kernelspec": {
   "display_name": "Python 2",
   "language": "python",
   "name": "python2"
  },
  "language_info": {
   "codemirror_mode": {
    "name": "ipython",
    "version": 2
   },
   "file_extension": ".py",
   "mimetype": "text/x-python",
   "name": "python",
   "nbconvert_exporter": "python",
   "pygments_lexer": "ipython2",
   "version": "2.7.12"
  }
 },
 "nbformat": 4,
 "nbformat_minor": 0
}
