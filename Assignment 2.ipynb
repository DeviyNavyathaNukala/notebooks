{
 "metadata": {
  "name": "",
  "signature": "sha256:62d81df807e87758afa3352c8b56eef8bf77a01a80cca87ab981b5a1b6414014"
 },
 "nbformat": 3,
 "nbformat_minor": 0,
 "worksheets": [
  {
   "cells": [
    {
     "cell_type": "heading",
     "level": 1,
     "metadata": {},
     "source": [
      "STOCHASTIC MODELS"
     ]
    },
    {
     "cell_type": "markdown",
     "metadata": {},
     "source": [
      "**Anders Lehmann**"
     ]
    },
    {
     "cell_type": "code",
     "collapsed": false,
     "input": [
      "%pylab inline\n"
     ],
     "language": "python",
     "metadata": {},
     "outputs": [
      {
       "output_type": "stream",
       "stream": "stdout",
       "text": [
        "Populating the interactive namespace from numpy and matplotlib\n"
       ]
      }
     ],
     "prompt_number": 1
    },
    {
     "cell_type": "code",
     "collapsed": false,
     "input": [
      "def BPR(T0,a,b,x,C,**args):\n",
      "    return T0*(1+a*((x*1.0/C)**b))\n",
      "\n",
      "\n",
      "\n",
      "def ndprint(a, format_string ='{0:.2f}'):\n",
      "    print [format_string.format(v,i) for i,v in enumerate(a)]\n",
      "           \n",
      "network = {1:{'T0':40,'C':10000,'a':0.5,'b':4},\n",
      "           2:{'T0':10,'C':26000,'a':0.5,'b':4},\n",
      "           3:{'T0':10,'C':13000,'a':0.5,'b':4},\n",
      "           4:{'T0':40,'C':10000,'a':0.5,'b':4},\n",
      "           5:{'T0':5,'C':10000,'a':0.5,'b':4},\n",
      "           }\n",
      "Paths = [(1,3),(2,4),(2,5,3)]\n",
      "\n",
      "class LinkT:\n",
      "    def __init__(self,v):\n",
      "        self.v = v\n",
      "    def __call__(self,x):\n",
      "        return BPR(x=x,**self.v)\n",
      "    def iBPR(self,x):\n",
      "        return iBPR(x=x,**self.v)\n",
      "    def SysOP(self,x):\n",
      "        return SO(x=x,**self.v)\n",
      "    def grad(self,x):\n",
      "        return grad(x=x,**self.v)\n",
      "    def cost(self,x):\n",
      "        return x*(BPR(x=x,**self.v)*self.v['VoT'] + self.v['Toll'])\n",
      "    \n",
      "def prepare():\n",
      "    t = []; it = []; so = []; sense =[]\n",
      "    for i in range(len(network)):\n",
      "        v = network[i+1]\n",
      "        f = LinkT(v)\n",
      "        t.append(f)\n",
      "        it.append(f.iBPR)\n",
      "        so.append(f.SysOP)\n",
      "        sense.append(f.grad)\n",
      "    return t,it,so,sense\n",
      "\n",
      "t,it,so,sense = prepare()"
     ],
     "language": "python",
     "metadata": {},
     "outputs": [],
     "prompt_number": 2
    },
    {
     "cell_type": "code",
     "collapsed": false,
     "input": [
      "eps = 0.1\n",
      "\n",
      "no_f = lambda x:0\n",
      "\n",
      "def sum_int(x,y,a,t):\n",
      "    new_x = x + a*(y-x)\n",
      "    integrals = [t0(nx) for t0,nx in zip(t,new_x)]\n",
      "    return sum(integrals)\n",
      "\n",
      "def find_min(x,y,t):\n",
      "    ma = 1; mi = 0; res = 0\n",
      "    #while (ma-mi)>eps/50.:\n",
      "    for i in range(10):\n",
      "        mini = sum_int(x,y,mi,t)\n",
      "        maxi = sum_int(x,y,ma,t)    \n",
      "        \n",
      "        delta = (ma-mi)/2.\n",
      "        if maxi<mini:\n",
      "            mi = mi + delta\n",
      "            res = mi\n",
      "        else:\n",
      "            ma = ma - delta\n",
      "            res = ma\n",
      "    return res\n",
      "        \n",
      "\n",
      "def UE_frank_wolfe(do_plot=False):\n",
      "    def find_Y_alfa(x,Path):\n",
      "        g = [sum (array([t0(x0) for t0,x0 in zip(p,x)])) for p in Path]\n",
      "\n",
      "        direction = Paths[g.index(min(g))]\n",
      "        y = zeros(5)\n",
      "        for i in direction:\n",
      "            y[i-1] = q_rs\n",
      "\n",
      "        alfa = find_min(x,y,it) # Use the integral functions to do the search\n",
      "\n",
      "        return y,alfa\n",
      "\n",
      "\n",
      "    error = 1000\n",
      "    X = array([q_rs,0,q_rs,0,0])\n",
      "    \n",
      "    iPath =[(it[0],no_f,it[2],no_f,no_f),(no_f,it[1],no_f,it[3],no_f),(no_f,it[1],it[2],no_f,it[4])]\n",
      "    Path =[(t[0],no_f,t[2],no_f,no_f),(no_f,t[1],no_f,t[3],no_f),(no_f,t[1],t[2],no_f,t[4])]\n",
      "    \n",
      "    T0 = array([t0(x) for t0,x in zip(t,X)])\n",
      "    err = [X]\n",
      "    \n",
      "    #while error > eps:\n",
      "    for i in range(10):\n",
      "\n",
      "    \n",
      "        Y,alfa = find_Y_alfa(X,Path)\n",
      "        if do_plot:\n",
      "\n",
      "            a = linspace(0,1)\n",
      "            plot(a, [sum_int(X,Y,a0,it) for a0 in a])\n",
      "            title(alfa)\n",
      "            figure()\n",
      "        delta = alfa*(Y-X)\n",
      "        \n",
      "        X = X + delta\n",
      "        #print \"X\",X\n",
      "\n",
      "        T0 = array([t0(x) for t0,x in zip(t,X)])\n",
      "        g = array([sum (array([t0(x0) for t0,x0 in zip(p,X)])) for p in Path])\n",
      "        #print \"g\",g    \n",
      "        error = g.std()\n",
      "        err.append(X)\n",
      "        #print \"Q\",X[0]+X[1],\"Q_o\", X[2]+X[3], error    \n",
      "    return X,T0,g,err\n"
     ],
     "language": "python",
     "metadata": {},
     "outputs": [],
     "prompt_number": 3
    },
    {
     "cell_type": "code",
     "collapsed": false,
     "input": [
      "q_OD = 18000\n",
      "q_rs = q_OD"
     ],
     "language": "python",
     "metadata": {},
     "outputs": [],
     "prompt_number": 4
    },
    {
     "cell_type": "heading",
     "level": 3,
     "metadata": {},
     "source": [
      "Question 1a"
     ]
    },
    {
     "cell_type": "code",
     "collapsed": false,
     "input": [
      "def UE_constrained_capacity():\n",
      "    #Step 0: Initialization. Perform all-or-nothing assignment based on to\u00b0 = t(0), V a. \n",
      "    #Obtain a set of link flows {x\u00b0}. Set iteration counter n 1.\n",
      "    x = [0,q_rs,q_rs,0,q_rs]\n",
      "    Path =[(t[0],no_f,t[2],no_f,no_f),(no_f,t[1],no_f,t[3],no_f),(no_f,t[1],t[2],no_f,t[4])]\n",
      "    err=[]\n",
      "    error = 1000\n",
      "    for i in range(10):\n",
      "        g = [sum (array([t0(x0) for t0,x0 in zip(p,x)])) for p in Path]\n",
      "        #ndprint(g, \"{0:.2f}\") \n",
      "        direction = Paths[g.index(min(g))]\n",
      "        x = zeros(5)\n",
      "        for i in direction:\n",
      "            x[i-1] = q_rs\n",
      "    #Step 1: Update. Set t = ta(xa-1), V a.\n",
      "    #Step 2: Network loading. Assign all trips to the network using all-or- nothing based on travel times {t}. This yields a set of link flows {xa}.\n",
      "    #Step 3: Convergence test.\n",
      "    #set of link flows is the solution). Otherwise, set n = n + 1 and go to step 1.\n",
      "        err.append(x[2])#sum(([(y-mean(g))**2 for y in g])))\n",
      "    return err\n"
     ],
     "language": "python",
     "metadata": {},
     "outputs": [],
     "prompt_number": 5
    },
    {
     "cell_type": "code",
     "collapsed": false,
     "input": [
      "err = UE_constrained_capacity()\n",
      "plot(err)\n",
      "title(u'Flow on \u00d8 link 3')"
     ],
     "language": "python",
     "metadata": {},
     "outputs": [
      {
       "metadata": {},
       "output_type": "pyout",
       "prompt_number": 7,
       "text": [
        "<matplotlib.text.Text at 0x10b8a0510>"
       ]
      },
      {
       "metadata": {},
       "output_type": "display_data",
       "png": "[encoded data removed]",
       "text": [
        "<matplotlib.figure.Figure at 0x10b86bf50>"
       ]
      }
     ],
     "prompt_number": 7
    },
    {
     "cell_type": "markdown",
     "metadata": {},
     "source": [
      "The algorithm does not converge"
     ]
    },
    {
     "cell_type": "heading",
     "level": 3,
     "metadata": {},
     "source": [
      "Question 1b"
     ]
    },
    {
     "cell_type": "code",
     "collapsed": false,
     "input": [
      "#Set t = 0.75ta- + 0.25Ta, V a.\n",
      "np.set_printoptions(precision=3)\n",
      "def UE_smoothed_constrained_capacity():\n",
      "    #Step 0: Initialization. Perform all-or-nothing assignment based on to\u00b0 = t(0), V a. \n",
      "    #Obtain a set of link flows {x\u00b0}. Set iteration counter n 1.\n",
      "    x = [0,q_rs,q_rs,0,q_rs]\n",
      "    t_0 = array([t0(x0) for t0,x0 in zip(t,zeros(5))])\n",
      "    error = 1000\n",
      "    err = []\n",
      "    for i in range(10):\n",
      "        tau = array([t0(x0) for t0,x0 in zip(t,x)])\n",
      "        t_0 = 0.75*t_0 + 0.25*tau\n",
      "        g = [sum ([t_0[i-1] for i in p]) for p in Paths]\n",
      "        direction = Paths[g.index(min(g))]\n",
      "        x = zeros(5)\n",
      "        for i in direction:\n",
      "            x[i-1] = q_rs\n",
      "        \n",
      "        #print \"g\", \n",
      "        #ndprint(g, \"{0:.2f}\") \n",
      "        err.append(x[2])#sum(([(y-mean(g))**2 for y in g])))\n",
      "    return err"
     ],
     "language": "python",
     "metadata": {},
     "outputs": [],
     "prompt_number": 853
    },
    {
     "cell_type": "code",
     "collapsed": false,
     "input": [
      "err = UE_smoothed_constrained_capacity()\n",
      "\n",
      "plot(err)\n",
      "title('Flow on link 3')"
     ],
     "language": "python",
     "metadata": {},
     "outputs": [
      {
       "metadata": {},
       "output_type": "pyout",
       "prompt_number": 854,
       "text": [
        "<matplotlib.text.Text at 0x117a24f10>"
       ]
      },
      {
       "metadata": {},
       "output_type": "display_data",
       "png": "[encoded data removed]",
       "text": [
        "<matplotlib.figure.Figure at 0x11737e450>"
       ]
      }
     ],
     "prompt_number": 854
    },
    {
     "cell_type": "markdown",
     "metadata": {},
     "source": [
      "The algorithm seems to converge quickly, but when the error becomes small the all or nothing assignment, suddenly makes the error increase"
     ]
    },
    {
     "cell_type": "heading",
     "level": 3,
     "metadata": {},
     "source": [
      "Question 1c"
     ]
    },
    {
     "cell_type": "code",
     "collapsed": false,
     "input": [
      "N_portions = 10\n",
      "\n",
      "def incremental_asignment():\n",
      "    #Step 0: Preliminaries. Divide each origin-destination entry into N equalportions (i.e.setqr=q,8/N).Setn:= 1andxo=0,Va.\n",
      "    #Step1: Update. Set t = t(xa- ), V a.\n",
      "    x = [0,0,0,0,0] #all or nothing initial loading\n",
      "    t_0 = array([t0(x0) for t0,x0 in zip(t,x)])\n",
      "    error = 1000\n",
      "    err = []\n",
      "    for i in range(10):\n",
      "        t_0 = array([t0(x0) for t0,x0 in zip(t,x)])\n",
      "#        t_0 = 0.75*t_0 + 0.25*tau\n",
      "        g = [sum ([t_0[i-1] for i in p]) for p in Paths]\n",
      "        direction = Paths[g.index(min(g))]\n",
      "        \n",
      "        for i in direction:\n",
      "            x[i-1] = x[i-1]+q_rs/N_portions\n",
      "        \n",
      "        #print \"g\", \n",
      "        #ndprint(g, \"{0:.2f}\") \n",
      "        #ndprint(x, \"{0:.2f}\") \n",
      "        err.append(x[2])#sum(([(y-mean(g))**2 for y in g])))\n",
      "    return err    \n",
      "    #Step 2: Incremental loading. Perform all-or-nothing assignment based on {t}, but using only the trip rates q for each O-D pair. This yields a flow\n",
      "    #pattern {wa).\n",
      "    #Step3:Flowsummation. Setxa=x1 +w,Va.\n",
      "    #Step 4: Stopping rule. If n = N, stop (the current set of link flows is the solution); otherwise, set n:= n + 1 and go to step 1.\n",
      "\n",
      "    "
     ],
     "language": "python",
     "metadata": {},
     "outputs": [],
     "prompt_number": 809
    },
    {
     "cell_type": "code",
     "collapsed": false,
     "input": [
      "err = incremental_asignment()\n",
      "plot(err)\n",
      "title('Flow on link 3')"
     ],
     "language": "python",
     "metadata": {},
     "outputs": [
      {
       "metadata": {},
       "output_type": "pyout",
       "prompt_number": 855,
       "text": [
        "<matplotlib.text.Text at 0x1178439d0>"
       ]
      },
      {
       "metadata": {},
       "output_type": "display_data",
       "png": "[encoded data removed]",
       "text": [
        "<matplotlib.figure.Figure at 0x117858510>"
       ]
      }
     ],
     "prompt_number": 855
    },
    {
     "cell_type": "markdown",
     "metadata": {},
     "source": [
      "The algoritm assigns the correct flow into the network, and succesfully reduces the error."
     ]
    },
    {
     "cell_type": "heading",
     "level": 3,
     "metadata": {},
     "source": [
      "Question 1d"
     ]
    },
    {
     "cell_type": "code",
     "collapsed": false,
     "input": [
      "err = UE_frank_wolfe()\n",
      "plot(array(err[-1])[:,3])\n",
      "title('Flow on link 4')\n",
      "figure()\n",
      "plot(array(err[-1])[:,2])\n",
      "title('Flow on link 3')\n",
      "print 'Route travel times',err[2]"
     ],
     "language": "python",
     "metadata": {},
     "outputs": [
      {
       "output_type": "stream",
       "stream": "stdout",
       "text": [
        "Route travel times [ 60.639  51.146  51.034]\n"
       ]
      },
      {
       "metadata": {},
       "output_type": "display_data",
       "png": "[encoded data removed]",
       "text": [
        "<matplotlib.figure.Figure at 0x117882dd0>"
       ]
      },
      {
       "metadata": {},
       "output_type": "display_data",
       "png": "[encoded data removed]",
       "text": [
        "<matplotlib.figure.Figure at 0x117858310>"
       ]
      }
     ],
     "prompt_number": 856
    },
    {
     "cell_type": "markdown",
     "metadata": {},
     "source": [
      "The Frank-Wolfe algoritm quickly finds a good estimate of the network flows, but seems to have some problems reducing the error more. The difference in route travel times for route 2 and 3 are very small. The reason for the higher traveltime for route 1 is that it is not used at all."
     ]
    },
    {
     "cell_type": "heading",
     "level": 3,
     "metadata": {},
     "source": [
      "Question 1e"
     ]
    },
    {
     "cell_type": "code",
     "collapsed": false,
     "input": [
      "def MSA():\n",
      "    #Step 0: Initialization. Perform a stochastic network loading based on a\n",
      "    x = array([0,q_rs,q_rs,0,q_rs]) #all or nothing initial loading\n",
      "    #set of initial travel times {t\u00b0}. This generates a set of link flows {xa}.Set n = 1.\n",
      "    t_0 = array([t0(x0) for t0,x0 in zip(t,x)])\n",
      "    error = 1000\n",
      "    err = []\n",
      "    for i in range(10):\n",
      "        #set of initial travel times {t\u00b0}. This generates a set of link flows {xa}.Set n = 1.\n",
      "        t_0 = array([t0(x0) for t0,x0 in zip(t,x)])\n",
      "        #Step 2: Direction finding. Perform a stochastic network loading pro- \n",
      "        #cedure based on the current set of link travel times, {t,}. This yields an auxili- \n",
      "        #ary link flow pattern {ya}.\n",
      "        g = [sum ([t_0[i-1] for i in p]) for p in Paths]\n",
      "        direction = Paths[g.index(min(g))]\n",
      "        y = zeros(5)\n",
      "        for i in direction:\n",
      "            y[i-1] = q_rs\n",
      "        #Step 3: Move. Find the new flow pattern by setting n+1 n\n",
      "        #Xao = xa + (1/n)(y - x).\n",
      "        x += (y-x)/(i+1)\n",
      "        \n",
      "        \n",
      "        \n",
      "        #print \"g\", \n",
      "        #ndprint(g, \"{0:.2f}\") \n",
      "        #ndprint(x, \"{0:.2f}\") \n",
      "        err.append( x[2] )#sum(([(y-mean(g))**2 for y in g])))    \n",
      "    #Step 4: Convergence criterion. If convergence is attained, stop. If not,\n",
      "    #set n = n + 1and go to step 1.\n",
      "    return err\n"
     ],
     "language": "python",
     "metadata": {},
     "outputs": [],
     "prompt_number": 850
    },
    {
     "cell_type": "code",
     "collapsed": false,
     "input": [
      "plot(MSA())\n",
      "title('Flow on link 3')"
     ],
     "language": "python",
     "metadata": {},
     "outputs": [
      {
       "metadata": {},
       "output_type": "pyout",
       "prompt_number": 857,
       "text": [
        "<matplotlib.text.Text at 0x1178cb6d0>"
       ]
      },
      {
       "metadata": {},
       "output_type": "display_data",
       "png": "[encoded data removed]",
       "text": [
        "<matplotlib.figure.Figure at 0x11787edd0>"
       ]
      }
     ],
     "prompt_number": 857
    },
    {
     "cell_type": "markdown",
     "metadata": {},
     "source": [
      "The algoritm does not find a stable solution"
     ]
    },
    {
     "cell_type": "heading",
     "level": 3,
     "metadata": {},
     "source": [
      "Question 1f"
     ]
    },
    {
     "cell_type": "code",
     "collapsed": false,
     "input": [
      "def logit_kern(beta,t):\n",
      "    return exp(-beta*t)\n",
      "def logit_prob(beta,k,t):\n",
      "    p_t = [sum ([t[i-1] for i in p]) for p in Paths]\n",
      "    s = sum([logit_kern(beta,pt) for pt in p_t])\n",
      "    return logit_kern(beta,p_t[k])/s\n",
      "\n",
      "def network_load(beta,t_0):\n",
      "    routes = [q_rs*logit_prob(beta,i,t_0) for i in range(len(Paths))]\n",
      "    temp = zeros((len(Paths),5))\n",
      "    for i,p in enumerate(Paths):\n",
      "        for j in p:\n",
      "            temp[i,j-1] = routes[i]\n",
      "    x = temp.sum(0)\n",
      "    return x\n",
      "\n",
      "def MSA_logit(beta):\n",
      "    #Step 0: Initialization. Perform a stochastic network loading based on a\n",
      "    #set of initial travel times {t\u00b0}. This generates a set of link flows {xa}.Set n = 1.\n",
      "    \n",
      "    t_0 = array([t0(x0) for t0,x0 in zip(t,zeros(5))])\n",
      "    x = network_load(beta,t_0)\n",
      "\n",
      "    error = 1000\n",
      "    err = []\n",
      "    for i in range(10):\n",
      "        #Step 1: Update. Set t = ta(x,), V a\n",
      "        t_0 = array([t0(x0) for t0,x0 in zip(t,x)])\n",
      "        #Step 2: Direction finding. Perform a stochastic network loading pro- \n",
      "        #cedure based on the current set of link travel times, {t,}. This yields an auxili- \n",
      "        #ary link flow pattern {ya}.\n",
      "        y = network_load(beta,t_0)\n",
      "        g = [sum ([t_0[i-1] for i in p]) for p in Paths]\n",
      "        \n",
      "\n",
      "        #Step 3: Move. Find the new flow pattern by setting n+1 n\n",
      "        #Xao = xa + (1/n)(y - x).\n",
      "        x += (y-x)/(i+1)\n",
      "        \n",
      "        \n",
      "        \n",
      "        #print \"g\", \n",
      "        #ndprint(g, \"{0:.2f}\") \n",
      "        #ndprint(x, \"{0:.2f}\") \n",
      "        err.append(x[2])    \n",
      "    #Step 4: Convergence criterion. If convergence is attained, stop. If not,\n",
      "    #set n = n + 1and go to step 1.\n",
      "    return err\n"
     ],
     "language": "python",
     "metadata": {},
     "outputs": [],
     "prompt_number": 848
    },
    {
     "cell_type": "code",
     "collapsed": false,
     "input": [
      "plot(MSA_logit(0.2),label='Beta=0.2')\n",
      "plot(MSA_logit(0.5),label='Beta=0.5')\n",
      "plot(MSA_logit(0.7),label='Beta=0.7')\n",
      "title('Flow on link 3')\n",
      "\n",
      "legend(loc='best')"
     ],
     "language": "python",
     "metadata": {},
     "outputs": [
      {
       "metadata": {},
       "output_type": "pyout",
       "prompt_number": 858,
       "text": [
        "<matplotlib.legend.Legend at 0x117786e90>"
       ]
      },
      {
       "metadata": {},
       "output_type": "display_data",
       "png": "[encoded data removed]",
       "text": [
        "<matplotlib.figure.Figure at 0x1178dfcd0>"
       ]
      }
     ],
     "prompt_number": 858
    },
    {
     "cell_type": "markdown",
     "metadata": {},
     "source": [
      "As the value of $\\beta$ grows, the algortihm grows more and more unstable. "
     ]
    },
    {
     "cell_type": "heading",
     "level": 3,
     "metadata": {},
     "source": [
      "Question 1g"
     ]
    },
    {
     "cell_type": "markdown",
     "metadata": {},
     "source": [
      "Since one can think of the \"all or nothing\" loading of the network as a case of very large beta, it can be used to explain the unstableness of the non staochastic loading.\n"
     ]
    },
    {
     "cell_type": "heading",
     "level": 3,
     "metadata": {},
     "source": [
      "Exercise 2a"
     ]
    },
    {
     "cell_type": "markdown",
     "metadata": {},
     "source": [
      "In MNL the utility for all 3 paths are the same, so the probality for each path is equal $\\frac{1}{3}$"
     ]
    },
    {
     "cell_type": "code",
     "collapsed": false,
     "input": [
      "network = {1:{'L':'a','C':10000,'a':0.5,'b':4},\n",
      "           2:{'L':'b','C':26000,'a':0.5,'b':4},\n",
      "           3:{'L':'a-b','C':13000,'a':0.5,'b':4},\n",
      "           4:{'L':'a-b','C':10000,'a':0.5,'b':4},\n",
      "           }\n",
      "Paths = [(1,),(2,4),(2,3)]\n",
      "\n",
      "a = 10\n",
      "b = linspace(0.001,10-0.001,11)\n",
      "def incidence(b):\n",
      "    return -1.*array([[a,0,0,0],[0,b,a-b,0],[0,b,0,a-b]])\n"
     ],
     "language": "python",
     "metadata": {},
     "outputs": [],
     "prompt_number": 232
    },
    {
     "cell_type": "code",
     "collapsed": false,
     "input": [
      "from scipy.stats import norm\n",
      "\n",
      "def CF_2(R,k,gamma=1):\n",
      "    total = 0\n",
      "    k = R[k]\n",
      "    l_k = sum(k)\n",
      "#    print \"L_k :\", l_k\n",
      "    for p in R:\n",
      "        common = sum(k[p==k])*1.\n",
      "#        print p==k\n",
      "        total += (common/sqrt(sum(p)*l_k))**gamma\n",
      "#        print \"Common {}, total {}\".format(common,total)\n",
      "    return log(total)\n",
      "\n",
      "def CF_5(R,k):\n",
      "  \n",
      "    total = 0\n",
      "    k = R[k]\n",
      "    l_k = sum(k)\n",
      "    for p in R:\n",
      "        if (p == k).all():\n",
      "            continue\n",
      "\n",
      "        common = sum(k[p==k])*1.\n",
      "        total += (common/sqrt(sum(p)*l_k))*(l_k-common)/(sum(p)-common)\n",
      "    return log(1+total)\n",
      "\n",
      "def PS_7(R,k):\n",
      "\n",
      "#    delta = 1.*sum(R>0,1)\n",
      "#    total = 0\n",
      "#    L_k = sum(R[k])\n",
      "#    for a in R[k]:\n",
      "#        total += a/L_k/delta[k]\n",
      "    delta = 1.*sum(R>0,0)\n",
      "    l_over_rowsum = R/R.sum(1)[:,None]\n",
      "\n",
      "    total = (l_over_rowsum[2]/delta).sum()\n",
      "    return log(total)\n",
      "\n",
      "def PathSizeCorrection(R,k):\n",
      "\n",
      "    delta = 1.*sum(R>0,0)\n",
      "    total = 0\n",
      "    L_k = sum(R[k])\n",
      "    for i,a in enumerate(R[k]):\n",
      "        if not a : continue\n",
      "        total += a/L_k*log(delta[i])\n",
      "    return -1.*total\n",
      "\n",
      "def logit(C,beta,CF,k):\n",
      "    return exp( sum(C[k])+beta*CF(-1.*C,k))\n",
      "\n",
      "def CLogit(b,k,beta,CF):\n",
      "    inc = incidence(b)\n",
      "    denominator = sum ([logit(inc,beta,CF,i) for i in range(inc.shape[0])])\n",
      "    return logit(inc,beta,CF,k)/denominator\n",
      "\n",
      "def MNL(b,k):\n",
      "    return CLogit(b,k,0,lambda x,y: 0)\n",
      "    \n",
      "def probit(b,links,routes):\n",
      "    inc = zeros((len(routes),len(links)))\n",
      "    for i,r in enumerate(routes):\n",
      "        for j in r:\n",
      "            inc[i,j] = 1\n",
      "    #inc = inc /sum(inc,0)\n",
      "    s = sum(inc,0)\n",
      "    print s[s>1]\n",
      "    dists = array([norm(loc=-1.*x,scale=b*x).rvs(N) for x in links])\n",
      "    print dists\n",
      "    p = inc.dot(dists)\n",
      "    ret = ((p==p.max(0))*1.).sum(1)/N\n",
      "    return ret"
     ],
     "language": "python",
     "metadata": {},
     "outputs": [],
     "prompt_number": 49
    },
    {
     "cell_type": "code",
     "collapsed": false,
     "input": [
      "a = 10.\n",
      "b = linspace(0.001,10-0.001,11)\n",
      "def incidence(b):\n",
      "    return -1.*array([[a,0,0,0],[0,b,a-b,0],[0,b,0,a-b]])\n",
      "\n",
      "N = 10\n",
      "links = lambda b :[a,b,a-b,a-b]\n",
      "\n",
      "cov = lambda b : array([[1,0,0],[0,1,b/a],[0,b/a,1]])\n",
      "print cov(1)\n",
      "routes = [[0],[1,2],[1,3]]\n",
      "\n",
      "\n"
     ],
     "language": "python",
     "metadata": {},
     "outputs": [
      {
       "output_type": "stream",
       "stream": "stdout",
       "text": [
        "[[ 1.   0.   0. ]\n",
        " [ 0.   1.   0.1]\n",
        " [ 0.   0.1  1. ]]\n"
       ]
      }
     ],
     "prompt_number": 51
    },
    {
     "cell_type": "code",
     "collapsed": false,
     "input": [
      "a = 10\n",
      "b = linspace(0.001,10-0.001,11)\n",
      "def incidence(b):\n",
      "    return -1.*array([[a,0,0,0],[0,b,a-b,0],[0,b,0,a-b]])\n",
      "\n",
      "N = 100000\n",
      "links = lambda b :[a,b,a-b,a-b]\n",
      "routes = [[0],[1,2],[1,3]]\n",
      "\n",
      "\n",
      "    \n",
      "plot(b,[MNL(i,0) for i in b],label='MNL')\n",
      "plot(b,[probit(0.2,links(i),routes)[0] for i in b],label='MNP')\n",
      "\n",
      "plot(b,[CLogit(i,0,-1,CF_2) for i in b],label='CLogit version 2')\n",
      "plot(b,[CLogit(i,0,-1,CF_5) for i in b],label='CLogit version 5')\n",
      "plot(b,[CLogit(i,0,1,PS_7) for i in b],label='PathSizeLogit formula 7')\n",
      "plot(b,[CLogit(i,0,1,PathSizeCorrection) for i in b],label='PathSizeLogit corr.')\n",
      "plot(b,[PCL(i,0) for i in b],label='PCL')\n",
      "plot(b,[CNL(i,0,0.1) for i in b],label='CNL 0.1')\n",
      "plot(b,[CNL(i,0,0.5) for i in b],label='CNL 0.5')\n",
      "plot(b,[CNL(i,0,0.9) for i in b],label='CNL 0.9')\n",
      "plot(b,[GNL(i,0,1) for i in b],label='GNL')\n",
      "\n",
      "\n",
      "legend(loc='upper center', bbox_to_anchor=(0.5, 1.45),\n",
      "          ncol=3, fancybox=True, shadow=True)"
     ],
     "language": "python",
     "metadata": {},
     "outputs": [
      {
       "output_type": "stream",
       "stream": "stdout",
       "text": [
        "[ 2.]\n",
        "[[ -8.29681451e+00  -1.12675497e+01  -7.90021857e+00 ...,  -1.15582525e+01\n",
        "   -9.24342237e+00  -7.96781470e+00]\n",
        " [ -1.08265932e-03  -9.76162213e-04  -8.09301832e-04 ...,  -1.16072293e-03\n",
        "   -1.39740853e-03  -1.11718068e-03]\n",
        " [ -5.80599631e+00  -1.10246178e+01  -6.10341053e+00 ...,  -9.80413002e+00\n",
        "   -9.06278765e+00  -1.05594880e+01]\n",
        " [ -8.34101351e+00  -1.16064742e+01  -9.33660099e+00 ...,  -1.36361983e+01\n",
        "   -1.11345093e+01  -1.21616476e+01]]"
       ]
      },
      {
       "output_type": "stream",
       "stream": "stdout",
       "text": [
        "\n",
        "[ 2.]\n",
        "[[ -8.05895566 -11.10202535  -5.76381489 ...,  -9.60555905  -5.43626806\n",
        "  -10.8660039 ]\n",
        " [ -1.19866967  -0.75833387  -1.13352984 ...,  -0.98645304  -0.94068635\n",
        "   -1.20766433]\n",
        " [ -9.91382433  -8.83887134  -9.5138712  ..., -10.62015111  -8.51519212\n",
        "   -9.5792951 ]\n",
        " [ -9.70903497  -9.72940144  -7.84226656 ...,  -7.93372024  -8.81560778\n",
        "   -7.6464443 ]]"
       ]
      },
      {
       "output_type": "stream",
       "stream": "stdout",
       "text": [
        "\n",
        "[ 2.]\n",
        "[[ -7.47229184 -11.93439632 -12.15328682 ..., -10.37847666 -12.61849562\n",
        "  -10.35035235]\n",
        " [ -2.4198648   -2.06611407  -1.83246821 ...,  -1.05166087  -1.85994651\n",
        "   -2.28968875]\n",
        " [ -7.95447877  -7.09798543 -10.25095058 ...,  -7.03528788  -8.85195274\n",
        "   -6.74998044]\n",
        " [ -8.90286082  -6.48268968  -6.07124782 ...,  -8.92598083  -6.76117974\n",
        "   -8.06595915]]"
       ]
      },
      {
       "output_type": "stream",
       "stream": "stdout",
       "text": [
        "\n",
        "[ 2.]\n",
        "[[-10.3003761  -12.22120064  -6.40746691 ..., -10.77746866  -8.15608681\n",
        "   -9.83104129]\n",
        " [ -2.48472324  -3.26561575  -2.54899787 ...,  -3.17764491  -3.07900292\n",
        "   -2.50524676]\n",
        " [ -6.9085639   -6.39288761  -7.17986858 ...,  -7.68861422  -5.58928184\n",
        "   -8.13536275]\n",
        " [ -5.2426097   -6.98579377  -6.40939336 ...,  -7.60340657  -8.75680682\n",
        "   -7.39343231]]"
       ]
      },
      {
       "output_type": "stream",
       "stream": "stdout",
       "text": [
        "\n",
        "[ 2.]\n",
        "[[ -8.84571587 -10.90205265 -10.02967001 ...,  -6.63331327  -9.38778455\n",
        "  -11.90490878]\n",
        " [ -3.89161082  -3.59622592  -3.99191171 ...,  -4.28157555  -4.04827998\n",
        "   -4.02290844]\n",
        " [ -6.1905472   -5.98423542  -6.27407609 ...,  -5.08959516  -6.75219682\n",
        "   -6.29931629]\n",
        " [ -6.58333156  -4.89924882  -4.77864809 ...,  -7.60223236  -7.57226411\n",
        "   -7.24141079]]"
       ]
      },
      {
       "output_type": "stream",
       "stream": "stdout",
       "text": [
        "\n",
        "[ 2.]\n",
        "[[-11.52120558  -8.51077891 -10.48651681 ...,  -8.47604492  -9.11102394\n",
        "  -12.24782661]\n",
        " [ -3.79568325  -4.42636332  -3.92945378 ...,  -6.16885532  -4.72268004\n",
        "   -5.97302489]\n",
        " [ -4.90499202  -5.87479336  -3.57970333 ...,  -5.38558365  -5.19217519\n",
        "   -5.83833602]\n",
        " [ -3.30120499  -6.28170905  -5.16014121 ...,  -5.56149626  -4.79020541\n",
        "   -6.36282921]]"
       ]
      },
      {
       "output_type": "stream",
       "stream": "stdout",
       "text": [
        "\n",
        "[ 2.]\n",
        "[[ -8.32009735 -12.35992572  -7.30123352 ..., -12.76446347  -9.00510653\n",
        "   -9.69810655]\n",
        " [ -6.05658254  -7.01009709  -5.85872786 ...,  -4.67906062  -4.58633728\n",
        "   -7.2286302 ]\n",
        " [ -2.36730914  -4.54496506  -4.15779463 ...,  -2.57357452  -2.84555403\n",
        "   -3.50178783]\n",
        " [ -3.98562546  -4.87678589  -2.96086285 ...,  -3.67538886  -3.79826688\n",
        "   -5.0300652 ]]"
       ]
      },
      {
       "output_type": "stream",
       "stream": "stdout",
       "text": [
        "\n",
        "[ 2.]\n",
        "[[ -7.60863666 -11.56961562  -9.35270115 ..., -10.09292521 -14.14130049\n",
        "   -9.44449187]\n",
        " [ -7.20507478  -8.53341261  -6.75279387 ...,  -6.53206798  -6.40410155\n",
        "   -6.6522824 ]\n",
        " [ -2.54835364  -2.48464484  -2.15566286 ...,  -2.75014128  -3.40655728\n",
        "   -3.83366282]\n",
        " [ -2.81835727  -3.154758    -2.24485529 ...,  -2.90265107  -3.2096996\n",
        "   -3.46003793]]"
       ]
      },
      {
       "output_type": "stream",
       "stream": "stdout",
       "text": [
        "\n",
        "[ 2.]\n",
        "[[-10.67635738  -9.97066897  -9.65658744 ..., -11.3881181  -11.46395605\n",
        "   -9.16895139]\n",
        " [ -8.3145346   -7.58266572  -4.92834985 ...,  -7.38937096  -7.46618662\n",
        "   -7.12644708]\n",
        " [ -1.21750929  -1.7738965   -2.1999696  ...,  -2.10283781  -2.07707247\n",
        "   -2.37337391]\n",
        " [ -1.87574355  -1.96234493  -1.52163547 ...,  -1.69654676  -2.21682121\n",
        "   -1.82010652]]"
       ]
      },
      {
       "output_type": "stream",
       "stream": "stdout",
       "text": [
        "\n",
        "[ 2.]\n",
        "[[ -6.89019681 -14.88862397 -11.25718098 ..., -10.2243066   -9.70699199\n",
        "  -10.67923235]\n",
        " [-10.26109788  -9.00277291  -9.23349068 ...,  -9.80725168  -7.3581062\n",
        "   -9.30654172]\n",
        " [ -0.84728788  -1.26240244  -1.03318752 ...,  -1.10804327  -0.93205945\n",
        "   -0.69431502]\n",
        " [ -1.2498943   -0.73654711  -0.95574977 ...,  -0.82528989  -1.19517557\n",
        "   -0.87282651]]"
       ]
      },
      {
       "output_type": "stream",
       "stream": "stdout",
       "text": [
        "\n",
        "[ 2.]\n",
        "[[ -9.50634589e+00  -1.01356025e+01  -9.70407539e+00 ...,  -8.74268482e+00\n",
        "   -1.36087619e+01  -9.03469149e+00]\n",
        " [ -8.59339353e+00  -1.36365597e+01  -1.27421449e+01 ...,  -1.22951594e+01\n",
        "   -8.89803595e+00  -1.11800098e+01]\n",
        " [ -1.04954252e-03  -1.15312153e-03  -7.58341968e-04 ...,  -1.23466775e-03\n",
        "   -8.12778459e-04  -1.32328398e-03]\n",
        " [ -1.23523152e-03  -1.18691191e-03  -1.01862506e-03 ...,  -1.03052884e-03\n",
        "   -1.05203650e-03  -1.30276854e-03]]"
       ]
      },
      {
       "output_type": "stream",
       "stream": "stdout",
       "text": [
        "\n"
       ]
      },
      {
       "ename": "NameError",
       "evalue": "name 'PCL' is not defined",
       "output_type": "pyerr",
       "traceback": [
        "\u001b[0;31m---------------------------------------------------------------------------\u001b[0m\n\u001b[0;31mNameError\u001b[0m                                 Traceback (most recent call last)",
        "\u001b[0;32m<ipython-input-52-0eebd3060786>\u001b[0m in \u001b[0;36m<module>\u001b[0;34m()\u001b[0m\n\u001b[1;32m     17\u001b[0m \u001b[0mplot\u001b[0m\u001b[0;34m(\u001b[0m\u001b[0mb\u001b[0m\u001b[0;34m,\u001b[0m\u001b[0;34m[\u001b[0m\u001b[0mCLogit\u001b[0m\u001b[0;34m(\u001b[0m\u001b[0mi\u001b[0m\u001b[0;34m,\u001b[0m\u001b[0;36m0\u001b[0m\u001b[0;34m,\u001b[0m\u001b[0;36m1\u001b[0m\u001b[0;34m,\u001b[0m\u001b[0mPS_7\u001b[0m\u001b[0;34m)\u001b[0m \u001b[0;32mfor\u001b[0m \u001b[0mi\u001b[0m \u001b[0;32min\u001b[0m \u001b[0mb\u001b[0m\u001b[0;34m]\u001b[0m\u001b[0;34m,\u001b[0m\u001b[0mlabel\u001b[0m\u001b[0;34m=\u001b[0m\u001b[0;34m'PathSizeLogit formula 7'\u001b[0m\u001b[0;34m)\u001b[0m\u001b[0;34m\u001b[0m\u001b[0m\n\u001b[1;32m     18\u001b[0m \u001b[0mplot\u001b[0m\u001b[0;34m(\u001b[0m\u001b[0mb\u001b[0m\u001b[0;34m,\u001b[0m\u001b[0;34m[\u001b[0m\u001b[0mCLogit\u001b[0m\u001b[0;34m(\u001b[0m\u001b[0mi\u001b[0m\u001b[0;34m,\u001b[0m\u001b[0;36m0\u001b[0m\u001b[0;34m,\u001b[0m\u001b[0;36m1\u001b[0m\u001b[0;34m,\u001b[0m\u001b[0mPathSizeCorrection\u001b[0m\u001b[0;34m)\u001b[0m \u001b[0;32mfor\u001b[0m \u001b[0mi\u001b[0m \u001b[0;32min\u001b[0m \u001b[0mb\u001b[0m\u001b[0;34m]\u001b[0m\u001b[0;34m,\u001b[0m\u001b[0mlabel\u001b[0m\u001b[0;34m=\u001b[0m\u001b[0;34m'PathSizeLogit corr.'\u001b[0m\u001b[0;34m)\u001b[0m\u001b[0;34m\u001b[0m\u001b[0m\n\u001b[0;32m---> 19\u001b[0;31m \u001b[0mplot\u001b[0m\u001b[0;34m(\u001b[0m\u001b[0mb\u001b[0m\u001b[0;34m,\u001b[0m\u001b[0;34m[\u001b[0m\u001b[0mPCL\u001b[0m\u001b[0;34m(\u001b[0m\u001b[0mi\u001b[0m\u001b[0;34m,\u001b[0m\u001b[0;36m0\u001b[0m\u001b[0;34m)\u001b[0m \u001b[0;32mfor\u001b[0m \u001b[0mi\u001b[0m \u001b[0;32min\u001b[0m \u001b[0mb\u001b[0m\u001b[0;34m]\u001b[0m\u001b[0;34m,\u001b[0m\u001b[0mlabel\u001b[0m\u001b[0;34m=\u001b[0m\u001b[0;34m'PCL'\u001b[0m\u001b[0;34m)\u001b[0m\u001b[0;34m\u001b[0m\u001b[0m\n\u001b[0m\u001b[1;32m     20\u001b[0m \u001b[0mplot\u001b[0m\u001b[0;34m(\u001b[0m\u001b[0mb\u001b[0m\u001b[0;34m,\u001b[0m\u001b[0;34m[\u001b[0m\u001b[0mCNL\u001b[0m\u001b[0;34m(\u001b[0m\u001b[0mi\u001b[0m\u001b[0;34m,\u001b[0m\u001b[0;36m0\u001b[0m\u001b[0;34m,\u001b[0m\u001b[0;36m0.1\u001b[0m\u001b[0;34m)\u001b[0m \u001b[0;32mfor\u001b[0m \u001b[0mi\u001b[0m \u001b[0;32min\u001b[0m \u001b[0mb\u001b[0m\u001b[0;34m]\u001b[0m\u001b[0;34m,\u001b[0m\u001b[0mlabel\u001b[0m\u001b[0;34m=\u001b[0m\u001b[0;34m'CNL 0.1'\u001b[0m\u001b[0;34m)\u001b[0m\u001b[0;34m\u001b[0m\u001b[0m\n\u001b[1;32m     21\u001b[0m \u001b[0mplot\u001b[0m\u001b[0;34m(\u001b[0m\u001b[0mb\u001b[0m\u001b[0;34m,\u001b[0m\u001b[0;34m[\u001b[0m\u001b[0mCNL\u001b[0m\u001b[0;34m(\u001b[0m\u001b[0mi\u001b[0m\u001b[0;34m,\u001b[0m\u001b[0;36m0\u001b[0m\u001b[0;34m,\u001b[0m\u001b[0;36m0.5\u001b[0m\u001b[0;34m)\u001b[0m \u001b[0;32mfor\u001b[0m \u001b[0mi\u001b[0m \u001b[0;32min\u001b[0m \u001b[0mb\u001b[0m\u001b[0;34m]\u001b[0m\u001b[0;34m,\u001b[0m\u001b[0mlabel\u001b[0m\u001b[0;34m=\u001b[0m\u001b[0;34m'CNL 0.5'\u001b[0m\u001b[0;34m)\u001b[0m\u001b[0;34m\u001b[0m\u001b[0m\n",
        "\u001b[0;31mNameError\u001b[0m: name 'PCL' is not defined"
       ]
      },
      {
       "metadata": {},
       "output_type": "display_data",
       "png": "[encoded data removed]",
       "text": [
        "<matplotlib.figure.Figure at 0x105da7ed0>"
       ]
      }
     ],
     "prompt_number": 52
    },
    {
     "cell_type": "code",
     "collapsed": false,
     "input": [
      "N"
     ],
     "language": "python",
     "metadata": {},
     "outputs": [
      {
       "metadata": {},
       "output_type": "pyout",
       "prompt_number": 870,
       "text": [
        "100000"
       ]
      }
     ],
     "prompt_number": 870
    },
    {
     "cell_type": "code",
     "collapsed": false,
     "input": [
      "plot(b,[MNL(i,0) for i in b],label='MNL')\n",
      "plot(b,[probit(0.2,links(i),routes)[0] for i in b],label='MNP')\n",
      "plot(b,[CNL(i,0,0.1) for i in b],label='CNL 0.1')\n",
      "plot(b,[CNL(i,0,0.5) for i in b],label='CNL 0.5')\n",
      "plot(b,[PCL(i,0) for i in b],label='PCL')\n",
      "\n",
      "\n"
     ],
     "language": "python",
     "metadata": {},
     "outputs": [
      {
       "metadata": {},
       "output_type": "pyout",
       "prompt_number": 868,
       "text": [
        "[<matplotlib.lines.Line2D at 0x118858bd0>]"
       ]
      },
      {
       "metadata": {},
       "output_type": "display_data",
       "png": "[encoded data removed]",
       "text": [
        "<matplotlib.figure.Figure at 0x1187ac710>"
       ]
      }
     ],
     "prompt_number": 868
    },
    {
     "cell_type": "code",
     "collapsed": false,
     "input": [
      "gamma = 1\n",
      "\n",
      "def sim_index(R,k,l):\n",
      "\n",
      "    L = R[l]\n",
      "    K = R[k]\n",
      "    common = sum(L[K==L])\n",
      "    return pow(common/sqrt(sum(K)*sum(L)),gamma)\n",
      "\n",
      "def exp_pair(R,k,sim):\n",
      "\n",
      "    K = R[k]\n",
      "    return exp(sum(K)/(1-sim))\n",
      "\n",
      "def prob_cond(R,k,l):\n",
      "    sim = sim_index(-1.*R,k,l)\n",
      "    return exp_pair(R,k,sim)/(exp_pair(R,k,sim)+exp_pair(R,l,sim))\n",
      "\n",
      "def prob_pair_num(R,k,l):\n",
      "    sim = sim_index(-1.*R,k,l)\n",
      "    num = (1-sim)*pow(exp_pair(R,k,sim)+exp_pair(R,l,sim),1-sim)\n",
      "    return num\n",
      "\n",
      "def prob_pair(R,k,l):\n",
      "    num = prob_pair_num(R,k,l)\n",
      "    paths = R.shape[0]\n",
      "    denominator = 0\n",
      "    for p in range(paths-1):\n",
      "        for q in range(p+1,paths):\n",
      "            x = prob_pair_num(R,p,q)\n",
      "            denominator += x\n",
      "    return num/denominator\n",
      "\n",
      "def PCL(b,k):\n",
      "    V = incidence(b)\n",
      "    #R *= -1.*V\n",
      "    prob = 0\n",
      "    for i in range(V.shape[0]):\n",
      "        #if b > 9.8 and b<9.92: print b,prob_pair(R,k,i),prob_cond(R,k,i)\n",
      "        if i == k:\n",
      "            continue\n",
      "        prob += prob_pair(V,k,i)*prob_cond(V,k,i)\n",
      "\n",
      "    return prob\n",
      "\n",
      "def PCL_2(b,k):\n",
      "    V = incidence(b)\n",
      "    R = -1.*R\n",
      "    common = 0\n",
      "    sim = 0\n",
      "def CNL(b,k,mu):\n",
      "    R = incidence(b)\n",
      "    R_ = -1.*R\n",
      "    V = R.sum(1)\n",
      "    alfa = R_/(R_.sum(1)[:,None]) # Inklusion koefficient\n",
      "    al_exp = alfa*exp(V)[:,None]\n",
      "\n",
      "    power = pow(al_exp,1/mu)\n",
      "    prob_margin = pow(power.sum(0),mu) #The numerator of equation 18\n",
      "    prob_margin /= prob_margin.sum()\n",
      "    prob_cond = power/power.sum(0)\n",
      "\n",
      "    ret = (prob_margin*prob_cond).sum(1)\n",
      "    return ret[k]"
     ],
     "language": "python",
     "metadata": {},
     "outputs": [],
     "prompt_number": 485
    },
    {
     "cell_type": "code",
     "collapsed": false,
     "input": [
      "\n",
      "def CNL(b,k,mu):\n",
      "    R = incidence(b)\n",
      "    R_ = -1.*R\n",
      "    V = R.sum(1)\n",
      "    alfa = R_/(R_.sum(1)[:,None]) # Inklusion koefficient\n",
      "    al_exp = alfa*exp(V)[:,None]\n",
      "\n",
      "    power = pow(al_exp,1/mu)\n",
      "    prob_margin = pow(power.sum(0),mu) #The numerator of equation 18\n",
      "    prob_margin /= prob_margin.sum()\n",
      "    prob_cond = power/power.sum(0)\n",
      "\n",
      "    ret = (prob_margin*prob_cond).sum(1)\n",
      "    return ret[k]\n",
      "b = linspace(5.01,9.9,41)\n",
      "plot(b,[CNL(i,2,0.1) for i in b])\n",
      "plot(b,[CNL(i,2,0.5) for i in b])\n",
      "plot(b,[CNL(i,2,0.9) for i in b])"
     ],
     "language": "python",
     "metadata": {},
     "outputs": [
      {
       "metadata": {},
       "output_type": "pyout",
       "prompt_number": 486,
       "text": [
        "[<matplotlib.lines.Line2D at 0x1114b36d0>]"
       ]
      },
      {
       "metadata": {},
       "output_type": "display_data",
       "png": "[encoded data removed]",
       "text": [
        "<matplotlib.figure.Figure at 0x1110fef10>"
       ]
      }
     ],
     "prompt_number": 486
    },
    {
     "cell_type": "code",
     "collapsed": false,
     "input": [
      "def GNL(b,k,gamma=1):\n",
      "    R = incidence(b)\n",
      "    R_ = -1.*R\n",
      "    alfa = R_/(R_.sum(1)[:,None]) # Inklusion koefficient\n",
      "\n",
      "    delta = (R_>0*1.).astype('float')\n",
      "    \n",
      "    mu = pow(1-alfa.sum(0)/delta.sum(0),gamma)\n",
      "    return CNL(b,k,mu)\n",
      "\n",
      "b = linspace(5.1,9.9,51)\n",
      "\n",
      "plot(b,[GNL(i,0,1) for i in b])"
     ],
     "language": "python",
     "metadata": {},
     "outputs": [
      {
       "metadata": {},
       "output_type": "pyout",
       "prompt_number": 487,
       "text": [
        "[<matplotlib.lines.Line2D at 0x1113ac490>]"
       ]
      },
      {
       "metadata": {},
       "output_type": "display_data",
       "png": "[encoded data removed]",
       "text": [
        "<matplotlib.figure.Figure at 0x1114ad250>"
       ]
      }
     ],
     "prompt_number": 487
    },
    {
     "cell_type": "heading",
     "level": 3,
     "metadata": {},
     "source": [
      "Question 2b"
     ]
    },
    {
     "cell_type": "code",
     "collapsed": false,
     "input": [
      "def incidence(a):\n",
      "    links =[10-a,a,a,10-a,2*a-10,2*a-10]\n",
      "    routes = [[0,1],[2,3],[0,3,4],[1,2,5]]\n",
      "    ret = zeros((4,6))\n",
      "    for j,r in enumerate(routes):\n",
      "        for i in r:\n",
      "            ret[j,i] = links[i]\n",
      "    return -1.*ret\n",
      "\n",
      "N = 100000\n",
      "links = lambda a:[10.-a,a,a,10.-a,2*a-10.,2*a-10.]\n",
      "routes = [[0,1],[2,3],[0,3,4],[1,2,5]]\n",
      "\n",
      "b = linspace(5,10,36)\n",
      "plot(b,[MNL(i,2) for i in b],label='MNL')\n",
      "plot(b, [probit(0.20000,links(i),routes)[2] for i in b],label=\"probit\")\n",
      "plot(b,[CLogit(i,2,-1,CF_2) for i in b],label='CLogit 2')\n",
      "plot(b,[CLogit(i,2,-1,CF_5) for i in b],label='CLogit 5')\n",
      "plot(b,[CLogit(i,2,1,PS_7) for i in b],label='PathSize')\n",
      "plot(b,[CLogit(i,2,1,PathSizeCorrection) for i in b],label='PSC')\n",
      "plot(b,[CNL(i,2,0.1) for i in b],label='CNL 0,1')\n",
      "plot(b,[CNL(i,2,0.5) for i in b],label='CNL 0,5')\n",
      "plot(b,[CNL(i,2,0.9) for i in b],label='CNL 0,9')\n",
      "plot(b,[PCL(i,2) for i in b],label='PCL')\n",
      "\n",
      "plot(b,[GNL(i,2,1) for i in b],label='GNL')\n",
      "legend(loc='upper center', bbox_to_anchor=(0.5, 1.35),\n",
      "          ncol=3, fancybox=True, shadow=True)\n",
      "\n"
     ],
     "language": "python",
     "metadata": {},
     "outputs": [
      {
       "output_type": "stream",
       "stream": "stdout",
       "text": [
        "[ 2.  2.  2.  2.]\n",
        "[[-4.75912807 -6.85800578 -5.46982669 ..., -3.26576923 -6.36382344\n",
        "  -4.17639184]\n",
        " [-3.76249316 -4.42846416 -5.09125752 ..., -5.67542303 -3.30336343\n",
        "  -4.10210854]\n",
        " [-4.33466926 -5.62525586 -4.01406022 ..., -6.05349965 -5.38824343\n",
        "  -5.07952906]\n",
        " [-6.15177384 -5.12808927 -4.00286614 ..., -5.46178705 -4.18381087\n",
        "  -4.73024997]\n",
        " [-0.         -0.         -0.         ..., -0.         -0.         -0.        ]\n",
        " [-0.         -0.         -0.         ..., -0.         -0.         -0.        ]]"
       ]
      },
      {
       "output_type": "stream",
       "stream": "stdout",
       "text": [
        "\n",
        "[ 2.  2.  2.  2.]\n",
        "[[-4.00450695 -3.04117873 -4.36039975 ..., -4.40581857 -5.07195775\n",
        "  -4.53682857]\n",
        " [-3.95748065 -5.17258291 -3.45089205 ..., -5.80635286 -4.01096862\n",
        "  -5.2997395 ]\n",
        " [-5.18024413 -4.00340962 -6.50759306 ..., -6.6891187  -3.56470857\n",
        "  -5.65069926]\n",
        " [-4.20590785 -5.16067209 -3.73281241 ..., -5.56664798 -5.01307796\n",
        "  -3.12051723]\n",
        " [-0.31890174 -0.32916406 -0.21529319 ..., -0.30785441 -0.27608289\n",
        "  -0.4079977 ]\n",
        " [-0.4278151  -0.18884635 -0.43782504 ..., -0.22538616 -0.29807385\n",
        "  -0.40150502]]"
       ]
      },
      {
       "output_type": "stream",
       "stream": "stdout",
       "text": [
        "\n",
        "[ 2.  2.  2.  2.]\n",
        "[[-5.62325928 -3.83160456 -3.79955896 ..., -4.62416499 -4.56784674\n",
        "  -5.19424247]\n",
        " [-5.80038508 -4.99230803 -5.47766252 ..., -4.42074445 -7.84455347\n",
        "  -5.15687185]\n",
        " [-2.87507296 -5.93701827 -4.9992471  ..., -5.68589821 -4.00090856\n",
        "  -5.77839005]\n",
        " [-5.33277396 -5.60514445 -4.47709404 ..., -6.13298528 -3.50131275\n",
        "  -3.89099423]\n",
        " [-0.82503966 -0.50485883 -0.5036408  ..., -0.6217653  -0.45713962\n",
        "  -0.49601195]\n",
        " [-0.5843684  -0.60929244 -0.33293702 ..., -0.59091365 -0.68444315\n",
        "  -0.50747757]]"
       ]
      },
      {
       "output_type": "stream",
       "stream": "stdout",
       "text": [
        "\n",
        "[ 2.  2.  2.  2.]\n",
        "[[-3.7788263  -4.91072457 -6.08254393 ..., -3.98859467 -5.57810353\n",
        "  -4.17237899]\n",
        " [-5.22952091 -6.09850213 -6.09511504 ..., -4.43404726 -6.33759147\n",
        "  -5.41539439]\n",
        " [-5.79897711 -4.55858304 -5.15468591 ..., -7.54389118 -6.54725126\n",
        "  -5.41056409]\n",
        " [-3.7089836  -5.68691856 -2.61275577 ..., -4.31675175 -4.52156826\n",
        "  -3.87874717]\n",
        " [-0.91976024 -0.55137819 -0.81122852 ..., -0.69283639 -0.83992037\n",
        "  -0.80622327]\n",
        " [-1.26537408 -1.16801778 -1.13150773 ..., -0.90013172 -0.77148081\n",
        "  -0.88224389]]"
       ]
      },
      {
       "output_type": "stream",
       "stream": "stdout",
       "text": [
        "\n",
        "[ 2.  2.  2.  2.]\n",
        "[[-4.71446099 -5.06805417 -3.41285513 ..., -5.76809774 -5.13126028\n",
        "  -3.96841443]\n",
        " [-5.35662222 -4.76237949 -5.62432654 ..., -6.97277104 -6.8210986\n",
        "  -6.88525071]\n",
        " [-3.71263085 -6.27254167 -6.17896613 ..., -7.12636258 -4.88845047\n",
        "  -4.55046172]\n",
        " [-4.26907092 -5.10752575 -4.4743196  ..., -4.68114453 -4.43847748\n",
        "  -4.42507818]\n",
        " [-0.91460147 -1.09309563 -0.63591927 ..., -1.10699939 -1.11381517\n",
        "  -0.82141976]\n",
        " [-1.11687657 -0.94501596 -1.23231711 ..., -1.28321146 -1.49760839\n",
        "  -0.65521382]]"
       ]
      },
      {
       "output_type": "stream",
       "stream": "stdout",
       "text": [
        "\n",
        "[ 2.  2.  2.  2.]\n",
        "[[-2.36491499 -4.59489327 -2.92097412 ..., -3.99084352 -4.46981762\n",
        "  -3.70686548]\n",
        " [-7.04090421 -4.75778682 -5.64509134 ..., -4.56246144 -5.92232283\n",
        "  -4.8266293 ]\n",
        " [-6.84440813 -6.29335212 -5.73983911 ..., -5.54987417 -4.31654623\n",
        "  -5.60475476]\n",
        " [-5.65443034 -4.37621616 -5.49237186 ..., -3.29782368 -4.13086229\n",
        "  -3.87244819]\n",
        " [-1.48220341 -1.28764397 -2.40734637 ..., -0.81573049 -1.3811436\n",
        "  -1.67599178]\n",
        " [-1.10953997 -1.3367975  -1.69649567 ..., -1.50638712 -1.26740195\n",
        "  -1.5476072 ]]"
       ]
      },
      {
       "output_type": "stream",
       "stream": "stdout",
       "text": [
        "\n",
        "[ 2.  2.  2.  2.]\n",
        "[[-5.40350181 -3.27286114 -3.86311207 ..., -3.39373249 -1.82564432\n",
        "  -2.5331719 ]\n",
        " [-6.13752024 -6.00995407 -8.45813892 ..., -4.98395944 -7.07146289\n",
        "  -5.88044356]\n",
        " [-6.99637055 -6.13372407 -4.41123702 ..., -6.08945697 -6.12470216\n",
        "  -7.99267649]\n",
        " [-5.31290629 -2.88737609 -2.56452665 ..., -4.76398237 -3.658196\n",
        "  -5.25267745]\n",
        " [-1.79006465 -2.010922   -1.72085989 ..., -2.11529332 -1.10620384\n",
        "  -2.01109912]\n",
        " [-2.02786877 -2.25270115 -1.35628473 ..., -2.00347954 -1.79527918\n",
        "  -1.74724634]]"
       ]
      },
      {
       "output_type": "stream",
       "stream": "stdout",
       "text": [
        "\n",
        "[ 2.  2.  2.  2.]\n",
        "[[-3.96431558 -4.27596254 -3.29823367 ..., -2.84096896 -4.48551336\n",
        "  -3.0500146 ]\n",
        " [-6.46546276 -8.13633374 -5.9098678  ..., -4.89913902 -5.910865\n",
        "  -6.05255728]\n",
        " [-5.85746766 -4.59673747 -2.91581507 ..., -5.0787815  -6.04936187\n",
        "  -5.65754047]\n",
        " [-3.18226463 -3.34787936 -4.14047516 ..., -3.39883487 -3.64398893\n",
        "  -3.87082208]\n",
        " [-2.23390191 -2.20475611 -2.19503543 ..., -2.45452672 -2.12724644\n",
        "  -2.12184919]\n",
        " [-1.94268898 -2.47527853 -1.77441458 ..., -2.30971723 -1.76764885\n",
        "  -2.39037155]]"
       ]
      },
      {
       "output_type": "stream",
       "stream": "stdout",
       "text": [
        "\n",
        "[ 2.  2.  2.  2.]\n",
        "[[-4.2833181  -3.62511299 -3.23282869 ..., -3.23291562 -4.27000091\n",
        "  -4.41825188]\n",
        " [-6.90525189 -7.84289127 -4.94150851 ..., -6.91132474 -3.48119157\n",
        "  -4.4205153 ]\n",
        " [-5.62111337 -6.58195254 -9.18057933 ..., -6.7485347  -5.25077262\n",
        "  -5.65959163]\n",
        " [-4.9019511  -4.17980303 -2.81539121 ..., -3.32707655 -3.87198242\n",
        "  -5.08929059]\n",
        " [-2.4257594  -2.39230317 -2.74019854 ..., -1.99911465 -2.26967965\n",
        "  -2.7784599 ]\n",
        " [-2.02807038 -2.35079075 -2.13898264 ..., -2.67688478 -1.99921273\n",
        "  -2.4666716 ]]"
       ]
      },
      {
       "output_type": "stream",
       "stream": "stdout",
       "text": [
        "\n",
        "[ 2.  2.  2.  2.]\n",
        "[[-4.62869017 -3.58497308 -4.34652165 ..., -2.91330256 -5.4656037\n",
        "  -2.82300689]\n",
        " [-8.37185001 -7.06440715 -5.71908314 ..., -4.18570142 -7.47306415\n",
        "  -6.33456651]\n",
        " [-6.31661247 -6.14592998 -7.59418903 ..., -7.34017878 -4.03369276\n",
        "  -6.06621622]\n",
        " [-3.3321743  -2.89155599 -3.95755057 ..., -4.72393721 -4.34513708\n",
        "  -3.02207122]\n",
        " [-2.59666918 -3.10463141 -1.39444754 ..., -3.24702722 -2.30852732\n",
        "  -2.75074992]\n",
        " [-2.62587623 -2.78941497 -2.84650662 ..., -2.8417982  -3.07415168\n",
        "  -2.45904099]]"
       ]
      },
      {
       "output_type": "stream",
       "stream": "stdout",
       "text": [
        "\n",
        "[ 2.  2.  2.  2.]\n",
        "[[-2.82783304 -4.75931432 -4.31681109 ..., -2.76696599 -4.30888334\n",
        "  -3.21121807]\n",
        " [-6.04953836 -6.37940342 -5.45933083 ..., -5.21847738 -5.47176145\n",
        "  -7.18473509]\n",
        " [-4.60801831 -5.8826068  -6.27165841 ..., -6.44636556 -5.24901998\n",
        "  -6.2441704 ]\n",
        " [-3.62341736 -3.62906435 -4.1666326  ..., -3.58205946 -3.38754075\n",
        "  -3.96625854]\n",
        " [-3.18056309 -2.63685776 -2.12564881 ..., -2.15702459 -3.04839977\n",
        "  -3.17117882]\n",
        " [-3.44467865 -3.0122677  -3.29912531 ..., -2.7471336  -3.23255779\n",
        "  -2.46700699]]"
       ]
      },
      {
       "output_type": "stream",
       "stream": "stdout",
       "text": [
        "\n",
        "[ 2.  2.  2.  2.]\n",
        "[[-3.61099648 -3.99745517 -4.00504645 ..., -3.03561052 -3.67314715\n",
        "  -3.49921907]\n",
        " [-6.48718229 -5.3913594  -5.33422572 ..., -7.950031   -6.38717601\n",
        "  -8.13897838]\n",
        " [-7.07875813 -8.23319999 -6.61147849 ..., -6.99764371 -6.2232742\n",
        "  -7.91942384]\n",
        " [-4.32272573 -3.37264553 -3.94227585 ..., -3.58712247 -3.333612\n",
        "  -3.23470141]\n",
        " [-2.10232472 -2.86102313 -2.83056057 ..., -3.12996077 -1.98922366\n",
        "  -2.96323864]\n",
        " [-3.60581906 -4.00687777 -2.42209433 ..., -3.46843825 -2.83688669\n",
        "  -2.99545121]]"
       ]
      },
      {
       "output_type": "stream",
       "stream": "stdout",
       "text": [
        "\n",
        "[ 2.  2.  2.  2.]\n",
        "[[-4.60864444 -4.26734685 -3.11292595 ..., -3.29972447 -2.79696147\n",
        "  -1.9943666 ]\n",
        " [-5.34524191 -5.80416281 -5.35828693 ..., -5.52791807 -9.3283812\n",
        "  -7.73153319]\n",
        " [-8.77520208 -5.33384369 -5.73952759 ..., -5.80616138 -5.60069826\n",
        "  -5.32553174]\n",
        " [-4.24589142 -2.29924181 -3.55830669 ..., -3.8382803  -4.39322377\n",
        "  -2.5386005 ]\n",
        " [-3.85417043 -4.50129335 -3.65044405 ..., -3.40566315 -4.5637642\n",
        "  -3.66705235]\n",
        " [-2.8198228  -2.89643433 -3.56837284 ..., -3.88985731 -3.28623432\n",
        "  -4.10783082]]"
       ]
      },
      {
       "output_type": "stream",
       "stream": "stdout",
       "text": [
        "\n",
        "[ 2.  2.  2.  2.]\n",
        "[[-2.31582571 -4.0868408  -2.52840402 ..., -3.26931127 -3.58624774\n",
        "  -2.70500495]\n",
        " [-7.90247251 -3.88004102 -6.14536745 ..., -5.37834711 -7.4383321\n",
        "  -8.79929303]\n",
        " [-6.9364468  -6.97992497 -8.2328987  ..., -6.20148878 -5.68246183\n",
        "  -5.96313702]\n",
        " [-2.92183569 -2.47950015 -3.79463602 ..., -3.67571647 -2.65292318\n",
        "  -2.8406872 ]\n",
        " [-4.53534661 -4.80340913 -3.41039345 ..., -4.49664743 -4.34354674\n",
        "  -5.0528893 ]\n",
        " [-4.64826807 -4.39625779 -3.83031796 ..., -3.33700647 -3.88857783\n",
        "  -3.7050363 ]]"
       ]
      },
      {
       "output_type": "stream",
       "stream": "stdout",
       "text": [
        "\n",
        "[ 2.  2.  2.  2.]\n",
        "[[-2.6241429  -2.63965081 -3.17002667 ..., -3.76818183 -2.56393629\n",
        "  -2.68314545]\n",
        " [-6.61728322 -5.83432468 -5.28333164 ..., -7.37195588 -8.42190941\n",
        "  -6.18526243]\n",
        " [-8.00120656 -7.65650764 -6.34510885 ..., -5.86220384 -8.75979653\n",
        "  -7.01801915]\n",
        " [-3.08662633 -2.15442832 -3.05310846 ..., -2.89724351 -3.1528148\n",
        "  -2.52463663]\n",
        " [-3.19645549 -3.72839572 -4.19129149 ..., -3.15744138 -3.88443376\n",
        "  -4.48090279]\n",
        " [-4.5836597  -2.89432171 -4.20179365 ..., -4.27752771 -3.65493223\n",
        "  -4.31724025]]"
       ]
      },
      {
       "output_type": "stream",
       "stream": "stdout",
       "text": [
        "\n",
        "[ 2.  2.  2.  2.]\n",
        "[[ -2.71831098  -2.81497573  -3.40539803 ...,  -2.91402098  -3.40828965\n",
        "   -2.79570783]\n",
        " [ -6.80928155  -7.89638934 -10.65161344 ...,  -8.23393579  -5.8498349\n",
        "   -7.23295659]\n",
        " [ -8.36418538  -8.55166653  -4.37672461 ...,  -4.8260676   -6.12550134\n",
        "   -5.68071219]\n",
        " [ -3.10568341  -3.37865833  -2.51862207 ...,  -2.20478335  -1.83096173\n",
        "   -2.36882446]\n",
        " [ -3.75166945  -3.95733981  -3.3964562  ...,  -2.75825068  -4.12266894\n",
        "   -4.37076394]\n",
        " [ -3.84422792  -4.99330824  -6.02772049 ...,  -5.31977099  -3.74087829\n",
        "   -1.96470044]]"
       ]
      },
      {
       "output_type": "stream",
       "stream": "stdout",
       "text": [
        "\n",
        "[ 2.  2.  2.  2.]\n",
        "[[-2.75740576 -2.21354909 -3.98401207 ..., -2.73035328 -3.40689449\n",
        "  -3.36869512]\n",
        " [-7.32080422 -7.61035968 -7.32074516 ..., -7.88181712 -7.54892647\n",
        "  -4.82243131]\n",
        " [-6.95502907 -6.28346232 -7.09467071 ..., -7.51285256 -5.92461654\n",
        "  -5.06372335]\n",
        " [-2.84574213 -2.27838429 -2.53488202 ..., -2.7685759  -3.2343276\n",
        "  -2.11471805]\n",
        " [-4.61529139 -2.757954   -4.25480813 ..., -3.57804117 -4.58000751\n",
        "  -4.81084713]\n",
        " [-4.92315438 -4.87730845 -4.62196292 ..., -5.38926152 -4.7490353\n",
        "  -3.80376242]]"
       ]
      },
      {
       "output_type": "stream",
       "stream": "stdout",
       "text": [
        "\n",
        "[ 2.  2.  2.  2.]\n",
        "[[ -2.22248724  -2.04423975  -2.80469034 ...,  -2.96535988  -3.66331306\n",
        "   -1.804272  ]\n",
        " [ -6.55808547  -8.4057205   -8.23989887 ...,  -8.76980386  -8.03508317\n",
        "   -8.36255741]\n",
        " [ -4.13711141  -7.52802363  -8.6132373  ...,  -6.07499078  -8.33357299\n",
        "  -10.09212767]\n",
        " [ -2.74545448  -2.05017452  -2.48530481 ...,  -2.19370739  -3.12750546\n",
        "   -1.76400772]\n",
        " [ -3.75668651  -4.14650524  -5.9017359  ...,  -4.62958444  -3.58361233\n",
        "   -2.33468757]\n",
        " [ -3.7267639   -5.1828307   -6.04908412 ...,  -2.97658142  -2.96194248\n",
        "   -7.12305698]]"
       ]
      },
      {
       "output_type": "stream",
       "stream": "stdout",
       "text": [
        "\n",
        "[ 2.  2.  2.  2.]\n",
        "[[ -1.98942858  -1.83200497  -2.10099138 ...,  -2.13111603  -2.61658385\n",
        "   -2.81161439]\n",
        " [ -4.8986266   -5.93343649  -7.5882807  ...,  -7.38747212  -7.43409303\n",
        "   -8.94935416]\n",
        " [ -9.35329702 -10.19114668  -7.64183043 ...,  -8.90027702 -10.00771879\n",
        "   -6.38162664]\n",
        " [ -2.3853829   -2.62442181  -1.88119468 ...,  -2.82848112  -2.49803962\n",
        "   -2.84457325]\n",
        " [ -4.94577544  -5.67999423  -3.7616373  ...,  -4.1869313   -4.60481037\n",
        "   -4.90278365]\n",
        " [ -4.00439333  -4.61625429  -4.92670293 ...,  -5.56101758  -4.03033852\n",
        "   -6.90976738]]"
       ]
      },
      {
       "output_type": "stream",
       "stream": "stdout",
       "text": [
        "\n",
        "[ 2.  2.  2.  2.]\n",
        "[[-2.45132542 -1.64023325 -1.85050932 ..., -2.12824042 -3.35384751\n",
        "  -2.59912475]\n",
        " [-8.48253817 -7.63102296 -6.75150711 ..., -5.35655394 -7.97284673\n",
        "  -7.79504025]\n",
        " [-8.21455259 -7.60807771 -9.23113964 ..., -5.78545691 -6.16419286\n",
        "  -5.60411655]\n",
        " [-2.54598322 -2.70213316 -1.82724445 ..., -2.4565652  -2.27323638\n",
        "  -2.22015353]\n",
        " [-4.75346411 -5.6047461  -3.92169052 ..., -3.70641499 -5.04008707\n",
        "  -5.61298591]\n",
        " [-6.1938459  -6.24093447 -6.83706827 ..., -5.00738641 -6.70321397\n",
        "  -7.4041775 ]]"
       ]
      },
      {
       "output_type": "stream",
       "stream": "stdout",
       "text": [
        "\n",
        "[ 2.  2.  2.  2.]\n",
        "[[ -0.98624775  -1.91863356  -2.46987787 ...,  -1.80116414  -2.44531022\n",
        "   -1.8072552 ]\n",
        " [ -3.37641032  -7.38476323  -7.79415449 ...,  -7.76336007  -8.57038598\n",
        "   -6.69333231]\n",
        " [ -9.34793703  -8.12129244  -7.04415968 ...,  -5.01660627  -8.93417728\n",
        "  -11.32622819]\n",
        " [ -1.33949535  -2.3132595   -1.98230505 ...,  -1.28233345  -2.2982035\n",
        "   -2.53627842]\n",
        " [ -6.25599151  -2.67290652  -6.91121104 ...,  -7.57425566  -4.23575439\n",
        "   -4.31450183]\n",
        " [ -4.74404852  -4.37360274  -6.44265753 ...,  -4.24989675  -5.05433914\n",
        "   -5.25977114]]"
       ]
      },
      {
       "output_type": "stream",
       "stream": "stdout",
       "text": [
        "\n",
        "[ 2.  2.  2.  2.]\n",
        "[[ -1.06224195  -1.9878744   -2.43586778 ...,  -1.90117717  -1.36831753\n",
        "   -2.19515934]\n",
        " [ -9.69538471  -7.43523992  -5.46540295 ...,  -6.99769534  -7.8560099\n",
        "  -10.63247779]\n",
        " [ -8.09550096  -5.71076237  -8.2023691  ..., -10.29420511  -9.82612341\n",
        "   -9.84952853]\n",
        " [ -2.20797658  -1.83801058  -1.27347792 ...,  -1.65079589  -2.13859053\n",
        "   -2.26496521]\n",
        " [ -5.69282113  -4.63742006  -6.65145374 ...,  -7.27324303  -5.41476727\n",
        "   -4.8772452 ]\n",
        " [ -6.41344856  -5.01930759  -6.77223595 ...,  -6.86801909  -3.82135189\n",
        "   -6.45041077]]"
       ]
      },
      {
       "output_type": "stream",
       "stream": "stdout",
       "text": [
        "\n",
        "[ 2.  2.  2.  2.]\n",
        "[[ -1.84992518  -1.99143362  -1.89473083 ...,  -2.33603094  -2.24010589\n",
        "   -1.52310589]\n",
        " [ -9.24834035  -6.42081444  -6.82678914 ...,  -5.52761968 -10.76422386\n",
        "   -8.69144266]\n",
        " [ -7.30658609  -7.4022659   -6.85835247 ...,  -5.07448957  -9.84039588\n",
        "   -5.99835875]\n",
        " [ -1.60864803  -1.47540583  -2.19346977 ...,  -2.11745201  -2.61729171\n",
        "   -2.38535366]\n",
        " [ -6.79782009  -5.76244003  -7.19023282 ...,  -8.03403997  -5.76093839\n",
        "   -5.99948564]\n",
        " [ -4.54840862  -5.68436096  -7.810836   ...,  -6.62363338  -6.19074808\n",
        "   -5.21717328]]"
       ]
      },
      {
       "output_type": "stream",
       "stream": "stdout",
       "text": [
        "\n",
        "[ 2.  2.  2.  2.]\n",
        "[[ -1.94649289  -1.88034364  -1.64790373 ...,  -1.85157914  -1.26093632\n",
        "   -1.21239488]\n",
        " [ -7.03226738  -8.3480201   -8.52412682 ...,  -6.29508427  -8.37177642\n",
        "   -7.11030349]\n",
        " [ -7.74389708  -6.52099135  -7.67280153 ...,  -8.05129209 -10.19435938\n",
        "   -7.76129367]\n",
        " [ -1.96513399  -1.52294697  -1.49805419 ...,  -1.3231316   -1.25935325\n",
        "   -1.57048438]\n",
        " [ -5.40489594  -7.81193449  -6.28547483 ...,  -9.74961572  -6.20933388\n",
        "   -5.23054503]\n",
        " [ -6.67125864  -7.78285861  -7.04047918 ...,  -6.67283874  -6.69207807\n",
        "   -4.70743175]]"
       ]
      },
      {
       "output_type": "stream",
       "stream": "stdout",
       "text": [
        "\n",
        "[ 2.  2.  2.  2.]\n",
        "[[-1.30810099 -2.0983935  -1.75354299 ..., -1.4850184  -2.2957411\n",
        "  -1.49567478]\n",
        " [-8.16294262 -7.77371277 -5.71855256 ..., -8.97994764 -6.27034923\n",
        "  -4.56479991]\n",
        " [-7.53263085 -8.17807321 -9.71539898 ..., -9.65595335 -9.58075328\n",
        "  -7.40266303]\n",
        " [-1.71846309 -1.33342995 -1.43807004 ..., -1.59054602 -1.38724157\n",
        "  -1.89156822]\n",
        " [-8.21000793 -7.31921383 -8.24208809 ..., -6.44891621 -5.26669703\n",
        "  -6.08203887]\n",
        " [-7.94170289 -8.31488718 -6.1956146  ..., -4.85968114 -8.38201883\n",
        "  -7.43380707]]"
       ]
      },
      {
       "output_type": "stream",
       "stream": "stdout",
       "text": [
        "\n",
        "[ 2.  2.  2.  2.]\n",
        "[[ -1.02954222  -1.54639568  -1.46173513 ...,  -1.10108684  -1.97828711\n",
        "   -1.69542677]\n",
        " [-11.24068003  -5.59077603  -6.4821718  ...,  -8.31789735  -9.75259844\n",
        "  -10.00070415]\n",
        " [-10.96543975  -9.69518663  -6.46215806 ...,  -8.89163034 -10.14604344\n",
        "   -6.95601417]\n",
        " [ -1.55926224  -1.56613952  -1.11180038 ...,  -1.48491821  -1.00653752\n",
        "   -1.07262642]\n",
        " [ -8.87549316  -5.6095918   -4.50462063 ...,  -8.90444998  -8.69097647\n",
        "   -5.91731196]\n",
        " [ -7.74990288  -7.53113668  -7.47557106 ...,  -6.68308241  -7.78120998\n",
        "   -7.97350675]]"
       ]
      },
      {
       "output_type": "stream",
       "stream": "stdout",
       "text": [
        "\n",
        "[ 2.  2.  2.  2.]\n",
        "[[ -0.94784635  -1.35667008  -1.00345501 ...,  -1.35524664  -1.46471696\n",
        "   -1.15442765]\n",
        " [ -4.79468189  -7.59561108 -10.4111781  ...,  -9.49989697  -9.98888129\n",
        "  -10.21098097]\n",
        " [ -7.32601029  -7.6776334   -9.70779694 ...,  -5.29660787 -11.34317173\n",
        "  -11.61591926]\n",
        " [ -1.46913493  -1.47775325  -1.52010203 ...,  -1.39439     -1.24604538\n",
        "   -1.52572557]\n",
        " [ -7.10250379  -8.60889681  -5.21381291 ...,  -7.58692155  -9.54467494\n",
        "   -8.14270396]\n",
        " [-10.01973186  -7.62517224  -8.64852769 ...,  -8.64602113 -10.92491959\n",
        "   -5.25676826]]"
       ]
      },
      {
       "output_type": "stream",
       "stream": "stdout",
       "text": [
        "\n",
        "[ 2.  2.  2.  2.]\n",
        "[[ -0.85667209  -1.16423134  -0.86022696 ...,  -1.42787929  -1.046882\n",
        "   -1.31484614]\n",
        " [-11.38381974 -11.27870435 -10.67125815 ..., -10.80870019 -10.27302493\n",
        "   -7.66102389]\n",
        " [ -6.60951371 -10.62347661  -8.73169547 ..., -10.24303946  -6.81533871\n",
        "   -5.04408078]\n",
        " [ -0.91593961  -1.00379787  -0.99580156 ...,  -1.39087138  -1.10269118\n",
        "   -1.06097735]\n",
        " [ -8.3495907   -9.00408291  -5.81919364 ..., -10.72634024  -7.45566279\n",
        "   -7.8094306 ]\n",
        " [ -8.85783936  -8.1889574   -8.26287712 ...,  -3.27733271  -9.16238377\n",
        "   -8.03151205]]"
       ]
      },
      {
       "output_type": "stream",
       "stream": "stdout",
       "text": [
        "\n",
        "[ 2.  2.  2.  2.]\n",
        "[[ -0.85823752  -1.03425628  -1.18682185 ...,  -1.42254842  -1.19654674\n",
        "   -0.95959393]\n",
        " [ -7.70106945  -6.24027219  -8.23200499 ...,  -6.29938074 -11.42557905\n",
        "   -7.94372306]\n",
        " [ -9.50619584 -11.73069413  -9.3130454  ...,  -7.63115141  -7.3433479\n",
        "  -10.49952398]\n",
        " [ -1.03626975  -1.40976205  -0.76884463 ...,  -1.37357191  -1.21718525\n",
        "   -1.04357349]\n",
        " [ -4.78570603  -8.66073599  -7.11229447 ...,  -6.42481351  -7.0175602\n",
        "   -7.56745382]\n",
        " [ -7.05984787  -7.9293786   -6.04170249 ...,  -7.81868711  -9.43469079\n",
        "   -8.75100431]]"
       ]
      },
      {
       "output_type": "stream",
       "stream": "stdout",
       "text": [
        "\n",
        "[ 2.  2.  2.  2.]\n",
        "[[ -0.94115029  -0.87881222  -1.02186502 ...,  -0.61385176  -1.11240913\n",
        "   -0.85821998]\n",
        " [ -9.29544146  -8.82451968  -8.77875884 ..., -11.87243243  -8.01079191\n",
        "  -11.51783117]\n",
        " [ -9.73703959  -9.74220054 -10.60924095 ...,  -8.94808329  -9.55946691\n",
        "   -9.73555862]\n",
        " [ -0.78584788  -0.89021609  -0.94107978 ...,  -1.09693288  -0.8203989\n",
        "   -0.70332985]\n",
        " [-10.56797056  -9.56416854  -7.23772916 ..., -12.06429565  -9.41579711\n",
        "  -11.00305413]\n",
        " [ -8.59635412  -7.28691168  -8.30374786 ...,  -9.22843129  -8.30786079\n",
        "   -7.95431653]]"
       ]
      },
      {
       "output_type": "stream",
       "stream": "stdout",
       "text": [
        "\n",
        "[ 2.  2.  2.  2.]\n",
        "[[ -0.65478733  -0.95666876  -0.51081766 ...,  -0.96195216  -0.90884723\n",
        "   -0.76807953]\n",
        " [-10.42974877  -8.76132309  -8.42073406 ...,  -8.79494641 -10.0225745\n",
        "   -6.45664525]\n",
        " [ -7.94876901  -7.1520521   -9.4458235  ...,  -7.2333673  -11.29143691\n",
        "   -8.70183164]\n",
        " [ -1.04404152  -0.71159236  -0.76486586 ...,  -0.7957079   -0.92986813\n",
        "   -0.89903384]\n",
        " [ -8.7299589   -9.24249172 -11.09431458 ...,  -8.92161777  -8.64655636\n",
        "   -8.88496491]\n",
        " [-10.75998647  -6.76018804  -7.15790132 ...,  -9.84713821  -4.10505508\n",
        "   -9.14794161]]"
       ]
      },
      {
       "output_type": "stream",
       "stream": "stdout",
       "text": [
        "\n",
        "[ 2.  2.  2.  2.]\n",
        "[[ -0.71399872  -0.55123257  -0.73249501 ...,  -0.59304437  -0.45988255\n",
        "   -0.30434558]\n",
        " [-11.44589207 -10.38157542 -12.36045516 ..., -10.10854188  -6.63972753\n",
        "   -8.31419828]\n",
        " [ -7.64741799  -9.48381406 -10.11649119 ..., -10.00711071 -12.55843507\n",
        "   -8.02004854]\n",
        " [ -0.59103696  -0.45907102  -0.74188556 ...,  -0.66962022  -0.49280504\n",
        "   -0.64023008]\n",
        " [ -5.2184488  -10.58114187  -6.40740667 ...,  -7.27758596 -10.89682323\n",
        "   -6.00626387]\n",
        " [-10.26259823  -4.82220316  -6.23644815 ..., -11.66819188  -8.05431488\n",
        "   -6.14885476]]"
       ]
      },
      {
       "output_type": "stream",
       "stream": "stdout",
       "text": [
        "\n",
        "[ 2.  2.  2.  2.]\n",
        "[[ -0.45317736  -0.49743213  -0.37831875 ...,  -0.44080792  -0.49699949\n",
        "   -0.45945623]\n",
        " [ -7.33049482  -7.51840033 -10.81948414 ...,  -7.77168929 -12.02876122\n",
        "   -9.90644309]\n",
        " [ -9.22222422  -8.69020115 -12.65676857 ..., -10.33450946  -8.72872216\n",
        "   -8.42973816]\n",
        " [ -0.50123685  -0.40144327  -0.31447143 ...,  -0.41465199  -0.35358975\n",
        "   -0.34046864]\n",
        " [ -9.19770247  -9.24933783  -9.98579189 ...,  -9.01208806  -6.701455\n",
        "   -7.08896672]\n",
        " [-10.44694293  -9.30875728 -10.79769256 ...,  -7.18892528  -9.5837537\n",
        "   -5.55185082]]"
       ]
      },
      {
       "output_type": "stream",
       "stream": "stdout",
       "text": [
        "\n",
        "[ 2.  2.  2.  2.]\n",
        "[[ -0.23157401  -0.20547707  -0.23285484 ...,  -0.29003147  -0.25534241\n",
        "   -0.2604977 ]\n",
        " [ -9.58092767 -10.56724552 -10.78329995 ...,  -8.67283179 -10.00968245\n",
        "   -9.22218023]\n",
        " [ -7.75996162  -8.48503274  -9.19486785 ...,  -8.69630941 -11.88904426\n",
        "  -10.08737273]\n",
        " [ -0.26346225  -0.2181897   -0.17425498 ...,  -0.37493599  -0.26444288\n",
        "   -0.26925012]\n",
        " [-11.08225645  -7.44181694  -8.40122052 ..., -10.64706672  -9.91021036\n",
        "   -7.15614391]\n",
        " [ -9.72492587  -7.87007409 -10.12086324 ...,  -9.96454665  -7.4297718\n",
        "   -8.83371952]]"
       ]
      },
      {
       "output_type": "stream",
       "stream": "stdout",
       "text": [
        "\n",
        "[ 2.  2.  2.  2.]\n",
        "[[ -0.15006135  -0.19657666  -0.13553926 ...,  -0.1618313   -0.18304578\n",
        "   -0.13704575]\n",
        " [ -9.65281669 -11.0358782   -6.94190392 ...,  -9.21642307  -9.66333178\n",
        "  -10.33499305]\n",
        " [ -6.83543717  -7.39117943  -9.06611064 ..., -10.70043517  -9.91668587\n",
        "   -9.37764012]\n",
        " [ -0.11723272  -0.15596353  -0.16157139 ...,  -0.13170214  -0.13848556\n",
        "   -0.15385977]\n",
        " [-11.43509918  -9.67797872 -14.04627491 ...,  -4.98998825 -13.70479183\n",
        "  -11.30060714]\n",
        " [-11.5712451  -11.78843424  -8.53745968 ...,  -7.2822332   -9.25380449\n",
        "   -8.44287907]]"
       ]
      },
      {
       "output_type": "stream",
       "stream": "stdout",
       "text": [
        "\n",
        "[ 2.  2.  2.  2.]\n",
        "[[ -0.          -0.          -0.         ...,  -0.          -0.          -0.        ]\n",
        " [-12.83554882 -10.91241142 -10.78781505 ...,  -2.67234238 -11.54406728\n",
        "   -9.82606568]\n",
        " [ -9.23330297 -11.42186775 -10.24348874 ..., -11.77630662  -7.12671285\n",
        "   -7.60862716]\n",
        " [ -0.          -0.          -0.         ...,  -0.          -0.          -0.        ]\n",
        " [ -8.27515235 -10.41456973 -11.32775072 ...,  -6.89856117 -10.88906722\n",
        "   -8.5446043 ]\n",
        " [ -9.74196612  -7.59835525 -11.79385296 ..., -10.77338727  -9.81713775\n",
        "  -10.52315654]]"
       ]
      },
      {
       "output_type": "stream",
       "stream": "stdout",
       "text": [
        "\n"
       ]
      },
      {
       "output_type": "stream",
       "stream": "stderr",
       "text": [
        "-c:25: RuntimeWarning: divide by zero encountered in double_scalars\n",
        "-c:38: RuntimeWarning: invalid value encountered in divide\n"
       ]
      },
      {
       "ename": "NameError",
       "evalue": "name 'CNL' is not defined",
       "output_type": "pyerr",
       "traceback": [
        "\u001b[0;31m---------------------------------------------------------------------------\u001b[0m\n\u001b[0;31mNameError\u001b[0m                                 Traceback (most recent call last)",
        "\u001b[0;32m<ipython-input-22-22d47586dc8c>\u001b[0m in \u001b[0;36m<module>\u001b[0;34m()\u001b[0m\n\u001b[1;32m     19\u001b[0m \u001b[0mplot\u001b[0m\u001b[0;34m(\u001b[0m\u001b[0mb\u001b[0m\u001b[0;34m,\u001b[0m\u001b[0;34m[\u001b[0m\u001b[0mCLogit\u001b[0m\u001b[0;34m(\u001b[0m\u001b[0mi\u001b[0m\u001b[0;34m,\u001b[0m\u001b[0;36m2\u001b[0m\u001b[0;34m,\u001b[0m\u001b[0;36m1\u001b[0m\u001b[0;34m,\u001b[0m\u001b[0mPS_7\u001b[0m\u001b[0;34m)\u001b[0m \u001b[0;32mfor\u001b[0m \u001b[0mi\u001b[0m \u001b[0;32min\u001b[0m \u001b[0mb\u001b[0m\u001b[0;34m]\u001b[0m\u001b[0;34m,\u001b[0m\u001b[0mlabel\u001b[0m\u001b[0;34m=\u001b[0m\u001b[0;34m'PathSize'\u001b[0m\u001b[0;34m)\u001b[0m\u001b[0;34m\u001b[0m\u001b[0m\n\u001b[1;32m     20\u001b[0m \u001b[0mplot\u001b[0m\u001b[0;34m(\u001b[0m\u001b[0mb\u001b[0m\u001b[0;34m,\u001b[0m\u001b[0;34m[\u001b[0m\u001b[0mCLogit\u001b[0m\u001b[0;34m(\u001b[0m\u001b[0mi\u001b[0m\u001b[0;34m,\u001b[0m\u001b[0;36m2\u001b[0m\u001b[0;34m,\u001b[0m\u001b[0;36m1\u001b[0m\u001b[0;34m,\u001b[0m\u001b[0mPathSizeCorrection\u001b[0m\u001b[0;34m)\u001b[0m \u001b[0;32mfor\u001b[0m \u001b[0mi\u001b[0m \u001b[0;32min\u001b[0m \u001b[0mb\u001b[0m\u001b[0;34m]\u001b[0m\u001b[0;34m,\u001b[0m\u001b[0mlabel\u001b[0m\u001b[0;34m=\u001b[0m\u001b[0;34m'PSC'\u001b[0m\u001b[0;34m)\u001b[0m\u001b[0;34m\u001b[0m\u001b[0m\n\u001b[0;32m---> 21\u001b[0;31m \u001b[0mplot\u001b[0m\u001b[0;34m(\u001b[0m\u001b[0mb\u001b[0m\u001b[0;34m,\u001b[0m\u001b[0;34m[\u001b[0m\u001b[0mCNL\u001b[0m\u001b[0;34m(\u001b[0m\u001b[0mi\u001b[0m\u001b[0;34m,\u001b[0m\u001b[0;36m2\u001b[0m\u001b[0;34m,\u001b[0m\u001b[0;36m0.1\u001b[0m\u001b[0;34m)\u001b[0m \u001b[0;32mfor\u001b[0m \u001b[0mi\u001b[0m \u001b[0;32min\u001b[0m \u001b[0mb\u001b[0m\u001b[0;34m]\u001b[0m\u001b[0;34m,\u001b[0m\u001b[0mlabel\u001b[0m\u001b[0;34m=\u001b[0m\u001b[0;34m'CNL 0,1'\u001b[0m\u001b[0;34m)\u001b[0m\u001b[0;34m\u001b[0m\u001b[0m\n\u001b[0m\u001b[1;32m     22\u001b[0m \u001b[0mplot\u001b[0m\u001b[0;34m(\u001b[0m\u001b[0mb\u001b[0m\u001b[0;34m,\u001b[0m\u001b[0;34m[\u001b[0m\u001b[0mCNL\u001b[0m\u001b[0;34m(\u001b[0m\u001b[0mi\u001b[0m\u001b[0;34m,\u001b[0m\u001b[0;36m2\u001b[0m\u001b[0;34m,\u001b[0m\u001b[0;36m0.5\u001b[0m\u001b[0;34m)\u001b[0m \u001b[0;32mfor\u001b[0m \u001b[0mi\u001b[0m \u001b[0;32min\u001b[0m \u001b[0mb\u001b[0m\u001b[0;34m]\u001b[0m\u001b[0;34m,\u001b[0m\u001b[0mlabel\u001b[0m\u001b[0;34m=\u001b[0m\u001b[0;34m'CNL 0,5'\u001b[0m\u001b[0;34m)\u001b[0m\u001b[0;34m\u001b[0m\u001b[0m\n\u001b[1;32m     23\u001b[0m \u001b[0mplot\u001b[0m\u001b[0;34m(\u001b[0m\u001b[0mb\u001b[0m\u001b[0;34m,\u001b[0m\u001b[0;34m[\u001b[0m\u001b[0mCNL\u001b[0m\u001b[0;34m(\u001b[0m\u001b[0mi\u001b[0m\u001b[0;34m,\u001b[0m\u001b[0;36m2\u001b[0m\u001b[0;34m,\u001b[0m\u001b[0;36m0.9\u001b[0m\u001b[0;34m)\u001b[0m \u001b[0;32mfor\u001b[0m \u001b[0mi\u001b[0m \u001b[0;32min\u001b[0m \u001b[0mb\u001b[0m\u001b[0;34m]\u001b[0m\u001b[0;34m,\u001b[0m\u001b[0mlabel\u001b[0m\u001b[0;34m=\u001b[0m\u001b[0;34m'CNL 0,9'\u001b[0m\u001b[0;34m)\u001b[0m\u001b[0;34m\u001b[0m\u001b[0m\n",
        "\u001b[0;31mNameError\u001b[0m: name 'CNL' is not defined"
       ]
      },
      {
       "metadata": {},
       "output_type": "display_data",
       "png": "[encoded data removed]",
       "text": [
        "<matplotlib.figure.Figure at 0x105ac7e90>"
       ]
      }
     ],
     "prompt_number": 22
    },
    {
     "cell_type": "code",
     "collapsed": false,
     "input": [
      "probit(0.2,links(5.1),routes)"
     ],
     "language": "python",
     "metadata": {},
     "outputs": [
      {
       "output_type": "stream",
       "stream": "stdout",
       "text": [
        "[ 2.  2.  2.  2.]\n",
        "[[-3.67535975 -4.32854692 -4.03992056 ..., -4.41187777 -4.40841485\n",
        "  -6.32089754]\n",
        " [-7.1881425  -3.62494412 -3.99470752 ..., -7.01488171 -5.37165421\n",
        "  -5.33467616]\n",
        " [-6.57128869 -5.77363687 -4.57148689 ..., -6.06104021 -6.30076143\n",
        "  -6.18220027]\n",
        " [-5.38965888 -4.00308565 -5.65113363 ..., -5.89937737 -5.15613517\n",
        "  -5.69891363]\n",
        " [-0.27335755 -0.20620015 -0.19210886 ..., -0.17084393 -0.21259781\n",
        "  -0.25152258]\n",
        " [-0.14371131 -0.20372033 -0.16667323 ..., -0.17162038 -0.19924766\n",
        "  -0.19725084]]"
       ]
      },
      {
       "output_type": "stream",
       "stream": "stdout",
       "text": [
        "\n"
       ]
      },
      {
       "metadata": {},
       "output_type": "pyout",
       "prompt_number": 27,
       "text": [
        "array([ 0.30197,  0.29868,  0.24967,  0.14968])"
       ]
      }
     ],
     "prompt_number": 27
    },
    {
     "cell_type": "code",
     "collapsed": false,
     "input": [],
     "language": "python",
     "metadata": {},
     "outputs": []
    }
   ],
   "metadata": {}
  }
 ]
}