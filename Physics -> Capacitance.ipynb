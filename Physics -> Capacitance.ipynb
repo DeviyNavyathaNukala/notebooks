{
 "metadata": {
  "name": ""
 },
 "nbformat": 3,
 "nbformat_minor": 0,
 "worksheets": [
  {
   "cells": [
    {
     "cell_type": "code",
     "collapsed": false,
     "input": [
      "%load_ext physics"
     ],
     "language": "python",
     "metadata": {},
     "outputs": [
      {
       "output_type": "stream",
       "stream": "stdout",
       "text": [
        "Unit calculation and physics extensions activated.\n"
       ]
      }
     ],
     "prompt_number": 2
    },
    {
     "cell_type": "markdown",
     "metadata": {},
     "source": [
      "Exercise 26.30 \n",
      "The immediate cause of many deaths is ventricular fibrillation, which is an uncoordinated quivering of the heart. An electric shock to the chest can cause momentary paralysis of the heart muscle, after which the heart sometimes resumes its proper beating. One type of defibrillator (chapter-opening photo, page 777) applies a strong electric shock to the chest over a time interval of a few milliseconds. This device contains a capacitor of several microfarads, charged to several thousand volts. Electrodes called paddles are held against the chest on both sides of the heart, and the capacitor is discharged through the patient\u2019s chest. Assume an energy of 300 J is to be delivered from a 30.0-mF capacitor. To what potential difference must it be charged?"
     ]
    },
    {
     "cell_type": "code",
     "collapsed": false,
     "input": [
      "E = 300 J"
     ],
     "language": "python",
     "metadata": {},
     "outputs": [],
     "prompt_number": 12
    },
    {
     "cell_type": "code",
     "collapsed": false,
     "input": [
      "C = 30E-6 F"
     ],
     "language": "python",
     "metadata": {},
     "outputs": [],
     "prompt_number": 14
    },
    {
     "cell_type": "code",
     "collapsed": false,
     "input": [
      "V = sqrt(E*2/C)\n",
      "V.convert('V')"
     ],
     "language": "python",
     "metadata": {},
     "outputs": [],
     "prompt_number": 18
    },
    {
     "cell_type": "code",
     "collapsed": false,
     "input": [
      "V"
     ],
     "language": "python",
     "metadata": {},
     "outputs": [
      {
       "metadata": {},
       "output_type": "pyout",
       "prompt_number": 19,
       "text": [
        "4472.136 V"
       ]
      }
     ],
     "prompt_number": 19
    },
    {
     "cell_type": "code",
     "collapsed": false,
     "input": [],
     "language": "python",
     "metadata": {},
     "outputs": []
    },
    {
     "cell_type": "markdown",
     "metadata": {},
     "source": [
      "Exercise 33. As a person moves about in a dry environment, electric charge accumulates on the person\u2019s body. Once it is at high voltage, either positive or negative, the body can discharge via sparks and shocks. Consider a human body isolated from ground, with the typical capacitance 150 pF. (a) What charge on the body will produce a potential of 10.0 kV? (b) Sensitive electronic devices can be destroyed by electrostatic discharge from a person. A particular device can be destroyed by a discharge releasing an energy of 250 mJ. To what voltage on the body does this situation correspond?"
     ]
    },
    {
     "cell_type": "code",
     "collapsed": false,
     "input": [
      "C = 150E-12 F"
     ],
     "language": "python",
     "metadata": {},
     "outputs": [],
     "prompt_number": 20
    },
    {
     "cell_type": "code",
     "collapsed": false,
     "input": [
      "V = 10 kV"
     ],
     "language": "python",
     "metadata": {},
     "outputs": [],
     "prompt_number": 21
    },
    {
     "cell_type": "code",
     "collapsed": false,
     "input": [
      "Q = C*V\n",
      "Q.convert('C')\n",
      "Q"
     ],
     "language": "python",
     "metadata": {},
     "outputs": [
      {
       "metadata": {},
       "output_type": "pyout",
       "prompt_number": 22,
       "text": [
        "1.5e-06 C"
       ]
      }
     ],
     "prompt_number": 22
    },
    {
     "cell_type": "markdown",
     "metadata": {},
     "source": [
      "Exercise 32. \n",
      "a) A 3.00 uF capacitor is connected to a 12.0-V battery.\n",
      "W How much energy is stored in the capacitor? (b) Had the capacitor been connected to a 6.00-V battery, how\n",
      "much energy would have been stored?"
     ]
    },
    {
     "cell_type": "code",
     "collapsed": false,
     "input": [
      "C = 3e-6 F"
     ],
     "language": "python",
     "metadata": {},
     "outputs": [],
     "prompt_number": 23
    },
    {
     "cell_type": "code",
     "collapsed": false,
     "input": [
      "V = 12 V"
     ],
     "language": "python",
     "metadata": {},
     "outputs": [],
     "prompt_number": 24
    },
    {
     "cell_type": "code",
     "collapsed": false,
     "input": [
      "E = (C*V**2)/2\n",
      "E.convert('J')\n",
      "E"
     ],
     "language": "python",
     "metadata": {},
     "outputs": [
      {
       "metadata": {},
       "output_type": "pyout",
       "prompt_number": 26,
       "text": [
        "0.000216 J"
       ]
      }
     ],
     "prompt_number": 26
    },
    {
     "cell_type": "markdown",
     "metadata": {},
     "source": [
      "Exercise 31.\n",
      "\n",
      "A 12.0-V battery is connected to a capacitor, resulting in 54.0 uC of charge stored on the capacitor. How much energy is stored in the capacitor?"
     ]
    },
    {
     "cell_type": "code",
     "collapsed": false,
     "input": [
      "Q = 54 muC"
     ],
     "language": "python",
     "metadata": {},
     "outputs": [],
     "prompt_number": 27
    },
    {
     "cell_type": "code",
     "collapsed": false,
     "input": [
      "V = 12 V"
     ],
     "language": "python",
     "metadata": {},
     "outputs": [],
     "prompt_number": 30
    },
    {
     "cell_type": "code",
     "collapsed": false,
     "input": [
      "E = 0.5 * (Q/V)*V**2\n",
      "E.convert('muJ')\n",
      "E"
     ],
     "language": "python",
     "metadata": {},
     "outputs": [
      {
       "metadata": {},
       "output_type": "pyout",
       "prompt_number": 37,
       "text": [
        "324 muJ"
       ]
      }
     ],
     "prompt_number": 37
    },
    {
     "cell_type": "markdown",
     "metadata": {},
     "source": [
      "Exercise 26.43\n",
      "\n",
      "(a) How much charge can be placed on a capacitor with air between the plates before it breaks down if the area of each plate is 5.00 cm2? (b) What If? Find the maximum charge if polystyrene is used between the plates\n",
      "instead of air."
     ]
    },
    {
     "cell_type": "code",
     "collapsed": false,
     "input": [
      "# Q = C*V = eps0*A/d*V \n",
      "# Vmax = Dielectric strength*d => d = Vmax/Dielectric strength\n",
      "#\n",
      "# Qmax = eps0*A/(Vmax/Dielectric strength)*Vmax = eps0*A*Dielectric strength"
     ],
     "language": "python",
     "metadata": {},
     "outputs": [],
     "prompt_number": 38
    },
    {
     "cell_type": "code",
     "collapsed": false,
     "input": [
      "A = 5 cm**2"
     ],
     "language": "python",
     "metadata": {},
     "outputs": [],
     "prompt_number": 6
    },
    {
     "cell_type": "code",
     "collapsed": false,
     "input": [
      "Dstrength = 3 MV/m"
     ],
     "language": "python",
     "metadata": {},
     "outputs": [],
     "prompt_number": 52
    },
    {
     "cell_type": "code",
     "collapsed": false,
     "input": [
      "Q = eps0*A*Dstrength\n",
      "Q.convert('nC')\n",
      "Q"
     ],
     "language": "python",
     "metadata": {},
     "outputs": [
      {
       "metadata": {},
       "output_type": "pyout",
       "prompt_number": 53,
       "text": [
        "13.281282 nC"
       ]
      }
     ],
     "prompt_number": 53
    },
    {
     "cell_type": "code",
     "collapsed": false,
     "input": [
      "Dstrength = 8 MV/m"
     ],
     "language": "python",
     "metadata": {},
     "outputs": [],
     "prompt_number": 3
    },
    {
     "cell_type": "code",
     "collapsed": false,
     "input": [
      "kappa = 233"
     ],
     "language": "python",
     "metadata": {},
     "outputs": [],
     "prompt_number": 4
    },
    {
     "cell_type": "code",
     "collapsed": false,
     "input": [
      "Q = kappa*eps0*A*Dstrength\n",
      "Q.convert('nC')\n",
      "Q"
     ],
     "language": "python",
     "metadata": {},
     "outputs": [
      {
       "metadata": {},
       "output_type": "pyout",
       "prompt_number": 7,
       "text": [
        "8252.103 nC"
       ]
      }
     ],
     "prompt_number": 7
    },
    {
     "cell_type": "markdown",
     "metadata": {},
     "source": [
      "Exercise 26.51.\n",
      "\n",
      "An infinite line of positive charge lies along the y axis, with charge density lambda = 2.00 muC/m. A dipole is placed with its center along the x axis at x = 25.0 cm. The dipole consists of two charges 10.0 muC separated by 2.00 cm. The axis of the dipole makes an angle of 35.0 degrees with the x axis, and the positive charge is farther from the line of charge than the negative charge. Find the net force exerted on the dipole."
     ]
    },
    {
     "cell_type": "code",
     "collapsed": false,
     "input": [
      "charge = 2 muC/m"
     ],
     "language": "python",
     "metadata": {},
     "outputs": [],
     "prompt_number": 9
    },
    {
     "cell_type": "code",
     "collapsed": false,
     "input": [
      "q = 10 muC"
     ],
     "language": "python",
     "metadata": {},
     "outputs": [],
     "prompt_number": 10
    },
    {
     "cell_type": "code",
     "collapsed": false,
     "input": [
      "E = lambda r: 2*charge/(4*pi*eps0)/r"
     ],
     "language": "python",
     "metadata": {},
     "outputs": [],
     "prompt_number": 11
    },
    {
     "cell_type": "code",
     "collapsed": false,
     "input": [
      "a = 1 cm"
     ],
     "language": "python",
     "metadata": {},
     "outputs": [],
     "prompt_number": 25
    },
    {
     "cell_type": "code",
     "collapsed": false,
     "input": [
      "x = 25 cm"
     ],
     "language": "python",
     "metadata": {},
     "outputs": [],
     "prompt_number": 34
    },
    {
     "cell_type": "code",
     "collapsed": false,
     "input": [
      "x_plus = a*cos(35./180*pi)+x\n",
      "x_minus = -a*cos(35./180*pi)+x\n",
      "print x_plus, x_minus"
     ],
     "language": "python",
     "metadata": {},
     "outputs": [
      {
       "output_type": "stream",
       "stream": "stdout",
       "text": [
        "25.819152 cm 24.180848 cm\n"
       ]
      }
     ],
     "prompt_number": 35
    },
    {
     "cell_type": "code",
     "collapsed": false,
     "input": [
      "F = q*(E(x_plus)-E(x_minus))"
     ],
     "language": "python",
     "metadata": {},
     "outputs": [],
     "prompt_number": 36
    },
    {
     "cell_type": "code",
     "collapsed": false,
     "input": [
      "F.convert('N')\n",
      "F"
     ],
     "language": "python",
     "metadata": {},
     "outputs": [
      {
       "metadata": {},
       "output_type": "pyout",
       "prompt_number": 37,
       "text": [
        "-0.094337076 N"
       ]
      }
     ],
     "prompt_number": 37
    },
    {
     "cell_type": "markdown",
     "metadata": {},
     "source": [
      "Exercise 26.50\n",
      "\n"
     ]
    },
    {
     "cell_type": "code",
     "collapsed": false,
     "input": [
      "q = 3.5 nC"
     ],
     "language": "python",
     "metadata": {},
     "outputs": [],
     "prompt_number": 96
    },
    {
     "cell_type": "code",
     "collapsed": false,
     "input": [
      "millim = 1 mm"
     ],
     "language": "python",
     "metadata": {},
     "outputs": [],
     "prompt_number": 97
    },
    {
     "cell_type": "code",
     "collapsed": false,
     "input": [
      "plus = array((-1.2,1.1,0))*millim\n",
      "minus = array((1.4,-1.3,0))*millim\n",
      "p_vector = plus-minus\n",
      "a = sqrt(p_vector[0]**2+p_vector[1]**2)/2"
     ],
     "language": "python",
     "metadata": {},
     "outputs": [],
     "prompt_number": 115
    },
    {
     "cell_type": "code",
     "collapsed": false,
     "input": [
      "p = 2*a*q\n",
      "p_vector*=q\n",
      "p_vector"
     ],
     "language": "python",
     "metadata": {},
     "outputs": [
      {
       "metadata": {},
       "output_type": "pyout",
       "prompt_number": 116,
       "text": [
        "array([-9.1 mm*nC, 8.4 mm*nC, 0 mm*nC], dtype=object)"
       ]
      }
     ],
     "prompt_number": 116
    },
    {
     "cell_type": "code",
     "collapsed": false,
     "input": [
      "E = array((7800,4900,0))"
     ],
     "language": "python",
     "metadata": {},
     "outputs": [],
     "prompt_number": 117
    },
    {
     "cell_type": "code",
     "collapsed": false,
     "input": [
      "Newton_coloumb = 1 N/C"
     ],
     "language": "python",
     "metadata": {},
     "outputs": [],
     "prompt_number": 118
    },
    {
     "cell_type": "code",
     "collapsed": false,
     "input": [
      "E = E*Newton_coloumb"
     ],
     "language": "python",
     "metadata": {},
     "outputs": [],
     "prompt_number": 119
    },
    {
     "cell_type": "code",
     "collapsed": false,
     "input": [
      "print p_vector,E"
     ],
     "language": "python",
     "metadata": {},
     "outputs": [
      {
       "output_type": "stream",
       "stream": "stdout",
       "text": [
        "[-9.1 mm*nC 8.4 mm*nC 0 mm*nC] [7800 N/C 4900 N/C 0 N/C]\n"
       ]
      }
     ],
     "prompt_number": 120
    },
    {
     "cell_type": "code",
     "collapsed": false,
     "input": [
      "tau=cross(p_vector,E)\n",
      "\n",
      "for i in tau:\n",
      "    i.convert('N*m')"
     ],
     "language": "python",
     "metadata": {},
     "outputs": [],
     "prompt_number": 121
    },
    {
     "cell_type": "code",
     "collapsed": false,
     "input": [
      "tau"
     ],
     "language": "python",
     "metadata": {},
     "outputs": [
      {
       "metadata": {},
       "output_type": "pyout",
       "prompt_number": 122,
       "text": [
        "array([0 m*N, 0 m*N, -1.1011e-07 m*N], dtype=object)"
       ]
      }
     ],
     "prompt_number": 122
    },
    {
     "cell_type": "code",
     "collapsed": false,
     "input": [
      "U = -1*dot(p_vector,E)\n",
      "U.convert('J')\n",
      "U"
     ],
     "language": "python",
     "metadata": {},
     "outputs": [
      {
       "metadata": {},
       "output_type": "pyout",
       "prompt_number": 124,
       "text": [
        "2.982e-08 J"
       ]
      }
     ],
     "prompt_number": 124
    },
    {
     "cell_type": "code",
     "collapsed": false,
     "input": [
      "max = p*sqrt(E[0]**2+E[1]**2)\n",
      "max.convert('J')\n",
      "max"
     ],
     "language": "python",
     "metadata": {},
     "outputs": [
      {
       "metadata": {},
       "output_type": "pyout",
       "prompt_number": 127,
       "text": [
        "1.1407649e-07 J"
       ]
      }
     ],
     "prompt_number": 127
    },
    {
     "cell_type": "code",
     "collapsed": false,
     "input": [],
     "language": "python",
     "metadata": {},
     "outputs": []
    }
   ],
   "metadata": {}
  }
 ]
}