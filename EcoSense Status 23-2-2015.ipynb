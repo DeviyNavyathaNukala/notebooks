{
 "cells": [
  {
   "cell_type": "markdown",
   "metadata": {
    "slideshow": {
     "slide_type": "slide"
    }
   },
   "source": [
    "# EcoSense Status"
   ]
  },
  {
   "cell_type": "markdown",
   "metadata": {},
   "source": [
    "Anders Lehmann \n",
    "\n",
    "\n",
    "23/2/2015"
   ]
  },
  {
   "cell_type": "markdown",
   "metadata": {
    "slideshow": {
     "slide_type": "slide"
    }
   },
   "source": [
    "# What has been done?"
   ]
  },
  {
   "cell_type": "markdown",
   "metadata": {},
   "source": [
    "\n",
    "  - Simple Emission model (derived from COPERT IV and Climate gas inventories\n",
    "  - Modelling of pollution in Street Canyon (OSPM)\n",
    "  - Experiment to get data for more advanced model\n",
    "  \n",
    "  \n",
    "<img  style=\"float:left\" src=\"idle_henrik.png\" />    \n",
    "\n",
    "\n",
    "\n",
    "\n",
    "\n",
    "    "
   ]
  },
  {
   "cell_type": "markdown",
   "metadata": {
    "slideshow": {
     "slide_type": "slide"
    }
   },
   "source": [
    "# Emision model"
   ]
  },
  {
   "cell_type": "markdown",
   "metadata": {
    "slideshow": {
     "slide_type": "-"
    }
   },
   "source": [
    "- Running emission\n",
    "- idle emission\n",
    "\n",
    "<img style=\"float:left\" src=\"emission_vs_speed.png\" />\n",
    "\n",
    "\n"
   ]
  },
  {
   "cell_type": "markdown",
   "metadata": {
    "slideshow": {
     "slide_type": "slide"
    }
   },
   "source": [
    "# Pollution model"
   ]
  },
  {
   "cell_type": "markdown",
   "metadata": {
    "slideshow": {
     "slide_type": "-"
    }
   },
   "source": [
    "\n",
    "\n",
    "<img  src=\"scales.png\" />    \n",
    "\n"
   ]
  },
  {
   "cell_type": "markdown",
   "metadata": {
    "slideshow": {
     "slide_type": "slide"
    }
   },
   "source": [
    "# Status"
   ]
  },
  {
   "cell_type": "markdown",
   "metadata": {},
   "source": [
    "- Currenly working on Advanced model\n",
    "    - Different driving styles\n",
    "    - accurate measurement of consumption\n",
    "- Combine trips into localized Emission inventory\n",
    "\n",
    "<img src=\"speed_2014-10-28_20-13-33.csv.png\" style=\"float:left\" width=\"45%\"/>\n",
    "<img src=\"accel_2014-10-28_20-13-33.csv.png\" width=\"45%\" />"
   ]
  },
  {
   "cell_type": "markdown",
   "metadata": {
    "slideshow": {
     "slide_type": "slide"
    }
   },
   "source": [
    "# Preliminary result"
   ]
  },
  {
   "cell_type": "markdown",
   "metadata": {},
   "source": [
    "- Aggressive driving saves gas!\n",
    "    - Needs more tests to confirm\n",
    "    - Can be due to the driving cycle chosen"
   ]
  },
  {
   "cell_type": "markdown",
   "metadata": {
    "slideshow": {
     "slide_type": "slide"
    }
   },
   "source": [
    "# Plan for the future"
   ]
  },
  {
   "cell_type": "markdown",
   "metadata": {},
   "source": [
    "- Finish advanced model (Spring 15)\n",
    "    - include experiments with OBD2 device \n",
    "- Combine emission model with Trafic Model (Summer 15)\n",
    "    - experiment with Aarhus as a case\n",
    "    - experiment with (part of) Istanbul as case (stay abroad in Istanbul)\n",
    "    \n",
    "<img  style=\"float:left\" src=\"traffic_jam_istanbul.jpg\" width =\"50%\"/>\n",
    "    "
   ]
  },
  {
   "cell_type": "markdown",
   "metadata": {
    "slideshow": {
     "slide_type": "slide"
    }
   },
   "source": [
    "# Questions"
   ]
  },
  {
   "cell_type": "code",
   "execution_count": null,
   "metadata": {
    "collapsed": true
   },
   "outputs": [],
   "source": []
  }
 ],
 "metadata": {
  "celltoolbar": "Slideshow",
  "kernelspec": {
   "display_name": "Python 2",
   "language": "python",
   "name": "python2"
  },
  "language_info": {
   "codemirror_mode": {
    "name": "ipython",
    "version": 2
   },
   "file_extension": ".py",
   "mimetype": "text/x-python",
   "name": "python",
   "nbconvert_exporter": "python",
   "pygments_lexer": "ipython2",
   "version": "2.7.9"
  }
 },
 "nbformat": 4,
 "nbformat_minor": 0
}
