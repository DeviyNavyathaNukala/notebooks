{
 "cells": [
  {
   "cell_type": "markdown",
   "metadata": {},
   "source": [
    "# Experiments with RSUE (Istanbul and Aarhus)"
   ]
  },
  {
   "cell_type": "code",
   "execution_count": 3,
   "metadata": {
    "collapsed": false
   },
   "outputs": [
    {
     "name": "stdout",
     "output_type": "stream",
     "text": [
      "Populating the interactive namespace from numpy and matplotlib\n"
     ]
    }
   ],
   "source": [
    "%pylab inline"
   ]
  },
  {
   "cell_type": "markdown",
   "metadata": {},
   "source": [
    "#### Prepare the database"
   ]
  },
  {
   "cell_type": "code",
   "execution_count": 4,
   "metadata": {
    "collapsed": false
   },
   "outputs": [],
   "source": [
    "import psycopg2 as pg2\n",
    "con = {'host':'127.0.0.1','port':5432,'db':'osm_po','user':'postgres'}\n"
   ]
  },
  {
   "cell_type": "code",
   "execution_count": 101,
   "metadata": {
    "collapsed": false
   },
   "outputs": [
    {
     "name": "stdout",
     "output_type": "stream",
     "text": [
      "/Users/alehmann/projects/Istanbul_2015\n"
     ]
    }
   ],
   "source": [
    "cd ~/projects/Istanbul_2015/"
   ]
  },
  {
   "cell_type": "code",
   "execution_count": 102,
   "metadata": {
    "collapsed": false
   },
   "outputs": [
    {
     "name": "stdout",
     "output_type": "stream",
     "text": [
      "https://s3.amazonaws.com/metro-extracts.mapzen.com/istanbul_turkey.osm.pbf\n",
      "--2015-06-29 13:46:27--  https://s3.amazonaws.com/metro-extracts.mapzen.com/istanbul_turkey.osm.pbf\n",
      "Resolving s3.amazonaws.com... 54.231.8.160\n",
      "Connecting to s3.amazonaws.com|54.231.8.160|:443... connected.\n",
      "HTTP request sent, awaiting response... 200 OK\n",
      "Length: 8871418 (8.5M) [binary/octet-stream]\n",
      "Saving to: '/Users/alehmann/Downloads/istanbul_turkey.osm.pbf'\n",
      "\n",
      "istanbul_turkey.osm 100%[=====================>]   8.46M  1.29MB/s   in 7.5s   \n",
      "\n",
      "2015-06-29 13:46:35 (1.13 MB/s) - '/Users/alehmann/Downloads/istanbul_turkey.osm.pbf' saved [8871418/8871418]\n",
      "\n",
      "psql: option requires an argument -- f\n",
      "Try \"psql --help\" for more information.\n",
      "https://s3.amazonaws.com/metro-extracts.mapzen.com/aarhus_denmark.osm.pbf\n",
      "--2015-06-29 13:46:43--  https://s3.amazonaws.com/metro-extracts.mapzen.com/aarhus_denmark.osm.pbf\n",
      "Resolving s3.amazonaws.com... 54.231.8.160\n",
      "Connecting to s3.amazonaws.com|54.231.8.160|:443... connected.\n",
      "HTTP request sent, awaiting response... 200 OK\n",
      "Length: 4882567 (4.7M) [binary/octet-stream]\n",
      "Saving to: '/Users/alehmann/Downloads/aarhus_denmark.osm.pbf'\n",
      "\n",
      "aarhus_denmark.osm. 100%[=====================>]   4.66M  1.90MB/s   in 2.4s   \n",
      "\n",
      "2015-06-29 13:46:46 (1.90 MB/s) - '/Users/alehmann/Downloads/aarhus_denmark.osm.pbf' saved [4882567/4882567]\n",
      "\n",
      "psql: option requires an argument -- f\n",
      "Try \"psql --help\" for more information.\n"
     ]
    }
   ],
   "source": [
    "cities = {\n",
    "          'AAR':'https://s3.amazonaws.com/metro-extracts.mapzen.com/aarhus_denmark.osm.pbf',\n",
    "          'IST': 'https://s3.amazonaws.com/metro-extracts.mapzen.com/istanbul_turkey.osm.pbf'\n",
    "}\n",
    "\n",
    "def osm2csv(table):\n",
    "    !psql -U postgres postgres://$host:$port/osm_po -o $table -c \"SELECT * FROM $table;\"\n",
    "\n",
    "#osm2csv('ist_2po_4pgr')            \n",
    "\n",
    "\n",
    "for city in cities:\n",
    "#Get OSM data\n",
    "    url = cities[city]\n",
    "    print url\n",
    "    !wget $url -P ~/Downloads\n",
    "    path = '/Users/alehmann/Downloads/'+url.split('/')[-1]\n",
    "    res = !java -jar osm2po-core-5.0.0-signed.jar cmd=tjsp prefix=$city $path\n",
    "    sql_file = res[-2].split()[-1]\n",
    "    \n",
    "    !psql -U postgres postgres://$host:$port/osm_po -f $sql_file\n",
    "    #psql -Upostgres -l postgres://46.101.171.24:6432/osm_po \n",
    "    #-o ist_1306.csv -c \"SELECT * FROM ist13062015_2po_4gr\"\n",
    "    !rm $path"
   ]
  },
  {
   "cell_type": "code",
   "execution_count": 3,
   "metadata": {
    "collapsed": false
   },
   "outputs": [],
   "source": [
    "\n",
    "def get(db, query):\n",
    "    cur = db.cursor()\n",
    "    cur.execute(query)\n",
    "    return cur.fetchall()\n",
    "\n",
    "def set1(db, query,data):\n",
    "    cur = db.cursor()\n",
    "    cur.execute(query,data)\n",
    "    return cur.fetchall()\n",
    "\n",
    "def setM(db, query,data):\n",
    "    cur = db.cursor()\n",
    "    cur.executemany(query,data)\n",
    "    return cur.fetchall()\n"
   ]
  },
  {
   "cell_type": "code",
   "execution_count": 2,
   "metadata": {
    "collapsed": false
   },
   "outputs": [],
   "source": [
    "temp_table ='ist_temp'\n",
    "\n",
    "def drop_tables(cur,temp_table):\n",
    "    cur.execute(\"DROP TABLE path2link;\")\n",
    "    cur.execute(\"DROP TABLE od_matrix;\")\n",
    "    cur.execute(\"DROP TABLE od_path;\")\n",
    "    cur.execute(\"DROP TABLE {};\".format(temp_table))\n",
    "\n",
    "def create_tables(db,table,temp_table):\n",
    "    # Create a copy of the main edge table\n",
    "    copy_table = \"DROP TABLE IF EXISTS {0} CASCADE;\\\n",
    "        CREATE TABLE {0} as SELECT * from {1};\".format(temp_table,table)\n",
    "    # Add capacity,flow,flow dependent cost primary key and indeces\n",
    "    capacity = \"ALTER table {} add column capacity integer DEFAULT 2800;\\\n",
    "                \".format(temp_table)\n",
    "    flow = \"ALTER table {} add column flow double precision DEFAULT 0;\".format(temp_table)\n",
    "    flowcost = \"ALTER table {0} add column dyncost double precision ;\\\n",
    "                update {0} set dyncost = cost;\\\n",
    "                \".format(temp_table)\n",
    "    pkey = \"alter table {0} add constraint pkey_ist_temp PRIMARY KEY (id);\\\n",
    "            CREATE INDEX idx_{0}_source ON {0}\\\n",
    "              USING btree (source);\\\n",
    "            CREATE INDEX idx_{0}_target ON {0}\\\n",
    "              USING btree (target);\".format(temp_table)\n",
    "    # The table that contains the considered OD paths\n",
    "    # For each OD pair multiple path can occur as congestion manifests itself\n",
    "    # the (transformed) cost and the flow is update during the algorithm\n",
    "    od_table = \"DROP TABLE IF EXISTS od_matrix CASCADE;\\\n",
    "                CREATE TABLE od_matrix (id serial PRIMARY key, \\\n",
    "                        origin integer,\\\n",
    "                        destination integer,\\\n",
    "                        demand integer);\".format(temp_table)\n",
    "\n",
    "    path_table = \"DROP TABLE IF EXISTS od_path CASCADE;\\\n",
    "                    CREATE TABLE od_path (id serial PRIMARY key,\\\n",
    "                    od integer references od_matrix (id),\\\n",
    "                    hash bytea UNIQUE,\\\n",
    "                    cost float, flow float );\"\n",
    "    # The link for many to many relationships.\n",
    "    # Each link can occur in multiple paths and each path contains multiple links\n",
    "    path2link = \"\"\"DROP TABLE IF EXISTS path2link CASCADE;\n",
    "                    CREATE TABLE path2link (\n",
    "                    pathid integer references od_path (id), \n",
    "                    link_id integer references {} (id));\n",
    "                   \"\"\".format(temp_table)\n",
    "    constants = \"drop table if exists constants;\\\n",
    "                    create table constants ( alfa float, \\\n",
    "                    beta float DEFAULT 4, theta float, beta_ps float);\\\n",
    "                    insert into constants values (0.5,4,0.1,-8.5);\"\n",
    "\n",
    "    sql_create = [copy_table,capacity,flow,flowcost,pkey,od_table,\n",
    "                  path_table,path2link,constants]\n",
    "    if 1:\n",
    "        command = '\\n'.join(sql_create)\n",
    "#    for command in sql_create:\n",
    "        cur = db.cursor()\n",
    "        print command\n",
    "        cur.execute(command)\n",
    "        db.commit()\n",
    "\n",
    "\n",
    "def od_matrix(db,data):\n",
    "    # The Origin Destination table. A static table with the demand data\n",
    "    \n",
    "    insert = \"INSERT INTO od_matrix (origin,destination,demand) VALUES (%s,%s,%s)\"\n",
    "    cur = db.cursor()\n",
    "    cur.executemany(insert,data)\n",
    "    db.commit()\n",
    "\n",
    "def od_path(db):\n",
    "    populate = \"INSERT INTO od_path (source,destination,cost,flow) VALUES (%s,%s,%s,%s)\"\n",
    "    \n",
    "    cur = db.cursor()\n",
    "    cur.execute(\"SELECT origin,destination,0,demand FROM od_matrix;\")\n",
    "    vals = cur.fetchall()\n",
    "    print vals\n",
    "    cur.executemany(populate,vals)\n",
    "    \n",
    "def getODpairs(db):\n",
    "    cur = db.cursor()\n",
    "    cur.execute(\"select origin,array_agg(id),array_agg(destination),\\\n",
    "                    array_agg(demand) from od_matrix group by origin;\")\n",
    "    res = cur.fetchall()\n",
    "    return res\n",
    "\n",
    "def orderPath(db):\n",
    "    cur = db.cursor()\n",
    "    cur.execute(\"select * from path2link order by costXXX\")\n",
    "    return cur.fetchall()\n",
    "\n",
    "    find_path_end = \"drop table if exists endpoint; \\\n",
    "                    create table endpoint \\\n",
    "                    (id serial, begin integer,endpoint integer);\\\n",
    "                    insert into endpoint(begin,endpoint) \\\n",
    "                    select 0,seq from temp where id3=-1 limit 1;\\\n",
    "                    drop table if exists temp_point;\\\n",
    "                    create table temp_point\\\n",
    "                    (id serial, begin integer,endpoint integer);\\\n",
    "                    insert into temp_point (begin,endpoint) \\\n",
    "                    select 0,seq from temp where id3=-1;\\\n",
    "                    insert into endpoint (begin,endpoint)\\\n",
    "                    Select t1.endpoint+1,t2.endpoint from temp_point t1 \\\n",
    "                    join temp_point t2 on t2.id =t1.id+1;\\\n",
    "                    drop table if exists cost_of_new_path;\\\n",
    "                    create table cost_of_new_path as\\\n",
    "                    select {} as source,id1 as target,sum(cost) as cost from temp inner join\\\n",
    "                    endpoint as end1 on \\\n",
    "                    temp.seq>end1.begin and temp.seq<end1.endpoint \\\n",
    "                    group by id1;\".format(source)\n",
    "\n"
   ]
  },
  {
   "cell_type": "code",
   "execution_count": 5,
   "metadata": {
    "collapsed": false
   },
   "outputs": [
    {
     "ename": "NameError",
     "evalue": "name 'pg2' is not defined",
     "output_type": "error",
     "traceback": [
      "\u001b[0;31m---------------------------------------------------------------------------\u001b[0m",
      "\u001b[0;31mNameError\u001b[0m                                 Traceback (most recent call last)",
      "\u001b[0;32m<ipython-input-5-a8833661c4e9>\u001b[0m in \u001b[0;36m<module>\u001b[0;34m()\u001b[0m\n\u001b[0;32m----> 1\u001b[0;31m \u001b[0mdb\u001b[0m \u001b[0;34m=\u001b[0m \u001b[0mpg2\u001b[0m\u001b[0;34m.\u001b[0m\u001b[0mconnect\u001b[0m\u001b[0;34m(\u001b[0m\u001b[0;34m'postgres://{user}@{host}:{port}/{db}'\u001b[0m\u001b[0;34m.\u001b[0m\u001b[0mformat\u001b[0m\u001b[0;34m(\u001b[0m\u001b[0;34m**\u001b[0m\u001b[0mcon\u001b[0m\u001b[0;34m)\u001b[0m\u001b[0;34m)\u001b[0m\u001b[0;34m\u001b[0m\u001b[0m\n\u001b[0m\u001b[1;32m      2\u001b[0m \u001b[0mget_ipython\u001b[0m\u001b[0;34m(\u001b[0m\u001b[0;34m)\u001b[0m\u001b[0;34m.\u001b[0m\u001b[0mmagic\u001b[0m\u001b[0;34m(\u001b[0m\u001b[0;34mu\"time create_tables(db,'ist_2po_4pgr','ist_temp')\"\u001b[0m\u001b[0;34m)\u001b[0m\u001b[0;34m\u001b[0m\u001b[0m\n\u001b[1;32m      3\u001b[0m data2 = [(173656, 187633, 400),\n\u001b[1;32m      4\u001b[0m  \u001b[0;34m(\u001b[0m\u001b[0;36m173656\u001b[0m\u001b[0;34m,\u001b[0m \u001b[0;36m132750\u001b[0m\u001b[0;34m,\u001b[0m \u001b[0;36m900\u001b[0m\u001b[0;34m)\u001b[0m\u001b[0;34m,\u001b[0m\u001b[0;34m\u001b[0m\u001b[0m\n\u001b[1;32m      5\u001b[0m  \u001b[0;34m(\u001b[0m\u001b[0;36m173656\u001b[0m\u001b[0;34m,\u001b[0m \u001b[0;36m50429\u001b[0m\u001b[0;34m,\u001b[0m \u001b[0;36m810\u001b[0m\u001b[0;34m)\u001b[0m\u001b[0;34m,\u001b[0m\u001b[0;34m\u001b[0m\u001b[0m\n",
      "\u001b[0;31mNameError\u001b[0m: name 'pg2' is not defined"
     ]
    }
   ],
   "source": [
    "db = pg2.connect('postgres://{user}@{host}:{port}/{db}'.format(**con))\n",
    "%time create_tables(db,'ist_2po_4pgr','ist_temp')\n",
    "data2 = [(173656, 187633, 400),\n",
    " (173656, 132750, 900),\n",
    " (173656, 50429, 810),\n",
    " (173656, 4783, 220),\n",
    " (173656, 2281, 230),\n",
    " (173656, 2761, 240),\n",
    " (187633,173656,1850),\n",
    " (187633,2761,1860)]\n",
    "od_matrix(db,data2)\n",
    "\n",
    "db.commit()\n",
    "ods = getODpairs(db)\n",
    "print ods"
   ]
  },
  {
   "cell_type": "code",
   "execution_count": 362,
   "metadata": {
    "collapsed": false
   },
   "outputs": [],
   "source": [
    "import time\n",
    "\n",
    "def get_K_routes(db,table,source,dest,demand,direct=False,reverse=False):\n",
    "    pg_kdijkstra = (\"\"\"pgr_kdijkstrapath('SELECT id, source,\n",
    "                target, dyncost as cost, x1, y1, x2, y2 \n",
    "               from {table}',{source},array{dest},{direct},{reverse})\"\"\".\n",
    "                    format(table=table, source=source,\n",
    "                           dest=dest,direct=direct,reverse=reverse))\n",
    "    route = \"\"\"DROP TABLE IF EXISTS temp;\n",
    "            CREATE TABLE temp AS SELECT {} as source,* \\\n",
    "            FROM {}\"\"\".format(source,pg_kdijkstra)\n",
    "    \n",
    "    path_cost_dijk = \"drop table if exists new_paths_costs;\\\n",
    "                        create table new_paths_costs select {} as source,id1 as target,sum(cost) as cost \\\n",
    "                        from temp group by id1;\".format(source)\n",
    "                \n",
    "    od_path_min = \"drop table if exists min_od_costs;\\\n",
    "                    create table min_od_costs as select od,min(cost) from od_path group by od;\"\n",
    "    \n",
    "    md5=\"drop table if exists md5oflinks; \\\n",
    "            create table md5oflinks as \\\n",
    "            select id1,digest((string_agg(\\\n",
    "            to_char(id3,'999999'),'')),'md5') as hash\\\n",
    "            from temp group by id1;\"\n",
    "\n",
    "    #get_viable_path = \"select od from (select id as od, cost from new_paths_costs join od_matrix on\\\n",
    "    #                origin=source and destination=target), min_od_costs where cost<min_od_costs.cost;\"\n",
    "    \n",
    "    get_path_if_cheaper\"drop table if exists cheaper_path;\\\n",
    "                            create table cheaper_path as select newp.od,newp.origin,\\\n",
    "                            newp.destination,0 as cost,newp.demand,min_od_costs.min from \\\n",
    "                            (select id as od, cost,origin,destination,demand from \\\n",
    "                            new_paths_costs join od_matrix on origin=source and destination=target)\\\n",
    "                            as newp join min_od_costs on newp.od=min_od_costs.od\\\n",
    "                            where newp.cost<=min_od_costs.min;\"\n",
    "    \n",
    "    odpairs = \"DROP TABLE IF EXISTS odpairs_for_source;\\\n",
    "            create table odpairs_for_source as \\\n",
    "            select od_matrix.id as od,origin,destination,\\\n",
    "            0 as cost,demand from od_matrix \\\n",
    "            where od_matrix.origin={};\"\n",
    "    \n",
    "    insert_path=\"INSERT INTO od_path (od,hash,cost,flow) \\\n",
    "                select od,hash,cost,0 from \\\n",
    "                md5oflinks,odpairs_for_source where id1=destination;\" \n",
    "    \n",
    "    get_min_cost = \"drop table if exists min_od_cost;\\\n",
    "                    create table min_od_cost as \\\n",
    "                    select od,min(cost) from od_path group by od;\"\n",
    "    start = time.time()\n",
    "    cur = db.cursor()\n",
    "    cur.execute(get_min_cost)\n",
    "    cur.execute(route)\n",
    "    db.commit()\n",
    "    cur = db.cursor()\n",
    "    cur.execute(find_path_end)\n",
    "    db.commit()\n",
    "    cur = db.cursor()\n",
    "    cur.execute(md5)\n",
    "    cur.execute(odpairs.format(source))\n",
    "    cur.execute(insert_path)\n",
    "    db.commit()\n",
    "    cur = db.cursor()\n",
    "    end = time.time()\n",
    "    print \"Dijkstra:\",end-start\n",
    "    start = end\n",
    "    \n",
    "    p2l =\"select od_path.id,temp.id3 from\\\n",
    "            temp, od_path inner join od_matrix\\\n",
    "            on od_path.od=od_matrix.id where \\\n",
    "            temp.id3>-1 and temp.id1=od_matrix.destination \\\n",
    "            EXCEPT select pathid,link_id from path2link;\"  \n",
    "    insert=\"INSERT INTO path2link (pathid,link_id) \\\n",
    "                    {}\".format(p2l)\n",
    "                                   \n",
    "\n",
    "    cur.execute(insert)\n",
    "    end = time.time()\n",
    "    print \"Insert into 'path2link: {}\".format(end-start)\n",
    "    start = end        \n",
    "\n",
    "#db = pg2.connect('postgres://{user}@{host}:{port}/{db}'.format(**con))\n",
    "#for od in ods:\n",
    "#    print od\n",
    "#    get_K_routes(db,'ist_temp',od[0],od[2],od[3])\n",
    "#db.commit()"
   ]
  },
  {
   "cell_type": "code",
   "execution_count": 246,
   "metadata": {
    "collapsed": true
   },
   "outputs": [],
   "source": [
    "def initial_loading(db):\n",
    "    cur = db.cursor()\n",
    "    cur.execute(\"update od_path set flow = demand\\\n",
    "                from od_matrix where od_matrix.id = od_path.od;\")\n",
    "    db.commit()\n",
    "initial_loading(db)    "
   ]
  },
  {
   "cell_type": "markdown",
   "metadata": {},
   "source": [
    "The Path Size logit is describing the probability of choosing a path by the equation:\n",
    "\n",
    "$ Pr_{mr}(\\mathbf{c}(\\mathbf{x})|R_{m}) = \\frac{exp(-\\theta c_{mr}(\\mathbf{x})+\\beta_{PS}ln(PS_{mr}))}{\\sum_{s\\in R_m}{exp(-\\theta c_{ms}(\\mathbf{x})+\\beta_{PS}ln(PS_{ms}))}}$\n",
    "where $PS_{mr}$ is given by:\n",
    "\n",
    "$PS_{mr}=\\sum_{a\\in\\gamma}\\frac{l_a}{L_{mr}}\\frac{1}{\\sum_{k\\in R_m}{\\delta_{amk}}}$\n",
    "\n",
    "Here we notice that $L_{mr}$ does not depend on $a$. We can then move it outside the sum:\n",
    "\n",
    "$PS_{mr}=\\frac{1}{L_{mr}}\\sum_{a\\in\\gamma}\\frac{l_a}{\\sum_{k\\in R_m}{\\delta_{amk}}}$\n",
    "\n",
    "\n",
    "To calculate the PS logit, we first calculate the PS by the following SQL, which will calculate the sum:\n",
    "\n",
    "```SQL\n",
    "SELECT SUM(x.y) FROM\n",
    "    (SELECT l.cost/d.delta as y FROM ist_temp l \n",
    "    INNER JOIN \n",
    "      (SELECT link_id, COUNT(link_id) AS delta FROM path2link GROUP BY link_id) as d \n",
    "    ON l.id=d.link_id) as x;```\n",
    "\n",
    "\n",
    "Then we calculate $L_{mr}$ by creating a table to hold the results:\n",
    "\n",
    "```SQL\n",
    "create table Lmr as \n",
    "select pathid,sum(cost) as Lmr from path2link \n",
    "group by pathid;on p.link_id; ```\n",
    "\n",
    "For use in the RSUE solution we need to calculate the transformed cost :\n",
    "\n",
    "$\\tilde{c}(\\mathbf{x})= \\chi_{mr}exp(\\theta(c_{mr}(\\mathbf{x})+\\beta_{PS}ln(PS_{mr}))) $\n",
    "\n",
    "We can calculate $PS_{mr}$ by combining the results of the above two SQL statements and we can calculate the current cost $c_{mr}(\\mathbf{x})$ by the following SQL:\n",
    "\n",
    "```SQL\n",
    "\n",
    "SELECT pathid,sum(cost*(1+0.5*(flow/capacity)^4)) from path2link group by pathid;```\n",
    "\n",
    "The transformed cost os also used in the relative gap calculation (step 4), which is used as a convergence measure, and in the pairwise swap algorithm (step 2)\n"
   ]
  },
  {
   "cell_type": "code",
   "execution_count": 258,
   "metadata": {
    "collapsed": false
   },
   "outputs": [],
   "source": [
    "def generalised_cost(db):\n",
    "    # Update temporary edge table with total flow on every used link\n",
    "    # Done in three steps:\n",
    "    #    Create a temporary table containing the new flow on all used links\n",
    "    #    Update ist_temp flow from the temporary table\n",
    "    #    update ist_temp dyncost with BPR calculation from the flow\n",
    "    \n",
    "    flow_from_path = \"drop table if exists temp2;\\\n",
    "                    create table temp2 as select link_id,sum(i.flow) as flow \\\n",
    "                        FROM path2link \\\n",
    "                        JOIN od_path i ON\\\n",
    "                        i.id = pathid group by link_id;\"\n",
    "    update_flow =   \"update ist_temp set flow= t.flow \\\n",
    "                        from temp2 t where t.link_id = id;\"\n",
    "    update_dyncost = \"update ist_temp as i set dyncost = \\\n",
    "                        i.cost*(1+0.5*(t.flow/i.capacity)^4) from \\\n",
    "                        temp2 t where t.link_id = i.id;\"\n",
    " \n",
    "    cost_path = \"drop table if exists pathsum;\\\n",
    "                create table pathsum as \\\n",
    "                select pathid,sum(i.cost) as cost \\\n",
    "                from path2link JOIN ist_temp i ON\\\n",
    "                i.id= link_id group by pathid;\\\n",
    "                update od_path set cost=pathsum.cost from pathsum\\\n",
    "                where od_path.id=pathsum.pathid\"#Cost of path\n",
    "    cur = db.cursor()    \n",
    "    cur.execute(flow_from_path)\n",
    "    cur.execute(update_flow)\n",
    "    cur.execute(update_dyncost)\n",
    "    cur.execute(cost_path)\n",
    "    db.commit()\n",
    "    \n",
    "def transformed_cost(db):\n",
    "    t_cost=\"drop table if exists trans_cost;\\\n",
    "            create table trans_cost as\\\n",
    "            select od_path.id,od_path.od,\\\n",
    "            exp(constants.theta*(od_path.cost+\\\n",
    "            constants.beta*ln(ps_path.ps)))*od_path.flow as tcost from\\\n",
    "            od_path join ps_path on od_path.id=ps_path.pathid\\\n",
    "            join constants on 1=1;\"\n",
    "    cur = db.cursor()\n",
    "    cur.execute(t_cost)\n",
    "    db.commit()\n",
    "    \n",
    "\n",
    "db = pg2.connect('postgres://{user}@{host}:{port}/{db}'.format(**con))\n",
    "generalised_cost(db)    \n",
    "db.commit()"
   ]
  },
  {
   "cell_type": "code",
   "execution_count": 259,
   "metadata": {
    "collapsed": false
   },
   "outputs": [],
   "source": [
    "Lmr = \"drop table if exists lmr; \\\n",
    "       create table Lmr as select pathid,sum(i.cost) as Lmr \\\n",
    "            from path2link JOIN ist_temp i\\\n",
    "            ON i.id=link_id group by pathid;\"\n",
    "    \n",
    "#To get the sum of deltas (denominator of eq 24)\n",
    "la_over_deltasum = \"drop table if exists link_ps;\\\n",
    "                    create table link_ps as \\\n",
    "                    select d.link_id,l.dyncost/d.delta as ps from ist_temp l\\\n",
    "                    inner join \\\n",
    "                    (select link_id,count(link_id) as delta \\\n",
    "                    from path2link group by link_id) as d \\\n",
    "                    on l.id=d.link_id;\"\n",
    "ps =\"drop table if exists PS;\\\n",
    "     create table PS as Select p2l.pathid,sum(lps.ps) as sum \\\n",
    "                     from path2link p2l\\\n",
    "                     JOIN link_ps lps ON lps.link_id=p2l.link_id\\\n",
    "                     group by p2l.pathid; \"\n",
    "ps_total=\"drop table if exists ps_path;\\\n",
    "            create table ps_path as \\\n",
    "            select lmr.pathid,ps.sum/lmr.lmr as ps from ps join lmr \\\n",
    "            on lmr.pathid = ps.pathid;\"\n",
    "def PS(db):\n",
    "    # Save the Lmr in a table\n",
    "    # The Lmr is the sum of cost of the links the path consists of\n",
    "    \n",
    "    cur = db.cursor()\n",
    "    cur.execute(Lmr)\n",
    "    cur.execute(la_over_deltasum)\n",
    "    cur.execute(ps)\n",
    "    cur.execute(ps_total)\n",
    "\n",
    "\n",
    "db = pg2.connect('postgres://{user}@{host}:{port}/{db}'.format(**con))\n",
    "PS(db)\n",
    "db.commit()\n",
    "db = pg2.connect('postgres://{user}@{host}:{port}/{db}'.format(**con))\n",
    "transformed_cost(db)\n",
    "db.commit()"
   ]
  },
  {
   "cell_type": "code",
   "execution_count": 345,
   "metadata": {
    "collapsed": false
   },
   "outputs": [
    {
     "name": "stdout",
     "output_type": "stream",
     "text": [
      "SortnSwap 1 2 0.5\n"
     ]
    },
    {
     "ename": "InternalError",
     "evalue": "current transaction is aborted, commands ignored until end of transaction block\n",
     "output_type": "error",
     "traceback": [
      "\u001b[0;31m---------------------------------------------------------------------------\u001b[0m",
      "\u001b[0;31mInternalError\u001b[0m                             Traceback (most recent call last)",
      "\u001b[0;32m<ipython-input-345-547b6da0745d>\u001b[0m in \u001b[0;36m<module>\u001b[0;34m()\u001b[0m\n\u001b[1;32m     33\u001b[0m         \u001b[0mdb\u001b[0m\u001b[0;34m.\u001b[0m\u001b[0mcommit\u001b[0m\u001b[0;34m(\u001b[0m\u001b[0;34m)\u001b[0m\u001b[0;34m\u001b[0m\u001b[0m\n\u001b[1;32m     34\u001b[0m \u001b[0ms\u001b[0m \u001b[0;34m=\u001b[0m \u001b[0mSortnSwap\u001b[0m\u001b[0;34m(\u001b[0m\u001b[0;34m)\u001b[0m\u001b[0;34m\u001b[0m\u001b[0m\n\u001b[0;32m---> 35\u001b[0;31m \u001b[0ms\u001b[0m\u001b[0;34m.\u001b[0m\u001b[0msort_and_swap\u001b[0m\u001b[0;34m(\u001b[0m\u001b[0mdb\u001b[0m\u001b[0;34m)\u001b[0m\u001b[0;34m\u001b[0m\u001b[0m\n\u001b[0m",
      "\u001b[0;32m<ipython-input-345-547b6da0745d>\u001b[0m in \u001b[0;36msort_and_swap\u001b[0;34m(self, db)\u001b[0m\n\u001b[1;32m     12\u001b[0m         \u001b[0mgamma\u001b[0m \u001b[0;34m=\u001b[0m \u001b[0;34m(\u001b[0m\u001b[0;34m(\u001b[0m\u001b[0;36m1.0\u001b[0m\u001b[0;34m*\u001b[0m\u001b[0mself\u001b[0m\u001b[0;34m.\u001b[0m\u001b[0mn\u001b[0m\u001b[0;34m)\u001b[0m\u001b[0;34m**\u001b[0m\u001b[0mself\u001b[0m\u001b[0;34m.\u001b[0m\u001b[0md\u001b[0m\u001b[0;34m)\u001b[0m\u001b[0;34m/\u001b[0m\u001b[0mdenom\u001b[0m\u001b[0;34m\u001b[0m\u001b[0m\n\u001b[1;32m     13\u001b[0m         \u001b[0;32mprint\u001b[0m \u001b[0;34m'SortnSwap'\u001b[0m\u001b[0;34m,\u001b[0m\u001b[0mself\u001b[0m\u001b[0;34m.\u001b[0m\u001b[0mn\u001b[0m\u001b[0;34m,\u001b[0m\u001b[0mdenom\u001b[0m\u001b[0;34m,\u001b[0m\u001b[0mgamma\u001b[0m\u001b[0;34m\u001b[0m\u001b[0m\n\u001b[0;32m---> 14\u001b[0;31m         \u001b[0mcur\u001b[0m\u001b[0;34m.\u001b[0m\u001b[0mexecute\u001b[0m\u001b[0;34m(\u001b[0m\u001b[0msort_odpath\u001b[0m\u001b[0;34m)\u001b[0m\u001b[0;34m\u001b[0m\u001b[0m\n\u001b[0m\u001b[1;32m     15\u001b[0m         \u001b[0mres\u001b[0m \u001b[0;34m=\u001b[0m \u001b[0mcur\u001b[0m\u001b[0;34m.\u001b[0m\u001b[0mfetchall\u001b[0m\u001b[0;34m(\u001b[0m\u001b[0;34m)\u001b[0m\u001b[0;34m\u001b[0m\u001b[0m\n\u001b[1;32m     16\u001b[0m         \u001b[0mod_path\u001b[0m \u001b[0;34m=\u001b[0m \u001b[0;34m{\u001b[0m\u001b[0;34m}\u001b[0m\u001b[0;34m\u001b[0m\u001b[0m\n",
      "\u001b[0;31mInternalError\u001b[0m: current transaction is aborted, commands ignored until end of transaction block\n"
     ]
    }
   ],
   "source": [
    "class SortnSwap(object):\n",
    "\n",
    "    def __init__(self,d=0):\n",
    "        self.n = 0\n",
    "        self.d = d\n",
    "    def sort_and_swap(self,db):\n",
    "\n",
    "        sort_odpath = \"select id,od,cost,flow from od_path order by od,cost DESC;\"\n",
    "        cur = db.cursor()\n",
    "        self.n += 1\n",
    "        denom = sum([x**(self.d) for x in range(self.n+1)])\n",
    "        gamma = ((1.0*self.n)**self.d)/denom\n",
    "        print 'SortnSwap',self.n,denom,gamma\n",
    "        cur.execute(sort_odpath)\n",
    "        res = cur.fetchall()\n",
    "        od_path = {}\n",
    "        for row in res:\n",
    "            od_path.setdefault(row[1],[]).append((row[0],row[2],row[3]))\n",
    "        res = []\n",
    "        for k in od_path:\n",
    "            l = od_path[k]\n",
    "            pair = zip(l,reversed(l))[:len(l)/2]\n",
    "            for hi,lo in pair:\n",
    "                Gamma = (hi[1]-lo[1])/sqrt(hi[1]**2+lo[1]**2)\n",
    "                lo_f = lo[2]+Gamma*hi[2]*gamma\n",
    "                hi_f = hi[2]-Gamma*hi[2]*gamma\n",
    "                res.append((hi[0],hi_f))\n",
    "                res.append((lo[0],lo_f))\n",
    "                update=\"update od_path set flow={} where id ={};\"\n",
    "                cur.execute(update.format(lo_f,lo[0]))\n",
    "                cur.execute(update.format(hi_f,hi[0]))\n",
    "\n",
    "        db.commit()\n",
    "s = SortnSwap()\n",
    "s.sort_and_swap(db)"
   ]
  },
  {
   "cell_type": "code",
   "execution_count": 343,
   "metadata": {
    "collapsed": false
   },
   "outputs": [],
   "source": [
    "# Step 0\n",
    "# Get O-D Matrix\n",
    "# Create solution table (id, O,D, cost, ...\n",
    "# for every O :\n",
    "#     Use kDikstrapath to get shortest path to all destintions \n",
    "# Do all or nothing assignment\n",
    "# Calculate flow and generalised cost\n",
    "def step0(db,OD_data):\n",
    "    \n",
    "    create_tables(db,'ist_2po_4pgr','ist_temp')\n",
    "    od_matrix(db,OD_data)\n",
    "    ods = getODpairs(db)\n",
    "    db.commit()\n",
    "    for od in ods:\n",
    "        get_K_routes(db,'ist_temp',od[0],od[2],od[3]) \n",
    "        db.commit()\n",
    "    insert_into_od_path(db)\n",
    "    cur = db.cursor()\n",
    "    cur.execute(\"update od_path set flow = demand\\\n",
    "                from od_matrix where od_matrix.id = od_path.od;\")\n",
    "    db.commit()\n",
    "    insert_into_path2links(db)\n",
    "    generalised_cost(db) \n",
    "    PS(db)\n",
    "    transformed_cost(db)\n",
    "\n",
    "    db.commit()\n",
    "\n",
    "\n",
    "        \n",
    "# Step 1\n",
    "    \n",
    "# for every O :\n",
    "#     Use kDikstra to get shortest path to all destinations \n",
    "#          get shortest path with current cost and flow\n",
    "# If new shortest path are found add to solution table with zero flow\n",
    "\n",
    "def step1(db):\n",
    "    for od in ods:\n",
    "        get_K_routes(db,'ist_temp',od[0],od[2],od[3]) \n",
    "    \n",
    "# Step 2\n",
    "# for each path in table calculate the tranformed cost\n",
    "#    calculate the flows\n",
    "#    calculate the generalised cost\n",
    "#    calculate the transformed cost (wirh PS-logit\n",
    "# Sort and pair and swap\n",
    "def step2(db):\n",
    "    generalised_cost(db) \n",
    "    PS(db)\n",
    "    transformed_cost(db)\n",
    "\n",
    "    s.sort_and_swap(db)\n",
    "\n",
    "# step 3\n",
    "# Network loading and generalised cost calculation\n",
    "def step3(db):\n",
    "    generalised_cost(db) \n",
    "    PS(db)\n",
    "    transformed_cost(db)\n",
    "\n",
    "# Step 4\n",
    "# Gap calculation and convergence check\n",
    "def step4(db):\n",
    "    denom =\"select sum(tcost*flow) \\\n",
    "            from trans_cost join od_path on \\\n",
    "            trans_cost.id=od_path.id;\"\n",
    "    min_tcost_table = \"drop table if exists tcost_vs_min;\\\n",
    "                create table tcost_vs_min as \\\n",
    "                select id,t.od,t.tcost,m.tcost as mcost from \\\n",
    "                trans_cost t join (select od,min(tcost) tcost from\\\n",
    "                trans_cost group by od) as m on \\\n",
    "                t.od=m.od order by t.od;\"\n",
    "    numerator = \"Select sum(flow*(tcost-mcost)) from tcost_vs_min join\\\n",
    "                od_path on od_path.id = tcost_vs_min.id;\"\n",
    "    cur = db.cursor()\n",
    "    cur.execute(denom)\n",
    "    de = cur.fetchone()[0]\n",
    "    cur.execute(min_tcost_table)\n",
    "    cur.execute(numerator)\n",
    "    mini = cur.fetchone()[0]\n",
    "    return mini/de"
   ]
  },
  {
   "cell_type": "code",
   "execution_count": 344,
   "metadata": {
    "collapsed": false
   },
   "outputs": [
    {
     "ename": "InternalError",
     "evalue": "current transaction is aborted, commands ignored until end of transaction block\n",
     "output_type": "error",
     "traceback": [
      "\u001b[0;31m---------------------------------------------------------------------------\u001b[0m",
      "\u001b[0;31mInternalError\u001b[0m                             Traceback (most recent call last)",
      "\u001b[0;32m<ipython-input-344-21b1a86fc83e>\u001b[0m in \u001b[0;36m<module>\u001b[0;34m()\u001b[0m\n\u001b[0;32m----> 1\u001b[0;31m \u001b[0mstep4\u001b[0m\u001b[0;34m(\u001b[0m\u001b[0mdb\u001b[0m\u001b[0;34m)\u001b[0m\u001b[0;34m\u001b[0m\u001b[0m\n\u001b[0m",
      "\u001b[0;32m<ipython-input-343-77855bff5ca6>\u001b[0m in \u001b[0;36mstep4\u001b[0;34m(db)\u001b[0m\n\u001b[1;32m     64\u001b[0m     \u001b[0mnumerator\u001b[0m \u001b[0;34m=\u001b[0m \u001b[0;34m\"Select sum(flow*(tcost-mcost)) from tcost_vs_min join                od_path on od_path.id = tcost_vs_min.id;\"\u001b[0m\u001b[0;34m\u001b[0m\u001b[0m\n\u001b[1;32m     65\u001b[0m     \u001b[0mcur\u001b[0m \u001b[0;34m=\u001b[0m \u001b[0mdb\u001b[0m\u001b[0;34m.\u001b[0m\u001b[0mcursor\u001b[0m\u001b[0;34m(\u001b[0m\u001b[0;34m)\u001b[0m\u001b[0;34m\u001b[0m\u001b[0m\n\u001b[0;32m---> 66\u001b[0;31m     \u001b[0mcur\u001b[0m\u001b[0;34m.\u001b[0m\u001b[0mexecute\u001b[0m\u001b[0;34m(\u001b[0m\u001b[0mdenom\u001b[0m\u001b[0;34m)\u001b[0m\u001b[0;34m\u001b[0m\u001b[0m\n\u001b[0m\u001b[1;32m     67\u001b[0m     \u001b[0mde\u001b[0m \u001b[0;34m=\u001b[0m \u001b[0mcur\u001b[0m\u001b[0;34m.\u001b[0m\u001b[0mfetchone\u001b[0m\u001b[0;34m(\u001b[0m\u001b[0;34m)\u001b[0m\u001b[0;34m[\u001b[0m\u001b[0;36m0\u001b[0m\u001b[0;34m]\u001b[0m\u001b[0;34m\u001b[0m\u001b[0m\n\u001b[1;32m     68\u001b[0m     \u001b[0mcur\u001b[0m\u001b[0;34m.\u001b[0m\u001b[0mexecute\u001b[0m\u001b[0;34m(\u001b[0m\u001b[0mmin_tcost_table\u001b[0m\u001b[0;34m)\u001b[0m\u001b[0;34m\u001b[0m\u001b[0m\n",
      "\u001b[0;31mInternalError\u001b[0m: current transaction is aborted, commands ignored until end of transaction block\n"
     ]
    }
   ],
   "source": [
    "step4(db)"
   ]
  },
  {
   "cell_type": "code",
   "execution_count": 363,
   "metadata": {
    "collapsed": false
   },
   "outputs": [
    {
     "name": "stdout",
     "output_type": "stream",
     "text": [
      "DROP TABLE IF EXISTS ist_temp CASCADE;        CREATE TABLE ist_temp as SELECT * from ist_2po_4pgr;\n",
      "ALTER table ist_temp add column capacity integer DEFAULT 2800;                \n",
      "ALTER table ist_temp add column flow double precision DEFAULT 0;\n",
      "ALTER table ist_temp add column dyncost double precision ;                update ist_temp set dyncost = cost;                \n",
      "alter table ist_temp add constraint pkey_ist_temp PRIMARY KEY (id);            CREATE INDEX idx_ist_temp_source ON ist_temp              USING btree (source);            CREATE INDEX idx_ist_temp_target ON ist_temp              USING btree (target);\n",
      "DROP TABLE IF EXISTS od_matrix CASCADE;                CREATE TABLE od_matrix (id serial PRIMARY key,                         origin integer,                        destination integer,                        demand integer);\n",
      "DROP TABLE IF EXISTS od_path CASCADE;                    CREATE TABLE od_path (id serial PRIMARY key,                    od integer references od_matrix (id),                    hash bytea UNIQUE,                    cost float, flow float );\n",
      "DROP TABLE IF EXISTS path2link CASCADE;\n",
      "                    CREATE TABLE path2link (\n",
      "                    pathid integer references od_path (id), \n",
      "                    link_id integer references ist_temp (id));\n",
      "                   \n",
      "drop table if exists constants;                    create table constants ( alfa float,                     beta float DEFAULT 4, theta float, beta_ps float);                    insert into constants values (0.5,4,0.1,-8.5);\n",
      "Dijkstra: 0.543933868408\n",
      "Insert into 'path2link: 0.0224831104279\n",
      "Dijkstra: 0.45645904541\n",
      "Insert into 'path2link: 0.0062780380249\n",
      "CPU times: user 3.12 ms, sys: 3.16 ms, total: 6.28 ms\n",
      "Wall time: 6.92 s\n"
     ]
    }
   ],
   "source": [
    "%%time\n",
    "db = pg2.connect('postgres://{user}@{host}:{port}/{db}'.format(**con))\n",
    "s = SortnSwap(2)\n",
    "step0(db,data2)\n"
   ]
  },
  {
   "cell_type": "code",
   "execution_count": 364,
   "metadata": {
    "collapsed": false
   },
   "outputs": [
    {
     "name": "stdout",
     "output_type": "stream",
     "text": [
      "Dijkstra: 0.438166856766\n",
      "Insert into 'path2link: 0.033135175705\n",
      "Dijkstra: 0.440097093582\n",
      "Insert into 'path2link: 0.0115678310394\n",
      "SortnSwap 1 1 1.0\n",
      "========> 0.228718985266\n",
      "Loop time 1.07918906212\n",
      "Dijkstra: 0.417949914932\n",
      "Insert into 'path2link: 0.0382912158966\n",
      "Dijkstra: 0.414095878601\n",
      "Insert into 'path2link: 0.0118281841278\n",
      "SortnSwap 2 5 0.8\n",
      "========> 0.298293962517\n",
      "Loop time 1.04698395729\n",
      "Dijkstra: 0.406997919083\n",
      "Insert into 'path2link: 0.0838952064514\n",
      "Dijkstra: 0.434854984283\n",
      "Insert into 'path2link: 0.0527169704437\n",
      "SortnSwap 3 14 0.642857142857\n",
      "========> 0.575997180883\n",
      "Loop time 1.8241288662\n",
      "Dijkstra: 0.456661939621\n",
      "Insert into 'path2link: 0.109045982361\n",
      "Dijkstra: 0.42314696312\n",
      "Insert into 'path2link: 0.0324430465698\n",
      "SortnSwap 4 30 0.533333333333\n",
      "========> 0.753899178598\n",
      "Loop time 1.90392398834\n",
      "Dijkstra: 0.451704025269\n",
      "Insert into 'path2link: 0.068578004837\n",
      "Dijkstra: 0.446114063263\n",
      "Insert into 'path2link: 0.0723099708557\n",
      "SortnSwap 5 55 0.454545454545\n",
      "========> 0.832086767527\n",
      "Loop time 1.99365901947\n",
      "Dijkstra: 0.425425052643\n",
      "Insert into 'path2link: 0.233824968338\n",
      "Dijkstra: 0.416878938675\n",
      "Insert into 'path2link: 0.0273659229279\n",
      "SortnSwap 6 91 0.395604395604\n",
      "========> 0.874854944172\n",
      "Loop time 2.09670901299\n",
      "Dijkstra: 0.417593955994\n",
      "Insert into 'path2link: 0.12246799469\n",
      "Dijkstra: 0.453313112259\n",
      "Insert into 'path2link: 0.0351829528809\n",
      "SortnSwap 7 140 0.35\n",
      "========> 0.911812376357\n",
      "Loop time 2.11700391769\n",
      "Dijkstra: 0.431192159653\n",
      "Insert into 'path2link: 0.133772850037\n",
      "Dijkstra: 0.421736001968\n",
      "Insert into 'path2link: 0.0618829727173\n",
      "SortnSwap 8 204 0.313725490196\n",
      "========> 0.935826156743\n",
      "Loop time 2.20702600479\n",
      "Dijkstra: 0.411457061768\n",
      "Insert into 'path2link: 0.100998878479\n",
      "Dijkstra: 0.418393135071\n",
      "Insert into 'path2link: 0.0299890041351\n",
      "SortnSwap 9 285 0.284210526316\n",
      "========> 0.952955782385\n",
      "Loop time 2.17165803909\n",
      "Dijkstra: 0.426940917969\n",
      "Insert into 'path2link: 0.315931081772\n",
      "Dijkstra: 0.432070970535\n",
      "Insert into 'path2link: 0.040048122406\n",
      "SortnSwap 10 385 0.25974025974\n",
      "========> 0.939592981857\n",
      "Loop time 2.55191087723\n",
      "CPU times: user 50 ms, sys: 34.7 ms, total: 84.8 ms\n",
      "Wall time: 19 s\n"
     ]
    }
   ],
   "source": [
    "%%time\n",
    "for i in range(10):\n",
    "    start = time.time()\n",
    "    db.commit()\n",
    "    step1(db)\n",
    "    step2(db)\n",
    "    step3(db)\n",
    "    print '========>',step4(db)\n",
    "    end = time.time()\n",
    "    print \"Loop time {}\".format(end-start)\n",
    "    db.commit()"
   ]
  },
  {
   "cell_type": "code",
   "execution_count": 272,
   "metadata": {
    "collapsed": true
   },
   "outputs": [],
   "source": [
    "db.commit()\n",
    "step2(db)\n"
   ]
  },
  {
   "cell_type": "code",
   "execution_count": 273,
   "metadata": {
    "collapsed": true
   },
   "outputs": [],
   "source": [
    "db.commit()\n",
    "step3(db)"
   ]
  },
  {
   "cell_type": "code",
   "execution_count": 240,
   "metadata": {
    "collapsed": true
   },
   "outputs": [],
   "source": [
    "db.commit()"
   ]
  },
  {
   "cell_type": "code",
   "execution_count": 4,
   "metadata": {
    "collapsed": false
   },
   "outputs": [
    {
     "ename": "NameError",
     "evalue": "name 'db' is not defined",
     "output_type": "error",
     "traceback": [
      "\u001b[0;31m---------------------------------------------------------------------------\u001b[0m",
      "\u001b[0;31mNameError\u001b[0m                                 Traceback (most recent call last)",
      "\u001b[0;32m<ipython-input-4-21de6a788b9e>\u001b[0m in \u001b[0;36m<module>\u001b[0;34m()\u001b[0m\n\u001b[0;32m----> 1\u001b[0;31m \u001b[0mcur\u001b[0m \u001b[0;34m=\u001b[0m \u001b[0mdb\u001b[0m\u001b[0;34m.\u001b[0m\u001b[0mcursor\u001b[0m\u001b[0;34m(\u001b[0m\u001b[0;34m)\u001b[0m\u001b[0;34m\u001b[0m\u001b[0m\n\u001b[0m",
      "\u001b[0;31mNameError\u001b[0m: name 'db' is not defined"
     ]
    }
   ],
   "source": [
    "cur = db.cursor()"
   ]
  },
  {
   "cell_type": "code",
   "execution_count": 15,
   "metadata": {
    "collapsed": false
   },
   "outputs": [
    {
     "name": "stdout",
     "output_type": "stream",
     "text": [
      "DROP TABLE\n",
      "DROP TABLE\n",
      "DROP TABLE\n",
      "DROP TABLE\n",
      "DROP TABLE\n",
      "DROP TABLE\n",
      "DROP TABLE\n",
      "DROP TABLE\n"
     ]
    }
   ],
   "source": [
    "l = \"\"\"md5oflinks_4401651712\n",
    " md5oflinks_4405858304\n",
    " md5oflinks_4410064896\n",
    " md5oflinks_4414271488\n",
    " md5oflinks_4418478080\n",
    " md5oflinks_4422684672\n",
    " md5oflinks_4426891264\n",
    " md5oflinks_4431097856\"\"\".split()\n",
    "for t in l:\n",
    "    !psql -U alehmann postgres://localhost:5432/osm_po -c \"drop table $t\""
   ]
  },
  {
   "cell_type": "code",
   "execution_count": 13,
   "metadata": {
    "collapsed": false
   },
   "outputs": [
    {
     "name": "stdout",
     "output_type": "stream",
     "text": [
      " pg_cancel_backend \n",
      "-------------------\n",
      " t\n",
      "(1 row)\n",
      "\n",
      " pg_terminate_backend \n",
      "----------------------\n",
      " t\n",
      "(1 row)\n",
      "\n"
     ]
    }
   ],
   "source": [
    "l= \"\"\"\n",
    "50459\n",
    "\n",
    " \"\"\".split()\n",
    "for pid in l:\n",
    "    !psql -U alehmann postgres://localhost:5432/osm_po -c \"select pg_cancel_backend($pid);\"\n",
    "    !psql -U alehmann postgres://localhost:5432/osm_po -c \"select pg_terminate_backend($pid);\""
   ]
  },
  {
   "cell_type": "code",
   "execution_count": 5,
   "metadata": {
    "collapsed": false
   },
   "outputs": [],
   "source": [
    "from scipy.spatial.distance import pdist, squareform"
   ]
  },
  {
   "cell_type": "code",
   "execution_count": 6,
   "metadata": {
    "collapsed": false
   },
   "outputs": [],
   "source": [
    "from scipy.sparse import csr_matrix"
   ]
  },
  {
   "cell_type": "code",
   "execution_count": 7,
   "metadata": {
    "collapsed": true
   },
   "outputs": [],
   "source": [
    "import psycopg2"
   ]
  },
  {
   "cell_type": "code",
   "execution_count": 8,
   "metadata": {
    "collapsed": false
   },
   "outputs": [],
   "source": [
    "db = psycopg2.connect('postgres://{user}@{host}:{port}/{db}'.format(**con))"
   ]
  },
  {
   "cell_type": "code",
   "execution_count": 9,
   "metadata": {
    "collapsed": false
   },
   "outputs": [],
   "source": [
    "cur = db.cursor()\n",
    "cur.execute(\"select max(source) from ist_temp\")\n",
    "res = cur.fetchone()[0]\n",
    "mat = ndarray((res,res))\n",
    "cur.execute(\"select source,target,cost from ist_temp\")\n",
    "while res:\n",
    "    res = cur.fetchmany(10000)\n",
    "    for r,c,cost in res:\n",
    "        mat[r-1,c-1]=cost"
   ]
  },
  {
   "cell_type": "code",
   "execution_count": 1,
   "metadata": {
    "collapsed": true
   },
   "outputs": [],
   "source": [
    "from scipy.sparse.csgraph import dijkstra"
   ]
  },
  {
   "cell_type": "code",
   "execution_count": null,
   "metadata": {
    "collapsed": false
   },
   "outputs": [],
   "source": [
    "%timeit dijkstra(mat,indices =[1])"
   ]
  },
  {
   "cell_type": "code",
   "execution_count": 11,
   "metadata": {
    "collapsed": false
   },
   "outputs": [
    {
     "data": {
      "text/plain": [
       "(203488, 203488)"
      ]
     },
     "execution_count": 11,
     "metadata": {},
     "output_type": "execute_result"
    }
   ],
   "source": [
    "mat.to"
   ]
  },
  {
   "cell_type": "code",
   "execution_count": 14,
   "metadata": {
    "collapsed": true
   },
   "outputs": [],
   "source": [
    "from cffi import FFI"
   ]
  },
  {
   "cell_type": "code",
   "execution_count": 15,
   "metadata": {
    "collapsed": false
   },
   "outputs": [
    {
     "ename": "ImportError",
     "evalue": "dlopen(/usr/local/lib/python2.7/site-packages/_cffi_backend.so, 2): Library not loaded: /usr/local/opt/libffi/lib/libffi.6.dylib\n  Referenced from: /usr/local/lib/python2.7/site-packages/_cffi_backend.so\n  Reason: image not found",
     "output_type": "error",
     "traceback": [
      "\u001b[0;31m---------------------------------------------------------------------------\u001b[0m",
      "\u001b[0;31mImportError\u001b[0m                               Traceback (most recent call last)",
      "\u001b[0;32m<ipython-input-15-3664cee6c9b1>\u001b[0m in \u001b[0;36m<module>\u001b[0;34m()\u001b[0m\n\u001b[0;32m----> 1\u001b[0;31m \u001b[0mffi\u001b[0m \u001b[0;34m=\u001b[0m \u001b[0mFFI\u001b[0m\u001b[0;34m(\u001b[0m\u001b[0;34m)\u001b[0m\u001b[0;34m\u001b[0m\u001b[0m\n\u001b[0m",
      "\u001b[0;32m/usr/local/lib/python2.7/site-packages/cffi/api.pyc\u001b[0m in \u001b[0;36m__init__\u001b[0;34m(self, backend)\u001b[0m\n\u001b[1;32m     54\u001b[0m             \u001b[0;31m# You need PyPy (>= 2.0 beta), or a CPython (>= 2.6) with\u001b[0m\u001b[0;34m\u001b[0m\u001b[0;34m\u001b[0m\u001b[0m\n\u001b[1;32m     55\u001b[0m             \u001b[0;31m# _cffi_backend.so compiled.\u001b[0m\u001b[0;34m\u001b[0m\u001b[0;34m\u001b[0m\u001b[0m\n\u001b[0;32m---> 56\u001b[0;31m             \u001b[0;32mimport\u001b[0m \u001b[0m_cffi_backend\u001b[0m \u001b[0;32mas\u001b[0m \u001b[0mbackend\u001b[0m\u001b[0;34m\u001b[0m\u001b[0m\n\u001b[0m\u001b[1;32m     57\u001b[0m             \u001b[0;32mfrom\u001b[0m \u001b[0;34m.\u001b[0m \u001b[0;32mimport\u001b[0m \u001b[0m__version__\u001b[0m\u001b[0;34m\u001b[0m\u001b[0m\n\u001b[1;32m     58\u001b[0m             \u001b[0;32massert\u001b[0m \u001b[0mbackend\u001b[0m\u001b[0;34m.\u001b[0m\u001b[0m__version__\u001b[0m \u001b[0;34m==\u001b[0m \u001b[0m__version__\u001b[0m\u001b[0;34m,\u001b[0m\u001b[0;31m \u001b[0m\u001b[0;31m\\\u001b[0m\u001b[0;34m\u001b[0m\u001b[0m\n",
      "\u001b[0;31mImportError\u001b[0m: dlopen(/usr/local/lib/python2.7/site-packages/_cffi_backend.so, 2): Library not loaded: /usr/local/opt/libffi/lib/libffi.6.dylib\n  Referenced from: /usr/local/lib/python2.7/site-packages/_cffi_backend.so\n  Reason: image not found"
     ]
    }
   ],
   "source": [
    "ffi = FFI()"
   ]
  },
  {
   "cell_type": "code",
   "execution_count": null,
   "metadata": {
    "collapsed": true
   },
   "outputs": [],
   "source": []
  }
 ],
 "metadata": {
  "kernelspec": {
   "display_name": "Python 2",
   "language": "python",
   "name": "python2"
  },
  "language_info": {
   "codemirror_mode": {
    "name": "ipython",
    "version": 2
   },
   "file_extension": ".py",
   "mimetype": "text/x-python",
   "name": "python",
   "nbconvert_exporter": "python",
   "pygments_lexer": "ipython2",
   "version": "2.7.10"
  }
 },
 "nbformat": 4,
 "nbformat_minor": 0
}
