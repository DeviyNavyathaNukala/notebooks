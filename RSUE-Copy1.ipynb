{
 "cells": [
  {
   "cell_type": "markdown",
   "metadata": {},
   "source": [
    "# Experiments with RSUE (Istanbul and Aarhus)"
   ]
  },
  {
   "cell_type": "code",
   "execution_count": 1,
   "metadata": {
    "collapsed": false
   },
   "outputs": [
    {
     "name": "stdout",
     "output_type": "stream",
     "text": [
      "Populating the interactive namespace from numpy and matplotlib\n"
     ]
    }
   ],
   "source": [
    "%pylab inline"
   ]
  },
  {
   "cell_type": "markdown",
   "metadata": {},
   "source": [
    "#### Prepare the database"
   ]
  },
  {
   "cell_type": "code",
   "execution_count": 1,
   "metadata": {
    "collapsed": false
   },
   "outputs": [
    {
     "data": {
      "text/plain": [
       "<module 'psycopg2' from '/usr/local/lib/python2.7/site-packages/psycopg2/__init__.pyc'>"
      ]
     },
     "execution_count": 1,
     "metadata": {},
     "output_type": "execute_result"
    }
   ],
   "source": [
    "import psycopg2 as pg2\n",
    "con = {'host':'127.0.0.1','port':5432,'db':'osm_po','user':'postgres'}\n",
    "pg2"
   ]
  },
  {
   "cell_type": "code",
   "execution_count": 101,
   "metadata": {
    "collapsed": false
   },
   "outputs": [
    {
     "name": "stdout",
     "output_type": "stream",
     "text": [
      "/Users/alehmann/projects/Istanbul_2015\n"
     ]
    }
   ],
   "source": [
    "cd ~/projects/Istanbul_2015/"
   ]
  },
  {
   "cell_type": "code",
   "execution_count": 102,
   "metadata": {
    "collapsed": false
   },
   "outputs": [
    {
     "name": "stdout",
     "output_type": "stream",
     "text": [
      "https://s3.amazonaws.com/metro-extracts.mapzen.com/istanbul_turkey.osm.pbf\n",
      "--2015-06-29 13:46:27--  https://s3.amazonaws.com/metro-extracts.mapzen.com/istanbul_turkey.osm.pbf\n",
      "Resolving s3.amazonaws.com... 54.231.8.160\n",
      "Connecting to s3.amazonaws.com|54.231.8.160|:443... connected.\n",
      "HTTP request sent, awaiting response... 200 OK\n",
      "Length: 8871418 (8.5M) [binary/octet-stream]\n",
      "Saving to: '/Users/alehmann/Downloads/istanbul_turkey.osm.pbf'\n",
      "\n",
      "istanbul_turkey.osm 100%[=====================>]   8.46M  1.29MB/s   in 7.5s   \n",
      "\n",
      "2015-06-29 13:46:35 (1.13 MB/s) - '/Users/alehmann/Downloads/istanbul_turkey.osm.pbf' saved [8871418/8871418]\n",
      "\n",
      "psql: option requires an argument -- f\n",
      "Try \"psql --help\" for more information.\n",
      "https://s3.amazonaws.com/metro-extracts.mapzen.com/aarhus_denmark.osm.pbf\n",
      "--2015-06-29 13:46:43--  https://s3.amazonaws.com/metro-extracts.mapzen.com/aarhus_denmark.osm.pbf\n",
      "Resolving s3.amazonaws.com... 54.231.8.160\n",
      "Connecting to s3.amazonaws.com|54.231.8.160|:443... connected.\n",
      "HTTP request sent, awaiting response... 200 OK\n",
      "Length: 4882567 (4.7M) [binary/octet-stream]\n",
      "Saving to: '/Users/alehmann/Downloads/aarhus_denmark.osm.pbf'\n",
      "\n",
      "aarhus_denmark.osm. 100%[=====================>]   4.66M  1.90MB/s   in 2.4s   \n",
      "\n",
      "2015-06-29 13:46:46 (1.90 MB/s) - '/Users/alehmann/Downloads/aarhus_denmark.osm.pbf' saved [4882567/4882567]\n",
      "\n",
      "psql: option requires an argument -- f\n",
      "Try \"psql --help\" for more information.\n"
     ]
    }
   ],
   "source": [
    "cities = {\n",
    "          'AAR':'https://s3.amazonaws.com/metro-extracts.mapzen.com/aarhus_denmark.osm.pbf',\n",
    "          'IST': 'https://s3.amazonaws.com/metro-extracts.mapzen.com/istanbul_turkey.osm.pbf'\n",
    "}\n",
    "\n",
    "def osm2csv(table):\n",
    "    !psql -U postgres postgres://$host:$port/osm_po -o $table -c \"SELECT * FROM $table;\"\n",
    "\n",
    "#osm2csv('ist_2po_4pgr')            \n",
    "\n",
    "\n",
    "for city in cities:\n",
    "#Get OSM data\n",
    "    url = cities[city]\n",
    "    print url\n",
    "    !wget $url -P ~/Downloads\n",
    "    path = '/Users/alehmann/Downloads/'+url.split('/')[-1]\n",
    "    res = !java -jar osm2po-core-5.0.0-signed.jar cmd=tjsp prefix=$city $path\n",
    "    sql_file = res[-2].split()[-1]\n",
    "    \n",
    "    !psql -U postgres postgres://$host:$port/osm_po -f $sql_file\n",
    "    #psql -Upostgres -l postgres://46.101.171.24:6432/osm_po \n",
    "    #-o ist_1306.csv -c \"SELECT * FROM ist13062015_2po_4gr\"\n",
    "    !rm $path"
   ]
  },
  {
   "cell_type": "code",
   "execution_count": 7,
   "metadata": {
    "collapsed": false
   },
   "outputs": [],
   "source": [
    "\n",
    "def getroute(cur,table,source,dest,direct=False,reverse=False):\n",
    "    pg_astar = (\"\"\"pgr_astar('SELECT id, source, target, cost, \n",
    "               x1, y1, x2, y2 \n",
    "               from {table}',{source},{dest},{direct},{reverse})\"\"\".\n",
    "                    format(table=table, source=source,\n",
    "                           dest=dest,direct=direct,reverse=reverse))\n",
    "    \n",
    "    cost = \"\"\"SELECT SUM(cost) FROM {};\"\"\".format(pg_astar)\n",
    "    route = \"\"\"SELECT 0,cost,id2 FROM {} where id2>0;\"\"\".format(pg_astar)\n",
    "    p2l = \"\"\"SELECT %s,id2,%s,%s FROM {} where id2>0\"\"\".format(pg_astar)\n",
    "\n",
    "    \n",
    "    insert_path = \"INSERT INTO od_path values (DEFAULT,{},{},{},{}) returning id;\"\n",
    "    insert_path2link = \"INSERT INTO path2link {} returning link_id;\".format(p2l)\n",
    "    \n",
    "    cur.execute(cost)\n",
    "    pathcost = cur.fetchone()[0]\n",
    "    i_p = insert_path.format(source,dest,pathcost,0)\n",
    "    cur.execute(i_p)\n",
    "    pathid = cur.fetchall()[0][0]\n",
    "    cur.execute(insert_path2link,(pathid,pathcost,0))\n",
    "\n",
    "def get(db, query):\n",
    "    cur = db.cursor()\n",
    "    cur.execute(query)\n",
    "    return cur.fetchall()\n",
    "\n",
    "def set1(db, query,data):\n",
    "    cur = db.cursor()\n",
    "    cur.execute(query,data)\n",
    "    return cur.fetchall()\n",
    "\n",
    "def setM(db, query,data):\n",
    "    cur = db.cursor()\n",
    "    cur.executemany(query,data)\n",
    "    return cur.fetchall()\n"
   ]
  },
  {
   "cell_type": "code",
   "execution_count": 3,
   "metadata": {
    "collapsed": false
   },
   "outputs": [],
   "source": [
    "temp_table ='ist_temp'\n",
    "\n",
    "def drop_tables(cur,temp_table):\n",
    "    cur.execute(\"DROP TABLE path2link;\")\n",
    "    cur.execute(\"DROP TABLE od_matrix;\")\n",
    "    cur.execute(\"DROP TABLE od_path;\")\n",
    "    cur.execute(\"DROP TABLE {};\".format(temp_table))\n",
    "\n",
    "def create_tables(db,table,temp_table):\n",
    "    # Create a copy of the main edge table\n",
    "    copy_table = \"DROP TABLE IF EXISTS {0} CASCADE;\\\n",
    "        CREATE TABLE {0} as SELECT * from {1};\".format(temp_table,table)\n",
    "    # Add capacity,flow,flow dependent cost primary key and indeces\n",
    "    capacity = \"ALTER table {} add column capacity integer DEFAULT 2800;\\\n",
    "                \".format(temp_table)\n",
    "    flow = \"ALTER table {} add column flow double precision DEFAULT 0;\".format(temp_table)\n",
    "    flowcost = \"ALTER table {0} add column dyncost double precision ;\\\n",
    "                update {0} set dyncost = cost;\\\n",
    "                \".format(temp_table)\n",
    "    pkey = \"alter table {0} add constraint pkey_ist_temp PRIMARY KEY (id);\\\n",
    "            CREATE INDEX idx_{0}_source ON {0}\\\n",
    "              USING btree (source);\\\n",
    "            CREATE INDEX idx_{0}_target ON {0}\\\n",
    "              USING btree (target);\".format(temp_table)\n",
    "    # The table that contains the considered OD paths\n",
    "    # For each OD pair multiple path can occur as congestion manifests itself\n",
    "    # the (transformed) cost and the flow is update during the algorithm\n",
    "    od_table = \"DROP TABLE IF EXISTS od_matrix CASCADE;\\\n",
    "                CREATE TABLE od_matrix (id serial PRIMARY key, \\\n",
    "                        origin integer,\\\n",
    "                        destination integer,\\\n",
    "                        demand integer);\".format(temp_table)\n",
    "\n",
    "    path_table = \"DROP TABLE IF EXISTS od_path CASCADE;\\\n",
    "                    CREATE TABLE od_path (id serial PRIMARY key,\\\n",
    "                    od integer references od_matrix (id),\\\n",
    "                    hash bytea UNIQUE,\\\n",
    "                    cost float, flow float );\"\n",
    "    # The link for many to many relationships.\n",
    "    # Each link can occur in multiple paths and each path contains multiple links\n",
    "    path2link = \"\"\"DROP TABLE IF EXISTS path2link CASCADE;\n",
    "                    CREATE TABLE path2link (\n",
    "                    pathid integer references od_path (id), \n",
    "                    link_id integer references {} (id));\n",
    "                   \"\"\".format(temp_table)\n",
    "    constants = \"drop table if exists constants;\\\n",
    "                    create table constants ( alfa float, \\\n",
    "                    beta float DEFAULT 4, theta float, beta_ps float);\\\n",
    "                    insert into constants values (0.5,4,0.1,-8.5);\"\n",
    "\n",
    "    sql_create = [copy_table,capacity,flow,flowcost,pkey,od_table,\n",
    "                  path_table,path2link,constants]\n",
    "    if 1:\n",
    "        command = '\\n'.join(sql_create)\n",
    "#    for command in sql_create:\n",
    "        cur = db.cursor()\n",
    "        print command\n",
    "        cur.execute(command)\n",
    "        db.commit()\n",
    "\n",
    "\n",
    "def od_matrix(db,data):\n",
    "    # The Origin Destination table. A static table with the demand data\n",
    "    \n",
    "    insert = \"INSERT INTO od_matrix (origin,destination,demand) VALUES (%s,%s,%s)\"\n",
    "    cur = db.cursor()\n",
    "    cur.executemany(insert,data)\n",
    "    db.commit()\n",
    "\n",
    "def od_path(db):\n",
    "    populate = \"INSERT INTO od_path (source,destination,cost,flow) VALUES (%s,%s,%s,%s)\"\n",
    "    \n",
    "    cur = db.cursor()\n",
    "    cur.execute(\"SELECT origin,destination,0,demand FROM od_matrix;\")\n",
    "    vals = cur.fetchall()\n",
    "    print vals\n",
    "    cur.executemany(populate,vals)\n",
    "    \n",
    "def getODpairs(db):\n",
    "    cur = db.cursor()\n",
    "    cur.execute(\"select origin,array_agg(id),array_agg(destination),\\\n",
    "                    array_agg(demand) from od_matrix group by origin;\")\n",
    "    res = cur.fetchall()\n",
    "    return res\n",
    "\n",
    "def orderPath(db):\n",
    "    cur = db.cursor()\n",
    "    cur.execute(\"select * from path2link order by costXXX\")\n",
    "    return cur.fetchall()\n",
    "\n",
    "def swapFlow(db,od_paths):\n",
    "    pairs = zip (od_paths,reversed(od_paths))\n",
    "    for i in range(len(pairs/2)):\n",
    "        denom = sqrt(pairs[i][0]**2+pairs[i][1]**2)\n",
    "        nomin = 0 #XXX\n",
    "\n",
    "def updateLinkflows(db):\n",
    "    for od in ODpairs:\n",
    "        #get_and_order_odPaths\n",
    "        for path in ODpath:\n",
    "            pass #\"set flow i\n"
   ]
  },
  {
   "cell_type": "code",
   "execution_count": 280,
   "metadata": {
    "collapsed": false
   },
   "outputs": [
    {
     "name": "stdout",
     "output_type": "stream",
     "text": [
      "DROP TABLE IF EXISTS ist_temp CASCADE;        CREATE TABLE ist_temp as SELECT * from ist_2po_4pgr;\n",
      "ALTER table ist_temp add column capacity integer DEFAULT 2800;                \n",
      "ALTER table ist_temp add column flow double precision DEFAULT 0;\n",
      "ALTER table ist_temp add column dyncost double precision ;                update ist_temp set dyncost = cost;                \n",
      "alter table ist_temp add constraint pkey_ist_temp PRIMARY KEY (id);            CREATE INDEX idx_ist_temp_source ON ist_temp              USING btree (source);            CREATE INDEX idx_ist_temp_target ON ist_temp              USING btree (target);\n",
      "DROP TABLE IF EXISTS od_matrix CASCADE;                CREATE TABLE od_matrix (id serial PRIMARY key,                         origin integer,                        destination integer,                        demand integer);\n",
      "DROP TABLE IF EXISTS od_path CASCADE;                    CREATE TABLE od_path (id serial PRIMARY key,                    od integer references od_matrix (id),                    hash bytea UNIQUE,                    cost float, flow float );\n",
      "DROP TABLE IF EXISTS path2link CASCADE;\n",
      "                    CREATE TABLE path2link (\n",
      "                    pathid integer references od_path (id), \n",
      "                    link_id integer references ist_temp (id));\n",
      "                   \n",
      "drop table if exists constants;                    create table constants ( alfa float,                     beta float DEFAULT 4, theta float, beta_ps float);                    insert into constants values (0.5,4,0.1,-8.5);\n",
      "CPU times: user 254 µs, sys: 206 µs, total: 460 µs\n",
      "Wall time: 5.58 s\n",
      "[(173656, [1, 2, 3, 4, 5, 6], [187633, 132750, 50429, 4783, 2281, 2761], [400, 900, 810, 220, 230, 240]), (187633, [7, 8], [173656, 2761], [1850, 1860])]\n"
     ]
    }
   ],
   "source": [
    "db = pg2.connect('postgres://{user}@{host}:{port}/{db}'.format(**con))\n",
    "%time create_tables(db,'ist_2po_4pgr','ist_temp')\n",
    "data2 = [(173656, 187633, 400),\n",
    " (173656, 132750, 900),\n",
    " (173656, 50429, 810),\n",
    " (173656, 4783, 220),\n",
    " (173656, 2281, 230),\n",
    " (173656, 2761, 240),\n",
    " (187633,173656,1850),\n",
    " (187633,2761,1860)]\n",
    "od_matrix(db,data2)\n",
    "\n",
    "db.commit()\n",
    "ods = getODpairs(db)\n",
    "print ods"
   ]
  },
  {
   "cell_type": "code",
   "execution_count": 23,
   "metadata": {
    "collapsed": false
   },
   "outputs": [],
   "source": [
    "import time\n",
    "\n",
    "def get_K_routes(db,table,source,dest,demand,direct=False,reverse=False):\n",
    "    pg_kdijkstra = (\"\"\"pgr_kdijkstrapath('SELECT id, source,\n",
    "                target, dyncost as cost, x1, y1, x2, y2 \n",
    "               from {table}',{source},array{dest},{direct},{reverse})\"\"\".\n",
    "                    format(table=table, source=source,\n",
    "                           dest=dest,direct=direct,reverse=reverse))\n",
    "    route = \"\"\"DROP TABLE IF EXISTS temp;\n",
    "            CREATE TABLE temp AS SELECT {} as source,* \\\n",
    "            FROM {}\"\"\".format(source,pg_kdijkstra)\n",
    "    \n",
    "    path_cost_dijk = \"drop table if exists new_paths_costs;\\\n",
    "                        create table new_paths_costs as select {} as source,id1 as target,sum(cost) as cost \\\n",
    "                        from temp group by id1;\".format(source)\n",
    "\n",
    "\n",
    "    start = time.time()\n",
    "    cur = db.cursor()\n",
    "\n",
    "    cur.execute(route)\n",
    "    cur.execute(path_cost_dijk)\n",
    "\n",
    "    db.commit()\n",
    "    end = time.time()\n",
    "    print \"Dijkstra:\",end-start\n",
    "\n",
    "def MD5_of_path(db):\n",
    "    md5=\"drop table if exists md5oflinks; \\\n",
    "            create table md5oflinks as \\\n",
    "            select id1,digest((string_agg(\\\n",
    "            to_char(id3,'999999'),'')),'md5') as hash\\\n",
    "            from temp group by id1;\"\n",
    "    cur = db.cursor()\n",
    "    cur.execute(md5.format(source))\n",
    "\n",
    "    \n",
    "def insert_into_path2links(db):\n",
    "    p2l =\"select od_path.id,temp.id3 from\\\n",
    "            temp, od_path inner join od_matrix\\\n",
    "            on od_path.od=od_matrix.id where \\\n",
    "            temp.id3>-1 and temp.id1=od_matrix.destination \\\n",
    "            EXCEPT select pathid,link_id from path2link;\"  \n",
    "    insert=\"INSERT INTO path2link (pathid,link_id) \\\n",
    "                    {}\".format(p2l)\n",
    "    \n",
    "    start = time.time()\n",
    "    cur = db.cursor()\n",
    "    cur.execute(insert)\n",
    "    end = time.time()\n",
    "    db.commit()\n",
    "    print \"Insert into 'path2link: {}\".format(end-start)\n",
    "\n",
    "def insert_into_od_path(db):\n",
    "    insert_path=\"INSERT INTO od_path (od,hash,cost,flow) \\\n",
    "                select od,hash,cost,0 from \\\n",
    "                md5oflinks,cheaper_path where id1=destination;\" \n",
    "    \n",
    "    get_min_cost = \"drop table if exists min_od_costs;\\\n",
    "                    create table min_od_costs as select od,min(cost) from od_path group by od;\"\n",
    "\n",
    "    get_path_if_cheaper = \"drop table if exists cheaper_path;\\\n",
    "                            create table cheaper_path as select newp.od,newp.origin,\\\n",
    "                            newp.destination,newp.cost,newp.demand,min_od_costs.min from \\\n",
    "                            (select id as od, cost,origin,destination,demand from \\\n",
    "                            new_paths_costs join od_matrix on origin=source and destination=target)\\\n",
    "                            as newp join min_od_costs on newp.od=min_od_costs.od\\\n",
    "                            where newp.cost<=min_od_costs.min;\"\n",
    "\n",
    "\n",
    "    cur = db.cursor()\n",
    "    cur.execute(get_min_cost)\n",
    "    cur.execute(get_path_if_cheaper)\n",
    "    cur.execute(insert_path)\n",
    "\n",
    "    db.commit()\n",
    "\n",
    "def initial_insert_into_od_path(db):\n",
    "    insert_path=\"INSERT INTO od_path (od,hash,cost,flow) \\\n",
    "                select od,hash,cost,0 from \\\n",
    "                md5oflinks,cheaper_path where id1=destination;\" \n",
    "    \n",
    "    get_min_cost = \"drop table if exists min_od_costs;\\\n",
    "                    create table min_od_costs as select od,min(cost) from od_path group by od;\"\n",
    "\n",
    "    get_path_if_cheaper = \"drop table if exists cheaper_path;\\\n",
    "                            create table cheaper_path as select newp.od,newp.origin,\\\n",
    "                            newp.destination,0 as cost,newp.demand from \\\n",
    "                            (select id as od, cost,origin,destination,demand from \\\n",
    "                            new_paths_costs join od_matrix on origin=source and destination=target)\\\n",
    "                            as newp ;\"\n",
    "\n",
    "\n",
    "    cur = db.cursor()\n",
    "    cur.execute(get_min_cost)\n",
    "    cur.execute(get_path_if_cheaper)\n",
    "    cur.execute(insert_path)\n",
    "\n",
    "    db.commit()\n",
    "\n",
    "\n",
    "#db = pg2.connect('postgres://{user}@{host}:{port}/{db}'.format(**con))\n",
    "#for od in ods:\n",
    "#    print od\n",
    "#    get_K_routes(db,'ist_temp',od[0],od[2],od[3])\n",
    "#db.commit()\n",
    "#db = pg2.connect('postgres://{user}@{host}:{port}/{db}'.format(**con))\n",
    "#step0(db,data2)"
   ]
  },
  {
   "cell_type": "code",
   "execution_count": 11,
   "metadata": {
    "collapsed": false
   },
   "outputs": [],
   "source": [
    "def initial_loading(db):\n",
    "    cur = db.cursor()\n",
    "    cur.execute(\"update od_path set flow = demand\\\n",
    "                from od_matrix where od_matrix.id = od_path.od;\")\n",
    "    db.commit()\n",
    "#initial_loading(db)    "
   ]
  },
  {
   "cell_type": "markdown",
   "metadata": {},
   "source": [
    "The Path Size logit is describing the probability of choosing a path by the equation:\n",
    "\n",
    "$ Pr_{mr}(\\mathbf{c}(\\mathbf{x})|R_{m}) = \\frac{exp(-\\theta c_{mr}(\\mathbf{x})+\\beta_{PS}ln(PS_{mr}))}{\\sum_{s\\in R_m}{exp(-\\theta c_{ms}(\\mathbf{x})+\\beta_{PS}ln(PS_{ms}))}}$\n",
    "where $PS_{mr}$ is given by:\n",
    "\n",
    "$PS_{mr}=\\sum_{a\\in\\gamma}\\frac{l_a}{L_{mr}}\\frac{1}{\\sum_{k\\in R_m}{\\delta_{amk}}}$\n",
    "\n",
    "Here we notice that $L_{mr}$ does not depend on $a$. We can then move it outside the sum:\n",
    "\n",
    "$PS_{mr}=\\frac{1}{L_{mr}}\\sum_{a\\in\\gamma}\\frac{l_a}{\\sum_{k\\in R_m}{\\delta_{amk}}}$\n",
    "\n",
    "\n",
    "To calculate the PS logit, we first calculate the PS by the following SQL, which will calculate the sum:\n",
    "\n",
    "```SQL\n",
    "SELECT SUM(x.y) FROM\n",
    "    (SELECT l.cost/d.delta as y FROM ist_temp l \n",
    "    INNER JOIN \n",
    "      (SELECT link_id, COUNT(link_id) AS delta FROM path2link GROUP BY link_id) as d \n",
    "    ON l.id=d.link_id) as x;```\n",
    "\n",
    "\n",
    "Then we calculate $L_{mr}$ by creating a table to hold the results:\n",
    "\n",
    "```SQL\n",
    "create table Lmr as \n",
    "select pathid,sum(cost) as Lmr from path2link \n",
    "group by pathid;on p.link_id; ```\n",
    "\n",
    "For use in the RSUE solution we need to calculate the transformed cost :\n",
    "\n",
    "$\\tilde{c}(\\mathbf{x})= \\chi_{mr}exp(\\theta(c_{mr}(\\mathbf{x})+\\beta_{PS}ln(PS_{mr}))) $\n",
    "\n",
    "We can calculate $PS_{mr}$ by combining the results of the above two SQL statements and we can calculate the current cost $c_{mr}(\\mathbf{x})$ by the following SQL:\n",
    "\n",
    "```SQL\n",
    "\n",
    "SELECT pathid,sum(cost*(1+0.5*(flow/capacity)^4)) from path2link group by pathid;```\n",
    "\n",
    "The transformed cost os also used in the relative gap calculation (step 4), which is used as a convergence measure, and in the pairwise swap algorithm (step 2)\n"
   ]
  },
  {
   "cell_type": "code",
   "execution_count": 38,
   "metadata": {
    "collapsed": false
   },
   "outputs": [],
   "source": [
    "def generalised_cost(db):\n",
    "    # Update temporary edge table with total flow on every used link\n",
    "    # Done in three steps:\n",
    "    #    Create a temporary table containing the new flow on all used links\n",
    "    #    Update ist_temp flow from the temporary table\n",
    "    #    update ist_temp dyncost with BPR calculation from the flow\n",
    "    \n",
    "    flow_from_path = \"drop table if exists temp2;\\\n",
    "                    create table temp2 as select link_id,sum(i.flow) as flow \\\n",
    "                        FROM path2link \\\n",
    "                        JOIN od_path i ON\\\n",
    "                        i.id = pathid group by link_id;\"\n",
    "    update_flow =   \"update ist_temp set flow= t.flow \\\n",
    "                        from temp2 t where t.link_id = id;\"\n",
    "    update_dyncost = \"update ist_temp as i set dyncost = \\\n",
    "                        i.cost*(1+0.5*(t.flow/i.capacity)^4) from \\\n",
    "                        temp2 t where t.link_id = i.id;\"\n",
    " \n",
    "    cost_path = \"drop table if exists pathsum;\\\n",
    "                create table pathsum as \\\n",
    "                select pathid,sum(i.dyncost) as cost \\\n",
    "                from path2link JOIN ist_temp i ON\\\n",
    "                i.id= link_id group by pathid;\\\n",
    "                update od_path set cost=pathsum.cost from pathsum\\\n",
    "                where od_path.id=pathsum.pathid\"#Cost of path\n",
    "    cur = db.cursor()    \n",
    "    cur.execute(flow_from_path)\n",
    "    cur.execute(update_flow)\n",
    "    cur.execute(update_dyncost)\n",
    "    cur.execute(cost_path)\n",
    "    db.commit()\n",
    "    \n",
    "def transformed_cost(db):\n",
    "    t_cost=\"drop table if exists trans_cost;\\\n",
    "            create table trans_cost as\\\n",
    "            select od_path.id,od_path.od,\\\n",
    "            exp(constants.theta*(od_path.cost+\\\n",
    "            constants.beta*ln(ps_path.ps)))*od_path.flow as tcost from\\\n",
    "            od_path join ps_path on od_path.id=ps_path.pathid\\\n",
    "            join constants on 1=1;\"\n",
    "    cur = db.cursor()\n",
    "    cur.execute(t_cost)\n",
    "    db.commit()\n",
    "    \n",
    "\n",
    "db = pg2.connect('postgres://{user}@{host}:{port}/{db}'.format(**con))\n",
    "generalised_cost(db)    \n",
    "db.commit()"
   ]
  },
  {
   "cell_type": "code",
   "execution_count": 7,
   "metadata": {
    "collapsed": false
   },
   "outputs": [],
   "source": [
    "Lmr = \"drop table if exists lmr; \\\n",
    "       create table Lmr as select pathid,sum(i.cost) as Lmr \\\n",
    "            from path2link JOIN ist_temp i\\\n",
    "            ON i.id=link_id group by pathid;\"\n",
    "    \n",
    "#To get the sum of deltas (denominator of eq 24)\n",
    "la_over_deltasum = \"drop table if exists link_ps;\\\n",
    "                    create table link_ps as \\\n",
    "                    select d.link_id,l.dyncost/d.delta as ps from ist_temp l\\\n",
    "                    inner join \\\n",
    "                    (select link_id,count(link_id) as delta \\\n",
    "                    from path2link group by link_id) as d \\\n",
    "                    on l.id=d.link_id;\"\n",
    "ps =\"drop table if exists PS;\\\n",
    "     create table PS as Select p2l.pathid,sum(lps.ps) as sum \\\n",
    "                     from path2link p2l\\\n",
    "                     JOIN link_ps lps ON lps.link_id=p2l.link_id\\\n",
    "                     group by p2l.pathid; \"\n",
    "ps_total=\"drop table if exists ps_path;\\\n",
    "            create table ps_path as \\\n",
    "            select lmr.pathid,ps.sum/lmr.lmr as ps from ps join lmr \\\n",
    "            on lmr.pathid = ps.pathid;\"\n",
    "def PS(db):\n",
    "    # Save the Lmr in a table\n",
    "    # The Lmr is the sum of cost of the links the path consists of\n",
    "    \n",
    "    cur = db.cursor()\n",
    "    cur.execute(Lmr)\n",
    "    cur.execute(la_over_deltasum)\n",
    "    cur.execute(ps)\n",
    "    cur.execute(ps_total)\n",
    "\n",
    "\n",
    "db = pg2.connect('postgres://{user}@{host}:{port}/{db}'.format(**con))\n",
    "PS(db)\n",
    "db.commit()\n",
    "db = pg2.connect('postgres://{user}@{host}:{port}/{db}'.format(**con))\n",
    "transformed_cost(db)\n",
    "db.commit()"
   ]
  },
  {
   "cell_type": "code",
   "execution_count": 8,
   "metadata": {
    "collapsed": false
   },
   "outputs": [
    {
     "name": "stdout",
     "output_type": "stream",
     "text": [
      "SortnSwap 1 2 0.5\n"
     ]
    }
   ],
   "source": [
    "class SortnSwap(object):\n",
    "\n",
    "    def __init__(self,d=0):\n",
    "        self.n = 0\n",
    "        self.d = d\n",
    "    def sort_and_swap(self,db):\n",
    "\n",
    "        sort_odpath = \"select id,od,cost,flow from od_path order by od,cost DESC;\"\n",
    "        cur = db.cursor()\n",
    "        self.n += 1\n",
    "        denom = sum([x**(self.d) for x in range(self.n+1)])\n",
    "        gamma = ((1.0*self.n)**self.d)/denom\n",
    "        print 'SortnSwap',self.n,denom,gamma\n",
    "        cur.execute(sort_odpath)\n",
    "        res = cur.fetchall()\n",
    "        od_path = {}\n",
    "        for row in res:\n",
    "            od_path.setdefault(row[1],[]).append((row[0],row[2],row[3]))\n",
    "        res = []\n",
    "        for k in od_path:\n",
    "            l = od_path[k]\n",
    "            pair = zip(l,reversed(l))[:len(l)/2]\n",
    "            for hi,lo in pair:\n",
    "                Gamma = (hi[1]-lo[1])/sqrt(hi[1]**2+lo[1]**2)\n",
    "                lo_f = lo[2]+Gamma*hi[2]*gamma\n",
    "                hi_f = hi[2]-Gamma*hi[2]*gamma\n",
    "                res.append((hi[0],hi_f))\n",
    "                res.append((lo[0],lo_f))\n",
    "                update=\"update od_path set flow={} where id ={};\"\n",
    "                cur.execute(update.format(lo_f,lo[0]))\n",
    "                cur.execute(update.format(hi_f,hi[0]))\n",
    "\n",
    "        db.commit()\n",
    "s = SortnSwap()\n",
    "s.sort_and_swap(db)"
   ]
  },
  {
   "cell_type": "code",
   "execution_count": 13,
   "metadata": {
    "collapsed": false
   },
   "outputs": [],
   "source": [
    "# Step 0\n",
    "# Get O-D Matrix\n",
    "# Create solution table (id, O,D, cost, ...\n",
    "# for every O :\n",
    "#     Use kDikstrapath to get shortest path to all destintions \n",
    "# Do all or nothing assignment\n",
    "# Calculate flow and generalised cost\n",
    "def step0(db,OD_data):\n",
    "    \n",
    "    create_tables(db,'ist_2po_4pgr','ist_temp')\n",
    "    print 'Tables created'\n",
    "    od_matrix(db,OD_data)\n",
    "    ods = getODpairs(db)\n",
    "    db.commit()\n",
    "    for od in ods:\n",
    "        print 'Start KDijkstra'\n",
    "        get_K_routes(db,'ist_temp',od[0],od[2],od[3]) \n",
    "        print 'MD5'\n",
    "        MD5_of_path(db)\n",
    "        print 'OD path'\n",
    "        initial_insert_into_od_path(db) \n",
    "        print 'Path2Links'\n",
    "        insert_into_path2links(db)\n",
    "        db.commit()\n",
    "    insert_into_od_path(db)\n",
    "    cur = db.cursor()\n",
    "    cur.execute(\"update od_path set flow = demand\\\n",
    "                from od_matrix where od_matrix.id = od_path.od;\")\n",
    "    db.commit()\n",
    "    generalised_cost(db) \n",
    "    PS(db)\n",
    "    transformed_cost(db)\n",
    "\n",
    "    db.commit()\n",
    "\n",
    "\n",
    "        \n",
    "# Step 1\n",
    "    \n",
    "# for every O :\n",
    "#     Use kDikstra to get shortest path to all destinations \n",
    "#          get shortest path with current cost and flow\n",
    "# If new shortest path are found add to solution table with zero flow\n",
    "\n",
    "def step1(db):\n",
    "    ods = getODpairs(db)\n",
    "    for od in ods:\n",
    "        get_K_routes(db,'ist_temp',od[0],od[2],od[3]) \n",
    "        MD5_of_path(db)\n",
    "        insert_into_od_path(db) \n",
    "        insert_into_path2links(db)\n",
    "        db.commit()\n",
    "\n",
    "    \n",
    "# Step 2\n",
    "# for each path in table calculate the tranformed cost\n",
    "#    calculate the flows\n",
    "#    calculate the generalised cost\n",
    "#    calculate the transformed cost (wirh PS-logit\n",
    "# Sort and pair and swap\n",
    "def step2(db):\n",
    "    generalised_cost(db) \n",
    "    PS(db)\n",
    "    transformed_cost(db)\n",
    "\n",
    "    s.sort_and_swap(db)\n",
    "\n",
    "# step 3\n",
    "# Network loading and generalised cost calculation\n",
    "def step3(db):\n",
    "    generalised_cost(db) \n",
    "    PS(db)\n",
    "    transformed_cost(db)\n",
    "\n",
    "# Step 4\n",
    "# Gap calculation and convergence check\n",
    "def step4(db):\n",
    "    denom =\"select sum(tcost*flow) \\\n",
    "            from trans_cost join od_path on \\\n",
    "            trans_cost.id=od_path.id;\"\n",
    "    min_tcost_table = \"drop table if exists tcost_vs_min;\\\n",
    "                create table tcost_vs_min as \\\n",
    "                select id,t.od,t.tcost,m.tcost as mcost from \\\n",
    "                trans_cost t join (select od,min(tcost) tcost from\\\n",
    "                trans_cost group by od) as m on \\\n",
    "                t.od=m.od order by t.od;\"\n",
    "    numerator = \"Select sum(flow*(tcost-mcost)) from tcost_vs_min join\\\n",
    "                od_path on od_path.id = tcost_vs_min.id;\"\n",
    "    cur = db.cursor()\n",
    "    cur.execute(denom)\n",
    "    de = cur.fetchone()[0]\n",
    "    cur.execute(min_tcost_table)\n",
    "    cur.execute(numerator)\n",
    "    mini = cur.fetchone()[0]\n",
    "    return mini/de"
   ]
  },
  {
   "cell_type": "code",
   "execution_count": 34,
   "metadata": {
    "collapsed": false
   },
   "outputs": [],
   "source": [
    "generalised_cost(db) \n",
    "PS(db)\n",
    "transformed_cost(db)\n",
    "\n"
   ]
  },
  {
   "cell_type": "code",
   "execution_count": 53,
   "metadata": {
    "collapsed": false
   },
   "outputs": [
    {
     "name": "stdout",
     "output_type": "stream",
     "text": [
      "DROP TABLE IF EXISTS ist_temp CASCADE;        CREATE TABLE ist_temp as SELECT * from ist_2po_4pgr;\n",
      "ALTER table ist_temp add column capacity integer DEFAULT 2800;                \n",
      "ALTER table ist_temp add column flow double precision DEFAULT 0;\n",
      "ALTER table ist_temp add column dyncost double precision ;                update ist_temp set dyncost = cost;                \n",
      "alter table ist_temp add constraint pkey_ist_temp PRIMARY KEY (id);            CREATE INDEX idx_ist_temp_source ON ist_temp              USING btree (source);            CREATE INDEX idx_ist_temp_target ON ist_temp              USING btree (target);\n",
      "DROP TABLE IF EXISTS od_matrix CASCADE;                CREATE TABLE od_matrix (id serial PRIMARY key,                         origin integer,                        destination integer,                        demand integer);\n",
      "DROP TABLE IF EXISTS od_path CASCADE;                    CREATE TABLE od_path (id serial PRIMARY key,                    od integer references od_matrix (id),                    hash bytea UNIQUE,                    cost float, flow float );\n",
      "DROP TABLE IF EXISTS path2link CASCADE;\n",
      "                    CREATE TABLE path2link (\n",
      "                    pathid integer references od_path (id), \n",
      "                    link_id integer references ist_temp (id));\n",
      "                   \n",
      "drop table if exists constants;                    create table constants ( alfa float,                     beta float DEFAULT 4, theta float, beta_ps float);                    insert into constants values (0.5,4,0.1,-8.5);\n",
      "Tables created\n",
      "Start KDijkstra\n",
      "Dijkstra: 0.555579900742\n",
      "MD5\n",
      "OD path\n",
      "Path2Links\n",
      "Insert into 'path2link: 0.0222930908203\n",
      "Start KDijkstra\n",
      "Dijkstra: 0.401445865631\n",
      "MD5\n",
      "OD path\n",
      "Path2Links\n",
      "Insert into 'path2link: 0.00871586799622\n",
      "CPU times: user 3.62 ms, sys: 3 ms, total: 6.62 ms\n",
      "Wall time: 6.41 s\n"
     ]
    }
   ],
   "source": [
    "%%time\n",
    "data2 = [(173656, 187633, 400),\n",
    " (173656, 132750, 900),\n",
    " (173656, 50429, 810),\n",
    " (173656, 4783, 220),\n",
    " (173656, 2281, 230),\n",
    " (173656, 2761, 240),\n",
    " (187633,173656,1850),\n",
    " (187633,2761,1860)]\n",
    "\n",
    "\n",
    "db = pg2.connect('postgres://{user}@{host}:{port}/{db}'.format(**con))\n",
    "s = SortnSwap(2)\n",
    "step0(db,data2)\n"
   ]
  },
  {
   "cell_type": "code",
   "execution_count": 52,
   "metadata": {
    "collapsed": false
   },
   "outputs": [
    {
     "name": "stdout",
     "output_type": "stream",
     "text": [
      "Dijkstra: 0.422533035278\n",
      "Insert into 'path2link: 0.113002061844\n",
      "Dijkstra: 0.396077871323\n",
      "Insert into 'path2link: 0.038388967514\n",
      "SortnSwap 4 30 0.533333333333\n",
      "========> 0.834805229642\n",
      "Loop time 1.85020279884\n",
      "Dijkstra: 0.408682107925\n",
      "Insert into 'path2link: 0.112034082413\n",
      "Dijkstra: 0.42481803894\n",
      "Insert into 'path2link: 0.0806980133057\n",
      "SortnSwap 5 55 0.454545454545\n",
      "========> 0.867909476524\n",
      "Loop time 1.97588992119\n",
      "Dijkstra: 0.420463085175\n",
      "Insert into 'path2link: 0.116852998734\n",
      "Dijkstra: 0.416489124298\n",
      "Insert into 'path2link: 0.0231988430023\n",
      "SortnSwap 6 91 0.395604395604\n",
      "========> 0.925412132822\n",
      "Loop time 1.96468496323\n",
      "Dijkstra: 0.408872127533\n",
      "Insert into 'path2link: 0.169047117233\n",
      "Dijkstra: 0.424016952515\n",
      "Insert into 'path2link: 0.0805130004883\n",
      "SortnSwap 7 140 0.35\n",
      "========> 0.910955179459\n",
      "Loop time 2.1250128746\n",
      "Dijkstra: 0.419345855713\n",
      "Insert into 'path2link: 0.363719940186\n",
      "Dijkstra: 0.435184955597\n",
      "Insert into 'path2link: 0.054475069046\n",
      "SortnSwap 8 204 0.313725490196\n",
      "========> 0.951055991879\n",
      "Loop time 2.42702794075\n",
      "Dijkstra: 0.410542964935\n",
      "Insert into 'path2link: 0.128113985062\n",
      "Dijkstra: 0.412660837173\n",
      "Insert into 'path2link: 0.0397579669952\n",
      "SortnSwap 9 285 0.284210526316\n",
      "========> 0.926203042021\n",
      "Loop time 2.2080821991\n",
      "Dijkstra: 0.468065023422\n",
      "Insert into 'path2link: 0.436891794205\n",
      "Dijkstra: 0.458056926727\n",
      "Insert into 'path2link: 0.0761690139771\n",
      "SortnSwap 10 385 0.25974025974\n",
      "========> 0.920592829061\n",
      "Loop time 3.02614498138\n",
      "Dijkstra: 0.438762903214\n",
      "Insert into 'path2link: 0.536609172821\n",
      "Dijkstra: 0.433224916458\n",
      "Insert into 'path2link: 0.0540719032288\n",
      "SortnSwap 11 506 0.239130434783\n",
      "========> 0.9706715054\n",
      "Loop time 2.88790512085\n",
      "Dijkstra: 0.464174985886\n",
      "Insert into 'path2link: 0.415750026703\n",
      "Dijkstra: 0.448698043823\n",
      "Insert into 'path2link: 0.0738101005554\n",
      "SortnSwap 12 650 0.221538461538\n",
      "========> 0.962062758098\n",
      "Loop time 2.94332098961\n",
      "Dijkstra: 0.412173032761\n",
      "Insert into 'path2link: 0.674149990082\n",
      "Dijkstra: 0.436218976974\n",
      "Insert into 'path2link: 0.0862700939178\n",
      "SortnSwap 13 819 0.206349206349\n",
      "========> 0.967090350007\n",
      "Loop time 3.2276160717\n",
      "CPU times: user 59.8 ms, sys: 42.2 ms, total: 102 ms\n",
      "Wall time: 24.6 s\n"
     ]
    }
   ],
   "source": [
    "%%time\n",
    "for i in range(10):\n",
    "    start = time.time()\n",
    "    db.commit()\n",
    "    step1(db)\n",
    "    step2(db)\n",
    "    step3(db)\n",
    "    print '========>',step4(db)\n",
    "    end = time.time()\n",
    "    print \"Loop time {}\".format(end-start)\n",
    "    db.commit()"
   ]
  },
  {
   "cell_type": "code",
   "execution_count": 58,
   "metadata": {
    "collapsed": false
   },
   "outputs": [
    {
     "name": "stdout",
     "output_type": "stream",
     "text": [
      "Dijkstra: 0.440021038055\n",
      "Insert into 'path2link: 0.0348780155182\n",
      "Dijkstra: 0.456708908081\n",
      "Insert into 'path2link: 0.0119769573212\n"
     ]
    }
   ],
   "source": [
    "db.commit()\n",
    "step1(db)\n",
    "db.commit()\n",
    "\n"
   ]
  },
  {
   "cell_type": "code",
   "execution_count": 55,
   "metadata": {
    "collapsed": false
   },
   "outputs": [
    {
     "name": "stdout",
     "output_type": "stream",
     "text": [
      "SortnSwap 1 1 1.0\n"
     ]
    }
   ],
   "source": [
    "step2(db)\n",
    "db.commit()"
   ]
  },
  {
   "cell_type": "code",
   "execution_count": 56,
   "metadata": {
    "collapsed": true
   },
   "outputs": [],
   "source": [
    "db.commit()\n",
    "step3(db)"
   ]
  },
  {
   "cell_type": "code",
   "execution_count": 57,
   "metadata": {
    "collapsed": false
   },
   "outputs": [
    {
     "name": "stdout",
     "output_type": "stream",
     "text": [
      "0.133737137714\n"
     ]
    }
   ],
   "source": [
    "print step4(db)\n",
    "db.commit()"
   ]
  },
  {
   "cell_type": "code",
   "execution_count": 59,
   "metadata": {
    "collapsed": true
   },
   "outputs": [],
   "source": [
    "cur = db.cursor()\n",
    "for i in range(100):\n",
    "    cur.execute('DROP TABLE current_sol{}'.format(i))\n",
    "db.commit()"
   ]
  },
  {
   "cell_type": "code",
   "execution_count": 60,
   "metadata": {
    "collapsed": false
   },
   "outputs": [
    {
     "data": {
      "text/plain": [
       "2"
      ]
     },
     "execution_count": 60,
     "metadata": {},
     "output_type": "execute_result"
    }
   ],
   "source": [
    "1+1"
   ]
  },
  {
   "cell_type": "code",
   "execution_count": 63,
   "metadata": {
    "collapsed": true
   },
   "outputs": [],
   "source": [
    "def bpr(flow,cap):\n",
    "    return (1+0.5*(flow/cap)**4)"
   ]
  },
  {
   "cell_type": "code",
   "execution_count": 64,
   "metadata": {
    "collapsed": false
   },
   "outputs": [
    {
     "data": {
      "text/plain": [
       "0.0014832487349999998"
      ]
     },
     "execution_count": 64,
     "metadata": {},
     "output_type": "execute_result"
    }
   ],
   "source": [
    "0.00042003504*bpr(3000.,2000.)"
   ]
  },
  {
   "cell_type": "code",
   "execution_count": 67,
   "metadata": {
    "collapsed": false
   },
   "outputs": [
    {
     "data": {
      "text/plain": [
       "0.0010478191666839077"
      ]
     },
     "execution_count": 67,
     "metadata": {},
     "output_type": "execute_result"
    }
   ],
   "source": [
    "0.00067799236*bpr(2044.,2000.)"
   ]
  },
  {
   "cell_type": "code",
   "execution_count": 7,
   "metadata": {
    "collapsed": true
   },
   "outputs": [],
   "source": [
    "db = pg2.connect('postgres://{user}@{host}:{port}/{db}'.format(**con))"
   ]
  },
  {
   "cell_type": "code",
   "execution_count": 3,
   "metadata": {
    "collapsed": true
   },
   "outputs": [],
   "source": [
    "cur = db.cursor()"
   ]
  },
  {
   "cell_type": "code",
   "execution_count": 11,
   "metadata": {
    "collapsed": true
   },
   "outputs": [],
   "source": [
    "cur.execute(\"select * from twoway2oneway where reverse_cost<10000;\")\n",
    "res = cur.fetchmany(1000)"
   ]
  },
  {
   "cell_type": "code",
   "execution_count": 12,
   "metadata": {
    "collapsed": false
   },
   "outputs": [
    {
     "ename": "IndexError",
     "evalue": "list index out of range",
     "output_type": "error",
     "traceback": [
      "\u001b[0;31m---------------------------------------------------------------------------\u001b[0m",
      "\u001b[0;31mIndexError\u001b[0m                                Traceback (most recent call last)",
      "\u001b[0;32m<ipython-input-12-883a13b2d9ab>\u001b[0m in \u001b[0;36m<module>\u001b[0;34m()\u001b[0m\n\u001b[0;32m----> 1\u001b[0;31m \u001b[0mres\u001b[0m\u001b[0;34m[\u001b[0m\u001b[0;36m10\u001b[0m\u001b[0;34m]\u001b[0m\u001b[0;34m\u001b[0m\u001b[0m\n\u001b[0m",
      "\u001b[0;31mIndexError\u001b[0m: list index out of range"
     ]
    }
   ],
   "source": [
    "res[10]"
   ]
  },
  {
   "cell_type": "code",
   "execution_count": 10,
   "metadata": {
    "collapsed": false
   },
   "outputs": [
    {
     "data": {
      "text/plain": [
       "[]"
      ]
     },
     "execution_count": 10,
     "metadata": {},
     "output_type": "execute_result"
    }
   ],
   "source": [
    "res"
   ]
  },
  {
   "cell_type": "code",
   "execution_count": null,
   "metadata": {
    "collapsed": true
   },
   "outputs": [],
   "source": [
    "insert into aar_modified\n",
    "(\n",
    "  osm_id ,\n",
    "  osm_name ,\n",
    "  osm_meta,\n",
    "  osm_source_id ,\n",
    "  osm_target_id ,\n",
    "  clazz ,\n",
    "  flags ,\n",
    "  source ,\n",
    "  target ,\n",
    "  km ,\n",
    "  kmh ,\n",
    "  cost ,\n",
    "  reverse_cost ,\n",
    "  x1 ,\n",
    "  y1 ,\n",
    "  x2 ,\n",
    "  y2 ,\n",
    "  geom_way \n",
    ")"
   ]
  }
 ],
 "metadata": {
  "kernelspec": {
   "display_name": "Python 2",
   "language": "python",
   "name": "python2"
  },
  "language_info": {
   "codemirror_mode": {
    "name": "ipython",
    "version": 2
   },
   "file_extension": ".py",
   "mimetype": "text/x-python",
   "name": "python",
   "nbconvert_exporter": "python",
   "pygments_lexer": "ipython2",
   "version": "2.7.10"
  }
 },
 "nbformat": 4,
 "nbformat_minor": 0
}
