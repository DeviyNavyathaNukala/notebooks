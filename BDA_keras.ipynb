{
 "cells": [
  {
   "cell_type": "markdown",
   "metadata": {},
   "source": [
    "# Keras eksempel med tilfældige data"
   ]
  },
  {
   "cell_type": "code",
   "execution_count": 1,
   "metadata": {},
   "outputs": [
    {
     "name": "stdout",
     "output_type": "stream",
     "text": [
      "Populating the interactive namespace from numpy and matplotlib\n"
     ]
    }
   ],
   "source": [
    "%pylab inline"
   ]
  },
  {
   "cell_type": "code",
   "execution_count": 16,
   "metadata": {},
   "outputs": [
    {
     "name": "stdout",
     "output_type": "stream",
     "text": [
      "Epoch 1/20\n",
      "1000/1000 [==============================] - 0s 270us/step - loss: 2.3782 - acc: 0.0940\n",
      "Epoch 2/20\n",
      "1000/1000 [==============================] - 0s 13us/step - loss: 2.3607 - acc: 0.0950\n",
      "Epoch 3/20\n",
      "1000/1000 [==============================] - 0s 15us/step - loss: 2.3347 - acc: 0.1040\n",
      "Epoch 4/20\n",
      "1000/1000 [==============================] - 0s 13us/step - loss: 2.3272 - acc: 0.0860\n",
      "Epoch 5/20\n",
      "1000/1000 [==============================] - 0s 15us/step - loss: 2.3159 - acc: 0.1110\n",
      "Epoch 6/20\n",
      "1000/1000 [==============================] - 0s 14us/step - loss: 2.3121 - acc: 0.1020\n",
      "Epoch 7/20\n",
      "1000/1000 [==============================] - 0s 13us/step - loss: 2.3095 - acc: 0.1040\n",
      "Epoch 8/20\n",
      "1000/1000 [==============================] - 0s 14us/step - loss: 2.3178 - acc: 0.0910\n",
      "Epoch 9/20\n",
      "1000/1000 [==============================] - 0s 14us/step - loss: 2.3152 - acc: 0.0980\n",
      "Epoch 10/20\n",
      "1000/1000 [==============================] - 0s 13us/step - loss: 2.3080 - acc: 0.1070\n",
      "Epoch 11/20\n",
      "1000/1000 [==============================] - 0s 13us/step - loss: 2.3043 - acc: 0.1000\n",
      "Epoch 12/20\n",
      "1000/1000 [==============================] - 0s 12us/step - loss: 2.2973 - acc: 0.1210\n",
      "Epoch 13/20\n",
      "1000/1000 [==============================] - 0s 14us/step - loss: 2.2991 - acc: 0.1280\n",
      "Epoch 14/20\n",
      "1000/1000 [==============================] - 0s 15us/step - loss: 2.2981 - acc: 0.1200\n",
      "Epoch 15/20\n",
      "1000/1000 [==============================] - 0s 14us/step - loss: 2.3051 - acc: 0.0950\n",
      "Epoch 16/20\n",
      "1000/1000 [==============================] - 0s 14us/step - loss: 2.2953 - acc: 0.1140\n",
      "Epoch 17/20\n",
      "1000/1000 [==============================] - 0s 15us/step - loss: 2.3028 - acc: 0.1070\n",
      "Epoch 18/20\n",
      "1000/1000 [==============================] - 0s 15us/step - loss: 2.2981 - acc: 0.1280\n",
      "Epoch 19/20\n",
      "1000/1000 [==============================] - 0s 14us/step - loss: 2.2972 - acc: 0.1250\n",
      "Epoch 20/20\n",
      "1000/1000 [==============================] - 0s 12us/step - loss: 2.2948 - acc: 0.1190\n",
      "100/100 [==============================] - 0s 514us/step\n",
      "[2.303271532058716, 0.12999999523162842]\n"
     ]
    }
   ],
   "source": [
    "import keras\n",
    "from keras.models import Sequential\n",
    "from keras.layers import Dense, Dropout\n",
    "from keras.optimizers import SGD\n",
    "\n",
    "# Generate dummy data\n",
    "import numpy as np\n",
    "x_train = np.random.random((1000, 20))\n",
    "y_train = keras.utils.to_categorical(np.random.randint(10, size=(1000, 1)), num_classes=10)\n",
    "x_test = np.random.random((100, 20))\n",
    "y_test = keras.utils.to_categorical(np.random.randint(10, size=(100, 1)), num_classes=10)\n",
    "\n",
    "model = Sequential()\n",
    "# Dense(64) is a fully-connected layer with 64 hidden units.\n",
    "# in the first layer, you must specify the expected input data shape:\n",
    "# here, 20-dimensional vectors.\n",
    "model.add(Dense(64, activation='relu', input_dim=20))\n",
    "model.add(Dropout(0.5))\n",
    "model.add(Dense(64, activation='relu'))\n",
    "model.add(Dropout(0.5))\n",
    "model.add(Dense(10, activation='softmax'))\n",
    "\n",
    "sgd = SGD(lr=0.01, decay=1e-6, momentum=0.9, nesterov=True)\n",
    "model.compile(loss='categorical_crossentropy',\n",
    "              optimizer=sgd,\n",
    "              metrics=['accuracy'])\n",
    "\n",
    "model.fit(x_train, y_train,\n",
    "          epochs=20,\n",
    "          batch_size=128)\n",
    "score = model.evaluate(x_test, y_test, batch_size=128)\n",
    "print(score)"
   ]
  },
  {
   "cell_type": "code",
   "execution_count": 27,
   "metadata": {},
   "outputs": [
    {
     "data": {
      "text/plain": [
       "array([0.46679487, 0.26208613, 0.47612819, 0.57474874, 0.79922485,\n",
       "       0.97522369, 0.00320346, 0.75156053, 0.59828529, 0.10284947,\n",
       "       0.153687  , 0.08014466, 0.8215514 , 0.38381523, 0.72128711,\n",
       "       0.62117166, 0.3354644 , 0.71294441, 0.03222053, 0.22188523])"
      ]
     },
     "execution_count": 27,
     "metadata": {},
     "output_type": "execute_result"
    }
   ],
   "source": [
    "ar = np.array(0.5)\n",
    "ar.shape\n",
    "x_train[0]"
   ]
  },
  {
   "cell_type": "code",
   "execution_count": 36,
   "metadata": {},
   "outputs": [
    {
     "data": {
      "text/plain": [
       "array([0.09678055, 0.10876868, 0.10154758, 0.093824  , 0.08741336,\n",
       "       0.10848144, 0.10077491, 0.09967415, 0.09077585, 0.1119594 ],\n",
       "      dtype=float32)"
      ]
     },
     "execution_count": 36,
     "metadata": {},
     "output_type": "execute_result"
    }
   ],
   "source": [
    "model.predict(x_train[:1])[0,:]"
   ]
  },
  {
   "cell_type": "code",
   "execution_count": 4,
   "metadata": {},
   "outputs": [],
   "source": [
    "from keras.datasets import mnist"
   ]
  },
  {
   "cell_type": "code",
   "execution_count": 77,
   "metadata": {},
   "outputs": [],
   "source": [
    "(x_train,y_train),(x_test,y_test) = mnist.load_data()"
   ]
  },
  {
   "cell_type": "code",
   "execution_count": 78,
   "metadata": {},
   "outputs": [
    {
     "data": {
      "text/plain": [
       "(60000, 28, 28)"
      ]
     },
     "execution_count": 78,
     "metadata": {},
     "output_type": "execute_result"
    }
   ],
   "source": [
    "x_train.shape"
   ]
  },
  {
   "cell_type": "code",
   "execution_count": 79,
   "metadata": {},
   "outputs": [
    {
     "data": {
      "text/plain": [
       "<matplotlib.image.AxesImage at 0x12621c2e8>"
      ]
     },
     "execution_count": 79,
     "metadata": {},
     "output_type": "execute_result"
    },
    {
     "data": {
      "image/png": "[encoded data removed]",
      "text/plain": [
       "<Figure size 432x288 with 1 Axes>"
      ]
     },
     "metadata": {},
     "output_type": "display_data"
    }
   ],
   "source": [
    "plt.imshow(x_train[2],cmap='gray')"
   ]
  },
  {
   "cell_type": "code",
   "execution_count": 61,
   "metadata": {},
   "outputs": [
    {
     "data": {
      "text/plain": [
       "(60000, 784)"
      ]
     },
     "execution_count": 61,
     "metadata": {},
     "output_type": "execute_result"
    }
   ],
   "source": [
    "x_train = x_train.reshape(x_train.shape[0],784)\n",
    "x_test = x_test.reshape(x_test.shape[0], 784)\n",
    "x_train.shape"
   ]
  },
  {
   "cell_type": "code",
   "execution_count": 92,
   "metadata": {},
   "outputs": [],
   "source": [
    "x_train = x_train.reshape(x_train.shape[0],28*28)"
   ]
  },
  {
   "cell_type": "code",
   "execution_count": 93,
   "metadata": {},
   "outputs": [],
   "source": [
    "x_test = x_test.reshape(x_test.shape[0],28*28)"
   ]
  },
  {
   "cell_type": "code",
   "execution_count": 80,
   "metadata": {},
   "outputs": [],
   "source": [
    "x_train.astype(\"float32\")\n",
    "x_test.astype(\"float32\")\n",
    "x_train = x_train/255.\n",
    "x_test = x_test/255."
   ]
  },
  {
   "cell_type": "code",
   "execution_count": 81,
   "metadata": {},
   "outputs": [],
   "source": [
    "num_classes = 10\n",
    "y_train = keras.utils.to_categorical(y_train, num_classes)\n",
    "y_test = keras.utils.to_categorical(y_test, num_classes)"
   ]
  },
  {
   "cell_type": "code",
   "execution_count": 94,
   "metadata": {},
   "outputs": [],
   "source": [
    "model = Sequential()"
   ]
  },
  {
   "cell_type": "code",
   "execution_count": 95,
   "metadata": {},
   "outputs": [],
   "source": [
    "input_layer = Dense(512,activation=\"relu\",input_shape=(784,))\n",
    "model.add(input_layer)\n",
    "#model.add(Dropout(0.2))"
   ]
  },
  {
   "cell_type": "code",
   "execution_count": 96,
   "metadata": {},
   "outputs": [
    {
     "name": "stdout",
     "output_type": "stream",
     "text": [
      "_________________________________________________________________\n",
      "Layer (type)                 Output Shape              Param #   \n",
      "=================================================================\n",
      "dense_34 (Dense)             (None, 512)               401920    \n",
      "_________________________________________________________________\n",
      "dense_35 (Dense)             (None, 512)               262656    \n",
      "_________________________________________________________________\n",
      "dense_36 (Dense)             (None, 10)                5130      \n",
      "=================================================================\n",
      "Total params: 669,706\n",
      "Trainable params: 669,706\n",
      "Non-trainable params: 0\n",
      "_________________________________________________________________\n"
     ]
    }
   ],
   "source": [
    "hidden1 = Dense(512,activation=\"relu\")\n",
    "model.add(hidden1)\n",
    "#model.add(Dropout(0.2))\n",
    "hidden2 = Dense(num_classes,activation=\"softmax\")\n",
    "model.add(hidden2)\n",
    "\n",
    "model.summary()"
   ]
  },
  {
   "cell_type": "code",
   "execution_count": 97,
   "metadata": {},
   "outputs": [],
   "source": [
    "#sgd = SGD()\n",
    "model.compile(optimizer=\"SGD\",loss='categorical_crossentropy',\n",
    "             metrics=[\"accuracy\"])"
   ]
  },
  {
   "cell_type": "code",
   "execution_count": 98,
   "metadata": {},
   "outputs": [
    {
     "name": "stdout",
     "output_type": "stream",
     "text": [
      "Train on 60000 samples, validate on 10000 samples\n",
      "Epoch 1/20\n",
      "60000/60000 [==============================] - 4s 61us/step - loss: 1.1016 - acc: 0.7582 - val_loss: 0.5269 - val_acc: 0.8780\n",
      "Epoch 2/20\n",
      "60000/60000 [==============================] - 3s 52us/step - loss: 0.4511 - acc: 0.8840 - val_loss: 0.3699 - val_acc: 0.9028\n",
      "Epoch 3/20\n",
      "60000/60000 [==============================] - 3s 53us/step - loss: 0.3589 - acc: 0.9012 - val_loss: 0.3173 - val_acc: 0.9129\n",
      "Epoch 4/20\n",
      "60000/60000 [==============================] - 3s 52us/step - loss: 0.3177 - acc: 0.9114 - val_loss: 0.2919 - val_acc: 0.9190\n",
      "Epoch 5/20\n",
      "60000/60000 [==============================] - 3s 52us/step - loss: 0.2916 - acc: 0.9176 - val_loss: 0.2694 - val_acc: 0.9246\n",
      "Epoch 6/20\n",
      "60000/60000 [==============================] - 3s 55us/step - loss: 0.2717 - acc: 0.9242 - val_loss: 0.2547 - val_acc: 0.9282\n",
      "Epoch 7/20\n",
      "60000/60000 [==============================] - 3s 53us/step - loss: 0.2555 - acc: 0.9288 - val_loss: 0.2430 - val_acc: 0.9319\n",
      "Epoch 8/20\n",
      "60000/60000 [==============================] - 3s 52us/step - loss: 0.2417 - acc: 0.9323 - val_loss: 0.2298 - val_acc: 0.9337\n",
      "Epoch 9/20\n",
      "60000/60000 [==============================] - 3s 53us/step - loss: 0.2298 - acc: 0.9353 - val_loss: 0.2184 - val_acc: 0.9376\n",
      "Epoch 10/20\n",
      "60000/60000 [==============================] - 3s 53us/step - loss: 0.2190 - acc: 0.9386 - val_loss: 0.2103 - val_acc: 0.9398\n",
      "Epoch 11/20\n",
      "60000/60000 [==============================] - 3s 55us/step - loss: 0.2092 - acc: 0.9414 - val_loss: 0.2020 - val_acc: 0.9412\n",
      "Epoch 12/20\n",
      "60000/60000 [==============================] - 3s 57us/step - loss: 0.2004 - acc: 0.9436 - val_loss: 0.1945 - val_acc: 0.9435\n",
      "Epoch 13/20\n",
      "60000/60000 [==============================] - 3s 53us/step - loss: 0.1920 - acc: 0.9457 - val_loss: 0.1865 - val_acc: 0.9467\n",
      "Epoch 14/20\n",
      "60000/60000 [==============================] - 3s 57us/step - loss: 0.1848 - acc: 0.9482 - val_loss: 0.1812 - val_acc: 0.9482\n",
      "Epoch 15/20\n",
      "60000/60000 [==============================] - 3s 57us/step - loss: 0.1776 - acc: 0.9503 - val_loss: 0.1750 - val_acc: 0.9502\n",
      "Epoch 16/20\n",
      "60000/60000 [==============================] - 3s 53us/step - loss: 0.1712 - acc: 0.9525 - val_loss: 0.1696 - val_acc: 0.9515\n",
      "Epoch 17/20\n",
      "60000/60000 [==============================] - 3s 53us/step - loss: 0.1651 - acc: 0.9538 - val_loss: 0.1640 - val_acc: 0.9519\n",
      "Epoch 18/20\n",
      "60000/60000 [==============================] - 3s 53us/step - loss: 0.1594 - acc: 0.9552 - val_loss: 0.1613 - val_acc: 0.9535\n",
      "Epoch 19/20\n",
      "60000/60000 [==============================] - 3s 53us/step - loss: 0.1541 - acc: 0.9567 - val_loss: 0.1585 - val_acc: 0.9541\n",
      "Epoch 20/20\n",
      "60000/60000 [==============================] - 3s 54us/step - loss: 0.1492 - acc: 0.9585 - val_loss: 0.1514 - val_acc: 0.9550\n"
     ]
    },
    {
     "data": {
      "text/plain": [
       "<keras.callbacks.History at 0x126f2a278>"
      ]
     },
     "execution_count": 98,
     "metadata": {},
     "output_type": "execute_result"
    }
   ],
   "source": [
    "batch_size = 128\n",
    "epochs = 20\n",
    "model.fit(x_train,y_train,\n",
    "          batch_size=batch_size,\n",
    "                    epochs=epochs,\n",
    "                    verbose=1,\n",
    "                    validation_data=(x_test, y_test))"
   ]
  },
  {
   "cell_type": "code",
   "execution_count": 17,
   "metadata": {},
   "outputs": [
    {
     "name": "stdout",
     "output_type": "stream",
     "text": [
      "10000/10000 [==============================] - 1s 54us/step\n"
     ]
    },
    {
     "data": {
      "text/plain": [
       "[0.15024098957851528, 0.95640000000000003]"
      ]
     },
     "execution_count": 17,
     "metadata": {},
     "output_type": "execute_result"
    }
   ],
   "source": [
    "model.evaluate(x_test,y_test)"
   ]
  },
  {
   "cell_type": "code",
   "execution_count": 99,
   "metadata": {},
   "outputs": [
    {
     "data": {
      "text/plain": [
       "array([[9.99953151e-01, 1.85973546e-12, 2.06627351e-06, 7.19933779e-10,\n",
       "        1.18330824e-07, 2.32828725e-07, 4.27481100e-05, 2.12571538e-09,\n",
       "        1.52847474e-06, 1.27207983e-07]], dtype=float32)"
      ]
     },
     "execution_count": 99,
     "metadata": {},
     "output_type": "execute_result"
    }
   ],
   "source": [
    "model.predict(x_test[25].reshape(1,784))\n",
    "#res = pred == max(pred)"
   ]
  },
  {
   "cell_type": "code",
   "execution_count": 100,
   "metadata": {},
   "outputs": [
    {
     "name": "stdout",
     "output_type": "stream",
     "text": [
      "[1. 0. 0. 0. 0. 0. 0. 0. 0. 0.]\n"
     ]
    },
    {
     "data": {
      "image/png": "[encoded data removed]",
      "text/plain": [
       "<Figure size 432x288 with 1 Axes>"
      ]
     },
     "metadata": {},
     "output_type": "display_data"
    }
   ],
   "source": [
    "\n",
    "plt.imshow(x_test[25].reshape(28,28))\n",
    "print (y_test[25])\n"
   ]
  },
  {
   "cell_type": "code",
   "execution_count": 101,
   "metadata": {},
   "outputs": [
    {
     "data": {
      "text/plain": [
       "<matplotlib.legend.Legend at 0x12749ab70>"
      ]
     },
     "execution_count": 101,
     "metadata": {},
     "output_type": "execute_result"
    },
    {
     "data": {
      "image/png": "[encoded data removed]",
      "text/plain": [
       "<Figure size 432x288 with 1 Axes>"
      ]
     },
     "metadata": {},
     "output_type": "display_data"
    }
   ],
   "source": [
    "x = arange(-pi,pi,0.1)\n",
    "def elu(x):\n",
    "    if x>=0: return x\n",
    "    return exp(x)-1\n",
    "def relu(x):\n",
    "    if x>=0 :return x\n",
    "    return 0\n",
    "plot(x,tanh(x),label='Tanh')\n",
    "plot(x,[elu(y) for y in x],label='Elu')\n",
    "plot(x,[relu(y) for y in x],label='Relu')\n",
    "legend()"
   ]
  }
 ],
 "metadata": {
  "kernelspec": {
   "display_name": "Python 3",
   "language": "python",
   "name": "python3"
  },
  "language_info": {
   "codemirror_mode": {
    "name": "ipython",
    "version": 3
   },
   "file_extension": ".py",
   "mimetype": "text/x-python",
   "name": "python",
   "nbconvert_exporter": "python",
   "pygments_lexer": "ipython3",
   "version": "3.6.5"
  }
 },
 "nbformat": 4,
 "nbformat_minor": 2
}
