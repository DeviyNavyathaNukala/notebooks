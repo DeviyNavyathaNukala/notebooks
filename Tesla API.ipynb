{
 "cells": [
  {
   "cell_type": "code",
   "execution_count": 2,
   "metadata": {
    "collapsed": false
   },
   "outputs": [],
   "source": [
    "import requests as rq"
   ]
  },
  {
   "cell_type": "code",
   "execution_count": 10,
   "metadata": {
    "collapsed": true
   },
   "outputs": [],
   "source": [
    "api_url = 'https://owner-api.teslamotors.com/'\n",
    "\n",
    "resp = rq.post(api_url+'oauth/token',{'grant_type':\"password\",'email':\"redorlik@gmail.com\",\\\n",
    "                                      'password':'flexswitch206','client_id':'com.teslamotors.TeslaApp',\\\n",
    "                                      'client_secret':'titaniumwhite'})"
   ]
  },
  {
   "cell_type": "code",
   "execution_count": 11,
   "metadata": {
    "collapsed": false
   },
   "outputs": [
    {
     "data": {
      "text/plain": [
       "{'status': '401 Unauthorized', 'x-request-id': '2fe09aecc6820bbaff7d8f8225f5c9fb', 'transfer-encoding': 'chunked', 'x-runtime': '0.381015', 'server': 'nginx', 'connection': 'keep-alive', 'x-ua-compatible': 'IE=Edge,chrome=1', 'pragma': 'no-cache', 'cache-control': 'no-store', 'date': 'Wed, 24 Feb 2016 15:21:08 GMT', 'content-type': 'application/json; charset=utf-8', 'www-authenticate': 'Bearer realm=\"Doorkeeper\", error=\"invalid_client\", error_description=\"Client authentication failed due to unknown client, no client authentication included, or unsupported authentication method.\"'}"
      ]
     },
     "execution_count": 11,
     "metadata": {},
     "output_type": "execute_result"
    }
   ],
   "source": [
    "resp.headers"
   ]
  },
  {
   "cell_type": "code",
   "execution_count": 12,
   "metadata": {
    "collapsed": true
   },
   "outputs": [],
   "source": [
    "uri = 'https://owner-api.teslamotors.com/api/1/vehicles'\n",
    "resp = rq.get(uri,headers={'Authorization': 'Bearer 555bd0632576791f'})"
   ]
  },
  {
   "cell_type": "code",
   "execution_count": 13,
   "metadata": {
    "collapsed": false
   },
   "outputs": [
    {
     "data": {
      "text/plain": [
       "<Response [401]>"
      ]
     },
     "execution_count": 13,
     "metadata": {},
     "output_type": "execute_result"
    }
   ],
   "source": [
    "resp"
   ]
  },
  {
   "cell_type": "code",
   "execution_count": null,
   "metadata": {
    "collapsed": true
   },
   "outputs": [],
   "source": []
  }
 ],
 "metadata": {
  "kernelspec": {
   "display_name": "Python 2",
   "language": "python",
   "name": "python2"
  },
  "language_info": {
   "codemirror_mode": {
    "name": "ipython",
    "version": 2
   },
   "file_extension": ".py",
   "mimetype": "text/x-python",
   "name": "python",
   "nbconvert_exporter": "python",
   "pygments_lexer": "ipython2",
   "version": "2.7.11"
  }
 },
 "nbformat": 4,
 "nbformat_minor": 0
}
