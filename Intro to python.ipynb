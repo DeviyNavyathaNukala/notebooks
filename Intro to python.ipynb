{
 "metadata": {
  "name": "Intro to python"
 }, 
 "nbformat": 2, 
 "worksheets": [
  {
   "cells": [
    {
     "cell_type": "code", 
     "collapsed": false, 
     "input": [
      "1+1"
     ], 
     "language": "python", 
     "outputs": [
      {
       "output_type": "pyout", 
       "prompt_number": 48, 
       "text": [
        "2"
       ]
      }
     ], 
     "prompt_number": 48
    }, 
    {
     "cell_type": "code", 
     "collapsed": false, 
     "input": [
      "class Intro(object):", 
      "    def __init__(self, message):", 
      "        self.mess = message", 
      "        ", 
      "    def say(self):", 
      "        print self.mess", 
      "        ", 
      "c = Intro(123)"
     ], 
     "language": "python", 
     "outputs": [], 
     "prompt_number": 51
    }, 
    {
     "cell_type": "code", 
     "collapsed": false, 
     "input": [
      "c.say()"
     ], 
     "language": "python", 
     "outputs": [
      {
       "output_type": "stream", 
       "stream": "stdout", 
       "text": [
        "123"
       ]
      }
     ], 
     "prompt_number": 52
    }, 
    {
     "cell_type": "code", 
     "collapsed": true, 
     "input": [
      "def fun(first, second):", 
      "    pass"
     ], 
     "language": "python", 
     "outputs": [], 
     "prompt_number": 53
    }, 
    {
     "cell_type": "code", 
     "collapsed": false, 
     "input": [
      "fun"
     ], 
     "language": "python", 
     "outputs": [
      {
       "output_type": "pyout", 
       "prompt_number": 54, 
       "text": [
        "&lt;function __main__.fun&gt;"
       ]
      }
     ], 
     "prompt_number": 54
    }, 
    {
     "cell_type": "code", 
     "collapsed": true, 
     "input": [
      "fun.attribut = 3"
     ], 
     "language": "python", 
     "outputs": [], 
     "prompt_number": 55
    }, 
    {
     "cell_type": "code", 
     "collapsed": false, 
     "input": [
      "fun.attribut"
     ], 
     "language": "python", 
     "outputs": [
      {
       "output_type": "pyout", 
       "prompt_number": 58, 
       "text": [
        "3"
       ]
      }
     ], 
     "prompt_number": 58
    }, 
    {
     "cell_type": "code", 
     "collapsed": false, 
     "input": [
      "dir(fun)"
     ], 
     "language": "python", 
     "outputs": [
      {
       "output_type": "pyout", 
       "prompt_number": 59, 
       "text": [
        "[&apos;__call__&apos;,", 
        " &apos;__class__&apos;,", 
        " &apos;__closure__&apos;,", 
        " &apos;__code__&apos;,", 
        " &apos;__defaults__&apos;,", 
        " &apos;__delattr__&apos;,", 
        " &apos;__dict__&apos;,", 
        " &apos;__doc__&apos;,", 
        " &apos;__format__&apos;,", 
        " &apos;__get__&apos;,", 
        " &apos;__getattribute__&apos;,", 
        " &apos;__globals__&apos;,", 
        " &apos;__hash__&apos;,", 
        " &apos;__init__&apos;,", 
        " &apos;__module__&apos;,", 
        " &apos;__name__&apos;,", 
        " &apos;__new__&apos;,", 
        " &apos;__reduce__&apos;,", 
        " &apos;__reduce_ex__&apos;,", 
        " &apos;__repr__&apos;,", 
        " &apos;__setattr__&apos;,", 
        " &apos;__sizeof__&apos;,", 
        " &apos;__str__&apos;,", 
        " &apos;__subclasshook__&apos;,", 
        " &apos;attribut&apos;,", 
        " &apos;func_closure&apos;,", 
        " &apos;func_code&apos;,", 
        " &apos;func_defaults&apos;,", 
        " &apos;func_dict&apos;,", 
        " &apos;func_doc&apos;,", 
        " &apos;func_globals&apos;,", 
        " &apos;func_name&apos;]"
       ]
      }
     ], 
     "prompt_number": 59
    }, 
    {
     "cell_type": "code", 
     "collapsed": false, 
     "input": [
      "fun"
     ], 
     "language": "python", 
     "outputs": [], 
     "prompt_number": 46
    }, 
    {
     "cell_type": "code", 
     "collapsed": false, 
     "input": [
      "print \"\"\" Herning", 
      "     er", 
      "    en ", 
      "    By\"\"\""
     ], 
     "language": "python", 
     "outputs": [
      {
       "output_type": "stream", 
       "stream": "stdout", 
       "text": [
        " Herning", 
        "     er", 
        "    en ", 
        "    By"
       ]
      }
     ], 
     "prompt_number": 64
    }, 
    {
     "cell_type": "code", 
     "collapsed": false, 
     "input": [
      "print u\"\\u1050 Hello World\\n\""
     ], 
     "language": "python", 
     "outputs": [
      {
       "output_type": "stream", 
       "stream": "stdout", 
       "text": [
        "\u1050 Hello World", 
        ""
       ]
      }
     ], 
     "prompt_number": 65
    }, 
    {
     "cell_type": "code", 
     "collapsed": false, 
     "input": [
      "print ord(unichr(0x16E5))"
     ], 
     "language": "python", 
     "outputs": [], 
     "prompt_number": 12
    }, 
    {
     "cell_type": "code", 
     "collapsed": false, 
     "input": [
      "\"Hel'glle'lo\\", 
      "dfdf\" "
     ], 
     "language": "python", 
     "outputs": [], 
     "prompt_number": 50
    }, 
    {
     "cell_type": "code", 
     "collapsed": false, 
     "input": [
      "import sys"
     ], 
     "language": "python", 
     "outputs": [], 
     "prompt_number": 51
    }, 
    {
     "cell_type": "code", 
     "collapsed": false, 
     "input": [
      "\"\"\"Her", 
      "er", 
      "en", 
      "", 
      "tekst \"\"\""
     ], 
     "language": "python", 
     "outputs": [], 
     "prompt_number": 52
    }, 
    {
     "cell_type": "code", 
     "collapsed": false, 
     "input": [
      "for i in [1,'a','b','c']:", 
      "    print 3*i,"
     ], 
     "language": "python", 
     "outputs": [
      {
       "output_type": "stream", 
       "stream": "stdout", 
       "text": [
        "3 aaa bbb ccc"
       ]
      }
     ], 
     "prompt_number": 66
    }, 
    {
     "cell_type": "code", 
     "collapsed": false, 
     "input": [
      "', '.join(['a','b','c'])"
     ], 
     "language": "python", 
     "outputs": [], 
     "prompt_number": 56
    }, 
    {
     "cell_type": "code", 
     "collapsed": true, 
     "input": [
      "import sys"
     ], 
     "language": "python", 
     "outputs": [], 
     "prompt_number": 67
    }, 
    {
     "cell_type": "code", 
     "collapsed": false, 
     "input": [
      "sys.version"
     ], 
     "language": "python", 
     "outputs": [
      {
       "output_type": "pyout", 
       "prompt_number": 70, 
       "text": [
        "&apos;2.7.2 (default, Jan 21 2012, 07:17:59) \\n[GCC 4.2.1 Compatible Apple Clang 3.0 (tags/Apple/clang-211.12)]&apos;"
       ]
      }
     ], 
     "prompt_number": 70
    }, 
    {
     "cell_type": "code", 
     "collapsed": true, 
     "input": [
      "x = [i**2 for i in range(4)]"
     ], 
     "language": "python", 
     "outputs": [], 
     "prompt_number": 72
    }, 
    {
     "cell_type": "code", 
     "collapsed": false, 
     "input": [
      "print x"
     ], 
     "language": "python", 
     "outputs": [
      {
       "output_type": "stream", 
       "stream": "stdout", 
       "text": [
        "[0, 1, 4, 9]"
       ]
      }
     ], 
     "prompt_number": 73
    }, 
    {
     "cell_type": "code", 
     "collapsed": false, 
     "input": [
      "import this"
     ], 
     "language": "python", 
     "outputs": [
      {
       "output_type": "stream", 
       "stream": "stdout", 
       "text": [
        "The Zen of Python, by Tim Peters", 
        "", 
        "Beautiful is better than ugly.", 
        "Explicit is better than implicit.", 
        "Simple is better than complex.", 
        "Complex is better than complicated.", 
        "Flat is better than nested.", 
        "Sparse is better than dense.", 
        "Readability counts.", 
        "Special cases aren&apos;t special enough to break the rules.", 
        "Although practicality beats purity.", 
        "Errors should never pass silently.", 
        "Unless explicitly silenced.", 
        "In the face of ambiguity, refuse the temptation to guess.", 
        "There should be one-- and preferably only one --obvious way to do it.", 
        "Although that way may not be obvious at first unless you&apos;re Dutch.", 
        "Now is better than never.", 
        "Although never is often better than *right* now.", 
        "If the implementation is hard to explain, it&apos;s a bad idea.", 
        "If the implementation is easy to explain, it may be a good idea.", 
        "Namespaces are one honking great idea -- let&apos;s do more of those!"
       ]
      }
     ], 
     "prompt_number": 74
    }, 
    {
     "cell_type": "code", 
     "collapsed": false, 
     "input": [
      "ls"
     ], 
     "language": "python", 
     "outputs": [
      {
       "output_type": "stream", 
       "stream": "stdout", 
       "text": [
        "__init__.py                       </span><span class=\"ansired\">pypy-c-newest2</span>*", 
        "__init__.pyc                      </span><span class=\"ansired\">pypy-c-numpy-exp-43916+-jit</span>*", 
        "_test_thread.py                   query.py", 
        "ann_override.py                   query.pyc", 
        "ann_override.pyc                  richards.py", 
        "app_example.py                    runpystone.py", 
        "app_main.py                       sharedpypy.py", 
        "autopath.py                       targetgcbench.py", 
        "autopath.pyc                      targetlbench.py", 
        "</span><span class=\"ansired\">bench-cronjob.py</span>*                 targetnopstandalone.py", 
        "bench-unix.py                     targetnumpystandalone.py", 
        "bench-windows.py                  targetosreadbench.py", 
        "compile_stackless.bat             targetpushpop.py", 
        "gcbench.py                        targetpypystandalone.py", 
        "</span><span class=\"ansired\">launch-bench-cronjob.sh</span>*          targetpypystandalone.pyc", 
        "multibuild.py                     targetreadlines.py", 
        "nanos.py                          targetreallynopstandalone.py", 
        "nanos.pyc                         targetrecursivestandalone.py", 
        "old_queries.py                    targetrichards.py", 
        "order.py                          targetrpystone.py", 
        "</span><span class=\"ansipurple\">pypy</span>@                             targetrpystonedalone.py", 
        "</span><span class=\"ansired\">pypy-c-09532c746387-jit</span>*          targetrpystonex.py", 
        "</span><span class=\"ansired\">pypy-c-10f1ff48184b-jit</span>*          targetsegfault.py", 
        "</span><span class=\"ansired\">pypy-c-24a17a8610e1-jit</span>*          </span><span class=\"ansired\">targetsha1sum.py</span>*", 
        "</span><span class=\"ansired\">pypy-c-2db316bd6874-jit</span>*          targetsimpleread.py", 
        "</span><span class=\"ansired\">pypy-c-3301be1ad839-jit</span>*          targetsimplevideo.py", 
        "</span><span class=\"ansired\">pypy-c-3e12c40ef735</span>*              targetsimplewrite.py", 
        "</span><span class=\"ansired\">pypy-c-3e12c40ef735-jit</span>*          targettestdicts.py", 
        "</span><span class=\"ansired\">pypy-c-43916-jit</span>*                 targettestlistvsdict.py", 
        "</span><span class=\"ansired\">pypy-c-6dc305ab7c65-jit</span>*          targetvarsized.py", 
        "</span><span class=\"ansired\">pypy-c-a70a605a37bd</span>*              targetwarningalone.py", 
        "</span><span class=\"ansired\">pypy-c-a70a605a37bd-jit</span>*          </span><span class=\"ansiblue\">test2</span>/", 
        "</span><span class=\"ansired\">pypy-c-ddbc82ef4d8f-jit</span>*          </span><span class=\"ansiyellow\">testpipe</span>|", 
        "</span><span class=\"ansired\">pypy-c-f7b15eb5fd58-jit</span>*          testpipe.avi", 
        "</span><span class=\"ansired\">pypy-c-jit-1795fbfe7614</span>*          timing.py", 
        "</span><span class=\"ansired\">pypy-c-jit-262a9d9d8cf2</span>*          timing.pyc", 
        "</span><span class=\"ansired\">pypy-c-jit-44997</span>*                 </span><span class=\"ansired\">translate.py</span>*", 
        "</span><span class=\"ansired\">pypy-c-jit-65b1ed60d7da</span>*          </span><span class=\"ansired\">translate.py.orig</span>*", 
        "</span><span class=\"ansired\">pypy-c-jit-85a6995429e0</span>*          </span><span class=\"ansired\">translate.py~</span>*", 
        "</span><span class=\"ansired\">pypy-c-jit-b4d8eb5fdf6c</span>*          unixcheckpoint.py", 
        "</span><span class=\"ansired\">pypy-c-jit-selfhost-262a9d9d8cf2</span>* unixcheckpoint.pyc", 
        "</span><span class=\"ansired\">pypy-c-newest</span>*                    </span><span class=\"ansiblue\">win32</span>/"
       ]
      }
     ], 
     "prompt_number": 75
    }, 
    {
     "cell_type": "code", 
     "collapsed": false, 
     "input": [
      "", 
      "x = arange(100)", 
      "plot(x, sin(x*pi/50))"
     ], 
     "language": "python", 
     "outputs": [
      {
       "output_type": "pyout", 
       "prompt_number": 76, 
       "text": [
        "[&lt;matplotlib.lines.Line2D at 0x10a352650&gt;]"
       ]
      }, 
      {
       "output_type": "display_data", 
       "png": "[encoded data removed]"
      }
     ], 
     "prompt_number": 76
    }, 
    {
     "cell_type": "code", 
     "collapsed": false, 
     "input": [
      "", 
      "!pip install pytest"
     ], 
     "language": "python", 
     "outputs": [], 
     "prompt_number": 70
    }, 
    {
     "cell_type": "code", 
     "collapsed": false, 
     "input": [
      "from mpl_toolkits.mplot3d import Axes3D", 
      "from matplotlib import cm", 
      "from matplotlib.ticker import LinearLocator, FormatStrFormatter", 
      "import matplotlib.pyplot as plt", 
      "import numpy as np", 
      "", 
      "fig = plt.figure()", 
      "ax = fig.gca(projection='3d')", 
      "X = np.arange(-5, 5, 0.25)", 
      "Y = np.arange(-5, 5, 0.25)", 
      "X, Y = np.meshgrid(X, Y)", 
      "R = np.sqrt(X**2 + Y**2)", 
      "Z = np.sinc(R)", 
      "surf = ax.plot_surface(X, Y, Z, rstride=1, cstride=1, cmap=cm.jet,", 
      "        linewidth=0, antialiased=False)", 
      "ax.set_zlim(-1.01, 1.01)", 
      "", 
      "ax.zaxis.set_major_locator(LinearLocator(10))", 
      "ax.zaxis.set_major_formatter(FormatStrFormatter('%.02f'))", 
      "", 
      "fig.colorbar(surf, shrink=0.5, aspect=5)", 
      "", 
      "plt.show()"
     ], 
     "language": "python", 
     "outputs": [
      {
       "output_type": "display_data", 
       "png": "[encoded data removed]"
      }
     ], 
     "prompt_number": 77
    }, 
    {
     "cell_type": "code", 
     "collapsed": false, 
     "input": [
      "from mpl_toolkits.mplot3d import Axes3D", 
      "import matplotlib.pyplot as plt", 
      "import numpy as np", 
      "", 
      "fig = plt.figure()", 
      "ax = fig.add_subplot(111, projection='3d')", 
      "", 
      "u = np.linspace(0, 2 * np.pi, 100)", 
      "v = np.linspace(0, np.pi, 100)", 
      "", 
      "x = 10 * np.outer(np.cos(u), np.sin(v))", 
      "y = 10 * np.outer(np.sin(u), np.sin(v))", 
      "z = 10 * np.outer(np.ones(np.size(u)), np.cos(v))", 
      "ax.plot_surface(x, y, z,  rstride=4, cstride=4, color='b')", 
      "", 
      "plt.show()"
     ], 
     "language": "python", 
     "outputs": [
      {
       "output_type": "display_data", 
       "png": "[encoded data removed]"
      }
     ], 
     "prompt_number": 78
    }, 
    {
     "cell_type": "code", 
     "collapsed": false, 
     "input": [], 
     "language": "python", 
     "outputs": [], 
     "prompt_number": 44
    }, 
    {
     "cell_type": "code", 
     "collapsed": false, 
     "input": [], 
     "language": "python", 
     "outputs": [], 
     "prompt_number": 44
    }, 
    {
     "cell_type": "code", 
     "collapsed": false, 
     "input": [], 
     "language": "python", 
     "outputs": [], 
     "prompt_number": 44
    }, 
    {
     "cell_type": "code", 
     "collapsed": false, 
     "input": [
      " "
     ], 
     "language": "python", 
     "outputs": [], 
     "prompt_number": 44
    }, 
    {
     "cell_type": "code", 
     "collapsed": true, 
     "input": [], 
     "language": "python", 
     "outputs": [], 
     "prompt_number": "&nbsp;"
    }
   ]
  }
 ]
}