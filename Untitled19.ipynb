{
 "cells": [
  {
   "cell_type": "code",
   "execution_count": 2,
   "metadata": {},
   "outputs": [
    {
     "name": "stdout",
     "output_type": "stream",
     "text": [
      "Populating the interactive namespace from numpy and matplotlib\n"
     ]
    }
   ],
   "source": [
    "%pylab inline"
   ]
  },
  {
   "cell_type": "code",
   "execution_count": 3,
   "metadata": {},
   "outputs": [
    {
     "name": "stdout",
     "output_type": "stream",
     "text": [
      "Collecting xarray\n",
      "\u001b[?25l  Downloading https://files.pythonhosted.org/packages/7e/84/e1127b7807a1a98da6d977939b11e89cb924b8b6d8917d9894eb8f39c230/xarray-0.14.0-py3-none-any.whl (598kB)\n",
      "\u001b[K     |████████████████████████████████| 604kB 981kB/s \n",
      "\u001b[?25hRequirement already satisfied: numpy>=1.14 in /Users/au261214/.pyenv/versions/3.6.5/lib/python3.6/site-packages (from xarray) (1.14.3)\n",
      "Collecting pandas>=0.24 (from xarray)\n",
      "\u001b[?25l  Downloading https://files.pythonhosted.org/packages/32/a9/d1b52f56b130f6ef00479593e1eb12588dce6760f85982326fd6b09c399f/pandas-0.25.2-cp36-cp36m-macosx_10_9_x86_64.whl (10.3MB)\n",
      "\u001b[K     |████████████████████████████████| 10.4MB 3.1MB/s \n",
      "\u001b[?25hRequirement already satisfied: python-dateutil>=2.6.1 in /Users/au261214/.pyenv/versions/3.6.5/lib/python3.6/site-packages (from pandas>=0.24->xarray) (2.7.3)\n",
      "Requirement already satisfied: pytz>=2017.2 in /Users/au261214/.pyenv/versions/3.6.5/lib/python3.6/site-packages (from pandas>=0.24->xarray) (2018.5)\n",
      "Requirement already satisfied: six>=1.5 in /Users/au261214/.pyenv/versions/3.6.5/lib/python3.6/site-packages (from python-dateutil>=2.6.1->pandas>=0.24->xarray) (1.11.0)\n",
      "Installing collected packages: pandas, xarray\n",
      "  Found existing installation: pandas 0.23.0\n",
      "    Uninstalling pandas-0.23.0:\n",
      "      Successfully uninstalled pandas-0.23.0\n",
      "Successfully installed pandas-0.25.2 xarray-0.14.0\n",
      "\u001b[33mWARNING: You are using pip version 19.2.3, however version 19.3.1 is available.\n",
      "You should consider upgrading via the 'pip install --upgrade pip' command.\u001b[0m\n"
     ]
    }
   ],
   "source": [
    "!pip install xarray"
   ]
  },
  {
   "cell_type": "code",
   "execution_count": 4,
   "metadata": {},
   "outputs": [],
   "source": [
    "import xarray"
   ]
  },
  {
   "cell_type": "code",
   "execution_count": 5,
   "metadata": {},
   "outputs": [],
   "source": [
    "data = xarray.open_dataset('/Users/au261214/Downloads/2019-01-01_00-00.nc')"
   ]
  },
  {
   "cell_type": "code",
   "execution_count": 6,
   "metadata": {},
   "outputs": [
    {
     "data": {
      "text/plain": [
       "<xarray.Dataset>\n",
       "Dimensions:    (latitude: 721, longitude: 1440, time: 1)\n",
       "Coordinates:\n",
       "  * longitude  (longitude) float32 0.0 0.25 0.5 0.75 ... 359.25 359.5 359.75\n",
       "  * latitude   (latitude) float32 90.0 89.75 89.5 89.25 ... -89.5 -89.75 -90.0\n",
       "  * time       (time) datetime64[ns] 2019-01-01\n",
       "Data variables:\n",
       "    u10        (time, latitude, longitude) float32 ...\n",
       "    v10        (time, latitude, longitude) float32 ...\n",
       "    d2m        (time, latitude, longitude) float32 ...\n",
       "    t2m        (time, latitude, longitude) float32 ...\n",
       "    sp         (time, latitude, longitude) float32 ...\n",
       "    tcc        (time, latitude, longitude) float32 ...\n",
       "    tp         (time, latitude, longitude) float32 ...\n",
       "    ssrd       (time, latitude, longitude) float32 ...\n",
       "Attributes:\n",
       "    Conventions:  CF-1.6\n",
       "    history:      2019-09-13 21:31:43 GMT by grib_to_netcdf-2.10.0: /opt/ecmw..."
      ]
     },
     "execution_count": 6,
     "metadata": {},
     "output_type": "execute_result"
    }
   ],
   "source": [
    "data"
   ]
  },
  {
   "cell_type": "code",
   "execution_count": 19,
   "metadata": {},
   "outputs": [
    {
     "ename": "TypeError",
     "evalue": "can only lookup dictionaries from Dataset.loc",
     "output_type": "error",
     "traceback": [
      "\u001b[0;31m---------------------------------------------------------------------------\u001b[0m",
      "\u001b[0;31mTypeError\u001b[0m                                 Traceback (most recent call last)",
      "\u001b[0;32m<ipython-input-19-d1a5c958c5e1>\u001b[0m in \u001b[0;36m<module>\u001b[0;34m()\u001b[0m\n\u001b[0;32m----> 1\u001b[0;31m \u001b[0mdata\u001b[0m\u001b[0;34m.\u001b[0m\u001b[0mloc\u001b[0m\u001b[0;34m[\u001b[0m\u001b[0;34m'u10'\u001b[0m\u001b[0;34m]\u001b[0m\u001b[0;34m\u001b[0m\u001b[0m\n\u001b[0m",
      "\u001b[0;32m~/.pyenv/versions/3.6.5/lib/python3.6/site-packages/xarray/core/dataset.py\u001b[0m in \u001b[0;36m__getitem__\u001b[0;34m(self, key)\u001b[0m\n\u001b[1;32m    391\u001b[0m     \u001b[0;32mdef\u001b[0m \u001b[0m__getitem__\u001b[0m\u001b[0;34m(\u001b[0m\u001b[0mself\u001b[0m\u001b[0;34m,\u001b[0m \u001b[0mkey\u001b[0m\u001b[0;34m:\u001b[0m \u001b[0mMapping\u001b[0m\u001b[0;34m[\u001b[0m\u001b[0mHashable\u001b[0m\u001b[0;34m,\u001b[0m \u001b[0mAny\u001b[0m\u001b[0;34m]\u001b[0m\u001b[0;34m)\u001b[0m \u001b[0;34m->\u001b[0m \u001b[0;34m\"Dataset\"\u001b[0m\u001b[0;34m:\u001b[0m\u001b[0;34m\u001b[0m\u001b[0m\n\u001b[1;32m    392\u001b[0m         \u001b[0;32mif\u001b[0m \u001b[0;32mnot\u001b[0m \u001b[0mutils\u001b[0m\u001b[0;34m.\u001b[0m\u001b[0mis_dict_like\u001b[0m\u001b[0;34m(\u001b[0m\u001b[0mkey\u001b[0m\u001b[0;34m)\u001b[0m\u001b[0;34m:\u001b[0m\u001b[0;34m\u001b[0m\u001b[0m\n\u001b[0;32m--> 393\u001b[0;31m             \u001b[0;32mraise\u001b[0m \u001b[0mTypeError\u001b[0m\u001b[0;34m(\u001b[0m\u001b[0;34m\"can only lookup dictionaries from Dataset.loc\"\u001b[0m\u001b[0;34m)\u001b[0m\u001b[0;34m\u001b[0m\u001b[0m\n\u001b[0m\u001b[1;32m    394\u001b[0m         \u001b[0;32mreturn\u001b[0m \u001b[0mself\u001b[0m\u001b[0;34m.\u001b[0m\u001b[0mdataset\u001b[0m\u001b[0;34m.\u001b[0m\u001b[0msel\u001b[0m\u001b[0;34m(\u001b[0m\u001b[0mkey\u001b[0m\u001b[0;34m)\u001b[0m\u001b[0;34m\u001b[0m\u001b[0m\n\u001b[1;32m    395\u001b[0m \u001b[0;34m\u001b[0m\u001b[0m\n",
      "\u001b[0;31mTypeError\u001b[0m: can only lookup dictionaries from Dataset.loc"
     ]
    }
   ],
   "source": [
    "data.loc['u10']"
   ]
  },
  {
   "cell_type": "code",
   "execution_count": 23,
   "metadata": {},
   "outputs": [
    {
     "name": "stdout",
     "output_type": "stream",
     "text": [
      "\u001b[31mbsdcat\u001b[m\u001b[m*      \u001b[31mcurl\u001b[m\u001b[m*        \u001b[31miconv\u001b[m\u001b[m*       \u001b[31mrdoc\u001b[m\u001b[m*        \u001b[31mxmlcatalog\u001b[m\u001b[m*\n",
      "\u001b[31mbsdcpio\u001b[m\u001b[m*     \u001b[31mcurl-config\u001b[m\u001b[m* \u001b[31mirb\u001b[m\u001b[m*         \u001b[31mri\u001b[m\u001b[m*          \u001b[31mxmllint\u001b[m\u001b[m*\n",
      "\u001b[31mbsdtar\u001b[m\u001b[m*      \u001b[31merb\u001b[m\u001b[m*         \u001b[31mopenssl\u001b[m\u001b[m*     \u001b[31mruby\u001b[m\u001b[m*        \u001b[31mxslt-config\u001b[m\u001b[m*\n",
      "\u001b[31mc_rehash\u001b[m\u001b[m*    \u001b[31mgem\u001b[m\u001b[m*         \u001b[31mrake\u001b[m\u001b[m*        \u001b[31mxml2-config\u001b[m\u001b[m* \u001b[31mxsltproc\u001b[m\u001b[m*\n"
     ]
    }
   ],
   "source": [
    "ls /opt/vagrant/embedded/bin"
   ]
  },
  {
   "cell_type": "code",
   "execution_count": null,
   "metadata": {},
   "outputs": [],
   "source": []
  }
 ],
 "metadata": {
  "kernelspec": {
   "display_name": "Python 3",
   "language": "python",
   "name": "python3"
  },
  "language_info": {
   "codemirror_mode": {
    "name": "ipython",
    "version": 3
   },
   "file_extension": ".py",
   "mimetype": "text/x-python",
   "name": "python",
   "nbconvert_exporter": "python",
   "pygments_lexer": "ipython3",
   "version": "3.6.5"
  }
 },
 "nbformat": 4,
 "nbformat_minor": 2
}
