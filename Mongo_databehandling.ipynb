{
 "cells": [
  {
   "cell_type": "code",
   "execution_count": 1,
   "metadata": {
    "collapsed": false
   },
   "outputs": [
    {
     "name": "stdout",
     "output_type": "stream",
     "text": [
      "Using matplotlib backend: MacOSX\n",
      "Populating the interactive namespace from numpy and matplotlib\n"
     ]
    }
   ],
   "source": [
    "%pylab"
   ]
  },
  {
   "cell_type": "code",
   "execution_count": 20,
   "metadata": {
    "collapsed": false
   },
   "outputs": [
    {
     "ename": "TypeError",
     "evalue": "replace() takes at least 2 arguments (0 given)",
     "output_type": "error",
     "traceback": [
      "\u001b[0;31m---------------------------------------------------------------------------\u001b[0m",
      "\u001b[0;31mTypeError\u001b[0m                                 Traceback (most recent call last)",
      "\u001b[0;32m<ipython-input-20-5efe417b91fa>\u001b[0m in \u001b[0;36m<module>\u001b[0;34m()\u001b[0m\n\u001b[0;32m----> 1\u001b[0;31m \u001b[0mworkdir\u001b[0m \u001b[0;34m=\u001b[0m \u001b[0;34m'/Users/alehmann/Documents/Documents/HIH/phd_application/papers/IMWUT2017/data/'\u001b[0m\u001b[0;34m.\u001b[0m\u001b[0mreplace\u001b[0m\u001b[0;34m(\u001b[0m\u001b[0;34m)\u001b[0m\u001b[0;34m\u001b[0m\u001b[0m\n\u001b[0m",
      "\u001b[0;31mTypeError\u001b[0m: replace() takes at least 2 arguments (0 given)"
     ]
    }
   ],
   "source": [
    "workdir = '/Users/alehmann/Documents/Documents/HIH/phd_application/papers/IMWUT2017/data/'"
   ]
  },
  {
   "cell_type": "code",
   "execution_count": 13,
   "metadata": {
    "collapsed": true
   },
   "outputs": [],
   "source": [
    "from subprocess import Popen  "
   ]
  },
  {
   "cell_type": "code",
   "execution_count": 16,
   "metadata": {
    "collapsed": false
   },
   "outputs": [
    {
     "data": {
      "text/plain": [
       "['aarhus_dayOfWeek.json',\n",
       " 'aarhus_O.json',\n",
       " 'herning_1_D.json',\n",
       " 'herning_1_year.json',\n",
       " 'herning_users.json',\n",
       " 'aarhus_D.json',\n",
       " 'aarhus_pointsOnCurve.json',\n",
       " 'herning_1_length.json',\n",
       " 'herning_dayOfWeek.json',\n",
       " 'aarhus_historgram.json',\n",
       " 'aarhus_samplefreq.json',\n",
       " 'herning_1_month.json',\n",
       " 'herning_hist.json',\n",
       " 'aarhus_length.json',\n",
       " 'aarhus_timeOfDay.json',\n",
       " 'herning_1_OD.json',\n",
       " 'herning_OD.json',\n",
       " 'aarhus_month.json',\n",
       " 'aarhus_users.json',\n",
       " 'herning_1_O.json',\n",
       " 'herning_samplefreq.json',\n",
       " 'aarhus_OD.json',\n",
       " 'aarhus_year.json',\n",
       " 'herning_1_pointsOnCurve.json',\n",
       " 'herning_timeOfDay.json']"
      ]
     },
     "execution_count": 16,
     "metadata": {},
     "output_type": "execute_result"
    }
   ],
   "source": [
    "json_files = \"\"\"aarhus_dayOfWeek.json   aarhus_O.json              herning_1_D.json              herning_1_year.json      herning_users.json\n",
    "aarhus_D.json           aarhus_pointsOnCurve.json  herning_1_length.json         herning_dayOfWeek.json  \n",
    "aarhus_historgram.json  aarhus_samplefreq.json     herning_1_month.json          herning_hist.json       \n",
    "aarhus_length.json      aarhus_timeOfDay.json      herning_1_OD.json             herning_OD.json\n",
    "aarhus_month.json       aarhus_users.json          herning_1_O.json              herning_samplefreq.json\n",
    "aarhus_OD.json          aarhus_year.json           herning_1_pointsOnCurve.json  herning_timeOfDay.json\"\"\".split()\n",
    "json_files"
   ]
  },
  {
   "cell_type": "code",
   "execution_count": 17,
   "metadata": {
    "collapsed": false
   },
   "outputs": [
    {
     "name": "stdout",
     "output_type": "stream",
     "text": [
      "scp eco-admin@ecosensedb01.cs.au.dk:ale/aarhus_dayOfWeek.json /Users/alehmann/Documents/Documents/HIH/phd_application/papers/IMWUT2017/data/\n",
      "scp eco-admin@ecosensedb01.cs.au.dk:ale/aarhus_O.json /Users/alehmann/Documents/Documents/HIH/phd_application/papers/IMWUT2017/data/\n",
      "scp eco-admin@ecosensedb01.cs.au.dk:ale/herning_1_D.json /Users/alehmann/Documents/Documents/HIH/phd_application/papers/IMWUT2017/data/\n",
      "scp eco-admin@ecosensedb01.cs.au.dk:ale/herning_1_year.json /Users/alehmann/Documents/Documents/HIH/phd_application/papers/IMWUT2017/data/\n",
      "scp eco-admin@ecosensedb01.cs.au.dk:ale/herning_users.json /Users/alehmann/Documents/Documents/HIH/phd_application/papers/IMWUT2017/data/\n",
      "scp eco-admin@ecosensedb01.cs.au.dk:ale/aarhus_D.json /Users/alehmann/Documents/Documents/HIH/phd_application/papers/IMWUT2017/data/\n",
      "scp eco-admin@ecosensedb01.cs.au.dk:ale/aarhus_pointsOnCurve.json /Users/alehmann/Documents/Documents/HIH/phd_application/papers/IMWUT2017/data/\n",
      "scp eco-admin@ecosensedb01.cs.au.dk:ale/herning_1_length.json /Users/alehmann/Documents/Documents/HIH/phd_application/papers/IMWUT2017/data/\n",
      "scp eco-admin@ecosensedb01.cs.au.dk:ale/herning_dayOfWeek.json /Users/alehmann/Documents/Documents/HIH/phd_application/papers/IMWUT2017/data/\n",
      "scp eco-admin@ecosensedb01.cs.au.dk:ale/aarhus_historgram.json /Users/alehmann/Documents/Documents/HIH/phd_application/papers/IMWUT2017/data/\n",
      "scp eco-admin@ecosensedb01.cs.au.dk:ale/aarhus_samplefreq.json /Users/alehmann/Documents/Documents/HIH/phd_application/papers/IMWUT2017/data/\n",
      "scp eco-admin@ecosensedb01.cs.au.dk:ale/herning_1_month.json /Users/alehmann/Documents/Documents/HIH/phd_application/papers/IMWUT2017/data/\n",
      "scp eco-admin@ecosensedb01.cs.au.dk:ale/herning_hist.json /Users/alehmann/Documents/Documents/HIH/phd_application/papers/IMWUT2017/data/\n",
      "scp eco-admin@ecosensedb01.cs.au.dk:ale/aarhus_length.json /Users/alehmann/Documents/Documents/HIH/phd_application/papers/IMWUT2017/data/\n",
      "scp eco-admin@ecosensedb01.cs.au.dk:ale/aarhus_timeOfDay.json /Users/alehmann/Documents/Documents/HIH/phd_application/papers/IMWUT2017/data/\n",
      "scp eco-admin@ecosensedb01.cs.au.dk:ale/herning_1_OD.json /Users/alehmann/Documents/Documents/HIH/phd_application/papers/IMWUT2017/data/\n",
      "scp eco-admin@ecosensedb01.cs.au.dk:ale/herning_OD.json /Users/alehmann/Documents/Documents/HIH/phd_application/papers/IMWUT2017/data/\n",
      "scp eco-admin@ecosensedb01.cs.au.dk:ale/aarhus_month.json /Users/alehmann/Documents/Documents/HIH/phd_application/papers/IMWUT2017/data/\n",
      "scp eco-admin@ecosensedb01.cs.au.dk:ale/aarhus_users.json /Users/alehmann/Documents/Documents/HIH/phd_application/papers/IMWUT2017/data/\n",
      "scp eco-admin@ecosensedb01.cs.au.dk:ale/herning_1_O.json /Users/alehmann/Documents/Documents/HIH/phd_application/papers/IMWUT2017/data/\n",
      "scp eco-admin@ecosensedb01.cs.au.dk:ale/herning_samplefreq.json /Users/alehmann/Documents/Documents/HIH/phd_application/papers/IMWUT2017/data/\n",
      "scp eco-admin@ecosensedb01.cs.au.dk:ale/aarhus_OD.json /Users/alehmann/Documents/Documents/HIH/phd_application/papers/IMWUT2017/data/\n",
      "scp eco-admin@ecosensedb01.cs.au.dk:ale/aarhus_year.json /Users/alehmann/Documents/Documents/HIH/phd_application/papers/IMWUT2017/data/\n",
      "scp eco-admin@ecosensedb01.cs.au.dk:ale/herning_1_pointsOnCurve.json /Users/alehmann/Documents/Documents/HIH/phd_application/papers/IMWUT2017/data/\n",
      "scp eco-admin@ecosensedb01.cs.au.dk:ale/herning_timeOfDay.json /Users/alehmann/Documents/Documents/HIH/phd_application/papers/IMWUT2017/data/\n"
     ]
    }
   ],
   "source": [
    "\n",
    "#with open(workdir+'json_files.txt') as f:\n",
    "for line in json_files:\n",
    "    cmd = \"scp eco-admin@ecosensedb01.cs.au.dk:ale/{0} {1}\".format(line,workdir)\n",
    "    print cmd\n",
    "    com = Popen(cmd.split())\n",
    "    com.wait()"
   ]
  },
  {
   "cell_type": "code",
   "execution_count": 5,
   "metadata": {
    "collapsed": false
   },
   "outputs": [],
   "source": [
    "jsdir = workdir+\"../js/\""
   ]
  },
  {
   "cell_type": "code",
   "execution_count": 7,
   "metadata": {
    "collapsed": false
   },
   "outputs": [],
   "source": [
    "import os"
   ]
  },
  {
   "cell_type": "code",
   "execution_count": 14,
   "metadata": {
    "collapsed": false
   },
   "outputs": [
    {
     "name": "stdout",
     "output_type": "stream",
     "text": [
      "scp /Users/alehmann/Documents/Documents/HIH/phd_application/papers/IMWUT2017/data/../js/herning_1_D.js eco-admin@ecosensedb01.cs.au.dk:ale/\n",
      "scp /Users/alehmann/Documents/Documents/HIH/phd_application/papers/IMWUT2017/data/../js/herning_1_dayOfWeek.js eco-admin@ecosensedb01.cs.au.dk:ale/\n",
      "scp /Users/alehmann/Documents/Documents/HIH/phd_application/papers/IMWUT2017/data/../js/herning_1_histogram.js eco-admin@ecosensedb01.cs.au.dk:ale/\n",
      "scp /Users/alehmann/Documents/Documents/HIH/phd_application/papers/IMWUT2017/data/../js/herning_1_historgram.js eco-admin@ecosensedb01.cs.au.dk:ale/\n",
      "scp /Users/alehmann/Documents/Documents/HIH/phd_application/papers/IMWUT2017/data/../js/herning_1_length.js eco-admin@ecosensedb01.cs.au.dk:ale/\n",
      "scp /Users/alehmann/Documents/Documents/HIH/phd_application/papers/IMWUT2017/data/../js/herning_1_month.js eco-admin@ecosensedb01.cs.au.dk:ale/\n",
      "scp /Users/alehmann/Documents/Documents/HIH/phd_application/papers/IMWUT2017/data/../js/herning_1_O.js eco-admin@ecosensedb01.cs.au.dk:ale/\n",
      "scp /Users/alehmann/Documents/Documents/HIH/phd_application/papers/IMWUT2017/data/../js/herning_1_OD.js eco-admin@ecosensedb01.cs.au.dk:ale/\n",
      "scp /Users/alehmann/Documents/Documents/HIH/phd_application/papers/IMWUT2017/data/../js/herning_1_pointsOnCurve.js eco-admin@ecosensedb01.cs.au.dk:ale/\n",
      "scp /Users/alehmann/Documents/Documents/HIH/phd_application/papers/IMWUT2017/data/../js/herning_1_samplefreq.js eco-admin@ecosensedb01.cs.au.dk:ale/\n",
      "scp /Users/alehmann/Documents/Documents/HIH/phd_application/papers/IMWUT2017/data/../js/herning_1_timeOfDay.js eco-admin@ecosensedb01.cs.au.dk:ale/\n",
      "scp /Users/alehmann/Documents/Documents/HIH/phd_application/papers/IMWUT2017/data/../js/herning_1_users.js eco-admin@ecosensedb01.cs.au.dk:ale/\n",
      "scp /Users/alehmann/Documents/Documents/HIH/phd_application/papers/IMWUT2017/data/../js/herning_1_year.js eco-admin@ecosensedb01.cs.au.dk:ale/\n"
     ]
    }
   ],
   "source": [
    "for f in os.listdir(jsdir):\n",
    "    if f.startswith('aarhus_'):\n",
    "        o_name = 'herning_1_'+ f[7:]\n",
    "        with open(jsdir+f) as infile:\n",
    "            with open(jsdir+o_name,'w') as ofile :\n",
    "                txt = infile.read()\n",
    "                txt = txt.replace('query:query_aarhus','query:query_herning')\n",
    "                ofile.write(txt)\n",
    "            cmd = \"scp {} eco-admin@ecosensedb01.cs.au.dk:ale/\".format(jsdir+o_name)\n",
    "            print cmd\n",
    "            com = Popen(cmd.split())\n",
    "            com.wait()"
   ]
  },
  {
   "cell_type": "code",
   "execution_count": 19,
   "metadata": {
    "collapsed": false
   },
   "outputs": [
    {
     "name": "stdout",
     "output_type": "stream",
     "text": [
      "aarhus_D.json                herning_1_O.json\r\n",
      "aarhus_O.json                herning_1_OD.json\r\n",
      "aarhus_OD.json               herning_1_length.json\r\n",
      "aarhus_dayOfWeek.json        herning_1_month.json\r\n",
      "aarhus_historgram.json       herning_1_pointsOnCurve.json\r\n",
      "aarhus_length.json           herning_1_year.json\r\n",
      "aarhus_month.json            herning_OD.json\r\n",
      "aarhus_pointsOnCurve.json    herning_dayOfWeek.json\r\n",
      "aarhus_samplefreq.json       herning_hist.json\r\n",
      "aarhus_timeOfDay.json        herning_samplefreq.json\r\n",
      "aarhus_users.json            herning_timeOfDay.json\r\n",
      "aarhus_year.json             herning_users.json\r\n",
      "herning_1_D.json             json_files.txt\r\n"
     ]
    }
   ],
   "source": [
    "!ls $workdir"
   ]
  },
  {
   "cell_type": "code",
   "execution_count": 1,
   "metadata": {
    "collapsed": false
   },
   "outputs": [],
   "source": [
    "import json\n",
    "import IPython\n",
    "\n",
    "def geojson(data):\n",
    "  bundle = {}\n",
    "  bundle['application/vnd.geo+json'] = data\n",
    "  IPython.display.display(bundle, raw=True)"
   ]
  },
  {
   "cell_type": "code",
   "execution_count": 12,
   "metadata": {
    "collapsed": false
   },
   "outputs": [
    {
     "data": {
      "text/plain": [
       "{'features': [{'geometry': {'coordinates': [-77.02827, 38.91427],\n",
       "    'type': 'Point'},\n",
       "   'properties': {},\n",
       "   'type': 'Feature'}],\n",
       " 'type': 'FeatureCollection'}"
      ]
     },
     "execution_count": 12,
     "metadata": {},
     "output_type": "execute_result"
    }
   ],
   "source": [
    "#data = {\"type\":\"FeatureCollection\",\"features\":[{\"type\":\"Feature\",\"geometry\":{\"type\":\"Point\",\"coordinates\":[55.7745,9.1589]}},]}\n",
    "#data = {\"type\":\"FeatureCollection\",\"features\":[{\"type\":\"Feature\",\"properties\":{\"place\":\"The coffee bar\",\"login\":\"espresso\",\"lat\":\"38.91427\",\"lon\":\"-77.02827\"},\"geometry\":{\"type\":\"Point\",\"coordinates\":[-77.02827,38.91427]}},{\"type\":\"Feature\",\"properties\":{\"place\":\"Bistro Bohem\",\"login\":\"2027355895\",\"lat\":\"38.91538\",\"lon\":\"-77.02013\"},\"geometry\":{\"type\":\"Point\",\"coordinates\":[-77.02013,38.91538]}},{\"type\":\"Feature\",\"properties\":{\"place\":\"Black Cat\",\"login\":\"luckycat\",\"lat\":\"38.91458\",\"lon\":\"-77.03155\"},\"geometry\":{\"type\":\"Point\",\"coordinates\":[-77.03155,38.91458]}},{\"type\":\"Feature\",\"properties\":{\"place\":\"Snap\",\"login\":\"nutella1\",\"lat\":\"38.92239\",\"lon\":\"-77.04227\"},\"geometry\":{\"type\":\"Point\",\"coordinates\":[-77.04227,38.92239]}},{\"type\":\"Feature\",\"properties\":{\"place\":\"Columbia Heights Coffee\",\"login\":\"FAIRTRADE1\",\"lat\":\"38.93222\",\"lon\":\"-77.02854\"},\"geometry\":{\"type\":\"Point\",\"coordinates\":[-77.02854,38.93222]}},{\"type\":\"Feature\",\"properties\":{\"place\":\"Azi's Cafe\",\"login\":\"sunny\",\"lat\":\"38.90842\",\"lon\":\"-77.02419\"},\"geometry\":{\"type\":\"Point\",\"coordinates\":[-77.02419,38.90842]}},{\"type\":\"Feature\",\"properties\":{\"place\":\"Blind Dog Cafe\",\"login\":\"baxtercantsee\",\"lat\":\"38.91931\",\"lon\":\"-77.02518\"},\"geometry\":{\"type\":\"Point\",\"coordinates\":[-77.02518,38.91931]}},{\"type\":\"Feature\",\"properties\":{\"place\":\"Le Caprice\",\"login\":\"baguette\",\"lat\":\"38.93260\",\"lon\":\"-77.03304\"},\"geometry\":{\"type\":\"Point\",\"coordinates\":[-77.03304,38.9326]}},{\"type\":\"Feature\",\"properties\":{\"place\":\"Filter\",\"login\":\"\",\"lat\":\"38.91368\",\"lon\":\"-77.04509\"},\"geometry\":{\"type\":\"Point\",\"coordinates\":[-77.04509,38.91368]}},{\"type\":\"Feature\",\"properties\":{\"place\":\"Peregrine\",\"login\":\"espresso\",\"lat\":\"38.88516\",\"lon\":\"-76.99656\"},\"geometry\":{\"type\":\"Point\",\"coordinates\":[-76.99656,38.88516]}},{\"type\":\"Feature\",\"properties\":{\"place\":\"Tryst\",\"login\":\"coupetnt\",\"lat\":\"38.921894\",\"lon\":\"-77.042438\"},\"geometry\":{\"type\":\"Point\",\"coordinates\":[-77.042438,38.921894]}},{\"type\":\"Feature\",\"properties\":{\"place\":\"The Coupe\",\"login\":\"voteforus\",\"lat\":\"38.93206\",\"lon\":\"-77.02821\"},\"geometry\":{\"type\":\"Point\",\"coordinates\":[-77.02821,38.93206]}},{\"type\":\"Feature\",\"properties\":{\"place\":\"Big Bear Cafe\",\"login\":\"\",\"lat\":\"38.91275\",\"lon\":\"-77.01239\"},\"geometry\":{\"type\":\"Point\",\"coordinates\":[-77.01239,38.91275]}}]}\n",
    "data = {\"type\":\"FeatureCollection\",\"features\":[{\"type\":\"Feature\",\"properties\":{},\"geometry\":{\"type\":\"Point\",\"coordinates\":[-77.02827,38.91427]}}]}\n",
    "data"
   ]
  },
  {
   "cell_type": "code",
   "execution_count": 9,
   "metadata": {
    "collapsed": false
   },
   "outputs": [
    {
     "data": {
      "application/vnd.geo+json": {
       "features": [
        {
         "geometry": {
          "coordinates": [
           -77.02827,
           38.91427
          ],
          "type": "Point"
         },
         "properties": {},
         "type": "Feature"
        }
       ],
       "type": "FeatureCollection"
      }
     },
     "metadata": {},
     "output_type": "display_data"
    }
   ],
   "source": [
    "geojson(data)"
   ]
  },
  {
   "cell_type": "code",
   "execution_count": 11,
   "metadata": {
    "collapsed": false
   },
   "outputs": [],
   "source": [
    "bundle = {}\n",
    "bundle['application/vnd.geo+json'] = data\n",
    "IPython.display.display_json(data)"
   ]
  },
  {
   "cell_type": "code",
   "execution_count": 37,
   "metadata": {
    "collapsed": false
   },
   "outputs": [
    {
     "data": {
      "text/plain": [
       "<module 'IPython' from '/usr/local/lib/python2.7/site-packages/IPython/__init__.pyc'>"
      ]
     },
     "execution_count": 37,
     "metadata": {},
     "output_type": "execute_result"
    }
   ],
   "source": [
    "reload(IPython)"
   ]
  },
  {
   "cell_type": "code",
   "execution_count": 38,
   "metadata": {
    "collapsed": false
   },
   "outputs": [
    {
     "ename": "ImportError",
     "evalue": "No module named ipython",
     "output_type": "error",
     "traceback": [
      "\u001b[0;31m---------------------------------------------------------------------------\u001b[0m",
      "\u001b[0;31mImportError\u001b[0m                               Traceback (most recent call last)",
      "\u001b[0;32m<ipython-input-38-68a5f6bbf1ac>\u001b[0m in \u001b[0;36m<module>\u001b[0;34m()\u001b[0m\n\u001b[0;32m----> 1\u001b[0;31m \u001b[0;32mimport\u001b[0m \u001b[0mipython\u001b[0m\u001b[0;34m\u001b[0m\u001b[0m\n\u001b[0m",
      "\u001b[0;31mImportError\u001b[0m: No module named ipython"
     ]
    }
   ],
   "source": [
    "import ipython"
   ]
  },
  {
   "cell_type": "code",
   "execution_count": null,
   "metadata": {
    "collapsed": true
   },
   "outputs": [],
   "source": []
  }
 ],
 "metadata": {
  "kernelspec": {
   "display_name": "Python 2",
   "language": "python",
   "name": "python2"
  },
  "language_info": {
   "codemirror_mode": {
    "name": "ipython",
    "version": 2
   },
   "file_extension": ".py",
   "mimetype": "text/x-python",
   "name": "python",
   "nbconvert_exporter": "python",
   "pygments_lexer": "ipython2",
   "version": "2.7.13"
  }
 },
 "nbformat": 4,
 "nbformat_minor": 0
}
