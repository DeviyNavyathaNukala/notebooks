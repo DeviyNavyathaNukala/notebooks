{
 "metadata": {
  "celltoolbar": "Slideshow",
  "name": "",
  "signature": "sha256:74620f0448945c94e8f54dbaf0a7d8cbace108dc06eeb75e2a33298b2d3cc501"
 },
 "nbformat": 3,
 "nbformat_minor": 0,
 "worksheets": [
  {
   "cells": [
    {
     "cell_type": "markdown",
     "metadata": {
      "slideshow": {
       "slide_type": "slide"
      }
     },
     "source": [
      "Agenda:\n",
      "    \n",
      "    Indledning\n",
      "    IPython Notebook eksempler\n",
      "        Interaktiv Python konsol\n",
      "        OS adgang\n",
      "        Graphing\n",
      "        Matlab \n",
      "    Online notebooks\n",
      "    NBconvert\n",
      "    Hvordan virker IPython Notebook?\n",
      "    Hands on via Docker\n",
      "    "
     ]
    },
    {
     "cell_type": "markdown",
     "metadata": {},
     "source": []
    }
   ],
   "metadata": {}
  }
 ]
}