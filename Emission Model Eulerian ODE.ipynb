{
 "metadata": {
  "name": "Emission Model Eulerian ODE"
 },
 "nbformat": 3,
 "nbformat_minor": 0,
 "worksheets": [
  {
   "cells": [
    {
     "cell_type": "code",
     "collapsed": false,
     "input": [
      "from scipy import arange,zeros,exp\n",
      "from scipy.integrate import ode\n",
      "\n",
      "def test_ode_banded():\n",
      "    \"\"\"Banded example copied from CVODE.\n",
      "    \n",
      "    The following is a simple example problem with a banded Jacobian,\n",
      "    with the program for its solution by CVODE.\n",
      "    The problem is the semi-discrete form of the advection-diffusion \n",
      "    equation in 2-D:                                                 \n",
      "      du/dt = d2 u / dx2 + 0.5 du/dx + d2 u / dy2                 \n",
      "    on the rectangle 0 <= x <= 2, 0 <= y <= 1, and the time          \n",
      "    interval 0 <= t <= 1.  Homogeneous Dirichlet boundary conditions \n",
      "    are posed, and the initial condition is                          \n",
      "      u(x,y,t=0) = x(2-x)y(1-y)exp(5xy) .                            \n",
      "    The PDE is discretized on a uniform MX+2 by MY+2 grid with       \n",
      "    central differencing, and with boundary values eliminated,       \n",
      "    leaving an ODE system of size NEQ = MX*MY.                       \n",
      "\n",
      "    Assuming that MY < MX a minimum bandwidth banded system can be\n",
      "    constructed by arranging the grid points along columns. This\n",
      "    results in the lower and upper bandwidths ml = mu = MY.\n",
      "\n",
      "    This function solves the problem with the BDF method, Newton      \n",
      "    iteration with the VODE band linear solver, and a user-supplied \n",
      "    Jacobian routine. It uses scalar relative and absolute tolerances.\n",
      "    Output is printed at t = 0., .1, .2, ..., 1.                         \n",
      "    \"\"\"\n",
      "    # Some constants\n",
      "    xmax = 2.0              # domain boundaries\n",
      "    ymax = 1.0\n",
      "    mx = 10                 # mesh dimensions\n",
      "    my = 50\n",
      "    dx = xmax/(mx+1.)       # grid spacing\n",
      "    dy = ymax/(my+1.)\n",
      "    neq = mx*my             # number of equations\n",
      "    mu = my                 # half bandwidths\n",
      "    ml = my\n",
      "    atol = 1.e-5            # scalar absolute tolerance\n",
      "    nrowpd = ml+2*mu+1      # number of rows in storage of banded Jacobian\n",
      "    x = dx*(arange(mx)+1.0) # inner grid points\n",
      "    y = dy*(arange(my)+1.0)\n",
      "    t = 0.1*arange(110)      # the times we want to print the solution\n",
      "\n",
      "    # The right hand side function in udot = f(t,u)\n",
      "    def f(t,u):\n",
      "        for j in range(mx):\n",
      "            for i in range(my):\n",
      "                # Get index of gridpoint i,j in u and udot\n",
      "                k = j*my+i\n",
      "                # Extract u at x_j, y_i and four neighboring points\n",
      "                ult = urt = uup = udn = 0.0\n",
      "                uij = u[k]\n",
      "                if j>0:    ult = u[k-my]\n",
      "                if j<mx-1: urt = u[k+my]\n",
      "                if i>0:    uup = u[k-1]\n",
      "                if i<my-1: udn = u[k+1]\n",
      "                # Set diffusion and advection terms and load into udot\n",
      "                hdiff = (ult - 2.0*uij + urt)/(dx*dx)\n",
      "                vdiff = (uup - 2.0*uij + udn)/(dy*dy)\n",
      "                hadv  = 0.5*(urt - ult)/(2.0*dx)\n",
      "                udot[j*my+i] = hdiff + hadv + vdiff\n",
      "        return udot\n",
      "\n",
      "\n",
      "    # The Jacobian.\n",
      "    # For banded systems this function returns a matrix pd of\n",
      "    # size ml+mu*2+1 by neq containing the partial derivatives\n",
      "    # df[k]/du[u]. Here f is the right hand side function in\n",
      "    # udot=f(t,u), ml and mu are the lower and upper half bandwidths\n",
      "    # and neq the number of equations.  The derivatives df[k]/du[l]\n",
      "    # are loaded into pd[mu+k-l,k], i.e. the diagonals are loaded into\n",
      "    # the rows of pd from top down (fortran indexing).\n",
      "    #\n",
      "    # Confusingly, the number of rows VODE expect is not ml+mu+1, but\n",
      "    # given by a parameter nrowpd, which unfortunately is left out in\n",
      "    # the python interface. However, it seems that VODE expect that\n",
      "    # nrowpd = ml+2*mu+1. E.g. for our system with ml=mu=5 VODE expect\n",
      "    # 16 rows. Fortunately the f2py interface prints out an error if\n",
      "    # the number of rows is wrong, so as long ml and mu are known in\n",
      "    # beforehand one can always determine nrowpd by trial and error...\n",
      "    def jac(t,u):\n",
      "        # The components of u that f[i,j] = udot_ij depends on are:\n",
      "        # u[i,j], u[i,j-1], u[i,j+1], u[i-1,j] and u[i+1,j], with\n",
      "        #   df[i,j]/du[i,j]   = -2 (1/dx2 + 1/dy2),          l=k\n",
      "        #   df[i,j]/du[i,j-1] = 1/dx2 - .25/dx,       j>0,    l=k-my\n",
      "        #   df[i,j]/du[i,j+1] = 1/dx2 + .25/dx,       j<MX-1, l=k+my\n",
      "        #   df[i,j]/du[i-1,j] = 1/dy2                 i>0,    l=k-1\n",
      "        #   df[i,j]/du[i+1,j] = 1/dy2                 i<MY-1, l=k+1\n",
      "        # where k=j*my+i.\n",
      "        for j in range(mx):\n",
      "            for i in range(my):\n",
      "                k = j*my+i\n",
      "                pd[mu,k] = -2.0*(1.0/(dx*dx) + 1.0/(dy*dy))\n",
      "                if j > 0:    pd[mu-my,k] = 1.0/(dx*dx) + 0.25/dx\n",
      "                if j < mx-1: pd[mu+my,k] = 1.0/(dx*dx) + 0.25/dx\n",
      "                if i > 0:    pd[mu-1,k]  = 1.0/(dy*dy)\n",
      "                if k < my-1: pd[mu+1,k]  = 1.0/(dy*dy)\n",
      "        return pd\n",
      "\n",
      "    # Initial value\n",
      "    u = zeros(neq,float)\n",
      "    for j in range(mx):\n",
      "        u[j*my:(j+1)*my] = x[j]*(xmax - x[j])*y*(ymax - y)*exp(5*x[j]*y)\n",
      "\n",
      "    # Allocate global work arrays pd and udot\n",
      "    pd   = zeros((nrowpd,neq),float)\n",
      "    udot = zeros(neq,float)\n",
      "\n",
      "    # Solve the problem\n",
      "    print \"2-D advection-diffusion equation, mesh dimensions =%3d %3d\" %(mx,my)\n",
      "    print \"Banded solution, bandwidth = %d\" % (ml+mu+1)\n",
      "    r = ode(f, jac)\n",
      "    r.set_integrator('vode',atol=atol,lband=ml,uband=mu,method='bdf')\n",
      "    r.set_initial_value(u, t=t[0])\n",
      "    print 'At t=%4.2f    max.norm(u) = %-12.4e'%(r.t, max(u))\n",
      "    for tout in t[1:]:\n",
      "        u = r.integrate(tout)\n",
      "        print 'At t=%4.2f    max.norm(u) = %-12.4e'%(r.t, max(u))\n",
      "        if not r.successful():\n",
      "            print \"An error occurred during integration\"\n",
      "            break\n",
      "\n",
      "\n",
      "\n",
      "test_ode_banded()"
     ],
     "language": "python",
     "metadata": {},
     "outputs": [
      {
       "output_type": "stream",
       "stream": "stdout",
       "text": [
        "2-D advection-diffusion equation, mesh dimensions = 10  50\n",
        "Banded solution, bandwidth = 101\n",
        "At t=0.00    max.norm(u) = 1.0640e+02  \n",
        "At t=0.10    max.norm(u) = 4.1702e+00  "
       ]
      },
      {
       "output_type": "stream",
       "stream": "stdout",
       "text": [
        "\n",
        "At t=0.20    max.norm(u) = 1.0155e+00  "
       ]
      },
      {
       "output_type": "stream",
       "stream": "stdout",
       "text": [
        "\n",
        "At t=0.30    max.norm(u) = 2.8489e-01  "
       ]
      },
      {
       "output_type": "stream",
       "stream": "stdout",
       "text": [
        "\n",
        "At t=0.40    max.norm(u) = 8.2034e-02  "
       ]
      },
      {
       "output_type": "stream",
       "stream": "stdout",
       "text": [
        "\n",
        "At t=0.50    max.norm(u) = 2.4065e-02  "
       ]
      },
      {
       "output_type": "stream",
       "stream": "stdout",
       "text": [
        "\n",
        "At t=0.60    max.norm(u) = 7.3348e-03  "
       ]
      },
      {
       "output_type": "stream",
       "stream": "stdout",
       "text": [
        "\n",
        "At t=0.70    max.norm(u) = 2.2780e-03  "
       ]
      },
      {
       "output_type": "stream",
       "stream": "stdout",
       "text": [
        "\n",
        "At t=0.80    max.norm(u) = 8.2132e-04  "
       ]
      },
      {
       "output_type": "stream",
       "stream": "stdout",
       "text": [
        "\n",
        "At t=0.90    max.norm(u) = 2.8020e-04  "
       ]
      },
      {
       "output_type": "stream",
       "stream": "stdout",
       "text": [
        "\n",
        "At t=1.00    max.norm(u) = 8.5698e-05  "
       ]
      },
      {
       "output_type": "stream",
       "stream": "stdout",
       "text": [
        "\n",
        "At t=1.10    max.norm(u) = 4.7962e-05  "
       ]
      },
      {
       "output_type": "stream",
       "stream": "stdout",
       "text": [
        "\n",
        "At t=1.20    max.norm(u) = 4.8494e-05  "
       ]
      },
      {
       "output_type": "stream",
       "stream": "stdout",
       "text": [
        "\n",
        "At t=1.30    max.norm(u) = 1.2389e-05  "
       ]
      },
      {
       "output_type": "stream",
       "stream": "stdout",
       "text": [
        "\n",
        "At t=1.40    max.norm(u) = 3.8992e-05  "
       ]
      },
      {
       "output_type": "stream",
       "stream": "stdout",
       "text": [
        "\n",
        "At t=1.50    max.norm(u) = 2.1071e-05  "
       ]
      },
      {
       "output_type": "stream",
       "stream": "stdout",
       "text": [
        "\n",
        "At t=1.60    max.norm(u) = 1.2307e-04  "
       ]
      },
      {
       "output_type": "stream",
       "stream": "stdout",
       "text": [
        "\n",
        "At t=1.70    max.norm(u) = 4.4633e-06  "
       ]
      },
      {
       "output_type": "stream",
       "stream": "stdout",
       "text": [
        "\n",
        "At t=1.80    max.norm(u) = 1.7486e-05  "
       ]
      },
      {
       "output_type": "stream",
       "stream": "stdout",
       "text": [
        "\n",
        "At t=1.90    max.norm(u) = 1.6782e-06  \n",
        "At t=2.00    max.norm(u) = 8.7991e-07  \n",
        "At t=2.10    max.norm(u) = 2.5863e-07  "
       ]
      },
      {
       "output_type": "stream",
       "stream": "stdout",
       "text": [
        "\n",
        "At t=2.20    max.norm(u) = 5.2759e-06  \n",
        "At t=2.30    max.norm(u) = 5.9937e-06  \n",
        "At t=2.40    max.norm(u) = 7.4282e-06  \n",
        "At t=2.50    max.norm(u) = 7.8035e-06  \n",
        "At t=2.60    max.norm(u) = 7.5690e-06  \n",
        "At t=2.70    max.norm(u) = 6.6433e-06  \n",
        "At t=2.80    max.norm(u) = 5.7177e-06  \n",
        "At t=2.90    max.norm(u) = 4.7544e-06  "
       ]
      },
      {
       "output_type": "stream",
       "stream": "stdout",
       "text": [
        "\n",
        "At t=3.00    max.norm(u) = 3.7569e-06  \n",
        "At t=3.10    max.norm(u) = 2.9713e-06  \n",
        "At t=3.20    max.norm(u) = 2.1858e-06  \n",
        "At t=3.30    max.norm(u) = 1.4760e-06  \n",
        "At t=3.40    max.norm(u) = 8.2575e-07  \n",
        "At t=3.50    max.norm(u) = 4.5717e-07  \n",
        "At t=3.60    max.norm(u) = 2.4905e-07  \n",
        "At t=3.70    max.norm(u) = 2.1393e-07  \n",
        "At t=3.80    max.norm(u) = 1.8102e-07  \n",
        "At t=3.90    max.norm(u) = 1.5881e-07  \n",
        "At t=4.00    max.norm(u) = 1.3659e-07  \n",
        "At t=4.10    max.norm(u) = 1.1438e-07  \n",
        "At t=4.20    max.norm(u) = 9.2162e-08  \n",
        "At t=4.30    max.norm(u) = 7.4600e-08  \n",
        "At t=4.40    max.norm(u) = 5.7426e-08  \n",
        "At t=4.50    max.norm(u) = 4.0252e-08  \n",
        "At t=4.60    max.norm(u) = 2.3078e-08  \n",
        "At t=4.70    max.norm(u) = 5.9044e-09  \n",
        "At t=4.80    max.norm(u) = -1.1270e-08 \n",
        "At t=4.90    max.norm(u) = -2.8444e-08 \n",
        "At t=5.00    max.norm(u) = -4.5618e-08 \n",
        "At t=5.10    max.norm(u) = -6.2792e-08 \n",
        "At t=5.20    max.norm(u) = -7.9966e-08 \n",
        "At t=5.30    max.norm(u) = -9.7140e-08 \n",
        "At t=5.40    max.norm(u) = -1.1431e-07 \n",
        "At t=5.50    max.norm(u) = -1.4742e-07 \n",
        "At t=5.60    max.norm(u) = -1.5140e-07 \n",
        "At t=5.70    max.norm(u) = -1.5538e-07 \n",
        "At t=5.80    max.norm(u) = -1.5936e-07 \n",
        "At t=5.90    max.norm(u) = -1.6334e-07 \n",
        "At t=6.00    max.norm(u) = -1.6732e-07 \n",
        "At t=6.10    max.norm(u) = -1.7130e-07 \n",
        "At t=6.20    max.norm(u) = -1.7528e-07 \n",
        "At t=6.30    max.norm(u) = -1.7926e-07 \n",
        "At t=6.40    max.norm(u) = -1.8324e-07 \n",
        "At t=6.50    max.norm(u) = -1.8722e-07 \n",
        "At t=6.60    max.norm(u) = -1.9120e-07 \n",
        "At t=6.70    max.norm(u) = -1.9518e-07 \n",
        "At t=6.80    max.norm(u) = -1.9916e-07 \n",
        "At t=6.90    max.norm(u) = -2.0314e-07 \n",
        "At t=7.00    max.norm(u) = -2.0711e-07 \n",
        "At t=7.10    max.norm(u) = -2.1109e-07 \n",
        "At t=7.20    max.norm(u) = -2.1507e-07 \n",
        "At t=7.30    max.norm(u) = -2.1905e-07 \n",
        "At t=7.40    max.norm(u) = -2.2303e-07 \n",
        "At t=7.50    max.norm(u) = -2.2701e-07 \n",
        "At t=7.60    max.norm(u) = -2.3099e-07 \n",
        "At t=7.70    max.norm(u) = -2.3497e-07 \n",
        "At t=7.80    max.norm(u) = -2.3895e-07 \n",
        "At t=7.90    max.norm(u) = -2.4293e-07 \n",
        "At t=8.00    max.norm(u) = -2.4691e-07 \n",
        "At t=8.10    max.norm(u) = -2.5089e-07 \n",
        "At t=8.20    max.norm(u) = -2.5487e-07 \n",
        "At t=8.30    max.norm(u) = -2.5885e-07 \n",
        "At t=8.40    max.norm(u) = -2.6291e-07 \n",
        "At t=8.50    max.norm(u) = -2.6698e-07 \n",
        "At t=8.60    max.norm(u) = -2.7105e-07 \n",
        "At t=8.70    max.norm(u) = -2.7513e-07 \n",
        "At t=8.80    max.norm(u) = -2.7920e-07 \n",
        "At t=8.90    max.norm(u) = -2.8327e-07 \n",
        "At t=9.00    max.norm(u) = -2.8734e-07 \n",
        "At t=9.10    max.norm(u) = -2.9142e-07 \n",
        "At t=9.20    max.norm(u) = -2.9549e-07 \n",
        "At t=9.30    max.norm(u) = -2.9956e-07 \n",
        "At t=9.40    max.norm(u) = -3.0363e-07 \n",
        "At t=9.50    max.norm(u) = -3.0771e-07 \n",
        "At t=9.60    max.norm(u) = -3.1178e-07 \n",
        "At t=9.70    max.norm(u) = -3.1585e-07 \n",
        "At t=9.80    max.norm(u) = -3.1992e-07 \n",
        "At t=9.90    max.norm(u) = -3.2399e-07 \n",
        "At t=10.00    max.norm(u) = -3.2807e-07 "
       ]
      },
      {
       "output_type": "stream",
       "stream": "stdout",
       "text": [
        "\n",
        "At t=10.10    max.norm(u) = -3.3214e-07 \n",
        "At t=10.20    max.norm(u) = -3.3621e-07 \n",
        "At t=10.30    max.norm(u) = -3.4028e-07 \n",
        "At t=10.40    max.norm(u) = -3.4436e-07 \n",
        "At t=10.50    max.norm(u) = -3.4843e-07 \n",
        "At t=10.60    max.norm(u) = -3.5250e-07 \n",
        "At t=10.70    max.norm(u) = -3.5657e-07 \n",
        "At t=10.80    max.norm(u) = -3.6065e-07 \n",
        "At t=10.90    max.norm(u) = -3.6472e-07 \n"
       ]
      }
     ],
     "prompt_number": 2
    },
    {
     "cell_type": "code",
     "collapsed": false,
     "input": [],
     "language": "python",
     "metadata": {},
     "outputs": []
    }
   ],
   "metadata": {}
  }
 ]
}